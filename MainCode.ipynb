{
 "cells": [
  {
   "cell_type": "code",
   "execution_count": 1,
   "id": "79e2bb3f-a2f3-4ccf-8ff4-611e4841666d",
   "metadata": {},
   "outputs": [],
   "source": [
    "using Plots, NLSolvers # define packages"
   ]
  },
  {
   "cell_type": "code",
   "execution_count": 29,
   "id": "f2834663-a186-4d59-ac0f-08a8e9d0736e",
   "metadata": {},
   "outputs": [
    {
     "ename": "LoadError",
     "evalue": "cannot declare Main.c constant; it already has a value",
     "output_type": "error",
     "traceback": [
      "cannot declare Main.c constant; it already has a value",
      "",
      "Stacktrace:",
      " [1] top-level scope",
      "   @ In[29]:1"
     ]
    }
   ],
   "source": [
    "\n",
    "\n",
    "v = 0.08;\n",
    "const L = 0.05;    # Total length (m)\n",
    "T = v/L;\n",
    "dt = 0.05;\n",
    "const N = 400; \n",
    "du = L/N;\n",
    "v2 = du/dt;\n",
    "# V is a function of x and t (matrix, x on the rows and t on the columns)\n",
    "# v = # propagation velocity\n",
    "# h = # impulse response function\n",
    "# S = sigmoid(V,c,Vr) # wave-pulse conversion function\n",
    "\n",
    "\n",
    "# r = # excitatory to inhibitory range ratio\n",
    "# Ie = connectivity_function(x,1)\n",
    "# Ii = connectivity_function(x,r)\n",
    "\n",
    "\n",
    "\n",
    "function integral_function(V_Value,eta,du)\n",
    "    l = length(Vrow);\n",
    "    a = 1/((eta^2)*du);\n",
    "    b = (1/eta)*(G(0.,c,Vr)+(G(du,c,Vr)-G(0.,c,Vr))/(eta*du));\n",
    "    K = correction_function(L,eta,du);\n",
    "    cc = zeros(1,l-2)\n",
    "    for i = 1:l-2\n",
    "        cc[i] = exp.(-eta.*Vrow[i+1]).*(sigmoid(Vrow[i+2],c,Vr)-2 .*sigmoid(Vrow[i+1],c,Vr).+sigmoid(Vrow[i],c,Vr));\n",
    "    end\n",
    "    summ = sum(cc)\n",
    "    return a.*b.*summ - K\n",
    "end\n",
    "function J(ae,ai,r)\n",
    "        return ae.*integral_function(Vrow,1,du) .- ai.*integral_function(Vrow,r,du)"
   ]
  },
  {
   "cell_type": "code",
   "execution_count": 8,
   "id": "09150e3e-eb54-4224-b822-9bd6591c1e8a",
   "metadata": {},
   "outputs": [
    {
     "data": {
      "text/plain": [
       "-2280.135633570372"
      ]
     },
     "metadata": {},
     "output_type": "display_data"
    }
   ],
   "source": [
    "## Turing Patterns ##\n",
    "\n",
    "Vrow = range(1,6,length=N+1);\n",
    "J = ae.*integral_function(Vrow,1,du) .- ai.*integral_function(Vrow,r,du)\n",
    "display(J)\n",
    "\n",
    "function connectivity_function(x,eta)  # if excitatory: eta = 1, a = ae\n",
    "    return eta.*exp.(-x.*eta)         # if inhibitory: eta = r, a = ai\n",
    "end"
   ]
  },
  {
   "cell_type": "code",
   "execution_count": 14,
   "id": "02b484bf-af8d-41ac-8b67-f811df5031f9",
   "metadata": {},
   "outputs": [],
   "source": [
    "## Waves ##\n",
    "re = 0.001;       # excitatory range (m)\n",
    "v = 0.16;         # propagation velocity (m/s)"
   ]
  },
  {
   "cell_type": "code",
   "execution_count": 15,
   "id": "347241f6-9a1a-41f2-90f5-a1ab3d5ef0bb",
   "metadata": {},
   "outputs": [],
   "source": [
    "## Homogeneous external stimuli\n",
    "muP0 = 2.5;       # external stimulus (constant)\n",
    "r = 2.8;          # ratio\n",
    "ri = re/r;        # inhibitory range (m)\n",
    "ai = 40.;         # excitatory strenght\n",
    "ae = 41.;         # inhibitory strenght"
   ]
  },
  {
   "cell_type": "code",
   "execution_count": 16,
   "id": "0573ab7f-3308-4209-a3a6-5578479944b6",
   "metadata": {},
   "outputs": [
    {
     "ename": "LoadError",
     "evalue": "cannot define function muP; it already has a value",
     "output_type": "error",
     "traceback": [
      "cannot define function muP; it already has a value",
      "",
      "Stacktrace:",
      " [1] top-level scope",
      "   @ none:0",
      " [2] top-level scope",
      "   @ In[16]:3"
     ]
    }
   ],
   "source": [
    "## Inhimogeneous external stimulation\n",
    "muP0 = 2.5;\n",
    "function muP(x,t)\n",
    "    return\n",
    "end\n",
    "ri = 0.0001;\n",
    "re = 0.001;\n",
    "r = re/ri;\n",
    "ai = 100.;\n",
    "ae = 101.;"
   ]
  },
  {
   "cell_type": "code",
   "execution_count": 19,
   "id": "7847e932-c45d-4f85-8a19-ccf173b7393b",
   "metadata": {},
   "outputs": [
    {
     "data": {
      "text/plain": [
       "201×401 Matrix{Float64}:\n",
       "    1.0       1.0125     1.025     1.0375  …     5.975     5.9875     6.0\n",
       " -227.064  -227.065   -227.066  -227.067      -227.561  -227.562   -227.564\n",
       " -386.708  -386.708   -386.708  -386.708      -386.658  -386.658   -386.658\n",
       " -498.459  -498.459   -498.459  -498.459      -498.464  -498.464   -498.464\n",
       " -576.685  -576.685   -576.685  -576.685      -576.685  -576.685   -576.685\n",
       " -631.443  -631.443   -631.443  -631.443   …  -631.443  -631.443   -631.443\n",
       " -669.774  -669.774   -669.774  -669.774      -669.774  -669.774   -669.774\n",
       " -696.605  -696.605   -696.605  -696.605      -696.605  -696.605   -696.605\n",
       " -715.387  -715.387   -715.387  -715.387      -715.387  -715.387   -715.387\n",
       " -728.535  -728.535   -728.535  -728.535      -728.535  -728.535   -728.535\n",
       " -737.738  -737.738   -737.738  -737.738   …  -737.738  -737.738   -737.738\n",
       " -744.18   -744.18    -744.18   -744.18       -744.18   -744.18    -744.18\n",
       " -748.69   -748.69    -748.69   -748.69       -748.69   -748.69    -748.69\n",
       "    ⋮                                      ⋱                          ⋮\n",
       " -759.212  -759.212   -759.212  -759.212      -759.212  -759.212   -759.212\n",
       " -759.212  -759.212   -759.212  -759.212   …  -759.212  -759.212   -759.212\n",
       " -759.212  -759.212   -759.212  -759.212      -759.212  -759.212   -759.212\n",
       " -759.212  -759.212   -759.212  -759.212      -759.212  -759.212   -759.212\n",
       " -759.212  -759.212   -759.212  -759.212      -759.212  -759.212   -759.212\n",
       " -759.212  -759.212   -759.212  -759.212      -759.212  -759.212   -759.212\n",
       " -759.212  -759.212   -759.212  -759.212   …  -759.212  -759.212   -759.212\n",
       " -759.212  -759.212   -759.212  -759.212      -759.212  -759.212   -759.212\n",
       " -759.212  -759.212   -759.212  -759.212      -759.212  -759.212   -759.212\n",
       " -759.212  -759.212   -759.212  -759.212      -759.212  -759.212   -759.212\n",
       " -759.212  -759.212   -759.212  -759.212      -759.212  -759.212   -759.212\n",
       " -759.212  -759.212   -759.212  -759.212   …  -759.212  -759.212   -759.212"
      ]
     },
     "metadata": {},
     "output_type": "display_data"
    }
   ],
   "source": [
    "\n",
    "V[1,:] = Vrow;\n",
    "epsilon = dt;\n",
    "for i = 1:length(t)-1\n",
    "    V[i+1,:] = V[i,:] .+ epsilon.*phi[i+1]\n",
    "    phi[i+1,:] = phi[i] .+ epsilon.*(-2 .*phi[i] .- V[i,:] .+ J .+ muP0)\n",
    "end\n",
    "\n",
    "display(V)"
   ]
  },
  {
   "cell_type": "code",
   "execution_count": 14,
   "id": "3ab35ce3-f41c-42ae-8019-5c3af5e302d8",
   "metadata": {},
   "outputs": [
    {
     "data": {
      "image/png": "[encoded data removed]",
      "image/svg+xml": [
       "<?xml version=\"1.0\" encoding=\"utf-8\"?>\n",
       "<svg xmlns=\"http://www.w3.org/2000/svg\" xmlns:xlink=\"http://www.w3.org/1999/xlink\" width=\"600\" height=\"400\" viewBox=\"0 0 2400 1600\">\n",
       "<defs>\n",
       "  <clipPath id=\"clip750\">\n",
       "    <rect x=\"0\" y=\"0\" width=\"2400\" height=\"1600\"/>\n",
       "  </clipPath>\n",
       "</defs>\n",
       "<path clip-path=\"url(#clip750)\" d=\"M0 1600 L2400 1600 L2400 0 L0 0  Z\" fill=\"#ffffff\" fill-rule=\"evenodd\" fill-opacity=\"1\"/>\n",
       "<defs>\n",
       "  <clipPath id=\"clip751\">\n",
       "    <rect x=\"480\" y=\"0\" width=\"1681\" height=\"1600\"/>\n",
       "  </clipPath>\n",
       "</defs>\n",
       "<path clip-path=\"url(#clip750)\" d=\"M201.019 1486.45 L2112.76 1486.45 L2112.76 47.2441 L201.019 47.2441  Z\" fill=\"#ffffff\" fill-rule=\"evenodd\" fill-opacity=\"1\"/>\n",
       "<defs>\n",
       "  <clipPath id=\"clip752\">\n",
       "    <rect x=\"201\" y=\"47\" width=\"1913\" height=\"1440\"/>\n",
       "  </clipPath>\n",
       "</defs>\n",
       "<polyline clip-path=\"url(#clip752)\" style=\"stroke:#000000; stroke-linecap:round; stroke-linejoin:round; stroke-width:2; stroke-opacity:0.1; fill:none\" points=\"675.378,1486.45 675.378,47.2441 \"/>\n",
       "<polyline clip-path=\"url(#clip752)\" style=\"stroke:#000000; stroke-linecap:round; stroke-linejoin:round; stroke-width:2; stroke-opacity:0.1; fill:none\" points=\"1152.12,1486.45 1152.12,47.2441 \"/>\n",
       "<polyline clip-path=\"url(#clip752)\" style=\"stroke:#000000; stroke-linecap:round; stroke-linejoin:round; stroke-width:2; stroke-opacity:0.1; fill:none\" points=\"1628.86,1486.45 1628.86,47.2441 \"/>\n",
       "<polyline clip-path=\"url(#clip752)\" style=\"stroke:#000000; stroke-linecap:round; stroke-linejoin:round; stroke-width:2; stroke-opacity:0.1; fill:none\" points=\"2105.6,1486.45 2105.6,47.2441 \"/>\n",
       "<polyline clip-path=\"url(#clip752)\" style=\"stroke:#000000; stroke-linecap:round; stroke-linejoin:round; stroke-width:2; stroke-opacity:0.1; fill:none\" points=\"201.019,1127.19 2112.76,1127.19 \"/>\n",
       "<polyline clip-path=\"url(#clip752)\" style=\"stroke:#000000; stroke-linecap:round; stroke-linejoin:round; stroke-width:2; stroke-opacity:0.1; fill:none\" points=\"201.019,767.565 2112.76,767.565 \"/>\n",
       "<polyline clip-path=\"url(#clip752)\" style=\"stroke:#000000; stroke-linecap:round; stroke-linejoin:round; stroke-width:2; stroke-opacity:0.1; fill:none\" points=\"201.019,407.944 2112.76,407.944 \"/>\n",
       "<polyline clip-path=\"url(#clip752)\" style=\"stroke:#000000; stroke-linecap:round; stroke-linejoin:round; stroke-width:2; stroke-opacity:0.1; fill:none\" points=\"201.019,48.323 2112.76,48.323 \"/>\n",
       "<polyline clip-path=\"url(#clip750)\" style=\"stroke:#000000; stroke-linecap:round; stroke-linejoin:round; stroke-width:4; stroke-opacity:1; fill:none\" points=\"201.019,1486.45 2112.76,1486.45 \"/>\n",
       "<polyline clip-path=\"url(#clip750)\" style=\"stroke:#000000; stroke-linecap:round; stroke-linejoin:round; stroke-width:4; stroke-opacity:1; fill:none\" points=\"675.378,1486.45 675.378,1467.55 \"/>\n",
       "<polyline clip-path=\"url(#clip750)\" style=\"stroke:#000000; stroke-linecap:round; stroke-linejoin:round; stroke-width:4; stroke-opacity:1; fill:none\" points=\"1152.12,1486.45 1152.12,1467.55 \"/>\n",
       "<polyline clip-path=\"url(#clip750)\" style=\"stroke:#000000; stroke-linecap:round; stroke-linejoin:round; stroke-width:4; stroke-opacity:1; fill:none\" points=\"1628.86,1486.45 1628.86,1467.55 \"/>\n",
       "<polyline clip-path=\"url(#clip750)\" style=\"stroke:#000000; stroke-linecap:round; stroke-linejoin:round; stroke-width:4; stroke-opacity:1; fill:none\" points=\"2105.6,1486.45 2105.6,1467.55 \"/>\n",
       "<path clip-path=\"url(#clip750)\" d=\"M634.985 1544.91 L642.623 1544.91 L642.623 1518.55 L634.313 1520.21 L634.313 1515.95 L642.577 1514.29 L647.253 1514.29 L647.253 1544.91 L654.892 1544.91 L654.892 1548.85 L634.985 1548.85 L634.985 1544.91 Z\" fill=\"#000000\" fill-rule=\"nonzero\" fill-opacity=\"1\" /><path clip-path=\"url(#clip750)\" d=\"M674.336 1517.37 Q670.725 1517.37 668.896 1520.93 Q667.091 1524.47 667.091 1531.6 Q667.091 1538.71 668.896 1542.27 Q670.725 1545.82 674.336 1545.82 Q677.97 1545.82 679.776 1542.27 Q681.605 1538.71 681.605 1531.6 Q681.605 1524.47 679.776 1520.93 Q677.97 1517.37 674.336 1517.37 M674.336 1513.66 Q680.146 1513.66 683.202 1518.27 Q686.281 1522.85 686.281 1531.6 Q686.281 1540.33 683.202 1544.94 Q680.146 1549.52 674.336 1549.52 Q668.526 1549.52 665.447 1544.94 Q662.392 1540.33 662.392 1531.6 Q662.392 1522.85 665.447 1518.27 Q668.526 1513.66 674.336 1513.66 Z\" fill=\"#000000\" fill-rule=\"nonzero\" fill-opacity=\"1\" /><path clip-path=\"url(#clip750)\" d=\"M704.498 1517.37 Q700.887 1517.37 699.058 1520.93 Q697.253 1524.47 697.253 1531.6 Q697.253 1538.71 699.058 1542.27 Q700.887 1545.82 704.498 1545.82 Q708.132 1545.82 709.938 1542.27 Q711.767 1538.71 711.767 1531.6 Q711.767 1524.47 709.938 1520.93 Q708.132 1517.37 704.498 1517.37 M704.498 1513.66 Q710.308 1513.66 713.364 1518.27 Q716.442 1522.85 716.442 1531.6 Q716.442 1540.33 713.364 1544.94 Q710.308 1549.52 704.498 1549.52 Q698.688 1549.52 695.609 1544.94 Q692.554 1540.33 692.554 1531.6 Q692.554 1522.85 695.609 1518.27 Q698.688 1513.66 704.498 1513.66 Z\" fill=\"#000000\" fill-rule=\"nonzero\" fill-opacity=\"1\" /><path clip-path=\"url(#clip750)\" d=\"M1115.81 1544.91 L1132.13 1544.91 L1132.13 1548.85 L1110.19 1548.85 L1110.19 1544.91 Q1112.85 1542.16 1117.43 1537.53 Q1122.04 1532.88 1123.22 1531.53 Q1125.47 1529.01 1126.34 1527.27 Q1127.25 1525.51 1127.25 1523.82 Q1127.25 1521.07 1125.3 1519.33 Q1123.38 1517.6 1120.28 1517.6 Q1118.08 1517.6 1115.63 1518.36 Q1113.2 1519.13 1110.42 1520.68 L1110.42 1515.95 Q1113.24 1514.82 1115.7 1514.24 Q1118.15 1513.66 1120.19 1513.66 Q1125.56 1513.66 1128.75 1516.35 Q1131.95 1519.03 1131.95 1523.52 Q1131.95 1525.65 1131.14 1527.57 Q1130.35 1529.47 1128.24 1532.07 Q1127.66 1532.74 1124.56 1535.95 Q1121.46 1539.15 1115.81 1544.91 Z\" fill=\"#000000\" fill-rule=\"nonzero\" fill-opacity=\"1\" /><path clip-path=\"url(#clip750)\" d=\"M1151.95 1517.37 Q1148.34 1517.37 1146.51 1520.93 Q1144.7 1524.47 1144.7 1531.6 Q1144.7 1538.71 1146.51 1542.27 Q1148.34 1545.82 1151.95 1545.82 Q1155.58 1545.82 1157.39 1542.27 Q1159.22 1538.71 1159.22 1531.6 Q1159.22 1524.47 1157.39 1520.93 Q1155.58 1517.37 1151.95 1517.37 M1151.95 1513.66 Q1157.76 1513.66 1160.81 1518.27 Q1163.89 1522.85 1163.89 1531.6 Q1163.89 1540.33 1160.81 1544.94 Q1157.76 1549.52 1151.95 1549.52 Q1146.14 1549.52 1143.06 1544.94 Q1140 1540.33 1140 1531.6 Q1140 1522.85 1143.06 1518.27 Q1146.14 1513.66 1151.95 1513.66 Z\" fill=\"#000000\" fill-rule=\"nonzero\" fill-opacity=\"1\" /><path clip-path=\"url(#clip750)\" d=\"M1182.11 1517.37 Q1178.5 1517.37 1176.67 1520.93 Q1174.86 1524.47 1174.86 1531.6 Q1174.86 1538.71 1176.67 1542.27 Q1178.5 1545.82 1182.11 1545.82 Q1185.74 1545.82 1187.55 1542.27 Q1189.38 1538.71 1189.38 1531.6 Q1189.38 1524.47 1187.55 1520.93 Q1185.74 1517.37 1182.11 1517.37 M1182.11 1513.66 Q1187.92 1513.66 1190.97 1518.27 Q1194.05 1522.85 1194.05 1531.6 Q1194.05 1540.33 1190.97 1544.94 Q1187.92 1549.52 1182.11 1549.52 Q1176.3 1549.52 1173.22 1544.94 Q1170.16 1540.33 1170.16 1531.6 Q1170.16 1522.85 1173.22 1518.27 Q1176.3 1513.66 1182.11 1513.66 Z\" fill=\"#000000\" fill-rule=\"nonzero\" fill-opacity=\"1\" /><path clip-path=\"url(#clip750)\" d=\"M1602.62 1530.21 Q1605.98 1530.93 1607.86 1533.2 Q1609.75 1535.47 1609.75 1538.8 Q1609.75 1543.92 1606.24 1546.72 Q1602.72 1549.52 1596.24 1549.52 Q1594.06 1549.52 1591.74 1549.08 Q1589.45 1548.66 1587 1547.81 L1587 1543.29 Q1588.94 1544.43 1591.26 1545.01 Q1593.57 1545.58 1596.1 1545.58 Q1600.49 1545.58 1602.79 1543.85 Q1605.1 1542.11 1605.1 1538.8 Q1605.1 1535.75 1602.95 1534.03 Q1600.82 1532.3 1597 1532.3 L1592.97 1532.3 L1592.97 1528.45 L1597.18 1528.45 Q1600.63 1528.45 1602.46 1527.09 Q1604.29 1525.7 1604.29 1523.11 Q1604.29 1520.45 1602.39 1519.03 Q1600.52 1517.6 1597 1517.6 Q1595.08 1517.6 1592.88 1518.01 Q1590.68 1518.43 1588.04 1519.31 L1588.04 1515.14 Q1590.7 1514.4 1593.02 1514.03 Q1595.36 1513.66 1597.42 1513.66 Q1602.74 1513.66 1605.84 1516.09 Q1608.94 1518.5 1608.94 1522.62 Q1608.94 1525.49 1607.3 1527.48 Q1605.66 1529.45 1602.62 1530.21 Z\" fill=\"#000000\" fill-rule=\"nonzero\" fill-opacity=\"1\" /><path clip-path=\"url(#clip750)\" d=\"M1628.62 1517.37 Q1625.01 1517.37 1623.18 1520.93 Q1621.37 1524.47 1621.37 1531.6 Q1621.37 1538.71 1623.18 1542.27 Q1625.01 1545.82 1628.62 1545.82 Q1632.25 1545.82 1634.06 1542.27 Q1635.89 1538.71 1635.89 1531.6 Q1635.89 1524.47 1634.06 1520.93 Q1632.25 1517.37 1628.62 1517.37 M1628.62 1513.66 Q1634.43 1513.66 1637.49 1518.27 Q1640.56 1522.85 1640.56 1531.6 Q1640.56 1540.33 1637.49 1544.94 Q1634.43 1549.52 1628.62 1549.52 Q1622.81 1549.52 1619.73 1544.94 Q1616.68 1540.33 1616.68 1531.6 Q1616.68 1522.85 1619.73 1518.27 Q1622.81 1513.66 1628.62 1513.66 Z\" fill=\"#000000\" fill-rule=\"nonzero\" fill-opacity=\"1\" /><path clip-path=\"url(#clip750)\" d=\"M1658.78 1517.37 Q1655.17 1517.37 1653.34 1520.93 Q1651.54 1524.47 1651.54 1531.6 Q1651.54 1538.71 1653.34 1542.27 Q1655.17 1545.82 1658.78 1545.82 Q1662.42 1545.82 1664.22 1542.27 Q1666.05 1538.71 1666.05 1531.6 Q1666.05 1524.47 1664.22 1520.93 Q1662.42 1517.37 1658.78 1517.37 M1658.78 1513.66 Q1664.59 1513.66 1667.65 1518.27 Q1670.73 1522.85 1670.73 1531.6 Q1670.73 1540.33 1667.65 1544.94 Q1664.59 1549.52 1658.78 1549.52 Q1652.97 1549.52 1649.89 1544.94 Q1646.84 1540.33 1646.84 1531.6 Q1646.84 1522.85 1649.89 1518.27 Q1652.97 1513.66 1658.78 1513.66 Z\" fill=\"#000000\" fill-rule=\"nonzero\" fill-opacity=\"1\" /><path clip-path=\"url(#clip750)\" d=\"M2078.7 1518.36 L2066.89 1536.81 L2078.7 1536.81 L2078.7 1518.36 M2077.47 1514.29 L2083.35 1514.29 L2083.35 1536.81 L2088.28 1536.81 L2088.28 1540.7 L2083.35 1540.7 L2083.35 1548.85 L2078.7 1548.85 L2078.7 1540.7 L2063.09 1540.7 L2063.09 1536.19 L2077.47 1514.29 Z\" fill=\"#000000\" fill-rule=\"nonzero\" fill-opacity=\"1\" /><path clip-path=\"url(#clip750)\" d=\"M2106.01 1517.37 Q2102.4 1517.37 2100.57 1520.93 Q2098.76 1524.47 2098.76 1531.6 Q2098.76 1538.71 2100.57 1542.27 Q2102.4 1545.82 2106.01 1545.82 Q2109.64 1545.82 2111.45 1542.27 Q2113.28 1538.71 2113.28 1531.6 Q2113.28 1524.47 2111.45 1520.93 Q2109.64 1517.37 2106.01 1517.37 M2106.01 1513.66 Q2111.82 1513.66 2114.88 1518.27 Q2117.95 1522.85 2117.95 1531.6 Q2117.95 1540.33 2114.88 1544.94 Q2111.82 1549.52 2106.01 1549.52 Q2100.2 1549.52 2097.12 1544.94 Q2094.07 1540.33 2094.07 1531.6 Q2094.07 1522.85 2097.12 1518.27 Q2100.2 1513.66 2106.01 1513.66 Z\" fill=\"#000000\" fill-rule=\"nonzero\" fill-opacity=\"1\" /><path clip-path=\"url(#clip750)\" d=\"M2136.17 1517.37 Q2132.56 1517.37 2130.73 1520.93 Q2128.93 1524.47 2128.93 1531.6 Q2128.93 1538.71 2130.73 1542.27 Q2132.56 1545.82 2136.17 1545.82 Q2139.81 1545.82 2141.61 1542.27 Q2143.44 1538.71 2143.44 1531.6 Q2143.44 1524.47 2141.61 1520.93 Q2139.81 1517.37 2136.17 1517.37 M2136.17 1513.66 Q2141.98 1513.66 2145.04 1518.27 Q2148.12 1522.85 2148.12 1531.6 Q2148.12 1540.33 2145.04 1544.94 Q2141.98 1549.52 2136.17 1549.52 Q2130.36 1549.52 2127.28 1544.94 Q2124.23 1540.33 2124.23 1531.6 Q2124.23 1522.85 2127.28 1518.27 Q2130.36 1513.66 2136.17 1513.66 Z\" fill=\"#000000\" fill-rule=\"nonzero\" fill-opacity=\"1\" /><polyline clip-path=\"url(#clip750)\" style=\"stroke:#000000; stroke-linecap:round; stroke-linejoin:round; stroke-width:4; stroke-opacity:1; fill:none\" points=\"201.019,1486.45 201.019,47.2441 \"/>\n",
       "<polyline clip-path=\"url(#clip750)\" style=\"stroke:#000000; stroke-linecap:round; stroke-linejoin:round; stroke-width:4; stroke-opacity:1; fill:none\" points=\"201.019,1127.19 217.809,1127.19 \"/>\n",
       "<polyline clip-path=\"url(#clip750)\" style=\"stroke:#000000; stroke-linecap:round; stroke-linejoin:round; stroke-width:4; stroke-opacity:1; fill:none\" points=\"201.019,767.565 217.809,767.565 \"/>\n",
       "<polyline clip-path=\"url(#clip750)\" style=\"stroke:#000000; stroke-linecap:round; stroke-linejoin:round; stroke-width:4; stroke-opacity:1; fill:none\" points=\"201.019,407.944 217.809,407.944 \"/>\n",
       "<polyline clip-path=\"url(#clip750)\" style=\"stroke:#000000; stroke-linecap:round; stroke-linejoin:round; stroke-width:4; stroke-opacity:1; fill:none\" points=\"201.019,48.323 217.809,48.323 \"/>\n",
       "<path clip-path=\"url(#clip750)\" d=\"M82.7975 1109.91 L101.154 1109.91 L101.154 1113.84 L87.0799 1113.84 L87.0799 1122.31 Q88.0984 1121.97 89.1169 1121.8 Q90.1354 1121.62 91.1539 1121.62 Q96.941 1121.62 100.321 1124.79 Q103.7 1127.96 103.7 1133.38 Q103.7 1138.96 100.228 1142.06 Q96.7558 1145.14 90.4364 1145.14 Q88.2604 1145.14 85.9919 1144.77 Q83.7466 1144.4 81.3392 1143.66 L81.3392 1138.96 Q83.4225 1140.09 85.6447 1140.65 Q87.8669 1141.2 90.3438 1141.2 Q94.3484 1141.2 96.6863 1139.1 Q99.0243 1136.99 99.0243 1133.38 Q99.0243 1129.77 96.6863 1127.66 Q94.3484 1125.55 90.3438 1125.55 Q88.4688 1125.55 86.5938 1125.97 Q84.7419 1126.39 82.7975 1127.27 L82.7975 1109.91 Z\" fill=\"#000000\" fill-rule=\"nonzero\" fill-opacity=\"1\" /><path clip-path=\"url(#clip750)\" d=\"M122.913 1112.99 Q119.302 1112.99 117.473 1116.55 Q115.668 1120.09 115.668 1127.22 Q115.668 1134.33 117.473 1137.89 Q119.302 1141.43 122.913 1141.43 Q126.547 1141.43 128.353 1137.89 Q130.182 1134.33 130.182 1127.22 Q130.182 1120.09 128.353 1116.55 Q126.547 1112.99 122.913 1112.99 M122.913 1109.28 Q128.723 1109.28 131.779 1113.89 Q134.857 1118.47 134.857 1127.22 Q134.857 1135.95 131.779 1140.55 Q128.723 1145.14 122.913 1145.14 Q117.103 1145.14 114.024 1140.55 Q110.969 1135.95 110.969 1127.22 Q110.969 1118.47 114.024 1113.89 Q117.103 1109.28 122.913 1109.28 Z\" fill=\"#000000\" fill-rule=\"nonzero\" fill-opacity=\"1\" /><path clip-path=\"url(#clip750)\" d=\"M153.075 1112.99 Q149.464 1112.99 147.635 1116.55 Q145.83 1120.09 145.83 1127.22 Q145.83 1134.33 147.635 1137.89 Q149.464 1141.43 153.075 1141.43 Q156.709 1141.43 158.515 1137.89 Q160.343 1134.33 160.343 1127.22 Q160.343 1120.09 158.515 1116.55 Q156.709 1112.99 153.075 1112.99 M153.075 1109.28 Q158.885 1109.28 161.941 1113.89 Q165.019 1118.47 165.019 1127.22 Q165.019 1135.95 161.941 1140.55 Q158.885 1145.14 153.075 1145.14 Q147.265 1145.14 144.186 1140.55 Q141.131 1135.95 141.131 1127.22 Q141.131 1118.47 144.186 1113.89 Q147.265 1109.28 153.075 1109.28 Z\" fill=\"#000000\" fill-rule=\"nonzero\" fill-opacity=\"1\" /><path clip-path=\"url(#clip750)\" d=\"M53.3995 780.91 L61.0384 780.91 L61.0384 754.544 L52.7282 756.211 L52.7282 751.952 L60.9921 750.285 L65.668 750.285 L65.668 780.91 L73.3068 780.91 L73.3068 784.845 L53.3995 784.845 L53.3995 780.91 Z\" fill=\"#000000\" fill-rule=\"nonzero\" fill-opacity=\"1\" /><path clip-path=\"url(#clip750)\" d=\"M92.7512 753.364 Q89.1401 753.364 87.3114 756.929 Q85.5058 760.47 85.5058 767.6 Q85.5058 774.706 87.3114 778.271 Q89.1401 781.813 92.7512 781.813 Q96.3854 781.813 98.1909 778.271 Q100.02 774.706 100.02 767.6 Q100.02 760.47 98.1909 756.929 Q96.3854 753.364 92.7512 753.364 M92.7512 749.66 Q98.5613 749.66 101.617 754.267 Q104.696 758.85 104.696 767.6 Q104.696 776.327 101.617 780.933 Q98.5613 785.517 92.7512 785.517 Q86.941 785.517 83.8623 780.933 Q80.8068 776.327 80.8068 767.6 Q80.8068 758.85 83.8623 754.267 Q86.941 749.66 92.7512 749.66 Z\" fill=\"#000000\" fill-rule=\"nonzero\" fill-opacity=\"1\" /><path clip-path=\"url(#clip750)\" d=\"M122.913 753.364 Q119.302 753.364 117.473 756.929 Q115.668 760.47 115.668 767.6 Q115.668 774.706 117.473 778.271 Q119.302 781.813 122.913 781.813 Q126.547 781.813 128.353 778.271 Q130.182 774.706 130.182 767.6 Q130.182 760.47 128.353 756.929 Q126.547 753.364 122.913 753.364 M122.913 749.66 Q128.723 749.66 131.779 754.267 Q134.857 758.85 134.857 767.6 Q134.857 776.327 131.779 780.933 Q128.723 785.517 122.913 785.517 Q117.103 785.517 114.024 780.933 Q110.969 776.327 110.969 767.6 Q110.969 758.85 114.024 754.267 Q117.103 749.66 122.913 749.66 Z\" fill=\"#000000\" fill-rule=\"nonzero\" fill-opacity=\"1\" /><path clip-path=\"url(#clip750)\" d=\"M153.075 753.364 Q149.464 753.364 147.635 756.929 Q145.83 760.47 145.83 767.6 Q145.83 774.706 147.635 778.271 Q149.464 781.813 153.075 781.813 Q156.709 781.813 158.515 778.271 Q160.343 774.706 160.343 767.6 Q160.343 760.47 158.515 756.929 Q156.709 753.364 153.075 753.364 M153.075 749.66 Q158.885 749.66 161.941 754.267 Q165.019 758.85 165.019 767.6 Q165.019 776.327 161.941 780.933 Q158.885 785.517 153.075 785.517 Q147.265 785.517 144.186 780.933 Q141.131 776.327 141.131 767.6 Q141.131 758.85 144.186 754.267 Q147.265 749.66 153.075 749.66 Z\" fill=\"#000000\" fill-rule=\"nonzero\" fill-opacity=\"1\" /><path clip-path=\"url(#clip750)\" d=\"M53.3995 421.289 L61.0384 421.289 L61.0384 394.923 L52.7282 396.59 L52.7282 392.331 L60.9921 390.664 L65.668 390.664 L65.668 421.289 L73.3068 421.289 L73.3068 425.224 L53.3995 425.224 L53.3995 421.289 Z\" fill=\"#000000\" fill-rule=\"nonzero\" fill-opacity=\"1\" /><path clip-path=\"url(#clip750)\" d=\"M82.7975 390.664 L101.154 390.664 L101.154 394.599 L87.0799 394.599 L87.0799 403.071 Q88.0984 402.724 89.1169 402.562 Q90.1354 402.377 91.1539 402.377 Q96.941 402.377 100.321 405.548 Q103.7 408.72 103.7 414.136 Q103.7 419.715 100.228 422.817 Q96.7558 425.895 90.4364 425.895 Q88.2604 425.895 85.9919 425.525 Q83.7466 425.155 81.3392 424.414 L81.3392 419.715 Q83.4225 420.849 85.6447 421.405 Q87.8669 421.96 90.3438 421.96 Q94.3484 421.96 96.6863 419.854 Q99.0243 417.747 99.0243 414.136 Q99.0243 410.525 96.6863 408.419 Q94.3484 406.312 90.3438 406.312 Q88.4688 406.312 86.5938 406.729 Q84.7419 407.145 82.7975 408.025 L82.7975 390.664 Z\" fill=\"#000000\" fill-rule=\"nonzero\" fill-opacity=\"1\" /><path clip-path=\"url(#clip750)\" d=\"M122.913 393.743 Q119.302 393.743 117.473 397.308 Q115.668 400.849 115.668 407.979 Q115.668 415.085 117.473 418.65 Q119.302 422.192 122.913 422.192 Q126.547 422.192 128.353 418.65 Q130.182 415.085 130.182 407.979 Q130.182 400.849 128.353 397.308 Q126.547 393.743 122.913 393.743 M122.913 390.039 Q128.723 390.039 131.779 394.646 Q134.857 399.229 134.857 407.979 Q134.857 416.706 131.779 421.312 Q128.723 425.895 122.913 425.895 Q117.103 425.895 114.024 421.312 Q110.969 416.706 110.969 407.979 Q110.969 399.229 114.024 394.646 Q117.103 390.039 122.913 390.039 Z\" fill=\"#000000\" fill-rule=\"nonzero\" fill-opacity=\"1\" /><path clip-path=\"url(#clip750)\" d=\"M153.075 393.743 Q149.464 393.743 147.635 397.308 Q145.83 400.849 145.83 407.979 Q145.83 415.085 147.635 418.65 Q149.464 422.192 153.075 422.192 Q156.709 422.192 158.515 418.65 Q160.343 415.085 160.343 407.979 Q160.343 400.849 158.515 397.308 Q156.709 393.743 153.075 393.743 M153.075 390.039 Q158.885 390.039 161.941 394.646 Q165.019 399.229 165.019 407.979 Q165.019 416.706 161.941 421.312 Q158.885 425.895 153.075 425.895 Q147.265 425.895 144.186 421.312 Q141.131 416.706 141.131 407.979 Q141.131 399.229 144.186 394.646 Q147.265 390.039 153.075 390.039 Z\" fill=\"#000000\" fill-rule=\"nonzero\" fill-opacity=\"1\" /><path clip-path=\"url(#clip750)\" d=\"M56.6171 61.6678 L72.9365 61.6678 L72.9365 65.603 L50.9921 65.603 L50.9921 61.6678 Q53.6541 58.9132 58.2375 54.2836 Q62.8439 49.6308 64.0245 48.2882 Q66.2698 45.7651 67.1494 44.029 Q68.0522 42.2697 68.0522 40.5799 Q68.0522 37.8253 66.1078 36.0892 Q64.1865 34.3531 61.0847 34.3531 Q58.8856 34.3531 56.4319 35.117 Q54.0014 35.8809 51.2236 37.4318 L51.2236 32.7096 Q54.0477 31.5754 56.5014 30.9967 Q58.955 30.418 60.9921 30.418 Q66.3624 30.418 69.5568 33.1031 Q72.7513 35.7883 72.7513 40.279 Q72.7513 42.4086 71.9411 44.3299 Q71.1541 46.2281 69.0476 48.8206 Q68.4689 49.4919 65.367 52.7095 Q62.2652 55.9039 56.6171 61.6678 Z\" fill=\"#000000\" fill-rule=\"nonzero\" fill-opacity=\"1\" /><path clip-path=\"url(#clip750)\" d=\"M92.7512 34.1216 Q89.1401 34.1216 87.3114 37.6864 Q85.5058 41.2281 85.5058 48.3577 Q85.5058 55.4641 87.3114 59.0289 Q89.1401 62.5706 92.7512 62.5706 Q96.3854 62.5706 98.1909 59.0289 Q100.02 55.4641 100.02 48.3577 Q100.02 41.2281 98.1909 37.6864 Q96.3854 34.1216 92.7512 34.1216 M92.7512 30.418 Q98.5613 30.418 101.617 35.0244 Q104.696 39.6077 104.696 48.3577 Q104.696 57.0845 101.617 61.6909 Q98.5613 66.2743 92.7512 66.2743 Q86.941 66.2743 83.8623 61.6909 Q80.8068 57.0845 80.8068 48.3577 Q80.8068 39.6077 83.8623 35.0244 Q86.941 30.418 92.7512 30.418 Z\" fill=\"#000000\" fill-rule=\"nonzero\" fill-opacity=\"1\" /><path clip-path=\"url(#clip750)\" d=\"M122.913 34.1216 Q119.302 34.1216 117.473 37.6864 Q115.668 41.2281 115.668 48.3577 Q115.668 55.4641 117.473 59.0289 Q119.302 62.5706 122.913 62.5706 Q126.547 62.5706 128.353 59.0289 Q130.182 55.4641 130.182 48.3577 Q130.182 41.2281 128.353 37.6864 Q126.547 34.1216 122.913 34.1216 M122.913 30.418 Q128.723 30.418 131.779 35.0244 Q134.857 39.6077 134.857 48.3577 Q134.857 57.0845 131.779 61.6909 Q128.723 66.2743 122.913 66.2743 Q117.103 66.2743 114.024 61.6909 Q110.969 57.0845 110.969 48.3577 Q110.969 39.6077 114.024 35.0244 Q117.103 30.418 122.913 30.418 Z\" fill=\"#000000\" fill-rule=\"nonzero\" fill-opacity=\"1\" /><path clip-path=\"url(#clip750)\" d=\"M153.075 34.1216 Q149.464 34.1216 147.635 37.6864 Q145.83 41.2281 145.83 48.3577 Q145.83 55.4641 147.635 59.0289 Q149.464 62.5706 153.075 62.5706 Q156.709 62.5706 158.515 59.0289 Q160.343 55.4641 160.343 48.3577 Q160.343 41.2281 158.515 37.6864 Q156.709 34.1216 153.075 34.1216 M153.075 30.418 Q158.885 30.418 161.941 35.0244 Q165.019 39.6077 165.019 48.3577 Q165.019 57.0845 161.941 61.6909 Q158.885 66.2743 153.075 66.2743 Q147.265 66.2743 144.186 61.6909 Q141.131 57.0845 141.131 48.3577 Q141.131 39.6077 144.186 35.0244 Q147.265 30.418 153.075 30.418 Z\" fill=\"#000000\" fill-rule=\"nonzero\" fill-opacity=\"1\" /><g clip-path=\"url(#clip752)\">\n",
       "<image width=\"1912\" height=\"1439\" xlink:href=\"data:image/png;base64,\n",
       "iVBORw0KGgoAAAANSUhEUgAAB3gAAAWfCAYAAABJJifMAAAgAElEQVR4nOzZwQ2AMBDAsKNi/5Vh\n",
       "hf7aSPYE+eeZeb8BAAAAAAAA4HrrdAAAAAAAAAAAewxeAAAAAAAAgAiDFwAAAAAAACDC4AUAAAAA\n",
       "AACIMHgBAAAAAAAAIgxeAAAAAAAAgAiDFwAAAAAAACDC4AUAAAAAAACIMHgBAAAAAAAAIgxeAAAA\n",
       "AAAAgAiDFwAAAAAAACDC4AUAAAAAAACIMHgBAAAAAAAAIgxeAAAAAAAAgAiDFwAAAAAAACDC4AUA\n",
       "AAAAAACIMHgBAAAAAAAAIgxeAAAAAAAAgAiDFwAAAAAAACDC4AUAAAAAAACIMHgBAAAAAAAAIgxe\n",
       "AAAAAAAAgAiDFwAAAAAAACDC4AUAAAAAAACIMHgBAAAAAAAAIgxeAAAAAAAAgAiDFwAAAAAAACDC\n",
       "4AUAAAAAAACIMHgBAAAAAAAAIgxeAAAAAAAAgAiDFwAAAAAAACDC4AUAAAAAAACIMHgBAAAAAAAA\n",
       "IgxeAAAAAAAAgAiDFwAAAAAAACDC4AUAAAAAAACIMHgBAAAAAAAAIgxeAAAAAAAAgAiDFwAAAAAA\n",
       "ACDC4AUAAAAAAACIMHgBAAAAAAAAIgxeAAAAAAAAgAiDFwAAAAAAACDC4AUAAAAAAACIMHgBAAAA\n",
       "AAAAIgxeAAAAAAAAgAiDFwAAAAAAACDC4AUAAAAAAACIMHgBAAAAAAAAIgxeAAAAAAAAgAiDFwAA\n",
       "AAAAACDC4AUAAAAAAACIMHgBAAAAAAAAIgxeAAAAAAAAgAiDFwAAAAAAACDC4AUAAAAAAACIMHgB\n",
       "AAAAAAAAIgxeAAAAAAAAgAiDFwAAAAAAACDC4AUAAAAAAACIMHgBAAAAAAAAIgxeAAAAAAAAgAiD\n",
       "FwAAAAAAACDC4AUAAAAAAACIMHgBAAAAAAAAIgxeAAAAAAAAgAiDFwAAAAAAACDC4AUAAAAAAACI\n",
       "MHgBAAAAAAAAIgxeAAAAAAAAgAiDFwAAAAAAACDC4AUAAAAAAACIMHgBAAAAAAAAIgxeAAAAAAAA\n",
       "gAiDFwAAAAAAACDC4AUAAAAAAACIMHgBAAAAAAAAIgxeAAAAAAAAgAiDFwAAAAAAACDC4AUAAAAA\n",
       "AACIMHgBAAAAAAAAIgxeAAAAAAAAgAiDFwAAAAAAACDC4AUAAAAAAACIMHgBAAAAAAAAIgxeAAAA\n",
       "AAAAgAiDFwAAAAAAACDC4AUAAAAAAACIMHgBAAAAAAAAIgxeAAAAAAAAgAiDFwAAAAAAACDC4AUA\n",
       "AAAAAACIMHgBAAAAAAAAIgxeAAAAAAAAgAiDFwAAAAAAACDC4AUAAAAAAACIMHgBAAAAAAAAIgxe\n",
       "AAAAAAAAgAiDFwAAAAAAACDC4AUAAAAAAACIMHgBAAAAAAAAIgxeAAAAAAAAgAiDFwAAAAAAACDC\n",
       "4AUAAAAAAACIMHgBAAAAAAAAIgxeAAAAAAAAgAiDFwAAAAAAACDC4AUAAAAAAACIMHgBAAAAAAAA\n",
       "IgxeAAAAAAAAgAiDFwAAAAAAACDC4AUAAAAAAACIMHgBAAAAAAAAIgxeAAAAAAAAgAiDFwAAAAAA\n",
       "ACDC4AUAAAAAAACIMHgBAAAAAAAAIgxeAAAAAAAAgAiDFwAAAAAAACDC4AUAAAAAAACIMHgBAAAA\n",
       "AAAAIgxeAAAAAAAAgAiDFwAAAAAAACDC4AUAAAAAAACIMHgBAAAAAAAAIgxeAAAAAAAAgAiDFwAA\n",
       "AAAAACDC4AUAAAAAAACIMHgBAAAAAAAAIgxeAAAAAAAAgAiDFwAAAAAAACDC4AUAAAAAAACIMHgB\n",
       "AAAAAAAAIgxeAAAAAAAAgAiDFwAAAAAAACDC4AUAAAAAAACIMHgBAAAAAAAAIgxeAAAAAAAAgAiD\n",
       "FwAAAAAAACDC4AUAAAAAAACIMHgBAAAAAAAAIgxeAAAAAAAAgAiDFwAAAAAAACDC4AUAAAAAAACI\n",
       "MHgBAAAAAAAAIgxeAAAAAAAAgAiDFwAAAAAAACDC4AUAAAAAAACIMHgBAAAAAAAAIgxeAAAAAAAA\n",
       "gAiDFwAAAAAAACDC4AUAAAAAAACIMHgBAAAAAAAAIgxeAAAAAAAAgAiDFwAAAAAAACDC4AUAAAAA\n",
       "AACIMHgBAAAAAAAAIgxeAAAAAAAAgAiDFwAAAAAAACDC4AUAAAAAAACIMHgBAAAAAAAAIgxeAAAA\n",
       "AAAAgAiDFwAAAAAAACDC4AUAAAAAAACIMHgBAAAAAAAAIgxeAAAAAAAAgAiDFwAAAAAAACDC4AUA\n",
       "AAAAAACIMHgBAAAAAAAAIgxeAAAAAAAAgAiDFwAAAAAAACDC4AUAAAAAAACIMHgBAAAAAAAAIgxe\n",
       "AAAAAAAAgAiDFwAAAAAAACDC4AUAAAAAAACIMHgBAAAAAAAAIgxeAAAAAAAAgAiDFwAAAAAAACDC\n",
       "4AUAAAAAAACIMHgBAAAAAAAAIgxeAAAAAAAAgAiDFwAAAAAAACDC4AUAAAAAAACIMHgBAAAAAAAA\n",
       "IgxeAAAAAAAAgAiDFwAAAAAAACDC4AUAAAAAAACIMHgBAAAAAAAAIgxeAAAAAAAAgAiDFwAAAAAA\n",
       "ACDC4AUAAAAAAACIMHgBAAAAAAAAIgxeAAAAAAAAgAiDFwAAAAAAACDC4AUAAAAAAACIMHgBAAAA\n",
       "AAAAIgxeAAAAAAAAgAiDFwAAAAAAACDC4AUAAAAAAACIMHgBAAAAAAAAIgxeAAAAAAAAgAiDFwAA\n",
       "AAAAACDC4AUAAAAAAACIMHgBAAAAAAAAIgxeAAAAAAAAgAiDFwAAAAAAACDC4AUAAAAAAACIMHgB\n",
       "AAAAAAAAIgxeAAAAAAAAgAiDFwAAAAAAACDC4AUAAAAAAACIMHgBAAAAAAAAIgxeAAAAAAAAgAiD\n",
       "FwAAAAAAACDC4AUAAAAAAACIMHgBAAAAAAAAIgxeAAAAAAAAgAiDFwAAAAAAACDC4AUAAAAAAACI\n",
       "MHgBAAAAAAAAIgxeAAAAAAAAgAiDFwAAAAAAACDC4AUAAAAAAACIMHgBAAAAAAAAIgxeAAAAAAAA\n",
       "gAiDFwAAAAAAACDC4AUAAAAAAACIMHgBAAAAAAAAIgxeAAAAAAAAgAiDFwAAAAAAACDC4AUAAAAA\n",
       "AACIMHgBAAAAAAAAIgxeAAAAAAAAgAiDFwAAAAAAACDC4AUAAAAAAACIMHgBAAAAAAAAIgxeAAAA\n",
       "AAAAgAiDFwAAAAAAACDC4AUAAAAAAACIMHgBAAAAAAAAIgxeAAAAAAAAgAiDFwAAAAAAACDC4AUA\n",
       "AAAAAACIMHgBAAAAAAAAIgxeAAAAAAAAgAiDFwAAAAAAACDC4AUAAAAAAACIMHgBAAAAAAAAIgxe\n",
       "AAAAAAAAgAiDFwAAAAAAACDC4AUAAAAAAACIMHgBAAAAAAAAIgxeAAAAAAAAgAiDFwAAAAAAACDC\n",
       "4AUAAAAAAACIMHgBAAAAAAAAIgxeAAAAAAAAgAiDFwAAAAAAACDC4AUAAAAAAACIMHgBAAAAAAAA\n",
       "IgxeAAAAAAAAgAiDFwAAAAAAACDC4AUAAAAAAACIMHgBAAAAAAAAIgxeAAAAAAAAgAiDFwAAAAAA\n",
       "ACDC4AUAAAAAAACIMHgBAAAAAAAAIgxeAAAAAAAAgAiDFwAAAAAAACDC4AUAAAAAAACIMHgBAAAA\n",
       "AAAAIgxeAAAAAAAAgAiDFwAAAAAAACDC4AUAAAAAAACIMHgBAAAAAAAAIgxeAAAAAAAAgAiDFwAA\n",
       "AAAAACDC4AUAAAAAAACIMHgBAAAAAAAAIgxeAAAAAAAAgAiDFwAAAAAAACDC4AUAAAAAAACIMHgB\n",
       "AAAAAAAAIgxeAAAAAAAAgAiDFwAAAAAAACDC4AUAAAAAAACIMHgBAAAAAAAAIgxeAAAAAAAAgAiD\n",
       "FwAAAAAAACDC4AUAAAAAAACIMHgBAAAAAAAAIgxeAAAAAAAAgAiDFwAAAAAAACDC4AUAAAAAAACI\n",
       "MHgBAAAAAAAAIgxeAAAAAAAAgAiDFwAAAAAAACDC4AUAAAAAAACIMHgBAAAAAAAAIgxeAAAAAAAA\n",
       "gAiDFwAAAAAAACDC4AUAAAAAAACIMHgBAAAAAAAAIgxeAAAAAAAAgAiDFwAAAAAAACDC4AUAAAAA\n",
       "AACIMHgBAAAAAAAAIgxeAAAAAAAAgAiDFwAAAAAAACDC4AUAAAAAAACIMHgBAAAAAAAAIgxeAAAA\n",
       "AAAAgAiDFwAAAAAAACDC4AUAAAAAAACIMHgBAAAAAAAAIgxeAAAAAAAAgAiDFwAAAAAAACDC4AUA\n",
       "AAAAAACIMHgBAAAAAAAAIgxeAAAAAAAAgAiDFwAAAAAAACDC4AUAAAAAAACIMHgBAAAAAAAAIgxe\n",
       "AAAAAAAAgAiDFwAAAAAAACDC4AUAAAAAAACIMHgBAAAAAAAAIgxeAAAAAAAAgAiDFwAAAAAAACDC\n",
       "4AUAAAAAAACIMHgBAAAAAAAAIgxeAAAAAAAAgAiDFwAAAAAAACDC4AUAAAAAAACIMHgBAAAAAAAA\n",
       "IgxeAAAAAAAAgAiDFwAAAAAAACDC4AUAAAAAAACIMHgBAAAAAAAAIgxeAAAAAAAAgAiDFwAAAAAA\n",
       "ACDC4AUAAAAAAACIMHgBAAAAAAAAIgxeAAAAAAAAgAiDFwAAAAAAACDC4AUAAAAAAACIMHgBAAAA\n",
       "AAAAIgxeAAAAAAAAgAiDFwAAAAAAACDC4AUAAAAAAACIMHgBAAAAAAAAIgxeAAAAAAAAgAiDFwAA\n",
       "AAAAACDC4AUAAAAAAACIMHgBAAAAAAAAIgxeAAAAAAAAgAiDFwAAAAAAACDC4AUAAAAAAACIMHgB\n",
       "AAAAAAAAIgxeAAAAAAAAgAiDFwAAAAAAACDC4AUAAAAAAACIMHgBAAAAAAAAIgxeAAAAAAAAgAiD\n",
       "FwAAAAAAACDC4AUAAAAAAACIMHgBAAAAAAAAIgxeAAAAAAAAgAiDFwAAAAAAACDC4AUAAAAAAACI\n",
       "MHgBAAAAAAAAIgxeAAAAAAAAgAiDFwAAAAAAACDC4AUAAAAAAACIMHgBAAAAAAAAIgxeAAAAAAAA\n",
       "gAiDFwAAAAAAACDC4AUAAAAAAACIMHgBAAAAAAAAIgxeAAAAAAAAgAiDFwAAAAAAACDC4AUAAAAA\n",
       "AACIMHgBAAAAAAAAIgxeAAAAAAAAgAiDFwAAAAAAACDC4AUAAAAAAACIMHgBAAAAAAAAIgxeAAAA\n",
       "AAAAgAiDFwAAAAAAACDC4AUAAAAAAACIMHgBAAAAAAAAIgxeAAAAAAAAgAiDFwAAAAAAACDC4AUA\n",
       "AAAAAACIMHgBAAAAAAAAIgxeAAAAAAAAgAiDFwAAAAAAACDC4AUAAAAAAACIMHgBAAAAAAAAIgxe\n",
       "AAAAAAAAgAiDFwAAAAAAACDC4AUAAAAAAACIMHgBAAAAAAAAIgxeAAAAAAAAgAiDFwAAAAAAACDC\n",
       "4AUAAAAAAACIMHgBAAAAAAAAIgxeAAAAAAAAgAiDFwAAAAAAACDC4AUAAAAAAACIMHgBAAAAAAAA\n",
       "IgxeAAAAAAAAgAiDFwAAAAAAACDC4AUAAAAAAACIMHgBAAAAAAAAIgxeAAAAAAAAgAiDFwAAAAAA\n",
       "ACDC4AUAAAAAAACIMHgBAAAAAAAAIgxeAAAAAAAAgAiDFwAAAAAAACDC4AUAAAAAAACIMHgBAAAA\n",
       "AAAAIgxeAAAAAAAAgAiDFwAAAAAAACDC4AUAAAAAAACIMHgBAAAAAAAAIgxeAAAAAAAAgAiDFwAA\n",
       "AAAAACDC4AUAAAAAAACIMHgBAAAAAAAAIgxeAAAAAAAAgAiDFwAAAAAAACDC4AUAAAAAAACIMHgB\n",
       "AAAAAAAAIgxeAAAAAAAAgAiDFwAAAAAAACDC4AUAAAAAAACIMHgBAAAAAAAAIgxeAAAAAAAAgAiD\n",
       "FwAAAAAAACDC4AUAAAAAAACIMHgBAAAAAAAAIgxeAAAAAAAAgAiDFwAAAAAAACDC4AUAAAAAAACI\n",
       "MHgBAAAAAAAAIgxeAAAAAAAAgAiDFwAAAAAAACDC4AUAAAAAAACIMHgBAAAAAAAAIgxeAAAAAAAA\n",
       "gAiDFwAAAAAAACDC4AUAAAAAAACIMHgBAAAAAAAAIgxeAAAAAAAAgAiDFwAAAAAAACDC4AUAAAAA\n",
       "AACIMHgBAAAAAAAAIgxeAAAAAAAAgAiDFwAAAAAAACDC4AUAAAAAAACIMHgBAAAAAAAAIgxeAAAA\n",
       "AAAAgAiDFwAAAAAAACDC4AUAAAAAAACIMHgBAAAAAAAAIgxeAAAAAAAAgAiDFwAAAAAAACDC4AUA\n",
       "AAAAAACIMHgBAAAAAAAAIgxeAAAAAAAAgAiDFwAAAAAAACDC4AUAAAAAAACIMHgBAAAAAAAAIgxe\n",
       "AAAAAAAAgAiDFwAAAAAAACDC4AUAAAAAAACIMHgBAAAAAAAAIgxeAAAAAAAAgAiDFwAAAAAAACDC\n",
       "4AUAAAAAAACIMHgBAAAAAAAAIgxeAAAAAAAAgAiDFwAAAAAAACDC4AUAAAAAAACIMHgBAAAAAAAA\n",
       "IgxeAAAAAAAAgAiDFwAAAAAAACDC4AUAAAAAAACIMHgBAAAAAAAAIgxeAAAAAAAAgAiDFwAAAAAA\n",
       "ACDC4AUAAAAAAACIMHgBAAAAAAAAIgxeAAAAAAAAgAiDFwAAAAAAACDC4AUAAAAAAACIMHgBAAAA\n",
       "AAAAIgxeAAAAAAAAgAiDFwAAAAAAACDC4AUAAAAAAACIMHgBAAAAAAAAIgxeAAAAAAAAgAiDFwAA\n",
       "AAAAACDC4AUAAAAAAACIMHgBAAAAAAAAIgxeAAAAAAAAgAiDFwAAAAAAACDC4AUAAAAAAACIMHgB\n",
       "AAAAAAAAIgxeAAAAAAAAgAiDFwAAAAAAACDC4AUAAAAAAACIMHgBAAAAAAAAIgxeAAAAAAAAgAiD\n",
       "FwAAAAAAACDC4AUAAAAAAACIMHgBAAAAAAAAIgxeAAAAAAAAgAiDFwAAAAAAACDC4AUAAAAAAACI\n",
       "MHgBAAAAAAAAIgxeAAAAAAAAgAiDFwAAAAAAACDC4AUAAAAAAACIMHgBAAAAAAAAIgxeAAAAAAAA\n",
       "gAiDFwAAAAAAACDC4AUAAAAAAACIMHgBAAAAAAAAIgxeAAAAAAAAgAiDFwAAAAAAACDC4AUAAAAA\n",
       "AACIMHgBAAAAAAAAIgxeAAAAAAAAgAiDFwAAAAAAACDC4AUAAAAAAACIMHgBAAAAAAAAIgxeAAAA\n",
       "AAAAgAiDFwAAAAAAACDC4AUAAAAAAACIMHgBAAAAAAB+9uyABAAAAEDQ/9ftCPSGABOCFwAAAAAA\n",
       "AGBC8AIAAAAAAABMCF4AAAAAAACACcELAAAAAAAAMCF4AQAAAAAAACYELwAAAAAAAMCE4AUAAAAA\n",
       "AACYELwAAAAAAAAAE4IXAAAAAAAAYELwAgAAAAAAAEwIXgAAAAAAAIAJwQsAAAAAAAAwIXgBAAAA\n",
       "AAAAJgQvAAAAAAAAwITgBQAAAAAAAJgQvAAAAAAAAAATghcAAAAAAABgQvACAAAAAAAATAheAAAA\n",
       "AAAAgAnBCwAAAAAAADAheAEAAAAAAAAmBC8AAAAAAADAhOAFAAAAAAAAmBC8AAAAAAAAABOCFwAA\n",
       "AAAAAGBC8AIAAAAAAABMCF4AAAAAAACACcELAAAAAAAAMCF4AQAAAAAAACYELwAAAAAAAMCE4AUA\n",
       "AAAAAACYELwAAAAAAAAAE4IXAAAAAAAAYELwAgAAAAAAAEwIXgAAAAAAAIAJwQsAAAAAAAAwIXgB\n",
       "AAAAAAAAJgQvAAAAAAAAwITgBQAAAAAAAJgQvAAAAAAAAAATghcAAAAAAABgQvACAAAAAAAATAhe\n",
       "AAAAAAAAgAnBCwAAAAAAADAheAEAAAAAAAAmBC8AAAAAAADAhOAFAAAAAAAAmBC8AAAAAAAAABOC\n",
       "FwAAAAAAAGBC8AIAAAAAAABMCF4AAAAAAACACcELAAAAAAAAMCF4AQAAAAAAACYELwAAAAAAAMCE\n",
       "4AUAAAAAAACYELwAAAAAAAAAE4IXAAAAAAAAYELwAgAAAAAAAEwIXgAAAAAAAIAJwQsAAAAAAAAw\n",
       "IXgBAAAAAAAAJgQvAAAAAAAAwITgBQAAAAAAAJgQvAAAAAAAAAATghcAAAAAAABgQvACAAAAAAAA\n",
       "TAheAAAAAAAAgAnBCwAAAAAAADAheAEAAAAAAAAmBC8AAAAAAADAhOAFAAAAAAAAmBC8AAAAAAAA\n",
       "ABOCFwAAAAAAAGBC8AIAAAAAAABMCF4AAAAAAACACcELAAAAAAAAMCF4AQAAAAAAACYELwAAAAAA\n",
       "AMCE4AUAAAAAAACYELwAAAAAAAAAE4IXAAAAAAAAYELwAgAAAAAAAEwIXgAAAAAAAIAJwQsAAAAA\n",
       "AAAwIXgBAAAAAAAAJgQvAAAAAAAAwITgBQAAAAAAAJgQvAAAAAAAAAATghcAAAAAAABgQvACAAAA\n",
       "AAAATAheAAAAAAAAgAnBCwAAAAAAADAheAEAAAAAAAAmBC8AAAAAAADAhOAFAAAAAAAAmBC8AAAA\n",
       "AAAAABOCFwAAAAAAAGBC8AIAAAAAAABMCF4AAAAAAACACcELAAAAAAAAMCF4AQAAAAAAACYELwAA\n",
       "AAAAAMCE4AUAAAAAAACYELwAAAAAAAAAE4IXAAAAAAAAYELwAgAAAAAAAEwIXgAAAAAAAIAJwQsA\n",
       "AAAAAAAwIXgBAAAAAAAAJgQvAAAAAAAAwITgBQAAAAAAAJgQvAAAAAAAAAATghcAAAAAAABgQvAC\n",
       "AAAAAAAATAheAAAAAAAAgAnBCwAAAAAAADAheAEAAAAAAAAmBC8AAAAAAADAhOAFAAAAAAAAmBC8\n",
       "AAAAAAAAABOCFwAAAAAAAGBC8AIAAAAAAABMCF4AAAAAAACACcELAAAAAAAAMCF4AQAAAAAAACYE\n",
       "LwAAAAAAAMCE4AUAAAAAAACYELwAAAAAAAAAE4IXAAAAAAAAYELwAgAAAAAAAEwIXgAAAAAAAIAJ\n",
       "wQsAAAAAAAAwIXgBAAAAAAAAJgQvAAAAAAAAwITgBQAAAAAAAJgQvAAAAAAAAAATghcAAAAAAABg\n",
       "QvACAAAAAAAATAheAAAAAAAAgAnBCwAAAAAAADAheAEAAAAAAAAmBC8AAAAAAADAhOAFAAAAAAAA\n",
       "mBC8AAAAAAAAABOCFwAAAAAAAGBC8AIAAAAAAABMCF4AAAAAAACACcELAAAAAAAAMCF4AQAAAAAA\n",
       "ACYELwAAAAAAAMCE4AUAAAAAAACYELwAAAAAAAAAE4IXAAAAAAAAYELwAgAAAAAAAEwIXgAAAAAA\n",
       "AIAJwQsAAAAAAAAwIXgBAAAAAAAAJgQvAAAAAAAAwITgBQAAAAAAAJgQvAAAAAAAAAATghcAAAAA\n",
       "AABgQvACAAAAAAAATAheAAAAAAAAgAnBCwAAAAAAADAheAEAAAAAAAAmBC8AAAAAAADAhOAFAAAA\n",
       "AAAAmBC8AAAAAAAAABOCFwAAAAAAAGBC8AIAAAAAAABMCF4AAAAAAACACcELAAAAAAAAMCF4AQAA\n",
       "AAAAACYELwAAAAAAAMCE4AUAAAAAAACYELwAAAAAAAAAE4IXAAAAAAAAYELwAgAAAAAAAEwIXgAA\n",
       "AAAAAIAJwQsAAAAAAAAwIXgBAAAAAAAAJgQvAAAAAAAAwITgBQAAAAAAAJgQvAAAAAAAAAATghcA\n",
       "AAAAAABgQvACAAAAAAAATAheAAAAAAAAgAnBCwAAAAAAADAheAEAAAAAAAAmBC8AAAAAAADAhOAF\n",
       "AAAAAAAAmBC8AAAAAAAAABOCFwAAAAAAAGBC8AIAAAAAAABMCF4AAAAAAACACcELAAAAAAAAMCF4\n",
       "AQAAAAAAACYELwAAAAAAAMCE4AUAAAAAAACYELwAAAAAAAAAE4IXAAAAAAAAYELwAgAAAAAAAEwI\n",
       "XgAAAAAAAIAJwQsAAAAAAAAwIXgBAAAAAAAAJgQvAAAAAAAAwITgBQAAAAAAAJgQvAAAAAAAAAAT\n",
       "ghcAAAAAAABgQvACAAAAAAAATAheAAAAAAAAgAnBCwAAAAAAADAheAEAAAAAAAAmBC8AAAAAAADA\n",
       "hOAFAAAAAAAAmBC8AAAAAAAAABOCFwAAAAAAAGBC8AIAAAAAAABMCF4AAAAAAACACcELAAAAAAAA\n",
       "MCF4AQAAAAAAACYELwAAAAAAAMCE4AUAAAAAAACYELwAAAAAAAAAE4IXAAAAAAAAYELwAgAAAAAA\n",
       "AEwIXgAAAAAAAIAJwQsAAAAAAAAwIXgBAAAAAAAAJgQvAAAAAAAAwITgBQAAAAAAAJgQvAAAAAAA\n",
       "AAATghcAAAAAAABgQvACAAAAAAAATAheAAAAAAAAgAnBCwAAAAAAADAheAEAAAAAAAAmBC8AAAAA\n",
       "AADAhOAFAAAAAAAAmBC8AAAAAAAAABOCFwAAAAAAAGBC8AIAAAAAAABMCF4AAAAAAACACcELAAAA\n",
       "AAAAMCF4AQAAAAAAACYELwAAAAAAAMCE4AUAAAAAAACYELwAAAAAAAAAE4IXAAAAAAAAYELwAgAA\n",
       "AAAAAEwIXgAAAAAAAIAJwQsAAAAAAAAwIXgBAAAAAAAAJgQvAAAAAAAAwITgBQAAAAAAAJgQvAAA\n",
       "AAAAAAATghcAAAAAAABgQvACAAAAAAAATAheAAAAAAAAgAnBCwAAAAAAADAheAEAAAAAAAAmBC8A\n",
       "AAAAAADAhOAFAAAAAAAAmBC8AAAAAAAAABOCFwAAAAAAAGBC8AIAAAAAAABMCF4AAAAAAACACcEL\n",
       "AAAAAAAAMCF4AQAAAAAAACYELwAAAAAAAMCE4AUAAAAAAACYELwAAAAAAAAAE4IXAAAAAAAAYELw\n",
       "AgAAAAAAAEwIXgAAAAAAAIAJwQsAAAAAAAAwIXgBAAAAAAAAJgQvAAAAAAAAwITgBQAAAAAAAJgQ\n",
       "vAAAAAAAAAATghcAAAAAAABgQvACAAAAAAAATAheAAAAAAAAgAnBCwAAAAAAADAheAEAAAAAAAAm\n",
       "BC8AAAAAAADAhOAFAAAAAAAAmBC8AAAAAAAAABOCFwAAAAAAAGBC8AIAAAAAAABMCF4AAAAAAACA\n",
       "CcELAAAAAAAAMCF4AQAAAAAAACYELwAAAO+u1HEAABcOSURBVAAAAMCE4AUAAAAAAACYELwAAAAA\n",
       "AAAAE4IXAAAAAAAAYELwAgAAAAAAAEwIXgAAAAAAAIAJwQsAAAAAAAAwIXgBAAAAAAAAJgQvAAAA\n",
       "AAAAwITgBQAAAAAAAJgQvAAAAAAAAAATghcAAAAAAABgQvACAAAAAAAATAheAAAAAAAAgAnBCwAA\n",
       "AAAAADAheAEAAAAAAAAmBC8AAAAAAADAhOAFAAAAAAAAmBC8AAAAAAAAABOCFwAAAAAAAGBC8AIA\n",
       "AAAAAABMCF4AAAAAAACACcELAAAAAAAAMCF4AQAAAAAAACYELwAAAAAAAMCE4AUAAAAAAACYELwA\n",
       "AAAAAAAAE4IXAAAAAAAAYELwAgAAAAAAAEwIXgAAAAAAAIAJwQsAAAAAAAAwIXgBAAAAAAAAJgQv\n",
       "AAAAAAAAwITgBQAAAAAAAJgQvAAAAAAAAAATghcAAAAAAABgQvACAAAAAAAATAheAAAAAAAAgAnB\n",
       "CwAAAAAAADAheAEAAAAAAAAmBC8AAAAAAADAhOAFAAAAAAAAmBC8AAAAAAAAABOCFwAAAAAAAGBC\n",
       "8AIAAAAAAABMCF4AAAAAAACACcELAAAAAAAAMCF4AQAAAAAAACYELwAAAAAAAMCE4AUAAAAAAACY\n",
       "ELwAAAAAAAAAE4IXAAAAAAAAYELwAgAAAAAAAEwIXgAAAAAAAIAJwQsAAAAAAAAwIXgBAAAAAAAA\n",
       "JgQvAAAAAAAAwITgBQAAAAAAAJgQvAAAAAAAAAATghcAAAAAAABgQvACAAAAAAAATAheAAAAAAAA\n",
       "gAnBCwAAAAAAADAheAEAAAAAAAAmBC8AAAAAAADAhOAFAAAAAAAAmBC8AAAAAAAAABOCFwAAAAAA\n",
       "AGBC8AIAAAAAAABMCF4AAAAAAACACcELAAAAAAAAMCF4AQAAAAAAACYELwAAAAAAAMCE4AUAAAAA\n",
       "AACYELwAAAAAAAAAE4IXAAAAAAAAYELwAgAAAAAAAEwIXgAAAAAAAIAJwQsAAAAAAAAwIXgBAAAA\n",
       "AAAAJgQvAAAAAAAAwITgBQAAAAAAAJgQvAAAAAAAAAATghcAAAAAAABgQvACAAAAAAAATAheAAAA\n",
       "AAAAgAnBCwAAAAAAADAheAEAAAAAAAAmBC8AAAAAAADAhOAFAAAAAAAAmBC8AAAAAAAAABOCFwAA\n",
       "AAAAAGBC8AIAAAAAAABMCF4AAAAAAACACcELAAAAAAAAMCF4AQAAAAAAACYELwAAAAAAAMCE4AUA\n",
       "AAAAAACYELwAAAAAAAAAE4IXAAAAAAAAYELwAgAAAAAAAEwIXgAAAAAAAIAJwQsAAAAAAAAwIXgB\n",
       "AAAAAAAAJgQvAAAAAAAAwITgBQAAAAAAAJgQvAAAAAAAAAATghcAAAAAAABgQvACAAAAAAAATAhe\n",
       "AAAAAAAAgAnBCwAAAAAAADAheAEAAAAAAAAmBC8AAAAAAADAhOAFAAAAAAAAmBC8AAAAAAAAABOC\n",
       "FwAAAAAAAGBC8AIAAAAAAABMCF4AAAAAAACACcELAAAAAAAAMCF4AQAAAAAAACYELwAAAAAAAMCE\n",
       "4AUAAAAAAACYELwAAAAAAAAAE4IXAAAAAAAAYELwAgAAAAAAAEwIXgAAAAAAAIAJwQsAAAAAAAAw\n",
       "IXgBAAAAAAAAJgQvAAAAAAAAwITgBQAAAAAAAJgQvAAAAAAAAAATghcAAAAAAABgQvACAAAAAAAA\n",
       "TAheAAAAAAAAgAnBCwAAAAAAADAheAEAAAAAAAAmBC8AAAAAAADAhOAFAAAAAAAAmBC8AAAAAAAA\n",
       "ABOCFwAAAAAAAGBC8AIAAAAAAABMCF4AAAAAAACACcELAAAAAAAAMCF4AQAAAAAAACYELwAAAAAA\n",
       "AMCE4AUAAAAAAACYELwAAAAAAAAAE4IXAAAAAAAAYELwAgAAAAAAAEwIXgAAAAAAAIAJwQsAAAAA\n",
       "AAAwIXgBAAAAAAAAJgQvAAAAAAAAwITgBQAAAAAAAJgQvAAAAAAAAAATghcAAAAAAABgQvACAAAA\n",
       "AAAATAheAAAAAAAAgAnBCwAAAAAAADAheAEAAAAAAAAmBC8AAAAAAADAhOAFAAAAAAAAmBC8AAAA\n",
       "AAAAABOCFwAAAAAAAGBC8AIAAAAAAABMCF4AAAAAAACACcELAAAAAAAAMCF4AQAAAAAAACYELwAA\n",
       "AAAAAMCE4AUAAAAAAACYELwAAAAAAAAAE4IXAAAAAAAAYELwAgAAAAAAAEwIXgAAAAAAAIAJwQsA\n",
       "AAAAAAAwIXgBAAAAAAAAJgQvAAAAAAAAwITgBQAAAAAAAJgQvAAAAAAAAAATghcAAAAAAABgQvAC\n",
       "AAAAAAAATAheAAAAAAAAgAnBCwAAAAAAADAheAEAAAAAAAAmBC8AAAAAAADAhOAFAAAAAAAAmBC8\n",
       "AAAAAAAAABOCFwAAAAAAAGBC8AIAAAAAAABMCF4AAAAAAACACcELAAAAAAAAMCF4AQAAAAAAACYE\n",
       "LwAAAAAAAMCE4AUAAAAAAACYELwAAAAAAAAAE4IXAAAAAAAAYELwAgAAAAAAAEwIXgAAAAAAAIAJ\n",
       "wQsAAAAAAAAwIXgBAAAAAAAAJgQvAAAAAAAAwITgBQAAAAAAAJgQvAAAAAAAAAATghcAAAAAAABg\n",
       "QvACAAAAAAAATAheAAAAAAAAgAnBCwAAAAAAADAheAEAAAAAAAAmBC8AAAAAAADAhOAFAAAAAAAA\n",
       "mBC8AAAAAAAAABOCFwAAAAAAAGBC8AIAAAAAAABMCF4AAAAAAACACcELAAAAAAAAMCF4AQAAAAAA\n",
       "ACYELwAAAAAAAMCE4AUAAAAAAACYELwAAAAAAAAAE4IXAAAAAAAAYELwAgAAAAAAAEwIXgAAAAAA\n",
       "AIAJwQsAAAAAAAAwIXgBAAAAAAAAJgQvAAAAAAAAwITgBQAAAAAAAJgQvAAAAAAAAAATghcAAAAA\n",
       "AABgQvACAAAAAAAATAheAAAAAAAAgAnBCwAAAAAAADAheAEAAAAAAAAmBC8AAAAAAADAhOAFAAAA\n",
       "AAAAmBC8AAAAAAAAABOCFwAAAAAAAGBC8AIAAAAAAABMCF4AAAAAAACACcELAAAAAAAAMCF4AQAA\n",
       "AAAAACYELwAAAAAAAMCE4AUAAAAAAACYELwAAAAAAAAAE4IXAAAAAAAAYELwAgAAAAAAAEwIXgAA\n",
       "AAAAAIAJwQsAAAAAAAAwIXgBAAAAAAAAJgQvAAAAAAAAwITgBQAAAAAAAJgQvAAAAAAAAAATghcA\n",
       "AAAAAABgQvACAAAAAAAAtW/HKA1FURRF85OLhUIqsRDBRhyZU3DU6RyA2tkJr3tsWGsEp98cIgRe\n",
       "AAAAAAAAgAiBFwAAAAAAACBC4AUAAAAAAACIEHgBAAAAAAAAIgReAAAAAAAAgAiBFwAAAAAAACBC\n",
       "4AUAAAAAAACIEHgBAAAAAAAAIgReAAAAAAAAgAiBFwAAAAAAACBC4AUAAAAAAACIEHgBAAAAAAAA\n",
       "IgReAAAAAAAAgAiBFwAAAAAAACBC4AUAAAAAAACIEHgBAAAAAAAAIgReAAAAAAAAgAiBFwAAAAAA\n",
       "ACBC4AUAAAAAAACIEHgBAAAAAAAAIgReAAAAAAAAgAiBFwAAAAAAACBC4AUAAAAAAACIEHgBAAAA\n",
       "AAAAIgReAAAAAAAAgAiBFwAAAAAAACBC4AUAAAAAAACIEHgBAAAAAAAAIgReAAAAAAAAgAiBFwAA\n",
       "AAAAACBC4AUAAAAAAACIEHgBAAAAAAAAIgReAAAAAAAAgAiBFwAAAAAAACBC4AUAAAAAAACIEHgB\n",
       "AAAAAAAAIgReAAAAAAAAgAiBFwAAAAAAACBC4AUAAAAAAACIEHgBAAAAAAAAIgReAAAAAAAAgAiB\n",
       "FwAAAAAAACBC4AUAAAAAAACIEHgBAAAAAAAAIgReAAAAAAAAgAiBFwAAAAAAACBC4AUAAAAAAACI\n",
       "EHgBAAAAAAAAIgReAAAAAAAAgAiBFwAAAAAAACBC4AUAAAAAAACIEHgBAAAAAAAAIgReAAAAAAAA\n",
       "gAiBFwAAAAAAACBC4AUAAAAAAACIEHgBAAAAAAAAIgReAAAAAAAAgAiBFwAAAAAAACBC4AUAAAAA\n",
       "AACIEHgBAAAAAAAAIgReAAAAAAAAgAiBFwAAAAAAACBC4AUAAAAAAACIEHgBAAAAAAAAIgReAAAA\n",
       "AAAAgAiBFwAAAAAAACBC4AUAAAAAAACIEHgBAAAAAAAAIgReAAAAAAAAgAiBFwAAAAAAACBC4AUA\n",
       "AAAAAACIEHgBAAAAAAAAIgReAAAAAAAAgAiBFwAAAAAAACBC4AUAAAAAAACIEHgBAAAAAAAAIgRe\n",
       "AAAAAAAAgAiBFwAAAAAAACBC4AUAAAAAAACIEHgBAAAAAAAAIgReAAAAAAAAgAiBFwAAAAAAACBC\n",
       "4AUAAAAAAACIEHgBAAAAAAAAIgReAAAAAAAAgAiBFwAAAAAAACBC4AUAAAAAAACIEHgBAAAAAAAA\n",
       "IgReAAAAAAAAgAiBFwAAAAAAACBC4AUAAAAAAACIEHgBAAAAAAAAIgReAAAAAAAAgAiBFwAAAAAA\n",
       "ACBC4AUAAAAAAACIEHgBAAAAAAAAIgReAAAAAAAAgAiBFwAAAAAAACBC4AUAAAAAAACIEHgBAAAA\n",
       "AAAAIgReAAAAAAAAgAiBFwAAAAAAACBC4AUAAAAAAACIEHgBAAAAAAAAIgReAAAAAAAAgAiBFwAA\n",
       "AAAAACBC4AUAAAAAAACIEHgBAAAAAAAAIgReAAAAAAAAgAiBFwAAAAAAACBC4AUAAAAAAACIEHgB\n",
       "AAAAAAAAIgReAAAAAAAAgAiBFwAAAAAAACBC4AUAAAAAAACIEHgBAAAAAAAAIgReAAAAAAAAgAiB\n",
       "FwAAAAAAACBC4AUAAAAAAACIEHgBAAAAAAAAIgReAAAAAAAAgAiBFwAAAAAAACBC4AUAAAAAAACI\n",
       "EHgBAAAAAAAAIgReAAAAAAAAgAiBFwAAAAAAACBC4AUAAAAAAACIEHgBAAAAAAAAIgReAAAAAAAA\n",
       "gAiBFwAAAAAAACBC4AUAAAAAAACIEHgBAAAAAAAAIgReAAAAAAAAgAiBFwAAAAAAACBC4AUAAAAA\n",
       "AACIEHgBAAAAAAAAIgReAAAAAAAAgAiBFwAAAAAAACBC4AUAAAAAAACIEHgBAAAAAAAAIgReAAAA\n",
       "AAAAgAiBFwAAAAAAACBC4AUAAAAAAACIEHgBAAAAAAAAIgReAAAAAAAAgAiBFwAAAAAAACBC4AUA\n",
       "AAAAAACIEHgBAAAAAAAAIgReAAAAAAAAgAiBFwAAAAAAACBC4AUAAAAAAACIEHgBAAAAAAAAIgRe\n",
       "AAAAAAAAgAiBFwAAAAAAACBC4AUAAAAAAACIEHgBAAAAAAAAIgReAAAAAAAAgAiBFwAAAAAAACBC\n",
       "4AUAAAAAAACIEHgBAAAAAAAAIgReAAAAAAAAgAiBFwAAAAAAACBC4AUAAAAAAACIEHgBAAAAAAAA\n",
       "IgReAAAAAAAAgAiBFwAAAAAAACBC4AUAAAAAAACIEHgBAAAAAAAAIgReAAAAAAAAgAiBFwAAAAAA\n",
       "ACBC4AUAAAAAAACIEHgBAAAAAAAAIgReAAAAAAAAgAiBFwAAAAAAACBC4AUAAAAAAACIEHgBAAAA\n",
       "AAAAIgReAAAAAAAAgAiBFwAAAAAAACBC4AUAAAAAAACIEHgBAAAAAAAAIgReAAAAAAAAgAiBFwAA\n",
       "AAAAACBC4AUAAAAAAACIEHgBAAAAAAAAIgReAAAAAAAAgAiBFwAAAAAAACBC4AUAAAAAAACIEHgB\n",
       "AAAAAAAAIgReAAAAAAAAgAiBFwAAAAAAACBC4AUAAAAAAACIEHgBAAAAAAAAIgReAAAAAAAAgAiB\n",
       "FwAAAAAAACBC4AUAAAAAAACIEHgBAAAAAAAAIgReAAAAAAAAgAiBFwAAAAAAACBC4AUAAAAAAACI\n",
       "EHgBAAAAAAAAIgReAAAAAAAAgAiBFwAAAAAAACBC4AUAAAAAAACIEHgBAAAAAAAAIgReAAAAAAAA\n",
       "gAiBFwAAAAAAACBC4AUAAAAAAACIEHgBAAAAAAAAIgReAAAAAAAAgAiBFwAAAAAAACBC4AUAAAAA\n",
       "AACIEHgBAAAAAAAAIgReAAAAAAAAgAiBFwAAAAAAACBC4AUAAAAAAACIEHgBAAAAAAAAIgReAAAA\n",
       "AAAAgAiBFwAAAAAAACBC4AUAAAAAAACIEHgBAAAAAAAAIgReAAAAAAAAgAiBFwAAAAAAACBC4AUA\n",
       "AAAAAACIEHgBAAAAAAAAIgReAAAAAAAAgAiBFwAAAAAAACBC4AUAAAAAAACIEHgBAAAAAAAAIgRe\n",
       "AAAAAAAAgAiBFwAAAAAAACBC4AUAAAAAAACIEHgBAAAAAAAAIgReAAAAAAAAgAiBFwAAAAAAACBC\n",
       "4AUAAAAAAACIEHgBAAAAAAAAIgReAAAAAAAAgAiBFwAAAAAAACBC4AUAAAAAAACIEHgBAAAAAAAA\n",
       "IgReAAAAAAAAgAiBFwAAAAAAACBC4AUAAAAAAACIEHgBAAAAAAAAIgReAAAAAAAAgAiBFwAAAAAA\n",
       "ACBC4AUAAAAAAACIEHgBAAAAAAAAIgReAAAAAAAAgAiBFwAAAAAAACBC4AUAAAAAAACIEHgBAAAA\n",
       "AAAAIgReAAAAAAAAgAiBFwAAAAAAACBC4AUAAAAAAACIEHgBAAAAAAAAIgReAAAAAAAAgAiBFwAA\n",
       "AAAAACBC4AUAAAAAAACIEHgBAAAAAAAAIgReAAAAAAAAgAiBFwAAAAAAACBC4AUAAAAAAACIEHgB\n",
       "AAAAAAAAIgReAAAAAAAAgAiBFwAAAAAAACBC4AUAAAAAAACIEHgBAAAAAAAAIgReAAAAAAAAgAiB\n",
       "FwAAAAAAACBC4AUAAAAAAACIEHgBAAAAAAAAIgReAAAAAAAAgAiBFwAAAAAAACBC4AUAAAAAAACI\n",
       "EHgBAAAAAAAAIgReAAAAAAAAgAiBFwAAAAAAACBC4AUAAAAAAACIEHgBAAAAAAAAIgReAAAAAAAA\n",
       "gAiBFwAAAAAAACBC4AUAAAAAAACIEHgBAAAAAAAAIgReAAAAAAAAgAiBFwAAAAAAACBC4AUAAAAA\n",
       "AACIEHgBAAAAAAAAIgReAAAAAAAAgAiBFwAAAAAAACBC4AUAAAAAAACIEHgBAAAAAAAAIgReAAAA\n",
       "AAAAgAiBFwAAAAAAACBC4AUAAAAAAACIEHgBAAAAAAAAIgReAAAAAAAAgAiBFwAAAAAAACBC4AUA\n",
       "AAAAAACIEHgBAAAAAAAAIgReAAAAAAAAgAiBFwAAAAAAACBC4AUAAAAAAACIEHgBAAAAAAAAIgRe\n",
       "AAAAAAAAgAiBFwAAAAAAACBC4AUAAAAAAACIEHgBAAAAAAAAIgReAAAAAAAAgAiBFwAAAAAAACBC\n",
       "4AUAAAAAAACIEHgBAAAAAAAAIgReAAAAAAAAgAiBFwAAAAAAACBC4AUAAAAAAACIEHgBAAAAAAAA\n",
       "IgReAAAAAAAAgAiBFwAAAAAAACBC4AUAAAAAAACIEHgBAAAAAAAAIgReAAAAAAAAgAiBFwAAAAAA\n",
       "ACBC4AUAAAAAAACIEHgBAAAAAAAAIgReAAAAAAAAgAiBFwAAAAAAACBC4AUAAAAAAACIEHgBAAAA\n",
       "AAAAIgReAAAAAAAAgAiBFwAAAAAAACBC4AUAAAAAAACIEHgBAAAAAAAAIgReAAAAAAAAgAiBFwAA\n",
       "AAAAACBC4AUAAAAAAACImON07N4AAAAAAAAAwAIPXgAAAAAAAICIOR0aLwAAAAAAAEDBOPECAAAA\n",
       "AAAANMxxXHZvAAAAAAAAAGDBXM4PuzcAAAAAAAAAsGDmfL97AwAAAAAAAAAL5vHubfcGAAAAAAAA\n",
       "ABbM0/fz7g0AAAAAAAAALJjXue7eAAAAAAAAAMCC+Xi/7d4AAAAAAAAAwILj6/PlZ/cIAAAAAAAA\n",
       "+KNewb9+ARqcExOfRh2+AAAAAElFTkSuQmCC\n",
       "\" transform=\"translate(201, 47)\"/>\n",
       "</g>\n",
       "<defs>\n",
       "  <clipPath id=\"clip753\">\n",
       "    <rect x=\"2160\" y=\"47\" width=\"73\" height=\"1440\"/>\n",
       "  </clipPath>\n",
       "</defs>\n",
       "<g clip-path=\"url(#clip753)\">\n",
       "<image width=\"72\" height=\"1439\" xlink:href=\"data:image/png;base64,\n",
       "iVBORw0KGgoAAAANSUhEUgAAAEgAAAWfCAYAAAAI7rB3AAAMWUlEQVR4nO3dwY0rRxAFwaZQ/lsh\n",
       "L6XfLQtUeSQPERYsEg8c9MyQ+/n3/v0O/+uvb/8Bv06gIFAQKAgU5r5/v/03/DQLCgIFgYJAQaAw\n",
       "7/359t/w0ywoCBQECgIFR41gQUGgIFAQKAgU5rmKrSwoCBQECgIFgcK86yq2saAgUBAoCBQcNYIF\n",
       "BYGCQEGgIFBwFQsWFAQKAgWBgvtBwYKCQEGgIFAQKMxx1FhZUBAoCBQECgIFN8yCBQWBgkBBoDDH\n",
       "DbOVBQWBgkBBoCBQmHP/+fbf8NMsKAgUBAoCBYGCxz7BgoJAQaAgUHDDLFhQECgIFAQKAgVXsWBB\n",
       "QaAgUBAouB8ULCgIFAQKAgWBwnwcNVYWFAQKAgWBgkBhzvWfWTYWFAQKAgWBgqNGsKAgUBAoCBQE\n",
       "Co4awYKCQEGgIFAQKHjDLFhQECgIFAQK83HUWFlQECgIFAQKAgXvSQcLCgIFgYJAwVEjWFAQKAgU\n",
       "BAoCBc/mgwUFgYJAQaAgUHAWCxYUBAoCBYGCo0awoCBQECgIFAQKjhrBgoJAQaAgUBAozLn323/D\n",
       "T7OgIFAQKAgUHDWCBQWBgkBBoCBQ8NgnWFAQKAgUBAo+pIMFBYGCQEGgIFCYj6caKwsKAgWBgkBB\n",
       "oOAsFiwoCBQECgIFL1AFCwoCBYGCQEGg4IZZsKAgUBAoCBTcDwoWFAQKAgWBgkDBDbNgQUGgIFAQ\n",
       "KAgUXMWCBQWBgkBBoOB788GCgkBBoCBQECg4agQLCgIFgYJAQaDgKhYsKAgUBAoCBR/SwYKCQEGg\n",
       "IFAQKLiKBQsKAgWBgkBhzvMhvbGgIFAQKAgUBAqOGsGCgkBBoCBQECi4igULCgIFgYJAwYd0sKAg\n",
       "UBAoCBQECnPu+/bf8NMsKAgUBAoCBYGCs1iwoCBQECgIFBw1ggUFgYJAQaAgUHDUCBYUBAoCBYGC\n",
       "o0awoCBQECgIFAQKc5w0VhYUBAoCBYGCQGHOcxbbWFAQKAgUBAqOGsGCgkBBoCBQECi4igULCgIF\n",
       "gYJAQaAwfohzZ0FBoCBQECg4agQLCgIFgYJAQaDgKhYsKAgUBAoChTn38+2/4adZUBAoCBQECgKF\n",
       "ec9VbGNBQaAgUBAoCBTcMAsWFAQKAgWBghtmwYKCQEGgIFAQKMy7Gm3UCQIFgYJAwVEjWFAQKAgU\n",
       "BAoChTmeza8sKAgUBAoCBYHCPGexlQUFgYJAQaAwx1ONlTpBoCBQECgIFBw1ggUFgYJAQaAgUPDY\n",
       "J1hQECgIFAQKXgMO6gSBgkBBoCBQ8J50sKAgUBAoCBQ81QgWFAQKAgWBgkBh3tNoo04QKAgUBAoC\n",
       "BTfMggUFgYJAQaDghlmwoCBQECgIFAQKc9wwW6kTBAoCBYGCQMFZLFhQECgIFAQKPqSDBQWBgkBB\n",
       "oCBQ8L35YEFBoCBQECj43nxQJwgUBAoCBYHCPEeNlQUFgYJAQaAgUPDYJ1hQECgIFAQK/jNLUCcI\n",
       "FAQKAgWBghtmwYKCQEGgIFAQKLhhFiwoCBQECgIFR41gQUGgIFAQKAgUvCcd1AkCBYGCQMFRI1hQ\n",
       "ECgIFAQKAgVPNYIFBYGCQEGgIFBwFgsWFAQKAgWBgn+fFSwoCBQECgIFgYJ/ZRzUCQIFgYJAQaDg\n",
       "hlmwoCBQECgIFDybDxYUBAoCBYGCQMFRI1hQECgIFAQKc31IrywoCBQECgIFgYLvzQd1gkBBoCBQ\n",
       "ECi4YRYsKAgUBAoCBR/SwYKCQEGgIFAQKHjDLFhQECgIFAQKjhrBgoJAQaAgUBAouIoFCwoCBYGC\n",
       "QEGg4NdfgjpBoCBQECjM9VRjZUFBoCBQECgIFNwwCxYUBAoCBYGCQMFVLFhQECgIFAQKPqSDBQWB\n",
       "gkBBoCBQ8BtmwYKCQEGgIFBw1AgWFAQKAgWBgkDBVSxYUBAoCBQECgIFX2YJ6gSBgkBBoODLLMGC\n",
       "gkBBoCBQECi4YRYsKAgUBAoCBYGCq1iwoCBQECgIFLwGHCwoCBQECgIFgYKjRrCgIFAQKAgU5h0f\n",
       "0hsLCgIFgYJAQaDghlmwoCBQECgIFAQKbpgFCwoCBYGCQMFRI1hQECgIFAQKAgVHjWBBQaAgUBAo\n",
       "CBScxYIFBYGCQEGg4KgRLCgIFAQKAgWBgqtYsKAgUBAoCBTm+jLLyoKCQEGgIFAQKDhqBAsKAgWB\n",
       "gkBBoODZfLCgIFAQKAgU5r1v/wm/zYKCQEGgIFAQKDhqBAsKAgWBgkDBD00GCwoCBYGCQEGg4KgR\n",
       "LCgIFAQKAgWBgjfMggUFgYJAQaDgyyzBgoJAQaAgUBAoeMMsWFAQKAgUBAoCBY99ggUFgYJAQaDg\n",
       "qUawoCBQECgIFAQKHvsECwoCBYGCQMH9oGBBQaAgUBAoCBQ8mw8WFAQKAgWBgkDBDbNgQUGgIFAQ\n",
       "KHg2HywoCBQECgIFgcLcb/8FP86CgkBBoCBQECg4iwULCgIFgYJAwRtmwYKCQEGgIFAQKLhhFiwo\n",
       "CBQECgIF94OCBQWBgkBBoCBQcNQIFhQECgIFgYJAwVksWFAQKAgUBAqezQcLCgIFgYJAQaAwfvxl\n",
       "Z0FBoCBQECgIFJzFggUFgYJAQaDg2XywoCBQECgIFAQKns0HCwoCBYGCQMFRI1hQECgIFAQKAgVH\n",
       "jWBBQaAgUBAoCBTmesVsZUFBoCBQECi4YRYsKAgUBAoCBYGCG2bBgoJAQaAgUHDUCBYUBAoCBYGC\n",
       "QGGepxorCwoCBYGCQEGgMPe4YbaxoCBQECgIFLxAFSwoCBQECgIFgYIfmgwWFAQKAgWBgkDBD00G\n",
       "CwoCBYGCQMGz+WBBQaAgUBAoCBS8Jx0sKAgUBAoCBd84DBYUBAoCBYGCQMFRI1hQECgIFAQKAgXv\n",
       "SQcLCgIFgYJAwWvAwYKCQEGgIFAQKDhqBAsKAgWBgkBBoOA96WBBQaAgUBAo+ImuYEFBoCBQECgI\n",
       "FNwwCxYUBAoCBYGCZ/PBgoJAQaAgUBAoOGoECwoCBYGCQEGg4CwWLCgIFAQKAgVHjWBBQaAgUBAo\n",
       "CBRcxYIFBYGCQEGgIFBwwyxYUBAoCBQECo4awYKCQEGgIFAQKDhqBAsKAgWBgkDBUSNYUBAoCBQE\n",
       "CgIFP9EVLCgIFAQKAgWBgv8vFiwoCBQECgIFN8yCBQWBgkBBoCBQmHdcxjYWFAQKAgWBgkDBWSxY\n",
       "UBAoCBQECp7NBwsKAgWBgkBBoODZfLCgIFAQKAgU3A8KFhQECgIFgYJAwbP5YEFBoCBQECgIFJzF\n",
       "ggUFgYJAQaDgJ7qCBQWBgkBBoCBQmOsVs5UFBYGCQEGg4AWqYEFBoCBQECgIFOY5aqwsKAgUBAoC\n",
       "BYGCs1iwoCBQECgIFDzVCBYUBAoCBYGCQMEbZsGCgkBBoCBQECjM9ZXMlQUFgYJAQaDghlmwoCBQ\n",
       "ECgIFAQKfv0lWFAQKAgUBApeoAoWFAQKAgWBgkDBU41gQUGgIFAQKAgU3DALFhQECgIFgcLc45bZ\n",
       "xoKCQEGgIFAQKLhhFiwoCBQECgIFgYKrWLCgIFAQKAgUPNUIFhQECgIFgYJAwWOfYEFBoCBQECjM\n",
       "/ThqbCwoCBQECgIFgYKjRrCgIFAQKAgUBArzXMVWFhQECgIFgYKjRrCgIFAQKAgUBApzP65iGwsK\n",
       "AgWBgkBBoOAsFiwoCBQECgIFTzWCBQWBgkBBoCBQcNQIFhQECgIFgYIP6WBBQaAgUBAoCBQ8mw8W\n",
       "FAQKAgWBgkBh3vnz7b/hp1lQECgIFAQKbpgFCwoCBYGCQEGg4A2zYEFBoCBQECjMfe4HbSwoCBQE\n",
       "CgIFgYKjRrCgIFAQKAgUBApzPZtfWVAQKAgUBAqOGsGCgkBBoCBQECg4agQLCgIFgYJAQaAw7zmL\n",
       "bSwoCBQECgIFN8yCBQWBgkBBoCBQ8J50sKAgUBAoCBQcNYIFBYGCQEGgIFCY56ixsqAgUBAoCBQE\n",
       "Cs5iwYKCQEGgIFCY6wWqlQUFgYJAQaAgUPCb9sGCgkBBoCBQECj4MkuwoCBQECgIFDzVCBYUBAoC\n",
       "BYGCQMFRI1hQECgIFAQKPqSDBQWBgkBBoCBQ8Gw+WFAQKAgUBAoCBWexYEFBoCBQECjM8Wx+ZUFB\n",
       "oCBQECgIFBw1ggUFgYJAQaAgUPCedLCgIFAQKAgU5jhqrCwoCBQECgIFgYI3zIIFBYGCQEGg4Nl8\n",
       "sKAgUBAoCBQECm6YBQsKAgWBgkBBoDDvvG//DT/NgoJAQaAgUHDDLFhQECgIFAQKAoU5jhorCwoC\n",
       "BYGCQOE/LrLuTX/wFc8AAAAASUVORK5CYII=\n",
       "\" transform=\"translate(2161, 47)\"/>\n",
       "</g>\n",
       "<path clip-path=\"url(#clip750)\" d=\"M2268.76 1371.91 L2298.43 1371.91 L2298.43 1375.84 L2268.76 1375.84 L2268.76 1371.91 Z\" fill=\"#000000\" fill-rule=\"nonzero\" fill-opacity=\"1\" /><path clip-path=\"url(#clip750)\" d=\"M2307.34 1354.17 L2329.57 1354.17 L2329.57 1356.16 L2317.02 1388.73 L2312.14 1388.73 L2323.94 1358.11 L2307.34 1358.11 L2307.34 1354.17 Z\" fill=\"#000000\" fill-rule=\"nonzero\" fill-opacity=\"1\" /><path clip-path=\"url(#clip750)\" d=\"M2348.69 1357.25 Q2345.07 1357.25 2343.25 1360.82 Q2341.44 1364.36 2341.44 1371.49 Q2341.44 1378.6 2343.25 1382.16 Q2345.07 1385.7 2348.69 1385.7 Q2352.32 1385.7 2354.13 1382.16 Q2355.95 1378.6 2355.95 1371.49 Q2355.95 1364.36 2354.13 1360.82 Q2352.32 1357.25 2348.69 1357.25 M2348.69 1353.55 Q2354.5 1353.55 2357.55 1358.16 Q2360.63 1362.74 2360.63 1371.49 Q2360.63 1380.22 2357.55 1384.82 Q2354.5 1389.41 2348.69 1389.41 Q2342.88 1389.41 2339.8 1384.82 Q2336.74 1380.22 2336.74 1371.49 Q2336.74 1362.74 2339.8 1358.16 Q2342.88 1353.55 2348.69 1353.55 Z\" fill=\"#000000\" fill-rule=\"nonzero\" fill-opacity=\"1\" /><path clip-path=\"url(#clip750)\" d=\"M2378.85 1357.25 Q2375.24 1357.25 2373.41 1360.82 Q2371.6 1364.36 2371.6 1371.49 Q2371.6 1378.6 2373.41 1382.16 Q2375.24 1385.7 2378.85 1385.7 Q2382.48 1385.7 2384.29 1382.16 Q2386.12 1378.6 2386.12 1371.49 Q2386.12 1364.36 2384.29 1360.82 Q2382.48 1357.25 2378.85 1357.25 M2378.85 1353.55 Q2384.66 1353.55 2387.71 1358.16 Q2390.79 1362.74 2390.79 1371.49 Q2390.79 1380.22 2387.71 1384.82 Q2384.66 1389.41 2378.85 1389.41 Q2373.04 1389.41 2369.96 1384.82 Q2366.9 1380.22 2366.9 1371.49 Q2366.9 1362.74 2369.96 1358.16 Q2373.04 1353.55 2378.85 1353.55 Z\" fill=\"#000000\" fill-rule=\"nonzero\" fill-opacity=\"1\" /><polyline clip-path=\"url(#clip750)\" style=\"stroke:#000000; stroke-linecap:round; stroke-linejoin:round; stroke-width:4; stroke-opacity:1; fill:none\" points=\"2232.76,1375.08 2256.76,1375.08 \"/>\n",
       "<path clip-path=\"url(#clip750)\" d=\"M2268.76 1183.83 L2298.43 1183.83 L2298.43 1187.76 L2268.76 1187.76 L2268.76 1183.83 Z\" fill=\"#000000\" fill-rule=\"nonzero\" fill-opacity=\"1\" /><path clip-path=\"url(#clip750)\" d=\"M2319.1 1181.51 Q2315.95 1181.51 2314.1 1183.66 Q2312.27 1185.82 2312.27 1189.57 Q2312.27 1193.29 2314.1 1195.47 Q2315.95 1197.62 2319.1 1197.62 Q2322.25 1197.62 2324.08 1195.47 Q2325.93 1193.29 2325.93 1189.57 Q2325.93 1185.82 2324.08 1183.66 Q2322.25 1181.51 2319.1 1181.51 M2328.39 1166.86 L2328.39 1171.12 Q2326.63 1170.28 2324.82 1169.84 Q2323.04 1169.4 2321.28 1169.4 Q2316.65 1169.4 2314.2 1172.53 Q2311.76 1175.65 2311.42 1181.97 Q2312.78 1179.96 2314.84 1178.9 Q2316.9 1177.81 2319.38 1177.81 Q2324.59 1177.81 2327.6 1180.98 Q2330.63 1184.13 2330.63 1189.57 Q2330.63 1194.89 2327.48 1198.11 Q2324.33 1201.33 2319.1 1201.33 Q2313.11 1201.33 2309.94 1196.74 Q2306.76 1192.14 2306.76 1183.41 Q2306.76 1175.22 2310.65 1170.35 Q2314.54 1165.47 2321.09 1165.47 Q2322.85 1165.47 2324.64 1165.82 Q2326.44 1166.16 2328.39 1166.86 Z\" fill=\"#000000\" fill-rule=\"nonzero\" fill-opacity=\"1\" /><path clip-path=\"url(#clip750)\" d=\"M2348.69 1169.17 Q2345.07 1169.17 2343.25 1172.74 Q2341.44 1176.28 2341.44 1183.41 Q2341.44 1190.52 2343.25 1194.08 Q2345.07 1197.62 2348.69 1197.62 Q2352.32 1197.62 2354.13 1194.08 Q2355.95 1190.52 2355.95 1183.41 Q2355.95 1176.28 2354.13 1172.74 Q2352.32 1169.17 2348.69 1169.17 M2348.69 1165.47 Q2354.5 1165.47 2357.55 1170.08 Q2360.63 1174.66 2360.63 1183.41 Q2360.63 1192.14 2357.55 1196.74 Q2354.5 1201.33 2348.69 1201.33 Q2342.88 1201.33 2339.8 1196.74 Q2336.74 1192.14 2336.74 1183.41 Q2336.74 1174.66 2339.8 1170.08 Q2342.88 1165.47 2348.69 1165.47 Z\" fill=\"#000000\" fill-rule=\"nonzero\" fill-opacity=\"1\" /><path clip-path=\"url(#clip750)\" d=\"M2378.85 1169.17 Q2375.24 1169.17 2373.41 1172.74 Q2371.6 1176.28 2371.6 1183.41 Q2371.6 1190.52 2373.41 1194.08 Q2375.24 1197.62 2378.85 1197.62 Q2382.48 1197.62 2384.29 1194.08 Q2386.12 1190.52 2386.12 1183.41 Q2386.12 1176.28 2384.29 1172.74 Q2382.48 1169.17 2378.85 1169.17 M2378.85 1165.47 Q2384.66 1165.47 2387.71 1170.08 Q2390.79 1174.66 2390.79 1183.41 Q2390.79 1192.14 2387.71 1196.74 Q2384.66 1201.33 2378.85 1201.33 Q2373.04 1201.33 2369.96 1196.74 Q2366.9 1192.14 2366.9 1183.41 Q2366.9 1174.66 2369.96 1170.08 Q2373.04 1165.47 2378.85 1165.47 Z\" fill=\"#000000\" fill-rule=\"nonzero\" fill-opacity=\"1\" /><polyline clip-path=\"url(#clip750)\" style=\"stroke:#000000; stroke-linecap:round; stroke-linejoin:round; stroke-width:4; stroke-opacity:1; fill:none\" points=\"2232.76,1187 2256.76,1187 \"/>\n",
       "<path clip-path=\"url(#clip750)\" d=\"M2268.76 995.747 L2298.43 995.747 L2298.43 999.682 L2268.76 999.682 L2268.76 995.747 Z\" fill=\"#000000\" fill-rule=\"nonzero\" fill-opacity=\"1\" /><path clip-path=\"url(#clip750)\" d=\"M2308.57 978.016 L2326.93 978.016 L2326.93 981.951 L2312.85 981.951 L2312.85 990.423 Q2313.87 990.076 2314.89 989.914 Q2315.91 989.729 2316.93 989.729 Q2322.71 989.729 2326.09 992.9 Q2329.47 996.071 2329.47 1001.49 Q2329.47 1007.07 2326 1010.17 Q2322.53 1013.25 2316.21 1013.25 Q2314.03 1013.25 2311.76 1012.88 Q2309.52 1012.51 2307.11 1011.77 L2307.11 1007.07 Q2309.2 1008.2 2311.42 1008.76 Q2313.64 1009.31 2316.12 1009.31 Q2320.12 1009.31 2322.46 1007.21 Q2324.8 1005.1 2324.8 1001.49 Q2324.8 997.877 2322.46 995.77 Q2320.12 993.664 2316.12 993.664 Q2314.24 993.664 2312.37 994.08 Q2310.51 994.497 2308.57 995.377 L2308.57 978.016 Z\" fill=\"#000000\" fill-rule=\"nonzero\" fill-opacity=\"1\" /><path clip-path=\"url(#clip750)\" d=\"M2348.69 981.094 Q2345.07 981.094 2343.25 984.659 Q2341.44 988.201 2341.44 995.33 Q2341.44 1002.44 2343.25 1006 Q2345.07 1009.54 2348.69 1009.54 Q2352.32 1009.54 2354.13 1006 Q2355.95 1002.44 2355.95 995.33 Q2355.95 988.201 2354.13 984.659 Q2352.32 981.094 2348.69 981.094 M2348.69 977.391 Q2354.5 977.391 2357.55 981.997 Q2360.63 986.58 2360.63 995.33 Q2360.63 1004.06 2357.55 1008.66 Q2354.5 1013.25 2348.69 1013.25 Q2342.88 1013.25 2339.8 1008.66 Q2336.74 1004.06 2336.74 995.33 Q2336.74 986.58 2339.8 981.997 Q2342.88 977.391 2348.69 977.391 Z\" fill=\"#000000\" fill-rule=\"nonzero\" fill-opacity=\"1\" /><path clip-path=\"url(#clip750)\" d=\"M2378.85 981.094 Q2375.24 981.094 2373.41 984.659 Q2371.6 988.201 2371.6 995.33 Q2371.6 1002.44 2373.41 1006 Q2375.24 1009.54 2378.85 1009.54 Q2382.48 1009.54 2384.29 1006 Q2386.12 1002.44 2386.12 995.33 Q2386.12 988.201 2384.29 984.659 Q2382.48 981.094 2378.85 981.094 M2378.85 977.391 Q2384.66 977.391 2387.71 981.997 Q2390.79 986.58 2390.79 995.33 Q2390.79 1004.06 2387.71 1008.66 Q2384.66 1013.25 2378.85 1013.25 Q2373.04 1013.25 2369.96 1008.66 Q2366.9 1004.06 2366.9 995.33 Q2366.9 986.58 2369.96 981.997 Q2373.04 977.391 2378.85 977.391 Z\" fill=\"#000000\" fill-rule=\"nonzero\" fill-opacity=\"1\" /><polyline clip-path=\"url(#clip750)\" style=\"stroke:#000000; stroke-linecap:round; stroke-linejoin:round; stroke-width:4; stroke-opacity:1; fill:none\" points=\"2232.76,998.924 2256.76,998.924 \"/>\n",
       "<path clip-path=\"url(#clip750)\" d=\"M2268.76 807.668 L2298.43 807.668 L2298.43 811.603 L2268.76 811.603 L2268.76 807.668 Z\" fill=\"#000000\" fill-rule=\"nonzero\" fill-opacity=\"1\" /><path clip-path=\"url(#clip750)\" d=\"M2321.37 794.011 L2309.57 812.46 L2321.37 812.46 L2321.37 794.011 M2320.14 789.937 L2326.02 789.937 L2326.02 812.46 L2330.95 812.46 L2330.95 816.348 L2326.02 816.348 L2326.02 824.497 L2321.37 824.497 L2321.37 816.348 L2305.77 816.348 L2305.77 811.835 L2320.14 789.937 Z\" fill=\"#000000\" fill-rule=\"nonzero\" fill-opacity=\"1\" /><path clip-path=\"url(#clip750)\" d=\"M2348.69 793.015 Q2345.07 793.015 2343.25 796.58 Q2341.44 800.122 2341.44 807.251 Q2341.44 814.358 2343.25 817.922 Q2345.07 821.464 2348.69 821.464 Q2352.32 821.464 2354.13 817.922 Q2355.95 814.358 2355.95 807.251 Q2355.95 800.122 2354.13 796.58 Q2352.32 793.015 2348.69 793.015 M2348.69 789.312 Q2354.5 789.312 2357.55 793.918 Q2360.63 798.501 2360.63 807.251 Q2360.63 815.978 2357.55 820.585 Q2354.5 825.168 2348.69 825.168 Q2342.88 825.168 2339.8 820.585 Q2336.74 815.978 2336.74 807.251 Q2336.74 798.501 2339.8 793.918 Q2342.88 789.312 2348.69 789.312 Z\" fill=\"#000000\" fill-rule=\"nonzero\" fill-opacity=\"1\" /><path clip-path=\"url(#clip750)\" d=\"M2378.85 793.015 Q2375.24 793.015 2373.41 796.58 Q2371.6 800.122 2371.6 807.251 Q2371.6 814.358 2373.41 817.922 Q2375.24 821.464 2378.85 821.464 Q2382.48 821.464 2384.29 817.922 Q2386.12 814.358 2386.12 807.251 Q2386.12 800.122 2384.29 796.58 Q2382.48 793.015 2378.85 793.015 M2378.85 789.312 Q2384.66 789.312 2387.71 793.918 Q2390.79 798.501 2390.79 807.251 Q2390.79 815.978 2387.71 820.585 Q2384.66 825.168 2378.85 825.168 Q2373.04 825.168 2369.96 820.585 Q2366.9 815.978 2366.9 807.251 Q2366.9 798.501 2369.96 793.918 Q2373.04 789.312 2378.85 789.312 Z\" fill=\"#000000\" fill-rule=\"nonzero\" fill-opacity=\"1\" /><polyline clip-path=\"url(#clip750)\" style=\"stroke:#000000; stroke-linecap:round; stroke-linejoin:round; stroke-width:4; stroke-opacity:1; fill:none\" points=\"2232.76,810.845 2256.76,810.845 \"/>\n",
       "<path clip-path=\"url(#clip750)\" d=\"M2268.76 619.589 L2298.43 619.589 L2298.43 623.524 L2268.76 623.524 L2268.76 619.589 Z\" fill=\"#000000\" fill-rule=\"nonzero\" fill-opacity=\"1\" /><path clip-path=\"url(#clip750)\" d=\"M2322.69 617.783 Q2326.05 618.501 2327.92 620.769 Q2329.82 623.038 2329.82 626.371 Q2329.82 631.487 2326.3 634.288 Q2322.78 637.089 2316.3 637.089 Q2314.13 637.089 2311.81 636.649 Q2309.52 636.232 2307.07 635.376 L2307.07 630.862 Q2309.01 631.996 2311.33 632.575 Q2313.64 633.154 2316.16 633.154 Q2320.56 633.154 2322.85 631.417 Q2325.17 629.681 2325.17 626.371 Q2325.17 623.316 2323.01 621.603 Q2320.89 619.867 2317.07 619.867 L2313.04 619.867 L2313.04 616.024 L2317.25 616.024 Q2320.7 616.024 2322.53 614.658 Q2324.36 613.269 2324.36 610.677 Q2324.36 608.015 2322.46 606.603 Q2320.58 605.168 2317.07 605.168 Q2315.14 605.168 2312.95 605.584 Q2310.75 606.001 2308.11 606.881 L2308.11 602.714 Q2310.77 601.973 2313.08 601.603 Q2315.42 601.232 2317.48 601.232 Q2322.81 601.232 2325.91 603.663 Q2329.01 606.07 2329.01 610.191 Q2329.01 613.061 2327.37 615.052 Q2325.72 617.019 2322.69 617.783 Z\" fill=\"#000000\" fill-rule=\"nonzero\" fill-opacity=\"1\" /><path clip-path=\"url(#clip750)\" d=\"M2348.69 604.936 Q2345.07 604.936 2343.25 608.501 Q2341.44 612.043 2341.44 619.172 Q2341.44 626.279 2343.25 629.843 Q2345.07 633.385 2348.69 633.385 Q2352.32 633.385 2354.13 629.843 Q2355.95 626.279 2355.95 619.172 Q2355.95 612.043 2354.13 608.501 Q2352.32 604.936 2348.69 604.936 M2348.69 601.232 Q2354.5 601.232 2357.55 605.839 Q2360.63 610.422 2360.63 619.172 Q2360.63 627.899 2357.55 632.505 Q2354.5 637.089 2348.69 637.089 Q2342.88 637.089 2339.8 632.505 Q2336.74 627.899 2336.74 619.172 Q2336.74 610.422 2339.8 605.839 Q2342.88 601.232 2348.69 601.232 Z\" fill=\"#000000\" fill-rule=\"nonzero\" fill-opacity=\"1\" /><path clip-path=\"url(#clip750)\" d=\"M2378.85 604.936 Q2375.24 604.936 2373.41 608.501 Q2371.6 612.043 2371.6 619.172 Q2371.6 626.279 2373.41 629.843 Q2375.24 633.385 2378.85 633.385 Q2382.48 633.385 2384.29 629.843 Q2386.12 626.279 2386.12 619.172 Q2386.12 612.043 2384.29 608.501 Q2382.48 604.936 2378.85 604.936 M2378.85 601.232 Q2384.66 601.232 2387.71 605.839 Q2390.79 610.422 2390.79 619.172 Q2390.79 627.899 2387.71 632.505 Q2384.66 637.089 2378.85 637.089 Q2373.04 637.089 2369.96 632.505 Q2366.9 627.899 2366.9 619.172 Q2366.9 610.422 2369.96 605.839 Q2373.04 601.232 2378.85 601.232 Z\" fill=\"#000000\" fill-rule=\"nonzero\" fill-opacity=\"1\" /><polyline clip-path=\"url(#clip750)\" style=\"stroke:#000000; stroke-linecap:round; stroke-linejoin:round; stroke-width:4; stroke-opacity:1; fill:none\" points=\"2232.76,622.766 2256.76,622.766 \"/>\n",
       "<path clip-path=\"url(#clip750)\" d=\"M2268.76 431.51 L2298.43 431.51 L2298.43 435.445 L2268.76 435.445 L2268.76 431.51 Z\" fill=\"#000000\" fill-rule=\"nonzero\" fill-opacity=\"1\" /><path clip-path=\"url(#clip750)\" d=\"M2312.55 444.403 L2328.87 444.403 L2328.87 448.338 L2306.93 448.338 L2306.93 444.403 Q2309.59 441.649 2314.17 437.019 Q2318.78 432.366 2319.96 431.024 Q2322.2 428.5 2323.08 426.764 Q2323.99 425.005 2323.99 423.315 Q2323.99 420.561 2322.04 418.825 Q2320.12 417.088 2317.02 417.088 Q2314.82 417.088 2312.37 417.852 Q2309.94 418.616 2307.16 420.167 L2307.16 415.445 Q2309.98 414.311 2312.44 413.732 Q2314.89 413.153 2316.93 413.153 Q2322.3 413.153 2325.49 415.838 Q2328.69 418.524 2328.69 423.014 Q2328.69 425.144 2327.88 427.065 Q2327.09 428.963 2324.98 431.556 Q2324.4 432.227 2321.3 435.445 Q2318.2 438.639 2312.55 444.403 Z\" fill=\"#000000\" fill-rule=\"nonzero\" fill-opacity=\"1\" /><path clip-path=\"url(#clip750)\" d=\"M2348.69 416.857 Q2345.07 416.857 2343.25 420.422 Q2341.44 423.963 2341.44 431.093 Q2341.44 438.199 2343.25 441.764 Q2345.07 445.306 2348.69 445.306 Q2352.32 445.306 2354.13 441.764 Q2355.95 438.199 2355.95 431.093 Q2355.95 423.963 2354.13 420.422 Q2352.32 416.857 2348.69 416.857 M2348.69 413.153 Q2354.5 413.153 2357.55 417.76 Q2360.63 422.343 2360.63 431.093 Q2360.63 439.82 2357.55 444.426 Q2354.5 449.01 2348.69 449.01 Q2342.88 449.01 2339.8 444.426 Q2336.74 439.82 2336.74 431.093 Q2336.74 422.343 2339.8 417.76 Q2342.88 413.153 2348.69 413.153 Z\" fill=\"#000000\" fill-rule=\"nonzero\" fill-opacity=\"1\" /><path clip-path=\"url(#clip750)\" d=\"M2378.85 416.857 Q2375.24 416.857 2373.41 420.422 Q2371.6 423.963 2371.6 431.093 Q2371.6 438.199 2373.41 441.764 Q2375.24 445.306 2378.85 445.306 Q2382.48 445.306 2384.29 441.764 Q2386.12 438.199 2386.12 431.093 Q2386.12 423.963 2384.29 420.422 Q2382.48 416.857 2378.85 416.857 M2378.85 413.153 Q2384.66 413.153 2387.71 417.76 Q2390.79 422.343 2390.79 431.093 Q2390.79 439.82 2387.71 444.426 Q2384.66 449.01 2378.85 449.01 Q2373.04 449.01 2369.96 444.426 Q2366.9 439.82 2366.9 431.093 Q2366.9 422.343 2369.96 417.76 Q2373.04 413.153 2378.85 413.153 Z\" fill=\"#000000\" fill-rule=\"nonzero\" fill-opacity=\"1\" /><polyline clip-path=\"url(#clip750)\" style=\"stroke:#000000; stroke-linecap:round; stroke-linejoin:round; stroke-width:4; stroke-opacity:1; fill:none\" points=\"2232.76,434.687 2256.76,434.687 \"/>\n",
       "<path clip-path=\"url(#clip750)\" d=\"M2268.76 243.431 L2298.43 243.431 L2298.43 247.366 L2268.76 247.366 L2268.76 243.431 Z\" fill=\"#000000\" fill-rule=\"nonzero\" fill-opacity=\"1\" /><path clip-path=\"url(#clip750)\" d=\"M2309.33 256.324 L2316.97 256.324 L2316.97 229.958 L2308.66 231.625 L2308.66 227.366 L2316.93 225.699 L2321.6 225.699 L2321.6 256.324 L2329.24 256.324 L2329.24 260.259 L2309.33 260.259 L2309.33 256.324 Z\" fill=\"#000000\" fill-rule=\"nonzero\" fill-opacity=\"1\" /><path clip-path=\"url(#clip750)\" d=\"M2348.69 228.778 Q2345.07 228.778 2343.25 232.343 Q2341.44 235.884 2341.44 243.014 Q2341.44 250.12 2343.25 253.685 Q2345.07 257.227 2348.69 257.227 Q2352.32 257.227 2354.13 253.685 Q2355.95 250.12 2355.95 243.014 Q2355.95 235.884 2354.13 232.343 Q2352.32 228.778 2348.69 228.778 M2348.69 225.074 Q2354.5 225.074 2357.55 229.681 Q2360.63 234.264 2360.63 243.014 Q2360.63 251.741 2357.55 256.347 Q2354.5 260.93 2348.69 260.93 Q2342.88 260.93 2339.8 256.347 Q2336.74 251.741 2336.74 243.014 Q2336.74 234.264 2339.8 229.681 Q2342.88 225.074 2348.69 225.074 Z\" fill=\"#000000\" fill-rule=\"nonzero\" fill-opacity=\"1\" /><path clip-path=\"url(#clip750)\" d=\"M2378.85 228.778 Q2375.24 228.778 2373.41 232.343 Q2371.6 235.884 2371.6 243.014 Q2371.6 250.12 2373.41 253.685 Q2375.24 257.227 2378.85 257.227 Q2382.48 257.227 2384.29 253.685 Q2386.12 250.12 2386.12 243.014 Q2386.12 235.884 2384.29 232.343 Q2382.48 228.778 2378.85 228.778 M2378.85 225.074 Q2384.66 225.074 2387.71 229.681 Q2390.79 234.264 2390.79 243.014 Q2390.79 251.741 2387.71 256.347 Q2384.66 260.93 2378.85 260.93 Q2373.04 260.93 2369.96 256.347 Q2366.9 251.741 2366.9 243.014 Q2366.9 234.264 2369.96 229.681 Q2373.04 225.074 2378.85 225.074 Z\" fill=\"#000000\" fill-rule=\"nonzero\" fill-opacity=\"1\" /><polyline clip-path=\"url(#clip750)\" style=\"stroke:#000000; stroke-linecap:round; stroke-linejoin:round; stroke-width:4; stroke-opacity:1; fill:none\" points=\"2232.76,246.608 2256.76,246.608 \"/>\n",
       "<path clip-path=\"url(#clip750)\" d=\"M2280.7 40.6987 Q2277.09 40.6987 2275.26 44.2635 Q2273.45 47.8052 2273.45 54.9348 Q2273.45 62.0412 2275.26 65.606 Q2277.09 69.1477 2280.7 69.1477 Q2284.33 69.1477 2286.14 65.606 Q2287.97 62.0412 2287.97 54.9348 Q2287.97 47.8052 2286.14 44.2635 Q2284.33 40.6987 2280.7 40.6987 M2280.7 36.995 Q2286.51 36.995 2289.57 41.6015 Q2292.64 46.1848 2292.64 54.9348 Q2292.64 63.6616 2289.57 68.268 Q2286.51 72.8513 2280.7 72.8513 Q2274.89 72.8513 2271.81 68.268 Q2268.76 63.6616 2268.76 54.9348 Q2268.76 46.1848 2271.81 41.6015 Q2274.89 36.995 2280.7 36.995 Z\" fill=\"#000000\" fill-rule=\"nonzero\" fill-opacity=\"1\" /><polyline clip-path=\"url(#clip750)\" style=\"stroke:#000000; stroke-linecap:round; stroke-linejoin:round; stroke-width:4; stroke-opacity:1; fill:none\" points=\"2232.76,58.5288 2256.76,58.5288 \"/>\n",
       "<polyline clip-path=\"url(#clip750)\" style=\"stroke:#000000; stroke-linecap:round; stroke-linejoin:round; stroke-width:4; stroke-opacity:1; fill:none\" points=\"2232.76,1486.45 2232.76,47.2441 \"/>\n",
       "</svg>\n"
      ],
      "text/html": [
       "<?xml version=\"1.0\" encoding=\"utf-8\"?>\n",
       "<svg xmlns=\"http://www.w3.org/2000/svg\" xmlns:xlink=\"http://www.w3.org/1999/xlink\" width=\"600\" height=\"400\" viewBox=\"0 0 2400 1600\">\n",
       "<defs>\n",
       "  <clipPath id=\"clip800\">\n",
       "    <rect x=\"0\" y=\"0\" width=\"2400\" height=\"1600\"/>\n",
       "  </clipPath>\n",
       "</defs>\n",
       "<path clip-path=\"url(#clip800)\" d=\"M0 1600 L2400 1600 L2400 0 L0 0  Z\" fill=\"#ffffff\" fill-rule=\"evenodd\" fill-opacity=\"1\"/>\n",
       "<defs>\n",
       "  <clipPath id=\"clip801\">\n",
       "    <rect x=\"480\" y=\"0\" width=\"1681\" height=\"1600\"/>\n",
       "  </clipPath>\n",
       "</defs>\n",
       "<path clip-path=\"url(#clip800)\" d=\"M201.019 1486.45 L2112.76 1486.45 L2112.76 47.2441 L201.019 47.2441  Z\" fill=\"#ffffff\" fill-rule=\"evenodd\" fill-opacity=\"1\"/>\n",
       "<defs>\n",
       "  <clipPath id=\"clip802\">\n",
       "    <rect x=\"201\" y=\"47\" width=\"1913\" height=\"1440\"/>\n",
       "  </clipPath>\n",
       "</defs>\n",
       "<polyline clip-path=\"url(#clip802)\" style=\"stroke:#000000; stroke-linecap:round; stroke-linejoin:round; stroke-width:2; stroke-opacity:0.1; fill:none\" points=\"675.378,1486.45 675.378,47.2441 \"/>\n",
       "<polyline clip-path=\"url(#clip802)\" style=\"stroke:#000000; stroke-linecap:round; stroke-linejoin:round; stroke-width:2; stroke-opacity:0.1; fill:none\" points=\"1152.12,1486.45 1152.12,47.2441 \"/>\n",
       "<polyline clip-path=\"url(#clip802)\" style=\"stroke:#000000; stroke-linecap:round; stroke-linejoin:round; stroke-width:2; stroke-opacity:0.1; fill:none\" points=\"1628.86,1486.45 1628.86,47.2441 \"/>\n",
       "<polyline clip-path=\"url(#clip802)\" style=\"stroke:#000000; stroke-linecap:round; stroke-linejoin:round; stroke-width:2; stroke-opacity:0.1; fill:none\" points=\"2105.6,1486.45 2105.6,47.2441 \"/>\n",
       "<polyline clip-path=\"url(#clip802)\" style=\"stroke:#000000; stroke-linecap:round; stroke-linejoin:round; stroke-width:2; stroke-opacity:0.1; fill:none\" points=\"201.019,1127.19 2112.76,1127.19 \"/>\n",
       "<polyline clip-path=\"url(#clip802)\" style=\"stroke:#000000; stroke-linecap:round; stroke-linejoin:round; stroke-width:2; stroke-opacity:0.1; fill:none\" points=\"201.019,767.565 2112.76,767.565 \"/>\n",
       "<polyline clip-path=\"url(#clip802)\" style=\"stroke:#000000; stroke-linecap:round; stroke-linejoin:round; stroke-width:2; stroke-opacity:0.1; fill:none\" points=\"201.019,407.944 2112.76,407.944 \"/>\n",
       "<polyline clip-path=\"url(#clip802)\" style=\"stroke:#000000; stroke-linecap:round; stroke-linejoin:round; stroke-width:2; stroke-opacity:0.1; fill:none\" points=\"201.019,48.323 2112.76,48.323 \"/>\n",
       "<polyline clip-path=\"url(#clip800)\" style=\"stroke:#000000; stroke-linecap:round; stroke-linejoin:round; stroke-width:4; stroke-opacity:1; fill:none\" points=\"201.019,1486.45 2112.76,1486.45 \"/>\n",
       "<polyline clip-path=\"url(#clip800)\" style=\"stroke:#000000; stroke-linecap:round; stroke-linejoin:round; stroke-width:4; stroke-opacity:1; fill:none\" points=\"675.378,1486.45 675.378,1467.55 \"/>\n",
       "<polyline clip-path=\"url(#clip800)\" style=\"stroke:#000000; stroke-linecap:round; stroke-linejoin:round; stroke-width:4; stroke-opacity:1; fill:none\" points=\"1152.12,1486.45 1152.12,1467.55 \"/>\n",
       "<polyline clip-path=\"url(#clip800)\" style=\"stroke:#000000; stroke-linecap:round; stroke-linejoin:round; stroke-width:4; stroke-opacity:1; fill:none\" points=\"1628.86,1486.45 1628.86,1467.55 \"/>\n",
       "<polyline clip-path=\"url(#clip800)\" style=\"stroke:#000000; stroke-linecap:round; stroke-linejoin:round; stroke-width:4; stroke-opacity:1; fill:none\" points=\"2105.6,1486.45 2105.6,1467.55 \"/>\n",
       "<path clip-path=\"url(#clip800)\" d=\"M634.985 1544.91 L642.623 1544.91 L642.623 1518.55 L634.313 1520.21 L634.313 1515.95 L642.577 1514.29 L647.253 1514.29 L647.253 1544.91 L654.892 1544.91 L654.892 1548.85 L634.985 1548.85 L634.985 1544.91 Z\" fill=\"#000000\" fill-rule=\"nonzero\" fill-opacity=\"1\" /><path clip-path=\"url(#clip800)\" d=\"M674.336 1517.37 Q670.725 1517.37 668.896 1520.93 Q667.091 1524.47 667.091 1531.6 Q667.091 1538.71 668.896 1542.27 Q670.725 1545.82 674.336 1545.82 Q677.97 1545.82 679.776 1542.27 Q681.605 1538.71 681.605 1531.6 Q681.605 1524.47 679.776 1520.93 Q677.97 1517.37 674.336 1517.37 M674.336 1513.66 Q680.146 1513.66 683.202 1518.27 Q686.281 1522.85 686.281 1531.6 Q686.281 1540.33 683.202 1544.94 Q680.146 1549.52 674.336 1549.52 Q668.526 1549.52 665.447 1544.94 Q662.392 1540.33 662.392 1531.6 Q662.392 1522.85 665.447 1518.27 Q668.526 1513.66 674.336 1513.66 Z\" fill=\"#000000\" fill-rule=\"nonzero\" fill-opacity=\"1\" /><path clip-path=\"url(#clip800)\" d=\"M704.498 1517.37 Q700.887 1517.37 699.058 1520.93 Q697.253 1524.47 697.253 1531.6 Q697.253 1538.71 699.058 1542.27 Q700.887 1545.82 704.498 1545.82 Q708.132 1545.82 709.938 1542.27 Q711.767 1538.71 711.767 1531.6 Q711.767 1524.47 709.938 1520.93 Q708.132 1517.37 704.498 1517.37 M704.498 1513.66 Q710.308 1513.66 713.364 1518.27 Q716.442 1522.85 716.442 1531.6 Q716.442 1540.33 713.364 1544.94 Q710.308 1549.52 704.498 1549.52 Q698.688 1549.52 695.609 1544.94 Q692.554 1540.33 692.554 1531.6 Q692.554 1522.85 695.609 1518.27 Q698.688 1513.66 704.498 1513.66 Z\" fill=\"#000000\" fill-rule=\"nonzero\" fill-opacity=\"1\" /><path clip-path=\"url(#clip800)\" d=\"M1115.81 1544.91 L1132.13 1544.91 L1132.13 1548.85 L1110.19 1548.85 L1110.19 1544.91 Q1112.85 1542.16 1117.43 1537.53 Q1122.04 1532.88 1123.22 1531.53 Q1125.47 1529.01 1126.34 1527.27 Q1127.25 1525.51 1127.25 1523.82 Q1127.25 1521.07 1125.3 1519.33 Q1123.38 1517.6 1120.28 1517.6 Q1118.08 1517.6 1115.63 1518.36 Q1113.2 1519.13 1110.42 1520.68 L1110.42 1515.95 Q1113.24 1514.82 1115.7 1514.24 Q1118.15 1513.66 1120.19 1513.66 Q1125.56 1513.66 1128.75 1516.35 Q1131.95 1519.03 1131.95 1523.52 Q1131.95 1525.65 1131.14 1527.57 Q1130.35 1529.47 1128.24 1532.07 Q1127.66 1532.74 1124.56 1535.95 Q1121.46 1539.15 1115.81 1544.91 Z\" fill=\"#000000\" fill-rule=\"nonzero\" fill-opacity=\"1\" /><path clip-path=\"url(#clip800)\" d=\"M1151.95 1517.37 Q1148.34 1517.37 1146.51 1520.93 Q1144.7 1524.47 1144.7 1531.6 Q1144.7 1538.71 1146.51 1542.27 Q1148.34 1545.82 1151.95 1545.82 Q1155.58 1545.82 1157.39 1542.27 Q1159.22 1538.71 1159.22 1531.6 Q1159.22 1524.47 1157.39 1520.93 Q1155.58 1517.37 1151.95 1517.37 M1151.95 1513.66 Q1157.76 1513.66 1160.81 1518.27 Q1163.89 1522.85 1163.89 1531.6 Q1163.89 1540.33 1160.81 1544.94 Q1157.76 1549.52 1151.95 1549.52 Q1146.14 1549.52 1143.06 1544.94 Q1140 1540.33 1140 1531.6 Q1140 1522.85 1143.06 1518.27 Q1146.14 1513.66 1151.95 1513.66 Z\" fill=\"#000000\" fill-rule=\"nonzero\" fill-opacity=\"1\" /><path clip-path=\"url(#clip800)\" d=\"M1182.11 1517.37 Q1178.5 1517.37 1176.67 1520.93 Q1174.86 1524.47 1174.86 1531.6 Q1174.86 1538.71 1176.67 1542.27 Q1178.5 1545.82 1182.11 1545.82 Q1185.74 1545.82 1187.55 1542.27 Q1189.38 1538.71 1189.38 1531.6 Q1189.38 1524.47 1187.55 1520.93 Q1185.74 1517.37 1182.11 1517.37 M1182.11 1513.66 Q1187.92 1513.66 1190.97 1518.27 Q1194.05 1522.85 1194.05 1531.6 Q1194.05 1540.33 1190.97 1544.94 Q1187.92 1549.52 1182.11 1549.52 Q1176.3 1549.52 1173.22 1544.94 Q1170.16 1540.33 1170.16 1531.6 Q1170.16 1522.85 1173.22 1518.27 Q1176.3 1513.66 1182.11 1513.66 Z\" fill=\"#000000\" fill-rule=\"nonzero\" fill-opacity=\"1\" /><path clip-path=\"url(#clip800)\" d=\"M1602.62 1530.21 Q1605.98 1530.93 1607.86 1533.2 Q1609.75 1535.47 1609.75 1538.8 Q1609.75 1543.92 1606.24 1546.72 Q1602.72 1549.52 1596.24 1549.52 Q1594.06 1549.52 1591.74 1549.08 Q1589.45 1548.66 1587 1547.81 L1587 1543.29 Q1588.94 1544.43 1591.26 1545.01 Q1593.57 1545.58 1596.1 1545.58 Q1600.49 1545.58 1602.79 1543.85 Q1605.1 1542.11 1605.1 1538.8 Q1605.1 1535.75 1602.95 1534.03 Q1600.82 1532.3 1597 1532.3 L1592.97 1532.3 L1592.97 1528.45 L1597.18 1528.45 Q1600.63 1528.45 1602.46 1527.09 Q1604.29 1525.7 1604.29 1523.11 Q1604.29 1520.45 1602.39 1519.03 Q1600.52 1517.6 1597 1517.6 Q1595.08 1517.6 1592.88 1518.01 Q1590.68 1518.43 1588.04 1519.31 L1588.04 1515.14 Q1590.7 1514.4 1593.02 1514.03 Q1595.36 1513.66 1597.42 1513.66 Q1602.74 1513.66 1605.84 1516.09 Q1608.94 1518.5 1608.94 1522.62 Q1608.94 1525.49 1607.3 1527.48 Q1605.66 1529.45 1602.62 1530.21 Z\" fill=\"#000000\" fill-rule=\"nonzero\" fill-opacity=\"1\" /><path clip-path=\"url(#clip800)\" d=\"M1628.62 1517.37 Q1625.01 1517.37 1623.18 1520.93 Q1621.37 1524.47 1621.37 1531.6 Q1621.37 1538.71 1623.18 1542.27 Q1625.01 1545.82 1628.62 1545.82 Q1632.25 1545.82 1634.06 1542.27 Q1635.89 1538.71 1635.89 1531.6 Q1635.89 1524.47 1634.06 1520.93 Q1632.25 1517.37 1628.62 1517.37 M1628.62 1513.66 Q1634.43 1513.66 1637.49 1518.27 Q1640.56 1522.85 1640.56 1531.6 Q1640.56 1540.33 1637.49 1544.94 Q1634.43 1549.52 1628.62 1549.52 Q1622.81 1549.52 1619.73 1544.94 Q1616.68 1540.33 1616.68 1531.6 Q1616.68 1522.85 1619.73 1518.27 Q1622.81 1513.66 1628.62 1513.66 Z\" fill=\"#000000\" fill-rule=\"nonzero\" fill-opacity=\"1\" /><path clip-path=\"url(#clip800)\" d=\"M1658.78 1517.37 Q1655.17 1517.37 1653.34 1520.93 Q1651.54 1524.47 1651.54 1531.6 Q1651.54 1538.71 1653.34 1542.27 Q1655.17 1545.82 1658.78 1545.82 Q1662.42 1545.82 1664.22 1542.27 Q1666.05 1538.71 1666.05 1531.6 Q1666.05 1524.47 1664.22 1520.93 Q1662.42 1517.37 1658.78 1517.37 M1658.78 1513.66 Q1664.59 1513.66 1667.65 1518.27 Q1670.73 1522.85 1670.73 1531.6 Q1670.73 1540.33 1667.65 1544.94 Q1664.59 1549.52 1658.78 1549.52 Q1652.97 1549.52 1649.89 1544.94 Q1646.84 1540.33 1646.84 1531.6 Q1646.84 1522.85 1649.89 1518.27 Q1652.97 1513.66 1658.78 1513.66 Z\" fill=\"#000000\" fill-rule=\"nonzero\" fill-opacity=\"1\" /><path clip-path=\"url(#clip800)\" d=\"M2078.7 1518.36 L2066.89 1536.81 L2078.7 1536.81 L2078.7 1518.36 M2077.47 1514.29 L2083.35 1514.29 L2083.35 1536.81 L2088.28 1536.81 L2088.28 1540.7 L2083.35 1540.7 L2083.35 1548.85 L2078.7 1548.85 L2078.7 1540.7 L2063.09 1540.7 L2063.09 1536.19 L2077.47 1514.29 Z\" fill=\"#000000\" fill-rule=\"nonzero\" fill-opacity=\"1\" /><path clip-path=\"url(#clip800)\" d=\"M2106.01 1517.37 Q2102.4 1517.37 2100.57 1520.93 Q2098.76 1524.47 2098.76 1531.6 Q2098.76 1538.71 2100.57 1542.27 Q2102.4 1545.82 2106.01 1545.82 Q2109.64 1545.82 2111.45 1542.27 Q2113.28 1538.71 2113.28 1531.6 Q2113.28 1524.47 2111.45 1520.93 Q2109.64 1517.37 2106.01 1517.37 M2106.01 1513.66 Q2111.82 1513.66 2114.88 1518.27 Q2117.95 1522.85 2117.95 1531.6 Q2117.95 1540.33 2114.88 1544.94 Q2111.82 1549.52 2106.01 1549.52 Q2100.2 1549.52 2097.12 1544.94 Q2094.07 1540.33 2094.07 1531.6 Q2094.07 1522.85 2097.12 1518.27 Q2100.2 1513.66 2106.01 1513.66 Z\" fill=\"#000000\" fill-rule=\"nonzero\" fill-opacity=\"1\" /><path clip-path=\"url(#clip800)\" d=\"M2136.17 1517.37 Q2132.56 1517.37 2130.73 1520.93 Q2128.93 1524.47 2128.93 1531.6 Q2128.93 1538.71 2130.73 1542.27 Q2132.56 1545.82 2136.17 1545.82 Q2139.81 1545.82 2141.61 1542.27 Q2143.44 1538.71 2143.44 1531.6 Q2143.44 1524.47 2141.61 1520.93 Q2139.81 1517.37 2136.17 1517.37 M2136.17 1513.66 Q2141.98 1513.66 2145.04 1518.27 Q2148.12 1522.85 2148.12 1531.6 Q2148.12 1540.33 2145.04 1544.94 Q2141.98 1549.52 2136.17 1549.52 Q2130.36 1549.52 2127.28 1544.94 Q2124.23 1540.33 2124.23 1531.6 Q2124.23 1522.85 2127.28 1518.27 Q2130.36 1513.66 2136.17 1513.66 Z\" fill=\"#000000\" fill-rule=\"nonzero\" fill-opacity=\"1\" /><polyline clip-path=\"url(#clip800)\" style=\"stroke:#000000; stroke-linecap:round; stroke-linejoin:round; stroke-width:4; stroke-opacity:1; fill:none\" points=\"201.019,1486.45 201.019,47.2441 \"/>\n",
       "<polyline clip-path=\"url(#clip800)\" style=\"stroke:#000000; stroke-linecap:round; stroke-linejoin:round; stroke-width:4; stroke-opacity:1; fill:none\" points=\"201.019,1127.19 217.809,1127.19 \"/>\n",
       "<polyline clip-path=\"url(#clip800)\" style=\"stroke:#000000; stroke-linecap:round; stroke-linejoin:round; stroke-width:4; stroke-opacity:1; fill:none\" points=\"201.019,767.565 217.809,767.565 \"/>\n",
       "<polyline clip-path=\"url(#clip800)\" style=\"stroke:#000000; stroke-linecap:round; stroke-linejoin:round; stroke-width:4; stroke-opacity:1; fill:none\" points=\"201.019,407.944 217.809,407.944 \"/>\n",
       "<polyline clip-path=\"url(#clip800)\" style=\"stroke:#000000; stroke-linecap:round; stroke-linejoin:round; stroke-width:4; stroke-opacity:1; fill:none\" points=\"201.019,48.323 217.809,48.323 \"/>\n",
       "<path clip-path=\"url(#clip800)\" d=\"M82.7975 1109.91 L101.154 1109.91 L101.154 1113.84 L87.0799 1113.84 L87.0799 1122.31 Q88.0984 1121.97 89.1169 1121.8 Q90.1354 1121.62 91.1539 1121.62 Q96.941 1121.62 100.321 1124.79 Q103.7 1127.96 103.7 1133.38 Q103.7 1138.96 100.228 1142.06 Q96.7558 1145.14 90.4364 1145.14 Q88.2604 1145.14 85.9919 1144.77 Q83.7466 1144.4 81.3392 1143.66 L81.3392 1138.96 Q83.4225 1140.09 85.6447 1140.65 Q87.8669 1141.2 90.3438 1141.2 Q94.3484 1141.2 96.6863 1139.1 Q99.0243 1136.99 99.0243 1133.38 Q99.0243 1129.77 96.6863 1127.66 Q94.3484 1125.55 90.3438 1125.55 Q88.4688 1125.55 86.5938 1125.97 Q84.7419 1126.39 82.7975 1127.27 L82.7975 1109.91 Z\" fill=\"#000000\" fill-rule=\"nonzero\" fill-opacity=\"1\" /><path clip-path=\"url(#clip800)\" d=\"M122.913 1112.99 Q119.302 1112.99 117.473 1116.55 Q115.668 1120.09 115.668 1127.22 Q115.668 1134.33 117.473 1137.89 Q119.302 1141.43 122.913 1141.43 Q126.547 1141.43 128.353 1137.89 Q130.182 1134.33 130.182 1127.22 Q130.182 1120.09 128.353 1116.55 Q126.547 1112.99 122.913 1112.99 M122.913 1109.28 Q128.723 1109.28 131.779 1113.89 Q134.857 1118.47 134.857 1127.22 Q134.857 1135.95 131.779 1140.55 Q128.723 1145.14 122.913 1145.14 Q117.103 1145.14 114.024 1140.55 Q110.969 1135.95 110.969 1127.22 Q110.969 1118.47 114.024 1113.89 Q117.103 1109.28 122.913 1109.28 Z\" fill=\"#000000\" fill-rule=\"nonzero\" fill-opacity=\"1\" /><path clip-path=\"url(#clip800)\" d=\"M153.075 1112.99 Q149.464 1112.99 147.635 1116.55 Q145.83 1120.09 145.83 1127.22 Q145.83 1134.33 147.635 1137.89 Q149.464 1141.43 153.075 1141.43 Q156.709 1141.43 158.515 1137.89 Q160.343 1134.33 160.343 1127.22 Q160.343 1120.09 158.515 1116.55 Q156.709 1112.99 153.075 1112.99 M153.075 1109.28 Q158.885 1109.28 161.941 1113.89 Q165.019 1118.47 165.019 1127.22 Q165.019 1135.95 161.941 1140.55 Q158.885 1145.14 153.075 1145.14 Q147.265 1145.14 144.186 1140.55 Q141.131 1135.95 141.131 1127.22 Q141.131 1118.47 144.186 1113.89 Q147.265 1109.28 153.075 1109.28 Z\" fill=\"#000000\" fill-rule=\"nonzero\" fill-opacity=\"1\" /><path clip-path=\"url(#clip800)\" d=\"M53.3995 780.91 L61.0384 780.91 L61.0384 754.544 L52.7282 756.211 L52.7282 751.952 L60.9921 750.285 L65.668 750.285 L65.668 780.91 L73.3068 780.91 L73.3068 784.845 L53.3995 784.845 L53.3995 780.91 Z\" fill=\"#000000\" fill-rule=\"nonzero\" fill-opacity=\"1\" /><path clip-path=\"url(#clip800)\" d=\"M92.7512 753.364 Q89.1401 753.364 87.3114 756.929 Q85.5058 760.47 85.5058 767.6 Q85.5058 774.706 87.3114 778.271 Q89.1401 781.813 92.7512 781.813 Q96.3854 781.813 98.1909 778.271 Q100.02 774.706 100.02 767.6 Q100.02 760.47 98.1909 756.929 Q96.3854 753.364 92.7512 753.364 M92.7512 749.66 Q98.5613 749.66 101.617 754.267 Q104.696 758.85 104.696 767.6 Q104.696 776.327 101.617 780.933 Q98.5613 785.517 92.7512 785.517 Q86.941 785.517 83.8623 780.933 Q80.8068 776.327 80.8068 767.6 Q80.8068 758.85 83.8623 754.267 Q86.941 749.66 92.7512 749.66 Z\" fill=\"#000000\" fill-rule=\"nonzero\" fill-opacity=\"1\" /><path clip-path=\"url(#clip800)\" d=\"M122.913 753.364 Q119.302 753.364 117.473 756.929 Q115.668 760.47 115.668 767.6 Q115.668 774.706 117.473 778.271 Q119.302 781.813 122.913 781.813 Q126.547 781.813 128.353 778.271 Q130.182 774.706 130.182 767.6 Q130.182 760.47 128.353 756.929 Q126.547 753.364 122.913 753.364 M122.913 749.66 Q128.723 749.66 131.779 754.267 Q134.857 758.85 134.857 767.6 Q134.857 776.327 131.779 780.933 Q128.723 785.517 122.913 785.517 Q117.103 785.517 114.024 780.933 Q110.969 776.327 110.969 767.6 Q110.969 758.85 114.024 754.267 Q117.103 749.66 122.913 749.66 Z\" fill=\"#000000\" fill-rule=\"nonzero\" fill-opacity=\"1\" /><path clip-path=\"url(#clip800)\" d=\"M153.075 753.364 Q149.464 753.364 147.635 756.929 Q145.83 760.47 145.83 767.6 Q145.83 774.706 147.635 778.271 Q149.464 781.813 153.075 781.813 Q156.709 781.813 158.515 778.271 Q160.343 774.706 160.343 767.6 Q160.343 760.47 158.515 756.929 Q156.709 753.364 153.075 753.364 M153.075 749.66 Q158.885 749.66 161.941 754.267 Q165.019 758.85 165.019 767.6 Q165.019 776.327 161.941 780.933 Q158.885 785.517 153.075 785.517 Q147.265 785.517 144.186 780.933 Q141.131 776.327 141.131 767.6 Q141.131 758.85 144.186 754.267 Q147.265 749.66 153.075 749.66 Z\" fill=\"#000000\" fill-rule=\"nonzero\" fill-opacity=\"1\" /><path clip-path=\"url(#clip800)\" d=\"M53.3995 421.289 L61.0384 421.289 L61.0384 394.923 L52.7282 396.59 L52.7282 392.331 L60.9921 390.664 L65.668 390.664 L65.668 421.289 L73.3068 421.289 L73.3068 425.224 L53.3995 425.224 L53.3995 421.289 Z\" fill=\"#000000\" fill-rule=\"nonzero\" fill-opacity=\"1\" /><path clip-path=\"url(#clip800)\" d=\"M82.7975 390.664 L101.154 390.664 L101.154 394.599 L87.0799 394.599 L87.0799 403.071 Q88.0984 402.724 89.1169 402.562 Q90.1354 402.377 91.1539 402.377 Q96.941 402.377 100.321 405.548 Q103.7 408.72 103.7 414.136 Q103.7 419.715 100.228 422.817 Q96.7558 425.895 90.4364 425.895 Q88.2604 425.895 85.9919 425.525 Q83.7466 425.155 81.3392 424.414 L81.3392 419.715 Q83.4225 420.849 85.6447 421.405 Q87.8669 421.96 90.3438 421.96 Q94.3484 421.96 96.6863 419.854 Q99.0243 417.747 99.0243 414.136 Q99.0243 410.525 96.6863 408.419 Q94.3484 406.312 90.3438 406.312 Q88.4688 406.312 86.5938 406.729 Q84.7419 407.145 82.7975 408.025 L82.7975 390.664 Z\" fill=\"#000000\" fill-rule=\"nonzero\" fill-opacity=\"1\" /><path clip-path=\"url(#clip800)\" d=\"M122.913 393.743 Q119.302 393.743 117.473 397.308 Q115.668 400.849 115.668 407.979 Q115.668 415.085 117.473 418.65 Q119.302 422.192 122.913 422.192 Q126.547 422.192 128.353 418.65 Q130.182 415.085 130.182 407.979 Q130.182 400.849 128.353 397.308 Q126.547 393.743 122.913 393.743 M122.913 390.039 Q128.723 390.039 131.779 394.646 Q134.857 399.229 134.857 407.979 Q134.857 416.706 131.779 421.312 Q128.723 425.895 122.913 425.895 Q117.103 425.895 114.024 421.312 Q110.969 416.706 110.969 407.979 Q110.969 399.229 114.024 394.646 Q117.103 390.039 122.913 390.039 Z\" fill=\"#000000\" fill-rule=\"nonzero\" fill-opacity=\"1\" /><path clip-path=\"url(#clip800)\" d=\"M153.075 393.743 Q149.464 393.743 147.635 397.308 Q145.83 400.849 145.83 407.979 Q145.83 415.085 147.635 418.65 Q149.464 422.192 153.075 422.192 Q156.709 422.192 158.515 418.65 Q160.343 415.085 160.343 407.979 Q160.343 400.849 158.515 397.308 Q156.709 393.743 153.075 393.743 M153.075 390.039 Q158.885 390.039 161.941 394.646 Q165.019 399.229 165.019 407.979 Q165.019 416.706 161.941 421.312 Q158.885 425.895 153.075 425.895 Q147.265 425.895 144.186 421.312 Q141.131 416.706 141.131 407.979 Q141.131 399.229 144.186 394.646 Q147.265 390.039 153.075 390.039 Z\" fill=\"#000000\" fill-rule=\"nonzero\" fill-opacity=\"1\" /><path clip-path=\"url(#clip800)\" d=\"M56.6171 61.6678 L72.9365 61.6678 L72.9365 65.603 L50.9921 65.603 L50.9921 61.6678 Q53.6541 58.9132 58.2375 54.2836 Q62.8439 49.6308 64.0245 48.2882 Q66.2698 45.7651 67.1494 44.029 Q68.0522 42.2697 68.0522 40.5799 Q68.0522 37.8253 66.1078 36.0892 Q64.1865 34.3531 61.0847 34.3531 Q58.8856 34.3531 56.4319 35.117 Q54.0014 35.8809 51.2236 37.4318 L51.2236 32.7096 Q54.0477 31.5754 56.5014 30.9967 Q58.955 30.418 60.9921 30.418 Q66.3624 30.418 69.5568 33.1031 Q72.7513 35.7883 72.7513 40.279 Q72.7513 42.4086 71.9411 44.3299 Q71.1541 46.2281 69.0476 48.8206 Q68.4689 49.4919 65.367 52.7095 Q62.2652 55.9039 56.6171 61.6678 Z\" fill=\"#000000\" fill-rule=\"nonzero\" fill-opacity=\"1\" /><path clip-path=\"url(#clip800)\" d=\"M92.7512 34.1216 Q89.1401 34.1216 87.3114 37.6864 Q85.5058 41.2281 85.5058 48.3577 Q85.5058 55.4641 87.3114 59.0289 Q89.1401 62.5706 92.7512 62.5706 Q96.3854 62.5706 98.1909 59.0289 Q100.02 55.4641 100.02 48.3577 Q100.02 41.2281 98.1909 37.6864 Q96.3854 34.1216 92.7512 34.1216 M92.7512 30.418 Q98.5613 30.418 101.617 35.0244 Q104.696 39.6077 104.696 48.3577 Q104.696 57.0845 101.617 61.6909 Q98.5613 66.2743 92.7512 66.2743 Q86.941 66.2743 83.8623 61.6909 Q80.8068 57.0845 80.8068 48.3577 Q80.8068 39.6077 83.8623 35.0244 Q86.941 30.418 92.7512 30.418 Z\" fill=\"#000000\" fill-rule=\"nonzero\" fill-opacity=\"1\" /><path clip-path=\"url(#clip800)\" d=\"M122.913 34.1216 Q119.302 34.1216 117.473 37.6864 Q115.668 41.2281 115.668 48.3577 Q115.668 55.4641 117.473 59.0289 Q119.302 62.5706 122.913 62.5706 Q126.547 62.5706 128.353 59.0289 Q130.182 55.4641 130.182 48.3577 Q130.182 41.2281 128.353 37.6864 Q126.547 34.1216 122.913 34.1216 M122.913 30.418 Q128.723 30.418 131.779 35.0244 Q134.857 39.6077 134.857 48.3577 Q134.857 57.0845 131.779 61.6909 Q128.723 66.2743 122.913 66.2743 Q117.103 66.2743 114.024 61.6909 Q110.969 57.0845 110.969 48.3577 Q110.969 39.6077 114.024 35.0244 Q117.103 30.418 122.913 30.418 Z\" fill=\"#000000\" fill-rule=\"nonzero\" fill-opacity=\"1\" /><path clip-path=\"url(#clip800)\" d=\"M153.075 34.1216 Q149.464 34.1216 147.635 37.6864 Q145.83 41.2281 145.83 48.3577 Q145.83 55.4641 147.635 59.0289 Q149.464 62.5706 153.075 62.5706 Q156.709 62.5706 158.515 59.0289 Q160.343 55.4641 160.343 48.3577 Q160.343 41.2281 158.515 37.6864 Q156.709 34.1216 153.075 34.1216 M153.075 30.418 Q158.885 30.418 161.941 35.0244 Q165.019 39.6077 165.019 48.3577 Q165.019 57.0845 161.941 61.6909 Q158.885 66.2743 153.075 66.2743 Q147.265 66.2743 144.186 61.6909 Q141.131 57.0845 141.131 48.3577 Q141.131 39.6077 144.186 35.0244 Q147.265 30.418 153.075 30.418 Z\" fill=\"#000000\" fill-rule=\"nonzero\" fill-opacity=\"1\" /><g clip-path=\"url(#clip802)\">\n",
       "<image width=\"1912\" height=\"1439\" xlink:href=\"data:image/png;base64,\n",
       "iVBORw0KGgoAAAANSUhEUgAAB3gAAAWfCAYAAABJJifMAAAgAElEQVR4nOzZwQ2AMBDAsKNi/5Vh\n",
       "hf7aSPYE+eeZeb8BAAAAAAAA4HrrdAAAAAAAAAAAewxeAAAAAAAAgAiDFwAAAAAAACDC4AUAAAAA\n",
       "AACIMHgBAAAAAAAAIgxeAAAAAAAAgAiDFwAAAAAAACDC4AUAAAAAAACIMHgBAAAAAAAAIgxeAAAA\n",
       "AAAAgAiDFwAAAAAAACDC4AUAAAAAAACIMHgBAAAAAAAAIgxeAAAAAAAAgAiDFwAAAAAAACDC4AUA\n",
       "AAAAAACIMHgBAAAAAAAAIgxeAAAAAAAAgAiDFwAAAAAAACDC4AUAAAAAAACIMHgBAAAAAAAAIgxe\n",
       "AAAAAAAAgAiDFwAAAAAAACDC4AUAAAAAAACIMHgBAAAAAAAAIgxeAAAAAAAAgAiDFwAAAAAAACDC\n",
       "4AUAAAAAAACIMHgBAAAAAAAAIgxeAAAAAAAAgAiDFwAAAAAAACDC4AUAAAAAAACIMHgBAAAAAAAA\n",
       "IgxeAAAAAAAAgAiDFwAAAAAAACDC4AUAAAAAAACIMHgBAAAAAAAAIgxeAAAAAAAAgAiDFwAAAAAA\n",
       "ACDC4AUAAAAAAACIMHgBAAAAAAAAIgxeAAAAAAAAgAiDFwAAAAAAACDC4AUAAAAAAACIMHgBAAAA\n",
       "AAAAIgxeAAAAAAAAgAiDFwAAAAAAACDC4AUAAAAAAACIMHgBAAAAAAAAIgxeAAAAAAAAgAiDFwAA\n",
       "AAAAACDC4AUAAAAAAACIMHgBAAAAAAAAIgxeAAAAAAAAgAiDFwAAAAAAACDC4AUAAAAAAACIMHgB\n",
       "AAAAAAAAIgxeAAAAAAAAgAiDFwAAAAAAACDC4AUAAAAAAACIMHgBAAAAAAAAIgxeAAAAAAAAgAiD\n",
       "FwAAAAAAACDC4AUAAAAAAACIMHgBAAAAAAAAIgxeAAAAAAAAgAiDFwAAAAAAACDC4AUAAAAAAACI\n",
       "MHgBAAAAAAAAIgxeAAAAAAAAgAiDFwAAAAAAACDC4AUAAAAAAACIMHgBAAAAAAAAIgxeAAAAAAAA\n",
       "gAiDFwAAAAAAACDC4AUAAAAAAACIMHgBAAAAAAAAIgxeAAAAAAAAgAiDFwAAAAAAACDC4AUAAAAA\n",
       "AACIMHgBAAAAAAAAIgxeAAAAAAAAgAiDFwAAAAAAACDC4AUAAAAAAACIMHgBAAAAAAAAIgxeAAAA\n",
       "AAAAgAiDFwAAAAAAACDC4AUAAAAAAACIMHgBAAAAAAAAIgxeAAAAAAAAgAiDFwAAAAAAACDC4AUA\n",
       "AAAAAACIMHgBAAAAAAAAIgxeAAAAAAAAgAiDFwAAAAAAACDC4AUAAAAAAACIMHgBAAAAAAAAIgxe\n",
       "AAAAAAAAgAiDFwAAAAAAACDC4AUAAAAAAACIMHgBAAAAAAAAIgxeAAAAAAAAgAiDFwAAAAAAACDC\n",
       "4AUAAAAAAACIMHgBAAAAAAAAIgxeAAAAAAAAgAiDFwAAAAAAACDC4AUAAAAAAACIMHgBAAAAAAAA\n",
       "IgxeAAAAAAAAgAiDFwAAAAAAACDC4AUAAAAAAACIMHgBAAAAAAAAIgxeAAAAAAAAgAiDFwAAAAAA\n",
       "ACDC4AUAAAAAAACIMHgBAAAAAAAAIgxeAAAAAAAAgAiDFwAAAAAAACDC4AUAAAAAAACIMHgBAAAA\n",
       "AAAAIgxeAAAAAAAAgAiDFwAAAAAAACDC4AUAAAAAAACIMHgBAAAAAAAAIgxeAAAAAAAAgAiDFwAA\n",
       "AAAAACDC4AUAAAAAAACIMHgBAAAAAAAAIgxeAAAAAAAAgAiDFwAAAAAAACDC4AUAAAAAAACIMHgB\n",
       "AAAAAAAAIgxeAAAAAAAAgAiDFwAAAAAAACDC4AUAAAAAAACIMHgBAAAAAAAAIgxeAAAAAAAAgAiD\n",
       "FwAAAAAAACDC4AUAAAAAAACIMHgBAAAAAAAAIgxeAAAAAAAAgAiDFwAAAAAAACDC4AUAAAAAAACI\n",
       "MHgBAAAAAAAAIgxeAAAAAAAAgAiDFwAAAAAAACDC4AUAAAAAAACIMHgBAAAAAAAAIgxeAAAAAAAA\n",
       "gAiDFwAAAAAAACDC4AUAAAAAAACIMHgBAAAAAAAAIgxeAAAAAAAAgAiDFwAAAAAAACDC4AUAAAAA\n",
       "AACIMHgBAAAAAAAAIgxeAAAAAAAAgAiDFwAAAAAAACDC4AUAAAAAAACIMHgBAAAAAAAAIgxeAAAA\n",
       "AAAAgAiDFwAAAAAAACDC4AUAAAAAAACIMHgBAAAAAAAAIgxeAAAAAAAAgAiDFwAAAAAAACDC4AUA\n",
       "AAAAAACIMHgBAAAAAAAAIgxeAAAAAAAAgAiDFwAAAAAAACDC4AUAAAAAAACIMHgBAAAAAAAAIgxe\n",
       "AAAAAAAAgAiDFwAAAAAAACDC4AUAAAAAAACIMHgBAAAAAAAAIgxeAAAAAAAAgAiDFwAAAAAAACDC\n",
       "4AUAAAAAAACIMHgBAAAAAAAAIgxeAAAAAAAAgAiDFwAAAAAAACDC4AUAAAAAAACIMHgBAAAAAAAA\n",
       "IgxeAAAAAAAAgAiDFwAAAAAAACDC4AUAAAAAAACIMHgBAAAAAAAAIgxeAAAAAAAAgAiDFwAAAAAA\n",
       "ACDC4AUAAAAAAACIMHgBAAAAAAAAIgxeAAAAAAAAgAiDFwAAAAAAACDC4AUAAAAAAACIMHgBAAAA\n",
       "AAAAIgxeAAAAAAAAgAiDFwAAAAAAACDC4AUAAAAAAACIMHgBAAAAAAAAIgxeAAAAAAAAgAiDFwAA\n",
       "AAAAACDC4AUAAAAAAACIMHgBAAAAAAAAIgxeAAAAAAAAgAiDFwAAAAAAACDC4AUAAAAAAACIMHgB\n",
       "AAAAAAAAIgxeAAAAAAAAgAiDFwAAAAAAACDC4AUAAAAAAACIMHgBAAAAAAAAIgxeAAAAAAAAgAiD\n",
       "FwAAAAAAACDC4AUAAAAAAACIMHgBAAAAAAAAIgxeAAAAAAAAgAiDFwAAAAAAACDC4AUAAAAAAACI\n",
       "MHgBAAAAAAAAIgxeAAAAAAAAgAiDFwAAAAAAACDC4AUAAAAAAACIMHgBAAAAAAAAIgxeAAAAAAAA\n",
       "gAiDFwAAAAAAACDC4AUAAAAAAACIMHgBAAAAAAAAIgxeAAAAAAAAgAiDFwAAAAAAACDC4AUAAAAA\n",
       "AACIMHgBAAAAAAAAIgxeAAAAAAAAgAiDFwAAAAAAACDC4AUAAAAAAACIMHgBAAAAAAAAIgxeAAAA\n",
       "AAAAgAiDFwAAAAAAACDC4AUAAAAAAACIMHgBAAAAAAAAIgxeAAAAAAAAgAiDFwAAAAAAACDC4AUA\n",
       "AAAAAACIMHgBAAAAAAAAIgxeAAAAAAAAgAiDFwAAAAAAACDC4AUAAAAAAACIMHgBAAAAAAAAIgxe\n",
       "AAAAAAAAgAiDFwAAAAAAACDC4AUAAAAAAACIMHgBAAAAAAAAIgxeAAAAAAAAgAiDFwAAAAAAACDC\n",
       "4AUAAAAAAACIMHgBAAAAAAAAIgxeAAAAAAAAgAiDFwAAAAAAACDC4AUAAAAAAACIMHgBAAAAAAAA\n",
       "IgxeAAAAAAAAgAiDFwAAAAAAACDC4AUAAAAAAACIMHgBAAAAAAAAIgxeAAAAAAAAgAiDFwAAAAAA\n",
       "ACDC4AUAAAAAAACIMHgBAAAAAAAAIgxeAAAAAAAAgAiDFwAAAAAAACDC4AUAAAAAAACIMHgBAAAA\n",
       "AAAAIgxeAAAAAAAAgAiDFwAAAAAAACDC4AUAAAAAAACIMHgBAAAAAAAAIgxeAAAAAAAAgAiDFwAA\n",
       "AAAAACDC4AUAAAAAAACIMHgBAAAAAAAAIgxeAAAAAAAAgAiDFwAAAAAAACDC4AUAAAAAAACIMHgB\n",
       "AAAAAAAAIgxeAAAAAAAAgAiDFwAAAAAAACDC4AUAAAAAAACIMHgBAAAAAAAAIgxeAAAAAAAAgAiD\n",
       "FwAAAAAAACDC4AUAAAAAAACIMHgBAAAAAAAAIgxeAAAAAAAAgAiDFwAAAAAAACDC4AUAAAAAAACI\n",
       "MHgBAAAAAAAAIgxeAAAAAAAAgAiDFwAAAAAAACDC4AUAAAAAAACIMHgBAAAAAAAAIgxeAAAAAAAA\n",
       "gAiDFwAAAAAAACDC4AUAAAAAAACIMHgBAAAAAAAAIgxeAAAAAAAAgAiDFwAAAAAAACDC4AUAAAAA\n",
       "AACIMHgBAAAAAAAAIgxeAAAAAAAAgAiDFwAAAAAAACDC4AUAAAAAAACIMHgBAAAAAAAAIgxeAAAA\n",
       "AAAAgAiDFwAAAAAAACDC4AUAAAAAAACIMHgBAAAAAAAAIgxeAAAAAAAAgAiDFwAAAAAAACDC4AUA\n",
       "AAAAAACIMHgBAAAAAAAAIgxeAAAAAAAAgAiDFwAAAAAAACDC4AUAAAAAAACIMHgBAAAAAAAAIgxe\n",
       "AAAAAAAAgAiDFwAAAAAAACDC4AUAAAAAAACIMHgBAAAAAAAAIgxeAAAAAAAAgAiDFwAAAAAAACDC\n",
       "4AUAAAAAAACIMHgBAAAAAAAAIgxeAAAAAAAAgAiDFwAAAAAAACDC4AUAAAAAAACIMHgBAAAAAAAA\n",
       "IgxeAAAAAAAAgAiDFwAAAAAAACDC4AUAAAAAAACIMHgBAAAAAAAAIgxeAAAAAAAAgAiDFwAAAAAA\n",
       "ACDC4AUAAAAAAACIMHgBAAAAAAAAIgxeAAAAAAAAgAiDFwAAAAAAACDC4AUAAAAAAACIMHgBAAAA\n",
       "AAAAIgxeAAAAAAAAgAiDFwAAAAAAACDC4AUAAAAAAACIMHgBAAAAAAAAIgxeAAAAAAAAgAiDFwAA\n",
       "AAAAACDC4AUAAAAAAACIMHgBAAAAAAAAIgxeAAAAAAAAgAiDFwAAAAAAACDC4AUAAAAAAACIMHgB\n",
       "AAAAAAAAIgxeAAAAAAAAgAiDFwAAAAAAACDC4AUAAAAAAACIMHgBAAAAAAAAIgxeAAAAAAAAgAiD\n",
       "FwAAAAAAACDC4AUAAAAAAACIMHgBAAAAAAAAIgxeAAAAAAAAgAiDFwAAAAAAACDC4AUAAAAAAACI\n",
       "MHgBAAAAAAAAIgxeAAAAAAAAgAiDFwAAAAAAACDC4AUAAAAAAACIMHgBAAAAAAAAIgxeAAAAAAAA\n",
       "gAiDFwAAAAAAACDC4AUAAAAAAACIMHgBAAAAAAAAIgxeAAAAAAAAgAiDFwAAAAAAACDC4AUAAAAA\n",
       "AACIMHgBAAAAAAAAIgxeAAAAAAAAgAiDFwAAAAAAACDC4AUAAAAAAACIMHgBAAAAAAAAIgxeAAAA\n",
       "AAAAgAiDFwAAAAAAACDC4AUAAAAAAACIMHgBAAAAAAAAIgxeAAAAAAAAgAiDFwAAAAAAACDC4AUA\n",
       "AAAAAACIMHgBAAAAAAAAIgxeAAAAAAAAgAiDFwAAAAAAACDC4AUAAAAAAACIMHgBAAAAAAAAIgxe\n",
       "AAAAAAAAgAiDFwAAAAAAACDC4AUAAAAAAACIMHgBAAAAAAAAIgxeAAAAAAAAgAiDFwAAAAAAACDC\n",
       "4AUAAAAAAACIMHgBAAAAAAAAIgxeAAAAAAAAgAiDFwAAAAAAACDC4AUAAAAAAACIMHgBAAAAAAAA\n",
       "IgxeAAAAAAAAgAiDFwAAAAAAACDC4AUAAAAAAACIMHgBAAAAAAAAIgxeAAAAAAAAgAiDFwAAAAAA\n",
       "ACDC4AUAAAAAAACIMHgBAAAAAAAAIgxeAAAAAAAAgAiDFwAAAAAAACDC4AUAAAAAAACIMHgBAAAA\n",
       "AAAAIgxeAAAAAAAAgAiDFwAAAAAAACDC4AUAAAAAAACIMHgBAAAAAAAAIgxeAAAAAAAAgAiDFwAA\n",
       "AAAAACDC4AUAAAAAAACIMHgBAAAAAAAAIgxeAAAAAAAAgAiDFwAAAAAAACDC4AUAAAAAAACIMHgB\n",
       "AAAAAAAAIgxeAAAAAAAAgAiDFwAAAAAAACDC4AUAAAAAAACIMHgBAAAAAAAAIgxeAAAAAAAAgAiD\n",
       "FwAAAAAAACDC4AUAAAAAAACIMHgBAAAAAAAAIgxeAAAAAAAAgAiDFwAAAAAAACDC4AUAAAAAAACI\n",
       "MHgBAAAAAAAAIgxeAAAAAAAAgAiDFwAAAAAAACDC4AUAAAAAAACIMHgBAAAAAAAAIgxeAAAAAAAA\n",
       "gAiDFwAAAAAAACDC4AUAAAAAAACIMHgBAAAAAAAAIgxeAAAAAAAAgAiDFwAAAAAAACDC4AUAAAAA\n",
       "AACIMHgBAAAAAAAAIgxeAAAAAAAAgAiDFwAAAAAAACDC4AUAAAAAAACIMHgBAAAAAAAAIgxeAAAA\n",
       "AAAAgAiDFwAAAAAAACDC4AUAAAAAAACIMHgBAAAAAAAAIgxeAAAAAAAAgAiDFwAAAAAAACDC4AUA\n",
       "AAAAAACIMHgBAAAAAAAAIgxeAAAAAAAAgAiDFwAAAAAAACDC4AUAAAAAAACIMHgBAAAAAAAAIgxe\n",
       "AAAAAAAAgAiDFwAAAAAAACDC4AUAAAAAAACIMHgBAAAAAAAAIgxeAAAAAAAAgAiDFwAAAAAAACDC\n",
       "4AUAAAAAAACIMHgBAAAAAAAAIgxeAAAAAAAAgAiDFwAAAAAAACDC4AUAAAAAAACIMHgBAAAAAAAA\n",
       "IgxeAAAAAAAAgAiDFwAAAAAAACDC4AUAAAAAAACIMHgBAAAAAAAAIgxeAAAAAAAAgAiDFwAAAAAA\n",
       "ACDC4AUAAAAAAACIMHgBAAAAAAAAIgxeAAAAAAAAgAiDFwAAAAAAACDC4AUAAAAAAACIMHgBAAAA\n",
       "AAAAIgxeAAAAAAAAgAiDFwAAAAAAACDC4AUAAAAAAACIMHgBAAAAAAAAIgxeAAAAAAAAgAiDFwAA\n",
       "AAAAACDC4AUAAAAAAACIMHgBAAAAAAAAIgxeAAAAAAAAgAiDFwAAAAAAACDC4AUAAAAAAACIMHgB\n",
       "AAAAAAAAIgxeAAAAAAAAgAiDFwAAAAAAACDC4AUAAAAAAACIMHgBAAAAAAAAIgxeAAAAAAAAgAiD\n",
       "FwAAAAAAACDC4AUAAAAAAACIMHgBAAAAAAAAIgxeAAAAAAAAgAiDFwAAAAAAACDC4AUAAAAAAACI\n",
       "MHgBAAAAAAAAIgxeAAAAAAAAgAiDFwAAAAAAACDC4AUAAAAAAACIMHgBAAAAAAAAIgxeAAAAAAAA\n",
       "gAiDFwAAAAAAACDC4AUAAAAAAACIMHgBAAAAAAAAIgxeAAAAAAAAgAiDFwAAAAAAACDC4AUAAAAA\n",
       "AACIMHgBAAAAAAAAIgxeAAAAAAAAgAiDFwAAAAAAACDC4AUAAAAAAACIMHgBAAAAAAAAIgxeAAAA\n",
       "AAAAgAiDFwAAAAAAACDC4AUAAAAAAACIMHgBAAAAAAB+9uyABAAAAEDQ/9ftCPSGABOCFwAAAAAA\n",
       "AGBC8AIAAAAAAABMCF4AAAAAAACACcELAAAAAAAAMCF4AQAAAAAAACYELwAAAAAAAMCE4AUAAAAA\n",
       "AACYELwAAAAAAAAAE4IXAAAAAAAAYELwAgAAAAAAAEwIXgAAAAAAAIAJwQsAAAAAAAAwIXgBAAAA\n",
       "AAAAJgQvAAAAAAAAwITgBQAAAAAAAJgQvAAAAAAAAAATghcAAAAAAABgQvACAAAAAAAATAheAAAA\n",
       "AAAAgAnBCwAAAAAAADAheAEAAAAAAAAmBC8AAAAAAADAhOAFAAAAAAAAmBC8AAAAAAAAABOCFwAA\n",
       "AAAAAGBC8AIAAAAAAABMCF4AAAAAAACACcELAAAAAAAAMCF4AQAAAAAAACYELwAAAAAAAMCE4AUA\n",
       "AAAAAACYELwAAAAAAAAAE4IXAAAAAAAAYELwAgAAAAAAAEwIXgAAAAAAAIAJwQsAAAAAAAAwIXgB\n",
       "AAAAAAAAJgQvAAAAAAAAwITgBQAAAAAAAJgQvAAAAAAAAAATghcAAAAAAABgQvACAAAAAAAATAhe\n",
       "AAAAAAAAgAnBCwAAAAAAADAheAEAAAAAAAAmBC8AAAAAAADAhOAFAAAAAAAAmBC8AAAAAAAAABOC\n",
       "FwAAAAAAAGBC8AIAAAAAAABMCF4AAAAAAACACcELAAAAAAAAMCF4AQAAAAAAACYELwAAAAAAAMCE\n",
       "4AUAAAAAAACYELwAAAAAAAAAE4IXAAAAAAAAYELwAgAAAAAAAEwIXgAAAAAAAIAJwQsAAAAAAAAw\n",
       "IXgBAAAAAAAAJgQvAAAAAAAAwITgBQAAAAAAAJgQvAAAAAAAAAATghcAAAAAAABgQvACAAAAAAAA\n",
       "TAheAAAAAAAAgAnBCwAAAAAAADAheAEAAAAAAAAmBC8AAAAAAADAhOAFAAAAAAAAmBC8AAAAAAAA\n",
       "ABOCFwAAAAAAAGBC8AIAAAAAAABMCF4AAAAAAACACcELAAAAAAAAMCF4AQAAAAAAACYELwAAAAAA\n",
       "AMCE4AUAAAAAAACYELwAAAAAAAAAE4IXAAAAAAAAYELwAgAAAAAAAEwIXgAAAAAAAIAJwQsAAAAA\n",
       "AAAwIXgBAAAAAAAAJgQvAAAAAAAAwITgBQAAAAAAAJgQvAAAAAAAAAATghcAAAAAAABgQvACAAAA\n",
       "AAAATAheAAAAAAAAgAnBCwAAAAAAADAheAEAAAAAAAAmBC8AAAAAAADAhOAFAAAAAAAAmBC8AAAA\n",
       "AAAAABOCFwAAAAAAAGBC8AIAAAAAAABMCF4AAAAAAACACcELAAAAAAAAMCF4AQAAAAAAACYELwAA\n",
       "AAAAAMCE4AUAAAAAAACYELwAAAAAAAAAE4IXAAAAAAAAYELwAgAAAAAAAEwIXgAAAAAAAIAJwQsA\n",
       "AAAAAAAwIXgBAAAAAAAAJgQvAAAAAAAAwITgBQAAAAAAAJgQvAAAAAAAAAATghcAAAAAAABgQvAC\n",
       "AAAAAAAATAheAAAAAAAAgAnBCwAAAAAAADAheAEAAAAAAAAmBC8AAAAAAADAhOAFAAAAAAAAmBC8\n",
       "AAAAAAAAABOCFwAAAAAAAGBC8AIAAAAAAABMCF4AAAAAAACACcELAAAAAAAAMCF4AQAAAAAAACYE\n",
       "LwAAAAAAAMCE4AUAAAAAAACYELwAAAAAAAAAE4IXAAAAAAAAYELwAgAAAAAAAEwIXgAAAAAAAIAJ\n",
       "wQsAAAAAAAAwIXgBAAAAAAAAJgQvAAAAAAAAwITgBQAAAAAAAJgQvAAAAAAAAAATghcAAAAAAABg\n",
       "QvACAAAAAAAATAheAAAAAAAAgAnBCwAAAAAAADAheAEAAAAAAAAmBC8AAAAAAADAhOAFAAAAAAAA\n",
       "mBC8AAAAAAAAABOCFwAAAAAAAGBC8AIAAAAAAABMCF4AAAAAAACACcELAAAAAAAAMCF4AQAAAAAA\n",
       "ACYELwAAAAAAAMCE4AUAAAAAAACYELwAAAAAAAAAE4IXAAAAAAAAYELwAgAAAAAAAEwIXgAAAAAA\n",
       "AIAJwQsAAAAAAAAwIXgBAAAAAAAAJgQvAAAAAAAAwITgBQAAAAAAAJgQvAAAAAAAAAATghcAAAAA\n",
       "AABgQvACAAAAAAAATAheAAAAAAAAgAnBCwAAAAAAADAheAEAAAAAAAAmBC8AAAAAAADAhOAFAAAA\n",
       "AAAAmBC8AAAAAAAAABOCFwAAAAAAAGBC8AIAAAAAAABMCF4AAAAAAACACcELAAAAAAAAMCF4AQAA\n",
       "AAAAACYELwAAAAAAAMCE4AUAAAAAAACYELwAAAAAAAAAE4IXAAAAAAAAYELwAgAAAAAAAEwIXgAA\n",
       "AAAAAIAJwQsAAAAAAAAwIXgBAAAAAAAAJgQvAAAAAAAAwITgBQAAAAAAAJgQvAAAAAAAAAATghcA\n",
       "AAAAAABgQvACAAAAAAAATAheAAAAAAAAgAnBCwAAAAAAADAheAEAAAAAAAAmBC8AAAAAAADAhOAF\n",
       "AAAAAAAAmBC8AAAAAAAAABOCFwAAAAAAAGBC8AIAAAAAAABMCF4AAAAAAACACcELAAAAAAAAMCF4\n",
       "AQAAAAAAACYELwAAAAAAAMCE4AUAAAAAAACYELwAAAAAAAAAE4IXAAAAAAAAYELwAgAAAAAAAEwI\n",
       "XgAAAAAAAIAJwQsAAAAAAAAwIXgBAAAAAAAAJgQvAAAAAAAAwITgBQAAAAAAAJgQvAAAAAAAAAAT\n",
       "ghcAAAAAAABgQvACAAAAAAAATAheAAAAAAAAgAnBCwAAAAAAADAheAEAAAAAAAAmBC8AAAAAAADA\n",
       "hOAFAAAAAAAAmBC8AAAAAAAAABOCFwAAAAAAAGBC8AIAAAAAAABMCF4AAAAAAACACcELAAAAAAAA\n",
       "MCF4AQAAAAAAACYELwAAAAAAAMCE4AUAAAAAAACYELwAAAAAAAAAE4IXAAAAAAAAYELwAgAAAAAA\n",
       "AEwIXgAAAAAAAIAJwQsAAAAAAAAwIXgBAAAAAAAAJgQvAAAAAAAAwITgBQAAAAAAAJgQvAAAAAAA\n",
       "AAATghcAAAAAAABgQvACAAAAAAAATAheAAAAAAAAgAnBCwAAAAAAADAheAEAAAAAAAAmBC8AAAAA\n",
       "AADAhOAFAAAAAAAAmBC8AAAAAAAAABOCFwAAAAAAAGBC8AIAAAAAAABMCF4AAAAAAACACcELAAAA\n",
       "AAAAMCF4AQAAAAAAACYELwAAAAAAAMCE4AUAAAAAAACYELwAAAAAAAAAE4IXAAAAAAAAYELwAgAA\n",
       "AAAAAEwIXgAAAAAAAIAJwQsAAAAAAAAwIXgBAAAAAAAAJgQvAAAAAAAAwITgBQAAAAAAAJgQvAAA\n",
       "AAAAAAATghcAAAAAAABgQvACAAAAAAAATAheAAAAAAAAgAnBCwAAAAAAADAheAEAAAAAAAAmBC8A\n",
       "AAAAAADAhOAFAAAAAAAAmBC8AAAAAAAAABOCFwAAAAAAAGBC8AIAAAAAAABMCF4AAAAAAACACcEL\n",
       "AAAAAAAAMCF4AQAAAAAAACYELwAAAAAAAMCE4AUAAAAAAACYELwAAAAAAAAAE4IXAAAAAAAAYELw\n",
       "AgAAAAAAAEwIXgAAAAAAAIAJwQsAAAAAAAAwIXgBAAAAAAAAJgQvAAAAAAAAwITgBQAAAAAAAJgQ\n",
       "vAAAAAAAAAATghcAAAAAAABgQvACAAAAAAAATAheAAAAAAAAgAnBCwAAAAAAADAheAEAAAAAAAAm\n",
       "BC8AAAAAAADAhOAFAAAAAAAAmBC8AAAAAAAAABOCFwAAAAAAAGBC8AIAAAAAAABMCF4AAAAAAACA\n",
       "CcELAAAAAAAAMCF4AQAAAAAAACYELwAAAO+u1HEAABcOSURBVAAAAMCE4AUAAAAAAACYELwAAAAA\n",
       "AAAAE4IXAAAAAAAAYELwAgAAAAAAAEwIXgAAAAAAAIAJwQsAAAAAAAAwIXgBAAAAAAAAJgQvAAAA\n",
       "AAAAwITgBQAAAAAAAJgQvAAAAAAAAAATghcAAAAAAABgQvACAAAAAAAATAheAAAAAAAAgAnBCwAA\n",
       "AAAAADAheAEAAAAAAAAmBC8AAAAAAADAhOAFAAAAAAAAmBC8AAAAAAAAABOCFwAAAAAAAGBC8AIA\n",
       "AAAAAABMCF4AAAAAAACACcELAAAAAAAAMCF4AQAAAAAAACYELwAAAAAAAMCE4AUAAAAAAACYELwA\n",
       "AAAAAAAAE4IXAAAAAAAAYELwAgAAAAAAAEwIXgAAAAAAAIAJwQsAAAAAAAAwIXgBAAAAAAAAJgQv\n",
       "AAAAAAAAwITgBQAAAAAAAJgQvAAAAAAAAAATghcAAAAAAABgQvACAAAAAAAATAheAAAAAAAAgAnB\n",
       "CwAAAAAAADAheAEAAAAAAAAmBC8AAAAAAADAhOAFAAAAAAAAmBC8AAAAAAAAABOCFwAAAAAAAGBC\n",
       "8AIAAAAAAABMCF4AAAAAAACACcELAAAAAAAAMCF4AQAAAAAAACYELwAAAAAAAMCE4AUAAAAAAACY\n",
       "ELwAAAAAAAAAE4IXAAAAAAAAYELwAgAAAAAAAEwIXgAAAAAAAIAJwQsAAAAAAAAwIXgBAAAAAAAA\n",
       "JgQvAAAAAAAAwITgBQAAAAAAAJgQvAAAAAAAAAATghcAAAAAAABgQvACAAAAAAAATAheAAAAAAAA\n",
       "gAnBCwAAAAAAADAheAEAAAAAAAAmBC8AAAAAAADAhOAFAAAAAAAAmBC8AAAAAAAAABOCFwAAAAAA\n",
       "AGBC8AIAAAAAAABMCF4AAAAAAACACcELAAAAAAAAMCF4AQAAAAAAACYELwAAAAAAAMCE4AUAAAAA\n",
       "AACYELwAAAAAAAAAE4IXAAAAAAAAYELwAgAAAAAAAEwIXgAAAAAAAIAJwQsAAAAAAAAwIXgBAAAA\n",
       "AAAAJgQvAAAAAAAAwITgBQAAAAAAAJgQvAAAAAAAAAATghcAAAAAAABgQvACAAAAAAAATAheAAAA\n",
       "AAAAgAnBCwAAAAAAADAheAEAAAAAAAAmBC8AAAAAAADAhOAFAAAAAAAAmBC8AAAAAAAAABOCFwAA\n",
       "AAAAAGBC8AIAAAAAAABMCF4AAAAAAACACcELAAAAAAAAMCF4AQAAAAAAACYELwAAAAAAAMCE4AUA\n",
       "AAAAAACYELwAAAAAAAAAE4IXAAAAAAAAYELwAgAAAAAAAEwIXgAAAAAAAIAJwQsAAAAAAAAwIXgB\n",
       "AAAAAAAAJgQvAAAAAAAAwITgBQAAAAAAAJgQvAAAAAAAAAATghcAAAAAAABgQvACAAAAAAAATAhe\n",
       "AAAAAAAAgAnBCwAAAAAAADAheAEAAAAAAAAmBC8AAAAAAADAhOAFAAAAAAAAmBC8AAAAAAAAABOC\n",
       "FwAAAAAAAGBC8AIAAAAAAABMCF4AAAAAAACACcELAAAAAAAAMCF4AQAAAAAAACYELwAAAAAAAMCE\n",
       "4AUAAAAAAACYELwAAAAAAAAAE4IXAAAAAAAAYELwAgAAAAAAAEwIXgAAAAAAAIAJwQsAAAAAAAAw\n",
       "IXgBAAAAAAAAJgQvAAAAAAAAwITgBQAAAAAAAJgQvAAAAAAAAAATghcAAAAAAABgQvACAAAAAAAA\n",
       "TAheAAAAAAAAgAnBCwAAAAAAADAheAEAAAAAAAAmBC8AAAAAAADAhOAFAAAAAAAAmBC8AAAAAAAA\n",
       "ABOCFwAAAAAAAGBC8AIAAAAAAABMCF4AAAAAAACACcELAAAAAAAAMCF4AQAAAAAAACYELwAAAAAA\n",
       "AMCE4AUAAAAAAACYELwAAAAAAAAAE4IXAAAAAAAAYELwAgAAAAAAAEwIXgAAAAAAAIAJwQsAAAAA\n",
       "AAAwIXgBAAAAAAAAJgQvAAAAAAAAwITgBQAAAAAAAJgQvAAAAAAAAAATghcAAAAAAABgQvACAAAA\n",
       "AAAATAheAAAAAAAAgAnBCwAAAAAAADAheAEAAAAAAAAmBC8AAAAAAADAhOAFAAAAAAAAmBC8AAAA\n",
       "AAAAABOCFwAAAAAAAGBC8AIAAAAAAABMCF4AAAAAAACACcELAAAAAAAAMCF4AQAAAAAAACYELwAA\n",
       "AAAAAMCE4AUAAAAAAACYELwAAAAAAAAAE4IXAAAAAAAAYELwAgAAAAAAAEwIXgAAAAAAAIAJwQsA\n",
       "AAAAAAAwIXgBAAAAAAAAJgQvAAAAAAAAwITgBQAAAAAAAJgQvAAAAAAAAAATghcAAAAAAABgQvAC\n",
       "AAAAAAAATAheAAAAAAAAgAnBCwAAAAAAADAheAEAAAAAAAAmBC8AAAAAAADAhOAFAAAAAAAAmBC8\n",
       "AAAAAAAAABOCFwAAAAAAAGBC8AIAAAAAAABMCF4AAAAAAACACcELAAAAAAAAMCF4AQAAAAAAACYE\n",
       "LwAAAAAAAMCE4AUAAAAAAACYELwAAAAAAAAAE4IXAAAAAAAAYELwAgAAAAAAAEwIXgAAAAAAAIAJ\n",
       "wQsAAAAAAAAwIXgBAAAAAAAAJgQvAAAAAAAAwITgBQAAAAAAAJgQvAAAAAAAAAATghcAAAAAAABg\n",
       "QvACAAAAAAAATAheAAAAAAAAgAnBCwAAAAAAADAheAEAAAAAAAAmBC8AAAAAAADAhOAFAAAAAAAA\n",
       "mBC8AAAAAAAAABOCFwAAAAAAAGBC8AIAAAAAAABMCF4AAAAAAACACcELAAAAAAAAMCF4AQAAAAAA\n",
       "ACYELwAAAAAAAMCE4AUAAAAAAACYELwAAAAAAAAAE4IXAAAAAAAAYELwAgAAAAAAAEwIXgAAAAAA\n",
       "AIAJwQsAAAAAAAAwIXgBAAAAAAAAJgQvAAAAAAAAwITgBQAAAAAAAJgQvAAAAAAAAAATghcAAAAA\n",
       "AABgQvACAAAAAAAATAheAAAAAAAAgAnBCwAAAAAAADAheAEAAAAAAAAmBC8AAAAAAADAhOAFAAAA\n",
       "AAAAmBC8AAAAAAAAABOCFwAAAAAAAGBC8AIAAAAAAABMCF4AAAAAAACACcELAAAAAAAAMCF4AQAA\n",
       "AAAAACYELwAAAAAAAMCE4AUAAAAAAACYELwAAAAAAAAAE4IXAAAAAAAAYELwAgAAAAAAAEwIXgAA\n",
       "AAAAAIAJwQsAAAAAAAAwIXgBAAAAAAAAJgQvAAAAAAAAwITgBQAAAAAAAJgQvAAAAAAAAAATghcA\n",
       "AAAAAABgQvACAAAAAAAAtW/HKA1FURRF85OLhUIqsRDBRhyZU3DU6RyA2tkJr3tsWGsEp98cIgRe\n",
       "AAAAAAAAgAiBFwAAAAAAACBC4AUAAAAAAACIEHgBAAAAAAAAIgReAAAAAAAAgAiBFwAAAAAAACBC\n",
       "4AUAAAAAAACIEHgBAAAAAAAAIgReAAAAAAAAgAiBFwAAAAAAACBC4AUAAAAAAACIEHgBAAAAAAAA\n",
       "IgReAAAAAAAAgAiBFwAAAAAAACBC4AUAAAAAAACIEHgBAAAAAAAAIgReAAAAAAAAgAiBFwAAAAAA\n",
       "ACBC4AUAAAAAAACIEHgBAAAAAAAAIgReAAAAAAAAgAiBFwAAAAAAACBC4AUAAAAAAACIEHgBAAAA\n",
       "AAAAIgReAAAAAAAAgAiBFwAAAAAAACBC4AUAAAAAAACIEHgBAAAAAAAAIgReAAAAAAAAgAiBFwAA\n",
       "AAAAACBC4AUAAAAAAACIEHgBAAAAAAAAIgReAAAAAAAAgAiBFwAAAAAAACBC4AUAAAAAAACIEHgB\n",
       "AAAAAAAAIgReAAAAAAAAgAiBFwAAAAAAACBC4AUAAAAAAACIEHgBAAAAAAAAIgReAAAAAAAAgAiB\n",
       "FwAAAAAAACBC4AUAAAAAAACIEHgBAAAAAAAAIgReAAAAAAAAgAiBFwAAAAAAACBC4AUAAAAAAACI\n",
       "EHgBAAAAAAAAIgReAAAAAAAAgAiBFwAAAAAAACBC4AUAAAAAAACIEHgBAAAAAAAAIgReAAAAAAAA\n",
       "gAiBFwAAAAAAACBC4AUAAAAAAACIEHgBAAAAAAAAIgReAAAAAAAAgAiBFwAAAAAAACBC4AUAAAAA\n",
       "AACIEHgBAAAAAAAAIgReAAAAAAAAgAiBFwAAAAAAACBC4AUAAAAAAACIEHgBAAAAAAAAIgReAAAA\n",
       "AAAAgAiBFwAAAAAAACBC4AUAAAAAAACIEHgBAAAAAAAAIgReAAAAAAAAgAiBFwAAAAAAACBC4AUA\n",
       "AAAAAACIEHgBAAAAAAAAIgReAAAAAAAAgAiBFwAAAAAAACBC4AUAAAAAAACIEHgBAAAAAAAAIgRe\n",
       "AAAAAAAAgAiBFwAAAAAAACBC4AUAAAAAAACIEHgBAAAAAAAAIgReAAAAAAAAgAiBFwAAAAAAACBC\n",
       "4AUAAAAAAACIEHgBAAAAAAAAIgReAAAAAAAAgAiBFwAAAAAAACBC4AUAAAAAAACIEHgBAAAAAAAA\n",
       "IgReAAAAAAAAgAiBFwAAAAAAACBC4AUAAAAAAACIEHgBAAAAAAAAIgReAAAAAAAAgAiBFwAAAAAA\n",
       "ACBC4AUAAAAAAACIEHgBAAAAAAAAIgReAAAAAAAAgAiBFwAAAAAAACBC4AUAAAAAAACIEHgBAAAA\n",
       "AAAAIgReAAAAAAAAgAiBFwAAAAAAACBC4AUAAAAAAACIEHgBAAAAAAAAIgReAAAAAAAAgAiBFwAA\n",
       "AAAAACBC4AUAAAAAAACIEHgBAAAAAAAAIgReAAAAAAAAgAiBFwAAAAAAACBC4AUAAAAAAACIEHgB\n",
       "AAAAAAAAIgReAAAAAAAAgAiBFwAAAAAAACBC4AUAAAAAAACIEHgBAAAAAAAAIgReAAAAAAAAgAiB\n",
       "FwAAAAAAACBC4AUAAAAAAACIEHgBAAAAAAAAIgReAAAAAAAAgAiBFwAAAAAAACBC4AUAAAAAAACI\n",
       "EHgBAAAAAAAAIgReAAAAAAAAgAiBFwAAAAAAACBC4AUAAAAAAACIEHgBAAAAAAAAIgReAAAAAAAA\n",
       "gAiBFwAAAAAAACBC4AUAAAAAAACIEHgBAAAAAAAAIgReAAAAAAAAgAiBFwAAAAAAACBC4AUAAAAA\n",
       "AACIEHgBAAAAAAAAIgReAAAAAAAAgAiBFwAAAAAAACBC4AUAAAAAAACIEHgBAAAAAAAAIgReAAAA\n",
       "AAAAgAiBFwAAAAAAACBC4AUAAAAAAACIEHgBAAAAAAAAIgReAAAAAAAAgAiBFwAAAAAAACBC4AUA\n",
       "AAAAAACIEHgBAAAAAAAAIgReAAAAAAAAgAiBFwAAAAAAACBC4AUAAAAAAACIEHgBAAAAAAAAIgRe\n",
       "AAAAAAAAgAiBFwAAAAAAACBC4AUAAAAAAACIEHgBAAAAAAAAIgReAAAAAAAAgAiBFwAAAAAAACBC\n",
       "4AUAAAAAAACIEHgBAAAAAAAAIgReAAAAAAAAgAiBFwAAAAAAACBC4AUAAAAAAACIEHgBAAAAAAAA\n",
       "IgReAAAAAAAAgAiBFwAAAAAAACBC4AUAAAAAAACIEHgBAAAAAAAAIgReAAAAAAAAgAiBFwAAAAAA\n",
       "ACBC4AUAAAAAAACIEHgBAAAAAAAAIgReAAAAAAAAgAiBFwAAAAAAACBC4AUAAAAAAACIEHgBAAAA\n",
       "AAAAIgReAAAAAAAAgAiBFwAAAAAAACBC4AUAAAAAAACIEHgBAAAAAAAAIgReAAAAAAAAgAiBFwAA\n",
       "AAAAACBC4AUAAAAAAACIEHgBAAAAAAAAIgReAAAAAAAAgAiBFwAAAAAAACBC4AUAAAAAAACIEHgB\n",
       "AAAAAAAAIgReAAAAAAAAgAiBFwAAAAAAACBC4AUAAAAAAACIEHgBAAAAAAAAIgReAAAAAAAAgAiB\n",
       "FwAAAAAAACBC4AUAAAAAAACIEHgBAAAAAAAAIgReAAAAAAAAgAiBFwAAAAAAACBC4AUAAAAAAACI\n",
       "EHgBAAAAAAAAIgReAAAAAAAAgAiBFwAAAAAAACBC4AUAAAAAAACIEHgBAAAAAAAAIgReAAAAAAAA\n",
       "gAiBFwAAAAAAACBC4AUAAAAAAACIEHgBAAAAAAAAIgReAAAAAAAAgAiBFwAAAAAAACBC4AUAAAAA\n",
       "AACIEHgBAAAAAAAAIgReAAAAAAAAgAiBFwAAAAAAACBC4AUAAAAAAACIEHgBAAAAAAAAIgReAAAA\n",
       "AAAAgAiBFwAAAAAAACBC4AUAAAAAAACIEHgBAAAAAAAAIgReAAAAAAAAgAiBFwAAAAAAACBC4AUA\n",
       "AAAAAACIEHgBAAAAAAAAIgReAAAAAAAAgAiBFwAAAAAAACBC4AUAAAAAAACIEHgBAAAAAAAAIgRe\n",
       "AAAAAAAAgAiBFwAAAAAAACBC4AUAAAAAAACIEHgBAAAAAAAAIgReAAAAAAAAgAiBFwAAAAAAACBC\n",
       "4AUAAAAAAACIEHgBAAAAAAAAIgReAAAAAAAAgAiBFwAAAAAAACBC4AUAAAAAAACIEHgBAAAAAAAA\n",
       "IgReAAAAAAAAgAiBFwAAAAAAACBC4AUAAAAAAACIEHgBAAAAAAAAIgReAAAAAAAAgAiBFwAAAAAA\n",
       "ACBC4AUAAAAAAACIEHgBAAAAAAAAIgReAAAAAAAAgAiBFwAAAAAAACBC4AUAAAAAAACIEHgBAAAA\n",
       "AAAAIgReAAAAAAAAgAiBFwAAAAAAACBC4AUAAAAAAACIEHgBAAAAAAAAIgReAAAAAAAAgAiBFwAA\n",
       "AAAAACBC4AUAAAAAAACIEHgBAAAAAAAAIgReAAAAAAAAgAiBFwAAAAAAACBC4AUAAAAAAACIEHgB\n",
       "AAAAAAAAIgReAAAAAAAAgAiBFwAAAAAAACBC4AUAAAAAAACIEHgBAAAAAAAAIgReAAAAAAAAgAiB\n",
       "FwAAAAAAACBC4AUAAAAAAACIEHgBAAAAAAAAIgReAAAAAAAAgAiBFwAAAAAAACBC4AUAAAAAAACI\n",
       "EHgBAAAAAAAAIgReAAAAAAAAgAiBFwAAAAAAACBC4AUAAAAAAACIEHgBAAAAAAAAIgReAAAAAAAA\n",
       "gAiBFwAAAAAAACBC4AUAAAAAAACIEHgBAAAAAAAAIgReAAAAAAAAgAiBFwAAAAAAACBC4AUAAAAA\n",
       "AACIEHgBAAAAAAAAIgReAAAAAAAAgAiBFwAAAAAAACBC4AUAAAAAAACIEHgBAAAAAAAAIgReAAAA\n",
       "AAAAgAiBFwAAAAAAACBC4AUAAAAAAACIEHgBAAAAAAAAIgReAAAAAAAAgAiBFwAAAAAAACBC4AUA\n",
       "AAAAAACIEHgBAAAAAAAAIgReAAAAAAAAgAiBFwAAAAAAACBC4AUAAAAAAACIEHgBAAAAAAAAIgRe\n",
       "AAAAAAAAgAiBFwAAAAAAACBC4AUAAAAAAACIEHgBAAAAAAAAIgReAAAAAAAAgAiBFwAAAAAAACBC\n",
       "4AUAAAAAAACIEHgBAAAAAAAAIgReAAAAAAAAgAiBFwAAAAAAACBC4AUAAAAAAACIEHgBAAAAAAAA\n",
       "IgReAAAAAAAAgAiBFwAAAAAAACBC4AUAAAAAAACIEHgBAAAAAAAAIgReAAAAAAAAgAiBFwAAAAAA\n",
       "ACBC4AUAAAAAAACIEHgBAAAAAAAAIgReAAAAAAAAgAiBFwAAAAAAACBC4AUAAAAAAACIEHgBAAAA\n",
       "AAAAIgReAAAAAAAAgAiBFwAAAAAAACBC4AUAAAAAAACIEHgBAAAAAAAAIgReAAAAAAAAgAiBFwAA\n",
       "AAAAACBC4AUAAAAAAACImON07N4AAAAAAAAAwAIPXgAAAAAAAICIOR0aLwAAAAAAAEDBOPECAAAA\n",
       "AAAANMxxXHZvAAAAAAAAAGDBXM4PuzcAAAAAAAAAsGDmfL97AwAAAAAAAAAL5vHubfcGAAAAAAAA\n",
       "ABbM0/fz7g0AAAAAAAAALJjXue7eAAAAAAAAAMCC+Xi/7d4AAAAAAAAAwILj6/PlZ/cIAAAAAAAA\n",
       "+KNewb9+ARqcExOfRh2+AAAAAElFTkSuQmCC\n",
       "\" transform=\"translate(201, 47)\"/>\n",
       "</g>\n",
       "<defs>\n",
       "  <clipPath id=\"clip803\">\n",
       "    <rect x=\"2160\" y=\"47\" width=\"73\" height=\"1440\"/>\n",
       "  </clipPath>\n",
       "</defs>\n",
       "<g clip-path=\"url(#clip803)\">\n",
       "<image width=\"72\" height=\"1439\" xlink:href=\"data:image/png;base64,\n",
       "iVBORw0KGgoAAAANSUhEUgAAAEgAAAWfCAYAAAAI7rB3AAAMWUlEQVR4nO3dwY0rRxAFwaZQ/lsh\n",
       "L6XfLQtUeSQPERYsEg8c9MyQ+/n3/v0O/+uvb/8Bv06gIFAQKAgU5r5/v/03/DQLCgIFgYJAQaAw\n",
       "7/359t/w0ywoCBQECgIFR41gQUGgIFAQKAgU5rmKrSwoCBQECgIFgcK86yq2saAgUBAoCBQcNYIF\n",
       "BYGCQEGgIFBwFQsWFAQKAgWBgvtBwYKCQEGgIFAQKMxx1FhZUBAoCBQECgIFN8yCBQWBgkBBoDDH\n",
       "DbOVBQWBgkBBoCBQmHP/+fbf8NMsKAgUBAoCBYGCxz7BgoJAQaAgUHDDLFhQECgIFAQKAgVXsWBB\n",
       "QaAgUBAouB8ULCgIFAQKAgWBwnwcNVYWFAQKAgWBgkBhzvWfWTYWFAQKAgWBgqNGsKAgUBAoCBQE\n",
       "Co4awYKCQEGgIFAQKHjDLFhQECgIFAQK83HUWFlQECgIFAQKAgXvSQcLCgIFgYJAwVEjWFAQKAgU\n",
       "BAoCBc/mgwUFgYJAQaAgUHAWCxYUBAoCBYGCo0awoCBQECgIFAQKjhrBgoJAQaAgUBAozLn323/D\n",
       "T7OgIFAQKAgUHDWCBQWBgkBBoCBQ8NgnWFAQKAgUBAo+pIMFBYGCQEGgIFCYj6caKwsKAgWBgkBB\n",
       "oOAsFiwoCBQECgIFL1AFCwoCBYGCQEGg4IZZsKAgUBAoCBTcDwoWFAQKAgWBgkDBDbNgQUGgIFAQ\n",
       "KAgUXMWCBQWBgkBBoOB788GCgkBBoCBQECg4agQLCgIFgYJAQaDgKhYsKAgUBAoCBR/SwYKCQEGg\n",
       "IFAQKLiKBQsKAgWBgkBhzvMhvbGgIFAQKAgUBAqOGsGCgkBBoCBQECi4igULCgIFgYJAwYd0sKAg\n",
       "UBAoCBQECnPu+/bf8NMsKAgUBAoCBYGCs1iwoCBQECgIFBw1ggUFgYJAQaAgUHDUCBYUBAoCBYGC\n",
       "o0awoCBQECgIFAQKc5w0VhYUBAoCBYGCQGHOcxbbWFAQKAgUBAqOGsGCgkBBoCBQECi4igULCgIF\n",
       "gYJAQaAwfohzZ0FBoCBQECg4agQLCgIFgYJAQaDgKhYsKAgUBAoChTn38+2/4adZUBAoCBQECgKF\n",
       "ec9VbGNBQaAgUBAoCBTcMAsWFAQKAgWBghtmwYKCQEGgIFAQKMy7Gm3UCQIFgYJAwVEjWFAQKAgU\n",
       "BAoChTmeza8sKAgUBAoCBYHCPGexlQUFgYJAQaAwx1ONlTpBoCBQECgIFBw1ggUFgYJAQaAgUPDY\n",
       "J1hQECgIFAQKXgMO6gSBgkBBoCBQ8J50sKAgUBAoCBQ81QgWFAQKAgWBgkBh3tNoo04QKAgUBAoC\n",
       "BTfMggUFgYJAQaDghlmwoCBQECgIFAQKc9wwW6kTBAoCBYGCQMFZLFhQECgIFAQKPqSDBQWBgkBB\n",
       "oCBQ8L35YEFBoCBQECj43nxQJwgUBAoCBYHCPEeNlQUFgYJAQaAgUPDYJ1hQECgIFAQK/jNLUCcI\n",
       "FAQKAgWBghtmwYKCQEGgIFAQKLhhFiwoCBQECgIFR41gQUGgIFAQKAgUvCcd1AkCBYGCQMFRI1hQ\n",
       "ECgIFAQKAgVPNYIFBYGCQEGgIFBwFgsWFAQKAgWBgn+fFSwoCBQECgIFgYJ/ZRzUCQIFgYJAQaDg\n",
       "hlmwoCBQECgIFDybDxYUBAoCBYGCQMFRI1hQECgIFAQKc31IrywoCBQECgIFgYLvzQd1gkBBoCBQ\n",
       "ECi4YRYsKAgUBAoCBR/SwYKCQEGgIFAQKHjDLFhQECgIFAQKjhrBgoJAQaAgUBAouIoFCwoCBYGC\n",
       "QEGg4NdfgjpBoCBQECjM9VRjZUFBoCBQECgIFNwwCxYUBAoCBYGCQMFVLFhQECgIFAQKPqSDBQWB\n",
       "gkBBoCBQ8BtmwYKCQEGgIFBw1AgWFAQKAgWBgkDBVSxYUBAoCBQECgIFX2YJ6gSBgkBBoODLLMGC\n",
       "gkBBoCBQECi4YRYsKAgUBAoCBYGCq1iwoCBQECgIFLwGHCwoCBQECgIFgYKjRrCgIFAQKAgU5h0f\n",
       "0hsLCgIFgYJAQaDghlmwoCBQECgIFAQKbpgFCwoCBYGCQMFRI1hQECgIFAQKAgVHjWBBQaAgUBAo\n",
       "CBScxYIFBYGCQEGg4KgRLCgIFAQKAgWBgqtYsKAgUBAoCBTm+jLLyoKCQEGgIFAQKDhqBAsKAgWB\n",
       "gkBBoODZfLCgIFAQKAgU5r1v/wm/zYKCQEGgIFAQKDhqBAsKAgWBgkDBD00GCwoCBYGCQEGg4KgR\n",
       "LCgIFAQKAgWBgjfMggUFgYJAQaDgyyzBgoJAQaAgUBAoeMMsWFAQKAgUBAoCBY99ggUFgYJAQaDg\n",
       "qUawoCBQECgIFAQKHvsECwoCBYGCQMH9oGBBQaAgUBAoCBQ8mw8WFAQKAgWBgkDBDbNgQUGgIFAQ\n",
       "KHg2HywoCBQECgIFgcLcb/8FP86CgkBBoCBQECg4iwULCgIFgYJAwRtmwYKCQEGgIFAQKLhhFiwo\n",
       "CBQECgIF94OCBQWBgkBBoCBQcNQIFhQECgIFgYJAwVksWFAQKAgUBAqezQcLCgIFgYJAQaAwfvxl\n",
       "Z0FBoCBQECgIFJzFggUFgYJAQaDg2XywoCBQECgIFAQKns0HCwoCBYGCQMFRI1hQECgIFAQKAgVH\n",
       "jWBBQaAgUBAoCBTmesVsZUFBoCBQECi4YRYsKAgUBAoCBYGCG2bBgoJAQaAgUHDUCBYUBAoCBYGC\n",
       "QGGepxorCwoCBYGCQEGgMPe4YbaxoCBQECgIFLxAFSwoCBQECgIFgYIfmgwWFAQKAgWBgkDBD00G\n",
       "CwoCBYGCQMGz+WBBQaAgUBAoCBS8Jx0sKAgUBAoCBd84DBYUBAoCBYGCQMFRI1hQECgIFAQKAgXv\n",
       "SQcLCgIFgYJAwWvAwYKCQEGgIFAQKDhqBAsKAgWBgkBBoOA96WBBQaAgUBAo+ImuYEFBoCBQECgI\n",
       "FNwwCxYUBAoCBYGCZ/PBgoJAQaAgUBAoOGoECwoCBYGCQEGg4CwWLCgIFAQKAgVHjWBBQaAgUBAo\n",
       "CBRcxYIFBYGCQEGgIFBwwyxYUBAoCBQECo4awYKCQEGgIFAQKDhqBAsKAgWBgkDBUSNYUBAoCBQE\n",
       "CgIFP9EVLCgIFAQKAgWBgv8vFiwoCBQECgIFN8yCBQWBgkBBoCBQmHdcxjYWFAQKAgWBgkDBWSxY\n",
       "UBAoCBQECp7NBwsKAgWBgkBBoODZfLCgIFAQKAgU3A8KFhQECgIFgYJAwbP5YEFBoCBQECgIFJzF\n",
       "ggUFgYJAQaDgJ7qCBQWBgkBBoCBQmOsVs5UFBYGCQEGg4AWqYEFBoCBQECgIFOY5aqwsKAgUBAoC\n",
       "BYGCs1iwoCBQECgIFDzVCBYUBAoCBYGCQMEbZsGCgkBBoCBQECjM9ZXMlQUFgYJAQaDghlmwoCBQ\n",
       "ECgIFAQKfv0lWFAQKAgUBApeoAoWFAQKAgWBgkDBU41gQUGgIFAQKAgU3DALFhQECgIFgcLc45bZ\n",
       "xoKCQEGgIFAQKLhhFiwoCBQECgIFgYKrWLCgIFAQKAgUPNUIFhQECgIFgYJAwWOfYEFBoCBQECjM\n",
       "/ThqbCwoCBQECgIFgYKjRrCgIFAQKAgUBArzXMVWFhQECgIFgYKjRrCgIFAQKAgUBApzP65iGwsK\n",
       "AgWBgkBBoOAsFiwoCBQECgIFTzWCBQWBgkBBoCBQcNQIFhQECgIFgYIP6WBBQaAgUBAoCBQ8mw8W\n",
       "FAQKAgWBgkBh3vnz7b/hp1lQECgIFAQKbpgFCwoCBYGCQEGg4A2zYEFBoCBQECjMfe4HbSwoCBQE\n",
       "CgIFgYKjRrCgIFAQKAgUBApzPZtfWVAQKAgUBAqOGsGCgkBBoCBQECg4agQLCgIFgYJAQaAw7zmL\n",
       "bSwoCBQECgIFN8yCBQWBgkBBoCBQ8J50sKAgUBAoCBQcNYIFBYGCQEGgIFCY56ixsqAgUBAoCBQE\n",
       "Cs5iwYKCQEGgIFCY6wWqlQUFgYJAQaAgUPCb9sGCgkBBoCBQECj4MkuwoCBQECgIFDzVCBYUBAoC\n",
       "BYGCQMFRI1hQECgIFAQKPqSDBQWBgkBBoCBQ8Gw+WFAQKAgUBAoCBWexYEFBoCBQECjM8Wx+ZUFB\n",
       "oCBQECgIFBw1ggUFgYJAQaAgUPCedLCgIFAQKAgU5jhqrCwoCBQECgIFgYI3zIIFBYGCQEGg4Nl8\n",
       "sKAgUBAoCBQECm6YBQsKAgWBgkBBoDDvvG//DT/NgoJAQaAgUHDDLFhQECgIFAQKAoU5jhorCwoC\n",
       "BYGCQOE/LrLuTX/wFc8AAAAASUVORK5CYII=\n",
       "\" transform=\"translate(2161, 47)\"/>\n",
       "</g>\n",
       "<path clip-path=\"url(#clip800)\" d=\"M2268.76 1371.91 L2298.43 1371.91 L2298.43 1375.84 L2268.76 1375.84 L2268.76 1371.91 Z\" fill=\"#000000\" fill-rule=\"nonzero\" fill-opacity=\"1\" /><path clip-path=\"url(#clip800)\" d=\"M2307.34 1354.17 L2329.57 1354.17 L2329.57 1356.16 L2317.02 1388.73 L2312.14 1388.73 L2323.94 1358.11 L2307.34 1358.11 L2307.34 1354.17 Z\" fill=\"#000000\" fill-rule=\"nonzero\" fill-opacity=\"1\" /><path clip-path=\"url(#clip800)\" d=\"M2348.69 1357.25 Q2345.07 1357.25 2343.25 1360.82 Q2341.44 1364.36 2341.44 1371.49 Q2341.44 1378.6 2343.25 1382.16 Q2345.07 1385.7 2348.69 1385.7 Q2352.32 1385.7 2354.13 1382.16 Q2355.95 1378.6 2355.95 1371.49 Q2355.95 1364.36 2354.13 1360.82 Q2352.32 1357.25 2348.69 1357.25 M2348.69 1353.55 Q2354.5 1353.55 2357.55 1358.16 Q2360.63 1362.74 2360.63 1371.49 Q2360.63 1380.22 2357.55 1384.82 Q2354.5 1389.41 2348.69 1389.41 Q2342.88 1389.41 2339.8 1384.82 Q2336.74 1380.22 2336.74 1371.49 Q2336.74 1362.74 2339.8 1358.16 Q2342.88 1353.55 2348.69 1353.55 Z\" fill=\"#000000\" fill-rule=\"nonzero\" fill-opacity=\"1\" /><path clip-path=\"url(#clip800)\" d=\"M2378.85 1357.25 Q2375.24 1357.25 2373.41 1360.82 Q2371.6 1364.36 2371.6 1371.49 Q2371.6 1378.6 2373.41 1382.16 Q2375.24 1385.7 2378.85 1385.7 Q2382.48 1385.7 2384.29 1382.16 Q2386.12 1378.6 2386.12 1371.49 Q2386.12 1364.36 2384.29 1360.82 Q2382.48 1357.25 2378.85 1357.25 M2378.85 1353.55 Q2384.66 1353.55 2387.71 1358.16 Q2390.79 1362.74 2390.79 1371.49 Q2390.79 1380.22 2387.71 1384.82 Q2384.66 1389.41 2378.85 1389.41 Q2373.04 1389.41 2369.96 1384.82 Q2366.9 1380.22 2366.9 1371.49 Q2366.9 1362.74 2369.96 1358.16 Q2373.04 1353.55 2378.85 1353.55 Z\" fill=\"#000000\" fill-rule=\"nonzero\" fill-opacity=\"1\" /><polyline clip-path=\"url(#clip800)\" style=\"stroke:#000000; stroke-linecap:round; stroke-linejoin:round; stroke-width:4; stroke-opacity:1; fill:none\" points=\"2232.76,1375.08 2256.76,1375.08 \"/>\n",
       "<path clip-path=\"url(#clip800)\" d=\"M2268.76 1183.83 L2298.43 1183.83 L2298.43 1187.76 L2268.76 1187.76 L2268.76 1183.83 Z\" fill=\"#000000\" fill-rule=\"nonzero\" fill-opacity=\"1\" /><path clip-path=\"url(#clip800)\" d=\"M2319.1 1181.51 Q2315.95 1181.51 2314.1 1183.66 Q2312.27 1185.82 2312.27 1189.57 Q2312.27 1193.29 2314.1 1195.47 Q2315.95 1197.62 2319.1 1197.62 Q2322.25 1197.62 2324.08 1195.47 Q2325.93 1193.29 2325.93 1189.57 Q2325.93 1185.82 2324.08 1183.66 Q2322.25 1181.51 2319.1 1181.51 M2328.39 1166.86 L2328.39 1171.12 Q2326.63 1170.28 2324.82 1169.84 Q2323.04 1169.4 2321.28 1169.4 Q2316.65 1169.4 2314.2 1172.53 Q2311.76 1175.65 2311.42 1181.97 Q2312.78 1179.96 2314.84 1178.9 Q2316.9 1177.81 2319.38 1177.81 Q2324.59 1177.81 2327.6 1180.98 Q2330.63 1184.13 2330.63 1189.57 Q2330.63 1194.89 2327.48 1198.11 Q2324.33 1201.33 2319.1 1201.33 Q2313.11 1201.33 2309.94 1196.74 Q2306.76 1192.14 2306.76 1183.41 Q2306.76 1175.22 2310.65 1170.35 Q2314.54 1165.47 2321.09 1165.47 Q2322.85 1165.47 2324.64 1165.82 Q2326.44 1166.16 2328.39 1166.86 Z\" fill=\"#000000\" fill-rule=\"nonzero\" fill-opacity=\"1\" /><path clip-path=\"url(#clip800)\" d=\"M2348.69 1169.17 Q2345.07 1169.17 2343.25 1172.74 Q2341.44 1176.28 2341.44 1183.41 Q2341.44 1190.52 2343.25 1194.08 Q2345.07 1197.62 2348.69 1197.62 Q2352.32 1197.62 2354.13 1194.08 Q2355.95 1190.52 2355.95 1183.41 Q2355.95 1176.28 2354.13 1172.74 Q2352.32 1169.17 2348.69 1169.17 M2348.69 1165.47 Q2354.5 1165.47 2357.55 1170.08 Q2360.63 1174.66 2360.63 1183.41 Q2360.63 1192.14 2357.55 1196.74 Q2354.5 1201.33 2348.69 1201.33 Q2342.88 1201.33 2339.8 1196.74 Q2336.74 1192.14 2336.74 1183.41 Q2336.74 1174.66 2339.8 1170.08 Q2342.88 1165.47 2348.69 1165.47 Z\" fill=\"#000000\" fill-rule=\"nonzero\" fill-opacity=\"1\" /><path clip-path=\"url(#clip800)\" d=\"M2378.85 1169.17 Q2375.24 1169.17 2373.41 1172.74 Q2371.6 1176.28 2371.6 1183.41 Q2371.6 1190.52 2373.41 1194.08 Q2375.24 1197.62 2378.85 1197.62 Q2382.48 1197.62 2384.29 1194.08 Q2386.12 1190.52 2386.12 1183.41 Q2386.12 1176.28 2384.29 1172.74 Q2382.48 1169.17 2378.85 1169.17 M2378.85 1165.47 Q2384.66 1165.47 2387.71 1170.08 Q2390.79 1174.66 2390.79 1183.41 Q2390.79 1192.14 2387.71 1196.74 Q2384.66 1201.33 2378.85 1201.33 Q2373.04 1201.33 2369.96 1196.74 Q2366.9 1192.14 2366.9 1183.41 Q2366.9 1174.66 2369.96 1170.08 Q2373.04 1165.47 2378.85 1165.47 Z\" fill=\"#000000\" fill-rule=\"nonzero\" fill-opacity=\"1\" /><polyline clip-path=\"url(#clip800)\" style=\"stroke:#000000; stroke-linecap:round; stroke-linejoin:round; stroke-width:4; stroke-opacity:1; fill:none\" points=\"2232.76,1187 2256.76,1187 \"/>\n",
       "<path clip-path=\"url(#clip800)\" d=\"M2268.76 995.747 L2298.43 995.747 L2298.43 999.682 L2268.76 999.682 L2268.76 995.747 Z\" fill=\"#000000\" fill-rule=\"nonzero\" fill-opacity=\"1\" /><path clip-path=\"url(#clip800)\" d=\"M2308.57 978.016 L2326.93 978.016 L2326.93 981.951 L2312.85 981.951 L2312.85 990.423 Q2313.87 990.076 2314.89 989.914 Q2315.91 989.729 2316.93 989.729 Q2322.71 989.729 2326.09 992.9 Q2329.47 996.071 2329.47 1001.49 Q2329.47 1007.07 2326 1010.17 Q2322.53 1013.25 2316.21 1013.25 Q2314.03 1013.25 2311.76 1012.88 Q2309.52 1012.51 2307.11 1011.77 L2307.11 1007.07 Q2309.2 1008.2 2311.42 1008.76 Q2313.64 1009.31 2316.12 1009.31 Q2320.12 1009.31 2322.46 1007.21 Q2324.8 1005.1 2324.8 1001.49 Q2324.8 997.877 2322.46 995.77 Q2320.12 993.664 2316.12 993.664 Q2314.24 993.664 2312.37 994.08 Q2310.51 994.497 2308.57 995.377 L2308.57 978.016 Z\" fill=\"#000000\" fill-rule=\"nonzero\" fill-opacity=\"1\" /><path clip-path=\"url(#clip800)\" d=\"M2348.69 981.094 Q2345.07 981.094 2343.25 984.659 Q2341.44 988.201 2341.44 995.33 Q2341.44 1002.44 2343.25 1006 Q2345.07 1009.54 2348.69 1009.54 Q2352.32 1009.54 2354.13 1006 Q2355.95 1002.44 2355.95 995.33 Q2355.95 988.201 2354.13 984.659 Q2352.32 981.094 2348.69 981.094 M2348.69 977.391 Q2354.5 977.391 2357.55 981.997 Q2360.63 986.58 2360.63 995.33 Q2360.63 1004.06 2357.55 1008.66 Q2354.5 1013.25 2348.69 1013.25 Q2342.88 1013.25 2339.8 1008.66 Q2336.74 1004.06 2336.74 995.33 Q2336.74 986.58 2339.8 981.997 Q2342.88 977.391 2348.69 977.391 Z\" fill=\"#000000\" fill-rule=\"nonzero\" fill-opacity=\"1\" /><path clip-path=\"url(#clip800)\" d=\"M2378.85 981.094 Q2375.24 981.094 2373.41 984.659 Q2371.6 988.201 2371.6 995.33 Q2371.6 1002.44 2373.41 1006 Q2375.24 1009.54 2378.85 1009.54 Q2382.48 1009.54 2384.29 1006 Q2386.12 1002.44 2386.12 995.33 Q2386.12 988.201 2384.29 984.659 Q2382.48 981.094 2378.85 981.094 M2378.85 977.391 Q2384.66 977.391 2387.71 981.997 Q2390.79 986.58 2390.79 995.33 Q2390.79 1004.06 2387.71 1008.66 Q2384.66 1013.25 2378.85 1013.25 Q2373.04 1013.25 2369.96 1008.66 Q2366.9 1004.06 2366.9 995.33 Q2366.9 986.58 2369.96 981.997 Q2373.04 977.391 2378.85 977.391 Z\" fill=\"#000000\" fill-rule=\"nonzero\" fill-opacity=\"1\" /><polyline clip-path=\"url(#clip800)\" style=\"stroke:#000000; stroke-linecap:round; stroke-linejoin:round; stroke-width:4; stroke-opacity:1; fill:none\" points=\"2232.76,998.924 2256.76,998.924 \"/>\n",
       "<path clip-path=\"url(#clip800)\" d=\"M2268.76 807.668 L2298.43 807.668 L2298.43 811.603 L2268.76 811.603 L2268.76 807.668 Z\" fill=\"#000000\" fill-rule=\"nonzero\" fill-opacity=\"1\" /><path clip-path=\"url(#clip800)\" d=\"M2321.37 794.011 L2309.57 812.46 L2321.37 812.46 L2321.37 794.011 M2320.14 789.937 L2326.02 789.937 L2326.02 812.46 L2330.95 812.46 L2330.95 816.348 L2326.02 816.348 L2326.02 824.497 L2321.37 824.497 L2321.37 816.348 L2305.77 816.348 L2305.77 811.835 L2320.14 789.937 Z\" fill=\"#000000\" fill-rule=\"nonzero\" fill-opacity=\"1\" /><path clip-path=\"url(#clip800)\" d=\"M2348.69 793.015 Q2345.07 793.015 2343.25 796.58 Q2341.44 800.122 2341.44 807.251 Q2341.44 814.358 2343.25 817.922 Q2345.07 821.464 2348.69 821.464 Q2352.32 821.464 2354.13 817.922 Q2355.95 814.358 2355.95 807.251 Q2355.95 800.122 2354.13 796.58 Q2352.32 793.015 2348.69 793.015 M2348.69 789.312 Q2354.5 789.312 2357.55 793.918 Q2360.63 798.501 2360.63 807.251 Q2360.63 815.978 2357.55 820.585 Q2354.5 825.168 2348.69 825.168 Q2342.88 825.168 2339.8 820.585 Q2336.74 815.978 2336.74 807.251 Q2336.74 798.501 2339.8 793.918 Q2342.88 789.312 2348.69 789.312 Z\" fill=\"#000000\" fill-rule=\"nonzero\" fill-opacity=\"1\" /><path clip-path=\"url(#clip800)\" d=\"M2378.85 793.015 Q2375.24 793.015 2373.41 796.58 Q2371.6 800.122 2371.6 807.251 Q2371.6 814.358 2373.41 817.922 Q2375.24 821.464 2378.85 821.464 Q2382.48 821.464 2384.29 817.922 Q2386.12 814.358 2386.12 807.251 Q2386.12 800.122 2384.29 796.58 Q2382.48 793.015 2378.85 793.015 M2378.85 789.312 Q2384.66 789.312 2387.71 793.918 Q2390.79 798.501 2390.79 807.251 Q2390.79 815.978 2387.71 820.585 Q2384.66 825.168 2378.85 825.168 Q2373.04 825.168 2369.96 820.585 Q2366.9 815.978 2366.9 807.251 Q2366.9 798.501 2369.96 793.918 Q2373.04 789.312 2378.85 789.312 Z\" fill=\"#000000\" fill-rule=\"nonzero\" fill-opacity=\"1\" /><polyline clip-path=\"url(#clip800)\" style=\"stroke:#000000; stroke-linecap:round; stroke-linejoin:round; stroke-width:4; stroke-opacity:1; fill:none\" points=\"2232.76,810.845 2256.76,810.845 \"/>\n",
       "<path clip-path=\"url(#clip800)\" d=\"M2268.76 619.589 L2298.43 619.589 L2298.43 623.524 L2268.76 623.524 L2268.76 619.589 Z\" fill=\"#000000\" fill-rule=\"nonzero\" fill-opacity=\"1\" /><path clip-path=\"url(#clip800)\" d=\"M2322.69 617.783 Q2326.05 618.501 2327.92 620.769 Q2329.82 623.038 2329.82 626.371 Q2329.82 631.487 2326.3 634.288 Q2322.78 637.089 2316.3 637.089 Q2314.13 637.089 2311.81 636.649 Q2309.52 636.232 2307.07 635.376 L2307.07 630.862 Q2309.01 631.996 2311.33 632.575 Q2313.64 633.154 2316.16 633.154 Q2320.56 633.154 2322.85 631.417 Q2325.17 629.681 2325.17 626.371 Q2325.17 623.316 2323.01 621.603 Q2320.89 619.867 2317.07 619.867 L2313.04 619.867 L2313.04 616.024 L2317.25 616.024 Q2320.7 616.024 2322.53 614.658 Q2324.36 613.269 2324.36 610.677 Q2324.36 608.015 2322.46 606.603 Q2320.58 605.168 2317.07 605.168 Q2315.14 605.168 2312.95 605.584 Q2310.75 606.001 2308.11 606.881 L2308.11 602.714 Q2310.77 601.973 2313.08 601.603 Q2315.42 601.232 2317.48 601.232 Q2322.81 601.232 2325.91 603.663 Q2329.01 606.07 2329.01 610.191 Q2329.01 613.061 2327.37 615.052 Q2325.72 617.019 2322.69 617.783 Z\" fill=\"#000000\" fill-rule=\"nonzero\" fill-opacity=\"1\" /><path clip-path=\"url(#clip800)\" d=\"M2348.69 604.936 Q2345.07 604.936 2343.25 608.501 Q2341.44 612.043 2341.44 619.172 Q2341.44 626.279 2343.25 629.843 Q2345.07 633.385 2348.69 633.385 Q2352.32 633.385 2354.13 629.843 Q2355.95 626.279 2355.95 619.172 Q2355.95 612.043 2354.13 608.501 Q2352.32 604.936 2348.69 604.936 M2348.69 601.232 Q2354.5 601.232 2357.55 605.839 Q2360.63 610.422 2360.63 619.172 Q2360.63 627.899 2357.55 632.505 Q2354.5 637.089 2348.69 637.089 Q2342.88 637.089 2339.8 632.505 Q2336.74 627.899 2336.74 619.172 Q2336.74 610.422 2339.8 605.839 Q2342.88 601.232 2348.69 601.232 Z\" fill=\"#000000\" fill-rule=\"nonzero\" fill-opacity=\"1\" /><path clip-path=\"url(#clip800)\" d=\"M2378.85 604.936 Q2375.24 604.936 2373.41 608.501 Q2371.6 612.043 2371.6 619.172 Q2371.6 626.279 2373.41 629.843 Q2375.24 633.385 2378.85 633.385 Q2382.48 633.385 2384.29 629.843 Q2386.12 626.279 2386.12 619.172 Q2386.12 612.043 2384.29 608.501 Q2382.48 604.936 2378.85 604.936 M2378.85 601.232 Q2384.66 601.232 2387.71 605.839 Q2390.79 610.422 2390.79 619.172 Q2390.79 627.899 2387.71 632.505 Q2384.66 637.089 2378.85 637.089 Q2373.04 637.089 2369.96 632.505 Q2366.9 627.899 2366.9 619.172 Q2366.9 610.422 2369.96 605.839 Q2373.04 601.232 2378.85 601.232 Z\" fill=\"#000000\" fill-rule=\"nonzero\" fill-opacity=\"1\" /><polyline clip-path=\"url(#clip800)\" style=\"stroke:#000000; stroke-linecap:round; stroke-linejoin:round; stroke-width:4; stroke-opacity:1; fill:none\" points=\"2232.76,622.766 2256.76,622.766 \"/>\n",
       "<path clip-path=\"url(#clip800)\" d=\"M2268.76 431.51 L2298.43 431.51 L2298.43 435.445 L2268.76 435.445 L2268.76 431.51 Z\" fill=\"#000000\" fill-rule=\"nonzero\" fill-opacity=\"1\" /><path clip-path=\"url(#clip800)\" d=\"M2312.55 444.403 L2328.87 444.403 L2328.87 448.338 L2306.93 448.338 L2306.93 444.403 Q2309.59 441.649 2314.17 437.019 Q2318.78 432.366 2319.96 431.024 Q2322.2 428.5 2323.08 426.764 Q2323.99 425.005 2323.99 423.315 Q2323.99 420.561 2322.04 418.825 Q2320.12 417.088 2317.02 417.088 Q2314.82 417.088 2312.37 417.852 Q2309.94 418.616 2307.16 420.167 L2307.16 415.445 Q2309.98 414.311 2312.44 413.732 Q2314.89 413.153 2316.93 413.153 Q2322.3 413.153 2325.49 415.838 Q2328.69 418.524 2328.69 423.014 Q2328.69 425.144 2327.88 427.065 Q2327.09 428.963 2324.98 431.556 Q2324.4 432.227 2321.3 435.445 Q2318.2 438.639 2312.55 444.403 Z\" fill=\"#000000\" fill-rule=\"nonzero\" fill-opacity=\"1\" /><path clip-path=\"url(#clip800)\" d=\"M2348.69 416.857 Q2345.07 416.857 2343.25 420.422 Q2341.44 423.963 2341.44 431.093 Q2341.44 438.199 2343.25 441.764 Q2345.07 445.306 2348.69 445.306 Q2352.32 445.306 2354.13 441.764 Q2355.95 438.199 2355.95 431.093 Q2355.95 423.963 2354.13 420.422 Q2352.32 416.857 2348.69 416.857 M2348.69 413.153 Q2354.5 413.153 2357.55 417.76 Q2360.63 422.343 2360.63 431.093 Q2360.63 439.82 2357.55 444.426 Q2354.5 449.01 2348.69 449.01 Q2342.88 449.01 2339.8 444.426 Q2336.74 439.82 2336.74 431.093 Q2336.74 422.343 2339.8 417.76 Q2342.88 413.153 2348.69 413.153 Z\" fill=\"#000000\" fill-rule=\"nonzero\" fill-opacity=\"1\" /><path clip-path=\"url(#clip800)\" d=\"M2378.85 416.857 Q2375.24 416.857 2373.41 420.422 Q2371.6 423.963 2371.6 431.093 Q2371.6 438.199 2373.41 441.764 Q2375.24 445.306 2378.85 445.306 Q2382.48 445.306 2384.29 441.764 Q2386.12 438.199 2386.12 431.093 Q2386.12 423.963 2384.29 420.422 Q2382.48 416.857 2378.85 416.857 M2378.85 413.153 Q2384.66 413.153 2387.71 417.76 Q2390.79 422.343 2390.79 431.093 Q2390.79 439.82 2387.71 444.426 Q2384.66 449.01 2378.85 449.01 Q2373.04 449.01 2369.96 444.426 Q2366.9 439.82 2366.9 431.093 Q2366.9 422.343 2369.96 417.76 Q2373.04 413.153 2378.85 413.153 Z\" fill=\"#000000\" fill-rule=\"nonzero\" fill-opacity=\"1\" /><polyline clip-path=\"url(#clip800)\" style=\"stroke:#000000; stroke-linecap:round; stroke-linejoin:round; stroke-width:4; stroke-opacity:1; fill:none\" points=\"2232.76,434.687 2256.76,434.687 \"/>\n",
       "<path clip-path=\"url(#clip800)\" d=\"M2268.76 243.431 L2298.43 243.431 L2298.43 247.366 L2268.76 247.366 L2268.76 243.431 Z\" fill=\"#000000\" fill-rule=\"nonzero\" fill-opacity=\"1\" /><path clip-path=\"url(#clip800)\" d=\"M2309.33 256.324 L2316.97 256.324 L2316.97 229.958 L2308.66 231.625 L2308.66 227.366 L2316.93 225.699 L2321.6 225.699 L2321.6 256.324 L2329.24 256.324 L2329.24 260.259 L2309.33 260.259 L2309.33 256.324 Z\" fill=\"#000000\" fill-rule=\"nonzero\" fill-opacity=\"1\" /><path clip-path=\"url(#clip800)\" d=\"M2348.69 228.778 Q2345.07 228.778 2343.25 232.343 Q2341.44 235.884 2341.44 243.014 Q2341.44 250.12 2343.25 253.685 Q2345.07 257.227 2348.69 257.227 Q2352.32 257.227 2354.13 253.685 Q2355.95 250.12 2355.95 243.014 Q2355.95 235.884 2354.13 232.343 Q2352.32 228.778 2348.69 228.778 M2348.69 225.074 Q2354.5 225.074 2357.55 229.681 Q2360.63 234.264 2360.63 243.014 Q2360.63 251.741 2357.55 256.347 Q2354.5 260.93 2348.69 260.93 Q2342.88 260.93 2339.8 256.347 Q2336.74 251.741 2336.74 243.014 Q2336.74 234.264 2339.8 229.681 Q2342.88 225.074 2348.69 225.074 Z\" fill=\"#000000\" fill-rule=\"nonzero\" fill-opacity=\"1\" /><path clip-path=\"url(#clip800)\" d=\"M2378.85 228.778 Q2375.24 228.778 2373.41 232.343 Q2371.6 235.884 2371.6 243.014 Q2371.6 250.12 2373.41 253.685 Q2375.24 257.227 2378.85 257.227 Q2382.48 257.227 2384.29 253.685 Q2386.12 250.12 2386.12 243.014 Q2386.12 235.884 2384.29 232.343 Q2382.48 228.778 2378.85 228.778 M2378.85 225.074 Q2384.66 225.074 2387.71 229.681 Q2390.79 234.264 2390.79 243.014 Q2390.79 251.741 2387.71 256.347 Q2384.66 260.93 2378.85 260.93 Q2373.04 260.93 2369.96 256.347 Q2366.9 251.741 2366.9 243.014 Q2366.9 234.264 2369.96 229.681 Q2373.04 225.074 2378.85 225.074 Z\" fill=\"#000000\" fill-rule=\"nonzero\" fill-opacity=\"1\" /><polyline clip-path=\"url(#clip800)\" style=\"stroke:#000000; stroke-linecap:round; stroke-linejoin:round; stroke-width:4; stroke-opacity:1; fill:none\" points=\"2232.76,246.608 2256.76,246.608 \"/>\n",
       "<path clip-path=\"url(#clip800)\" d=\"M2280.7 40.6987 Q2277.09 40.6987 2275.26 44.2635 Q2273.45 47.8052 2273.45 54.9348 Q2273.45 62.0412 2275.26 65.606 Q2277.09 69.1477 2280.7 69.1477 Q2284.33 69.1477 2286.14 65.606 Q2287.97 62.0412 2287.97 54.9348 Q2287.97 47.8052 2286.14 44.2635 Q2284.33 40.6987 2280.7 40.6987 M2280.7 36.995 Q2286.51 36.995 2289.57 41.6015 Q2292.64 46.1848 2292.64 54.9348 Q2292.64 63.6616 2289.57 68.268 Q2286.51 72.8513 2280.7 72.8513 Q2274.89 72.8513 2271.81 68.268 Q2268.76 63.6616 2268.76 54.9348 Q2268.76 46.1848 2271.81 41.6015 Q2274.89 36.995 2280.7 36.995 Z\" fill=\"#000000\" fill-rule=\"nonzero\" fill-opacity=\"1\" /><polyline clip-path=\"url(#clip800)\" style=\"stroke:#000000; stroke-linecap:round; stroke-linejoin:round; stroke-width:4; stroke-opacity:1; fill:none\" points=\"2232.76,58.5288 2256.76,58.5288 \"/>\n",
       "<polyline clip-path=\"url(#clip800)\" style=\"stroke:#000000; stroke-linecap:round; stroke-linejoin:round; stroke-width:4; stroke-opacity:1; fill:none\" points=\"2232.76,1486.45 2232.76,47.2441 \"/>\n",
       "</svg>\n"
      ]
     },
     "execution_count": 14,
     "metadata": {},
     "output_type": "execute_result"
    }
   ],
   "source": [
    "heatmap(V)"
   ]
  },
  {
   "cell_type": "code",
   "execution_count": 15,
   "id": "7fda6a95-8c8a-4764-a6d9-2c63fab3dd7c",
   "metadata": {},
   "outputs": [
    {
     "data": {
      "image/png": "[encoded data removed]",
      "image/svg+xml": [
       "<?xml version=\"1.0\" encoding=\"utf-8\"?>\n",
       "<svg xmlns=\"http://www.w3.org/2000/svg\" xmlns:xlink=\"http://www.w3.org/1999/xlink\" width=\"600\" height=\"400\" viewBox=\"0 0 2400 1600\">\n",
       "<defs>\n",
       "  <clipPath id=\"clip840\">\n",
       "    <rect x=\"0\" y=\"0\" width=\"2400\" height=\"1600\"/>\n",
       "  </clipPath>\n",
       "</defs>\n",
       "<path clip-path=\"url(#clip840)\" d=\"M0 1600 L2400 1600 L2400 0 L0 0  Z\" fill=\"#ffffff\" fill-rule=\"evenodd\" fill-opacity=\"1\"/>\n",
       "<defs>\n",
       "  <clipPath id=\"clip841\">\n",
       "    <rect x=\"480\" y=\"0\" width=\"1681\" height=\"1600\"/>\n",
       "  </clipPath>\n",
       "</defs>\n",
       "<path clip-path=\"url(#clip840)\" d=\"M201.019 1486.45 L2112.76 1486.45 L2112.76 47.2441 L201.019 47.2441  Z\" fill=\"#ffffff\" fill-rule=\"evenodd\" fill-opacity=\"1\"/>\n",
       "<defs>\n",
       "  <clipPath id=\"clip842\">\n",
       "    <rect x=\"201\" y=\"47\" width=\"1913\" height=\"1440\"/>\n",
       "  </clipPath>\n",
       "</defs>\n",
       "<polyline clip-path=\"url(#clip842)\" style=\"stroke:#000000; stroke-linecap:round; stroke-linejoin:round; stroke-width:2; stroke-opacity:0.1; fill:none\" points=\"675.378,1486.45 675.378,47.2441 \"/>\n",
       "<polyline clip-path=\"url(#clip842)\" style=\"stroke:#000000; stroke-linecap:round; stroke-linejoin:round; stroke-width:2; stroke-opacity:0.1; fill:none\" points=\"1152.12,1486.45 1152.12,47.2441 \"/>\n",
       "<polyline clip-path=\"url(#clip842)\" style=\"stroke:#000000; stroke-linecap:round; stroke-linejoin:round; stroke-width:2; stroke-opacity:0.1; fill:none\" points=\"1628.86,1486.45 1628.86,47.2441 \"/>\n",
       "<polyline clip-path=\"url(#clip842)\" style=\"stroke:#000000; stroke-linecap:round; stroke-linejoin:round; stroke-width:2; stroke-opacity:0.1; fill:none\" points=\"2105.6,1486.45 2105.6,47.2441 \"/>\n",
       "<polyline clip-path=\"url(#clip842)\" style=\"stroke:#000000; stroke-linecap:round; stroke-linejoin:round; stroke-width:2; stroke-opacity:0.1; fill:none\" points=\"201.019,1127.19 2112.76,1127.19 \"/>\n",
       "<polyline clip-path=\"url(#clip842)\" style=\"stroke:#000000; stroke-linecap:round; stroke-linejoin:round; stroke-width:2; stroke-opacity:0.1; fill:none\" points=\"201.019,767.565 2112.76,767.565 \"/>\n",
       "<polyline clip-path=\"url(#clip842)\" style=\"stroke:#000000; stroke-linecap:round; stroke-linejoin:round; stroke-width:2; stroke-opacity:0.1; fill:none\" points=\"201.019,407.944 2112.76,407.944 \"/>\n",
       "<polyline clip-path=\"url(#clip842)\" style=\"stroke:#000000; stroke-linecap:round; stroke-linejoin:round; stroke-width:2; stroke-opacity:0.1; fill:none\" points=\"201.019,48.323 2112.76,48.323 \"/>\n",
       "<polyline clip-path=\"url(#clip840)\" style=\"stroke:#000000; stroke-linecap:round; stroke-linejoin:round; stroke-width:4; stroke-opacity:1; fill:none\" points=\"201.019,1486.45 2112.76,1486.45 \"/>\n",
       "<polyline clip-path=\"url(#clip840)\" style=\"stroke:#000000; stroke-linecap:round; stroke-linejoin:round; stroke-width:4; stroke-opacity:1; fill:none\" points=\"675.378,1486.45 675.378,1467.55 \"/>\n",
       "<polyline clip-path=\"url(#clip840)\" style=\"stroke:#000000; stroke-linecap:round; stroke-linejoin:round; stroke-width:4; stroke-opacity:1; fill:none\" points=\"1152.12,1486.45 1152.12,1467.55 \"/>\n",
       "<polyline clip-path=\"url(#clip840)\" style=\"stroke:#000000; stroke-linecap:round; stroke-linejoin:round; stroke-width:4; stroke-opacity:1; fill:none\" points=\"1628.86,1486.45 1628.86,1467.55 \"/>\n",
       "<polyline clip-path=\"url(#clip840)\" style=\"stroke:#000000; stroke-linecap:round; stroke-linejoin:round; stroke-width:4; stroke-opacity:1; fill:none\" points=\"2105.6,1486.45 2105.6,1467.55 \"/>\n",
       "<path clip-path=\"url(#clip840)\" d=\"M634.985 1544.91 L642.623 1544.91 L642.623 1518.55 L634.313 1520.21 L634.313 1515.95 L642.577 1514.29 L647.253 1514.29 L647.253 1544.91 L654.892 1544.91 L654.892 1548.85 L634.985 1548.85 L634.985 1544.91 Z\" fill=\"#000000\" fill-rule=\"nonzero\" fill-opacity=\"1\" /><path clip-path=\"url(#clip840)\" d=\"M674.336 1517.37 Q670.725 1517.37 668.896 1520.93 Q667.091 1524.47 667.091 1531.6 Q667.091 1538.71 668.896 1542.27 Q670.725 1545.82 674.336 1545.82 Q677.97 1545.82 679.776 1542.27 Q681.605 1538.71 681.605 1531.6 Q681.605 1524.47 679.776 1520.93 Q677.97 1517.37 674.336 1517.37 M674.336 1513.66 Q680.146 1513.66 683.202 1518.27 Q686.281 1522.85 686.281 1531.6 Q686.281 1540.33 683.202 1544.94 Q680.146 1549.52 674.336 1549.52 Q668.526 1549.52 665.447 1544.94 Q662.392 1540.33 662.392 1531.6 Q662.392 1522.85 665.447 1518.27 Q668.526 1513.66 674.336 1513.66 Z\" fill=\"#000000\" fill-rule=\"nonzero\" fill-opacity=\"1\" /><path clip-path=\"url(#clip840)\" d=\"M704.498 1517.37 Q700.887 1517.37 699.058 1520.93 Q697.253 1524.47 697.253 1531.6 Q697.253 1538.71 699.058 1542.27 Q700.887 1545.82 704.498 1545.82 Q708.132 1545.82 709.938 1542.27 Q711.767 1538.71 711.767 1531.6 Q711.767 1524.47 709.938 1520.93 Q708.132 1517.37 704.498 1517.37 M704.498 1513.66 Q710.308 1513.66 713.364 1518.27 Q716.442 1522.85 716.442 1531.6 Q716.442 1540.33 713.364 1544.94 Q710.308 1549.52 704.498 1549.52 Q698.688 1549.52 695.609 1544.94 Q692.554 1540.33 692.554 1531.6 Q692.554 1522.85 695.609 1518.27 Q698.688 1513.66 704.498 1513.66 Z\" fill=\"#000000\" fill-rule=\"nonzero\" fill-opacity=\"1\" /><path clip-path=\"url(#clip840)\" d=\"M1115.81 1544.91 L1132.13 1544.91 L1132.13 1548.85 L1110.19 1548.85 L1110.19 1544.91 Q1112.85 1542.16 1117.43 1537.53 Q1122.04 1532.88 1123.22 1531.53 Q1125.47 1529.01 1126.34 1527.27 Q1127.25 1525.51 1127.25 1523.82 Q1127.25 1521.07 1125.3 1519.33 Q1123.38 1517.6 1120.28 1517.6 Q1118.08 1517.6 1115.63 1518.36 Q1113.2 1519.13 1110.42 1520.68 L1110.42 1515.95 Q1113.24 1514.82 1115.7 1514.24 Q1118.15 1513.66 1120.19 1513.66 Q1125.56 1513.66 1128.75 1516.35 Q1131.95 1519.03 1131.95 1523.52 Q1131.95 1525.65 1131.14 1527.57 Q1130.35 1529.47 1128.24 1532.07 Q1127.66 1532.74 1124.56 1535.95 Q1121.46 1539.15 1115.81 1544.91 Z\" fill=\"#000000\" fill-rule=\"nonzero\" fill-opacity=\"1\" /><path clip-path=\"url(#clip840)\" d=\"M1151.95 1517.37 Q1148.34 1517.37 1146.51 1520.93 Q1144.7 1524.47 1144.7 1531.6 Q1144.7 1538.71 1146.51 1542.27 Q1148.34 1545.82 1151.95 1545.82 Q1155.58 1545.82 1157.39 1542.27 Q1159.22 1538.71 1159.22 1531.6 Q1159.22 1524.47 1157.39 1520.93 Q1155.58 1517.37 1151.95 1517.37 M1151.95 1513.66 Q1157.76 1513.66 1160.81 1518.27 Q1163.89 1522.85 1163.89 1531.6 Q1163.89 1540.33 1160.81 1544.94 Q1157.76 1549.52 1151.95 1549.52 Q1146.14 1549.52 1143.06 1544.94 Q1140 1540.33 1140 1531.6 Q1140 1522.85 1143.06 1518.27 Q1146.14 1513.66 1151.95 1513.66 Z\" fill=\"#000000\" fill-rule=\"nonzero\" fill-opacity=\"1\" /><path clip-path=\"url(#clip840)\" d=\"M1182.11 1517.37 Q1178.5 1517.37 1176.67 1520.93 Q1174.86 1524.47 1174.86 1531.6 Q1174.86 1538.71 1176.67 1542.27 Q1178.5 1545.82 1182.11 1545.82 Q1185.74 1545.82 1187.55 1542.27 Q1189.38 1538.71 1189.38 1531.6 Q1189.38 1524.47 1187.55 1520.93 Q1185.74 1517.37 1182.11 1517.37 M1182.11 1513.66 Q1187.92 1513.66 1190.97 1518.27 Q1194.05 1522.85 1194.05 1531.6 Q1194.05 1540.33 1190.97 1544.94 Q1187.92 1549.52 1182.11 1549.52 Q1176.3 1549.52 1173.22 1544.94 Q1170.16 1540.33 1170.16 1531.6 Q1170.16 1522.85 1173.22 1518.27 Q1176.3 1513.66 1182.11 1513.66 Z\" fill=\"#000000\" fill-rule=\"nonzero\" fill-opacity=\"1\" /><path clip-path=\"url(#clip840)\" d=\"M1602.62 1530.21 Q1605.98 1530.93 1607.86 1533.2 Q1609.75 1535.47 1609.75 1538.8 Q1609.75 1543.92 1606.24 1546.72 Q1602.72 1549.52 1596.24 1549.52 Q1594.06 1549.52 1591.74 1549.08 Q1589.45 1548.66 1587 1547.81 L1587 1543.29 Q1588.94 1544.43 1591.26 1545.01 Q1593.57 1545.58 1596.1 1545.58 Q1600.49 1545.58 1602.79 1543.85 Q1605.1 1542.11 1605.1 1538.8 Q1605.1 1535.75 1602.95 1534.03 Q1600.82 1532.3 1597 1532.3 L1592.97 1532.3 L1592.97 1528.45 L1597.18 1528.45 Q1600.63 1528.45 1602.46 1527.09 Q1604.29 1525.7 1604.29 1523.11 Q1604.29 1520.45 1602.39 1519.03 Q1600.52 1517.6 1597 1517.6 Q1595.08 1517.6 1592.88 1518.01 Q1590.68 1518.43 1588.04 1519.31 L1588.04 1515.14 Q1590.7 1514.4 1593.02 1514.03 Q1595.36 1513.66 1597.42 1513.66 Q1602.74 1513.66 1605.84 1516.09 Q1608.94 1518.5 1608.94 1522.62 Q1608.94 1525.49 1607.3 1527.48 Q1605.66 1529.45 1602.62 1530.21 Z\" fill=\"#000000\" fill-rule=\"nonzero\" fill-opacity=\"1\" /><path clip-path=\"url(#clip840)\" d=\"M1628.62 1517.37 Q1625.01 1517.37 1623.18 1520.93 Q1621.37 1524.47 1621.37 1531.6 Q1621.37 1538.71 1623.18 1542.27 Q1625.01 1545.82 1628.62 1545.82 Q1632.25 1545.82 1634.06 1542.27 Q1635.89 1538.71 1635.89 1531.6 Q1635.89 1524.47 1634.06 1520.93 Q1632.25 1517.37 1628.62 1517.37 M1628.62 1513.66 Q1634.43 1513.66 1637.49 1518.27 Q1640.56 1522.85 1640.56 1531.6 Q1640.56 1540.33 1637.49 1544.94 Q1634.43 1549.52 1628.62 1549.52 Q1622.81 1549.52 1619.73 1544.94 Q1616.68 1540.33 1616.68 1531.6 Q1616.68 1522.85 1619.73 1518.27 Q1622.81 1513.66 1628.62 1513.66 Z\" fill=\"#000000\" fill-rule=\"nonzero\" fill-opacity=\"1\" /><path clip-path=\"url(#clip840)\" d=\"M1658.78 1517.37 Q1655.17 1517.37 1653.34 1520.93 Q1651.54 1524.47 1651.54 1531.6 Q1651.54 1538.71 1653.34 1542.27 Q1655.17 1545.82 1658.78 1545.82 Q1662.42 1545.82 1664.22 1542.27 Q1666.05 1538.71 1666.05 1531.6 Q1666.05 1524.47 1664.22 1520.93 Q1662.42 1517.37 1658.78 1517.37 M1658.78 1513.66 Q1664.59 1513.66 1667.65 1518.27 Q1670.73 1522.85 1670.73 1531.6 Q1670.73 1540.33 1667.65 1544.94 Q1664.59 1549.52 1658.78 1549.52 Q1652.97 1549.52 1649.89 1544.94 Q1646.84 1540.33 1646.84 1531.6 Q1646.84 1522.85 1649.89 1518.27 Q1652.97 1513.66 1658.78 1513.66 Z\" fill=\"#000000\" fill-rule=\"nonzero\" fill-opacity=\"1\" /><path clip-path=\"url(#clip840)\" d=\"M2078.7 1518.36 L2066.89 1536.81 L2078.7 1536.81 L2078.7 1518.36 M2077.47 1514.29 L2083.35 1514.29 L2083.35 1536.81 L2088.28 1536.81 L2088.28 1540.7 L2083.35 1540.7 L2083.35 1548.85 L2078.7 1548.85 L2078.7 1540.7 L2063.09 1540.7 L2063.09 1536.19 L2077.47 1514.29 Z\" fill=\"#000000\" fill-rule=\"nonzero\" fill-opacity=\"1\" /><path clip-path=\"url(#clip840)\" d=\"M2106.01 1517.37 Q2102.4 1517.37 2100.57 1520.93 Q2098.76 1524.47 2098.76 1531.6 Q2098.76 1538.71 2100.57 1542.27 Q2102.4 1545.82 2106.01 1545.82 Q2109.64 1545.82 2111.45 1542.27 Q2113.28 1538.71 2113.28 1531.6 Q2113.28 1524.47 2111.45 1520.93 Q2109.64 1517.37 2106.01 1517.37 M2106.01 1513.66 Q2111.82 1513.66 2114.88 1518.27 Q2117.95 1522.85 2117.95 1531.6 Q2117.95 1540.33 2114.88 1544.94 Q2111.82 1549.52 2106.01 1549.52 Q2100.2 1549.52 2097.12 1544.94 Q2094.07 1540.33 2094.07 1531.6 Q2094.07 1522.85 2097.12 1518.27 Q2100.2 1513.66 2106.01 1513.66 Z\" fill=\"#000000\" fill-rule=\"nonzero\" fill-opacity=\"1\" /><path clip-path=\"url(#clip840)\" d=\"M2136.17 1517.37 Q2132.56 1517.37 2130.73 1520.93 Q2128.93 1524.47 2128.93 1531.6 Q2128.93 1538.71 2130.73 1542.27 Q2132.56 1545.82 2136.17 1545.82 Q2139.81 1545.82 2141.61 1542.27 Q2143.44 1538.71 2143.44 1531.6 Q2143.44 1524.47 2141.61 1520.93 Q2139.81 1517.37 2136.17 1517.37 M2136.17 1513.66 Q2141.98 1513.66 2145.04 1518.27 Q2148.12 1522.85 2148.12 1531.6 Q2148.12 1540.33 2145.04 1544.94 Q2141.98 1549.52 2136.17 1549.52 Q2130.36 1549.52 2127.28 1544.94 Q2124.23 1540.33 2124.23 1531.6 Q2124.23 1522.85 2127.28 1518.27 Q2130.36 1513.66 2136.17 1513.66 Z\" fill=\"#000000\" fill-rule=\"nonzero\" fill-opacity=\"1\" /><polyline clip-path=\"url(#clip840)\" style=\"stroke:#000000; stroke-linecap:round; stroke-linejoin:round; stroke-width:4; stroke-opacity:1; fill:none\" points=\"201.019,1486.45 201.019,47.2441 \"/>\n",
       "<polyline clip-path=\"url(#clip840)\" style=\"stroke:#000000; stroke-linecap:round; stroke-linejoin:round; stroke-width:4; stroke-opacity:1; fill:none\" points=\"201.019,1127.19 217.809,1127.19 \"/>\n",
       "<polyline clip-path=\"url(#clip840)\" style=\"stroke:#000000; stroke-linecap:round; stroke-linejoin:round; stroke-width:4; stroke-opacity:1; fill:none\" points=\"201.019,767.565 217.809,767.565 \"/>\n",
       "<polyline clip-path=\"url(#clip840)\" style=\"stroke:#000000; stroke-linecap:round; stroke-linejoin:round; stroke-width:4; stroke-opacity:1; fill:none\" points=\"201.019,407.944 217.809,407.944 \"/>\n",
       "<polyline clip-path=\"url(#clip840)\" style=\"stroke:#000000; stroke-linecap:round; stroke-linejoin:round; stroke-width:4; stroke-opacity:1; fill:none\" points=\"201.019,48.323 217.809,48.323 \"/>\n",
       "<path clip-path=\"url(#clip840)\" d=\"M82.7975 1109.91 L101.154 1109.91 L101.154 1113.84 L87.0799 1113.84 L87.0799 1122.31 Q88.0984 1121.97 89.1169 1121.8 Q90.1354 1121.62 91.1539 1121.62 Q96.941 1121.62 100.321 1124.79 Q103.7 1127.96 103.7 1133.38 Q103.7 1138.96 100.228 1142.06 Q96.7558 1145.14 90.4364 1145.14 Q88.2604 1145.14 85.9919 1144.77 Q83.7466 1144.4 81.3392 1143.66 L81.3392 1138.96 Q83.4225 1140.09 85.6447 1140.65 Q87.8669 1141.2 90.3438 1141.2 Q94.3484 1141.2 96.6863 1139.1 Q99.0243 1136.99 99.0243 1133.38 Q99.0243 1129.77 96.6863 1127.66 Q94.3484 1125.55 90.3438 1125.55 Q88.4688 1125.55 86.5938 1125.97 Q84.7419 1126.39 82.7975 1127.27 L82.7975 1109.91 Z\" fill=\"#000000\" fill-rule=\"nonzero\" fill-opacity=\"1\" /><path clip-path=\"url(#clip840)\" d=\"M122.913 1112.99 Q119.302 1112.99 117.473 1116.55 Q115.668 1120.09 115.668 1127.22 Q115.668 1134.33 117.473 1137.89 Q119.302 1141.43 122.913 1141.43 Q126.547 1141.43 128.353 1137.89 Q130.182 1134.33 130.182 1127.22 Q130.182 1120.09 128.353 1116.55 Q126.547 1112.99 122.913 1112.99 M122.913 1109.28 Q128.723 1109.28 131.779 1113.89 Q134.857 1118.47 134.857 1127.22 Q134.857 1135.95 131.779 1140.55 Q128.723 1145.14 122.913 1145.14 Q117.103 1145.14 114.024 1140.55 Q110.969 1135.95 110.969 1127.22 Q110.969 1118.47 114.024 1113.89 Q117.103 1109.28 122.913 1109.28 Z\" fill=\"#000000\" fill-rule=\"nonzero\" fill-opacity=\"1\" /><path clip-path=\"url(#clip840)\" d=\"M153.075 1112.99 Q149.464 1112.99 147.635 1116.55 Q145.83 1120.09 145.83 1127.22 Q145.83 1134.33 147.635 1137.89 Q149.464 1141.43 153.075 1141.43 Q156.709 1141.43 158.515 1137.89 Q160.343 1134.33 160.343 1127.22 Q160.343 1120.09 158.515 1116.55 Q156.709 1112.99 153.075 1112.99 M153.075 1109.28 Q158.885 1109.28 161.941 1113.89 Q165.019 1118.47 165.019 1127.22 Q165.019 1135.95 161.941 1140.55 Q158.885 1145.14 153.075 1145.14 Q147.265 1145.14 144.186 1140.55 Q141.131 1135.95 141.131 1127.22 Q141.131 1118.47 144.186 1113.89 Q147.265 1109.28 153.075 1109.28 Z\" fill=\"#000000\" fill-rule=\"nonzero\" fill-opacity=\"1\" /><path clip-path=\"url(#clip840)\" d=\"M53.3995 780.91 L61.0384 780.91 L61.0384 754.544 L52.7282 756.211 L52.7282 751.952 L60.9921 750.285 L65.668 750.285 L65.668 780.91 L73.3068 780.91 L73.3068 784.845 L53.3995 784.845 L53.3995 780.91 Z\" fill=\"#000000\" fill-rule=\"nonzero\" fill-opacity=\"1\" /><path clip-path=\"url(#clip840)\" d=\"M92.7512 753.364 Q89.1401 753.364 87.3114 756.929 Q85.5058 760.47 85.5058 767.6 Q85.5058 774.706 87.3114 778.271 Q89.1401 781.813 92.7512 781.813 Q96.3854 781.813 98.1909 778.271 Q100.02 774.706 100.02 767.6 Q100.02 760.47 98.1909 756.929 Q96.3854 753.364 92.7512 753.364 M92.7512 749.66 Q98.5613 749.66 101.617 754.267 Q104.696 758.85 104.696 767.6 Q104.696 776.327 101.617 780.933 Q98.5613 785.517 92.7512 785.517 Q86.941 785.517 83.8623 780.933 Q80.8068 776.327 80.8068 767.6 Q80.8068 758.85 83.8623 754.267 Q86.941 749.66 92.7512 749.66 Z\" fill=\"#000000\" fill-rule=\"nonzero\" fill-opacity=\"1\" /><path clip-path=\"url(#clip840)\" d=\"M122.913 753.364 Q119.302 753.364 117.473 756.929 Q115.668 760.47 115.668 767.6 Q115.668 774.706 117.473 778.271 Q119.302 781.813 122.913 781.813 Q126.547 781.813 128.353 778.271 Q130.182 774.706 130.182 767.6 Q130.182 760.47 128.353 756.929 Q126.547 753.364 122.913 753.364 M122.913 749.66 Q128.723 749.66 131.779 754.267 Q134.857 758.85 134.857 767.6 Q134.857 776.327 131.779 780.933 Q128.723 785.517 122.913 785.517 Q117.103 785.517 114.024 780.933 Q110.969 776.327 110.969 767.6 Q110.969 758.85 114.024 754.267 Q117.103 749.66 122.913 749.66 Z\" fill=\"#000000\" fill-rule=\"nonzero\" fill-opacity=\"1\" /><path clip-path=\"url(#clip840)\" d=\"M153.075 753.364 Q149.464 753.364 147.635 756.929 Q145.83 760.47 145.83 767.6 Q145.83 774.706 147.635 778.271 Q149.464 781.813 153.075 781.813 Q156.709 781.813 158.515 778.271 Q160.343 774.706 160.343 767.6 Q160.343 760.47 158.515 756.929 Q156.709 753.364 153.075 753.364 M153.075 749.66 Q158.885 749.66 161.941 754.267 Q165.019 758.85 165.019 767.6 Q165.019 776.327 161.941 780.933 Q158.885 785.517 153.075 785.517 Q147.265 785.517 144.186 780.933 Q141.131 776.327 141.131 767.6 Q141.131 758.85 144.186 754.267 Q147.265 749.66 153.075 749.66 Z\" fill=\"#000000\" fill-rule=\"nonzero\" fill-opacity=\"1\" /><path clip-path=\"url(#clip840)\" d=\"M53.3995 421.289 L61.0384 421.289 L61.0384 394.923 L52.7282 396.59 L52.7282 392.331 L60.9921 390.664 L65.668 390.664 L65.668 421.289 L73.3068 421.289 L73.3068 425.224 L53.3995 425.224 L53.3995 421.289 Z\" fill=\"#000000\" fill-rule=\"nonzero\" fill-opacity=\"1\" /><path clip-path=\"url(#clip840)\" d=\"M82.7975 390.664 L101.154 390.664 L101.154 394.599 L87.0799 394.599 L87.0799 403.071 Q88.0984 402.724 89.1169 402.562 Q90.1354 402.377 91.1539 402.377 Q96.941 402.377 100.321 405.548 Q103.7 408.72 103.7 414.136 Q103.7 419.715 100.228 422.817 Q96.7558 425.895 90.4364 425.895 Q88.2604 425.895 85.9919 425.525 Q83.7466 425.155 81.3392 424.414 L81.3392 419.715 Q83.4225 420.849 85.6447 421.405 Q87.8669 421.96 90.3438 421.96 Q94.3484 421.96 96.6863 419.854 Q99.0243 417.747 99.0243 414.136 Q99.0243 410.525 96.6863 408.419 Q94.3484 406.312 90.3438 406.312 Q88.4688 406.312 86.5938 406.729 Q84.7419 407.145 82.7975 408.025 L82.7975 390.664 Z\" fill=\"#000000\" fill-rule=\"nonzero\" fill-opacity=\"1\" /><path clip-path=\"url(#clip840)\" d=\"M122.913 393.743 Q119.302 393.743 117.473 397.308 Q115.668 400.849 115.668 407.979 Q115.668 415.085 117.473 418.65 Q119.302 422.192 122.913 422.192 Q126.547 422.192 128.353 418.65 Q130.182 415.085 130.182 407.979 Q130.182 400.849 128.353 397.308 Q126.547 393.743 122.913 393.743 M122.913 390.039 Q128.723 390.039 131.779 394.646 Q134.857 399.229 134.857 407.979 Q134.857 416.706 131.779 421.312 Q128.723 425.895 122.913 425.895 Q117.103 425.895 114.024 421.312 Q110.969 416.706 110.969 407.979 Q110.969 399.229 114.024 394.646 Q117.103 390.039 122.913 390.039 Z\" fill=\"#000000\" fill-rule=\"nonzero\" fill-opacity=\"1\" /><path clip-path=\"url(#clip840)\" d=\"M153.075 393.743 Q149.464 393.743 147.635 397.308 Q145.83 400.849 145.83 407.979 Q145.83 415.085 147.635 418.65 Q149.464 422.192 153.075 422.192 Q156.709 422.192 158.515 418.65 Q160.343 415.085 160.343 407.979 Q160.343 400.849 158.515 397.308 Q156.709 393.743 153.075 393.743 M153.075 390.039 Q158.885 390.039 161.941 394.646 Q165.019 399.229 165.019 407.979 Q165.019 416.706 161.941 421.312 Q158.885 425.895 153.075 425.895 Q147.265 425.895 144.186 421.312 Q141.131 416.706 141.131 407.979 Q141.131 399.229 144.186 394.646 Q147.265 390.039 153.075 390.039 Z\" fill=\"#000000\" fill-rule=\"nonzero\" fill-opacity=\"1\" /><path clip-path=\"url(#clip840)\" d=\"M56.6171 61.6678 L72.9365 61.6678 L72.9365 65.603 L50.9921 65.603 L50.9921 61.6678 Q53.6541 58.9132 58.2375 54.2836 Q62.8439 49.6308 64.0245 48.2882 Q66.2698 45.7651 67.1494 44.029 Q68.0522 42.2697 68.0522 40.5799 Q68.0522 37.8253 66.1078 36.0892 Q64.1865 34.3531 61.0847 34.3531 Q58.8856 34.3531 56.4319 35.117 Q54.0014 35.8809 51.2236 37.4318 L51.2236 32.7096 Q54.0477 31.5754 56.5014 30.9967 Q58.955 30.418 60.9921 30.418 Q66.3624 30.418 69.5568 33.1031 Q72.7513 35.7883 72.7513 40.279 Q72.7513 42.4086 71.9411 44.3299 Q71.1541 46.2281 69.0476 48.8206 Q68.4689 49.4919 65.367 52.7095 Q62.2652 55.9039 56.6171 61.6678 Z\" fill=\"#000000\" fill-rule=\"nonzero\" fill-opacity=\"1\" /><path clip-path=\"url(#clip840)\" d=\"M92.7512 34.1216 Q89.1401 34.1216 87.3114 37.6864 Q85.5058 41.2281 85.5058 48.3577 Q85.5058 55.4641 87.3114 59.0289 Q89.1401 62.5706 92.7512 62.5706 Q96.3854 62.5706 98.1909 59.0289 Q100.02 55.4641 100.02 48.3577 Q100.02 41.2281 98.1909 37.6864 Q96.3854 34.1216 92.7512 34.1216 M92.7512 30.418 Q98.5613 30.418 101.617 35.0244 Q104.696 39.6077 104.696 48.3577 Q104.696 57.0845 101.617 61.6909 Q98.5613 66.2743 92.7512 66.2743 Q86.941 66.2743 83.8623 61.6909 Q80.8068 57.0845 80.8068 48.3577 Q80.8068 39.6077 83.8623 35.0244 Q86.941 30.418 92.7512 30.418 Z\" fill=\"#000000\" fill-rule=\"nonzero\" fill-opacity=\"1\" /><path clip-path=\"url(#clip840)\" d=\"M122.913 34.1216 Q119.302 34.1216 117.473 37.6864 Q115.668 41.2281 115.668 48.3577 Q115.668 55.4641 117.473 59.0289 Q119.302 62.5706 122.913 62.5706 Q126.547 62.5706 128.353 59.0289 Q130.182 55.4641 130.182 48.3577 Q130.182 41.2281 128.353 37.6864 Q126.547 34.1216 122.913 34.1216 M122.913 30.418 Q128.723 30.418 131.779 35.0244 Q134.857 39.6077 134.857 48.3577 Q134.857 57.0845 131.779 61.6909 Q128.723 66.2743 122.913 66.2743 Q117.103 66.2743 114.024 61.6909 Q110.969 57.0845 110.969 48.3577 Q110.969 39.6077 114.024 35.0244 Q117.103 30.418 122.913 30.418 Z\" fill=\"#000000\" fill-rule=\"nonzero\" fill-opacity=\"1\" /><path clip-path=\"url(#clip840)\" d=\"M153.075 34.1216 Q149.464 34.1216 147.635 37.6864 Q145.83 41.2281 145.83 48.3577 Q145.83 55.4641 147.635 59.0289 Q149.464 62.5706 153.075 62.5706 Q156.709 62.5706 158.515 59.0289 Q160.343 55.4641 160.343 48.3577 Q160.343 41.2281 158.515 37.6864 Q156.709 34.1216 153.075 34.1216 M153.075 30.418 Q158.885 30.418 161.941 35.0244 Q165.019 39.6077 165.019 48.3577 Q165.019 57.0845 161.941 61.6909 Q158.885 66.2743 153.075 66.2743 Q147.265 66.2743 144.186 61.6909 Q141.131 57.0845 141.131 48.3577 Q141.131 39.6077 144.186 35.0244 Q147.265 30.418 153.075 30.418 Z\" fill=\"#000000\" fill-rule=\"nonzero\" fill-opacity=\"1\" /><g clip-path=\"url(#clip842)\">\n",
       "<image width=\"1912\" height=\"1439\" xlink:href=\"data:image/png;base64,\n",
       "iVBORw0KGgoAAAANSUhEUgAAB3gAAAWfCAYAAABJJifMAAAgAElEQVR4nOzZwQ2AMBDAsKNi/5Vh\n",
       "hf7aSPYE+eeZeb8BAAAAAAAA4HrrdAAAAAAAAAAAewxeAAAAAAAAgAiDFwAAAAAAACDC4AUAAAAA\n",
       "AACIMHgBAAAAAAAAIgxeAAAAAAAAgAiDFwAAAAAAACDC4AUAAAAAAACIMHgBAAAAAAAAIgxeAAAA\n",
       "AAAAgAiDFwAAAAAAACDC4AUAAAAAAACIMHgBAAAAAAAAIgxeAAAAAAAAgAiDFwAAAAAAACDC4AUA\n",
       "AAAAAACIMHgBAAAAAAAAIgxeAAAAAAAAgAiDFwAAAAAAACDC4AUAAAAAAACIMHgBAAAAAAAAIgxe\n",
       "AAAAAAAAgAiDFwAAAAAAACDC4AUAAAAAAACIMHgBAAAAAAAAIgxeAAAAAAAAgAiDFwAAAAAAACDC\n",
       "4AUAAAAAAACIMHgBAAAAAAAAIgxeAAAAAAAAgAiDFwAAAAAAACDC4AUAAAAAAACIMHgBAAAAAAAA\n",
       "IgxeAAAAAAAAgAiDFwAAAAAAACDC4AUAAAAAAACIMHgBAAAAAAAAIgxeAAAAAAAAgAiDFwAAAAAA\n",
       "ACDC4AUAAAAAAACIMHgBAAAAAAAAIgxeAAAAAAAAgAiDFwAAAAAAACDC4AUAAAAAAACIMHgBAAAA\n",
       "AAAAIgxeAAAAAAAAgAiDFwAAAAAAACDC4AUAAAAAAACIMHgBAAAAAAAAIgxeAAAAAAAAgAiDFwAA\n",
       "AAAAACDC4AUAAAAAAACIMHgBAAAAAAAAIgxeAAAAAAAAgAiDFwAAAAAAACDC4AUAAAAAAACIMHgB\n",
       "AAAAAAAAIgxeAAAAAAAAgAiDFwAAAAAAACDC4AUAAAAAAACIMHgBAAAAAAAAIgxeAAAAAAAAgAiD\n",
       "FwAAAAAAACDC4AUAAAAAAACIMHgBAAAAAAAAIgxeAAAAAAAAgAiDFwAAAAAAACDC4AUAAAAAAACI\n",
       "MHgBAAAAAAAAIgxeAAAAAAAAgAiDFwAAAAAAACDC4AUAAAAAAACIMHgBAAAAAAAAIgxeAAAAAAAA\n",
       "gAiDFwAAAAAAACDC4AUAAAAAAACIMHgBAAAAAAAAIgxeAAAAAAAAgAiDFwAAAAAAACDC4AUAAAAA\n",
       "AACIMHgBAAAAAAAAIgxeAAAAAAAAgAiDFwAAAAAAACDC4AUAAAAAAACIMHgBAAAAAAAAIgxeAAAA\n",
       "AAAAgAiDFwAAAAAAACDC4AUAAAAAAACIMHgBAAAAAAAAIgxeAAAAAAAAgAiDFwAAAAAAACDC4AUA\n",
       "AAAAAACIMHgBAAAAAAAAIgxeAAAAAAAAgAiDFwAAAAAAACDC4AUAAAAAAACIMHgBAAAAAAAAIgxe\n",
       "AAAAAAAAgAiDFwAAAAAAACDC4AUAAAAAAACIMHgBAAAAAAAAIgxeAAAAAAAAgAiDFwAAAAAAACDC\n",
       "4AUAAAAAAACIMHgBAAAAAAAAIgxeAAAAAAAAgAiDFwAAAAAAACDC4AUAAAAAAACIMHgBAAAAAAAA\n",
       "IgxeAAAAAAAAgAiDFwAAAAAAACDC4AUAAAAAAACIMHgBAAAAAAAAIgxeAAAAAAAAgAiDFwAAAAAA\n",
       "ACDC4AUAAAAAAACIMHgBAAAAAAAAIgxeAAAAAAAAgAiDFwAAAAAAACDC4AUAAAAAAACIMHgBAAAA\n",
       "AAAAIgxeAAAAAAAAgAiDFwAAAAAAACDC4AUAAAAAAACIMHgBAAAAAAAAIgxeAAAAAAAAgAiDFwAA\n",
       "AAAAACDC4AUAAAAAAACIMHgBAAAAAAAAIgxeAAAAAAAAgAiDFwAAAAAAACDC4AUAAAAAAACIMHgB\n",
       "AAAAAAAAIgxeAAAAAAAAgAiDFwAAAAAAACDC4AUAAAAAAACIMHgBAAAAAAAAIgxeAAAAAAAAgAiD\n",
       "FwAAAAAAACDC4AUAAAAAAACIMHgBAAAAAAAAIgxeAAAAAAAAgAiDFwAAAAAAACDC4AUAAAAAAACI\n",
       "MHgBAAAAAAAAIgxeAAAAAAAAgAiDFwAAAAAAACDC4AUAAAAAAACIMHgBAAAAAAAAIgxeAAAAAAAA\n",
       "gAiDFwAAAAAAACDC4AUAAAAAAACIMHgBAAAAAAAAIgxeAAAAAAAAgAiDFwAAAAAAACDC4AUAAAAA\n",
       "AACIMHgBAAAAAAAAIgxeAAAAAAAAgAiDFwAAAAAAACDC4AUAAAAAAACIMHgBAAAAAAAAIgxeAAAA\n",
       "AAAAgAiDFwAAAAAAACDC4AUAAAAAAACIMHgBAAAAAAAAIgxeAAAAAAAAgAiDFwAAAAAAACDC4AUA\n",
       "AAAAAACIMHgBAAAAAAAAIgxeAAAAAAAAgAiDFwAAAAAAACDC4AUAAAAAAACIMHgBAAAAAAAAIgxe\n",
       "AAAAAAAAgAiDFwAAAAAAACDC4AUAAAAAAACIMHgBAAAAAAAAIgxeAAAAAAAAgAiDFwAAAAAAACDC\n",
       "4AUAAAAAAACIMHgBAAAAAAAAIgxeAAAAAAAAgAiDFwAAAAAAACDC4AUAAAAAAACIMHgBAAAAAAAA\n",
       "IgxeAAAAAAAAgAiDFwAAAAAAACDC4AUAAAAAAACIMHgBAAAAAAAAIgxeAAAAAAAAgAiDFwAAAAAA\n",
       "ACDC4AUAAAAAAACIMHgBAAAAAAAAIgxeAAAAAAAAgAiDFwAAAAAAACDC4AUAAAAAAACIMHgBAAAA\n",
       "AAAAIgxeAAAAAAAAgAiDFwAAAAAAACDC4AUAAAAAAACIMHgBAAAAAAAAIgxeAAAAAAAAgAiDFwAA\n",
       "AAAAACDC4AUAAAAAAACIMHgBAAAAAAAAIgxeAAAAAAAAgAiDFwAAAAAAACDC4AUAAAAAAACIMHgB\n",
       "AAAAAAAAIgxeAAAAAAAAgAiDFwAAAAAAACDC4AUAAAAAAACIMHgBAAAAAAAAIgxeAAAAAAAAgAiD\n",
       "FwAAAAAAACDC4AUAAAAAAACIMHgBAAAAAAAAIgxeAAAAAAAAgAiDFwAAAAAAACDC4AUAAAAAAACI\n",
       "MHgBAAAAAAAAIgxeAAAAAAAAgAiDFwAAAAAAACDC4AUAAAAAAACIMHgBAAAAAAAAIgxeAAAAAAAA\n",
       "gAiDFwAAAAAAACDC4AUAAAAAAACIMHgBAAAAAAAAIgxeAAAAAAAAgAiDFwAAAAAAACDC4AUAAAAA\n",
       "AACIMHgBAAAAAAAAIgxeAAAAAAAAgAiDFwAAAAAAACDC4AUAAAAAAACIMHgBAAAAAAAAIgxeAAAA\n",
       "AAAAgAiDFwAAAAAAACDC4AUAAAAAAACIMHgBAAAAAAAAIgxeAAAAAAAAgAiDFwAAAAAAACDC4AUA\n",
       "AAAAAACIMHgBAAAAAAAAIgxeAAAAAAAAgAiDFwAAAAAAACDC4AUAAAAAAACIMHgBAAAAAAAAIgxe\n",
       "AAAAAAAAgAiDFwAAAAAAACDC4AUAAAAAAACIMHgBAAAAAAAAIgxeAAAAAAAAgAiDFwAAAAAAACDC\n",
       "4AUAAAAAAACIMHgBAAAAAAAAIgxeAAAAAAAAgAiDFwAAAAAAACDC4AUAAAAAAACIMHgBAAAAAAAA\n",
       "IgxeAAAAAAAAgAiDFwAAAAAAACDC4AUAAAAAAACIMHgBAAAAAAAAIgxeAAAAAAAAgAiDFwAAAAAA\n",
       "ACDC4AUAAAAAAACIMHgBAAAAAAAAIgxeAAAAAAAAgAiDFwAAAAAAACDC4AUAAAAAAACIMHgBAAAA\n",
       "AAAAIgxeAAAAAAAAgAiDFwAAAAAAACDC4AUAAAAAAACIMHgBAAAAAAAAIgxeAAAAAAAAgAiDFwAA\n",
       "AAAAACDC4AUAAAAAAACIMHgBAAAAAAAAIgxeAAAAAAAAgAiDFwAAAAAAACDC4AUAAAAAAACIMHgB\n",
       "AAAAAAAAIgxeAAAAAAAAgAiDFwAAAAAAACDC4AUAAAAAAACIMHgBAAAAAAAAIgxeAAAAAAAAgAiD\n",
       "FwAAAAAAACDC4AUAAAAAAACIMHgBAAAAAAAAIgxeAAAAAAAAgAiDFwAAAAAAACDC4AUAAAAAAACI\n",
       "MHgBAAAAAAAAIgxeAAAAAAAAgAiDFwAAAAAAACDC4AUAAAAAAACIMHgBAAAAAAAAIgxeAAAAAAAA\n",
       "gAiDFwAAAAAAACDC4AUAAAAAAACIMHgBAAAAAAAAIgxeAAAAAAAAgAiDFwAAAAAAACDC4AUAAAAA\n",
       "AACIMHgBAAAAAAAAIgxeAAAAAAAAgAiDFwAAAAAAACDC4AUAAAAAAACIMHgBAAAAAAAAIgxeAAAA\n",
       "AAAAgAiDFwAAAAAAACDC4AUAAAAAAACIMHgBAAAAAAAAIgxeAAAAAAAAgAiDFwAAAAAAACDC4AUA\n",
       "AAAAAACIMHgBAAAAAAAAIgxeAAAAAAAAgAiDFwAAAAAAACDC4AUAAAAAAACIMHgBAAAAAAAAIgxe\n",
       "AAAAAAAAgAiDFwAAAAAAACDC4AUAAAAAAACIMHgBAAAAAAAAIgxeAAAAAAAAgAiDFwAAAAAAACDC\n",
       "4AUAAAAAAACIMHgBAAAAAAAAIgxeAAAAAAAAgAiDFwAAAAAAACDC4AUAAAAAAACIMHgBAAAAAAAA\n",
       "IgxeAAAAAAAAgAiDFwAAAAAAACDC4AUAAAAAAACIMHgBAAAAAAAAIgxeAAAAAAAAgAiDFwAAAAAA\n",
       "ACDC4AUAAAAAAACIMHgBAAAAAAAAIgxeAAAAAAAAgAiDFwAAAAAAACDC4AUAAAAAAACIMHgBAAAA\n",
       "AAAAIgxeAAAAAAAAgAiDFwAAAAAAACDC4AUAAAAAAACIMHgBAAAAAAAAIgxeAAAAAAAAgAiDFwAA\n",
       "AAAAACDC4AUAAAAAAACIMHgBAAAAAAAAIgxeAAAAAAAAgAiDFwAAAAAAACDC4AUAAAAAAACIMHgB\n",
       "AAAAAAAAIgxeAAAAAAAAgAiDFwAAAAAAACDC4AUAAAAAAACIMHgBAAAAAAAAIgxeAAAAAAAAgAiD\n",
       "FwAAAAAAACDC4AUAAAAAAACIMHgBAAAAAAAAIgxeAAAAAAAAgAiDFwAAAAAAACDC4AUAAAAAAACI\n",
       "MHgBAAAAAAAAIgxeAAAAAAAAgAiDFwAAAAAAACDC4AUAAAAAAACIMHgBAAAAAAAAIgxeAAAAAAAA\n",
       "gAiDFwAAAAAAACDC4AUAAAAAAACIMHgBAAAAAAAAIgxeAAAAAAAAgAiDFwAAAAAAACDC4AUAAAAA\n",
       "AACIMHgBAAAAAAAAIgxeAAAAAAAAgAiDFwAAAAAAACDC4AUAAAAAAACIMHgBAAAAAAAAIgxeAAAA\n",
       "AAAAgAiDFwAAAAAAACDC4AUAAAAAAACIMHgBAAAAAAAAIgxeAAAAAAAAgAiDFwAAAAAAACDC4AUA\n",
       "AAAAAACIMHgBAAAAAAAAIgxeAAAAAAAAgAiDFwAAAAAAACDC4AUAAAAAAACIMHgBAAAAAAAAIgxe\n",
       "AAAAAAAAgAiDFwAAAAAAACDC4AUAAAAAAACIMHgBAAAAAAAAIgxeAAAAAAAAgAiDFwAAAAAAACDC\n",
       "4AUAAAAAAACIMHgBAAAAAAAAIgxeAAAAAAAAgAiDFwAAAAAAACDC4AUAAAAAAACIMHgBAAAAAAAA\n",
       "IgxeAAAAAAAAgAiDFwAAAAAAACDC4AUAAAAAAACIMHgBAAAAAAAAIgxeAAAAAAAAgAiDFwAAAAAA\n",
       "ACDC4AUAAAAAAACIMHgBAAAAAAAAIgxeAAAAAAAAgAiDFwAAAAAAACDC4AUAAAAAAACIMHgBAAAA\n",
       "AAAAIgxeAAAAAAAAgAiDFwAAAAAAACDC4AUAAAAAAACIMHgBAAAAAAAAIgxeAAAAAAAAgAiDFwAA\n",
       "AAAAACDC4AUAAAAAAACIMHgBAAAAAAAAIgxeAAAAAAAAgAiDFwAAAAAAACDC4AUAAAAAAACIMHgB\n",
       "AAAAAAAAIgxeAAAAAAAAgAiDFwAAAAAAACDC4AUAAAAAAACIMHgBAAAAAAAAIgxeAAAAAAAAgAiD\n",
       "FwAAAAAAACDC4AUAAAAAAACIMHgBAAAAAAAAIgxeAAAAAAAAgAiDFwAAAAAAACDC4AUAAAAAAACI\n",
       "MHgBAAAAAAAAIgxeAAAAAAAAgAiDFwAAAAAAACDC4AUAAAAAAACIMHgBAAAAAAAAIgxeAAAAAAAA\n",
       "gAiDFwAAAAAAACDC4AUAAAAAAACIMHgBAAAAAAAAIgxeAAAAAAAAgAiDFwAAAAAAACDC4AUAAAAA\n",
       "AACIMHgBAAAAAAAAIgxeAAAAAAAAgAiDFwAAAAAAACDC4AUAAAAAAACIMHgBAAAAAAAAIgxeAAAA\n",
       "AAAAgAiDFwAAAAAAACDC4AUAAAAAAACIMHgBAAAAAAAAIgxeAAAAAAAAgAiDFwAAAAAAACDC4AUA\n",
       "AAAAAACIMHgBAAAAAAAAIgxeAAAAAAAAgAiDFwAAAAAAACDC4AUAAAAAAACIMHgBAAAAAAAAIgxe\n",
       "AAAAAAAAgAiDFwAAAAAAACDC4AUAAAAAAACIMHgBAAAAAAAAIgxeAAAAAAAAgAiDFwAAAAAAACDC\n",
       "4AUAAAAAAACIMHgBAAAAAAAAIgxeAAAAAAAAgAiDFwAAAAAAACDC4AUAAAAAAACIMHgBAAAAAAAA\n",
       "IgxeAAAAAAAAgAiDFwAAAAAAACDC4AUAAAAAAACIMHgBAAAAAAAAIgxeAAAAAAAAgAiDFwAAAAAA\n",
       "ACDC4AUAAAAAAACIMHgBAAAAAAAAIgxeAAAAAAAAgAiDFwAAAAAAACDC4AUAAAAAAACIMHgBAAAA\n",
       "AAAAIgxeAAAAAAAAgAiDFwAAAAAAACDC4AUAAAAAAACIMHgBAAAAAAAAIgxeAAAAAAAAgAiDFwAA\n",
       "AAAAACDC4AUAAAAAAACIMHgBAAAAAAAAIgxeAAAAAAAAgAiDFwAAAAAAACDC4AUAAAAAAACIMHgB\n",
       "AAAAAAAAIgxeAAAAAAAAgAiDFwAAAAAAACDC4AUAAAAAAACIMHgBAAAAAAAAIgxeAAAAAAAAgAiD\n",
       "FwAAAAAAACDC4AUAAAAAAACIMHgBAAAAAAAAIgxeAAAAAAAAgAiDFwAAAAAAACDC4AUAAAAAAACI\n",
       "MHgBAAAAAAAAIgxeAAAAAAAAgAiDFwAAAAAAACDC4AUAAAAAAACIMHgBAAAAAAAAIgxeAAAAAAAA\n",
       "gAiDFwAAAAAAACDC4AUAAAAAAACIMHgBAAAAAAAAIgxeAAAAAAAAgAiDFwAAAAAAACDC4AUAAAAA\n",
       "AACIMHgBAAAAAAAAIgxeAAAAAAAAgAiDFwAAAAAAACDC4AUAAAAAAACIMHgBAAAAAAAAIgxeAAAA\n",
       "AAAAgAiDFwAAAAAAACDC4AUAAAAAAACIMHgBAAAAAAB+9uyABAAAAEDQ/9ftCPSGABOCFwAAAAAA\n",
       "AGBC8AIAAAAAAABMCF4AAAAAAACACcELAAAAAAAAMCF4AQAAAAAAACYELwAAAAAAAMCE4AUAAAAA\n",
       "AACYELwAAAAAAAAAE4IXAAAAAAAAYELwAgAAAAAAAEwIXgAAAAAAAIAJwQsAAAAAAAAwIXgBAAAA\n",
       "AAAAJgQvAAAAAAAAwITgBQAAAAAAAJgQvAAAAAAAAAATghcAAAAAAABgQvACAAAAAAAATAheAAAA\n",
       "AAAAgAnBCwAAAAAAADAheAEAAAAAAAAmBC8AAAAAAADAhOAFAAAAAAAAmBC8AAAAAAAAABOCFwAA\n",
       "AAAAAGBC8AIAAAAAAABMCF4AAAAAAACACcELAAAAAAAAMCF4AQAAAAAAACYELwAAAAAAAMCE4AUA\n",
       "AAAAAACYELwAAAAAAAAAE4IXAAAAAAAAYELwAgAAAAAAAEwIXgAAAAAAAIAJwQsAAAAAAAAwIXgB\n",
       "AAAAAAAAJgQvAAAAAAAAwITgBQAAAAAAAJgQvAAAAAAAAAATghcAAAAAAABgQvACAAAAAAAATAhe\n",
       "AAAAAAAAgAnBCwAAAAAAADAheAEAAAAAAAAmBC8AAAAAAADAhOAFAAAAAAAAmBC8AAAAAAAAABOC\n",
       "FwAAAAAAAGBC8AIAAAAAAABMCF4AAAAAAACACcELAAAAAAAAMCF4AQAAAAAAACYELwAAAAAAAMCE\n",
       "4AUAAAAAAACYELwAAAAAAAAAE4IXAAAAAAAAYELwAgAAAAAAAEwIXgAAAAAAAIAJwQsAAAAAAAAw\n",
       "IXgBAAAAAAAAJgQvAAAAAAAAwITgBQAAAAAAAJgQvAAAAAAAAAATghcAAAAAAABgQvACAAAAAAAA\n",
       "TAheAAAAAAAAgAnBCwAAAAAAADAheAEAAAAAAAAmBC8AAAAAAADAhOAFAAAAAAAAmBC8AAAAAAAA\n",
       "ABOCFwAAAAAAAGBC8AIAAAAAAABMCF4AAAAAAACACcELAAAAAAAAMCF4AQAAAAAAACYELwAAAAAA\n",
       "AMCE4AUAAAAAAACYELwAAAAAAAAAE4IXAAAAAAAAYELwAgAAAAAAAEwIXgAAAAAAAIAJwQsAAAAA\n",
       "AAAwIXgBAAAAAAAAJgQvAAAAAAAAwITgBQAAAAAAAJgQvAAAAAAAAAATghcAAAAAAABgQvACAAAA\n",
       "AAAATAheAAAAAAAAgAnBCwAAAAAAADAheAEAAAAAAAAmBC8AAAAAAADAhOAFAAAAAAAAmBC8AAAA\n",
       "AAAAABOCFwAAAAAAAGBC8AIAAAAAAABMCF4AAAAAAACACcELAAAAAAAAMCF4AQAAAAAAACYELwAA\n",
       "AAAAAMCE4AUAAAAAAACYELwAAAAAAAAAE4IXAAAAAAAAYELwAgAAAAAAAEwIXgAAAAAAAIAJwQsA\n",
       "AAAAAAAwIXgBAAAAAAAAJgQvAAAAAAAAwITgBQAAAAAAAJgQvAAAAAAAAAATghcAAAAAAABgQvAC\n",
       "AAAAAAAATAheAAAAAAAAgAnBCwAAAAAAADAheAEAAAAAAAAmBC8AAAAAAADAhOAFAAAAAAAAmBC8\n",
       "AAAAAAAAABOCFwAAAAAAAGBC8AIAAAAAAABMCF4AAAAAAACACcELAAAAAAAAMCF4AQAAAAAAACYE\n",
       "LwAAAAAAAMCE4AUAAAAAAACYELwAAAAAAAAAE4IXAAAAAAAAYELwAgAAAAAAAEwIXgAAAAAAAIAJ\n",
       "wQsAAAAAAAAwIXgBAAAAAAAAJgQvAAAAAAAAwITgBQAAAAAAAJgQvAAAAAAAAAATghcAAAAAAABg\n",
       "QvACAAAAAAAATAheAAAAAAAAgAnBCwAAAAAAADAheAEAAAAAAAAmBC8AAAAAAADAhOAFAAAAAAAA\n",
       "mBC8AAAAAAAAABOCFwAAAAAAAGBC8AIAAAAAAABMCF4AAAAAAACACcELAAAAAAAAMCF4AQAAAAAA\n",
       "ACYELwAAAAAAAMCE4AUAAAAAAACYELwAAAAAAAAAE4IXAAAAAAAAYELwAgAAAAAAAEwIXgAAAAAA\n",
       "AIAJwQsAAAAAAAAwIXgBAAAAAAAAJgQvAAAAAAAAwITgBQAAAAAAAJgQvAAAAAAAAAATghcAAAAA\n",
       "AABgQvACAAAAAAAATAheAAAAAAAAgAnBCwAAAAAAADAheAEAAAAAAAAmBC8AAAAAAADAhOAFAAAA\n",
       "AAAAmBC8AAAAAAAAABOCFwAAAAAAAGBC8AIAAAAAAABMCF4AAAAAAACACcELAAAAAAAAMCF4AQAA\n",
       "AAAAACYELwAAAAAAAMCE4AUAAAAAAACYELwAAAAAAAAAE4IXAAAAAAAAYELwAgAAAAAAAEwIXgAA\n",
       "AAAAAIAJwQsAAAAAAAAwIXgBAAAAAAAAJgQvAAAAAAAAwITgBQAAAAAAAJgQvAAAAAAAAAATghcA\n",
       "AAAAAABgQvACAAAAAAAATAheAAAAAAAAgAnBCwAAAAAAADAheAEAAAAAAAAmBC8AAAAAAADAhOAF\n",
       "AAAAAAAAmBC8AAAAAAAAABOCFwAAAAAAAGBC8AIAAAAAAABMCF4AAAAAAACACcELAAAAAAAAMCF4\n",
       "AQAAAAAAACYELwAAAAAAAMCE4AUAAAAAAACYELwAAAAAAAAAE4IXAAAAAAAAYELwAgAAAAAAAEwI\n",
       "XgAAAAAAAIAJwQsAAAAAAAAwIXgBAAAAAAAAJgQvAAAAAAAAwITgBQAAAAAAAJgQvAAAAAAAAAAT\n",
       "ghcAAAAAAABgQvACAAAAAAAATAheAAAAAAAAgAnBCwAAAAAAADAheAEAAAAAAAAmBC8AAAAAAADA\n",
       "hOAFAAAAAAAAmBC8AAAAAAAAABOCFwAAAAAAAGBC8AIAAAAAAABMCF4AAAAAAACACcELAAAAAAAA\n",
       "MCF4AQAAAAAAACYELwAAAAAAAMCE4AUAAAAAAACYELwAAAAAAAAAE4IXAAAAAAAAYELwAgAAAAAA\n",
       "AEwIXgAAAAAAAIAJwQsAAAAAAAAwIXgBAAAAAAAAJgQvAAAAAAAAwITgBQAAAAAAAJgQvAAAAAAA\n",
       "AAATghcAAAAAAABgQvACAAAAAAAATAheAAAAAAAAgAnBCwAAAAAAADAheAEAAAAAAAAmBC8AAAAA\n",
       "AADAhOAFAAAAAAAAmBC8AAAAAAAAABOCFwAAAAAAAGBC8AIAAAAAAABMCF4AAAAAAACACcELAAAA\n",
       "AAAAMCF4AQAAAAAAACYELwAAAAAAAMCE4AUAAAAAAACYELwAAAAAAAAAE4IXAAAAAAAAYELwAgAA\n",
       "AAAAAEwIXgAAAAAAAIAJwQsAAAAAAAAwIXgBAAAAAAAAJgQvAAAAAAAAwITgBQAAAAAAAJgQvAAA\n",
       "AAAAAAATghcAAAAAAABgQvACAAAAAAAATAheAAAAAAAAgAnBCwAAAAAAADAheAEAAAAAAAAmBC8A\n",
       "AAAAAADAhOAFAAAAAAAAmBC8AAAAAAAAABOCFwAAAAAAAGBC8AIAAAAAAABMCF4AAAAAAACACcEL\n",
       "AAAAAAAAMCF4AQAAAAAAACYELwAAAAAAAMCE4AUAAAAAAACYELwAAAAAAAAAE4IXAAAAAAAAYELw\n",
       "AgAAAAAAAEwIXgAAAAAAAIAJwQsAAAAAAAAwIXgBAAAAAAAAJgQvAAAAAAAAwITgBQAAAAAAAJgQ\n",
       "vAAAAAAAAAATghcAAAAAAABgQvACAAAAAAAATAheAAAAAAAAgAnBCwAAAAAAADAheAEAAAAAAAAm\n",
       "BC8AAAAAAADAhOAFAAAAAAAAmBC8AAAAAAAAABOCFwAAAAAAAGBC8AIAAAAAAABMCF4AAAAAAACA\n",
       "CcELAAAAAAAAMCF4AQAAAAAAACYELwAAAO+u1HEAABcOSURBVAAAAMCE4AUAAAAAAACYELwAAAAA\n",
       "AAAAE4IXAAAAAAAAYELwAgAAAAAAAEwIXgAAAAAAAIAJwQsAAAAAAAAwIXgBAAAAAAAAJgQvAAAA\n",
       "AAAAwITgBQAAAAAAAJgQvAAAAAAAAAATghcAAAAAAABgQvACAAAAAAAATAheAAAAAAAAgAnBCwAA\n",
       "AAAAADAheAEAAAAAAAAmBC8AAAAAAADAhOAFAAAAAAAAmBC8AAAAAAAAABOCFwAAAAAAAGBC8AIA\n",
       "AAAAAABMCF4AAAAAAACACcELAAAAAAAAMCF4AQAAAAAAACYELwAAAAAAAMCE4AUAAAAAAACYELwA\n",
       "AAAAAAAAE4IXAAAAAAAAYELwAgAAAAAAAEwIXgAAAAAAAIAJwQsAAAAAAAAwIXgBAAAAAAAAJgQv\n",
       "AAAAAAAAwITgBQAAAAAAAJgQvAAAAAAAAAATghcAAAAAAABgQvACAAAAAAAATAheAAAAAAAAgAnB\n",
       "CwAAAAAAADAheAEAAAAAAAAmBC8AAAAAAADAhOAFAAAAAAAAmBC8AAAAAAAAABOCFwAAAAAAAGBC\n",
       "8AIAAAAAAABMCF4AAAAAAACACcELAAAAAAAAMCF4AQAAAAAAACYELwAAAAAAAMCE4AUAAAAAAACY\n",
       "ELwAAAAAAAAAE4IXAAAAAAAAYELwAgAAAAAAAEwIXgAAAAAAAIAJwQsAAAAAAAAwIXgBAAAAAAAA\n",
       "JgQvAAAAAAAAwITgBQAAAAAAAJgQvAAAAAAAAAATghcAAAAAAABgQvACAAAAAAAATAheAAAAAAAA\n",
       "gAnBCwAAAAAAADAheAEAAAAAAAAmBC8AAAAAAADAhOAFAAAAAAAAmBC8AAAAAAAAABOCFwAAAAAA\n",
       "AGBC8AIAAAAAAABMCF4AAAAAAACACcELAAAAAAAAMCF4AQAAAAAAACYELwAAAAAAAMCE4AUAAAAA\n",
       "AACYELwAAAAAAAAAE4IXAAAAAAAAYELwAgAAAAAAAEwIXgAAAAAAAIAJwQsAAAAAAAAwIXgBAAAA\n",
       "AAAAJgQvAAAAAAAAwITgBQAAAAAAAJgQvAAAAAAAAAATghcAAAAAAABgQvACAAAAAAAATAheAAAA\n",
       "AAAAgAnBCwAAAAAAADAheAEAAAAAAAAmBC8AAAAAAADAhOAFAAAAAAAAmBC8AAAAAAAAABOCFwAA\n",
       "AAAAAGBC8AIAAAAAAABMCF4AAAAAAACACcELAAAAAAAAMCF4AQAAAAAAACYELwAAAAAAAMCE4AUA\n",
       "AAAAAACYELwAAAAAAAAAE4IXAAAAAAAAYELwAgAAAAAAAEwIXgAAAAAAAIAJwQsAAAAAAAAwIXgB\n",
       "AAAAAAAAJgQvAAAAAAAAwITgBQAAAAAAAJgQvAAAAAAAAAATghcAAAAAAABgQvACAAAAAAAATAhe\n",
       "AAAAAAAAgAnBCwAAAAAAADAheAEAAAAAAAAmBC8AAAAAAADAhOAFAAAAAAAAmBC8AAAAAAAAABOC\n",
       "FwAAAAAAAGBC8AIAAAAAAABMCF4AAAAAAACACcELAAAAAAAAMCF4AQAAAAAAACYELwAAAAAAAMCE\n",
       "4AUAAAAAAACYELwAAAAAAAAAE4IXAAAAAAAAYELwAgAAAAAAAEwIXgAAAAAAAIAJwQsAAAAAAAAw\n",
       "IXgBAAAAAAAAJgQvAAAAAAAAwITgBQAAAAAAAJgQvAAAAAAAAAATghcAAAAAAABgQvACAAAAAAAA\n",
       "TAheAAAAAAAAgAnBCwAAAAAAADAheAEAAAAAAAAmBC8AAAAAAADAhOAFAAAAAAAAmBC8AAAAAAAA\n",
       "ABOCFwAAAAAAAGBC8AIAAAAAAABMCF4AAAAAAACACcELAAAAAAAAMCF4AQAAAAAAACYELwAAAAAA\n",
       "AMCE4AUAAAAAAACYELwAAAAAAAAAE4IXAAAAAAAAYELwAgAAAAAAAEwIXgAAAAAAAIAJwQsAAAAA\n",
       "AAAwIXgBAAAAAAAAJgQvAAAAAAAAwITgBQAAAAAAAJgQvAAAAAAAAAATghcAAAAAAABgQvACAAAA\n",
       "AAAATAheAAAAAAAAgAnBCwAAAAAAADAheAEAAAAAAAAmBC8AAAAAAADAhOAFAAAAAAAAmBC8AAAA\n",
       "AAAAABOCFwAAAAAAAGBC8AIAAAAAAABMCF4AAAAAAACACcELAAAAAAAAMCF4AQAAAAAAACYELwAA\n",
       "AAAAAMCE4AUAAAAAAACYELwAAAAAAAAAE4IXAAAAAAAAYELwAgAAAAAAAEwIXgAAAAAAAIAJwQsA\n",
       "AAAAAAAwIXgBAAAAAAAAJgQvAAAAAAAAwITgBQAAAAAAAJgQvAAAAAAAAAATghcAAAAAAABgQvAC\n",
       "AAAAAAAATAheAAAAAAAAgAnBCwAAAAAAADAheAEAAAAAAAAmBC8AAAAAAADAhOAFAAAAAAAAmBC8\n",
       "AAAAAAAAABOCFwAAAAAAAGBC8AIAAAAAAABMCF4AAAAAAACACcELAAAAAAAAMCF4AQAAAAAAACYE\n",
       "LwAAAAAAAMCE4AUAAAAAAACYELwAAAAAAAAAE4IXAAAAAAAAYELwAgAAAAAAAEwIXgAAAAAAAIAJ\n",
       "wQsAAAAAAAAwIXgBAAAAAAAAJgQvAAAAAAAAwITgBQAAAAAAAJgQvAAAAAAAAAATghcAAAAAAABg\n",
       "QvACAAAAAAAATAheAAAAAAAAgAnBCwAAAAAAADAheAEAAAAAAAAmBC8AAAAAAADAhOAFAAAAAAAA\n",
       "mBC8AAAAAAAAABOCFwAAAAAAAGBC8AIAAAAAAABMCF4AAAAAAACACcELAAAAAAAAMCF4AQAAAAAA\n",
       "ACYELwAAAAAAAMCE4AUAAAAAAACYELwAAAAAAAAAE4IXAAAAAAAAYELwAgAAAAAAAEwIXgAAAAAA\n",
       "AIAJwQsAAAAAAAAwIXgBAAAAAAAAJgQvAAAAAAAAwITgBQAAAAAAAJgQvAAAAAAAAAATghcAAAAA\n",
       "AABgQvACAAAAAAAATAheAAAAAAAAgAnBCwAAAAAAADAheAEAAAAAAAAmBC8AAAAAAADAhOAFAAAA\n",
       "AAAAmBC8AAAAAAAAABOCFwAAAAAAAGBC8AIAAAAAAABMCF4AAAAAAACACcELAAAAAAAAMCF4AQAA\n",
       "AAAAACYELwAAAAAAAMCE4AUAAAAAAACYELwAAAAAAAAAE4IXAAAAAAAAYELwAgAAAAAAAEwIXgAA\n",
       "AAAAAIAJwQsAAAAAAAAwIXgBAAAAAAAAJgQvAAAAAAAAwITgBQAAAAAAAJgQvAAAAAAAAAATghcA\n",
       "AAAAAABgQvACAAAAAAAAtW/HKA1FURRF85OLhUIqsRDBRhyZU3DU6RyA2tkJr3tsWGsEp98cIgRe\n",
       "AAAAAAAAgAiBFwAAAAAAACBC4AUAAAAAAACIEHgBAAAAAAAAIgReAAAAAAAAgAiBFwAAAAAAACBC\n",
       "4AUAAAAAAACIEHgBAAAAAAAAIgReAAAAAAAAgAiBFwAAAAAAACBC4AUAAAAAAACIEHgBAAAAAAAA\n",
       "IgReAAAAAAAAgAiBFwAAAAAAACBC4AUAAAAAAACIEHgBAAAAAAAAIgReAAAAAAAAgAiBFwAAAAAA\n",
       "ACBC4AUAAAAAAACIEHgBAAAAAAAAIgReAAAAAAAAgAiBFwAAAAAAACBC4AUAAAAAAACIEHgBAAAA\n",
       "AAAAIgReAAAAAAAAgAiBFwAAAAAAACBC4AUAAAAAAACIEHgBAAAAAAAAIgReAAAAAAAAgAiBFwAA\n",
       "AAAAACBC4AUAAAAAAACIEHgBAAAAAAAAIgReAAAAAAAAgAiBFwAAAAAAACBC4AUAAAAAAACIEHgB\n",
       "AAAAAAAAIgReAAAAAAAAgAiBFwAAAAAAACBC4AUAAAAAAACIEHgBAAAAAAAAIgReAAAAAAAAgAiB\n",
       "FwAAAAAAACBC4AUAAAAAAACIEHgBAAAAAAAAIgReAAAAAAAAgAiBFwAAAAAAACBC4AUAAAAAAACI\n",
       "EHgBAAAAAAAAIgReAAAAAAAAgAiBFwAAAAAAACBC4AUAAAAAAACIEHgBAAAAAAAAIgReAAAAAAAA\n",
       "gAiBFwAAAAAAACBC4AUAAAAAAACIEHgBAAAAAAAAIgReAAAAAAAAgAiBFwAAAAAAACBC4AUAAAAA\n",
       "AACIEHgBAAAAAAAAIgReAAAAAAAAgAiBFwAAAAAAACBC4AUAAAAAAACIEHgBAAAAAAAAIgReAAAA\n",
       "AAAAgAiBFwAAAAAAACBC4AUAAAAAAACIEHgBAAAAAAAAIgReAAAAAAAAgAiBFwAAAAAAACBC4AUA\n",
       "AAAAAACIEHgBAAAAAAAAIgReAAAAAAAAgAiBFwAAAAAAACBC4AUAAAAAAACIEHgBAAAAAAAAIgRe\n",
       "AAAAAAAAgAiBFwAAAAAAACBC4AUAAAAAAACIEHgBAAAAAAAAIgReAAAAAAAAgAiBFwAAAAAAACBC\n",
       "4AUAAAAAAACIEHgBAAAAAAAAIgReAAAAAAAAgAiBFwAAAAAAACBC4AUAAAAAAACIEHgBAAAAAAAA\n",
       "IgReAAAAAAAAgAiBFwAAAAAAACBC4AUAAAAAAACIEHgBAAAAAAAAIgReAAAAAAAAgAiBFwAAAAAA\n",
       "ACBC4AUAAAAAAACIEHgBAAAAAAAAIgReAAAAAAAAgAiBFwAAAAAAACBC4AUAAAAAAACIEHgBAAAA\n",
       "AAAAIgReAAAAAAAAgAiBFwAAAAAAACBC4AUAAAAAAACIEHgBAAAAAAAAIgReAAAAAAAAgAiBFwAA\n",
       "AAAAACBC4AUAAAAAAACIEHgBAAAAAAAAIgReAAAAAAAAgAiBFwAAAAAAACBC4AUAAAAAAACIEHgB\n",
       "AAAAAAAAIgReAAAAAAAAgAiBFwAAAAAAACBC4AUAAAAAAACIEHgBAAAAAAAAIgReAAAAAAAAgAiB\n",
       "FwAAAAAAACBC4AUAAAAAAACIEHgBAAAAAAAAIgReAAAAAAAAgAiBFwAAAAAAACBC4AUAAAAAAACI\n",
       "EHgBAAAAAAAAIgReAAAAAAAAgAiBFwAAAAAAACBC4AUAAAAAAACIEHgBAAAAAAAAIgReAAAAAAAA\n",
       "gAiBFwAAAAAAACBC4AUAAAAAAACIEHgBAAAAAAAAIgReAAAAAAAAgAiBFwAAAAAAACBC4AUAAAAA\n",
       "AACIEHgBAAAAAAAAIgReAAAAAAAAgAiBFwAAAAAAACBC4AUAAAAAAACIEHgBAAAAAAAAIgReAAAA\n",
       "AAAAgAiBFwAAAAAAACBC4AUAAAAAAACIEHgBAAAAAAAAIgReAAAAAAAAgAiBFwAAAAAAACBC4AUA\n",
       "AAAAAACIEHgBAAAAAAAAIgReAAAAAAAAgAiBFwAAAAAAACBC4AUAAAAAAACIEHgBAAAAAAAAIgRe\n",
       "AAAAAAAAgAiBFwAAAAAAACBC4AUAAAAAAACIEHgBAAAAAAAAIgReAAAAAAAAgAiBFwAAAAAAACBC\n",
       "4AUAAAAAAACIEHgBAAAAAAAAIgReAAAAAAAAgAiBFwAAAAAAACBC4AUAAAAAAACIEHgBAAAAAAAA\n",
       "IgReAAAAAAAAgAiBFwAAAAAAACBC4AUAAAAAAACIEHgBAAAAAAAAIgReAAAAAAAAgAiBFwAAAAAA\n",
       "ACBC4AUAAAAAAACIEHgBAAAAAAAAIgReAAAAAAAAgAiBFwAAAAAAACBC4AUAAAAAAACIEHgBAAAA\n",
       "AAAAIgReAAAAAAAAgAiBFwAAAAAAACBC4AUAAAAAAACIEHgBAAAAAAAAIgReAAAAAAAAgAiBFwAA\n",
       "AAAAACBC4AUAAAAAAACIEHgBAAAAAAAAIgReAAAAAAAAgAiBFwAAAAAAACBC4AUAAAAAAACIEHgB\n",
       "AAAAAAAAIgReAAAAAAAAgAiBFwAAAAAAACBC4AUAAAAAAACIEHgBAAAAAAAAIgReAAAAAAAAgAiB\n",
       "FwAAAAAAACBC4AUAAAAAAACIEHgBAAAAAAAAIgReAAAAAAAAgAiBFwAAAAAAACBC4AUAAAAAAACI\n",
       "EHgBAAAAAAAAIgReAAAAAAAAgAiBFwAAAAAAACBC4AUAAAAAAACIEHgBAAAAAAAAIgReAAAAAAAA\n",
       "gAiBFwAAAAAAACBC4AUAAAAAAACIEHgBAAAAAAAAIgReAAAAAAAAgAiBFwAAAAAAACBC4AUAAAAA\n",
       "AACIEHgBAAAAAAAAIgReAAAAAAAAgAiBFwAAAAAAACBC4AUAAAAAAACIEHgBAAAAAAAAIgReAAAA\n",
       "AAAAgAiBFwAAAAAAACBC4AUAAAAAAACIEHgBAAAAAAAAIgReAAAAAAAAgAiBFwAAAAAAACBC4AUA\n",
       "AAAAAACIEHgBAAAAAAAAIgReAAAAAAAAgAiBFwAAAAAAACBC4AUAAAAAAACIEHgBAAAAAAAAIgRe\n",
       "AAAAAAAAgAiBFwAAAAAAACBC4AUAAAAAAACIEHgBAAAAAAAAIgReAAAAAAAAgAiBFwAAAAAAACBC\n",
       "4AUAAAAAAACIEHgBAAAAAAAAIgReAAAAAAAAgAiBFwAAAAAAACBC4AUAAAAAAACIEHgBAAAAAAAA\n",
       "IgReAAAAAAAAgAiBFwAAAAAAACBC4AUAAAAAAACIEHgBAAAAAAAAIgReAAAAAAAAgAiBFwAAAAAA\n",
       "ACBC4AUAAAAAAACIEHgBAAAAAAAAIgReAAAAAAAAgAiBFwAAAAAAACBC4AUAAAAAAACIEHgBAAAA\n",
       "AAAAIgReAAAAAAAAgAiBFwAAAAAAACBC4AUAAAAAAACIEHgBAAAAAAAAIgReAAAAAAAAgAiBFwAA\n",
       "AAAAACBC4AUAAAAAAACIEHgBAAAAAAAAIgReAAAAAAAAgAiBFwAAAAAAACBC4AUAAAAAAACIEHgB\n",
       "AAAAAAAAIgReAAAAAAAAgAiBFwAAAAAAACBC4AUAAAAAAACIEHgBAAAAAAAAIgReAAAAAAAAgAiB\n",
       "FwAAAAAAACBC4AUAAAAAAACIEHgBAAAAAAAAIgReAAAAAAAAgAiBFwAAAAAAACBC4AUAAAAAAACI\n",
       "EHgBAAAAAAAAIgReAAAAAAAAgAiBFwAAAAAAACBC4AUAAAAAAACIEHgBAAAAAAAAIgReAAAAAAAA\n",
       "gAiBFwAAAAAAACBC4AUAAAAAAACIEHgBAAAAAAAAIgReAAAAAAAAgAiBFwAAAAAAACBC4AUAAAAA\n",
       "AACIEHgBAAAAAAAAIgReAAAAAAAAgAiBFwAAAAAAACBC4AUAAAAAAACIEHgBAAAAAAAAIgReAAAA\n",
       "AAAAgAiBFwAAAAAAACBC4AUAAAAAAACIEHgBAAAAAAAAIgReAAAAAAAAgAiBFwAAAAAAACBC4AUA\n",
       "AAAAAACIEHgBAAAAAAAAIgReAAAAAAAAgAiBFwAAAAAAACBC4AUAAAAAAACIEHgBAAAAAAAAIgRe\n",
       "AAAAAAAAgAiBFwAAAAAAACBC4AUAAAAAAACIEHgBAAAAAAAAIgReAAAAAAAAgAiBFwAAAAAAACBC\n",
       "4AUAAAAAAACIEHgBAAAAAAAAIgReAAAAAAAAgAiBFwAAAAAAACBC4AUAAAAAAACIEHgBAAAAAAAA\n",
       "IgReAAAAAAAAgAiBFwAAAAAAACBC4AUAAAAAAACIEHgBAAAAAAAAIgReAAAAAAAAgAiBFwAAAAAA\n",
       "ACBC4AUAAAAAAACIEHgBAAAAAAAAIgReAAAAAAAAgAiBFwAAAAAAACBC4AUAAAAAAACIEHgBAAAA\n",
       "AAAAIgReAAAAAAAAgAiBFwAAAAAAACBC4AUAAAAAAACIEHgBAAAAAAAAIgReAAAAAAAAgAiBFwAA\n",
       "AAAAACBC4AUAAAAAAACImON07N4AAAAAAAAAwAIPXgAAAAAAAICIOR0aLwAAAAAAAEDBOPECAAAA\n",
       "AAAANMxxXHZvAAAAAAAAAGDBXM4PuzcAAAAAAAAAsGDmfL97AwAAAAAAAAAL5vHubfcGAAAAAAAA\n",
       "ABbM0/fz7g0AAAAAAAAALJjXue7eAAAAAAAAAMCC+Xi/7d4AAAAAAAAAwILj6/PlZ/cIAAAAAAAA\n",
       "+KNewb9+ARqcExOfRh2+AAAAAElFTkSuQmCC\n",
       "\" transform=\"translate(201, 47)\"/>\n",
       "</g>\n",
       "<defs>\n",
       "  <clipPath id=\"clip843\">\n",
       "    <rect x=\"2160\" y=\"47\" width=\"73\" height=\"1440\"/>\n",
       "  </clipPath>\n",
       "</defs>\n",
       "<g clip-path=\"url(#clip843)\">\n",
       "<image width=\"72\" height=\"1439\" xlink:href=\"data:image/png;base64,\n",
       "iVBORw0KGgoAAAANSUhEUgAAAEgAAAWfCAYAAAAI7rB3AAAMWUlEQVR4nO3dwY0rRxAFwaZQ/lsh\n",
       "L6XfLQtUeSQPERYsEg8c9MyQ+/n3/v0O/+uvb/8Bv06gIFAQKAgU5r5/v/03/DQLCgIFgYJAQaAw\n",
       "7/359t/w0ywoCBQECgIFR41gQUGgIFAQKAgU5rmKrSwoCBQECgIFgcK86yq2saAgUBAoCBQcNYIF\n",
       "BYGCQEGgIFBwFQsWFAQKAgWBgvtBwYKCQEGgIFAQKMxx1FhZUBAoCBQECgIFN8yCBQWBgkBBoDDH\n",
       "DbOVBQWBgkBBoCBQmHP/+fbf8NMsKAgUBAoCBYGCxz7BgoJAQaAgUHDDLFhQECgIFAQKAgVXsWBB\n",
       "QaAgUBAouB8ULCgIFAQKAgWBwnwcNVYWFAQKAgWBgkBhzvWfWTYWFAQKAgWBgqNGsKAgUBAoCBQE\n",
       "Co4awYKCQEGgIFAQKHjDLFhQECgIFAQK83HUWFlQECgIFAQKAgXvSQcLCgIFgYJAwVEjWFAQKAgU\n",
       "BAoCBc/mgwUFgYJAQaAgUHAWCxYUBAoCBYGCo0awoCBQECgIFAQKjhrBgoJAQaAgUBAozLn323/D\n",
       "T7OgIFAQKAgUHDWCBQWBgkBBoCBQ8NgnWFAQKAgUBAo+pIMFBYGCQEGgIFCYj6caKwsKAgWBgkBB\n",
       "oOAsFiwoCBQECgIFL1AFCwoCBYGCQEGg4IZZsKAgUBAoCBTcDwoWFAQKAgWBgkDBDbNgQUGgIFAQ\n",
       "KAgUXMWCBQWBgkBBoOB788GCgkBBoCBQECg4agQLCgIFgYJAQaDgKhYsKAgUBAoCBR/SwYKCQEGg\n",
       "IFAQKLiKBQsKAgWBgkBhzvMhvbGgIFAQKAgUBAqOGsGCgkBBoCBQECi4igULCgIFgYJAwYd0sKAg\n",
       "UBAoCBQECnPu+/bf8NMsKAgUBAoCBYGCs1iwoCBQECgIFBw1ggUFgYJAQaAgUHDUCBYUBAoCBYGC\n",
       "o0awoCBQECgIFAQKc5w0VhYUBAoCBYGCQGHOcxbbWFAQKAgUBAqOGsGCgkBBoCBQECi4igULCgIF\n",
       "gYJAQaAwfohzZ0FBoCBQECg4agQLCgIFgYJAQaDgKhYsKAgUBAoChTn38+2/4adZUBAoCBQECgKF\n",
       "ec9VbGNBQaAgUBAoCBTcMAsWFAQKAgWBghtmwYKCQEGgIFAQKMy7Gm3UCQIFgYJAwVEjWFAQKAgU\n",
       "BAoChTmeza8sKAgUBAoCBYHCPGexlQUFgYJAQaAwx1ONlTpBoCBQECgIFBw1ggUFgYJAQaAgUPDY\n",
       "J1hQECgIFAQKXgMO6gSBgkBBoCBQ8J50sKAgUBAoCBQ81QgWFAQKAgWBgkBh3tNoo04QKAgUBAoC\n",
       "BTfMggUFgYJAQaDghlmwoCBQECgIFAQKc9wwW6kTBAoCBYGCQMFZLFhQECgIFAQKPqSDBQWBgkBB\n",
       "oCBQ8L35YEFBoCBQECj43nxQJwgUBAoCBYHCPEeNlQUFgYJAQaAgUPDYJ1hQECgIFAQK/jNLUCcI\n",
       "FAQKAgWBghtmwYKCQEGgIFAQKLhhFiwoCBQECgIFR41gQUGgIFAQKAgUvCcd1AkCBYGCQMFRI1hQ\n",
       "ECgIFAQKAgVPNYIFBYGCQEGgIFBwFgsWFAQKAgWBgn+fFSwoCBQECgIFgYJ/ZRzUCQIFgYJAQaDg\n",
       "hlmwoCBQECgIFDybDxYUBAoCBYGCQMFRI1hQECgIFAQKc31IrywoCBQECgIFgYLvzQd1gkBBoCBQ\n",
       "ECi4YRYsKAgUBAoCBR/SwYKCQEGgIFAQKHjDLFhQECgIFAQKjhrBgoJAQaAgUBAouIoFCwoCBYGC\n",
       "QEGg4NdfgjpBoCBQECjM9VRjZUFBoCBQECgIFNwwCxYUBAoCBYGCQMFVLFhQECgIFAQKPqSDBQWB\n",
       "gkBBoCBQ8BtmwYKCQEGgIFBw1AgWFAQKAgWBgkDBVSxYUBAoCBQECgIFX2YJ6gSBgkBBoODLLMGC\n",
       "gkBBoCBQECi4YRYsKAgUBAoCBYGCq1iwoCBQECgIFLwGHCwoCBQECgIFgYKjRrCgIFAQKAgU5h0f\n",
       "0hsLCgIFgYJAQaDghlmwoCBQECgIFAQKbpgFCwoCBYGCQMFRI1hQECgIFAQKAgVHjWBBQaAgUBAo\n",
       "CBScxYIFBYGCQEGg4KgRLCgIFAQKAgWBgqtYsKAgUBAoCBTm+jLLyoKCQEGgIFAQKDhqBAsKAgWB\n",
       "gkBBoODZfLCgIFAQKAgU5r1v/wm/zYKCQEGgIFAQKDhqBAsKAgWBgkDBD00GCwoCBYGCQEGg4KgR\n",
       "LCgIFAQKAgWBgjfMggUFgYJAQaDgyyzBgoJAQaAgUBAoeMMsWFAQKAgUBAoCBY99ggUFgYJAQaDg\n",
       "qUawoCBQECgIFAQKHvsECwoCBYGCQMH9oGBBQaAgUBAoCBQ8mw8WFAQKAgWBgkDBDbNgQUGgIFAQ\n",
       "KHg2HywoCBQECgIFgcLcb/8FP86CgkBBoCBQECg4iwULCgIFgYJAwRtmwYKCQEGgIFAQKLhhFiwo\n",
       "CBQECgIF94OCBQWBgkBBoCBQcNQIFhQECgIFgYJAwVksWFAQKAgUBAqezQcLCgIFgYJAQaAwfvxl\n",
       "Z0FBoCBQECgIFJzFggUFgYJAQaDg2XywoCBQECgIFAQKns0HCwoCBYGCQMFRI1hQECgIFAQKAgVH\n",
       "jWBBQaAgUBAoCBTmesVsZUFBoCBQECi4YRYsKAgUBAoCBYGCG2bBgoJAQaAgUHDUCBYUBAoCBYGC\n",
       "QGGepxorCwoCBYGCQEGgMPe4YbaxoCBQECgIFLxAFSwoCBQECgIFgYIfmgwWFAQKAgWBgkDBD00G\n",
       "CwoCBYGCQMGz+WBBQaAgUBAoCBS8Jx0sKAgUBAoCBd84DBYUBAoCBYGCQMFRI1hQECgIFAQKAgXv\n",
       "SQcLCgIFgYJAwWvAwYKCQEGgIFAQKDhqBAsKAgWBgkBBoOA96WBBQaAgUBAo+ImuYEFBoCBQECgI\n",
       "FNwwCxYUBAoCBYGCZ/PBgoJAQaAgUBAoOGoECwoCBYGCQEGg4CwWLCgIFAQKAgVHjWBBQaAgUBAo\n",
       "CBRcxYIFBYGCQEGgIFBwwyxYUBAoCBQECo4awYKCQEGgIFAQKDhqBAsKAgWBgkDBUSNYUBAoCBQE\n",
       "CgIFP9EVLCgIFAQKAgWBgv8vFiwoCBQECgIFN8yCBQWBgkBBoCBQmHdcxjYWFAQKAgWBgkDBWSxY\n",
       "UBAoCBQECp7NBwsKAgWBgkBBoODZfLCgIFAQKAgU3A8KFhQECgIFgYJAwbP5YEFBoCBQECgIFJzF\n",
       "ggUFgYJAQaDgJ7qCBQWBgkBBoCBQmOsVs5UFBYGCQEGg4AWqYEFBoCBQECgIFOY5aqwsKAgUBAoC\n",
       "BYGCs1iwoCBQECgIFDzVCBYUBAoCBYGCQMEbZsGCgkBBoCBQECjM9ZXMlQUFgYJAQaDghlmwoCBQ\n",
       "ECgIFAQKfv0lWFAQKAgUBApeoAoWFAQKAgWBgkDBU41gQUGgIFAQKAgU3DALFhQECgIFgcLc45bZ\n",
       "xoKCQEGgIFAQKLhhFiwoCBQECgIFgYKrWLCgIFAQKAgUPNUIFhQECgIFgYJAwWOfYEFBoCBQECjM\n",
       "/ThqbCwoCBQECgIFgYKjRrCgIFAQKAgUBArzXMVWFhQECgIFgYKjRrCgIFAQKAgUBApzP65iGwsK\n",
       "AgWBgkBBoOAsFiwoCBQECgIFTzWCBQWBgkBBoCBQcNQIFhQECgIFgYIP6WBBQaAgUBAoCBQ8mw8W\n",
       "FAQKAgWBgkBh3vnz7b/hp1lQECgIFAQKbpgFCwoCBYGCQEGg4A2zYEFBoCBQECjMfe4HbSwoCBQE\n",
       "CgIFgYKjRrCgIFAQKAgUBApzPZtfWVAQKAgUBAqOGsGCgkBBoCBQECg4agQLCgIFgYJAQaAw7zmL\n",
       "bSwoCBQECgIFN8yCBQWBgkBBoCBQ8J50sKAgUBAoCBQcNYIFBYGCQEGgIFCY56ixsqAgUBAoCBQE\n",
       "Cs5iwYKCQEGgIFCY6wWqlQUFgYJAQaAgUPCb9sGCgkBBoCBQECj4MkuwoCBQECgIFDzVCBYUBAoC\n",
       "BYGCQMFRI1hQECgIFAQKPqSDBQWBgkBBoCBQ8Gw+WFAQKAgUBAoCBWexYEFBoCBQECjM8Wx+ZUFB\n",
       "oCBQECgIFBw1ggUFgYJAQaAgUPCedLCgIFAQKAgU5jhqrCwoCBQECgIFgYI3zIIFBYGCQEGg4Nl8\n",
       "sKAgUBAoCBQECm6YBQsKAgWBgkBBoDDvvG//DT/NgoJAQaAgUHDDLFhQECgIFAQKAoU5jhorCwoC\n",
       "BYGCQOE/LrLuTX/wFc8AAAAASUVORK5CYII=\n",
       "\" transform=\"translate(2161, 47)\"/>\n",
       "</g>\n",
       "<path clip-path=\"url(#clip840)\" d=\"M2268.76 1371.91 L2298.43 1371.91 L2298.43 1375.84 L2268.76 1375.84 L2268.76 1371.91 Z\" fill=\"#000000\" fill-rule=\"nonzero\" fill-opacity=\"1\" /><path clip-path=\"url(#clip840)\" d=\"M2307.34 1354.17 L2329.57 1354.17 L2329.57 1356.16 L2317.02 1388.73 L2312.14 1388.73 L2323.94 1358.11 L2307.34 1358.11 L2307.34 1354.17 Z\" fill=\"#000000\" fill-rule=\"nonzero\" fill-opacity=\"1\" /><path clip-path=\"url(#clip840)\" d=\"M2348.69 1357.25 Q2345.07 1357.25 2343.25 1360.82 Q2341.44 1364.36 2341.44 1371.49 Q2341.44 1378.6 2343.25 1382.16 Q2345.07 1385.7 2348.69 1385.7 Q2352.32 1385.7 2354.13 1382.16 Q2355.95 1378.6 2355.95 1371.49 Q2355.95 1364.36 2354.13 1360.82 Q2352.32 1357.25 2348.69 1357.25 M2348.69 1353.55 Q2354.5 1353.55 2357.55 1358.16 Q2360.63 1362.74 2360.63 1371.49 Q2360.63 1380.22 2357.55 1384.82 Q2354.5 1389.41 2348.69 1389.41 Q2342.88 1389.41 2339.8 1384.82 Q2336.74 1380.22 2336.74 1371.49 Q2336.74 1362.74 2339.8 1358.16 Q2342.88 1353.55 2348.69 1353.55 Z\" fill=\"#000000\" fill-rule=\"nonzero\" fill-opacity=\"1\" /><path clip-path=\"url(#clip840)\" d=\"M2378.85 1357.25 Q2375.24 1357.25 2373.41 1360.82 Q2371.6 1364.36 2371.6 1371.49 Q2371.6 1378.6 2373.41 1382.16 Q2375.24 1385.7 2378.85 1385.7 Q2382.48 1385.7 2384.29 1382.16 Q2386.12 1378.6 2386.12 1371.49 Q2386.12 1364.36 2384.29 1360.82 Q2382.48 1357.25 2378.85 1357.25 M2378.85 1353.55 Q2384.66 1353.55 2387.71 1358.16 Q2390.79 1362.74 2390.79 1371.49 Q2390.79 1380.22 2387.71 1384.82 Q2384.66 1389.41 2378.85 1389.41 Q2373.04 1389.41 2369.96 1384.82 Q2366.9 1380.22 2366.9 1371.49 Q2366.9 1362.74 2369.96 1358.16 Q2373.04 1353.55 2378.85 1353.55 Z\" fill=\"#000000\" fill-rule=\"nonzero\" fill-opacity=\"1\" /><polyline clip-path=\"url(#clip840)\" style=\"stroke:#000000; stroke-linecap:round; stroke-linejoin:round; stroke-width:4; stroke-opacity:1; fill:none\" points=\"2232.76,1375.08 2256.76,1375.08 \"/>\n",
       "<path clip-path=\"url(#clip840)\" d=\"M2268.76 1183.83 L2298.43 1183.83 L2298.43 1187.76 L2268.76 1187.76 L2268.76 1183.83 Z\" fill=\"#000000\" fill-rule=\"nonzero\" fill-opacity=\"1\" /><path clip-path=\"url(#clip840)\" d=\"M2319.1 1181.51 Q2315.95 1181.51 2314.1 1183.66 Q2312.27 1185.82 2312.27 1189.57 Q2312.27 1193.29 2314.1 1195.47 Q2315.95 1197.62 2319.1 1197.62 Q2322.25 1197.62 2324.08 1195.47 Q2325.93 1193.29 2325.93 1189.57 Q2325.93 1185.82 2324.08 1183.66 Q2322.25 1181.51 2319.1 1181.51 M2328.39 1166.86 L2328.39 1171.12 Q2326.63 1170.28 2324.82 1169.84 Q2323.04 1169.4 2321.28 1169.4 Q2316.65 1169.4 2314.2 1172.53 Q2311.76 1175.65 2311.42 1181.97 Q2312.78 1179.96 2314.84 1178.9 Q2316.9 1177.81 2319.38 1177.81 Q2324.59 1177.81 2327.6 1180.98 Q2330.63 1184.13 2330.63 1189.57 Q2330.63 1194.89 2327.48 1198.11 Q2324.33 1201.33 2319.1 1201.33 Q2313.11 1201.33 2309.94 1196.74 Q2306.76 1192.14 2306.76 1183.41 Q2306.76 1175.22 2310.65 1170.35 Q2314.54 1165.47 2321.09 1165.47 Q2322.85 1165.47 2324.64 1165.82 Q2326.44 1166.16 2328.39 1166.86 Z\" fill=\"#000000\" fill-rule=\"nonzero\" fill-opacity=\"1\" /><path clip-path=\"url(#clip840)\" d=\"M2348.69 1169.17 Q2345.07 1169.17 2343.25 1172.74 Q2341.44 1176.28 2341.44 1183.41 Q2341.44 1190.52 2343.25 1194.08 Q2345.07 1197.62 2348.69 1197.62 Q2352.32 1197.62 2354.13 1194.08 Q2355.95 1190.52 2355.95 1183.41 Q2355.95 1176.28 2354.13 1172.74 Q2352.32 1169.17 2348.69 1169.17 M2348.69 1165.47 Q2354.5 1165.47 2357.55 1170.08 Q2360.63 1174.66 2360.63 1183.41 Q2360.63 1192.14 2357.55 1196.74 Q2354.5 1201.33 2348.69 1201.33 Q2342.88 1201.33 2339.8 1196.74 Q2336.74 1192.14 2336.74 1183.41 Q2336.74 1174.66 2339.8 1170.08 Q2342.88 1165.47 2348.69 1165.47 Z\" fill=\"#000000\" fill-rule=\"nonzero\" fill-opacity=\"1\" /><path clip-path=\"url(#clip840)\" d=\"M2378.85 1169.17 Q2375.24 1169.17 2373.41 1172.74 Q2371.6 1176.28 2371.6 1183.41 Q2371.6 1190.52 2373.41 1194.08 Q2375.24 1197.62 2378.85 1197.62 Q2382.48 1197.62 2384.29 1194.08 Q2386.12 1190.52 2386.12 1183.41 Q2386.12 1176.28 2384.29 1172.74 Q2382.48 1169.17 2378.85 1169.17 M2378.85 1165.47 Q2384.66 1165.47 2387.71 1170.08 Q2390.79 1174.66 2390.79 1183.41 Q2390.79 1192.14 2387.71 1196.74 Q2384.66 1201.33 2378.85 1201.33 Q2373.04 1201.33 2369.96 1196.74 Q2366.9 1192.14 2366.9 1183.41 Q2366.9 1174.66 2369.96 1170.08 Q2373.04 1165.47 2378.85 1165.47 Z\" fill=\"#000000\" fill-rule=\"nonzero\" fill-opacity=\"1\" /><polyline clip-path=\"url(#clip840)\" style=\"stroke:#000000; stroke-linecap:round; stroke-linejoin:round; stroke-width:4; stroke-opacity:1; fill:none\" points=\"2232.76,1187 2256.76,1187 \"/>\n",
       "<path clip-path=\"url(#clip840)\" d=\"M2268.76 995.747 L2298.43 995.747 L2298.43 999.682 L2268.76 999.682 L2268.76 995.747 Z\" fill=\"#000000\" fill-rule=\"nonzero\" fill-opacity=\"1\" /><path clip-path=\"url(#clip840)\" d=\"M2308.57 978.016 L2326.93 978.016 L2326.93 981.951 L2312.85 981.951 L2312.85 990.423 Q2313.87 990.076 2314.89 989.914 Q2315.91 989.729 2316.93 989.729 Q2322.71 989.729 2326.09 992.9 Q2329.47 996.071 2329.47 1001.49 Q2329.47 1007.07 2326 1010.17 Q2322.53 1013.25 2316.21 1013.25 Q2314.03 1013.25 2311.76 1012.88 Q2309.52 1012.51 2307.11 1011.77 L2307.11 1007.07 Q2309.2 1008.2 2311.42 1008.76 Q2313.64 1009.31 2316.12 1009.31 Q2320.12 1009.31 2322.46 1007.21 Q2324.8 1005.1 2324.8 1001.49 Q2324.8 997.877 2322.46 995.77 Q2320.12 993.664 2316.12 993.664 Q2314.24 993.664 2312.37 994.08 Q2310.51 994.497 2308.57 995.377 L2308.57 978.016 Z\" fill=\"#000000\" fill-rule=\"nonzero\" fill-opacity=\"1\" /><path clip-path=\"url(#clip840)\" d=\"M2348.69 981.094 Q2345.07 981.094 2343.25 984.659 Q2341.44 988.201 2341.44 995.33 Q2341.44 1002.44 2343.25 1006 Q2345.07 1009.54 2348.69 1009.54 Q2352.32 1009.54 2354.13 1006 Q2355.95 1002.44 2355.95 995.33 Q2355.95 988.201 2354.13 984.659 Q2352.32 981.094 2348.69 981.094 M2348.69 977.391 Q2354.5 977.391 2357.55 981.997 Q2360.63 986.58 2360.63 995.33 Q2360.63 1004.06 2357.55 1008.66 Q2354.5 1013.25 2348.69 1013.25 Q2342.88 1013.25 2339.8 1008.66 Q2336.74 1004.06 2336.74 995.33 Q2336.74 986.58 2339.8 981.997 Q2342.88 977.391 2348.69 977.391 Z\" fill=\"#000000\" fill-rule=\"nonzero\" fill-opacity=\"1\" /><path clip-path=\"url(#clip840)\" d=\"M2378.85 981.094 Q2375.24 981.094 2373.41 984.659 Q2371.6 988.201 2371.6 995.33 Q2371.6 1002.44 2373.41 1006 Q2375.24 1009.54 2378.85 1009.54 Q2382.48 1009.54 2384.29 1006 Q2386.12 1002.44 2386.12 995.33 Q2386.12 988.201 2384.29 984.659 Q2382.48 981.094 2378.85 981.094 M2378.85 977.391 Q2384.66 977.391 2387.71 981.997 Q2390.79 986.58 2390.79 995.33 Q2390.79 1004.06 2387.71 1008.66 Q2384.66 1013.25 2378.85 1013.25 Q2373.04 1013.25 2369.96 1008.66 Q2366.9 1004.06 2366.9 995.33 Q2366.9 986.58 2369.96 981.997 Q2373.04 977.391 2378.85 977.391 Z\" fill=\"#000000\" fill-rule=\"nonzero\" fill-opacity=\"1\" /><polyline clip-path=\"url(#clip840)\" style=\"stroke:#000000; stroke-linecap:round; stroke-linejoin:round; stroke-width:4; stroke-opacity:1; fill:none\" points=\"2232.76,998.924 2256.76,998.924 \"/>\n",
       "<path clip-path=\"url(#clip840)\" d=\"M2268.76 807.668 L2298.43 807.668 L2298.43 811.603 L2268.76 811.603 L2268.76 807.668 Z\" fill=\"#000000\" fill-rule=\"nonzero\" fill-opacity=\"1\" /><path clip-path=\"url(#clip840)\" d=\"M2321.37 794.011 L2309.57 812.46 L2321.37 812.46 L2321.37 794.011 M2320.14 789.937 L2326.02 789.937 L2326.02 812.46 L2330.95 812.46 L2330.95 816.348 L2326.02 816.348 L2326.02 824.497 L2321.37 824.497 L2321.37 816.348 L2305.77 816.348 L2305.77 811.835 L2320.14 789.937 Z\" fill=\"#000000\" fill-rule=\"nonzero\" fill-opacity=\"1\" /><path clip-path=\"url(#clip840)\" d=\"M2348.69 793.015 Q2345.07 793.015 2343.25 796.58 Q2341.44 800.122 2341.44 807.251 Q2341.44 814.358 2343.25 817.922 Q2345.07 821.464 2348.69 821.464 Q2352.32 821.464 2354.13 817.922 Q2355.95 814.358 2355.95 807.251 Q2355.95 800.122 2354.13 796.58 Q2352.32 793.015 2348.69 793.015 M2348.69 789.312 Q2354.5 789.312 2357.55 793.918 Q2360.63 798.501 2360.63 807.251 Q2360.63 815.978 2357.55 820.585 Q2354.5 825.168 2348.69 825.168 Q2342.88 825.168 2339.8 820.585 Q2336.74 815.978 2336.74 807.251 Q2336.74 798.501 2339.8 793.918 Q2342.88 789.312 2348.69 789.312 Z\" fill=\"#000000\" fill-rule=\"nonzero\" fill-opacity=\"1\" /><path clip-path=\"url(#clip840)\" d=\"M2378.85 793.015 Q2375.24 793.015 2373.41 796.58 Q2371.6 800.122 2371.6 807.251 Q2371.6 814.358 2373.41 817.922 Q2375.24 821.464 2378.85 821.464 Q2382.48 821.464 2384.29 817.922 Q2386.12 814.358 2386.12 807.251 Q2386.12 800.122 2384.29 796.58 Q2382.48 793.015 2378.85 793.015 M2378.85 789.312 Q2384.66 789.312 2387.71 793.918 Q2390.79 798.501 2390.79 807.251 Q2390.79 815.978 2387.71 820.585 Q2384.66 825.168 2378.85 825.168 Q2373.04 825.168 2369.96 820.585 Q2366.9 815.978 2366.9 807.251 Q2366.9 798.501 2369.96 793.918 Q2373.04 789.312 2378.85 789.312 Z\" fill=\"#000000\" fill-rule=\"nonzero\" fill-opacity=\"1\" /><polyline clip-path=\"url(#clip840)\" style=\"stroke:#000000; stroke-linecap:round; stroke-linejoin:round; stroke-width:4; stroke-opacity:1; fill:none\" points=\"2232.76,810.845 2256.76,810.845 \"/>\n",
       "<path clip-path=\"url(#clip840)\" d=\"M2268.76 619.589 L2298.43 619.589 L2298.43 623.524 L2268.76 623.524 L2268.76 619.589 Z\" fill=\"#000000\" fill-rule=\"nonzero\" fill-opacity=\"1\" /><path clip-path=\"url(#clip840)\" d=\"M2322.69 617.783 Q2326.05 618.501 2327.92 620.769 Q2329.82 623.038 2329.82 626.371 Q2329.82 631.487 2326.3 634.288 Q2322.78 637.089 2316.3 637.089 Q2314.13 637.089 2311.81 636.649 Q2309.52 636.232 2307.07 635.376 L2307.07 630.862 Q2309.01 631.996 2311.33 632.575 Q2313.64 633.154 2316.16 633.154 Q2320.56 633.154 2322.85 631.417 Q2325.17 629.681 2325.17 626.371 Q2325.17 623.316 2323.01 621.603 Q2320.89 619.867 2317.07 619.867 L2313.04 619.867 L2313.04 616.024 L2317.25 616.024 Q2320.7 616.024 2322.53 614.658 Q2324.36 613.269 2324.36 610.677 Q2324.36 608.015 2322.46 606.603 Q2320.58 605.168 2317.07 605.168 Q2315.14 605.168 2312.95 605.584 Q2310.75 606.001 2308.11 606.881 L2308.11 602.714 Q2310.77 601.973 2313.08 601.603 Q2315.42 601.232 2317.48 601.232 Q2322.81 601.232 2325.91 603.663 Q2329.01 606.07 2329.01 610.191 Q2329.01 613.061 2327.37 615.052 Q2325.72 617.019 2322.69 617.783 Z\" fill=\"#000000\" fill-rule=\"nonzero\" fill-opacity=\"1\" /><path clip-path=\"url(#clip840)\" d=\"M2348.69 604.936 Q2345.07 604.936 2343.25 608.501 Q2341.44 612.043 2341.44 619.172 Q2341.44 626.279 2343.25 629.843 Q2345.07 633.385 2348.69 633.385 Q2352.32 633.385 2354.13 629.843 Q2355.95 626.279 2355.95 619.172 Q2355.95 612.043 2354.13 608.501 Q2352.32 604.936 2348.69 604.936 M2348.69 601.232 Q2354.5 601.232 2357.55 605.839 Q2360.63 610.422 2360.63 619.172 Q2360.63 627.899 2357.55 632.505 Q2354.5 637.089 2348.69 637.089 Q2342.88 637.089 2339.8 632.505 Q2336.74 627.899 2336.74 619.172 Q2336.74 610.422 2339.8 605.839 Q2342.88 601.232 2348.69 601.232 Z\" fill=\"#000000\" fill-rule=\"nonzero\" fill-opacity=\"1\" /><path clip-path=\"url(#clip840)\" d=\"M2378.85 604.936 Q2375.24 604.936 2373.41 608.501 Q2371.6 612.043 2371.6 619.172 Q2371.6 626.279 2373.41 629.843 Q2375.24 633.385 2378.85 633.385 Q2382.48 633.385 2384.29 629.843 Q2386.12 626.279 2386.12 619.172 Q2386.12 612.043 2384.29 608.501 Q2382.48 604.936 2378.85 604.936 M2378.85 601.232 Q2384.66 601.232 2387.71 605.839 Q2390.79 610.422 2390.79 619.172 Q2390.79 627.899 2387.71 632.505 Q2384.66 637.089 2378.85 637.089 Q2373.04 637.089 2369.96 632.505 Q2366.9 627.899 2366.9 619.172 Q2366.9 610.422 2369.96 605.839 Q2373.04 601.232 2378.85 601.232 Z\" fill=\"#000000\" fill-rule=\"nonzero\" fill-opacity=\"1\" /><polyline clip-path=\"url(#clip840)\" style=\"stroke:#000000; stroke-linecap:round; stroke-linejoin:round; stroke-width:4; stroke-opacity:1; fill:none\" points=\"2232.76,622.766 2256.76,622.766 \"/>\n",
       "<path clip-path=\"url(#clip840)\" d=\"M2268.76 431.51 L2298.43 431.51 L2298.43 435.445 L2268.76 435.445 L2268.76 431.51 Z\" fill=\"#000000\" fill-rule=\"nonzero\" fill-opacity=\"1\" /><path clip-path=\"url(#clip840)\" d=\"M2312.55 444.403 L2328.87 444.403 L2328.87 448.338 L2306.93 448.338 L2306.93 444.403 Q2309.59 441.649 2314.17 437.019 Q2318.78 432.366 2319.96 431.024 Q2322.2 428.5 2323.08 426.764 Q2323.99 425.005 2323.99 423.315 Q2323.99 420.561 2322.04 418.825 Q2320.12 417.088 2317.02 417.088 Q2314.82 417.088 2312.37 417.852 Q2309.94 418.616 2307.16 420.167 L2307.16 415.445 Q2309.98 414.311 2312.44 413.732 Q2314.89 413.153 2316.93 413.153 Q2322.3 413.153 2325.49 415.838 Q2328.69 418.524 2328.69 423.014 Q2328.69 425.144 2327.88 427.065 Q2327.09 428.963 2324.98 431.556 Q2324.4 432.227 2321.3 435.445 Q2318.2 438.639 2312.55 444.403 Z\" fill=\"#000000\" fill-rule=\"nonzero\" fill-opacity=\"1\" /><path clip-path=\"url(#clip840)\" d=\"M2348.69 416.857 Q2345.07 416.857 2343.25 420.422 Q2341.44 423.963 2341.44 431.093 Q2341.44 438.199 2343.25 441.764 Q2345.07 445.306 2348.69 445.306 Q2352.32 445.306 2354.13 441.764 Q2355.95 438.199 2355.95 431.093 Q2355.95 423.963 2354.13 420.422 Q2352.32 416.857 2348.69 416.857 M2348.69 413.153 Q2354.5 413.153 2357.55 417.76 Q2360.63 422.343 2360.63 431.093 Q2360.63 439.82 2357.55 444.426 Q2354.5 449.01 2348.69 449.01 Q2342.88 449.01 2339.8 444.426 Q2336.74 439.82 2336.74 431.093 Q2336.74 422.343 2339.8 417.76 Q2342.88 413.153 2348.69 413.153 Z\" fill=\"#000000\" fill-rule=\"nonzero\" fill-opacity=\"1\" /><path clip-path=\"url(#clip840)\" d=\"M2378.85 416.857 Q2375.24 416.857 2373.41 420.422 Q2371.6 423.963 2371.6 431.093 Q2371.6 438.199 2373.41 441.764 Q2375.24 445.306 2378.85 445.306 Q2382.48 445.306 2384.29 441.764 Q2386.12 438.199 2386.12 431.093 Q2386.12 423.963 2384.29 420.422 Q2382.48 416.857 2378.85 416.857 M2378.85 413.153 Q2384.66 413.153 2387.71 417.76 Q2390.79 422.343 2390.79 431.093 Q2390.79 439.82 2387.71 444.426 Q2384.66 449.01 2378.85 449.01 Q2373.04 449.01 2369.96 444.426 Q2366.9 439.82 2366.9 431.093 Q2366.9 422.343 2369.96 417.76 Q2373.04 413.153 2378.85 413.153 Z\" fill=\"#000000\" fill-rule=\"nonzero\" fill-opacity=\"1\" /><polyline clip-path=\"url(#clip840)\" style=\"stroke:#000000; stroke-linecap:round; stroke-linejoin:round; stroke-width:4; stroke-opacity:1; fill:none\" points=\"2232.76,434.687 2256.76,434.687 \"/>\n",
       "<path clip-path=\"url(#clip840)\" d=\"M2268.76 243.431 L2298.43 243.431 L2298.43 247.366 L2268.76 247.366 L2268.76 243.431 Z\" fill=\"#000000\" fill-rule=\"nonzero\" fill-opacity=\"1\" /><path clip-path=\"url(#clip840)\" d=\"M2309.33 256.324 L2316.97 256.324 L2316.97 229.958 L2308.66 231.625 L2308.66 227.366 L2316.93 225.699 L2321.6 225.699 L2321.6 256.324 L2329.24 256.324 L2329.24 260.259 L2309.33 260.259 L2309.33 256.324 Z\" fill=\"#000000\" fill-rule=\"nonzero\" fill-opacity=\"1\" /><path clip-path=\"url(#clip840)\" d=\"M2348.69 228.778 Q2345.07 228.778 2343.25 232.343 Q2341.44 235.884 2341.44 243.014 Q2341.44 250.12 2343.25 253.685 Q2345.07 257.227 2348.69 257.227 Q2352.32 257.227 2354.13 253.685 Q2355.95 250.12 2355.95 243.014 Q2355.95 235.884 2354.13 232.343 Q2352.32 228.778 2348.69 228.778 M2348.69 225.074 Q2354.5 225.074 2357.55 229.681 Q2360.63 234.264 2360.63 243.014 Q2360.63 251.741 2357.55 256.347 Q2354.5 260.93 2348.69 260.93 Q2342.88 260.93 2339.8 256.347 Q2336.74 251.741 2336.74 243.014 Q2336.74 234.264 2339.8 229.681 Q2342.88 225.074 2348.69 225.074 Z\" fill=\"#000000\" fill-rule=\"nonzero\" fill-opacity=\"1\" /><path clip-path=\"url(#clip840)\" d=\"M2378.85 228.778 Q2375.24 228.778 2373.41 232.343 Q2371.6 235.884 2371.6 243.014 Q2371.6 250.12 2373.41 253.685 Q2375.24 257.227 2378.85 257.227 Q2382.48 257.227 2384.29 253.685 Q2386.12 250.12 2386.12 243.014 Q2386.12 235.884 2384.29 232.343 Q2382.48 228.778 2378.85 228.778 M2378.85 225.074 Q2384.66 225.074 2387.71 229.681 Q2390.79 234.264 2390.79 243.014 Q2390.79 251.741 2387.71 256.347 Q2384.66 260.93 2378.85 260.93 Q2373.04 260.93 2369.96 256.347 Q2366.9 251.741 2366.9 243.014 Q2366.9 234.264 2369.96 229.681 Q2373.04 225.074 2378.85 225.074 Z\" fill=\"#000000\" fill-rule=\"nonzero\" fill-opacity=\"1\" /><polyline clip-path=\"url(#clip840)\" style=\"stroke:#000000; stroke-linecap:round; stroke-linejoin:round; stroke-width:4; stroke-opacity:1; fill:none\" points=\"2232.76,246.608 2256.76,246.608 \"/>\n",
       "<path clip-path=\"url(#clip840)\" d=\"M2280.7 40.6987 Q2277.09 40.6987 2275.26 44.2635 Q2273.45 47.8052 2273.45 54.9348 Q2273.45 62.0412 2275.26 65.606 Q2277.09 69.1477 2280.7 69.1477 Q2284.33 69.1477 2286.14 65.606 Q2287.97 62.0412 2287.97 54.9348 Q2287.97 47.8052 2286.14 44.2635 Q2284.33 40.6987 2280.7 40.6987 M2280.7 36.995 Q2286.51 36.995 2289.57 41.6015 Q2292.64 46.1848 2292.64 54.9348 Q2292.64 63.6616 2289.57 68.268 Q2286.51 72.8513 2280.7 72.8513 Q2274.89 72.8513 2271.81 68.268 Q2268.76 63.6616 2268.76 54.9348 Q2268.76 46.1848 2271.81 41.6015 Q2274.89 36.995 2280.7 36.995 Z\" fill=\"#000000\" fill-rule=\"nonzero\" fill-opacity=\"1\" /><polyline clip-path=\"url(#clip840)\" style=\"stroke:#000000; stroke-linecap:round; stroke-linejoin:round; stroke-width:4; stroke-opacity:1; fill:none\" points=\"2232.76,58.5288 2256.76,58.5288 \"/>\n",
       "<polyline clip-path=\"url(#clip840)\" style=\"stroke:#000000; stroke-linecap:round; stroke-linejoin:round; stroke-width:4; stroke-opacity:1; fill:none\" points=\"2232.76,1486.45 2232.76,47.2441 \"/>\n",
       "</svg>\n"
      ],
      "text/html": [
       "<?xml version=\"1.0\" encoding=\"utf-8\"?>\n",
       "<svg xmlns=\"http://www.w3.org/2000/svg\" xmlns:xlink=\"http://www.w3.org/1999/xlink\" width=\"600\" height=\"400\" viewBox=\"0 0 2400 1600\">\n",
       "<defs>\n",
       "  <clipPath id=\"clip890\">\n",
       "    <rect x=\"0\" y=\"0\" width=\"2400\" height=\"1600\"/>\n",
       "  </clipPath>\n",
       "</defs>\n",
       "<path clip-path=\"url(#clip890)\" d=\"M0 1600 L2400 1600 L2400 0 L0 0  Z\" fill=\"#ffffff\" fill-rule=\"evenodd\" fill-opacity=\"1\"/>\n",
       "<defs>\n",
       "  <clipPath id=\"clip891\">\n",
       "    <rect x=\"480\" y=\"0\" width=\"1681\" height=\"1600\"/>\n",
       "  </clipPath>\n",
       "</defs>\n",
       "<path clip-path=\"url(#clip890)\" d=\"M201.019 1486.45 L2112.76 1486.45 L2112.76 47.2441 L201.019 47.2441  Z\" fill=\"#ffffff\" fill-rule=\"evenodd\" fill-opacity=\"1\"/>\n",
       "<defs>\n",
       "  <clipPath id=\"clip892\">\n",
       "    <rect x=\"201\" y=\"47\" width=\"1913\" height=\"1440\"/>\n",
       "  </clipPath>\n",
       "</defs>\n",
       "<polyline clip-path=\"url(#clip892)\" style=\"stroke:#000000; stroke-linecap:round; stroke-linejoin:round; stroke-width:2; stroke-opacity:0.1; fill:none\" points=\"675.378,1486.45 675.378,47.2441 \"/>\n",
       "<polyline clip-path=\"url(#clip892)\" style=\"stroke:#000000; stroke-linecap:round; stroke-linejoin:round; stroke-width:2; stroke-opacity:0.1; fill:none\" points=\"1152.12,1486.45 1152.12,47.2441 \"/>\n",
       "<polyline clip-path=\"url(#clip892)\" style=\"stroke:#000000; stroke-linecap:round; stroke-linejoin:round; stroke-width:2; stroke-opacity:0.1; fill:none\" points=\"1628.86,1486.45 1628.86,47.2441 \"/>\n",
       "<polyline clip-path=\"url(#clip892)\" style=\"stroke:#000000; stroke-linecap:round; stroke-linejoin:round; stroke-width:2; stroke-opacity:0.1; fill:none\" points=\"2105.6,1486.45 2105.6,47.2441 \"/>\n",
       "<polyline clip-path=\"url(#clip892)\" style=\"stroke:#000000; stroke-linecap:round; stroke-linejoin:round; stroke-width:2; stroke-opacity:0.1; fill:none\" points=\"201.019,1127.19 2112.76,1127.19 \"/>\n",
       "<polyline clip-path=\"url(#clip892)\" style=\"stroke:#000000; stroke-linecap:round; stroke-linejoin:round; stroke-width:2; stroke-opacity:0.1; fill:none\" points=\"201.019,767.565 2112.76,767.565 \"/>\n",
       "<polyline clip-path=\"url(#clip892)\" style=\"stroke:#000000; stroke-linecap:round; stroke-linejoin:round; stroke-width:2; stroke-opacity:0.1; fill:none\" points=\"201.019,407.944 2112.76,407.944 \"/>\n",
       "<polyline clip-path=\"url(#clip892)\" style=\"stroke:#000000; stroke-linecap:round; stroke-linejoin:round; stroke-width:2; stroke-opacity:0.1; fill:none\" points=\"201.019,48.323 2112.76,48.323 \"/>\n",
       "<polyline clip-path=\"url(#clip890)\" style=\"stroke:#000000; stroke-linecap:round; stroke-linejoin:round; stroke-width:4; stroke-opacity:1; fill:none\" points=\"201.019,1486.45 2112.76,1486.45 \"/>\n",
       "<polyline clip-path=\"url(#clip890)\" style=\"stroke:#000000; stroke-linecap:round; stroke-linejoin:round; stroke-width:4; stroke-opacity:1; fill:none\" points=\"675.378,1486.45 675.378,1467.55 \"/>\n",
       "<polyline clip-path=\"url(#clip890)\" style=\"stroke:#000000; stroke-linecap:round; stroke-linejoin:round; stroke-width:4; stroke-opacity:1; fill:none\" points=\"1152.12,1486.45 1152.12,1467.55 \"/>\n",
       "<polyline clip-path=\"url(#clip890)\" style=\"stroke:#000000; stroke-linecap:round; stroke-linejoin:round; stroke-width:4; stroke-opacity:1; fill:none\" points=\"1628.86,1486.45 1628.86,1467.55 \"/>\n",
       "<polyline clip-path=\"url(#clip890)\" style=\"stroke:#000000; stroke-linecap:round; stroke-linejoin:round; stroke-width:4; stroke-opacity:1; fill:none\" points=\"2105.6,1486.45 2105.6,1467.55 \"/>\n",
       "<path clip-path=\"url(#clip890)\" d=\"M634.985 1544.91 L642.623 1544.91 L642.623 1518.55 L634.313 1520.21 L634.313 1515.95 L642.577 1514.29 L647.253 1514.29 L647.253 1544.91 L654.892 1544.91 L654.892 1548.85 L634.985 1548.85 L634.985 1544.91 Z\" fill=\"#000000\" fill-rule=\"nonzero\" fill-opacity=\"1\" /><path clip-path=\"url(#clip890)\" d=\"M674.336 1517.37 Q670.725 1517.37 668.896 1520.93 Q667.091 1524.47 667.091 1531.6 Q667.091 1538.71 668.896 1542.27 Q670.725 1545.82 674.336 1545.82 Q677.97 1545.82 679.776 1542.27 Q681.605 1538.71 681.605 1531.6 Q681.605 1524.47 679.776 1520.93 Q677.97 1517.37 674.336 1517.37 M674.336 1513.66 Q680.146 1513.66 683.202 1518.27 Q686.281 1522.85 686.281 1531.6 Q686.281 1540.33 683.202 1544.94 Q680.146 1549.52 674.336 1549.52 Q668.526 1549.52 665.447 1544.94 Q662.392 1540.33 662.392 1531.6 Q662.392 1522.85 665.447 1518.27 Q668.526 1513.66 674.336 1513.66 Z\" fill=\"#000000\" fill-rule=\"nonzero\" fill-opacity=\"1\" /><path clip-path=\"url(#clip890)\" d=\"M704.498 1517.37 Q700.887 1517.37 699.058 1520.93 Q697.253 1524.47 697.253 1531.6 Q697.253 1538.71 699.058 1542.27 Q700.887 1545.82 704.498 1545.82 Q708.132 1545.82 709.938 1542.27 Q711.767 1538.71 711.767 1531.6 Q711.767 1524.47 709.938 1520.93 Q708.132 1517.37 704.498 1517.37 M704.498 1513.66 Q710.308 1513.66 713.364 1518.27 Q716.442 1522.85 716.442 1531.6 Q716.442 1540.33 713.364 1544.94 Q710.308 1549.52 704.498 1549.52 Q698.688 1549.52 695.609 1544.94 Q692.554 1540.33 692.554 1531.6 Q692.554 1522.85 695.609 1518.27 Q698.688 1513.66 704.498 1513.66 Z\" fill=\"#000000\" fill-rule=\"nonzero\" fill-opacity=\"1\" /><path clip-path=\"url(#clip890)\" d=\"M1115.81 1544.91 L1132.13 1544.91 L1132.13 1548.85 L1110.19 1548.85 L1110.19 1544.91 Q1112.85 1542.16 1117.43 1537.53 Q1122.04 1532.88 1123.22 1531.53 Q1125.47 1529.01 1126.34 1527.27 Q1127.25 1525.51 1127.25 1523.82 Q1127.25 1521.07 1125.3 1519.33 Q1123.38 1517.6 1120.28 1517.6 Q1118.08 1517.6 1115.63 1518.36 Q1113.2 1519.13 1110.42 1520.68 L1110.42 1515.95 Q1113.24 1514.82 1115.7 1514.24 Q1118.15 1513.66 1120.19 1513.66 Q1125.56 1513.66 1128.75 1516.35 Q1131.95 1519.03 1131.95 1523.52 Q1131.95 1525.65 1131.14 1527.57 Q1130.35 1529.47 1128.24 1532.07 Q1127.66 1532.74 1124.56 1535.95 Q1121.46 1539.15 1115.81 1544.91 Z\" fill=\"#000000\" fill-rule=\"nonzero\" fill-opacity=\"1\" /><path clip-path=\"url(#clip890)\" d=\"M1151.95 1517.37 Q1148.34 1517.37 1146.51 1520.93 Q1144.7 1524.47 1144.7 1531.6 Q1144.7 1538.71 1146.51 1542.27 Q1148.34 1545.82 1151.95 1545.82 Q1155.58 1545.82 1157.39 1542.27 Q1159.22 1538.71 1159.22 1531.6 Q1159.22 1524.47 1157.39 1520.93 Q1155.58 1517.37 1151.95 1517.37 M1151.95 1513.66 Q1157.76 1513.66 1160.81 1518.27 Q1163.89 1522.85 1163.89 1531.6 Q1163.89 1540.33 1160.81 1544.94 Q1157.76 1549.52 1151.95 1549.52 Q1146.14 1549.52 1143.06 1544.94 Q1140 1540.33 1140 1531.6 Q1140 1522.85 1143.06 1518.27 Q1146.14 1513.66 1151.95 1513.66 Z\" fill=\"#000000\" fill-rule=\"nonzero\" fill-opacity=\"1\" /><path clip-path=\"url(#clip890)\" d=\"M1182.11 1517.37 Q1178.5 1517.37 1176.67 1520.93 Q1174.86 1524.47 1174.86 1531.6 Q1174.86 1538.71 1176.67 1542.27 Q1178.5 1545.82 1182.11 1545.82 Q1185.74 1545.82 1187.55 1542.27 Q1189.38 1538.71 1189.38 1531.6 Q1189.38 1524.47 1187.55 1520.93 Q1185.74 1517.37 1182.11 1517.37 M1182.11 1513.66 Q1187.92 1513.66 1190.97 1518.27 Q1194.05 1522.85 1194.05 1531.6 Q1194.05 1540.33 1190.97 1544.94 Q1187.92 1549.52 1182.11 1549.52 Q1176.3 1549.52 1173.22 1544.94 Q1170.16 1540.33 1170.16 1531.6 Q1170.16 1522.85 1173.22 1518.27 Q1176.3 1513.66 1182.11 1513.66 Z\" fill=\"#000000\" fill-rule=\"nonzero\" fill-opacity=\"1\" /><path clip-path=\"url(#clip890)\" d=\"M1602.62 1530.21 Q1605.98 1530.93 1607.86 1533.2 Q1609.75 1535.47 1609.75 1538.8 Q1609.75 1543.92 1606.24 1546.72 Q1602.72 1549.52 1596.24 1549.52 Q1594.06 1549.52 1591.74 1549.08 Q1589.45 1548.66 1587 1547.81 L1587 1543.29 Q1588.94 1544.43 1591.26 1545.01 Q1593.57 1545.58 1596.1 1545.58 Q1600.49 1545.58 1602.79 1543.85 Q1605.1 1542.11 1605.1 1538.8 Q1605.1 1535.75 1602.95 1534.03 Q1600.82 1532.3 1597 1532.3 L1592.97 1532.3 L1592.97 1528.45 L1597.18 1528.45 Q1600.63 1528.45 1602.46 1527.09 Q1604.29 1525.7 1604.29 1523.11 Q1604.29 1520.45 1602.39 1519.03 Q1600.52 1517.6 1597 1517.6 Q1595.08 1517.6 1592.88 1518.01 Q1590.68 1518.43 1588.04 1519.31 L1588.04 1515.14 Q1590.7 1514.4 1593.02 1514.03 Q1595.36 1513.66 1597.42 1513.66 Q1602.74 1513.66 1605.84 1516.09 Q1608.94 1518.5 1608.94 1522.62 Q1608.94 1525.49 1607.3 1527.48 Q1605.66 1529.45 1602.62 1530.21 Z\" fill=\"#000000\" fill-rule=\"nonzero\" fill-opacity=\"1\" /><path clip-path=\"url(#clip890)\" d=\"M1628.62 1517.37 Q1625.01 1517.37 1623.18 1520.93 Q1621.37 1524.47 1621.37 1531.6 Q1621.37 1538.71 1623.18 1542.27 Q1625.01 1545.82 1628.62 1545.82 Q1632.25 1545.82 1634.06 1542.27 Q1635.89 1538.71 1635.89 1531.6 Q1635.89 1524.47 1634.06 1520.93 Q1632.25 1517.37 1628.62 1517.37 M1628.62 1513.66 Q1634.43 1513.66 1637.49 1518.27 Q1640.56 1522.85 1640.56 1531.6 Q1640.56 1540.33 1637.49 1544.94 Q1634.43 1549.52 1628.62 1549.52 Q1622.81 1549.52 1619.73 1544.94 Q1616.68 1540.33 1616.68 1531.6 Q1616.68 1522.85 1619.73 1518.27 Q1622.81 1513.66 1628.62 1513.66 Z\" fill=\"#000000\" fill-rule=\"nonzero\" fill-opacity=\"1\" /><path clip-path=\"url(#clip890)\" d=\"M1658.78 1517.37 Q1655.17 1517.37 1653.34 1520.93 Q1651.54 1524.47 1651.54 1531.6 Q1651.54 1538.71 1653.34 1542.27 Q1655.17 1545.82 1658.78 1545.82 Q1662.42 1545.82 1664.22 1542.27 Q1666.05 1538.71 1666.05 1531.6 Q1666.05 1524.47 1664.22 1520.93 Q1662.42 1517.37 1658.78 1517.37 M1658.78 1513.66 Q1664.59 1513.66 1667.65 1518.27 Q1670.73 1522.85 1670.73 1531.6 Q1670.73 1540.33 1667.65 1544.94 Q1664.59 1549.52 1658.78 1549.52 Q1652.97 1549.52 1649.89 1544.94 Q1646.84 1540.33 1646.84 1531.6 Q1646.84 1522.85 1649.89 1518.27 Q1652.97 1513.66 1658.78 1513.66 Z\" fill=\"#000000\" fill-rule=\"nonzero\" fill-opacity=\"1\" /><path clip-path=\"url(#clip890)\" d=\"M2078.7 1518.36 L2066.89 1536.81 L2078.7 1536.81 L2078.7 1518.36 M2077.47 1514.29 L2083.35 1514.29 L2083.35 1536.81 L2088.28 1536.81 L2088.28 1540.7 L2083.35 1540.7 L2083.35 1548.85 L2078.7 1548.85 L2078.7 1540.7 L2063.09 1540.7 L2063.09 1536.19 L2077.47 1514.29 Z\" fill=\"#000000\" fill-rule=\"nonzero\" fill-opacity=\"1\" /><path clip-path=\"url(#clip890)\" d=\"M2106.01 1517.37 Q2102.4 1517.37 2100.57 1520.93 Q2098.76 1524.47 2098.76 1531.6 Q2098.76 1538.71 2100.57 1542.27 Q2102.4 1545.82 2106.01 1545.82 Q2109.64 1545.82 2111.45 1542.27 Q2113.28 1538.71 2113.28 1531.6 Q2113.28 1524.47 2111.45 1520.93 Q2109.64 1517.37 2106.01 1517.37 M2106.01 1513.66 Q2111.82 1513.66 2114.88 1518.27 Q2117.95 1522.85 2117.95 1531.6 Q2117.95 1540.33 2114.88 1544.94 Q2111.82 1549.52 2106.01 1549.52 Q2100.2 1549.52 2097.12 1544.94 Q2094.07 1540.33 2094.07 1531.6 Q2094.07 1522.85 2097.12 1518.27 Q2100.2 1513.66 2106.01 1513.66 Z\" fill=\"#000000\" fill-rule=\"nonzero\" fill-opacity=\"1\" /><path clip-path=\"url(#clip890)\" d=\"M2136.17 1517.37 Q2132.56 1517.37 2130.73 1520.93 Q2128.93 1524.47 2128.93 1531.6 Q2128.93 1538.71 2130.73 1542.27 Q2132.56 1545.82 2136.17 1545.82 Q2139.81 1545.82 2141.61 1542.27 Q2143.44 1538.71 2143.44 1531.6 Q2143.44 1524.47 2141.61 1520.93 Q2139.81 1517.37 2136.17 1517.37 M2136.17 1513.66 Q2141.98 1513.66 2145.04 1518.27 Q2148.12 1522.85 2148.12 1531.6 Q2148.12 1540.33 2145.04 1544.94 Q2141.98 1549.52 2136.17 1549.52 Q2130.36 1549.52 2127.28 1544.94 Q2124.23 1540.33 2124.23 1531.6 Q2124.23 1522.85 2127.28 1518.27 Q2130.36 1513.66 2136.17 1513.66 Z\" fill=\"#000000\" fill-rule=\"nonzero\" fill-opacity=\"1\" /><polyline clip-path=\"url(#clip890)\" style=\"stroke:#000000; stroke-linecap:round; stroke-linejoin:round; stroke-width:4; stroke-opacity:1; fill:none\" points=\"201.019,1486.45 201.019,47.2441 \"/>\n",
       "<polyline clip-path=\"url(#clip890)\" style=\"stroke:#000000; stroke-linecap:round; stroke-linejoin:round; stroke-width:4; stroke-opacity:1; fill:none\" points=\"201.019,1127.19 217.809,1127.19 \"/>\n",
       "<polyline clip-path=\"url(#clip890)\" style=\"stroke:#000000; stroke-linecap:round; stroke-linejoin:round; stroke-width:4; stroke-opacity:1; fill:none\" points=\"201.019,767.565 217.809,767.565 \"/>\n",
       "<polyline clip-path=\"url(#clip890)\" style=\"stroke:#000000; stroke-linecap:round; stroke-linejoin:round; stroke-width:4; stroke-opacity:1; fill:none\" points=\"201.019,407.944 217.809,407.944 \"/>\n",
       "<polyline clip-path=\"url(#clip890)\" style=\"stroke:#000000; stroke-linecap:round; stroke-linejoin:round; stroke-width:4; stroke-opacity:1; fill:none\" points=\"201.019,48.323 217.809,48.323 \"/>\n",
       "<path clip-path=\"url(#clip890)\" d=\"M82.7975 1109.91 L101.154 1109.91 L101.154 1113.84 L87.0799 1113.84 L87.0799 1122.31 Q88.0984 1121.97 89.1169 1121.8 Q90.1354 1121.62 91.1539 1121.62 Q96.941 1121.62 100.321 1124.79 Q103.7 1127.96 103.7 1133.38 Q103.7 1138.96 100.228 1142.06 Q96.7558 1145.14 90.4364 1145.14 Q88.2604 1145.14 85.9919 1144.77 Q83.7466 1144.4 81.3392 1143.66 L81.3392 1138.96 Q83.4225 1140.09 85.6447 1140.65 Q87.8669 1141.2 90.3438 1141.2 Q94.3484 1141.2 96.6863 1139.1 Q99.0243 1136.99 99.0243 1133.38 Q99.0243 1129.77 96.6863 1127.66 Q94.3484 1125.55 90.3438 1125.55 Q88.4688 1125.55 86.5938 1125.97 Q84.7419 1126.39 82.7975 1127.27 L82.7975 1109.91 Z\" fill=\"#000000\" fill-rule=\"nonzero\" fill-opacity=\"1\" /><path clip-path=\"url(#clip890)\" d=\"M122.913 1112.99 Q119.302 1112.99 117.473 1116.55 Q115.668 1120.09 115.668 1127.22 Q115.668 1134.33 117.473 1137.89 Q119.302 1141.43 122.913 1141.43 Q126.547 1141.43 128.353 1137.89 Q130.182 1134.33 130.182 1127.22 Q130.182 1120.09 128.353 1116.55 Q126.547 1112.99 122.913 1112.99 M122.913 1109.28 Q128.723 1109.28 131.779 1113.89 Q134.857 1118.47 134.857 1127.22 Q134.857 1135.95 131.779 1140.55 Q128.723 1145.14 122.913 1145.14 Q117.103 1145.14 114.024 1140.55 Q110.969 1135.95 110.969 1127.22 Q110.969 1118.47 114.024 1113.89 Q117.103 1109.28 122.913 1109.28 Z\" fill=\"#000000\" fill-rule=\"nonzero\" fill-opacity=\"1\" /><path clip-path=\"url(#clip890)\" d=\"M153.075 1112.99 Q149.464 1112.99 147.635 1116.55 Q145.83 1120.09 145.83 1127.22 Q145.83 1134.33 147.635 1137.89 Q149.464 1141.43 153.075 1141.43 Q156.709 1141.43 158.515 1137.89 Q160.343 1134.33 160.343 1127.22 Q160.343 1120.09 158.515 1116.55 Q156.709 1112.99 153.075 1112.99 M153.075 1109.28 Q158.885 1109.28 161.941 1113.89 Q165.019 1118.47 165.019 1127.22 Q165.019 1135.95 161.941 1140.55 Q158.885 1145.14 153.075 1145.14 Q147.265 1145.14 144.186 1140.55 Q141.131 1135.95 141.131 1127.22 Q141.131 1118.47 144.186 1113.89 Q147.265 1109.28 153.075 1109.28 Z\" fill=\"#000000\" fill-rule=\"nonzero\" fill-opacity=\"1\" /><path clip-path=\"url(#clip890)\" d=\"M53.3995 780.91 L61.0384 780.91 L61.0384 754.544 L52.7282 756.211 L52.7282 751.952 L60.9921 750.285 L65.668 750.285 L65.668 780.91 L73.3068 780.91 L73.3068 784.845 L53.3995 784.845 L53.3995 780.91 Z\" fill=\"#000000\" fill-rule=\"nonzero\" fill-opacity=\"1\" /><path clip-path=\"url(#clip890)\" d=\"M92.7512 753.364 Q89.1401 753.364 87.3114 756.929 Q85.5058 760.47 85.5058 767.6 Q85.5058 774.706 87.3114 778.271 Q89.1401 781.813 92.7512 781.813 Q96.3854 781.813 98.1909 778.271 Q100.02 774.706 100.02 767.6 Q100.02 760.47 98.1909 756.929 Q96.3854 753.364 92.7512 753.364 M92.7512 749.66 Q98.5613 749.66 101.617 754.267 Q104.696 758.85 104.696 767.6 Q104.696 776.327 101.617 780.933 Q98.5613 785.517 92.7512 785.517 Q86.941 785.517 83.8623 780.933 Q80.8068 776.327 80.8068 767.6 Q80.8068 758.85 83.8623 754.267 Q86.941 749.66 92.7512 749.66 Z\" fill=\"#000000\" fill-rule=\"nonzero\" fill-opacity=\"1\" /><path clip-path=\"url(#clip890)\" d=\"M122.913 753.364 Q119.302 753.364 117.473 756.929 Q115.668 760.47 115.668 767.6 Q115.668 774.706 117.473 778.271 Q119.302 781.813 122.913 781.813 Q126.547 781.813 128.353 778.271 Q130.182 774.706 130.182 767.6 Q130.182 760.47 128.353 756.929 Q126.547 753.364 122.913 753.364 M122.913 749.66 Q128.723 749.66 131.779 754.267 Q134.857 758.85 134.857 767.6 Q134.857 776.327 131.779 780.933 Q128.723 785.517 122.913 785.517 Q117.103 785.517 114.024 780.933 Q110.969 776.327 110.969 767.6 Q110.969 758.85 114.024 754.267 Q117.103 749.66 122.913 749.66 Z\" fill=\"#000000\" fill-rule=\"nonzero\" fill-opacity=\"1\" /><path clip-path=\"url(#clip890)\" d=\"M153.075 753.364 Q149.464 753.364 147.635 756.929 Q145.83 760.47 145.83 767.6 Q145.83 774.706 147.635 778.271 Q149.464 781.813 153.075 781.813 Q156.709 781.813 158.515 778.271 Q160.343 774.706 160.343 767.6 Q160.343 760.47 158.515 756.929 Q156.709 753.364 153.075 753.364 M153.075 749.66 Q158.885 749.66 161.941 754.267 Q165.019 758.85 165.019 767.6 Q165.019 776.327 161.941 780.933 Q158.885 785.517 153.075 785.517 Q147.265 785.517 144.186 780.933 Q141.131 776.327 141.131 767.6 Q141.131 758.85 144.186 754.267 Q147.265 749.66 153.075 749.66 Z\" fill=\"#000000\" fill-rule=\"nonzero\" fill-opacity=\"1\" /><path clip-path=\"url(#clip890)\" d=\"M53.3995 421.289 L61.0384 421.289 L61.0384 394.923 L52.7282 396.59 L52.7282 392.331 L60.9921 390.664 L65.668 390.664 L65.668 421.289 L73.3068 421.289 L73.3068 425.224 L53.3995 425.224 L53.3995 421.289 Z\" fill=\"#000000\" fill-rule=\"nonzero\" fill-opacity=\"1\" /><path clip-path=\"url(#clip890)\" d=\"M82.7975 390.664 L101.154 390.664 L101.154 394.599 L87.0799 394.599 L87.0799 403.071 Q88.0984 402.724 89.1169 402.562 Q90.1354 402.377 91.1539 402.377 Q96.941 402.377 100.321 405.548 Q103.7 408.72 103.7 414.136 Q103.7 419.715 100.228 422.817 Q96.7558 425.895 90.4364 425.895 Q88.2604 425.895 85.9919 425.525 Q83.7466 425.155 81.3392 424.414 L81.3392 419.715 Q83.4225 420.849 85.6447 421.405 Q87.8669 421.96 90.3438 421.96 Q94.3484 421.96 96.6863 419.854 Q99.0243 417.747 99.0243 414.136 Q99.0243 410.525 96.6863 408.419 Q94.3484 406.312 90.3438 406.312 Q88.4688 406.312 86.5938 406.729 Q84.7419 407.145 82.7975 408.025 L82.7975 390.664 Z\" fill=\"#000000\" fill-rule=\"nonzero\" fill-opacity=\"1\" /><path clip-path=\"url(#clip890)\" d=\"M122.913 393.743 Q119.302 393.743 117.473 397.308 Q115.668 400.849 115.668 407.979 Q115.668 415.085 117.473 418.65 Q119.302 422.192 122.913 422.192 Q126.547 422.192 128.353 418.65 Q130.182 415.085 130.182 407.979 Q130.182 400.849 128.353 397.308 Q126.547 393.743 122.913 393.743 M122.913 390.039 Q128.723 390.039 131.779 394.646 Q134.857 399.229 134.857 407.979 Q134.857 416.706 131.779 421.312 Q128.723 425.895 122.913 425.895 Q117.103 425.895 114.024 421.312 Q110.969 416.706 110.969 407.979 Q110.969 399.229 114.024 394.646 Q117.103 390.039 122.913 390.039 Z\" fill=\"#000000\" fill-rule=\"nonzero\" fill-opacity=\"1\" /><path clip-path=\"url(#clip890)\" d=\"M153.075 393.743 Q149.464 393.743 147.635 397.308 Q145.83 400.849 145.83 407.979 Q145.83 415.085 147.635 418.65 Q149.464 422.192 153.075 422.192 Q156.709 422.192 158.515 418.65 Q160.343 415.085 160.343 407.979 Q160.343 400.849 158.515 397.308 Q156.709 393.743 153.075 393.743 M153.075 390.039 Q158.885 390.039 161.941 394.646 Q165.019 399.229 165.019 407.979 Q165.019 416.706 161.941 421.312 Q158.885 425.895 153.075 425.895 Q147.265 425.895 144.186 421.312 Q141.131 416.706 141.131 407.979 Q141.131 399.229 144.186 394.646 Q147.265 390.039 153.075 390.039 Z\" fill=\"#000000\" fill-rule=\"nonzero\" fill-opacity=\"1\" /><path clip-path=\"url(#clip890)\" d=\"M56.6171 61.6678 L72.9365 61.6678 L72.9365 65.603 L50.9921 65.603 L50.9921 61.6678 Q53.6541 58.9132 58.2375 54.2836 Q62.8439 49.6308 64.0245 48.2882 Q66.2698 45.7651 67.1494 44.029 Q68.0522 42.2697 68.0522 40.5799 Q68.0522 37.8253 66.1078 36.0892 Q64.1865 34.3531 61.0847 34.3531 Q58.8856 34.3531 56.4319 35.117 Q54.0014 35.8809 51.2236 37.4318 L51.2236 32.7096 Q54.0477 31.5754 56.5014 30.9967 Q58.955 30.418 60.9921 30.418 Q66.3624 30.418 69.5568 33.1031 Q72.7513 35.7883 72.7513 40.279 Q72.7513 42.4086 71.9411 44.3299 Q71.1541 46.2281 69.0476 48.8206 Q68.4689 49.4919 65.367 52.7095 Q62.2652 55.9039 56.6171 61.6678 Z\" fill=\"#000000\" fill-rule=\"nonzero\" fill-opacity=\"1\" /><path clip-path=\"url(#clip890)\" d=\"M92.7512 34.1216 Q89.1401 34.1216 87.3114 37.6864 Q85.5058 41.2281 85.5058 48.3577 Q85.5058 55.4641 87.3114 59.0289 Q89.1401 62.5706 92.7512 62.5706 Q96.3854 62.5706 98.1909 59.0289 Q100.02 55.4641 100.02 48.3577 Q100.02 41.2281 98.1909 37.6864 Q96.3854 34.1216 92.7512 34.1216 M92.7512 30.418 Q98.5613 30.418 101.617 35.0244 Q104.696 39.6077 104.696 48.3577 Q104.696 57.0845 101.617 61.6909 Q98.5613 66.2743 92.7512 66.2743 Q86.941 66.2743 83.8623 61.6909 Q80.8068 57.0845 80.8068 48.3577 Q80.8068 39.6077 83.8623 35.0244 Q86.941 30.418 92.7512 30.418 Z\" fill=\"#000000\" fill-rule=\"nonzero\" fill-opacity=\"1\" /><path clip-path=\"url(#clip890)\" d=\"M122.913 34.1216 Q119.302 34.1216 117.473 37.6864 Q115.668 41.2281 115.668 48.3577 Q115.668 55.4641 117.473 59.0289 Q119.302 62.5706 122.913 62.5706 Q126.547 62.5706 128.353 59.0289 Q130.182 55.4641 130.182 48.3577 Q130.182 41.2281 128.353 37.6864 Q126.547 34.1216 122.913 34.1216 M122.913 30.418 Q128.723 30.418 131.779 35.0244 Q134.857 39.6077 134.857 48.3577 Q134.857 57.0845 131.779 61.6909 Q128.723 66.2743 122.913 66.2743 Q117.103 66.2743 114.024 61.6909 Q110.969 57.0845 110.969 48.3577 Q110.969 39.6077 114.024 35.0244 Q117.103 30.418 122.913 30.418 Z\" fill=\"#000000\" fill-rule=\"nonzero\" fill-opacity=\"1\" /><path clip-path=\"url(#clip890)\" d=\"M153.075 34.1216 Q149.464 34.1216 147.635 37.6864 Q145.83 41.2281 145.83 48.3577 Q145.83 55.4641 147.635 59.0289 Q149.464 62.5706 153.075 62.5706 Q156.709 62.5706 158.515 59.0289 Q160.343 55.4641 160.343 48.3577 Q160.343 41.2281 158.515 37.6864 Q156.709 34.1216 153.075 34.1216 M153.075 30.418 Q158.885 30.418 161.941 35.0244 Q165.019 39.6077 165.019 48.3577 Q165.019 57.0845 161.941 61.6909 Q158.885 66.2743 153.075 66.2743 Q147.265 66.2743 144.186 61.6909 Q141.131 57.0845 141.131 48.3577 Q141.131 39.6077 144.186 35.0244 Q147.265 30.418 153.075 30.418 Z\" fill=\"#000000\" fill-rule=\"nonzero\" fill-opacity=\"1\" /><g clip-path=\"url(#clip892)\">\n",
       "<image width=\"1912\" height=\"1439\" xlink:href=\"data:image/png;base64,\n",
       "iVBORw0KGgoAAAANSUhEUgAAB3gAAAWfCAYAAABJJifMAAAgAElEQVR4nOzZwQ2AMBDAsKNi/5Vh\n",
       "hf7aSPYE+eeZeb8BAAAAAAAA4HrrdAAAAAAAAAAAewxeAAAAAAAAgAiDFwAAAAAAACDC4AUAAAAA\n",
       "AACIMHgBAAAAAAAAIgxeAAAAAAAAgAiDFwAAAAAAACDC4AUAAAAAAACIMHgBAAAAAAAAIgxeAAAA\n",
       "AAAAgAiDFwAAAAAAACDC4AUAAAAAAACIMHgBAAAAAAAAIgxeAAAAAAAAgAiDFwAAAAAAACDC4AUA\n",
       "AAAAAACIMHgBAAAAAAAAIgxeAAAAAAAAgAiDFwAAAAAAACDC4AUAAAAAAACIMHgBAAAAAAAAIgxe\n",
       "AAAAAAAAgAiDFwAAAAAAACDC4AUAAAAAAACIMHgBAAAAAAAAIgxeAAAAAAAAgAiDFwAAAAAAACDC\n",
       "4AUAAAAAAACIMHgBAAAAAAAAIgxeAAAAAAAAgAiDFwAAAAAAACDC4AUAAAAAAACIMHgBAAAAAAAA\n",
       "IgxeAAAAAAAAgAiDFwAAAAAAACDC4AUAAAAAAACIMHgBAAAAAAAAIgxeAAAAAAAAgAiDFwAAAAAA\n",
       "ACDC4AUAAAAAAACIMHgBAAAAAAAAIgxeAAAAAAAAgAiDFwAAAAAAACDC4AUAAAAAAACIMHgBAAAA\n",
       "AAAAIgxeAAAAAAAAgAiDFwAAAAAAACDC4AUAAAAAAACIMHgBAAAAAAAAIgxeAAAAAAAAgAiDFwAA\n",
       "AAAAACDC4AUAAAAAAACIMHgBAAAAAAAAIgxeAAAAAAAAgAiDFwAAAAAAACDC4AUAAAAAAACIMHgB\n",
       "AAAAAAAAIgxeAAAAAAAAgAiDFwAAAAAAACDC4AUAAAAAAACIMHgBAAAAAAAAIgxeAAAAAAAAgAiD\n",
       "FwAAAAAAACDC4AUAAAAAAACIMHgBAAAAAAAAIgxeAAAAAAAAgAiDFwAAAAAAACDC4AUAAAAAAACI\n",
       "MHgBAAAAAAAAIgxeAAAAAAAAgAiDFwAAAAAAACDC4AUAAAAAAACIMHgBAAAAAAAAIgxeAAAAAAAA\n",
       "gAiDFwAAAAAAACDC4AUAAAAAAACIMHgBAAAAAAAAIgxeAAAAAAAAgAiDFwAAAAAAACDC4AUAAAAA\n",
       "AACIMHgBAAAAAAAAIgxeAAAAAAAAgAiDFwAAAAAAACDC4AUAAAAAAACIMHgBAAAAAAAAIgxeAAAA\n",
       "AAAAgAiDFwAAAAAAACDC4AUAAAAAAACIMHgBAAAAAAAAIgxeAAAAAAAAgAiDFwAAAAAAACDC4AUA\n",
       "AAAAAACIMHgBAAAAAAAAIgxeAAAAAAAAgAiDFwAAAAAAACDC4AUAAAAAAACIMHgBAAAAAAAAIgxe\n",
       "AAAAAAAAgAiDFwAAAAAAACDC4AUAAAAAAACIMHgBAAAAAAAAIgxeAAAAAAAAgAiDFwAAAAAAACDC\n",
       "4AUAAAAAAACIMHgBAAAAAAAAIgxeAAAAAAAAgAiDFwAAAAAAACDC4AUAAAAAAACIMHgBAAAAAAAA\n",
       "IgxeAAAAAAAAgAiDFwAAAAAAACDC4AUAAAAAAACIMHgBAAAAAAAAIgxeAAAAAAAAgAiDFwAAAAAA\n",
       "ACDC4AUAAAAAAACIMHgBAAAAAAAAIgxeAAAAAAAAgAiDFwAAAAAAACDC4AUAAAAAAACIMHgBAAAA\n",
       "AAAAIgxeAAAAAAAAgAiDFwAAAAAAACDC4AUAAAAAAACIMHgBAAAAAAAAIgxeAAAAAAAAgAiDFwAA\n",
       "AAAAACDC4AUAAAAAAACIMHgBAAAAAAAAIgxeAAAAAAAAgAiDFwAAAAAAACDC4AUAAAAAAACIMHgB\n",
       "AAAAAAAAIgxeAAAAAAAAgAiDFwAAAAAAACDC4AUAAAAAAACIMHgBAAAAAAAAIgxeAAAAAAAAgAiD\n",
       "FwAAAAAAACDC4AUAAAAAAACIMHgBAAAAAAAAIgxeAAAAAAAAgAiDFwAAAAAAACDC4AUAAAAAAACI\n",
       "MHgBAAAAAAAAIgxeAAAAAAAAgAiDFwAAAAAAACDC4AUAAAAAAACIMHgBAAAAAAAAIgxeAAAAAAAA\n",
       "gAiDFwAAAAAAACDC4AUAAAAAAACIMHgBAAAAAAAAIgxeAAAAAAAAgAiDFwAAAAAAACDC4AUAAAAA\n",
       "AACIMHgBAAAAAAAAIgxeAAAAAAAAgAiDFwAAAAAAACDC4AUAAAAAAACIMHgBAAAAAAAAIgxeAAAA\n",
       "AAAAgAiDFwAAAAAAACDC4AUAAAAAAACIMHgBAAAAAAAAIgxeAAAAAAAAgAiDFwAAAAAAACDC4AUA\n",
       "AAAAAACIMHgBAAAAAAAAIgxeAAAAAAAAgAiDFwAAAAAAACDC4AUAAAAAAACIMHgBAAAAAAAAIgxe\n",
       "AAAAAAAAgAiDFwAAAAAAACDC4AUAAAAAAACIMHgBAAAAAAAAIgxeAAAAAAAAgAiDFwAAAAAAACDC\n",
       "4AUAAAAAAACIMHgBAAAAAAAAIgxeAAAAAAAAgAiDFwAAAAAAACDC4AUAAAAAAACIMHgBAAAAAAAA\n",
       "IgxeAAAAAAAAgAiDFwAAAAAAACDC4AUAAAAAAACIMHgBAAAAAAAAIgxeAAAAAAAAgAiDFwAAAAAA\n",
       "ACDC4AUAAAAAAACIMHgBAAAAAAAAIgxeAAAAAAAAgAiDFwAAAAAAACDC4AUAAAAAAACIMHgBAAAA\n",
       "AAAAIgxeAAAAAAAAgAiDFwAAAAAAACDC4AUAAAAAAACIMHgBAAAAAAAAIgxeAAAAAAAAgAiDFwAA\n",
       "AAAAACDC4AUAAAAAAACIMHgBAAAAAAAAIgxeAAAAAAAAgAiDFwAAAAAAACDC4AUAAAAAAACIMHgB\n",
       "AAAAAAAAIgxeAAAAAAAAgAiDFwAAAAAAACDC4AUAAAAAAACIMHgBAAAAAAAAIgxeAAAAAAAAgAiD\n",
       "FwAAAAAAACDC4AUAAAAAAACIMHgBAAAAAAAAIgxeAAAAAAAAgAiDFwAAAAAAACDC4AUAAAAAAACI\n",
       "MHgBAAAAAAAAIgxeAAAAAAAAgAiDFwAAAAAAACDC4AUAAAAAAACIMHgBAAAAAAAAIgxeAAAAAAAA\n",
       "gAiDFwAAAAAAACDC4AUAAAAAAACIMHgBAAAAAAAAIgxeAAAAAAAAgAiDFwAAAAAAACDC4AUAAAAA\n",
       "AACIMHgBAAAAAAAAIgxeAAAAAAAAgAiDFwAAAAAAACDC4AUAAAAAAACIMHgBAAAAAAAAIgxeAAAA\n",
       "AAAAgAiDFwAAAAAAACDC4AUAAAAAAACIMHgBAAAAAAAAIgxeAAAAAAAAgAiDFwAAAAAAACDC4AUA\n",
       "AAAAAACIMHgBAAAAAAAAIgxeAAAAAAAAgAiDFwAAAAAAACDC4AUAAAAAAACIMHgBAAAAAAAAIgxe\n",
       "AAAAAAAAgAiDFwAAAAAAACDC4AUAAAAAAACIMHgBAAAAAAAAIgxeAAAAAAAAgAiDFwAAAAAAACDC\n",
       "4AUAAAAAAACIMHgBAAAAAAAAIgxeAAAAAAAAgAiDFwAAAAAAACDC4AUAAAAAAACIMHgBAAAAAAAA\n",
       "IgxeAAAAAAAAgAiDFwAAAAAAACDC4AUAAAAAAACIMHgBAAAAAAAAIgxeAAAAAAAAgAiDFwAAAAAA\n",
       "ACDC4AUAAAAAAACIMHgBAAAAAAAAIgxeAAAAAAAAgAiDFwAAAAAAACDC4AUAAAAAAACIMHgBAAAA\n",
       "AAAAIgxeAAAAAAAAgAiDFwAAAAAAACDC4AUAAAAAAACIMHgBAAAAAAAAIgxeAAAAAAAAgAiDFwAA\n",
       "AAAAACDC4AUAAAAAAACIMHgBAAAAAAAAIgxeAAAAAAAAgAiDFwAAAAAAACDC4AUAAAAAAACIMHgB\n",
       "AAAAAAAAIgxeAAAAAAAAgAiDFwAAAAAAACDC4AUAAAAAAACIMHgBAAAAAAAAIgxeAAAAAAAAgAiD\n",
       "FwAAAAAAACDC4AUAAAAAAACIMHgBAAAAAAAAIgxeAAAAAAAAgAiDFwAAAAAAACDC4AUAAAAAAACI\n",
       "MHgBAAAAAAAAIgxeAAAAAAAAgAiDFwAAAAAAACDC4AUAAAAAAACIMHgBAAAAAAAAIgxeAAAAAAAA\n",
       "gAiDFwAAAAAAACDC4AUAAAAAAACIMHgBAAAAAAAAIgxeAAAAAAAAgAiDFwAAAAAAACDC4AUAAAAA\n",
       "AACIMHgBAAAAAAAAIgxeAAAAAAAAgAiDFwAAAAAAACDC4AUAAAAAAACIMHgBAAAAAAAAIgxeAAAA\n",
       "AAAAgAiDFwAAAAAAACDC4AUAAAAAAACIMHgBAAAAAAAAIgxeAAAAAAAAgAiDFwAAAAAAACDC4AUA\n",
       "AAAAAACIMHgBAAAAAAAAIgxeAAAAAAAAgAiDFwAAAAAAACDC4AUAAAAAAACIMHgBAAAAAAAAIgxe\n",
       "AAAAAAAAgAiDFwAAAAAAACDC4AUAAAAAAACIMHgBAAAAAAAAIgxeAAAAAAAAgAiDFwAAAAAAACDC\n",
       "4AUAAAAAAACIMHgBAAAAAAAAIgxeAAAAAAAAgAiDFwAAAAAAACDC4AUAAAAAAACIMHgBAAAAAAAA\n",
       "IgxeAAAAAAAAgAiDFwAAAAAAACDC4AUAAAAAAACIMHgBAAAAAAAAIgxeAAAAAAAAgAiDFwAAAAAA\n",
       "ACDC4AUAAAAAAACIMHgBAAAAAAAAIgxeAAAAAAAAgAiDFwAAAAAAACDC4AUAAAAAAACIMHgBAAAA\n",
       "AAAAIgxeAAAAAAAAgAiDFwAAAAAAACDC4AUAAAAAAACIMHgBAAAAAAAAIgxeAAAAAAAAgAiDFwAA\n",
       "AAAAACDC4AUAAAAAAACIMHgBAAAAAAAAIgxeAAAAAAAAgAiDFwAAAAAAACDC4AUAAAAAAACIMHgB\n",
       "AAAAAAAAIgxeAAAAAAAAgAiDFwAAAAAAACDC4AUAAAAAAACIMHgBAAAAAAAAIgxeAAAAAAAAgAiD\n",
       "FwAAAAAAACDC4AUAAAAAAACIMHgBAAAAAAAAIgxeAAAAAAAAgAiDFwAAAAAAACDC4AUAAAAAAACI\n",
       "MHgBAAAAAAAAIgxeAAAAAAAAgAiDFwAAAAAAACDC4AUAAAAAAACIMHgBAAAAAAAAIgxeAAAAAAAA\n",
       "gAiDFwAAAAAAACDC4AUAAAAAAACIMHgBAAAAAAAAIgxeAAAAAAAAgAiDFwAAAAAAACDC4AUAAAAA\n",
       "AACIMHgBAAAAAAAAIgxeAAAAAAAAgAiDFwAAAAAAACDC4AUAAAAAAACIMHgBAAAAAAAAIgxeAAAA\n",
       "AAAAgAiDFwAAAAAAACDC4AUAAAAAAACIMHgBAAAAAAAAIgxeAAAAAAAAgAiDFwAAAAAAACDC4AUA\n",
       "AAAAAACIMHgBAAAAAAAAIgxeAAAAAAAAgAiDFwAAAAAAACDC4AUAAAAAAACIMHgBAAAAAAAAIgxe\n",
       "AAAAAAAAgAiDFwAAAAAAACDC4AUAAAAAAACIMHgBAAAAAAAAIgxeAAAAAAAAgAiDFwAAAAAAACDC\n",
       "4AUAAAAAAACIMHgBAAAAAAAAIgxeAAAAAAAAgAiDFwAAAAAAACDC4AUAAAAAAACIMHgBAAAAAAAA\n",
       "IgxeAAAAAAAAgAiDFwAAAAAAACDC4AUAAAAAAACIMHgBAAAAAAAAIgxeAAAAAAAAgAiDFwAAAAAA\n",
       "ACDC4AUAAAAAAACIMHgBAAAAAAAAIgxeAAAAAAAAgAiDFwAAAAAAACDC4AUAAAAAAACIMHgBAAAA\n",
       "AAAAIgxeAAAAAAAAgAiDFwAAAAAAACDC4AUAAAAAAACIMHgBAAAAAAAAIgxeAAAAAAAAgAiDFwAA\n",
       "AAAAACDC4AUAAAAAAACIMHgBAAAAAAAAIgxeAAAAAAAAgAiDFwAAAAAAACDC4AUAAAAAAACIMHgB\n",
       "AAAAAAAAIgxeAAAAAAAAgAiDFwAAAAAAACDC4AUAAAAAAACIMHgBAAAAAAAAIgxeAAAAAAAAgAiD\n",
       "FwAAAAAAACDC4AUAAAAAAACIMHgBAAAAAAAAIgxeAAAAAAAAgAiDFwAAAAAAACDC4AUAAAAAAACI\n",
       "MHgBAAAAAAAAIgxeAAAAAAAAgAiDFwAAAAAAACDC4AUAAAAAAACIMHgBAAAAAAAAIgxeAAAAAAAA\n",
       "gAiDFwAAAAAAACDC4AUAAAAAAACIMHgBAAAAAAAAIgxeAAAAAAAAgAiDFwAAAAAAACDC4AUAAAAA\n",
       "AACIMHgBAAAAAAAAIgxeAAAAAAAAgAiDFwAAAAAAACDC4AUAAAAAAACIMHgBAAAAAAAAIgxeAAAA\n",
       "AAAAgAiDFwAAAAAAACDC4AUAAAAAAACIMHgBAAAAAAAAIgxeAAAAAAAAgAiDFwAAAAAAACDC4AUA\n",
       "AAAAAACIMHgBAAAAAAAAIgxeAAAAAAAAgAiDFwAAAAAAACDC4AUAAAAAAACIMHgBAAAAAAAAIgxe\n",
       "AAAAAAAAgAiDFwAAAAAAACDC4AUAAAAAAACIMHgBAAAAAAAAIgxeAAAAAAAAgAiDFwAAAAAAACDC\n",
       "4AUAAAAAAACIMHgBAAAAAAAAIgxeAAAAAAAAgAiDFwAAAAAAACDC4AUAAAAAAACIMHgBAAAAAAAA\n",
       "IgxeAAAAAAAAgAiDFwAAAAAAACDC4AUAAAAAAACIMHgBAAAAAAAAIgxeAAAAAAAAgAiDFwAAAAAA\n",
       "ACDC4AUAAAAAAACIMHgBAAAAAAAAIgxeAAAAAAAAgAiDFwAAAAAAACDC4AUAAAAAAACIMHgBAAAA\n",
       "AAAAIgxeAAAAAAAAgAiDFwAAAAAAACDC4AUAAAAAAACIMHgBAAAAAAAAIgxeAAAAAAAAgAiDFwAA\n",
       "AAAAACDC4AUAAAAAAACIMHgBAAAAAAAAIgxeAAAAAAAAgAiDFwAAAAAAACDC4AUAAAAAAACIMHgB\n",
       "AAAAAAAAIgxeAAAAAAAAgAiDFwAAAAAAACDC4AUAAAAAAACIMHgBAAAAAAAAIgxeAAAAAAAAgAiD\n",
       "FwAAAAAAACDC4AUAAAAAAACIMHgBAAAAAAAAIgxeAAAAAAAAgAiDFwAAAAAAACDC4AUAAAAAAACI\n",
       "MHgBAAAAAAAAIgxeAAAAAAAAgAiDFwAAAAAAACDC4AUAAAAAAACIMHgBAAAAAAAAIgxeAAAAAAAA\n",
       "gAiDFwAAAAAAACDC4AUAAAAAAACIMHgBAAAAAAAAIgxeAAAAAAAAgAiDFwAAAAAAACDC4AUAAAAA\n",
       "AACIMHgBAAAAAAAAIgxeAAAAAAAAgAiDFwAAAAAAACDC4AUAAAAAAACIMHgBAAAAAAAAIgxeAAAA\n",
       "AAAAgAiDFwAAAAAAACDC4AUAAAAAAACIMHgBAAAAAAB+9uyABAAAAEDQ/9ftCPSGABOCFwAAAAAA\n",
       "AGBC8AIAAAAAAABMCF4AAAAAAACACcELAAAAAAAAMCF4AQAAAAAAACYELwAAAAAAAMCE4AUAAAAA\n",
       "AACYELwAAAAAAAAAE4IXAAAAAAAAYELwAgAAAAAAAEwIXgAAAAAAAIAJwQsAAAAAAAAwIXgBAAAA\n",
       "AAAAJgQvAAAAAAAAwITgBQAAAAAAAJgQvAAAAAAAAAATghcAAAAAAABgQvACAAAAAAAATAheAAAA\n",
       "AAAAgAnBCwAAAAAAADAheAEAAAAAAAAmBC8AAAAAAADAhOAFAAAAAAAAmBC8AAAAAAAAABOCFwAA\n",
       "AAAAAGBC8AIAAAAAAABMCF4AAAAAAACACcELAAAAAAAAMCF4AQAAAAAAACYELwAAAAAAAMCE4AUA\n",
       "AAAAAACYELwAAAAAAAAAE4IXAAAAAAAAYELwAgAAAAAAAEwIXgAAAAAAAIAJwQsAAAAAAAAwIXgB\n",
       "AAAAAAAAJgQvAAAAAAAAwITgBQAAAAAAAJgQvAAAAAAAAAATghcAAAAAAABgQvACAAAAAAAATAhe\n",
       "AAAAAAAAgAnBCwAAAAAAADAheAEAAAAAAAAmBC8AAAAAAADAhOAFAAAAAAAAmBC8AAAAAAAAABOC\n",
       "FwAAAAAAAGBC8AIAAAAAAABMCF4AAAAAAACACcELAAAAAAAAMCF4AQAAAAAAACYELwAAAAAAAMCE\n",
       "4AUAAAAAAACYELwAAAAAAAAAE4IXAAAAAAAAYELwAgAAAAAAAEwIXgAAAAAAAIAJwQsAAAAAAAAw\n",
       "IXgBAAAAAAAAJgQvAAAAAAAAwITgBQAAAAAAAJgQvAAAAAAAAAATghcAAAAAAABgQvACAAAAAAAA\n",
       "TAheAAAAAAAAgAnBCwAAAAAAADAheAEAAAAAAAAmBC8AAAAAAADAhOAFAAAAAAAAmBC8AAAAAAAA\n",
       "ABOCFwAAAAAAAGBC8AIAAAAAAABMCF4AAAAAAACACcELAAAAAAAAMCF4AQAAAAAAACYELwAAAAAA\n",
       "AMCE4AUAAAAAAACYELwAAAAAAAAAE4IXAAAAAAAAYELwAgAAAAAAAEwIXgAAAAAAAIAJwQsAAAAA\n",
       "AAAwIXgBAAAAAAAAJgQvAAAAAAAAwITgBQAAAAAAAJgQvAAAAAAAAAATghcAAAAAAABgQvACAAAA\n",
       "AAAATAheAAAAAAAAgAnBCwAAAAAAADAheAEAAAAAAAAmBC8AAAAAAADAhOAFAAAAAAAAmBC8AAAA\n",
       "AAAAABOCFwAAAAAAAGBC8AIAAAAAAABMCF4AAAAAAACACcELAAAAAAAAMCF4AQAAAAAAACYELwAA\n",
       "AAAAAMCE4AUAAAAAAACYELwAAAAAAAAAE4IXAAAAAAAAYELwAgAAAAAAAEwIXgAAAAAAAIAJwQsA\n",
       "AAAAAAAwIXgBAAAAAAAAJgQvAAAAAAAAwITgBQAAAAAAAJgQvAAAAAAAAAATghcAAAAAAABgQvAC\n",
       "AAAAAAAATAheAAAAAAAAgAnBCwAAAAAAADAheAEAAAAAAAAmBC8AAAAAAADAhOAFAAAAAAAAmBC8\n",
       "AAAAAAAAABOCFwAAAAAAAGBC8AIAAAAAAABMCF4AAAAAAACACcELAAAAAAAAMCF4AQAAAAAAACYE\n",
       "LwAAAAAAAMCE4AUAAAAAAACYELwAAAAAAAAAE4IXAAAAAAAAYELwAgAAAAAAAEwIXgAAAAAAAIAJ\n",
       "wQsAAAAAAAAwIXgBAAAAAAAAJgQvAAAAAAAAwITgBQAAAAAAAJgQvAAAAAAAAAATghcAAAAAAABg\n",
       "QvACAAAAAAAATAheAAAAAAAAgAnBCwAAAAAAADAheAEAAAAAAAAmBC8AAAAAAADAhOAFAAAAAAAA\n",
       "mBC8AAAAAAAAABOCFwAAAAAAAGBC8AIAAAAAAABMCF4AAAAAAACACcELAAAAAAAAMCF4AQAAAAAA\n",
       "ACYELwAAAAAAAMCE4AUAAAAAAACYELwAAAAAAAAAE4IXAAAAAAAAYELwAgAAAAAAAEwIXgAAAAAA\n",
       "AIAJwQsAAAAAAAAwIXgBAAAAAAAAJgQvAAAAAAAAwITgBQAAAAAAAJgQvAAAAAAAAAATghcAAAAA\n",
       "AABgQvACAAAAAAAATAheAAAAAAAAgAnBCwAAAAAAADAheAEAAAAAAAAmBC8AAAAAAADAhOAFAAAA\n",
       "AAAAmBC8AAAAAAAAABOCFwAAAAAAAGBC8AIAAAAAAABMCF4AAAAAAACACcELAAAAAAAAMCF4AQAA\n",
       "AAAAACYELwAAAAAAAMCE4AUAAAAAAACYELwAAAAAAAAAE4IXAAAAAAAAYELwAgAAAAAAAEwIXgAA\n",
       "AAAAAIAJwQsAAAAAAAAwIXgBAAAAAAAAJgQvAAAAAAAAwITgBQAAAAAAAJgQvAAAAAAAAAATghcA\n",
       "AAAAAABgQvACAAAAAAAATAheAAAAAAAAgAnBCwAAAAAAADAheAEAAAAAAAAmBC8AAAAAAADAhOAF\n",
       "AAAAAAAAmBC8AAAAAAAAABOCFwAAAAAAAGBC8AIAAAAAAABMCF4AAAAAAACACcELAAAAAAAAMCF4\n",
       "AQAAAAAAACYELwAAAAAAAMCE4AUAAAAAAACYELwAAAAAAAAAE4IXAAAAAAAAYELwAgAAAAAAAEwI\n",
       "XgAAAAAAAIAJwQsAAAAAAAAwIXgBAAAAAAAAJgQvAAAAAAAAwITgBQAAAAAAAJgQvAAAAAAAAAAT\n",
       "ghcAAAAAAABgQvACAAAAAAAATAheAAAAAAAAgAnBCwAAAAAAADAheAEAAAAAAAAmBC8AAAAAAADA\n",
       "hOAFAAAAAAAAmBC8AAAAAAAAABOCFwAAAAAAAGBC8AIAAAAAAABMCF4AAAAAAACACcELAAAAAAAA\n",
       "MCF4AQAAAAAAACYELwAAAAAAAMCE4AUAAAAAAACYELwAAAAAAAAAE4IXAAAAAAAAYELwAgAAAAAA\n",
       "AEwIXgAAAAAAAIAJwQsAAAAAAAAwIXgBAAAAAAAAJgQvAAAAAAAAwITgBQAAAAAAAJgQvAAAAAAA\n",
       "AAATghcAAAAAAABgQvACAAAAAAAATAheAAAAAAAAgAnBCwAAAAAAADAheAEAAAAAAAAmBC8AAAAA\n",
       "AADAhOAFAAAAAAAAmBC8AAAAAAAAABOCFwAAAAAAAGBC8AIAAAAAAABMCF4AAAAAAACACcELAAAA\n",
       "AAAAMCF4AQAAAAAAACYELwAAAAAAAMCE4AUAAAAAAACYELwAAAAAAAAAE4IXAAAAAAAAYELwAgAA\n",
       "AAAAAEwIXgAAAAAAAIAJwQsAAAAAAAAwIXgBAAAAAAAAJgQvAAAAAAAAwITgBQAAAAAAAJgQvAAA\n",
       "AAAAAAATghcAAAAAAABgQvACAAAAAAAATAheAAAAAAAAgAnBCwAAAAAAADAheAEAAAAAAAAmBC8A\n",
       "AAAAAADAhOAFAAAAAAAAmBC8AAAAAAAAABOCFwAAAAAAAGBC8AIAAAAAAABMCF4AAAAAAACACcEL\n",
       "AAAAAAAAMCF4AQAAAAAAACYELwAAAAAAAMCE4AUAAAAAAACYELwAAAAAAAAAE4IXAAAAAAAAYELw\n",
       "AgAAAAAAAEwIXgAAAAAAAIAJwQsAAAAAAAAwIXgBAAAAAAAAJgQvAAAAAAAAwITgBQAAAAAAAJgQ\n",
       "vAAAAAAAAAATghcAAAAAAABgQvACAAAAAAAATAheAAAAAAAAgAnBCwAAAAAAADAheAEAAAAAAAAm\n",
       "BC8AAAAAAADAhOAFAAAAAAAAmBC8AAAAAAAAABOCFwAAAAAAAGBC8AIAAAAAAABMCF4AAAAAAACA\n",
       "CcELAAAAAAAAMCF4AQAAAAAAACYELwAAAO+u1HEAABcOSURBVAAAAMCE4AUAAAAAAACYELwAAAAA\n",
       "AAAAE4IXAAAAAAAAYELwAgAAAAAAAEwIXgAAAAAAAIAJwQsAAAAAAAAwIXgBAAAAAAAAJgQvAAAA\n",
       "AAAAwITgBQAAAAAAAJgQvAAAAAAAAAATghcAAAAAAABgQvACAAAAAAAATAheAAAAAAAAgAnBCwAA\n",
       "AAAAADAheAEAAAAAAAAmBC8AAAAAAADAhOAFAAAAAAAAmBC8AAAAAAAAABOCFwAAAAAAAGBC8AIA\n",
       "AAAAAABMCF4AAAAAAACACcELAAAAAAAAMCF4AQAAAAAAACYELwAAAAAAAMCE4AUAAAAAAACYELwA\n",
       "AAAAAAAAE4IXAAAAAAAAYELwAgAAAAAAAEwIXgAAAAAAAIAJwQsAAAAAAAAwIXgBAAAAAAAAJgQv\n",
       "AAAAAAAAwITgBQAAAAAAAJgQvAAAAAAAAAATghcAAAAAAABgQvACAAAAAAAATAheAAAAAAAAgAnB\n",
       "CwAAAAAAADAheAEAAAAAAAAmBC8AAAAAAADAhOAFAAAAAAAAmBC8AAAAAAAAABOCFwAAAAAAAGBC\n",
       "8AIAAAAAAABMCF4AAAAAAACACcELAAAAAAAAMCF4AQAAAAAAACYELwAAAAAAAMCE4AUAAAAAAACY\n",
       "ELwAAAAAAAAAE4IXAAAAAAAAYELwAgAAAAAAAEwIXgAAAAAAAIAJwQsAAAAAAAAwIXgBAAAAAAAA\n",
       "JgQvAAAAAAAAwITgBQAAAAAAAJgQvAAAAAAAAAATghcAAAAAAABgQvACAAAAAAAATAheAAAAAAAA\n",
       "gAnBCwAAAAAAADAheAEAAAAAAAAmBC8AAAAAAADAhOAFAAAAAAAAmBC8AAAAAAAAABOCFwAAAAAA\n",
       "AGBC8AIAAAAAAABMCF4AAAAAAACACcELAAAAAAAAMCF4AQAAAAAAACYELwAAAAAAAMCE4AUAAAAA\n",
       "AACYELwAAAAAAAAAE4IXAAAAAAAAYELwAgAAAAAAAEwIXgAAAAAAAIAJwQsAAAAAAAAwIXgBAAAA\n",
       "AAAAJgQvAAAAAAAAwITgBQAAAAAAAJgQvAAAAAAAAAATghcAAAAAAABgQvACAAAAAAAATAheAAAA\n",
       "AAAAgAnBCwAAAAAAADAheAEAAAAAAAAmBC8AAAAAAADAhOAFAAAAAAAAmBC8AAAAAAAAABOCFwAA\n",
       "AAAAAGBC8AIAAAAAAABMCF4AAAAAAACACcELAAAAAAAAMCF4AQAAAAAAACYELwAAAAAAAMCE4AUA\n",
       "AAAAAACYELwAAAAAAAAAE4IXAAAAAAAAYELwAgAAAAAAAEwIXgAAAAAAAIAJwQsAAAAAAAAwIXgB\n",
       "AAAAAAAAJgQvAAAAAAAAwITgBQAAAAAAAJgQvAAAAAAAAAATghcAAAAAAABgQvACAAAAAAAATAhe\n",
       "AAAAAAAAgAnBCwAAAAAAADAheAEAAAAAAAAmBC8AAAAAAADAhOAFAAAAAAAAmBC8AAAAAAAAABOC\n",
       "FwAAAAAAAGBC8AIAAAAAAABMCF4AAAAAAACACcELAAAAAAAAMCF4AQAAAAAAACYELwAAAAAAAMCE\n",
       "4AUAAAAAAACYELwAAAAAAAAAE4IXAAAAAAAAYELwAgAAAAAAAEwIXgAAAAAAAIAJwQsAAAAAAAAw\n",
       "IXgBAAAAAAAAJgQvAAAAAAAAwITgBQAAAAAAAJgQvAAAAAAAAAATghcAAAAAAABgQvACAAAAAAAA\n",
       "TAheAAAAAAAAgAnBCwAAAAAAADAheAEAAAAAAAAmBC8AAAAAAADAhOAFAAAAAAAAmBC8AAAAAAAA\n",
       "ABOCFwAAAAAAAGBC8AIAAAAAAABMCF4AAAAAAACACcELAAAAAAAAMCF4AQAAAAAAACYELwAAAAAA\n",
       "AMCE4AUAAAAAAACYELwAAAAAAAAAE4IXAAAAAAAAYELwAgAAAAAAAEwIXgAAAAAAAIAJwQsAAAAA\n",
       "AAAwIXgBAAAAAAAAJgQvAAAAAAAAwITgBQAAAAAAAJgQvAAAAAAAAAATghcAAAAAAABgQvACAAAA\n",
       "AAAATAheAAAAAAAAgAnBCwAAAAAAADAheAEAAAAAAAAmBC8AAAAAAADAhOAFAAAAAAAAmBC8AAAA\n",
       "AAAAABOCFwAAAAAAAGBC8AIAAAAAAABMCF4AAAAAAACACcELAAAAAAAAMCF4AQAAAAAAACYELwAA\n",
       "AAAAAMCE4AUAAAAAAACYELwAAAAAAAAAE4IXAAAAAAAAYELwAgAAAAAAAEwIXgAAAAAAAIAJwQsA\n",
       "AAAAAAAwIXgBAAAAAAAAJgQvAAAAAAAAwITgBQAAAAAAAJgQvAAAAAAAAAATghcAAAAAAABgQvAC\n",
       "AAAAAAAATAheAAAAAAAAgAnBCwAAAAAAADAheAEAAAAAAAAmBC8AAAAAAADAhOAFAAAAAAAAmBC8\n",
       "AAAAAAAAABOCFwAAAAAAAGBC8AIAAAAAAABMCF4AAAAAAACACcELAAAAAAAAMCF4AQAAAAAAACYE\n",
       "LwAAAAAAAMCE4AUAAAAAAACYELwAAAAAAAAAE4IXAAAAAAAAYELwAgAAAAAAAEwIXgAAAAAAAIAJ\n",
       "wQsAAAAAAAAwIXgBAAAAAAAAJgQvAAAAAAAAwITgBQAAAAAAAJgQvAAAAAAAAAATghcAAAAAAABg\n",
       "QvACAAAAAAAATAheAAAAAAAAgAnBCwAAAAAAADAheAEAAAAAAAAmBC8AAAAAAADAhOAFAAAAAAAA\n",
       "mBC8AAAAAAAAABOCFwAAAAAAAGBC8AIAAAAAAABMCF4AAAAAAACACcELAAAAAAAAMCF4AQAAAAAA\n",
       "ACYELwAAAAAAAMCE4AUAAAAAAACYELwAAAAAAAAAE4IXAAAAAAAAYELwAgAAAAAAAEwIXgAAAAAA\n",
       "AIAJwQsAAAAAAAAwIXgBAAAAAAAAJgQvAAAAAAAAwITgBQAAAAAAAJgQvAAAAAAAAAATghcAAAAA\n",
       "AABgQvACAAAAAAAATAheAAAAAAAAgAnBCwAAAAAAADAheAEAAAAAAAAmBC8AAAAAAADAhOAFAAAA\n",
       "AAAAmBC8AAAAAAAAABOCFwAAAAAAAGBC8AIAAAAAAABMCF4AAAAAAACACcELAAAAAAAAMCF4AQAA\n",
       "AAAAACYELwAAAAAAAMCE4AUAAAAAAACYELwAAAAAAAAAE4IXAAAAAAAAYELwAgAAAAAAAEwIXgAA\n",
       "AAAAAIAJwQsAAAAAAAAwIXgBAAAAAAAAJgQvAAAAAAAAwITgBQAAAAAAAJgQvAAAAAAAAAATghcA\n",
       "AAAAAABgQvACAAAAAAAAtW/HKA1FURRF85OLhUIqsRDBRhyZU3DU6RyA2tkJr3tsWGsEp98cIgRe\n",
       "AAAAAAAAgAiBFwAAAAAAACBC4AUAAAAAAACIEHgBAAAAAAAAIgReAAAAAAAAgAiBFwAAAAAAACBC\n",
       "4AUAAAAAAACIEHgBAAAAAAAAIgReAAAAAAAAgAiBFwAAAAAAACBC4AUAAAAAAACIEHgBAAAAAAAA\n",
       "IgReAAAAAAAAgAiBFwAAAAAAACBC4AUAAAAAAACIEHgBAAAAAAAAIgReAAAAAAAAgAiBFwAAAAAA\n",
       "ACBC4AUAAAAAAACIEHgBAAAAAAAAIgReAAAAAAAAgAiBFwAAAAAAACBC4AUAAAAAAACIEHgBAAAA\n",
       "AAAAIgReAAAAAAAAgAiBFwAAAAAAACBC4AUAAAAAAACIEHgBAAAAAAAAIgReAAAAAAAAgAiBFwAA\n",
       "AAAAACBC4AUAAAAAAACIEHgBAAAAAAAAIgReAAAAAAAAgAiBFwAAAAAAACBC4AUAAAAAAACIEHgB\n",
       "AAAAAAAAIgReAAAAAAAAgAiBFwAAAAAAACBC4AUAAAAAAACIEHgBAAAAAAAAIgReAAAAAAAAgAiB\n",
       "FwAAAAAAACBC4AUAAAAAAACIEHgBAAAAAAAAIgReAAAAAAAAgAiBFwAAAAAAACBC4AUAAAAAAACI\n",
       "EHgBAAAAAAAAIgReAAAAAAAAgAiBFwAAAAAAACBC4AUAAAAAAACIEHgBAAAAAAAAIgReAAAAAAAA\n",
       "gAiBFwAAAAAAACBC4AUAAAAAAACIEHgBAAAAAAAAIgReAAAAAAAAgAiBFwAAAAAAACBC4AUAAAAA\n",
       "AACIEHgBAAAAAAAAIgReAAAAAAAAgAiBFwAAAAAAACBC4AUAAAAAAACIEHgBAAAAAAAAIgReAAAA\n",
       "AAAAgAiBFwAAAAAAACBC4AUAAAAAAACIEHgBAAAAAAAAIgReAAAAAAAAgAiBFwAAAAAAACBC4AUA\n",
       "AAAAAACIEHgBAAAAAAAAIgReAAAAAAAAgAiBFwAAAAAAACBC4AUAAAAAAACIEHgBAAAAAAAAIgRe\n",
       "AAAAAAAAgAiBFwAAAAAAACBC4AUAAAAAAACIEHgBAAAAAAAAIgReAAAAAAAAgAiBFwAAAAAAACBC\n",
       "4AUAAAAAAACIEHgBAAAAAAAAIgReAAAAAAAAgAiBFwAAAAAAACBC4AUAAAAAAACIEHgBAAAAAAAA\n",
       "IgReAAAAAAAAgAiBFwAAAAAAACBC4AUAAAAAAACIEHgBAAAAAAAAIgReAAAAAAAAgAiBFwAAAAAA\n",
       "ACBC4AUAAAAAAACIEHgBAAAAAAAAIgReAAAAAAAAgAiBFwAAAAAAACBC4AUAAAAAAACIEHgBAAAA\n",
       "AAAAIgReAAAAAAAAgAiBFwAAAAAAACBC4AUAAAAAAACIEHgBAAAAAAAAIgReAAAAAAAAgAiBFwAA\n",
       "AAAAACBC4AUAAAAAAACIEHgBAAAAAAAAIgReAAAAAAAAgAiBFwAAAAAAACBC4AUAAAAAAACIEHgB\n",
       "AAAAAAAAIgReAAAAAAAAgAiBFwAAAAAAACBC4AUAAAAAAACIEHgBAAAAAAAAIgReAAAAAAAAgAiB\n",
       "FwAAAAAAACBC4AUAAAAAAACIEHgBAAAAAAAAIgReAAAAAAAAgAiBFwAAAAAAACBC4AUAAAAAAACI\n",
       "EHgBAAAAAAAAIgReAAAAAAAAgAiBFwAAAAAAACBC4AUAAAAAAACIEHgBAAAAAAAAIgReAAAAAAAA\n",
       "gAiBFwAAAAAAACBC4AUAAAAAAACIEHgBAAAAAAAAIgReAAAAAAAAgAiBFwAAAAAAACBC4AUAAAAA\n",
       "AACIEHgBAAAAAAAAIgReAAAAAAAAgAiBFwAAAAAAACBC4AUAAAAAAACIEHgBAAAAAAAAIgReAAAA\n",
       "AAAAgAiBFwAAAAAAACBC4AUAAAAAAACIEHgBAAAAAAAAIgReAAAAAAAAgAiBFwAAAAAAACBC4AUA\n",
       "AAAAAACIEHgBAAAAAAAAIgReAAAAAAAAgAiBFwAAAAAAACBC4AUAAAAAAACIEHgBAAAAAAAAIgRe\n",
       "AAAAAAAAgAiBFwAAAAAAACBC4AUAAAAAAACIEHgBAAAAAAAAIgReAAAAAAAAgAiBFwAAAAAAACBC\n",
       "4AUAAAAAAACIEHgBAAAAAAAAIgReAAAAAAAAgAiBFwAAAAAAACBC4AUAAAAAAACIEHgBAAAAAAAA\n",
       "IgReAAAAAAAAgAiBFwAAAAAAACBC4AUAAAAAAACIEHgBAAAAAAAAIgReAAAAAAAAgAiBFwAAAAAA\n",
       "ACBC4AUAAAAAAACIEHgBAAAAAAAAIgReAAAAAAAAgAiBFwAAAAAAACBC4AUAAAAAAACIEHgBAAAA\n",
       "AAAAIgReAAAAAAAAgAiBFwAAAAAAACBC4AUAAAAAAACIEHgBAAAAAAAAIgReAAAAAAAAgAiBFwAA\n",
       "AAAAACBC4AUAAAAAAACIEHgBAAAAAAAAIgReAAAAAAAAgAiBFwAAAAAAACBC4AUAAAAAAACIEHgB\n",
       "AAAAAAAAIgReAAAAAAAAgAiBFwAAAAAAACBC4AUAAAAAAACIEHgBAAAAAAAAIgReAAAAAAAAgAiB\n",
       "FwAAAAAAACBC4AUAAAAAAACIEHgBAAAAAAAAIgReAAAAAAAAgAiBFwAAAAAAACBC4AUAAAAAAACI\n",
       "EHgBAAAAAAAAIgReAAAAAAAAgAiBFwAAAAAAACBC4AUAAAAAAACIEHgBAAAAAAAAIgReAAAAAAAA\n",
       "gAiBFwAAAAAAACBC4AUAAAAAAACIEHgBAAAAAAAAIgReAAAAAAAAgAiBFwAAAAAAACBC4AUAAAAA\n",
       "AACIEHgBAAAAAAAAIgReAAAAAAAAgAiBFwAAAAAAACBC4AUAAAAAAACIEHgBAAAAAAAAIgReAAAA\n",
       "AAAAgAiBFwAAAAAAACBC4AUAAAAAAACIEHgBAAAAAAAAIgReAAAAAAAAgAiBFwAAAAAAACBC4AUA\n",
       "AAAAAACIEHgBAAAAAAAAIgReAAAAAAAAgAiBFwAAAAAAACBC4AUAAAAAAACIEHgBAAAAAAAAIgRe\n",
       "AAAAAAAAgAiBFwAAAAAAACBC4AUAAAAAAACIEHgBAAAAAAAAIgReAAAAAAAAgAiBFwAAAAAAACBC\n",
       "4AUAAAAAAACIEHgBAAAAAAAAIgReAAAAAAAAgAiBFwAAAAAAACBC4AUAAAAAAACIEHgBAAAAAAAA\n",
       "IgReAAAAAAAAgAiBFwAAAAAAACBC4AUAAAAAAACIEHgBAAAAAAAAIgReAAAAAAAAgAiBFwAAAAAA\n",
       "ACBC4AUAAAAAAACIEHgBAAAAAAAAIgReAAAAAAAAgAiBFwAAAAAAACBC4AUAAAAAAACIEHgBAAAA\n",
       "AAAAIgReAAAAAAAAgAiBFwAAAAAAACBC4AUAAAAAAACIEHgBAAAAAAAAIgReAAAAAAAAgAiBFwAA\n",
       "AAAAACBC4AUAAAAAAACIEHgBAAAAAAAAIgReAAAAAAAAgAiBFwAAAAAAACBC4AUAAAAAAACIEHgB\n",
       "AAAAAAAAIgReAAAAAAAAgAiBFwAAAAAAACBC4AUAAAAAAACIEHgBAAAAAAAAIgReAAAAAAAAgAiB\n",
       "FwAAAAAAACBC4AUAAAAAAACIEHgBAAAAAAAAIgReAAAAAAAAgAiBFwAAAAAAACBC4AUAAAAAAACI\n",
       "EHgBAAAAAAAAIgReAAAAAAAAgAiBFwAAAAAAACBC4AUAAAAAAACIEHgBAAAAAAAAIgReAAAAAAAA\n",
       "gAiBFwAAAAAAACBC4AUAAAAAAACIEHgBAAAAAAAAIgReAAAAAAAAgAiBFwAAAAAAACBC4AUAAAAA\n",
       "AACIEHgBAAAAAAAAIgReAAAAAAAAgAiBFwAAAAAAACBC4AUAAAAAAACIEHgBAAAAAAAAIgReAAAA\n",
       "AAAAgAiBFwAAAAAAACBC4AUAAAAAAACIEHgBAAAAAAAAIgReAAAAAAAAgAiBFwAAAAAAACBC4AUA\n",
       "AAAAAACIEHgBAAAAAAAAIgReAAAAAAAAgAiBFwAAAAAAACBC4AUAAAAAAACIEHgBAAAAAAAAIgRe\n",
       "AAAAAAAAgAiBFwAAAAAAACBC4AUAAAAAAACIEHgBAAAAAAAAIgReAAAAAAAAgAiBFwAAAAAAACBC\n",
       "4AUAAAAAAACIEHgBAAAAAAAAIgReAAAAAAAAgAiBFwAAAAAAACBC4AUAAAAAAACIEHgBAAAAAAAA\n",
       "IgReAAAAAAAAgAiBFwAAAAAAACBC4AUAAAAAAACIEHgBAAAAAAAAIgReAAAAAAAAgAiBFwAAAAAA\n",
       "ACBC4AUAAAAAAACIEHgBAAAAAAAAIgReAAAAAAAAgAiBFwAAAAAAACBC4AUAAAAAAACIEHgBAAAA\n",
       "AAAAIgReAAAAAAAAgAiBFwAAAAAAACBC4AUAAAAAAACIEHgBAAAAAAAAIgReAAAAAAAAgAiBFwAA\n",
       "AAAAACBC4AUAAAAAAACImON07N4AAAAAAAAAwAIPXgAAAAAAAICIOR0aLwAAAAAAAEDBOPECAAAA\n",
       "AAAANMxxXHZvAAAAAAAAAGDBXM4PuzcAAAAAAAAAsGDmfL97AwAAAAAAAAAL5vHubfcGAAAAAAAA\n",
       "ABbM0/fz7g0AAAAAAAAALJjXue7eAAAAAAAAAMCC+Xi/7d4AAAAAAAAAwILj6/PlZ/cIAAAAAAAA\n",
       "+KNewb9+ARqcExOfRh2+AAAAAElFTkSuQmCC\n",
       "\" transform=\"translate(201, 47)\"/>\n",
       "</g>\n",
       "<defs>\n",
       "  <clipPath id=\"clip893\">\n",
       "    <rect x=\"2160\" y=\"47\" width=\"73\" height=\"1440\"/>\n",
       "  </clipPath>\n",
       "</defs>\n",
       "<g clip-path=\"url(#clip893)\">\n",
       "<image width=\"72\" height=\"1439\" xlink:href=\"data:image/png;base64,\n",
       "iVBORw0KGgoAAAANSUhEUgAAAEgAAAWfCAYAAAAI7rB3AAAMWUlEQVR4nO3dwY0rRxAFwaZQ/lsh\n",
       "L6XfLQtUeSQPERYsEg8c9MyQ+/n3/v0O/+uvb/8Bv06gIFAQKAgU5r5/v/03/DQLCgIFgYJAQaAw\n",
       "7/359t/w0ywoCBQECgIFR41gQUGgIFAQKAgU5rmKrSwoCBQECgIFgcK86yq2saAgUBAoCBQcNYIF\n",
       "BYGCQEGgIFBwFQsWFAQKAgWBgvtBwYKCQEGgIFAQKMxx1FhZUBAoCBQECgIFN8yCBQWBgkBBoDDH\n",
       "DbOVBQWBgkBBoCBQmHP/+fbf8NMsKAgUBAoCBYGCxz7BgoJAQaAgUHDDLFhQECgIFAQKAgVXsWBB\n",
       "QaAgUBAouB8ULCgIFAQKAgWBwnwcNVYWFAQKAgWBgkBhzvWfWTYWFAQKAgWBgqNGsKAgUBAoCBQE\n",
       "Co4awYKCQEGgIFAQKHjDLFhQECgIFAQK83HUWFlQECgIFAQKAgXvSQcLCgIFgYJAwVEjWFAQKAgU\n",
       "BAoCBc/mgwUFgYJAQaAgUHAWCxYUBAoCBYGCo0awoCBQECgIFAQKjhrBgoJAQaAgUBAozLn323/D\n",
       "T7OgIFAQKAgUHDWCBQWBgkBBoCBQ8NgnWFAQKAgUBAo+pIMFBYGCQEGgIFCYj6caKwsKAgWBgkBB\n",
       "oOAsFiwoCBQECgIFL1AFCwoCBYGCQEGg4IZZsKAgUBAoCBTcDwoWFAQKAgWBgkDBDbNgQUGgIFAQ\n",
       "KAgUXMWCBQWBgkBBoOB788GCgkBBoCBQECg4agQLCgIFgYJAQaDgKhYsKAgUBAoCBR/SwYKCQEGg\n",
       "IFAQKLiKBQsKAgWBgkBhzvMhvbGgIFAQKAgUBAqOGsGCgkBBoCBQECi4igULCgIFgYJAwYd0sKAg\n",
       "UBAoCBQECnPu+/bf8NMsKAgUBAoCBYGCs1iwoCBQECgIFBw1ggUFgYJAQaAgUHDUCBYUBAoCBYGC\n",
       "o0awoCBQECgIFAQKc5w0VhYUBAoCBYGCQGHOcxbbWFAQKAgUBAqOGsGCgkBBoCBQECi4igULCgIF\n",
       "gYJAQaAwfohzZ0FBoCBQECg4agQLCgIFgYJAQaDgKhYsKAgUBAoChTn38+2/4adZUBAoCBQECgKF\n",
       "ec9VbGNBQaAgUBAoCBTcMAsWFAQKAgWBghtmwYKCQEGgIFAQKMy7Gm3UCQIFgYJAwVEjWFAQKAgU\n",
       "BAoChTmeza8sKAgUBAoCBYHCPGexlQUFgYJAQaAwx1ONlTpBoCBQECgIFBw1ggUFgYJAQaAgUPDY\n",
       "J1hQECgIFAQKXgMO6gSBgkBBoCBQ8J50sKAgUBAoCBQ81QgWFAQKAgWBgkBh3tNoo04QKAgUBAoC\n",
       "BTfMggUFgYJAQaDghlmwoCBQECgIFAQKc9wwW6kTBAoCBYGCQMFZLFhQECgIFAQKPqSDBQWBgkBB\n",
       "oCBQ8L35YEFBoCBQECj43nxQJwgUBAoCBYHCPEeNlQUFgYJAQaAgUPDYJ1hQECgIFAQK/jNLUCcI\n",
       "FAQKAgWBghtmwYKCQEGgIFAQKLhhFiwoCBQECgIFR41gQUGgIFAQKAgUvCcd1AkCBYGCQMFRI1hQ\n",
       "ECgIFAQKAgVPNYIFBYGCQEGgIFBwFgsWFAQKAgWBgn+fFSwoCBQECgIFgYJ/ZRzUCQIFgYJAQaDg\n",
       "hlmwoCBQECgIFDybDxYUBAoCBYGCQMFRI1hQECgIFAQKc31IrywoCBQECgIFgYLvzQd1gkBBoCBQ\n",
       "ECi4YRYsKAgUBAoCBR/SwYKCQEGgIFAQKHjDLFhQECgIFAQKjhrBgoJAQaAgUBAouIoFCwoCBYGC\n",
       "QEGg4NdfgjpBoCBQECjM9VRjZUFBoCBQECgIFNwwCxYUBAoCBYGCQMFVLFhQECgIFAQKPqSDBQWB\n",
       "gkBBoCBQ8BtmwYKCQEGgIFBw1AgWFAQKAgWBgkDBVSxYUBAoCBQECgIFX2YJ6gSBgkBBoODLLMGC\n",
       "gkBBoCBQECi4YRYsKAgUBAoCBYGCq1iwoCBQECgIFLwGHCwoCBQECgIFgYKjRrCgIFAQKAgU5h0f\n",
       "0hsLCgIFgYJAQaDghlmwoCBQECgIFAQKbpgFCwoCBYGCQMFRI1hQECgIFAQKAgVHjWBBQaAgUBAo\n",
       "CBScxYIFBYGCQEGg4KgRLCgIFAQKAgWBgqtYsKAgUBAoCBTm+jLLyoKCQEGgIFAQKDhqBAsKAgWB\n",
       "gkBBoODZfLCgIFAQKAgU5r1v/wm/zYKCQEGgIFAQKDhqBAsKAgWBgkDBD00GCwoCBYGCQEGg4KgR\n",
       "LCgIFAQKAgWBgjfMggUFgYJAQaDgyyzBgoJAQaAgUBAoeMMsWFAQKAgUBAoCBY99ggUFgYJAQaDg\n",
       "qUawoCBQECgIFAQKHvsECwoCBYGCQMH9oGBBQaAgUBAoCBQ8mw8WFAQKAgWBgkDBDbNgQUGgIFAQ\n",
       "KHg2HywoCBQECgIFgcLcb/8FP86CgkBBoCBQECg4iwULCgIFgYJAwRtmwYKCQEGgIFAQKLhhFiwo\n",
       "CBQECgIF94OCBQWBgkBBoCBQcNQIFhQECgIFgYJAwVksWFAQKAgUBAqezQcLCgIFgYJAQaAwfvxl\n",
       "Z0FBoCBQECgIFJzFggUFgYJAQaDg2XywoCBQECgIFAQKns0HCwoCBYGCQMFRI1hQECgIFAQKAgVH\n",
       "jWBBQaAgUBAoCBTmesVsZUFBoCBQECi4YRYsKAgUBAoCBYGCG2bBgoJAQaAgUHDUCBYUBAoCBYGC\n",
       "QGGepxorCwoCBYGCQEGgMPe4YbaxoCBQECgIFLxAFSwoCBQECgIFgYIfmgwWFAQKAgWBgkDBD00G\n",
       "CwoCBYGCQMGz+WBBQaAgUBAoCBS8Jx0sKAgUBAoCBd84DBYUBAoCBYGCQMFRI1hQECgIFAQKAgXv\n",
       "SQcLCgIFgYJAwWvAwYKCQEGgIFAQKDhqBAsKAgWBgkBBoOA96WBBQaAgUBAo+ImuYEFBoCBQECgI\n",
       "FNwwCxYUBAoCBYGCZ/PBgoJAQaAgUBAoOGoECwoCBYGCQEGg4CwWLCgIFAQKAgVHjWBBQaAgUBAo\n",
       "CBRcxYIFBYGCQEGgIFBwwyxYUBAoCBQECo4awYKCQEGgIFAQKDhqBAsKAgWBgkDBUSNYUBAoCBQE\n",
       "CgIFP9EVLCgIFAQKAgWBgv8vFiwoCBQECgIFN8yCBQWBgkBBoCBQmHdcxjYWFAQKAgWBgkDBWSxY\n",
       "UBAoCBQECp7NBwsKAgWBgkBBoODZfLCgIFAQKAgU3A8KFhQECgIFgYJAwbP5YEFBoCBQECgIFJzF\n",
       "ggUFgYJAQaDgJ7qCBQWBgkBBoCBQmOsVs5UFBYGCQEGg4AWqYEFBoCBQECgIFOY5aqwsKAgUBAoC\n",
       "BYGCs1iwoCBQECgIFDzVCBYUBAoCBYGCQMEbZsGCgkBBoCBQECjM9ZXMlQUFgYJAQaDghlmwoCBQ\n",
       "ECgIFAQKfv0lWFAQKAgUBApeoAoWFAQKAgWBgkDBU41gQUGgIFAQKAgU3DALFhQECgIFgcLc45bZ\n",
       "xoKCQEGgIFAQKLhhFiwoCBQECgIFgYKrWLCgIFAQKAgUPNUIFhQECgIFgYJAwWOfYEFBoCBQECjM\n",
       "/ThqbCwoCBQECgIFgYKjRrCgIFAQKAgUBArzXMVWFhQECgIFgYKjRrCgIFAQKAgUBApzP65iGwsK\n",
       "AgWBgkBBoOAsFiwoCBQECgIFTzWCBQWBgkBBoCBQcNQIFhQECgIFgYIP6WBBQaAgUBAoCBQ8mw8W\n",
       "FAQKAgWBgkBh3vnz7b/hp1lQECgIFAQKbpgFCwoCBYGCQEGg4A2zYEFBoCBQECjMfe4HbSwoCBQE\n",
       "CgIFgYKjRrCgIFAQKAgUBApzPZtfWVAQKAgUBAqOGsGCgkBBoCBQECg4agQLCgIFgYJAQaAw7zmL\n",
       "bSwoCBQECgIFN8yCBQWBgkBBoCBQ8J50sKAgUBAoCBQcNYIFBYGCQEGgIFCY56ixsqAgUBAoCBQE\n",
       "Cs5iwYKCQEGgIFCY6wWqlQUFgYJAQaAgUPCb9sGCgkBBoCBQECj4MkuwoCBQECgIFDzVCBYUBAoC\n",
       "BYGCQMFRI1hQECgIFAQKPqSDBQWBgkBBoCBQ8Gw+WFAQKAgUBAoCBWexYEFBoCBQECjM8Wx+ZUFB\n",
       "oCBQECgIFBw1ggUFgYJAQaAgUPCedLCgIFAQKAgU5jhqrCwoCBQECgIFgYI3zIIFBYGCQEGg4Nl8\n",
       "sKAgUBAoCBQECm6YBQsKAgWBgkBBoDDvvG//DT/NgoJAQaAgUHDDLFhQECgIFAQKAoU5jhorCwoC\n",
       "BYGCQOE/LrLuTX/wFc8AAAAASUVORK5CYII=\n",
       "\" transform=\"translate(2161, 47)\"/>\n",
       "</g>\n",
       "<path clip-path=\"url(#clip890)\" d=\"M2268.76 1371.91 L2298.43 1371.91 L2298.43 1375.84 L2268.76 1375.84 L2268.76 1371.91 Z\" fill=\"#000000\" fill-rule=\"nonzero\" fill-opacity=\"1\" /><path clip-path=\"url(#clip890)\" d=\"M2307.34 1354.17 L2329.57 1354.17 L2329.57 1356.16 L2317.02 1388.73 L2312.14 1388.73 L2323.94 1358.11 L2307.34 1358.11 L2307.34 1354.17 Z\" fill=\"#000000\" fill-rule=\"nonzero\" fill-opacity=\"1\" /><path clip-path=\"url(#clip890)\" d=\"M2348.69 1357.25 Q2345.07 1357.25 2343.25 1360.82 Q2341.44 1364.36 2341.44 1371.49 Q2341.44 1378.6 2343.25 1382.16 Q2345.07 1385.7 2348.69 1385.7 Q2352.32 1385.7 2354.13 1382.16 Q2355.95 1378.6 2355.95 1371.49 Q2355.95 1364.36 2354.13 1360.82 Q2352.32 1357.25 2348.69 1357.25 M2348.69 1353.55 Q2354.5 1353.55 2357.55 1358.16 Q2360.63 1362.74 2360.63 1371.49 Q2360.63 1380.22 2357.55 1384.82 Q2354.5 1389.41 2348.69 1389.41 Q2342.88 1389.41 2339.8 1384.82 Q2336.74 1380.22 2336.74 1371.49 Q2336.74 1362.74 2339.8 1358.16 Q2342.88 1353.55 2348.69 1353.55 Z\" fill=\"#000000\" fill-rule=\"nonzero\" fill-opacity=\"1\" /><path clip-path=\"url(#clip890)\" d=\"M2378.85 1357.25 Q2375.24 1357.25 2373.41 1360.82 Q2371.6 1364.36 2371.6 1371.49 Q2371.6 1378.6 2373.41 1382.16 Q2375.24 1385.7 2378.85 1385.7 Q2382.48 1385.7 2384.29 1382.16 Q2386.12 1378.6 2386.12 1371.49 Q2386.12 1364.36 2384.29 1360.82 Q2382.48 1357.25 2378.85 1357.25 M2378.85 1353.55 Q2384.66 1353.55 2387.71 1358.16 Q2390.79 1362.74 2390.79 1371.49 Q2390.79 1380.22 2387.71 1384.82 Q2384.66 1389.41 2378.85 1389.41 Q2373.04 1389.41 2369.96 1384.82 Q2366.9 1380.22 2366.9 1371.49 Q2366.9 1362.74 2369.96 1358.16 Q2373.04 1353.55 2378.85 1353.55 Z\" fill=\"#000000\" fill-rule=\"nonzero\" fill-opacity=\"1\" /><polyline clip-path=\"url(#clip890)\" style=\"stroke:#000000; stroke-linecap:round; stroke-linejoin:round; stroke-width:4; stroke-opacity:1; fill:none\" points=\"2232.76,1375.08 2256.76,1375.08 \"/>\n",
       "<path clip-path=\"url(#clip890)\" d=\"M2268.76 1183.83 L2298.43 1183.83 L2298.43 1187.76 L2268.76 1187.76 L2268.76 1183.83 Z\" fill=\"#000000\" fill-rule=\"nonzero\" fill-opacity=\"1\" /><path clip-path=\"url(#clip890)\" d=\"M2319.1 1181.51 Q2315.95 1181.51 2314.1 1183.66 Q2312.27 1185.82 2312.27 1189.57 Q2312.27 1193.29 2314.1 1195.47 Q2315.95 1197.62 2319.1 1197.62 Q2322.25 1197.62 2324.08 1195.47 Q2325.93 1193.29 2325.93 1189.57 Q2325.93 1185.82 2324.08 1183.66 Q2322.25 1181.51 2319.1 1181.51 M2328.39 1166.86 L2328.39 1171.12 Q2326.63 1170.28 2324.82 1169.84 Q2323.04 1169.4 2321.28 1169.4 Q2316.65 1169.4 2314.2 1172.53 Q2311.76 1175.65 2311.42 1181.97 Q2312.78 1179.96 2314.84 1178.9 Q2316.9 1177.81 2319.38 1177.81 Q2324.59 1177.81 2327.6 1180.98 Q2330.63 1184.13 2330.63 1189.57 Q2330.63 1194.89 2327.48 1198.11 Q2324.33 1201.33 2319.1 1201.33 Q2313.11 1201.33 2309.94 1196.74 Q2306.76 1192.14 2306.76 1183.41 Q2306.76 1175.22 2310.65 1170.35 Q2314.54 1165.47 2321.09 1165.47 Q2322.85 1165.47 2324.64 1165.82 Q2326.44 1166.16 2328.39 1166.86 Z\" fill=\"#000000\" fill-rule=\"nonzero\" fill-opacity=\"1\" /><path clip-path=\"url(#clip890)\" d=\"M2348.69 1169.17 Q2345.07 1169.17 2343.25 1172.74 Q2341.44 1176.28 2341.44 1183.41 Q2341.44 1190.52 2343.25 1194.08 Q2345.07 1197.62 2348.69 1197.62 Q2352.32 1197.62 2354.13 1194.08 Q2355.95 1190.52 2355.95 1183.41 Q2355.95 1176.28 2354.13 1172.74 Q2352.32 1169.17 2348.69 1169.17 M2348.69 1165.47 Q2354.5 1165.47 2357.55 1170.08 Q2360.63 1174.66 2360.63 1183.41 Q2360.63 1192.14 2357.55 1196.74 Q2354.5 1201.33 2348.69 1201.33 Q2342.88 1201.33 2339.8 1196.74 Q2336.74 1192.14 2336.74 1183.41 Q2336.74 1174.66 2339.8 1170.08 Q2342.88 1165.47 2348.69 1165.47 Z\" fill=\"#000000\" fill-rule=\"nonzero\" fill-opacity=\"1\" /><path clip-path=\"url(#clip890)\" d=\"M2378.85 1169.17 Q2375.24 1169.17 2373.41 1172.74 Q2371.6 1176.28 2371.6 1183.41 Q2371.6 1190.52 2373.41 1194.08 Q2375.24 1197.62 2378.85 1197.62 Q2382.48 1197.62 2384.29 1194.08 Q2386.12 1190.52 2386.12 1183.41 Q2386.12 1176.28 2384.29 1172.74 Q2382.48 1169.17 2378.85 1169.17 M2378.85 1165.47 Q2384.66 1165.47 2387.71 1170.08 Q2390.79 1174.66 2390.79 1183.41 Q2390.79 1192.14 2387.71 1196.74 Q2384.66 1201.33 2378.85 1201.33 Q2373.04 1201.33 2369.96 1196.74 Q2366.9 1192.14 2366.9 1183.41 Q2366.9 1174.66 2369.96 1170.08 Q2373.04 1165.47 2378.85 1165.47 Z\" fill=\"#000000\" fill-rule=\"nonzero\" fill-opacity=\"1\" /><polyline clip-path=\"url(#clip890)\" style=\"stroke:#000000; stroke-linecap:round; stroke-linejoin:round; stroke-width:4; stroke-opacity:1; fill:none\" points=\"2232.76,1187 2256.76,1187 \"/>\n",
       "<path clip-path=\"url(#clip890)\" d=\"M2268.76 995.747 L2298.43 995.747 L2298.43 999.682 L2268.76 999.682 L2268.76 995.747 Z\" fill=\"#000000\" fill-rule=\"nonzero\" fill-opacity=\"1\" /><path clip-path=\"url(#clip890)\" d=\"M2308.57 978.016 L2326.93 978.016 L2326.93 981.951 L2312.85 981.951 L2312.85 990.423 Q2313.87 990.076 2314.89 989.914 Q2315.91 989.729 2316.93 989.729 Q2322.71 989.729 2326.09 992.9 Q2329.47 996.071 2329.47 1001.49 Q2329.47 1007.07 2326 1010.17 Q2322.53 1013.25 2316.21 1013.25 Q2314.03 1013.25 2311.76 1012.88 Q2309.52 1012.51 2307.11 1011.77 L2307.11 1007.07 Q2309.2 1008.2 2311.42 1008.76 Q2313.64 1009.31 2316.12 1009.31 Q2320.12 1009.31 2322.46 1007.21 Q2324.8 1005.1 2324.8 1001.49 Q2324.8 997.877 2322.46 995.77 Q2320.12 993.664 2316.12 993.664 Q2314.24 993.664 2312.37 994.08 Q2310.51 994.497 2308.57 995.377 L2308.57 978.016 Z\" fill=\"#000000\" fill-rule=\"nonzero\" fill-opacity=\"1\" /><path clip-path=\"url(#clip890)\" d=\"M2348.69 981.094 Q2345.07 981.094 2343.25 984.659 Q2341.44 988.201 2341.44 995.33 Q2341.44 1002.44 2343.25 1006 Q2345.07 1009.54 2348.69 1009.54 Q2352.32 1009.54 2354.13 1006 Q2355.95 1002.44 2355.95 995.33 Q2355.95 988.201 2354.13 984.659 Q2352.32 981.094 2348.69 981.094 M2348.69 977.391 Q2354.5 977.391 2357.55 981.997 Q2360.63 986.58 2360.63 995.33 Q2360.63 1004.06 2357.55 1008.66 Q2354.5 1013.25 2348.69 1013.25 Q2342.88 1013.25 2339.8 1008.66 Q2336.74 1004.06 2336.74 995.33 Q2336.74 986.58 2339.8 981.997 Q2342.88 977.391 2348.69 977.391 Z\" fill=\"#000000\" fill-rule=\"nonzero\" fill-opacity=\"1\" /><path clip-path=\"url(#clip890)\" d=\"M2378.85 981.094 Q2375.24 981.094 2373.41 984.659 Q2371.6 988.201 2371.6 995.33 Q2371.6 1002.44 2373.41 1006 Q2375.24 1009.54 2378.85 1009.54 Q2382.48 1009.54 2384.29 1006 Q2386.12 1002.44 2386.12 995.33 Q2386.12 988.201 2384.29 984.659 Q2382.48 981.094 2378.85 981.094 M2378.85 977.391 Q2384.66 977.391 2387.71 981.997 Q2390.79 986.58 2390.79 995.33 Q2390.79 1004.06 2387.71 1008.66 Q2384.66 1013.25 2378.85 1013.25 Q2373.04 1013.25 2369.96 1008.66 Q2366.9 1004.06 2366.9 995.33 Q2366.9 986.58 2369.96 981.997 Q2373.04 977.391 2378.85 977.391 Z\" fill=\"#000000\" fill-rule=\"nonzero\" fill-opacity=\"1\" /><polyline clip-path=\"url(#clip890)\" style=\"stroke:#000000; stroke-linecap:round; stroke-linejoin:round; stroke-width:4; stroke-opacity:1; fill:none\" points=\"2232.76,998.924 2256.76,998.924 \"/>\n",
       "<path clip-path=\"url(#clip890)\" d=\"M2268.76 807.668 L2298.43 807.668 L2298.43 811.603 L2268.76 811.603 L2268.76 807.668 Z\" fill=\"#000000\" fill-rule=\"nonzero\" fill-opacity=\"1\" /><path clip-path=\"url(#clip890)\" d=\"M2321.37 794.011 L2309.57 812.46 L2321.37 812.46 L2321.37 794.011 M2320.14 789.937 L2326.02 789.937 L2326.02 812.46 L2330.95 812.46 L2330.95 816.348 L2326.02 816.348 L2326.02 824.497 L2321.37 824.497 L2321.37 816.348 L2305.77 816.348 L2305.77 811.835 L2320.14 789.937 Z\" fill=\"#000000\" fill-rule=\"nonzero\" fill-opacity=\"1\" /><path clip-path=\"url(#clip890)\" d=\"M2348.69 793.015 Q2345.07 793.015 2343.25 796.58 Q2341.44 800.122 2341.44 807.251 Q2341.44 814.358 2343.25 817.922 Q2345.07 821.464 2348.69 821.464 Q2352.32 821.464 2354.13 817.922 Q2355.95 814.358 2355.95 807.251 Q2355.95 800.122 2354.13 796.58 Q2352.32 793.015 2348.69 793.015 M2348.69 789.312 Q2354.5 789.312 2357.55 793.918 Q2360.63 798.501 2360.63 807.251 Q2360.63 815.978 2357.55 820.585 Q2354.5 825.168 2348.69 825.168 Q2342.88 825.168 2339.8 820.585 Q2336.74 815.978 2336.74 807.251 Q2336.74 798.501 2339.8 793.918 Q2342.88 789.312 2348.69 789.312 Z\" fill=\"#000000\" fill-rule=\"nonzero\" fill-opacity=\"1\" /><path clip-path=\"url(#clip890)\" d=\"M2378.85 793.015 Q2375.24 793.015 2373.41 796.58 Q2371.6 800.122 2371.6 807.251 Q2371.6 814.358 2373.41 817.922 Q2375.24 821.464 2378.85 821.464 Q2382.48 821.464 2384.29 817.922 Q2386.12 814.358 2386.12 807.251 Q2386.12 800.122 2384.29 796.58 Q2382.48 793.015 2378.85 793.015 M2378.85 789.312 Q2384.66 789.312 2387.71 793.918 Q2390.79 798.501 2390.79 807.251 Q2390.79 815.978 2387.71 820.585 Q2384.66 825.168 2378.85 825.168 Q2373.04 825.168 2369.96 820.585 Q2366.9 815.978 2366.9 807.251 Q2366.9 798.501 2369.96 793.918 Q2373.04 789.312 2378.85 789.312 Z\" fill=\"#000000\" fill-rule=\"nonzero\" fill-opacity=\"1\" /><polyline clip-path=\"url(#clip890)\" style=\"stroke:#000000; stroke-linecap:round; stroke-linejoin:round; stroke-width:4; stroke-opacity:1; fill:none\" points=\"2232.76,810.845 2256.76,810.845 \"/>\n",
       "<path clip-path=\"url(#clip890)\" d=\"M2268.76 619.589 L2298.43 619.589 L2298.43 623.524 L2268.76 623.524 L2268.76 619.589 Z\" fill=\"#000000\" fill-rule=\"nonzero\" fill-opacity=\"1\" /><path clip-path=\"url(#clip890)\" d=\"M2322.69 617.783 Q2326.05 618.501 2327.92 620.769 Q2329.82 623.038 2329.82 626.371 Q2329.82 631.487 2326.3 634.288 Q2322.78 637.089 2316.3 637.089 Q2314.13 637.089 2311.81 636.649 Q2309.52 636.232 2307.07 635.376 L2307.07 630.862 Q2309.01 631.996 2311.33 632.575 Q2313.64 633.154 2316.16 633.154 Q2320.56 633.154 2322.85 631.417 Q2325.17 629.681 2325.17 626.371 Q2325.17 623.316 2323.01 621.603 Q2320.89 619.867 2317.07 619.867 L2313.04 619.867 L2313.04 616.024 L2317.25 616.024 Q2320.7 616.024 2322.53 614.658 Q2324.36 613.269 2324.36 610.677 Q2324.36 608.015 2322.46 606.603 Q2320.58 605.168 2317.07 605.168 Q2315.14 605.168 2312.95 605.584 Q2310.75 606.001 2308.11 606.881 L2308.11 602.714 Q2310.77 601.973 2313.08 601.603 Q2315.42 601.232 2317.48 601.232 Q2322.81 601.232 2325.91 603.663 Q2329.01 606.07 2329.01 610.191 Q2329.01 613.061 2327.37 615.052 Q2325.72 617.019 2322.69 617.783 Z\" fill=\"#000000\" fill-rule=\"nonzero\" fill-opacity=\"1\" /><path clip-path=\"url(#clip890)\" d=\"M2348.69 604.936 Q2345.07 604.936 2343.25 608.501 Q2341.44 612.043 2341.44 619.172 Q2341.44 626.279 2343.25 629.843 Q2345.07 633.385 2348.69 633.385 Q2352.32 633.385 2354.13 629.843 Q2355.95 626.279 2355.95 619.172 Q2355.95 612.043 2354.13 608.501 Q2352.32 604.936 2348.69 604.936 M2348.69 601.232 Q2354.5 601.232 2357.55 605.839 Q2360.63 610.422 2360.63 619.172 Q2360.63 627.899 2357.55 632.505 Q2354.5 637.089 2348.69 637.089 Q2342.88 637.089 2339.8 632.505 Q2336.74 627.899 2336.74 619.172 Q2336.74 610.422 2339.8 605.839 Q2342.88 601.232 2348.69 601.232 Z\" fill=\"#000000\" fill-rule=\"nonzero\" fill-opacity=\"1\" /><path clip-path=\"url(#clip890)\" d=\"M2378.85 604.936 Q2375.24 604.936 2373.41 608.501 Q2371.6 612.043 2371.6 619.172 Q2371.6 626.279 2373.41 629.843 Q2375.24 633.385 2378.85 633.385 Q2382.48 633.385 2384.29 629.843 Q2386.12 626.279 2386.12 619.172 Q2386.12 612.043 2384.29 608.501 Q2382.48 604.936 2378.85 604.936 M2378.85 601.232 Q2384.66 601.232 2387.71 605.839 Q2390.79 610.422 2390.79 619.172 Q2390.79 627.899 2387.71 632.505 Q2384.66 637.089 2378.85 637.089 Q2373.04 637.089 2369.96 632.505 Q2366.9 627.899 2366.9 619.172 Q2366.9 610.422 2369.96 605.839 Q2373.04 601.232 2378.85 601.232 Z\" fill=\"#000000\" fill-rule=\"nonzero\" fill-opacity=\"1\" /><polyline clip-path=\"url(#clip890)\" style=\"stroke:#000000; stroke-linecap:round; stroke-linejoin:round; stroke-width:4; stroke-opacity:1; fill:none\" points=\"2232.76,622.766 2256.76,622.766 \"/>\n",
       "<path clip-path=\"url(#clip890)\" d=\"M2268.76 431.51 L2298.43 431.51 L2298.43 435.445 L2268.76 435.445 L2268.76 431.51 Z\" fill=\"#000000\" fill-rule=\"nonzero\" fill-opacity=\"1\" /><path clip-path=\"url(#clip890)\" d=\"M2312.55 444.403 L2328.87 444.403 L2328.87 448.338 L2306.93 448.338 L2306.93 444.403 Q2309.59 441.649 2314.17 437.019 Q2318.78 432.366 2319.96 431.024 Q2322.2 428.5 2323.08 426.764 Q2323.99 425.005 2323.99 423.315 Q2323.99 420.561 2322.04 418.825 Q2320.12 417.088 2317.02 417.088 Q2314.82 417.088 2312.37 417.852 Q2309.94 418.616 2307.16 420.167 L2307.16 415.445 Q2309.98 414.311 2312.44 413.732 Q2314.89 413.153 2316.93 413.153 Q2322.3 413.153 2325.49 415.838 Q2328.69 418.524 2328.69 423.014 Q2328.69 425.144 2327.88 427.065 Q2327.09 428.963 2324.98 431.556 Q2324.4 432.227 2321.3 435.445 Q2318.2 438.639 2312.55 444.403 Z\" fill=\"#000000\" fill-rule=\"nonzero\" fill-opacity=\"1\" /><path clip-path=\"url(#clip890)\" d=\"M2348.69 416.857 Q2345.07 416.857 2343.25 420.422 Q2341.44 423.963 2341.44 431.093 Q2341.44 438.199 2343.25 441.764 Q2345.07 445.306 2348.69 445.306 Q2352.32 445.306 2354.13 441.764 Q2355.95 438.199 2355.95 431.093 Q2355.95 423.963 2354.13 420.422 Q2352.32 416.857 2348.69 416.857 M2348.69 413.153 Q2354.5 413.153 2357.55 417.76 Q2360.63 422.343 2360.63 431.093 Q2360.63 439.82 2357.55 444.426 Q2354.5 449.01 2348.69 449.01 Q2342.88 449.01 2339.8 444.426 Q2336.74 439.82 2336.74 431.093 Q2336.74 422.343 2339.8 417.76 Q2342.88 413.153 2348.69 413.153 Z\" fill=\"#000000\" fill-rule=\"nonzero\" fill-opacity=\"1\" /><path clip-path=\"url(#clip890)\" d=\"M2378.85 416.857 Q2375.24 416.857 2373.41 420.422 Q2371.6 423.963 2371.6 431.093 Q2371.6 438.199 2373.41 441.764 Q2375.24 445.306 2378.85 445.306 Q2382.48 445.306 2384.29 441.764 Q2386.12 438.199 2386.12 431.093 Q2386.12 423.963 2384.29 420.422 Q2382.48 416.857 2378.85 416.857 M2378.85 413.153 Q2384.66 413.153 2387.71 417.76 Q2390.79 422.343 2390.79 431.093 Q2390.79 439.82 2387.71 444.426 Q2384.66 449.01 2378.85 449.01 Q2373.04 449.01 2369.96 444.426 Q2366.9 439.82 2366.9 431.093 Q2366.9 422.343 2369.96 417.76 Q2373.04 413.153 2378.85 413.153 Z\" fill=\"#000000\" fill-rule=\"nonzero\" fill-opacity=\"1\" /><polyline clip-path=\"url(#clip890)\" style=\"stroke:#000000; stroke-linecap:round; stroke-linejoin:round; stroke-width:4; stroke-opacity:1; fill:none\" points=\"2232.76,434.687 2256.76,434.687 \"/>\n",
       "<path clip-path=\"url(#clip890)\" d=\"M2268.76 243.431 L2298.43 243.431 L2298.43 247.366 L2268.76 247.366 L2268.76 243.431 Z\" fill=\"#000000\" fill-rule=\"nonzero\" fill-opacity=\"1\" /><path clip-path=\"url(#clip890)\" d=\"M2309.33 256.324 L2316.97 256.324 L2316.97 229.958 L2308.66 231.625 L2308.66 227.366 L2316.93 225.699 L2321.6 225.699 L2321.6 256.324 L2329.24 256.324 L2329.24 260.259 L2309.33 260.259 L2309.33 256.324 Z\" fill=\"#000000\" fill-rule=\"nonzero\" fill-opacity=\"1\" /><path clip-path=\"url(#clip890)\" d=\"M2348.69 228.778 Q2345.07 228.778 2343.25 232.343 Q2341.44 235.884 2341.44 243.014 Q2341.44 250.12 2343.25 253.685 Q2345.07 257.227 2348.69 257.227 Q2352.32 257.227 2354.13 253.685 Q2355.95 250.12 2355.95 243.014 Q2355.95 235.884 2354.13 232.343 Q2352.32 228.778 2348.69 228.778 M2348.69 225.074 Q2354.5 225.074 2357.55 229.681 Q2360.63 234.264 2360.63 243.014 Q2360.63 251.741 2357.55 256.347 Q2354.5 260.93 2348.69 260.93 Q2342.88 260.93 2339.8 256.347 Q2336.74 251.741 2336.74 243.014 Q2336.74 234.264 2339.8 229.681 Q2342.88 225.074 2348.69 225.074 Z\" fill=\"#000000\" fill-rule=\"nonzero\" fill-opacity=\"1\" /><path clip-path=\"url(#clip890)\" d=\"M2378.85 228.778 Q2375.24 228.778 2373.41 232.343 Q2371.6 235.884 2371.6 243.014 Q2371.6 250.12 2373.41 253.685 Q2375.24 257.227 2378.85 257.227 Q2382.48 257.227 2384.29 253.685 Q2386.12 250.12 2386.12 243.014 Q2386.12 235.884 2384.29 232.343 Q2382.48 228.778 2378.85 228.778 M2378.85 225.074 Q2384.66 225.074 2387.71 229.681 Q2390.79 234.264 2390.79 243.014 Q2390.79 251.741 2387.71 256.347 Q2384.66 260.93 2378.85 260.93 Q2373.04 260.93 2369.96 256.347 Q2366.9 251.741 2366.9 243.014 Q2366.9 234.264 2369.96 229.681 Q2373.04 225.074 2378.85 225.074 Z\" fill=\"#000000\" fill-rule=\"nonzero\" fill-opacity=\"1\" /><polyline clip-path=\"url(#clip890)\" style=\"stroke:#000000; stroke-linecap:round; stroke-linejoin:round; stroke-width:4; stroke-opacity:1; fill:none\" points=\"2232.76,246.608 2256.76,246.608 \"/>\n",
       "<path clip-path=\"url(#clip890)\" d=\"M2280.7 40.6987 Q2277.09 40.6987 2275.26 44.2635 Q2273.45 47.8052 2273.45 54.9348 Q2273.45 62.0412 2275.26 65.606 Q2277.09 69.1477 2280.7 69.1477 Q2284.33 69.1477 2286.14 65.606 Q2287.97 62.0412 2287.97 54.9348 Q2287.97 47.8052 2286.14 44.2635 Q2284.33 40.6987 2280.7 40.6987 M2280.7 36.995 Q2286.51 36.995 2289.57 41.6015 Q2292.64 46.1848 2292.64 54.9348 Q2292.64 63.6616 2289.57 68.268 Q2286.51 72.8513 2280.7 72.8513 Q2274.89 72.8513 2271.81 68.268 Q2268.76 63.6616 2268.76 54.9348 Q2268.76 46.1848 2271.81 41.6015 Q2274.89 36.995 2280.7 36.995 Z\" fill=\"#000000\" fill-rule=\"nonzero\" fill-opacity=\"1\" /><polyline clip-path=\"url(#clip890)\" style=\"stroke:#000000; stroke-linecap:round; stroke-linejoin:round; stroke-width:4; stroke-opacity:1; fill:none\" points=\"2232.76,58.5288 2256.76,58.5288 \"/>\n",
       "<polyline clip-path=\"url(#clip890)\" style=\"stroke:#000000; stroke-linecap:round; stroke-linejoin:round; stroke-width:4; stroke-opacity:1; fill:none\" points=\"2232.76,1486.45 2232.76,47.2441 \"/>\n",
       "</svg>\n"
      ]
     },
     "execution_count": 15,
     "metadata": {},
     "output_type": "execute_result"
    }
   ],
   "source": [
    "heatmap(phi)"
   ]
  },
  {
   "cell_type": "code",
   "execution_count": 17,
   "id": "3950349f-6657-4f60-a1a0-6830305f683f",
   "metadata": {},
   "outputs": [
    {
     "data": {
      "text/plain": [
       "2001×401 Matrix{Float64}:\n",
       " 3.00787  2.99882  3.01246  3.00015  …  2.9928  3.00352  3.00024  3.00165\n",
       " 0.0      0.0      0.0      0.0         0.0     0.0      0.0      0.0\n",
       " 0.0      0.0      0.0      0.0         0.0     0.0      0.0      0.0\n",
       " 0.0      0.0      0.0      0.0         0.0     0.0      0.0      0.0\n",
       " 0.0      0.0      0.0      0.0         0.0     0.0      0.0      0.0\n",
       " 0.0      0.0      0.0      0.0      …  0.0     0.0      0.0      0.0\n",
       " 0.0      0.0      0.0      0.0         0.0     0.0      0.0      0.0\n",
       " 0.0      0.0      0.0      0.0         0.0     0.0      0.0      0.0\n",
       " 0.0      0.0      0.0      0.0         0.0     0.0      0.0      0.0\n",
       " 0.0      0.0      0.0      0.0         0.0     0.0      0.0      0.0\n",
       " 0.0      0.0      0.0      0.0      …  0.0     0.0      0.0      0.0\n",
       " 0.0      0.0      0.0      0.0         0.0     0.0      0.0      0.0\n",
       " 0.0      0.0      0.0      0.0         0.0     0.0      0.0      0.0\n",
       " ⋮                                   ⋱                            ⋮\n",
       " 0.0      0.0      0.0      0.0         0.0     0.0      0.0      0.0\n",
       " 0.0      0.0      0.0      0.0      …  0.0     0.0      0.0      0.0\n",
       " 0.0      0.0      0.0      0.0         0.0     0.0      0.0      0.0\n",
       " 0.0      0.0      0.0      0.0         0.0     0.0      0.0      0.0\n",
       " 0.0      0.0      0.0      0.0         0.0     0.0      0.0      0.0\n",
       " 0.0      0.0      0.0      0.0         0.0     0.0      0.0      0.0\n",
       " 0.0      0.0      0.0      0.0      …  0.0     0.0      0.0      0.0\n",
       " 0.0      0.0      0.0      0.0         0.0     0.0      0.0      0.0\n",
       " 0.0      0.0      0.0      0.0         0.0     0.0      0.0      0.0\n",
       " 0.0      0.0      0.0      0.0         0.0     0.0      0.0      0.0\n",
       " 0.0      0.0      0.0      0.0         0.0     0.0      0.0      0.0\n",
       " 0.0      0.0      0.0      0.0      …  0.0     0.0      0.0      0.0"
      ]
     },
     "metadata": {},
     "output_type": "display_data"
    }
   ],
   "source": [
    "# try - Turing Patterns\n",
    "const V0 = 3. # the value has to be taken from the figure 1\n",
    "const N = 400 # number of x points\n",
    "const L_real = 0.05 # total length also non-dimensional point (l/re)\n",
    "const c = 1.82;\n",
    "const Vr = 3;\n",
    "const v_real = 0.16;# propagation velocity (m/s)\n",
    "#make normalization with re and alpha\n",
    "ae = 6.;     # excitatory strenght\n",
    "ai = 5.;     # inhibitory strenght\n",
    "re = 0.0005;    # excitatory range (m)\n",
    "const L = L_real / re\n",
    "const v = v_real / (re * sqrt(400*400))\n",
    "ri = 0.001;     # inhibitory range (m)\n",
    "r = re/ri;   # ratio\n",
    "du = L/N;\n",
    "x = 0:du:L;\n",
    "dt = 0.05;   # time step\n",
    "\n",
    "muP0 = 2.5;   # external stimulus (constant)\n",
    "\n",
    "t = 0:dt:100.   # not sure\n",
    "N_t = length(t);\n",
    "V = zeros(N_t,(N+1)); # this are the true dimensions of the V matrix\n",
    "I = V;\n",
    "phi = zeros(N_t,(N+1));\n",
    "J = V;\n",
    "\n",
    "V[1,:] = V0.*ones(1,N+1) .+ 0.005 .*randn(1,N+1);\n",
    "# VV = V;\n",
    "# V_0 = V0.*ones(N_0,N+1); #part of the V matrix relative\n",
    "# V = [V_0;V]; # the temporal (y) index of V within we have to work are from N_0+1 to end (end=N_t+N_0)\n",
    "\n",
    "function sigmoid(V_pw) # return either a value or a vector or a matrix depending on what V is\n",
    "    return 1 / (1 + exp(-c * (V_pw-Vr)))\n",
    "end\n",
    "    \n",
    "function G(V,nx,nt,n) # here V should be the whole V matrix\n",
    "    timedelayed = nt * dt - (n * du / v)\n",
    "    ntdelayed = Int64(round(timedelayed / dt))\n",
    "    # display(\"printout of ntdelayed \\n\")\n",
    "    # display(ntdelayed)\n",
    "    if ntdelayed < 1\n",
    "        return sigmoid(V0) .+ sigmoid(V0)\n",
    "    else\n",
    "        if nx - n < 1\n",
    "            G1 = sigmoid(V[ntdelayed,N+1-abs(nx-n)]) \n",
    "        else \n",
    "            G1 = sigmoid(V[ntdelayed,nx-n])\n",
    "        end\n",
    "        if nx + n > N+1\n",
    "            G2 = sigmoid(V[ntdelayed,nx+n-(N+1)]) \n",
    "        else\n",
    "            G2 = sigmoid(V[ntdelayed,nx+n])\n",
    "        end\n",
    "        return G1.+G2\n",
    "        end\n",
    "    # println(\"G(nx=$nx, nt=$nt, n=$n): G=$G\")\n",
    "    return G\n",
    "end\n",
    "    \n",
    "function correction_function(V,nx,nt,eta,du)    # ask how should we replace Taylor expansion in of sigmoid function\n",
    "    return (1/eta).*exp.(-eta.*L).*(G(V,nx,nt,N).+(G(V,nx,nt,N).-G(V,nx,nt,N-1))./(eta.*du))\n",
    "end\n",
    "\n",
    "function integral_function(V,nx,nt,eta,du)\n",
    "    a = 1 ./((eta.^2).*du);\n",
    "    # display(G(V,nx,nt,0))\n",
    "    b = (1 ./eta).*(G(V,nx,nt,0).+(G(V,nx,nt,1).-G(V,nx,nt,0))./(eta.*du));\n",
    "    # print(\"b = $b\\n\")\n",
    "    K = correction_function(V,nx,nt,eta,du)\n",
    "    # print(\"K = $K\\n\")\n",
    "    cc = zeros(1,N-1)\n",
    "    for nn = 1:N-1\n",
    "        # println(\"nn=$nn, G(nn+2)=$(G(V, nx, nt, nn+2)), G(nn+1)=$(G(V, nx, nt, nn+1)), G(nn)=$(G(V, nx, nt, nn))\")\n",
    "        diff = G(V, nx, nt, nn+2) - 2 * G(V, nx, nt, nn+1) + G(V, nx, nt, nn)\n",
    "        # println(\"nn=$nn, Difference=$diff\")\n",
    "        cc[nn] = exp.(-eta.*((nn+1).*du)).*(G(V,nx,nt,nn+2).-2 .*G(V,nx,nt,nn+1).+G(V,nx,nt,nn));\n",
    "        # cc[nn] = exp.(-eta.*((nn).*du)).*(G(V,nx,nt,nn+1).-2 .*G(V,nx,nt,nn).+G(V,nx,nt,nn-1));\n",
    "    end \n",
    "    summ = sum(cc)\n",
    "    return a.*summ + b - K\n",
    "end\n",
    "\n",
    "function J_function(V,nx,nt,eta,eta_2, du,ae,ai,r)\n",
    "    return 0.5*(ae.*integral_function(V,nx,nt,eta_1,du) .- ai.*r.*integral_function(V,nx,nt,eta_2,du))\n",
    "end\n",
    "\n",
    "\n",
    "display(V) # V[N_0+1:end,:])"
   ]
  },
  {
   "cell_type": "code",
   "execution_count": 18,
   "id": "c2d41ea7-bb08-41ec-9fdb-a5255f9ef50b",
   "metadata": {},
   "outputs": [
    {
     "data": {
      "text/plain": [
       "2001×401 Matrix{Float64}:\n",
       " 3.00787  2.99882  3.01246  3.00015  …  2.9928  3.00352  3.00024  3.00165\n",
       " 0.0      0.0      0.0      0.0         0.0     0.0      0.0      0.0\n",
       " 0.0      0.0      0.0      0.0         0.0     0.0      0.0      0.0\n",
       " 0.0      0.0      0.0      0.0         0.0     0.0      0.0      0.0\n",
       " 0.0      0.0      0.0      0.0         0.0     0.0      0.0      0.0\n",
       " 0.0      0.0      0.0      0.0      …  0.0     0.0      0.0      0.0\n",
       " 0.0      0.0      0.0      0.0         0.0     0.0      0.0      0.0\n",
       " 0.0      0.0      0.0      0.0         0.0     0.0      0.0      0.0\n",
       " 0.0      0.0      0.0      0.0         0.0     0.0      0.0      0.0\n",
       " 0.0      0.0      0.0      0.0         0.0     0.0      0.0      0.0\n",
       " 0.0      0.0      0.0      0.0      …  0.0     0.0      0.0      0.0\n",
       " 0.0      0.0      0.0      0.0         0.0     0.0      0.0      0.0\n",
       " 0.0      0.0      0.0      0.0         0.0     0.0      0.0      0.0\n",
       " ⋮                                   ⋱                            ⋮\n",
       " 0.0      0.0      0.0      0.0         0.0     0.0      0.0      0.0\n",
       " 0.0      0.0      0.0      0.0      …  0.0     0.0      0.0      0.0\n",
       " 0.0      0.0      0.0      0.0         0.0     0.0      0.0      0.0\n",
       " 0.0      0.0      0.0      0.0         0.0     0.0      0.0      0.0\n",
       " 0.0      0.0      0.0      0.0         0.0     0.0      0.0      0.0\n",
       " 0.0      0.0      0.0      0.0         0.0     0.0      0.0      0.0\n",
       " 0.0      0.0      0.0      0.0      …  0.0     0.0      0.0      0.0\n",
       " 0.0      0.0      0.0      0.0         0.0     0.0      0.0      0.0\n",
       " 0.0      0.0      0.0      0.0         0.0     0.0      0.0      0.0\n",
       " 0.0      0.0      0.0      0.0         0.0     0.0      0.0      0.0\n",
       " 0.0      0.0      0.0      0.0         0.0     0.0      0.0      0.0\n",
       " 0.0      0.0      0.0      0.0      …  0.0     0.0      0.0      0.0"
      ]
     },
     "metadata": {},
     "output_type": "display_data"
    },
    {
     "data": {
      "text/plain": [
       "0.5608848444586938"
      ]
     },
     "metadata": {},
     "output_type": "display_data"
    },
    {
     "data": {
      "text/plain": [
       "0.49086142469483685"
      ]
     },
     "metadata": {},
     "output_type": "display_data"
    },
    {
     "data": {
      "text/plain": [
       "0.5963971873845346"
      ]
     },
     "metadata": {},
     "output_type": "display_data"
    },
    {
     "data": {
      "text/plain": [
       "0.501171402544422"
      ]
     },
     "metadata": {},
     "output_type": "display_data"
    },
    {
     "data": {
      "text/plain": [
       "0.4832649530427875"
      ]
     },
     "metadata": {},
     "output_type": "display_data"
    },
    {
     "data": {
      "text/plain": [
       "0.3881820033208392"
      ]
     },
     "metadata": {},
     "output_type": "display_data"
    },
    {
     "data": {
      "text/plain": [
       "0.5174408841876015"
      ]
     },
     "metadata": {},
     "output_type": "display_data"
    },
    {
     "data": {
      "text/plain": [
       "0.5373400316886703"
      ]
     },
     "metadata": {},
     "output_type": "display_data"
    },
    {
     "data": {
      "text/plain": [
       "0.5175707676014718"
      ]
     },
     "metadata": {},
     "output_type": "display_data"
    },
    {
     "data": {
      "text/plain": [
       "0.5577865896502323"
      ]
     },
     "metadata": {},
     "output_type": "display_data"
    },
    {
     "data": {
      "text/plain": [
       "0.5575865653433518"
      ]
     },
     "metadata": {},
     "output_type": "display_data"
    },
    {
     "data": {
      "text/plain": [
       "0.5022625444167375"
      ]
     },
     "metadata": {},
     "output_type": "display_data"
    },
    {
     "data": {
      "text/plain": [
       "0.5330618783068881"
      ]
     },
     "metadata": {},
     "output_type": "display_data"
    },
    {
     "data": {
      "text/plain": [
       "0.5188953118572228"
      ]
     },
     "metadata": {},
     "output_type": "display_data"
    },
    {
     "data": {
      "text/plain": [
       "0.48134244471692966"
      ]
     },
     "metadata": {},
     "output_type": "display_data"
    },
    {
     "data": {
      "text/plain": [
       "0.5291224591884354"
      ]
     },
     "metadata": {},
     "output_type": "display_data"
    },
    {
     "data": {
      "text/plain": [
       "0.5356234174141115"
      ]
     },
     "metadata": {},
     "output_type": "display_data"
    },
    {
     "data": {
      "text/plain": [
       "0.47823893383131955"
      ]
     },
     "metadata": {},
     "output_type": "display_data"
    },
    {
     "data": {
      "text/plain": [
       "0.535775275958057"
      ]
     },
     "metadata": {},
     "output_type": "display_data"
    },
    {
     "data": {
      "text/plain": [
       "0.42779915322668893"
      ]
     },
     "metadata": {},
     "output_type": "display_data"
    },
    {
     "data": {
      "text/plain": [
       "0.5929262134622477"
      ]
     },
     "metadata": {},
     "output_type": "display_data"
    },
    {
     "data": {
      "text/plain": [
       "0.475484521962505"
      ]
     },
     "metadata": {},
     "output_type": "display_data"
    },
    {
     "data": {
      "text/plain": [
       "0.5258241860734105"
      ]
     },
     "metadata": {},
     "output_type": "display_data"
    },
    {
     "data": {
      "text/plain": [
       "0.4980118351871097"
      ]
     },
     "metadata": {},
     "output_type": "display_data"
    },
    {
     "data": {
      "text/plain": [
       "0.4630124664672972"
      ]
     },
     "metadata": {},
     "output_type": "display_data"
    },
    {
     "data": {
      "text/plain": [
       "0.4662831362359281"
      ]
     },
     "metadata": {},
     "output_type": "display_data"
    },
    {
     "data": {
      "text/plain": [
       "0.5019490996768963"
      ]
     },
     "metadata": {},
     "output_type": "display_data"
    },
    {
     "data": {
      "text/plain": [
       "0.4739063807835948"
      ]
     },
     "metadata": {},
     "output_type": "display_data"
    },
    {
     "data": {
      "text/plain": [
       "0.47334428084284275"
      ]
     },
     "metadata": {},
     "output_type": "display_data"
    },
    {
     "data": {
      "text/plain": [
       "0.5349955353645428"
      ]
     },
     "metadata": {},
     "output_type": "display_data"
    },
    {
     "data": {
      "text/plain": [
       "0.5421100976097484"
      ]
     },
     "metadata": {},
     "output_type": "display_data"
    },
    {
     "data": {
      "text/plain": [
       "0.5239194523684962"
      ]
     },
     "metadata": {},
     "output_type": "display_data"
    },
    {
     "data": {
      "text/plain": [
       "0.548427404914487"
      ]
     },
     "metadata": {},
     "output_type": "display_data"
    },
    {
     "data": {
      "text/plain": [
       "0.49642110234467784"
      ]
     },
     "metadata": {},
     "output_type": "display_data"
    },
    {
     "data": {
      "text/plain": [
       "0.5311745257002474"
      ]
     },
     "metadata": {},
     "output_type": "display_data"
    },
    {
     "data": {
      "text/plain": [
       "0.4653696394622733"
      ]
     },
     "metadata": {},
     "output_type": "display_data"
    },
    {
     "data": {
      "text/plain": [
       "0.5457671953806478"
      ]
     },
     "metadata": {},
     "output_type": "display_data"
    },
    {
     "data": {
      "text/plain": [
       "0.4644661035922417"
      ]
     },
     "metadata": {},
     "output_type": "display_data"
    },
    {
     "data": {
      "text/plain": [
       "0.5021444183946802"
      ]
     },
     "metadata": {},
     "output_type": "display_data"
    },
    {
     "data": {
      "text/plain": [
       "0.5279084201184969"
      ]
     },
     "metadata": {},
     "output_type": "display_data"
    },
    {
     "data": {
      "text/plain": [
       "0.5540399777519922"
      ]
     },
     "metadata": {},
     "output_type": "display_data"
    },
    {
     "data": {
      "text/plain": [
       "0.4609763601402772"
      ]
     },
     "metadata": {},
     "output_type": "display_data"
    },
    {
     "data": {
      "text/plain": [
       "0.5081481595460717"
      ]
     },
     "metadata": {},
     "output_type": "display_data"
    },
    {
     "data": {
      "text/plain": [
       "0.5450331887743487"
      ]
     },
     "metadata": {},
     "output_type": "display_data"
    },
    {
     "data": {
      "text/plain": [
       "0.48586795169718044"
      ]
     },
     "metadata": {},
     "output_type": "display_data"
    },
    {
     "data": {
      "text/plain": [
       "0.5328984185326968"
      ]
     },
     "metadata": {},
     "output_type": "display_data"
    },
    {
     "data": {
      "text/plain": [
       "0.5252099903944925"
      ]
     },
     "metadata": {},
     "output_type": "display_data"
    },
    {
     "data": {
      "text/plain": [
       "0.4799255755454088"
      ]
     },
     "metadata": {},
     "output_type": "display_data"
    },
    {
     "data": {
      "text/plain": [
       "0.49848045800876717"
      ]
     },
     "metadata": {},
     "output_type": "display_data"
    },
    {
     "data": {
      "text/plain": [
       "0.5038699300270166"
      ]
     },
     "metadata": {},
     "output_type": "display_data"
    },
    {
     "data": {
      "text/plain": [
       "0.5650143196062389"
      ]
     },
     "metadata": {},
     "output_type": "display_data"
    },
    {
     "data": {
      "text/plain": [
       "0.4910791466067912"
      ]
     },
     "metadata": {},
     "output_type": "display_data"
    },
    {
     "data": {
      "text/plain": [
       "0.5368029817473832"
      ]
     },
     "metadata": {},
     "output_type": "display_data"
    },
    {
     "data": {
      "text/plain": [
       "0.46710218932320835"
      ]
     },
     "metadata": {},
     "output_type": "display_data"
    },
    {
     "data": {
      "text/plain": [
       "0.5174363043702082"
      ]
     },
     "metadata": {},
     "output_type": "display_data"
    },
    {
     "data": {
      "text/plain": [
       "0.49766153314715655"
      ]
     },
     "metadata": {},
     "output_type": "display_data"
    },
    {
     "data": {
      "text/plain": [
       "0.5003048518025968"
      ]
     },
     "metadata": {},
     "output_type": "display_data"
    },
    {
     "data": {
      "text/plain": [
       "0.5546229753040248"
      ]
     },
     "metadata": {},
     "output_type": "display_data"
    },
    {
     "data": {
      "text/plain": [
       "0.43877586304083804"
      ]
     },
     "metadata": {},
     "output_type": "display_data"
    },
    {
     "data": {
      "text/plain": [
       "0.537770567671918"
      ]
     },
     "metadata": {},
     "output_type": "display_data"
    },
    {
     "data": {
      "text/plain": [
       "0.5289391406573274"
      ]
     },
     "metadata": {},
     "output_type": "display_data"
    },
    {
     "data": {
      "text/plain": [
       "0.4878833070232691"
      ]
     },
     "metadata": {},
     "output_type": "display_data"
    },
    {
     "data": {
      "text/plain": [
       "0.5102942466529381"
      ]
     },
     "metadata": {},
     "output_type": "display_data"
    },
    {
     "data": {
      "text/plain": [
       "0.5032399259104419"
      ]
     },
     "metadata": {},
     "output_type": "display_data"
    },
    {
     "data": {
      "text/plain": [
       "0.5306343492674785"
      ]
     },
     "metadata": {},
     "output_type": "display_data"
    },
    {
     "data": {
      "text/plain": [
       "0.44487790158179585"
      ]
     },
     "metadata": {},
     "output_type": "display_data"
    },
    {
     "data": {
      "text/plain": [
       "0.4658452271247273"
      ]
     },
     "metadata": {},
     "output_type": "display_data"
    },
    {
     "data": {
      "text/plain": [
       "0.5490550557168747"
      ]
     },
     "metadata": {},
     "output_type": "display_data"
    },
    {
     "data": {
      "text/plain": [
       "0.5124389155625431"
      ]
     },
     "metadata": {},
     "output_type": "display_data"
    },
    {
     "data": {
      "text/plain": [
       "0.478120647419237"
      ]
     },
     "metadata": {},
     "output_type": "display_data"
    },
    {
     "data": {
      "text/plain": [
       "0.42570752935963396"
      ]
     },
     "metadata": {},
     "output_type": "display_data"
    },
    {
     "data": {
      "text/plain": [
       "0.5127711798131687"
      ]
     },
     "metadata": {},
     "output_type": "display_data"
    },
    {
     "data": {
      "text/plain": [
       "0.5030503822322356"
      ]
     },
     "metadata": {},
     "output_type": "display_data"
    },
    {
     "data": {
      "text/plain": [
       "0.5117462400103014"
      ]
     },
     "metadata": {},
     "output_type": "display_data"
    },
    {
     "data": {
      "text/plain": [
       "0.5155244617397421"
      ]
     },
     "metadata": {},
     "output_type": "display_data"
    },
    {
     "data": {
      "text/plain": [
       "0.4986901009847964"
      ]
     },
     "metadata": {},
     "output_type": "display_data"
    },
    {
     "data": {
      "text/plain": [
       "0.4181524724514616"
      ]
     },
     "metadata": {},
     "output_type": "display_data"
    },
    {
     "data": {
      "text/plain": [
       "0.5499812087721607"
      ]
     },
     "metadata": {},
     "output_type": "display_data"
    },
    {
     "data": {
      "text/plain": [
       "0.5592649124063098"
      ]
     },
     "metadata": {},
     "output_type": "display_data"
    },
    {
     "data": {
      "text/plain": [
       "0.5239968929179493"
      ]
     },
     "metadata": {},
     "output_type": "display_data"
    },
    {
     "data": {
      "text/plain": [
       "0.4736804645691861"
      ]
     },
     "metadata": {},
     "output_type": "display_data"
    },
    {
     "data": {
      "text/plain": [
       "0.45522396448963853"
      ]
     },
     "metadata": {},
     "output_type": "display_data"
    },
    {
     "data": {
      "text/plain": [
       "0.5037801515298632"
      ]
     },
     "metadata": {},
     "output_type": "display_data"
    },
    {
     "data": {
      "text/plain": [
       "0.4396743049485359"
      ]
     },
     "metadata": {},
     "output_type": "display_data"
    },
    {
     "data": {
      "text/plain": [
       "0.46567627715903814"
      ]
     },
     "metadata": {},
     "output_type": "display_data"
    },
    {
     "data": {
      "text/plain": [
       "0.5171982604175462"
      ]
     },
     "metadata": {},
     "output_type": "display_data"
    },
    {
     "data": {
      "text/plain": [
       "0.4380963892383072"
      ]
     },
     "metadata": {},
     "output_type": "display_data"
    },
    {
     "data": {
      "text/plain": [
       "0.45497176267013195"
      ]
     },
     "metadata": {},
     "output_type": "display_data"
    },
    {
     "data": {
      "text/plain": [
       "0.4833292800657776"
      ]
     },
     "metadata": {},
     "output_type": "display_data"
    },
    {
     "data": {
      "text/plain": [
       "0.5158484207567695"
      ]
     },
     "metadata": {},
     "output_type": "display_data"
    },
    {
     "data": {
      "text/plain": [
       "0.5004510339601382"
      ]
     },
     "metadata": {},
     "output_type": "display_data"
    },
    {
     "data": {
      "text/plain": [
       "0.47421549046423017"
      ]
     },
     "metadata": {},
     "output_type": "display_data"
    },
    {
     "data": {
      "text/plain": [
       "0.47007252637838226"
      ]
     },
     "metadata": {},
     "output_type": "display_data"
    },
    {
     "data": {
      "text/plain": [
       "0.49388444145706734"
      ]
     },
     "metadata": {},
     "output_type": "display_data"
    },
    {
     "data": {
      "text/plain": [
       "0.4637119612392637"
      ]
     },
     "metadata": {},
     "output_type": "display_data"
    },
    {
     "data": {
      "text/plain": [
       "0.5583861313282519"
      ]
     },
     "metadata": {},
     "output_type": "display_data"
    },
    {
     "data": {
      "text/plain": [
       "0.45571286290968693"
      ]
     },
     "metadata": {},
     "output_type": "display_data"
    },
    {
     "data": {
      "text/plain": [
       "0.4750926859037987"
      ]
     },
     "metadata": {},
     "output_type": "display_data"
    },
    {
     "data": {
      "text/plain": [
       "0.5135178719630664"
      ]
     },
     "metadata": {},
     "output_type": "display_data"
    },
    {
     "data": {
      "text/plain": [
       "0.5154246619698277"
      ]
     },
     "metadata": {},
     "output_type": "display_data"
    },
    {
     "data": {
      "text/plain": [
       "0.4432374982652769"
      ]
     },
     "metadata": {},
     "output_type": "display_data"
    },
    {
     "data": {
      "text/plain": [
       "0.531892878595404"
      ]
     },
     "metadata": {},
     "output_type": "display_data"
    },
    {
     "data": {
      "text/plain": [
       "0.4740458414482238"
      ]
     },
     "metadata": {},
     "output_type": "display_data"
    },
    {
     "data": {
      "text/plain": [
       "0.5131419020786123"
      ]
     },
     "metadata": {},
     "output_type": "display_data"
    },
    {
     "data": {
      "text/plain": [
       "0.4908670042979062"
      ]
     },
     "metadata": {},
     "output_type": "display_data"
    },
    {
     "data": {
      "text/plain": [
       "0.5462840972763332"
      ]
     },
     "metadata": {},
     "output_type": "display_data"
    },
    {
     "data": {
      "text/plain": [
       "0.49324648447266206"
      ]
     },
     "metadata": {},
     "output_type": "display_data"
    },
    {
     "data": {
      "text/plain": [
       "0.4620635055451263"
      ]
     },
     "metadata": {},
     "output_type": "display_data"
    },
    {
     "data": {
      "text/plain": [
       "0.5234670976166411"
      ]
     },
     "metadata": {},
     "output_type": "display_data"
    },
    {
     "data": {
      "text/plain": [
       "0.5053994901976102"
      ]
     },
     "metadata": {},
     "output_type": "display_data"
    },
    {
     "data": {
      "text/plain": [
       "0.47570056337740496"
      ]
     },
     "metadata": {},
     "output_type": "display_data"
    },
    {
     "data": {
      "text/plain": [
       "0.506183734963741"
      ]
     },
     "metadata": {},
     "output_type": "display_data"
    },
    {
     "data": {
      "text/plain": [
       "0.4189930533610946"
      ]
     },
     "metadata": {},
     "output_type": "display_data"
    },
    {
     "data": {
      "text/plain": [
       "0.553971515967338"
      ]
     },
     "metadata": {},
     "output_type": "display_data"
    },
    {
     "data": {
      "text/plain": [
       "0.5086216794313372"
      ]
     },
     "metadata": {},
     "output_type": "display_data"
    },
    {
     "data": {
      "text/plain": [
       "0.480644106509887"
      ]
     },
     "metadata": {},
     "output_type": "display_data"
    },
    {
     "data": {
      "text/plain": [
       "0.5418929098404774"
      ]
     },
     "metadata": {},
     "output_type": "display_data"
    },
    {
     "data": {
      "text/plain": [
       "0.5101785261323539"
      ]
     },
     "metadata": {},
     "output_type": "display_data"
    },
    {
     "data": {
      "text/plain": [
       "0.5373264497436354"
      ]
     },
     "metadata": {},
     "output_type": "display_data"
    },
    {
     "data": {
      "text/plain": [
       "0.5610303484694228"
      ]
     },
     "metadata": {},
     "output_type": "display_data"
    },
    {
     "data": {
      "text/plain": [
       "0.4597834464414077"
      ]
     },
     "metadata": {},
     "output_type": "display_data"
    },
    {
     "data": {
      "text/plain": [
       "0.5291869868818564"
      ]
     },
     "metadata": {},
     "output_type": "display_data"
    },
    {
     "data": {
      "text/plain": [
       "0.5799684085932264"
      ]
     },
     "metadata": {},
     "output_type": "display_data"
    },
    {
     "data": {
      "text/plain": [
       "0.5548662523923427"
      ]
     },
     "metadata": {},
     "output_type": "display_data"
    },
    {
     "data": {
      "text/plain": [
       "0.49326442016461236"
      ]
     },
     "metadata": {},
     "output_type": "display_data"
    },
    {
     "data": {
      "text/plain": [
       "0.5259259614193788"
      ]
     },
     "metadata": {},
     "output_type": "display_data"
    },
    {
     "data": {
      "text/plain": [
       "0.5236979674712052"
      ]
     },
     "metadata": {},
     "output_type": "display_data"
    },
    {
     "data": {
      "text/plain": [
       "0.5303077570297048"
      ]
     },
     "metadata": {},
     "output_type": "display_data"
    },
    {
     "data": {
      "text/plain": [
       "0.4940372607470924"
      ]
     },
     "metadata": {},
     "output_type": "display_data"
    },
    {
     "data": {
      "text/plain": [
       "0.5446345269742423"
      ]
     },
     "metadata": {},
     "output_type": "display_data"
    },
    {
     "data": {
      "text/plain": [
       "0.44040682913392315"
      ]
     },
     "metadata": {},
     "output_type": "display_data"
    },
    {
     "data": {
      "text/plain": [
       "0.5486259350935545"
      ]
     },
     "metadata": {},
     "output_type": "display_data"
    },
    {
     "data": {
      "text/plain": [
       "0.49176513834014823"
      ]
     },
     "metadata": {},
     "output_type": "display_data"
    },
    {
     "data": {
      "text/plain": [
       "0.5215010392428532"
      ]
     },
     "metadata": {},
     "output_type": "display_data"
    },
    {
     "data": {
      "text/plain": [
       "0.42677903151632224"
      ]
     },
     "metadata": {},
     "output_type": "display_data"
    },
    {
     "data": {
      "text/plain": [
       "0.5192573662608115"
      ]
     },
     "metadata": {},
     "output_type": "display_data"
    },
    {
     "data": {
      "text/plain": [
       "0.5189075098124087"
      ]
     },
     "metadata": {},
     "output_type": "display_data"
    },
    {
     "data": {
      "text/plain": [
       "0.4647269846183111"
      ]
     },
     "metadata": {},
     "output_type": "display_data"
    },
    {
     "data": {
      "text/plain": [
       "0.40065968698545706"
      ]
     },
     "metadata": {},
     "output_type": "display_data"
    },
    {
     "data": {
      "text/plain": [
       "0.4959644145798081"
      ]
     },
     "metadata": {},
     "output_type": "display_data"
    },
    {
     "data": {
      "text/plain": [
       "0.4773069483179322"
      ]
     },
     "metadata": {},
     "output_type": "display_data"
    },
    {
     "data": {
      "text/plain": [
       "0.4904648445795594"
      ]
     },
     "metadata": {},
     "output_type": "display_data"
    },
    {
     "data": {
      "text/plain": [
       "0.47064357951444924"
      ]
     },
     "metadata": {},
     "output_type": "display_data"
    },
    {
     "data": {
      "text/plain": [
       "0.5334101789106795"
      ]
     },
     "metadata": {},
     "output_type": "display_data"
    },
    {
     "data": {
      "text/plain": [
       "0.6034415268693882"
      ]
     },
     "metadata": {},
     "output_type": "display_data"
    },
    {
     "data": {
      "text/plain": [
       "0.496460382100155"
      ]
     },
     "metadata": {},
     "output_type": "display_data"
    },
    {
     "data": {
      "text/plain": [
       "0.4445760836231085"
      ]
     },
     "metadata": {},
     "output_type": "display_data"
    },
    {
     "data": {
      "text/plain": [
       "0.48491518687815516"
      ]
     },
     "metadata": {},
     "output_type": "display_data"
    },
    {
     "data": {
      "text/plain": [
       "0.44968583580955723"
      ]
     },
     "metadata": {},
     "output_type": "display_data"
    },
    {
     "data": {
      "text/plain": [
       "0.5042268740776081"
      ]
     },
     "metadata": {},
     "output_type": "display_data"
    },
    {
     "data": {
      "text/plain": [
       "0.5218302371786172"
      ]
     },
     "metadata": {},
     "output_type": "display_data"
    },
    {
     "data": {
      "text/plain": [
       "0.40007912519601163"
      ]
     },
     "metadata": {},
     "output_type": "display_data"
    },
    {
     "data": {
      "text/plain": [
       "0.4237145898918131"
      ]
     },
     "metadata": {},
     "output_type": "display_data"
    },
    {
     "data": {
      "text/plain": [
       "0.47475864159779846"
      ]
     },
     "metadata": {},
     "output_type": "display_data"
    },
    {
     "data": {
      "text/plain": [
       "0.48289419159334557"
      ]
     },
     "metadata": {},
     "output_type": "display_data"
    },
    {
     "data": {
      "text/plain": [
       "0.53559425827242"
      ]
     },
     "metadata": {},
     "output_type": "display_data"
    },
    {
     "data": {
      "text/plain": [
       "0.527042759814413"
      ]
     },
     "metadata": {},
     "output_type": "display_data"
    },
    {
     "data": {
      "text/plain": [
       "0.5548944771005684"
      ]
     },
     "metadata": {},
     "output_type": "display_data"
    },
    {
     "data": {
      "text/plain": [
       "0.43995366765862665"
      ]
     },
     "metadata": {},
     "output_type": "display_data"
    },
    {
     "data": {
      "text/plain": [
       "0.4890482824091915"
      ]
     },
     "metadata": {},
     "output_type": "display_data"
    },
    {
     "data": {
      "text/plain": [
       "0.49406276291547924"
      ]
     },
     "metadata": {},
     "output_type": "display_data"
    },
    {
     "data": {
      "text/plain": [
       "0.4594901635687232"
      ]
     },
     "metadata": {},
     "output_type": "display_data"
    },
    {
     "data": {
      "text/plain": [
       "0.4383453807187734"
      ]
     },
     "metadata": {},
     "output_type": "display_data"
    },
    {
     "data": {
      "text/plain": [
       "0.547233400865649"
      ]
     },
     "metadata": {},
     "output_type": "display_data"
    },
    {
     "data": {
      "text/plain": [
       "0.4822501457297004"
      ]
     },
     "metadata": {},
     "output_type": "display_data"
    },
    {
     "data": {
      "text/plain": [
       "0.5042278185074816"
      ]
     },
     "metadata": {},
     "output_type": "display_data"
    },
    {
     "data": {
      "text/plain": [
       "0.5462236809367274"
      ]
     },
     "metadata": {},
     "output_type": "display_data"
    },
    {
     "data": {
      "text/plain": [
       "0.4925856429772306"
      ]
     },
     "metadata": {},
     "output_type": "display_data"
    },
    {
     "data": {
      "text/plain": [
       "0.4973974475259495"
      ]
     },
     "metadata": {},
     "output_type": "display_data"
    },
    {
     "data": {
      "text/plain": [
       "0.49215547833666573"
      ]
     },
     "metadata": {},
     "output_type": "display_data"
    },
    {
     "data": {
      "text/plain": [
       "0.46503298468033805"
      ]
     },
     "metadata": {},
     "output_type": "display_data"
    },
    {
     "data": {
      "text/plain": [
       "0.5268826712811006"
      ]
     },
     "metadata": {},
     "output_type": "display_data"
    },
    {
     "data": {
      "text/plain": [
       "0.438053523857326"
      ]
     },
     "metadata": {},
     "output_type": "display_data"
    },
    {
     "data": {
      "text/plain": [
       "0.4913201968750269"
      ]
     },
     "metadata": {},
     "output_type": "display_data"
    },
    {
     "data": {
      "text/plain": [
       "0.5569397158065539"
      ]
     },
     "metadata": {},
     "output_type": "display_data"
    },
    {
     "data": {
      "text/plain": [
       "0.45405533444581314"
      ]
     },
     "metadata": {},
     "output_type": "display_data"
    },
    {
     "data": {
      "text/plain": [
       "0.4739628265271638"
      ]
     },
     "metadata": {},
     "output_type": "display_data"
    },
    {
     "data": {
      "text/plain": [
       "0.5380587841836575"
      ]
     },
     "metadata": {},
     "output_type": "display_data"
    },
    {
     "data": {
      "text/plain": [
       "0.48895186098629706"
      ]
     },
     "metadata": {},
     "output_type": "display_data"
    },
    {
     "data": {
      "text/plain": [
       "0.505780199341316"
      ]
     },
     "metadata": {},
     "output_type": "display_data"
    },
    {
     "data": {
      "text/plain": [
       "0.5522496000214288"
      ]
     },
     "metadata": {},
     "output_type": "display_data"
    },
    {
     "data": {
      "text/plain": [
       "0.49993901665211427"
      ]
     },
     "metadata": {},
     "output_type": "display_data"
    },
    {
     "data": {
      "text/plain": [
       "0.40912691472589424"
      ]
     },
     "metadata": {},
     "output_type": "display_data"
    },
    {
     "data": {
      "text/plain": [
       "0.5374259482024448"
      ]
     },
     "metadata": {},
     "output_type": "display_data"
    },
    {
     "data": {
      "text/plain": [
       "0.5188856435822324"
      ]
     },
     "metadata": {},
     "output_type": "display_data"
    },
    {
     "data": {
      "text/plain": [
       "0.4944324168961449"
      ]
     },
     "metadata": {},
     "output_type": "display_data"
    },
    {
     "data": {
      "text/plain": [
       "0.5569200321884753"
      ]
     },
     "metadata": {},
     "output_type": "display_data"
    },
    {
     "data": {
      "text/plain": [
       "0.5042639246330682"
      ]
     },
     "metadata": {},
     "output_type": "display_data"
    },
    {
     "data": {
      "text/plain": [
       "0.45098831647634485"
      ]
     },
     "metadata": {},
     "output_type": "display_data"
    },
    {
     "data": {
      "text/plain": [
       "0.5316771085137839"
      ]
     },
     "metadata": {},
     "output_type": "display_data"
    },
    {
     "data": {
      "text/plain": [
       "0.4424791622925257"
      ]
     },
     "metadata": {},
     "output_type": "display_data"
    },
    {
     "data": {
      "text/plain": [
       "0.5020028613583869"
      ]
     },
     "metadata": {},
     "output_type": "display_data"
    },
    {
     "data": {
      "text/plain": [
       "0.4683107790189398"
      ]
     },
     "metadata": {},
     "output_type": "display_data"
    },
    {
     "data": {
      "text/plain": [
       "0.5475049757654791"
      ]
     },
     "metadata": {},
     "output_type": "display_data"
    },
    {
     "data": {
      "text/plain": [
       "0.49996144357789785"
      ]
     },
     "metadata": {},
     "output_type": "display_data"
    },
    {
     "data": {
      "text/plain": [
       "0.5079971990611267"
      ]
     },
     "metadata": {},
     "output_type": "display_data"
    },
    {
     "data": {
      "text/plain": [
       "0.5151419963586554"
      ]
     },
     "metadata": {},
     "output_type": "display_data"
    },
    {
     "data": {
      "text/plain": [
       "0.5508655236437616"
      ]
     },
     "metadata": {},
     "output_type": "display_data"
    },
    {
     "data": {
      "text/plain": [
       "0.44912620164130335"
      ]
     },
     "metadata": {},
     "output_type": "display_data"
    },
    {
     "data": {
      "text/plain": [
       "0.48747601911142446"
      ]
     },
     "metadata": {},
     "output_type": "display_data"
    },
    {
     "data": {
      "text/plain": [
       "0.41877310932942624"
      ]
     },
     "metadata": {},
     "output_type": "display_data"
    },
    {
     "data": {
      "text/plain": [
       "0.4829418044804177"
      ]
     },
     "metadata": {},
     "output_type": "display_data"
    },
    {
     "data": {
      "text/plain": [
       "0.5321458270567638"
      ]
     },
     "metadata": {},
     "output_type": "display_data"
    },
    {
     "data": {
      "text/plain": [
       "0.5111175826131928"
      ]
     },
     "metadata": {},
     "output_type": "display_data"
    },
    {
     "data": {
      "text/plain": [
       "0.5210562605378004"
      ]
     },
     "metadata": {},
     "output_type": "display_data"
    },
    {
     "data": {
      "text/plain": [
       "0.47172782401520497"
      ]
     },
     "metadata": {},
     "output_type": "display_data"
    },
    {
     "data": {
      "text/plain": [
       "0.4366411965301613"
      ]
     },
     "metadata": {},
     "output_type": "display_data"
    },
    {
     "data": {
      "text/plain": [
       "0.4716580338606442"
      ]
     },
     "metadata": {},
     "output_type": "display_data"
    },
    {
     "data": {
      "text/plain": [
       "0.46397640057288125"
      ]
     },
     "metadata": {},
     "output_type": "display_data"
    },
    {
     "data": {
      "text/plain": [
       "0.5753820081253962"
      ]
     },
     "metadata": {},
     "output_type": "display_data"
    },
    {
     "data": {
      "text/plain": [
       "0.44842648844254374"
      ]
     },
     "metadata": {},
     "output_type": "display_data"
    },
    {
     "data": {
      "text/plain": [
       "0.4697936369398472"
      ]
     },
     "metadata": {},
     "output_type": "display_data"
    },
    {
     "data": {
      "text/plain": [
       "0.49648847588383704"
      ]
     },
     "metadata": {},
     "output_type": "display_data"
    },
    {
     "data": {
      "text/plain": [
       "0.5785111769898048"
      ]
     },
     "metadata": {},
     "output_type": "display_data"
    },
    {
     "data": {
      "text/plain": [
       "0.45560156861529233"
      ]
     },
     "metadata": {},
     "output_type": "display_data"
    },
    {
     "data": {
      "text/plain": [
       "0.5049239444197093"
      ]
     },
     "metadata": {},
     "output_type": "display_data"
    },
    {
     "data": {
      "text/plain": [
       "0.46292356948711433"
      ]
     },
     "metadata": {},
     "output_type": "display_data"
    },
    {
     "data": {
      "text/plain": [
       "0.46326693385498663"
      ]
     },
     "metadata": {},
     "output_type": "display_data"
    },
    {
     "data": {
      "text/plain": [
       "0.5820039781188222"
      ]
     },
     "metadata": {},
     "output_type": "display_data"
    },
    {
     "data": {
      "text/plain": [
       "0.5014952060188405"
      ]
     },
     "metadata": {},
     "output_type": "display_data"
    },
    {
     "data": {
      "text/plain": [
       "0.4619574906299544"
      ]
     },
     "metadata": {},
     "output_type": "display_data"
    },
    {
     "data": {
      "text/plain": [
       "0.4487920821025506"
      ]
     },
     "metadata": {},
     "output_type": "display_data"
    },
    {
     "data": {
      "text/plain": [
       "0.5063792959590585"
      ]
     },
     "metadata": {},
     "output_type": "display_data"
    },
    {
     "data": {
      "text/plain": [
       "0.4719120821409746"
      ]
     },
     "metadata": {},
     "output_type": "display_data"
    },
    {
     "data": {
      "text/plain": [
       "0.4751192871634462"
      ]
     },
     "metadata": {},
     "output_type": "display_data"
    },
    {
     "data": {
      "text/plain": [
       "0.48738920038799405"
      ]
     },
     "metadata": {},
     "output_type": "display_data"
    },
    {
     "data": {
      "text/plain": [
       "0.4811463473686386"
      ]
     },
     "metadata": {},
     "output_type": "display_data"
    },
    {
     "data": {
      "text/plain": [
       "0.5112581141250989"
      ]
     },
     "metadata": {},
     "output_type": "display_data"
    },
    {
     "data": {
      "text/plain": [
       "0.42460640439262853"
      ]
     },
     "metadata": {},
     "output_type": "display_data"
    },
    {
     "data": {
      "text/plain": [
       "0.5071843516096983"
      ]
     },
     "metadata": {},
     "output_type": "display_data"
    },
    {
     "data": {
      "text/plain": [
       "0.4956271287006593"
      ]
     },
     "metadata": {},
     "output_type": "display_data"
    },
    {
     "data": {
      "text/plain": [
       "0.5312561197794019"
      ]
     },
     "metadata": {},
     "output_type": "display_data"
    },
    {
     "data": {
      "text/plain": [
       "0.49903057341757906"
      ]
     },
     "metadata": {},
     "output_type": "display_data"
    },
    {
     "data": {
      "text/plain": [
       "0.4600696161245508"
      ]
     },
     "metadata": {},
     "output_type": "display_data"
    },
    {
     "data": {
      "text/plain": [
       "0.5249573145155115"
      ]
     },
     "metadata": {},
     "output_type": "display_data"
    },
    {
     "data": {
      "text/plain": [
       "0.4963259533694977"
      ]
     },
     "metadata": {},
     "output_type": "display_data"
    },
    {
     "data": {
      "text/plain": [
       "0.506181229286895"
      ]
     },
     "metadata": {},
     "output_type": "display_data"
    },
    {
     "data": {
      "text/plain": [
       "0.4855909061449726"
      ]
     },
     "metadata": {},
     "output_type": "display_data"
    },
    {
     "data": {
      "text/plain": [
       "0.4994775941752394"
      ]
     },
     "metadata": {},
     "output_type": "display_data"
    },
    {
     "data": {
      "text/plain": [
       "0.49421678976370575"
      ]
     },
     "metadata": {},
     "output_type": "display_data"
    },
    {
     "data": {
      "text/plain": [
       "0.46000286452791705"
      ]
     },
     "metadata": {},
     "output_type": "display_data"
    },
    {
     "data": {
      "text/plain": [
       "0.5472079682828754"
      ]
     },
     "metadata": {},
     "output_type": "display_data"
    },
    {
     "data": {
      "text/plain": [
       "0.4317669038854923"
      ]
     },
     "metadata": {},
     "output_type": "display_data"
    },
    {
     "data": {
      "text/plain": [
       "0.4644301174026517"
      ]
     },
     "metadata": {},
     "output_type": "display_data"
    },
    {
     "data": {
      "text/plain": [
       "0.47218340385932356"
      ]
     },
     "metadata": {},
     "output_type": "display_data"
    },
    {
     "data": {
      "text/plain": [
       "0.5481961576947794"
      ]
     },
     "metadata": {},
     "output_type": "display_data"
    },
    {
     "data": {
      "text/plain": [
       "0.5314174995749781"
      ]
     },
     "metadata": {},
     "output_type": "display_data"
    },
    {
     "data": {
      "text/plain": [
       "0.5408640832817291"
      ]
     },
     "metadata": {},
     "output_type": "display_data"
    },
    {
     "data": {
      "text/plain": [
       "0.4825724490157124"
      ]
     },
     "metadata": {},
     "output_type": "display_data"
    },
    {
     "data": {
      "text/plain": [
       "0.49113463477339847"
      ]
     },
     "metadata": {},
     "output_type": "display_data"
    },
    {
     "data": {
      "text/plain": [
       "0.5348632867014476"
      ]
     },
     "metadata": {},
     "output_type": "display_data"
    },
    {
     "data": {
      "text/plain": [
       "0.5584940462920236"
      ]
     },
     "metadata": {},
     "output_type": "display_data"
    },
    {
     "data": {
      "text/plain": [
       "0.5253999744431863"
      ]
     },
     "metadata": {},
     "output_type": "display_data"
    },
    {
     "data": {
      "text/plain": [
       "0.5509354238479927"
      ]
     },
     "metadata": {},
     "output_type": "display_data"
    },
    {
     "data": {
      "text/plain": [
       "0.5021095645145968"
      ]
     },
     "metadata": {},
     "output_type": "display_data"
    },
    {
     "data": {
      "text/plain": [
       "0.5028428391775526"
      ]
     },
     "metadata": {},
     "output_type": "display_data"
    },
    {
     "data": {
      "text/plain": [
       "0.4628464688875975"
      ]
     },
     "metadata": {},
     "output_type": "display_data"
    },
    {
     "data": {
      "text/plain": [
       "0.5256717783069296"
      ]
     },
     "metadata": {},
     "output_type": "display_data"
    },
    {
     "data": {
      "text/plain": [
       "0.5503692986693864"
      ]
     },
     "metadata": {},
     "output_type": "display_data"
    },
    {
     "data": {
      "text/plain": [
       "0.48580501962755385"
      ]
     },
     "metadata": {},
     "output_type": "display_data"
    },
    {
     "data": {
      "text/plain": [
       "0.41628962232536004"
      ]
     },
     "metadata": {},
     "output_type": "display_data"
    },
    {
     "data": {
      "text/plain": [
       "0.5159700456918732"
      ]
     },
     "metadata": {},
     "output_type": "display_data"
    },
    {
     "data": {
      "text/plain": [
       "0.4484739585071771"
      ]
     },
     "metadata": {},
     "output_type": "display_data"
    },
    {
     "data": {
      "text/plain": [
       "0.4520546594439496"
      ]
     },
     "metadata": {},
     "output_type": "display_data"
    },
    {
     "data": {
      "text/plain": [
       "0.45757405903418125"
      ]
     },
     "metadata": {},
     "output_type": "display_data"
    },
    {
     "data": {
      "text/plain": [
       "0.48175854426308184"
      ]
     },
     "metadata": {},
     "output_type": "display_data"
    },
    {
     "data": {
      "text/plain": [
       "0.5327403867430114"
      ]
     },
     "metadata": {},
     "output_type": "display_data"
    },
    {
     "data": {
      "text/plain": [
       "0.555229073288928"
      ]
     },
     "metadata": {},
     "output_type": "display_data"
    },
    {
     "data": {
      "text/plain": [
       "0.5102666951328549"
      ]
     },
     "metadata": {},
     "output_type": "display_data"
    },
    {
     "data": {
      "text/plain": [
       "0.5283916415473642"
      ]
     },
     "metadata": {},
     "output_type": "display_data"
    },
    {
     "data": {
      "text/plain": [
       "0.4777228005926828"
      ]
     },
     "metadata": {},
     "output_type": "display_data"
    },
    {
     "data": {
      "text/plain": [
       "0.5321909099639188"
      ]
     },
     "metadata": {},
     "output_type": "display_data"
    },
    {
     "data": {
      "text/plain": [
       "0.5276295727949392"
      ]
     },
     "metadata": {},
     "output_type": "display_data"
    },
    {
     "data": {
      "text/plain": [
       "0.5241849062435753"
      ]
     },
     "metadata": {},
     "output_type": "display_data"
    },
    {
     "data": {
      "text/plain": [
       "0.5584653690466799"
      ]
     },
     "metadata": {},
     "output_type": "display_data"
    },
    {
     "data": {
      "text/plain": [
       "0.5061913122077617"
      ]
     },
     "metadata": {},
     "output_type": "display_data"
    },
    {
     "data": {
      "text/plain": [
       "0.5535386776628286"
      ]
     },
     "metadata": {},
     "output_type": "display_data"
    },
    {
     "data": {
      "text/plain": [
       "0.5358378953011198"
      ]
     },
     "metadata": {},
     "output_type": "display_data"
    },
    {
     "data": {
      "text/plain": [
       "0.5245383241894901"
      ]
     },
     "metadata": {},
     "output_type": "display_data"
    },
    {
     "data": {
      "text/plain": [
       "0.5195283897874274"
      ]
     },
     "metadata": {},
     "output_type": "display_data"
    },
    {
     "data": {
      "text/plain": [
       "0.44526226103974365"
      ]
     },
     "metadata": {},
     "output_type": "display_data"
    },
    {
     "data": {
      "text/plain": [
       "0.491296638556479"
      ]
     },
     "metadata": {},
     "output_type": "display_data"
    },
    {
     "data": {
      "text/plain": [
       "0.5017357110998009"
      ]
     },
     "metadata": {},
     "output_type": "display_data"
    },
    {
     "data": {
      "text/plain": [
       "0.49256178850566323"
      ]
     },
     "metadata": {},
     "output_type": "display_data"
    },
    {
     "data": {
      "text/plain": [
       "0.5969756702326188"
      ]
     },
     "metadata": {},
     "output_type": "display_data"
    },
    {
     "data": {
      "text/plain": [
       "0.514659492031543"
      ]
     },
     "metadata": {},
     "output_type": "display_data"
    },
    {
     "data": {
      "text/plain": [
       "0.5346705761311688"
      ]
     },
     "metadata": {},
     "output_type": "display_data"
    },
    {
     "data": {
      "text/plain": [
       "0.5129808548205088"
      ]
     },
     "metadata": {},
     "output_type": "display_data"
    },
    {
     "data": {
      "text/plain": [
       "0.4552001186627863"
      ]
     },
     "metadata": {},
     "output_type": "display_data"
    },
    {
     "data": {
      "text/plain": [
       "0.5476177953856998"
      ]
     },
     "metadata": {},
     "output_type": "display_data"
    },
    {
     "data": {
      "text/plain": [
       "0.4992624417134377"
      ]
     },
     "metadata": {},
     "output_type": "display_data"
    },
    {
     "data": {
      "text/plain": [
       "0.4960322356390967"
      ]
     },
     "metadata": {},
     "output_type": "display_data"
    },
    {
     "data": {
      "text/plain": [
       "0.5102986218369989"
      ]
     },
     "metadata": {},
     "output_type": "display_data"
    },
    {
     "data": {
      "text/plain": [
       "0.5661977155871449"
      ]
     },
     "metadata": {},
     "output_type": "display_data"
    },
    {
     "data": {
      "text/plain": [
       "0.4737647625891164"
      ]
     },
     "metadata": {},
     "output_type": "display_data"
    },
    {
     "data": {
      "text/plain": [
       "0.4797088488442425"
      ]
     },
     "metadata": {},
     "output_type": "display_data"
    },
    {
     "data": {
      "text/plain": [
       "0.4209080639226377"
      ]
     },
     "metadata": {},
     "output_type": "display_data"
    },
    {
     "data": {
      "text/plain": [
       "0.4667273013730262"
      ]
     },
     "metadata": {},
     "output_type": "display_data"
    },
    {
     "data": {
      "text/plain": [
       "0.4531134536715844"
      ]
     },
     "metadata": {},
     "output_type": "display_data"
    },
    {
     "data": {
      "text/plain": [
       "0.4745243110180781"
      ]
     },
     "metadata": {},
     "output_type": "display_data"
    },
    {
     "data": {
      "text/plain": [
       "0.5148132969283354"
      ]
     },
     "metadata": {},
     "output_type": "display_data"
    },
    {
     "data": {
      "text/plain": [
       "0.5033253327860905"
      ]
     },
     "metadata": {},
     "output_type": "display_data"
    },
    {
     "data": {
      "text/plain": [
       "0.5058297219208638"
      ]
     },
     "metadata": {},
     "output_type": "display_data"
    },
    {
     "data": {
      "text/plain": [
       "0.5406697114123515"
      ]
     },
     "metadata": {},
     "output_type": "display_data"
    },
    {
     "data": {
      "text/plain": [
       "0.5336646491906123"
      ]
     },
     "metadata": {},
     "output_type": "display_data"
    },
    {
     "data": {
      "text/plain": [
       "0.48225074705778503"
      ]
     },
     "metadata": {},
     "output_type": "display_data"
    },
    {
     "data": {
      "text/plain": [
       "0.4740045542572706"
      ]
     },
     "metadata": {},
     "output_type": "display_data"
    },
    {
     "data": {
      "text/plain": [
       "0.48240959842032183"
      ]
     },
     "metadata": {},
     "output_type": "display_data"
    },
    {
     "data": {
      "text/plain": [
       "0.49731547354332273"
      ]
     },
     "metadata": {},
     "output_type": "display_data"
    },
    {
     "data": {
      "text/plain": [
       "0.49519811919499324"
      ]
     },
     "metadata": {},
     "output_type": "display_data"
    },
    {
     "data": {
      "text/plain": [
       "0.5354458076993436"
      ]
     },
     "metadata": {},
     "output_type": "display_data"
    },
    {
     "data": {
      "text/plain": [
       "0.48325371675607887"
      ]
     },
     "metadata": {},
     "output_type": "display_data"
    },
    {
     "data": {
      "text/plain": [
       "0.5072072857020049"
      ]
     },
     "metadata": {},
     "output_type": "display_data"
    },
    {
     "data": {
      "text/plain": [
       "0.5626556094797253"
      ]
     },
     "metadata": {},
     "output_type": "display_data"
    },
    {
     "data": {
      "text/plain": [
       "0.47915525373058276"
      ]
     },
     "metadata": {},
     "output_type": "display_data"
    },
    {
     "data": {
      "text/plain": [
       "0.5392270422646366"
      ]
     },
     "metadata": {},
     "output_type": "display_data"
    },
    {
     "data": {
      "text/plain": [
       "0.5129487492622999"
      ]
     },
     "metadata": {},
     "output_type": "display_data"
    },
    {
     "data": {
      "text/plain": [
       "0.4334392880442901"
      ]
     },
     "metadata": {},
     "output_type": "display_data"
    },
    {
     "data": {
      "text/plain": [
       "0.5534842167773575"
      ]
     },
     "metadata": {},
     "output_type": "display_data"
    },
    {
     "data": {
      "text/plain": [
       "0.49812228744609355"
      ]
     },
     "metadata": {},
     "output_type": "display_data"
    },
    {
     "data": {
      "text/plain": [
       "0.4210146489087738"
      ]
     },
     "metadata": {},
     "output_type": "display_data"
    },
    {
     "data": {
      "text/plain": [
       "0.49219155899591804"
      ]
     },
     "metadata": {},
     "output_type": "display_data"
    },
    {
     "data": {
      "text/plain": [
       "0.4542006961210667"
      ]
     },
     "metadata": {},
     "output_type": "display_data"
    },
    {
     "data": {
      "text/plain": [
       "0.5259257805303421"
      ]
     },
     "metadata": {},
     "output_type": "display_data"
    },
    {
     "data": {
      "text/plain": [
       "0.5183325356754587"
      ]
     },
     "metadata": {},
     "output_type": "display_data"
    },
    {
     "data": {
      "text/plain": [
       "0.5182848108465978"
      ]
     },
     "metadata": {},
     "output_type": "display_data"
    },
    {
     "data": {
      "text/plain": [
       "0.5076084345289487"
      ]
     },
     "metadata": {},
     "output_type": "display_data"
    },
    {
     "data": {
      "text/plain": [
       "0.5493156516953026"
      ]
     },
     "metadata": {},
     "output_type": "display_data"
    },
    {
     "data": {
      "text/plain": [
       "0.4672746166666695"
      ]
     },
     "metadata": {},
     "output_type": "display_data"
    },
    {
     "data": {
      "text/plain": [
       "0.4866350729393525"
      ]
     },
     "metadata": {},
     "output_type": "display_data"
    },
    {
     "data": {
      "text/plain": [
       "0.4842865289168121"
      ]
     },
     "metadata": {},
     "output_type": "display_data"
    },
    {
     "data": {
      "text/plain": [
       "0.46699007010608184"
      ]
     },
     "metadata": {},
     "output_type": "display_data"
    },
    {
     "data": {
      "text/plain": [
       "0.5153639420899014"
      ]
     },
     "metadata": {},
     "output_type": "display_data"
    },
    {
     "data": {
      "text/plain": [
       "0.4320408862815359"
      ]
     },
     "metadata": {},
     "output_type": "display_data"
    },
    {
     "data": {
      "text/plain": [
       "0.553964893190916"
      ]
     },
     "metadata": {},
     "output_type": "display_data"
    },
    {
     "data": {
      "text/plain": [
       "0.49054501917197646"
      ]
     },
     "metadata": {},
     "output_type": "display_data"
    },
    {
     "data": {
      "text/plain": [
       "0.5259948358864861"
      ]
     },
     "metadata": {},
     "output_type": "display_data"
    },
    {
     "data": {
      "text/plain": [
       "0.500845142130959"
      ]
     },
     "metadata": {},
     "output_type": "display_data"
    },
    {
     "data": {
      "text/plain": [
       "0.5269617108410869"
      ]
     },
     "metadata": {},
     "output_type": "display_data"
    },
    {
     "data": {
      "text/plain": [
       "0.45645736961894423"
      ]
     },
     "metadata": {},
     "output_type": "display_data"
    },
    {
     "data": {
      "text/plain": [
       "0.48269064219112945"
      ]
     },
     "metadata": {},
     "output_type": "display_data"
    },
    {
     "data": {
      "text/plain": [
       "0.5228458011846353"
      ]
     },
     "metadata": {},
     "output_type": "display_data"
    },
    {
     "data": {
      "text/plain": [
       "0.4366737163431602"
      ]
     },
     "metadata": {},
     "output_type": "display_data"
    },
    {
     "data": {
      "text/plain": [
       "0.5183879378950516"
      ]
     },
     "metadata": {},
     "output_type": "display_data"
    },
    {
     "data": {
      "text/plain": [
       "0.4725448845846514"
      ]
     },
     "metadata": {},
     "output_type": "display_data"
    },
    {
     "data": {
      "text/plain": [
       "0.4958453419664899"
      ]
     },
     "metadata": {},
     "output_type": "display_data"
    },
    {
     "data": {
      "text/plain": [
       "0.52346154848563"
      ]
     },
     "metadata": {},
     "output_type": "display_data"
    },
    {
     "data": {
      "text/plain": [
       "0.5087483072620937"
      ]
     },
     "metadata": {},
     "output_type": "display_data"
    },
    {
     "data": {
      "text/plain": [
       "0.46705306833455085"
      ]
     },
     "metadata": {},
     "output_type": "display_data"
    },
    {
     "data": {
      "text/plain": [
       "0.4852827809611995"
      ]
     },
     "metadata": {},
     "output_type": "display_data"
    },
    {
     "data": {
      "text/plain": [
       "0.48036864637415677"
      ]
     },
     "metadata": {},
     "output_type": "display_data"
    },
    {
     "data": {
      "text/plain": [
       "0.47869539960326835"
      ]
     },
     "metadata": {},
     "output_type": "display_data"
    },
    {
     "data": {
      "text/plain": [
       "0.5203322173548774"
      ]
     },
     "metadata": {},
     "output_type": "display_data"
    },
    {
     "data": {
      "text/plain": [
       "0.45632323512107487"
      ]
     },
     "metadata": {},
     "output_type": "display_data"
    },
    {
     "data": {
      "text/plain": [
       "0.49301237649677"
      ]
     },
     "metadata": {},
     "output_type": "display_data"
    },
    {
     "data": {
      "text/plain": [
       "0.489086584849483"
      ]
     },
     "metadata": {},
     "output_type": "display_data"
    },
    {
     "data": {
      "text/plain": [
       "0.5257144664648052"
      ]
     },
     "metadata": {},
     "output_type": "display_data"
    },
    {
     "data": {
      "text/plain": [
       "0.5124967598469028"
      ]
     },
     "metadata": {},
     "output_type": "display_data"
    },
    {
     "data": {
      "text/plain": [
       "0.510647700849975"
      ]
     },
     "metadata": {},
     "output_type": "display_data"
    },
    {
     "data": {
      "text/plain": [
       "0.5099788821740061"
      ]
     },
     "metadata": {},
     "output_type": "display_data"
    },
    {
     "data": {
      "text/plain": [
       "0.4861140957995578"
      ]
     },
     "metadata": {},
     "output_type": "display_data"
    },
    {
     "data": {
      "text/plain": [
       "0.5019480730385957"
      ]
     },
     "metadata": {},
     "output_type": "display_data"
    },
    {
     "data": {
      "text/plain": [
       "0.46220590859519994"
      ]
     },
     "metadata": {},
     "output_type": "display_data"
    },
    {
     "data": {
      "text/plain": [
       "0.4733680831638174"
      ]
     },
     "metadata": {},
     "output_type": "display_data"
    },
    {
     "data": {
      "text/plain": [
       "0.4670702575804486"
      ]
     },
     "metadata": {},
     "output_type": "display_data"
    },
    {
     "data": {
      "text/plain": [
       "0.5287244183325615"
      ]
     },
     "metadata": {},
     "output_type": "display_data"
    },
    {
     "data": {
      "text/plain": [
       "0.505622970265732"
      ]
     },
     "metadata": {},
     "output_type": "display_data"
    },
    {
     "data": {
      "text/plain": [
       "0.49837775260284545"
      ]
     },
     "metadata": {},
     "output_type": "display_data"
    },
    {
     "data": {
      "text/plain": [
       "0.4990765169425875"
      ]
     },
     "metadata": {},
     "output_type": "display_data"
    },
    {
     "data": {
      "text/plain": [
       "0.583404621280923"
      ]
     },
     "metadata": {},
     "output_type": "display_data"
    },
    {
     "data": {
      "text/plain": [
       "0.5241544820586284"
      ]
     },
     "metadata": {},
     "output_type": "display_data"
    },
    {
     "data": {
      "text/plain": [
       "0.5075985796267668"
      ]
     },
     "metadata": {},
     "output_type": "display_data"
    },
    {
     "data": {
      "text/plain": [
       "0.46426452040380006"
      ]
     },
     "metadata": {},
     "output_type": "display_data"
    },
    {
     "data": {
      "text/plain": [
       "0.49150747624421065"
      ]
     },
     "metadata": {},
     "output_type": "display_data"
    },
    {
     "data": {
      "text/plain": [
       "0.5132602341806662"
      ]
     },
     "metadata": {},
     "output_type": "display_data"
    },
    {
     "data": {
      "text/plain": [
       "0.4405874900415898"
      ]
     },
     "metadata": {},
     "output_type": "display_data"
    },
    {
     "data": {
      "text/plain": [
       "0.5172583112220295"
      ]
     },
     "metadata": {},
     "output_type": "display_data"
    },
    {
     "data": {
      "text/plain": [
       "0.4769809669791507"
      ]
     },
     "metadata": {},
     "output_type": "display_data"
    },
    {
     "data": {
      "text/plain": [
       "0.5322753421996347"
      ]
     },
     "metadata": {},
     "output_type": "display_data"
    },
    {
     "data": {
      "text/plain": [
       "0.5309983420676483"
      ]
     },
     "metadata": {},
     "output_type": "display_data"
    },
    {
     "data": {
      "text/plain": [
       "0.4448688636809215"
      ]
     },
     "metadata": {},
     "output_type": "display_data"
    },
    {
     "data": {
      "text/plain": [
       "0.44332007208438196"
      ]
     },
     "metadata": {},
     "output_type": "display_data"
    },
    {
     "data": {
      "text/plain": [
       "0.5046487268420203"
      ]
     },
     "metadata": {},
     "output_type": "display_data"
    },
    {
     "data": {
      "text/plain": [
       "0.5477897841729225"
      ]
     },
     "metadata": {},
     "output_type": "display_data"
    },
    {
     "data": {
      "text/plain": [
       "0.5121741829578603"
      ]
     },
     "metadata": {},
     "output_type": "display_data"
    },
    {
     "data": {
      "text/plain": [
       "0.5218082178808867"
      ]
     },
     "metadata": {},
     "output_type": "display_data"
    },
    {
     "data": {
      "text/plain": [
       "0.5351458284125212"
      ]
     },
     "metadata": {},
     "output_type": "display_data"
    },
    {
     "data": {
      "text/plain": [
       "0.46190490579853805"
      ]
     },
     "metadata": {},
     "output_type": "display_data"
    },
    {
     "data": {
      "text/plain": [
       "0.4991226033494245"
      ]
     },
     "metadata": {},
     "output_type": "display_data"
    },
    {
     "data": {
      "text/plain": [
       "0.48818035782254254"
      ]
     },
     "metadata": {},
     "output_type": "display_data"
    },
    {
     "data": {
      "text/plain": [
       "0.49163024047418613"
      ]
     },
     "metadata": {},
     "output_type": "display_data"
    },
    {
     "data": {
      "text/plain": [
       "0.5386822997701759"
      ]
     },
     "metadata": {},
     "output_type": "display_data"
    },
    {
     "data": {
      "text/plain": [
       "0.5013505871501782"
      ]
     },
     "metadata": {},
     "output_type": "display_data"
    },
    {
     "data": {
      "text/plain": [
       "0.530761363567068"
      ]
     },
     "metadata": {},
     "output_type": "display_data"
    },
    {
     "data": {
      "text/plain": [
       "0.4517693351889531"
      ]
     },
     "metadata": {},
     "output_type": "display_data"
    },
    {
     "data": {
      "text/plain": [
       "0.5695620713587224"
      ]
     },
     "metadata": {},
     "output_type": "display_data"
    },
    {
     "data": {
      "text/plain": [
       "0.5108620530342418"
      ]
     },
     "metadata": {},
     "output_type": "display_data"
    },
    {
     "data": {
      "text/plain": [
       "0.4442738015932144"
      ]
     },
     "metadata": {},
     "output_type": "display_data"
    },
    {
     "data": {
      "text/plain": [
       "0.5272558026156093"
      ]
     },
     "metadata": {},
     "output_type": "display_data"
    },
    {
     "data": {
      "text/plain": [
       "0.5018519725311283"
      ]
     },
     "metadata": {},
     "output_type": "display_data"
    },
    {
     "data": {
      "text/plain": [
       "0.512787601290905"
      ]
     },
     "metadata": {},
     "output_type": "display_data"
    },
    {
     "data": {
      "text/plain": [
       "-7.801648109264029"
      ]
     },
     "metadata": {},
     "output_type": "display_data"
    },
    {
     "data": {
      "text/plain": [
       "-7.8251379899458495"
      ]
     },
     "metadata": {},
     "output_type": "display_data"
    },
    {
     "data": {
      "text/plain": [
       "-7.788569481484501"
      ]
     },
     "metadata": {},
     "output_type": "display_data"
    },
    {
     "data": {
      "text/plain": [
       "-7.821860580876008"
      ]
     },
     "metadata": {},
     "output_type": "display_data"
    },
    {
     "data": {
      "text/plain": [
       "-7.827514562636026"
      ]
     },
     "metadata": {},
     "output_type": "display_data"
    },
    {
     "data": {
      "text/plain": [
       "-7.854689122617581"
      ]
     },
     "metadata": {},
     "output_type": "display_data"
    },
    {
     "data": {
      "text/plain": [
       "-7.816564688001632"
      ]
     },
     "metadata": {},
     "output_type": "display_data"
    },
    {
     "data": {
      "text/plain": [
       "-7.80987520728366"
      ]
     },
     "metadata": {},
     "output_type": "display_data"
    },
    {
     "data": {
      "text/plain": [
       "-7.816521789056738"
      ]
     },
     "metadata": {},
     "output_type": "display_data"
    },
    {
     "data": {
      "text/plain": [
       "-7.8027504920994755"
      ]
     },
     "metadata": {},
     "output_type": "display_data"
    },
    {
     "data": {
      "text/plain": [
       "-7.8028214538520615"
      ]
     },
     "metadata": {},
     "output_type": "display_data"
    },
    {
     "data": {
      "text/plain": [
       "-7.821510184179797"
      ]
     },
     "metadata": {},
     "output_type": "display_data"
    },
    {
     "data": {
      "text/plain": [
       "-7.811333450854226"
      ]
     },
     "metadata": {},
     "output_type": "display_data"
    },
    {
     "data": {
      "text/plain": [
       "-7.816083740883126"
      ]
     },
     "metadata": {},
     "output_type": "display_data"
    },
    {
     "data": {
      "text/plain": [
       "-7.828110936946501"
      ]
     },
     "metadata": {},
     "output_type": "display_data"
    },
    {
     "data": {
      "text/plain": [
       "-7.812666451003913"
      ]
     },
     "metadata": {},
     "output_type": "display_data"
    },
    {
     "data": {
      "text/plain": [
       "-7.810461663153246"
      ]
     },
     "metadata": {},
     "output_type": "display_data"
    },
    {
     "data": {
      "text/plain": [
       "-7.829069361937368"
      ]
     },
     "metadata": {},
     "output_type": "display_data"
    },
    {
     "data": {
      "text/plain": [
       "-7.810409855122748"
      ]
     },
     "metadata": {},
     "output_type": "display_data"
    },
    {
     "data": {
      "text/plain": [
       "-7.843924515262383"
      ]
     },
     "metadata": {},
     "output_type": "display_data"
    },
    {
     "data": {
      "text/plain": [
       "-7.789884458510482"
      ]
     },
     "metadata": {},
     "output_type": "display_data"
    },
    {
     "data": {
      "text/plain": [
       "-7.829915546479233"
      ]
     },
     "metadata": {},
     "output_type": "display_data"
    },
    {
     "data": {
      "text/plain": [
       "-7.813775337336164"
      ]
     },
     "metadata": {},
     "output_type": "display_data"
    },
    {
     "data": {
      "text/plain": [
       "-7.82287137370751"
      ]
     },
     "metadata": {},
     "output_type": "display_data"
    },
    {
     "data": {
      "text/plain": [
       "-7.833695486031695"
      ]
     },
     "metadata": {},
     "output_type": "display_data"
    },
    {
     "data": {
      "text/plain": [
       "-7.8327123569597195"
      ]
     },
     "metadata": {},
     "output_type": "display_data"
    },
    {
     "data": {
      "text/plain": [
       "-7.821610909952431"
      ]
     },
     "metadata": {},
     "output_type": "display_data"
    },
    {
     "data": {
      "text/plain": [
       "-7.830398498282557"
      ]
     },
     "metadata": {},
     "output_type": "display_data"
    },
    {
     "data": {
      "text/plain": [
       "-7.8305701872549704"
      ]
     },
     "metadata": {},
     "output_type": "display_data"
    },
    {
     "data": {
      "text/plain": [
       "-7.810675722723737"
      ]
     },
     "metadata": {},
     "output_type": "display_data"
    },
    {
     "data": {
      "text/plain": [
       "-7.80823614946368"
      ]
     },
     "metadata": {},
     "output_type": "display_data"
    },
    {
     "data": {
      "text/plain": [
       "-7.814412753519125"
      ]
     },
     "metadata": {},
     "output_type": "display_data"
    },
    {
     "data": {
      "text/plain": [
       "-7.806043921322795"
      ]
     },
     "metadata": {},
     "output_type": "display_data"
    },
    {
     "data": {
      "text/plain": [
       "-7.82337812300627"
      ]
     },
     "metadata": {},
     "output_type": "display_data"
    },
    {
     "data": {
      "text/plain": [
       "-7.811973249659589"
      ]
     },
     "metadata": {},
     "output_type": "display_data"
    },
    {
     "data": {
      "text/plain": [
       "-7.832987522203439"
      ]
     },
     "metadata": {},
     "output_type": "display_data"
    },
    {
     "data": {
      "text/plain": [
       "-7.8069700689579555"
      ]
     },
     "metadata": {},
     "output_type": "display_data"
    },
    {
     "data": {
      "text/plain": [
       "-7.833259246179429"
      ]
     },
     "metadata": {},
     "output_type": "display_data"
    },
    {
     "data": {
      "text/plain": [
       "-7.8215481506976126"
      ]
     },
     "metadata": {},
     "output_type": "display_data"
    },
    {
     "data": {
      "text/plain": [
       "-7.81307537080516"
      ]
     },
     "metadata": {},
     "output_type": "display_data"
    },
    {
     "data": {
      "text/plain": [
       "-7.804075479892202"
      ]
     },
     "metadata": {},
     "output_type": "display_data"
    },
    {
     "data": {
      "text/plain": [
       "-7.834304626849665"
      ]
     },
     "metadata": {},
     "output_type": "display_data"
    },
    {
     "data": {
      "text/plain": [
       "-7.819608353868782"
      ]
     },
     "metadata": {},
     "output_type": "display_data"
    },
    {
     "data": {
      "text/plain": [
       "-7.807224841750781"
      ]
     },
     "metadata": {},
     "output_type": "display_data"
    },
    {
     "data": {
      "text/plain": [
       "-7.826703831173699"
      ]
     },
     "metadata": {},
     "output_type": "display_data"
    },
    {
     "data": {
      "text/plain": [
       "-7.811388947567622"
      ]
     },
     "metadata": {},
     "output_type": "display_data"
    },
    {
     "data": {
      "text/plain": [
       "-7.813981113118917"
      ]
     },
     "metadata": {},
     "output_type": "display_data"
    },
    {
     "data": {
      "text/plain": [
       "-7.828549152007499"
      ]
     },
     "metadata": {},
     "output_type": "display_data"
    },
    {
     "data": {
      "text/plain": [
       "-7.822721813473585"
      ]
     },
     "metadata": {},
     "output_type": "display_data"
    },
    {
     "data": {
      "text/plain": [
       "-7.820992764414541"
      ]
     },
     "metadata": {},
     "output_type": "display_data"
    },
    {
     "data": {
      "text/plain": [
       "-7.800169340219071"
      ]
     },
     "metadata": {},
     "output_type": "display_data"
    },
    {
     "data": {
      "text/plain": [
       "-7.825069399601222"
      ]
     },
     "metadata": {},
     "output_type": "display_data"
    },
    {
     "data": {
      "text/plain": [
       "-7.810058875030801"
      ]
     },
     "metadata": {},
     "output_type": "display_data"
    },
    {
     "data": {
      "text/plain": [
       "-7.832465258610586"
      ]
     },
     "metadata": {},
     "output_type": "display_data"
    },
    {
     "data": {
      "text/plain": [
       "-7.81656620047969"
      ]
     },
     "metadata": {},
     "output_type": "display_data"
    },
    {
     "data": {
      "text/plain": [
       "-7.822983090500763"
      ]
     },
     "metadata": {},
     "output_type": "display_data"
    },
    {
     "data": {
      "text/plain": [
       "-7.822138370023522"
      ]
     },
     "metadata": {},
     "output_type": "display_data"
    },
    {
     "data": {
      "text/plain": [
       "-7.803869882441591"
      ]
     },
     "metadata": {},
     "output_type": "display_data"
    },
    {
     "data": {
      "text/plain": [
       "-7.84080463816985"
      ]
     },
     "metadata": {},
     "output_type": "display_data"
    },
    {
     "data": {
      "text/plain": [
       "-7.809727839850449"
      ]
     },
     "metadata": {},
     "output_type": "display_data"
    },
    {
     "data": {
      "text/plain": [
       "-7.812728254087276"
      ]
     },
     "metadata": {},
     "output_type": "display_data"
    },
    {
     "data": {
      "text/plain": [
       "-7.826073538054205"
      ]
     },
     "metadata": {},
     "output_type": "display_data"
    },
    {
     "data": {
      "text/plain": [
       "-7.818909908399062"
      ]
     },
     "metadata": {},
     "output_type": "display_data"
    },
    {
     "data": {
      "text/plain": [
       "-7.821195740253568"
      ]
     },
     "metadata": {},
     "output_type": "display_data"
    },
    {
     "data": {
      "text/plain": [
       "-7.812155970332185"
      ]
     },
     "metadata": {},
     "output_type": "display_data"
    },
    {
     "data": {
      "text/plain": [
       "-7.83904363940259"
      ]
     },
     "metadata": {},
     "output_type": "display_data"
    },
    {
     "data": {
      "text/plain": [
       "-7.83284432074467"
      ]
     },
     "metadata": {},
     "output_type": "display_data"
    },
    {
     "data": {
      "text/plain": [
       "-7.805824766083756"
      ]
     },
     "metadata": {},
     "output_type": "display_data"
    },
    {
     "data": {
      "text/plain": [
       "-7.818209252103355"
      ]
     },
     "metadata": {},
     "output_type": "display_data"
    },
    {
     "data": {
      "text/plain": [
       "-7.829105786264071"
      ]
     },
     "metadata": {},
     "output_type": "display_data"
    },
    {
     "data": {
      "text/plain": [
       "-7.844512103129908"
      ]
     },
     "metadata": {},
     "output_type": "display_data"
    },
    {
     "data": {
      "text/plain": [
       "-7.81810046281843"
      ]
     },
     "metadata": {},
     "output_type": "display_data"
    },
    {
     "data": {
      "text/plain": [
       "-7.821256763198795"
      ]
     },
     "metadata": {},
     "output_type": "display_data"
    },
    {
     "data": {
      "text/plain": [
       "-7.818435839621856"
      ]
     },
     "metadata": {},
     "output_type": "display_data"
    },
    {
     "data": {
      "text/plain": [
       "-7.817196507598695"
      ]
     },
     "metadata": {},
     "output_type": "display_data"
    },
    {
     "data": {
      "text/plain": [
       "-7.822654865802548"
      ]
     },
     "metadata": {},
     "output_type": "display_data"
    },
    {
     "data": {
      "text/plain": [
       "-7.846616303453221"
      ]
     },
     "metadata": {},
     "output_type": "display_data"
    },
    {
     "data": {
      "text/plain": [
       "-7.805500936438369"
      ]
     },
     "metadata": {},
     "output_type": "display_data"
    },
    {
     "data": {
      "text/plain": [
       "-7.802225250838077"
      ]
     },
     "metadata": {},
     "output_type": "display_data"
    },
    {
     "data": {
      "text/plain": [
       "-7.814386880288369"
      ]
     },
     "metadata": {},
     "output_type": "display_data"
    },
    {
     "data": {
      "text/plain": [
       "-7.8304675232898795"
      ]
     },
     "metadata": {},
     "output_type": "display_data"
    },
    {
     "data": {
      "text/plain": [
       "-7.8360136559487135"
      ]
     },
     "metadata": {},
     "output_type": "display_data"
    },
    {
     "data": {
      "text/plain": [
       "-7.821021703331535"
      ]
     },
     "metadata": {},
     "output_type": "display_data"
    },
    {
     "data": {
      "text/plain": [
       "-7.840546558270605"
      ]
     },
     "metadata": {},
     "output_type": "display_data"
    },
    {
     "data": {
      "text/plain": [
       "-7.832895206211397"
      ]
     },
     "metadata": {},
     "output_type": "display_data"
    },
    {
     "data": {
      "text/plain": [
       "-7.816644797170117"
      ]
     },
     "metadata": {},
     "output_type": "display_data"
    },
    {
     "data": {
      "text/plain": [
       "-7.84099954405476"
      ]
     },
     "metadata": {},
     "output_type": "display_data"
    },
    {
     "data": {
      "text/plain": [
       "-7.836088184021204"
      ]
     },
     "metadata": {},
     "output_type": "display_data"
    },
    {
     "data": {
      "text/plain": [
       "-7.827494572615693"
      ]
     },
     "metadata": {},
     "output_type": "display_data"
    },
    {
     "data": {
      "text/plain": [
       "-7.817089853902788"
      ]
     },
     "metadata": {},
     "output_type": "display_data"
    },
    {
     "data": {
      "text/plain": [
       "-7.822091538653002"
      ]
     },
     "metadata": {},
     "output_type": "display_data"
    },
    {
     "data": {
      "text/plain": [
       "-7.830304009795418"
      ]
     },
     "metadata": {},
     "output_type": "display_data"
    },
    {
     "data": {
      "text/plain": [
       "-7.831566108843173"
      ]
     },
     "metadata": {},
     "output_type": "display_data"
    },
    {
     "data": {
      "text/plain": [
       "-7.824183244168488"
      ]
     },
     "metadata": {},
     "output_type": "display_data"
    },
    {
     "data": {
      "text/plain": [
       "-7.833485707275214"
      ]
     },
     "metadata": {},
     "output_type": "display_data"
    },
    {
     "data": {
      "text/plain": [
       "-7.802537644078583"
      ]
     },
     "metadata": {},
     "output_type": "display_data"
    },
    {
     "data": {
      "text/plain": [
       "-7.8358690861570945"
      ]
     },
     "metadata": {},
     "output_type": "display_data"
    },
    {
     "data": {
      "text/plain": [
       "-7.830035585286556"
      ]
     },
     "metadata": {},
     "output_type": "display_data"
    },
    {
     "data": {
      "text/plain": [
       "-7.817855747361566"
      ]
     },
     "metadata": {},
     "output_type": "display_data"
    },
    {
     "data": {
      "text/plain": [
       "-7.8172293512551825"
      ]
     },
     "metadata": {},
     "output_type": "display_data"
    },
    {
     "data": {
      "text/plain": [
       "-7.839518933904204"
      ]
     },
     "metadata": {},
     "output_type": "display_data"
    },
    {
     "data": {
      "text/plain": [
       "-7.811729986530285"
      ]
     },
     "metadata": {},
     "output_type": "display_data"
    },
    {
     "data": {
      "text/plain": [
       "-7.8303558744686725"
      ]
     },
     "metadata": {},
     "output_type": "display_data"
    },
    {
     "data": {
      "text/plain": [
       "-7.817979005676394"
      ]
     },
     "metadata": {},
     "output_type": "display_data"
    },
    {
     "data": {
      "text/plain": [
       "-7.8251362324996805"
      ]
     },
     "metadata": {},
     "output_type": "display_data"
    },
    {
     "data": {
      "text/plain": [
       "-7.806790453242666"
      ]
     },
     "metadata": {},
     "output_type": "display_data"
    },
    {
     "data": {
      "text/plain": [
       "-7.824385155747892"
      ]
     },
     "metadata": {},
     "output_type": "display_data"
    },
    {
     "data": {
      "text/plain": [
       "-7.833979661541548"
      ]
     },
     "metadata": {},
     "output_type": "display_data"
    },
    {
     "data": {
      "text/plain": [
       "-7.814563815994022"
      ]
     },
     "metadata": {},
     "output_type": "display_data"
    },
    {
     "data": {
      "text/plain": [
       "-7.820499018938786"
      ]
     },
     "metadata": {},
     "output_type": "display_data"
    },
    {
     "data": {
      "text/plain": [
       "-7.829849326397808"
      ]
     },
     "metadata": {},
     "output_type": "display_data"
    },
    {
     "data": {
      "text/plain": [
       "-7.820245340693514"
      ]
     },
     "metadata": {},
     "output_type": "display_data"
    },
    {
     "data": {
      "text/plain": [
       "-7.84638359073384"
      ]
     },
     "metadata": {},
     "output_type": "display_data"
    },
    {
     "data": {
      "text/plain": [
       "-7.8040996093556725"
      ]
     },
     "metadata": {},
     "output_type": "display_data"
    },
    {
     "data": {
      "text/plain": [
       "-7.819454475998105"
      ]
     },
     "metadata": {},
     "output_type": "display_data"
    },
    {
     "data": {
      "text/plain": [
       "-7.82832706020104"
      ]
     },
     "metadata": {},
     "output_type": "display_data"
    },
    {
     "data": {
      "text/plain": [
       "-7.808311080686249"
      ]
     },
     "metadata": {},
     "output_type": "display_data"
    },
    {
     "data": {
      "text/plain": [
       "-7.818947637861662"
      ]
     },
     "metadata": {},
     "output_type": "display_data"
    },
    {
     "data": {
      "text/plain": [
       "-7.809879854388075"
      ]
     },
     "metadata": {},
     "output_type": "display_data"
    },
    {
     "data": {
      "text/plain": [
       "-7.801596188410407"
      ]
     },
     "metadata": {},
     "output_type": "display_data"
    },
    {
     "data": {
      "text/plain": [
       "-7.834660483324498"
      ]
     },
     "metadata": {},
     "output_type": "display_data"
    },
    {
     "data": {
      "text/plain": [
       "-7.812644691664538"
      ]
     },
     "metadata": {},
     "output_type": "display_data"
    },
    {
     "data": {
      "text/plain": [
       "-7.794722548576443"
      ]
     },
     "metadata": {},
     "output_type": "display_data"
    },
    {
     "data": {
      "text/plain": [
       "-7.803784026332231"
      ]
     },
     "metadata": {},
     "output_type": "display_data"
    },
    {
     "data": {
      "text/plain": [
       "-7.824379482288256"
      ]
     },
     "metadata": {},
     "output_type": "display_data"
    },
    {
     "data": {
      "text/plain": [
       "-7.813741217508248"
      ]
     },
     "metadata": {},
     "output_type": "display_data"
    },
    {
     "data": {
      "text/plain": [
       "-7.814486732917954"
      ]
     },
     "metadata": {},
     "output_type": "display_data"
    },
    {
     "data": {
      "text/plain": [
       "-7.812266358599819"
      ]
     },
     "metadata": {},
     "output_type": "display_data"
    },
    {
     "data": {
      "text/plain": [
       "-7.824134843200891"
      ]
     },
     "metadata": {},
     "output_type": "display_data"
    },
    {
     "data": {
      "text/plain": [
       "-7.8073630774442275"
      ]
     },
     "metadata": {},
     "output_type": "display_data"
    },
    {
     "data": {
      "text/plain": [
       "-7.840335832033533"
      ]
     },
     "metadata": {},
     "output_type": "display_data"
    },
    {
     "data": {
      "text/plain": [
       "-7.80597462749337"
      ]
     },
     "metadata": {},
     "output_type": "display_data"
    },
    {
     "data": {
      "text/plain": [
       "-7.824853113030654"
      ]
     },
     "metadata": {},
     "output_type": "display_data"
    },
    {
     "data": {
      "text/plain": [
       "-7.815218963531738"
      ]
     },
     "metadata": {},
     "output_type": "display_data"
    },
    {
     "data": {
      "text/plain": [
       "-7.844211366503975"
      ]
     },
     "metadata": {},
     "output_type": "display_data"
    },
    {
     "data": {
      "text/plain": [
       "-7.8159638237369595"
      ]
     },
     "metadata": {},
     "output_type": "display_data"
    },
    {
     "data": {
      "text/plain": [
       "-7.816079702019376"
      ]
     },
     "metadata": {},
     "output_type": "display_data"
    },
    {
     "data": {
      "text/plain": [
       "-7.833180835355671"
      ]
     },
     "metadata": {},
     "output_type": "display_data"
    },
    {
     "data": {
      "text/plain": [
       "-7.851380626241218"
      ]
     },
     "metadata": {},
     "output_type": "display_data"
    },
    {
     "data": {
      "text/plain": [
       "-7.823523341798303"
      ]
     },
     "metadata": {},
     "output_type": "display_data"
    },
    {
     "data": {
      "text/plain": [
       "-7.829356143196517"
      ]
     },
     "metadata": {},
     "output_type": "display_data"
    },
    {
     "data": {
      "text/plain": [
       "-7.825262858764585"
      ]
     },
     "metadata": {},
     "output_type": "display_data"
    },
    {
     "data": {
      "text/plain": [
       "-7.831392698807967"
      ]
     },
     "metadata": {},
     "output_type": "display_data"
    },
    {
     "data": {
      "text/plain": [
       "-7.8112151444201015"
      ]
     },
     "metadata": {},
     "output_type": "display_data"
    },
    {
     "data": {
      "text/plain": [
       "-7.785875706127825"
      ]
     },
     "metadata": {},
     "output_type": "display_data"
    },
    {
     "data": {
      "text/plain": [
       "-7.8233656272039696"
      ]
     },
     "metadata": {},
     "output_type": "display_data"
    },
    {
     "data": {
      "text/plain": [
       "-7.839131193422899"
      ]
     },
     "metadata": {},
     "output_type": "display_data"
    },
    {
     "data": {
      "text/plain": [
       "-7.827001016509318"
      ]
     },
     "metadata": {},
     "output_type": "display_data"
    },
    {
     "data": {
      "text/plain": [
       "-7.837642530370477"
      ]
     },
     "metadata": {},
     "output_type": "display_data"
    },
    {
     "data": {
      "text/plain": [
       "-7.820877662399395"
      ]
     },
     "metadata": {},
     "output_type": "display_data"
    },
    {
     "data": {
      "text/plain": [
       "-7.815109425035461"
      ]
     },
     "metadata": {},
     "output_type": "display_data"
    },
    {
     "data": {
      "text/plain": [
       "-7.851536207190728"
      ]
     },
     "metadata": {},
     "output_type": "display_data"
    },
    {
     "data": {
      "text/plain": [
       "-7.845069928926861"
      ]
     },
     "metadata": {},
     "output_type": "display_data"
    },
    {
     "data": {
      "text/plain": [
       "-7.830137853390919"
      ]
     },
     "metadata": {},
     "output_type": "display_data"
    },
    {
     "data": {
      "text/plain": [
       "-7.827629734368559"
      ]
     },
     "metadata": {},
     "output_type": "display_data"
    },
    {
     "data": {
      "text/plain": [
       "-7.810471609478158"
      ]
     },
     "metadata": {},
     "output_type": "display_data"
    },
    {
     "data": {
      "text/plain": [
       "-7.813366408407489"
      ]
     },
     "metadata": {},
     "output_type": "display_data"
    },
    {
     "data": {
      "text/plain": [
       "-7.803774063007721"
      ]
     },
     "metadata": {},
     "output_type": "display_data"
    },
    {
     "data": {
      "text/plain": [
       "-7.840466226133424"
      ]
     },
     "metadata": {},
     "output_type": "display_data"
    },
    {
     "data": {
      "text/plain": [
       "-7.825708163145803"
      ]
     },
     "metadata": {},
     "output_type": "display_data"
    },
    {
     "data": {
      "text/plain": [
       "-7.824126764863461"
      ]
     },
     "metadata": {},
     "output_type": "display_data"
    },
    {
     "data": {
      "text/plain": [
       "-7.834747856183206"
      ]
     },
     "metadata": {},
     "output_type": "display_data"
    },
    {
     "data": {
      "text/plain": [
       "-7.840928148733219"
      ]
     },
     "metadata": {},
     "output_type": "display_data"
    },
    {
     "data": {
      "text/plain": [
       "-7.806460153946841"
      ]
     },
     "metadata": {},
     "output_type": "display_data"
    },
    {
     "data": {
      "text/plain": [
       "-7.827829617070641"
      ]
     },
     "metadata": {},
     "output_type": "display_data"
    },
    {
     "data": {
      "text/plain": [
       "-7.820877357756572"
      ]
     },
     "metadata": {},
     "output_type": "display_data"
    },
    {
     "data": {
      "text/plain": [
       "-7.8068114555451515"
      ]
     },
     "metadata": {},
     "output_type": "display_data"
    },
    {
     "data": {
      "text/plain": [
       "-7.824594068257328"
      ]
     },
     "metadata": {},
     "output_type": "display_data"
    },
    {
     "data": {
      "text/plain": [
       "-7.82306726543646"
      ]
     },
     "metadata": {},
     "output_type": "display_data"
    },
    {
     "data": {
      "text/plain": [
       "-7.824729924487471"
      ]
     },
     "metadata": {},
     "output_type": "display_data"
    },
    {
     "data": {
      "text/plain": [
       "-7.833088816955696"
      ]
     },
     "metadata": {},
     "output_type": "display_data"
    },
    {
     "data": {
      "text/plain": [
       "-7.813420181536184"
      ]
     },
     "metadata": {},
     "output_type": "display_data"
    },
    {
     "data": {
      "text/plain": [
       "-7.841011831985778"
      ]
     },
     "metadata": {},
     "output_type": "display_data"
    },
    {
     "data": {
      "text/plain": [
       "-7.824993428915889"
      ]
     },
     "metadata": {},
     "output_type": "display_data"
    },
    {
     "data": {
      "text/plain": [
       "-7.803050761174161"
      ]
     },
     "metadata": {},
     "output_type": "display_data"
    },
    {
     "data": {
      "text/plain": [
       "-7.836358715138093"
      ]
     },
     "metadata": {},
     "output_type": "display_data"
    },
    {
     "data": {
      "text/plain": [
       "-7.830381247864668"
      ]
     },
     "metadata": {},
     "output_type": "display_data"
    },
    {
     "data": {
      "text/plain": [
       "-7.809629123608218"
      ]
     },
     "metadata": {},
     "output_type": "display_data"
    },
    {
     "data": {
      "text/plain": [
       "-7.825738432912724"
      ]
     },
     "metadata": {},
     "output_type": "display_data"
    },
    {
     "data": {
      "text/plain": [
       "-7.820375915902053"
      ]
     },
     "metadata": {},
     "output_type": "display_data"
    },
    {
     "data": {
      "text/plain": [
       "-7.804705536329358"
      ]
     },
     "metadata": {},
     "output_type": "display_data"
    },
    {
     "data": {
      "text/plain": [
       "-7.822255516658572"
      ]
     },
     "metadata": {},
     "output_type": "display_data"
    },
    {
     "data": {
      "text/plain": [
       "-7.849093098982912"
      ]
     },
     "metadata": {},
     "output_type": "display_data"
    },
    {
     "data": {
      "text/plain": [
       "-7.809845808081022"
      ]
     },
     "metadata": {},
     "output_type": "display_data"
    },
    {
     "data": {
      "text/plain": [
       "-7.816086942082389"
      ]
     },
     "metadata": {},
     "output_type": "display_data"
    },
    {
     "data": {
      "text/plain": [
       "-7.8240096281019405"
      ]
     },
     "metadata": {},
     "output_type": "display_data"
    },
    {
     "data": {
      "text/plain": [
       "-7.803057734857827"
      ]
     },
     "metadata": {},
     "output_type": "display_data"
    },
    {
     "data": {
      "text/plain": [
       "-7.8208657106927575"
      ]
     },
     "metadata": {},
     "output_type": "display_data"
    },
    {
     "data": {
      "text/plain": [
       "-7.837260891747551"
      ]
     },
     "metadata": {},
     "output_type": "display_data"
    },
    {
     "data": {
      "text/plain": [
       "-7.811803087623103"
      ]
     },
     "metadata": {},
     "output_type": "display_data"
    },
    {
     "data": {
      "text/plain": [
       "-7.839738185919687"
      ]
     },
     "metadata": {},
     "output_type": "display_data"
    },
    {
     "data": {
      "text/plain": [
       "-7.821593637580349"
      ]
     },
     "metadata": {},
     "output_type": "display_data"
    },
    {
     "data": {
      "text/plain": [
       "-7.832099981660978"
      ]
     },
     "metadata": {},
     "output_type": "display_data"
    },
    {
     "data": {
      "text/plain": [
       "-7.806365559939387"
      ]
     },
     "metadata": {},
     "output_type": "display_data"
    },
    {
     "data": {
      "text/plain": [
       "-7.822248337372713"
      ]
     },
     "metadata": {},
     "output_type": "display_data"
    },
    {
     "data": {
      "text/plain": [
       "-7.819657383616214"
      ]
     },
     "metadata": {},
     "output_type": "display_data"
    },
    {
     "data": {
      "text/plain": [
       "-7.817322343565481"
      ]
     },
     "metadata": {},
     "output_type": "display_data"
    },
    {
     "data": {
      "text/plain": [
       "-7.805191237366321"
      ]
     },
     "metadata": {},
     "output_type": "display_data"
    },
    {
     "data": {
      "text/plain": [
       "-7.837806235888127"
      ]
     },
     "metadata": {},
     "output_type": "display_data"
    },
    {
     "data": {
      "text/plain": [
       "-7.826201098130785"
      ]
     },
     "metadata": {},
     "output_type": "display_data"
    },
    {
     "data": {
      "text/plain": [
       "-7.846444515460982"
      ]
     },
     "metadata": {},
     "output_type": "display_data"
    },
    {
     "data": {
      "text/plain": [
       "-7.8276149483680495"
      ]
     },
     "metadata": {},
     "output_type": "display_data"
    },
    {
     "data": {
      "text/plain": [
       "-7.811644253963815"
      ]
     },
     "metadata": {},
     "output_type": "display_data"
    },
    {
     "data": {
      "text/plain": [
       "-7.818641243719123"
      ]
     },
     "metadata": {},
     "output_type": "display_data"
    },
    {
     "data": {
      "text/plain": [
       "-7.815366858851252"
      ]
     },
     "metadata": {},
     "output_type": "display_data"
    },
    {
     "data": {
      "text/plain": [
       "-7.831062962941923"
      ]
     },
     "metadata": {},
     "output_type": "display_data"
    },
    {
     "data": {
      "text/plain": [
       "-7.841416168719469"
      ]
     },
     "metadata": {},
     "output_type": "display_data"
    },
    {
     "data": {
      "text/plain": [
       "-7.831084206438991"
      ]
     },
     "metadata": {},
     "output_type": "display_data"
    },
    {
     "data": {
      "text/plain": [
       "-7.833406333587675"
      ]
     },
     "metadata": {},
     "output_type": "display_data"
    },
    {
     "data": {
      "text/plain": [
       "-7.796408483448069"
      ]
     },
     "metadata": {},
     "output_type": "display_data"
    },
    {
     "data": {
      "text/plain": [
       "-7.838010687699921"
      ]
     },
     "metadata": {},
     "output_type": "display_data"
    },
    {
     "data": {
      "text/plain": [
       "-7.831650734199913"
      ]
     },
     "metadata": {},
     "output_type": "display_data"
    },
    {
     "data": {
      "text/plain": [
       "-7.823356689382468"
      ]
     },
     "metadata": {},
     "output_type": "display_data"
    },
    {
     "data": {
      "text/plain": [
       "-7.7952597080464585"
      ]
     },
     "metadata": {},
     "output_type": "display_data"
    },
    {
     "data": {
      "text/plain": [
       "-7.835902007546833"
      ]
     },
     "metadata": {},
     "output_type": "display_data"
    },
    {
     "data": {
      "text/plain": [
       "-7.82065267034546"
      ]
     },
     "metadata": {},
     "output_type": "display_data"
    },
    {
     "data": {
      "text/plain": [
       "-7.833722127523146"
      ]
     },
     "metadata": {},
     "output_type": "display_data"
    },
    {
     "data": {
      "text/plain": [
       "-7.833619201461184"
      ]
     },
     "metadata": {},
     "output_type": "display_data"
    },
    {
     "data": {
      "text/plain": [
       "-7.793969873135472"
      ]
     },
     "metadata": {},
     "output_type": "display_data"
    },
    {
     "data": {
      "text/plain": [
       "-7.821756669445076"
      ]
     },
     "metadata": {},
     "output_type": "display_data"
    },
    {
     "data": {
      "text/plain": [
       "-7.834011378859135"
      ]
     },
     "metadata": {},
     "output_type": "display_data"
    },
    {
     "data": {
      "text/plain": [
       "-7.837903895384205"
      ]
     },
     "metadata": {},
     "output_type": "display_data"
    },
    {
     "data": {
      "text/plain": [
       "-7.820182027700753"
      ]
     },
     "metadata": {},
     "output_type": "display_data"
    },
    {
     "data": {
      "text/plain": [
       "-7.831006863710895"
      ]
     },
     "metadata": {},
     "output_type": "display_data"
    },
    {
     "data": {
      "text/plain": [
       "-7.83002743865624"
      ]
     },
     "metadata": {},
     "output_type": "display_data"
    },
    {
     "data": {
      "text/plain": [
       "-7.826228277248585"
      ]
     },
     "metadata": {},
     "output_type": "display_data"
    },
    {
     "data": {
      "text/plain": [
       "-7.82817165276699"
      ]
     },
     "metadata": {},
     "output_type": "display_data"
    },
    {
     "data": {
      "text/plain": [
       "-7.818595347176011"
      ]
     },
     "metadata": {},
     "output_type": "display_data"
    },
    {
     "data": {
      "text/plain": [
       "-7.84482055467787"
      ]
     },
     "metadata": {},
     "output_type": "display_data"
    },
    {
     "data": {
      "text/plain": [
       "-7.819921158009411"
      ]
     },
     "metadata": {},
     "output_type": "display_data"
    },
    {
     "data": {
      "text/plain": [
       "-7.8236305170044975"
      ]
     },
     "metadata": {},
     "output_type": "display_data"
    },
    {
     "data": {
      "text/plain": [
       "-7.811945634282607"
      ]
     },
     "metadata": {},
     "output_type": "display_data"
    },
    {
     "data": {
      "text/plain": [
       "-7.822546085568497"
      ]
     },
     "metadata": {},
     "output_type": "display_data"
    },
    {
     "data": {
      "text/plain": [
       "-7.834575185487955"
      ]
     },
     "metadata": {},
     "output_type": "display_data"
    },
    {
     "data": {
      "text/plain": [
       "-7.814065702564296"
      ]
     },
     "metadata": {},
     "output_type": "display_data"
    },
    {
     "data": {
      "text/plain": [
       "-7.823408388479008"
      ]
     },
     "metadata": {},
     "output_type": "display_data"
    },
    {
     "data": {
      "text/plain": [
       "-7.82024615176482"
      ]
     },
     "metadata": {},
     "output_type": "display_data"
    },
    {
     "data": {
      "text/plain": [
       "-7.826790298973197"
      ]
     },
     "metadata": {},
     "output_type": "display_data"
    },
    {
     "data": {
      "text/plain": [
       "-7.8224031631173325"
      ]
     },
     "metadata": {},
     "output_type": "display_data"
    },
    {
     "data": {
      "text/plain": [
       "-7.824077965877878"
      ]
     },
     "metadata": {},
     "output_type": "display_data"
    },
    {
     "data": {
      "text/plain": [
       "-7.834595085854488"
      ]
     },
     "metadata": {},
     "output_type": "display_data"
    },
    {
     "data": {
      "text/plain": [
       "-7.806469010194492"
      ]
     },
     "metadata": {},
     "output_type": "display_data"
    },
    {
     "data": {
      "text/plain": [
       "-7.842803826667648"
      ]
     },
     "metadata": {},
     "output_type": "display_data"
    },
    {
     "data": {
      "text/plain": [
       "-7.833270059382519"
      ]
     },
     "metadata": {},
     "output_type": "display_data"
    },
    {
     "data": {
      "text/plain": [
       "-7.830924223524303"
      ]
     },
     "metadata": {},
     "output_type": "display_data"
    },
    {
     "data": {
      "text/plain": [
       "-7.806124603679118"
      ]
     },
     "metadata": {},
     "output_type": "display_data"
    },
    {
     "data": {
      "text/plain": [
       "-7.811891003755159"
      ]
     },
     "metadata": {},
     "output_type": "display_data"
    },
    {
     "data": {
      "text/plain": [
       "-7.808665639547309"
      ]
     },
     "metadata": {},
     "output_type": "display_data"
    },
    {
     "data": {
      "text/plain": [
       "-7.827729617403666"
      ]
     },
     "metadata": {},
     "output_type": "display_data"
    },
    {
     "data": {
      "text/plain": [
       "-7.825051914547485"
      ]
     },
     "metadata": {},
     "output_type": "display_data"
    },
    {
     "data": {
      "text/plain": [
       "-7.810720778879521"
      ]
     },
     "metadata": {},
     "output_type": "display_data"
    },
    {
     "data": {
      "text/plain": [
       "-7.802499308238392"
      ]
     },
     "metadata": {},
     "output_type": "display_data"
    },
    {
     "data": {
      "text/plain": [
       "-7.8139174862365905"
      ]
     },
     "metadata": {},
     "output_type": "display_data"
    },
    {
     "data": {
      "text/plain": [
       "-7.805166736589728"
      ]
     },
     "metadata": {},
     "output_type": "display_data"
    },
    {
     "data": {
      "text/plain": [
       "-7.82155935144829"
      ]
     },
     "metadata": {},
     "output_type": "display_data"
    },
    {
     "data": {
      "text/plain": [
       "-7.82132355734975"
      ]
     },
     "metadata": {},
     "output_type": "display_data"
    },
    {
     "data": {
      "text/plain": [
       "-7.8337452303413375"
      ]
     },
     "metadata": {},
     "output_type": "display_data"
    },
    {
     "data": {
      "text/plain": [
       "-7.813826419947434"
      ]
     },
     "metadata": {},
     "output_type": "display_data"
    },
    {
     "data": {
      "text/plain": [
       "-7.805365082055038"
      ]
     },
     "metadata": {},
     "output_type": "display_data"
    },
    {
     "data": {
      "text/plain": [
       "-7.826723476449462"
      ]
     },
     "metadata": {},
     "output_type": "display_data"
    },
    {
     "data": {
      "text/plain": [
       "-7.847130784670682"
      ]
     },
     "metadata": {},
     "output_type": "display_data"
    },
    {
     "data": {
      "text/plain": [
       "-7.817049796686726"
      ]
     },
     "metadata": {},
     "output_type": "display_data"
    },
    {
     "data": {
      "text/plain": [
       "-7.837996825318784"
      ]
     },
     "metadata": {},
     "output_type": "display_data"
    },
    {
     "data": {
      "text/plain": [
       "-7.836947782302772"
      ]
     },
     "metadata": {},
     "output_type": "display_data"
    },
    {
     "data": {
      "text/plain": [
       "-7.835317565131312"
      ]
     },
     "metadata": {},
     "output_type": "display_data"
    },
    {
     "data": {
      "text/plain": [
       "-7.827982033523849"
      ]
     },
     "metadata": {},
     "output_type": "display_data"
    },
    {
     "data": {
      "text/plain": [
       "-7.81144258606354"
      ]
     },
     "metadata": {},
     "output_type": "display_data"
    },
    {
     "data": {
      "text/plain": [
       "-7.8036559124192255"
      ]
     },
     "metadata": {},
     "output_type": "display_data"
    },
    {
     "data": {
      "text/plain": [
       "-7.818918891988744"
      ]
     },
     "metadata": {},
     "output_type": "display_data"
    },
    {
     "data": {
      "text/plain": [
       "-7.812912715165883"
      ]
     },
     "metadata": {},
     "output_type": "display_data"
    },
    {
     "data": {
      "text/plain": [
       "-7.829228240186463"
      ]
     },
     "metadata": {},
     "output_type": "display_data"
    },
    {
     "data": {
      "text/plain": [
       "-7.811628969828728"
      ]
     },
     "metadata": {},
     "output_type": "display_data"
    },
    {
     "data": {
      "text/plain": [
       "-7.813169169081885"
      ]
     },
     "metadata": {},
     "output_type": "display_data"
    },
    {
     "data": {
      "text/plain": [
       "-7.814324049358415"
      ]
     },
     "metadata": {},
     "output_type": "display_data"
    },
    {
     "data": {
      "text/plain": [
       "-7.802509496294682"
      ]
     },
     "metadata": {},
     "output_type": "display_data"
    },
    {
     "data": {
      "text/plain": [
       "-7.82024288796684"
      ]
     },
     "metadata": {},
     "output_type": "display_data"
    },
    {
     "data": {
      "text/plain": [
       "-7.804252095925122"
      ]
     },
     "metadata": {},
     "output_type": "display_data"
    },
    {
     "data": {
      "text/plain": [
       "-7.810388487843284"
      ]
     },
     "metadata": {},
     "output_type": "display_data"
    },
    {
     "data": {
      "text/plain": [
       "-7.814205886017069"
      ]
     },
     "metadata": {},
     "output_type": "display_data"
    },
    {
     "data": {
      "text/plain": [
       "-7.815874006597397"
      ]
     },
     "metadata": {},
     "output_type": "display_data"
    },
    {
     "data": {
      "text/plain": [
       "-7.838932072689525"
      ]
     },
     "metadata": {},
     "output_type": "display_data"
    },
    {
     "data": {
      "text/plain": [
       "-7.825000855120258"
      ]
     },
     "metadata": {},
     "output_type": "display_data"
    },
    {
     "data": {
      "text/plain": [
       "-7.821679450401742"
      ]
     },
     "metadata": {},
     "output_type": "display_data"
    },
    {
     "data": {
      "text/plain": [
       "-7.824601604795523"
      ]
     },
     "metadata": {},
     "output_type": "display_data"
    },
    {
     "data": {
      "text/plain": [
       "-7.788349534874849"
      ]
     },
     "metadata": {},
     "output_type": "display_data"
    },
    {
     "data": {
      "text/plain": [
       "-7.817480971394254"
      ]
     },
     "metadata": {},
     "output_type": "display_data"
    },
    {
     "data": {
      "text/plain": [
       "-7.810786414986655"
      ]
     },
     "metadata": {},
     "output_type": "display_data"
    },
    {
     "data": {
      "text/plain": [
       "-7.818031778314772"
      ]
     },
     "metadata": {},
     "output_type": "display_data"
    },
    {
     "data": {
      "text/plain": [
       "-7.836020704056935"
      ]
     },
     "metadata": {},
     "output_type": "display_data"
    },
    {
     "data": {
      "text/plain": [
       "-7.8063262495738694"
      ]
     },
     "metadata": {},
     "output_type": "display_data"
    },
    {
     "data": {
      "text/plain": [
       "-7.8224719663428814"
      ]
     },
     "metadata": {},
     "output_type": "display_data"
    },
    {
     "data": {
      "text/plain": [
       "-7.823501783349499"
      ]
     },
     "metadata": {},
     "output_type": "display_data"
    },
    {
     "data": {
      "text/plain": [
       "-7.818908481763586"
      ]
     },
     "metadata": {},
     "output_type": "display_data"
    },
    {
     "data": {
      "text/plain": [
       "-7.79974356037083"
      ]
     },
     "metadata": {},
     "output_type": "display_data"
    },
    {
     "data": {
      "text/plain": [
       "-7.830441770660469"
      ]
     },
     "metadata": {},
     "output_type": "display_data"
    },
    {
     "data": {
      "text/plain": [
       "-7.82861608454318"
      ]
     },
     "metadata": {},
     "output_type": "display_data"
    },
    {
     "data": {
      "text/plain": [
       "-7.845852117642831"
      ]
     },
     "metadata": {},
     "output_type": "display_data"
    },
    {
     "data": {
      "text/plain": [
       "-7.832578402557157"
      ]
     },
     "metadata": {},
     "output_type": "display_data"
    },
    {
     "data": {
      "text/plain": [
       "-7.8366362991347"
      ]
     },
     "metadata": {},
     "output_type": "display_data"
    },
    {
     "data": {
      "text/plain": [
       "-7.830209557651088"
      ]
     },
     "metadata": {},
     "output_type": "display_data"
    },
    {
     "data": {
      "text/plain": [
       "-7.817430421389144"
      ]
     },
     "metadata": {},
     "output_type": "display_data"
    },
    {
     "data": {
      "text/plain": [
       "-7.821168237063459"
      ]
     },
     "metadata": {},
     "output_type": "display_data"
    },
    {
     "data": {
      "text/plain": [
       "-7.82035989654257"
      ]
     },
     "metadata": {},
     "output_type": "display_data"
    },
    {
     "data": {
      "text/plain": [
       "-7.808732552007685"
      ]
     },
     "metadata": {},
     "output_type": "display_data"
    },
    {
     "data": {
      "text/plain": [
       "-7.811128662737497"
      ]
     },
     "metadata": {},
     "output_type": "display_data"
    },
    {
     "data": {
      "text/plain": [
       "-7.8278294305526455"
      ]
     },
     "metadata": {},
     "output_type": "display_data"
    },
    {
     "data": {
      "text/plain": [
       "-7.830368494311202"
      ]
     },
     "metadata": {},
     "output_type": "display_data"
    },
    {
     "data": {
      "text/plain": [
       "-7.827780151546875"
      ]
     },
     "metadata": {},
     "output_type": "display_data"
    },
    {
     "data": {
      "text/plain": [
       "-7.8230933858561755"
      ]
     },
     "metadata": {},
     "output_type": "display_data"
    },
    {
     "data": {
      "text/plain": [
       "-7.823766745049753"
      ]
     },
     "metadata": {},
     "output_type": "display_data"
    },
    {
     "data": {
      "text/plain": [
       "-7.81052223868895"
      ]
     },
     "metadata": {},
     "output_type": "display_data"
    },
    {
     "data": {
      "text/plain": [
       "-7.827518054146406"
      ]
     },
     "metadata": {},
     "output_type": "display_data"
    },
    {
     "data": {
      "text/plain": [
       "-7.819913720979306"
      ]
     },
     "metadata": {},
     "output_type": "display_data"
    },
    {
     "data": {
      "text/plain": [
       "-7.801015325566102"
      ]
     },
     "metadata": {},
     "output_type": "display_data"
    },
    {
     "data": {
      "text/plain": [
       "-7.828786936052779"
      ]
     },
     "metadata": {},
     "output_type": "display_data"
    },
    {
     "data": {
      "text/plain": [
       "-7.809228467898329"
      ]
     },
     "metadata": {},
     "output_type": "display_data"
    },
    {
     "data": {
      "text/plain": [
       "-7.818042296988761"
      ]
     },
     "metadata": {},
     "output_type": "display_data"
    },
    {
     "data": {
      "text/plain": [
       "-7.842329078018864"
      ]
     },
     "metadata": {},
     "output_type": "display_data"
    },
    {
     "data": {
      "text/plain": [
       "-7.804271273886783"
      ]
     },
     "metadata": {},
     "output_type": "display_data"
    },
    {
     "data": {
      "text/plain": [
       "-7.822836134292475"
      ]
     },
     "metadata": {},
     "output_type": "display_data"
    },
    {
     "data": {
      "text/plain": [
       "-7.84582248363397"
      ]
     },
     "metadata": {},
     "output_type": "display_data"
    },
    {
     "data": {
      "text/plain": [
       "-7.8247185333584355"
      ]
     },
     "metadata": {},
     "output_type": "display_data"
    },
    {
     "data": {
      "text/plain": [
       "-7.836315833656686"
      ]
     },
     "metadata": {},
     "output_type": "display_data"
    },
    {
     "data": {
      "text/plain": [
       "-7.813741278156149"
      ]
     },
     "metadata": {},
     "output_type": "display_data"
    },
    {
     "data": {
      "text/plain": [
       "-7.816269986292385"
      ]
     },
     "metadata": {},
     "output_type": "display_data"
    },
    {
     "data": {
      "text/plain": [
       "-7.81628577178617"
      ]
     },
     "metadata": {},
     "output_type": "display_data"
    },
    {
     "data": {
      "text/plain": [
       "-7.819783587941394"
      ]
     },
     "metadata": {},
     "output_type": "display_data"
    },
    {
     "data": {
      "text/plain": [
       "-7.805733702553162"
      ]
     },
     "metadata": {},
     "output_type": "display_data"
    },
    {
     "data": {
      "text/plain": [
       "-7.832413193353965"
      ]
     },
     "metadata": {},
     "output_type": "display_data"
    },
    {
     "data": {
      "text/plain": [
       "-7.8264641844421465"
      ]
     },
     "metadata": {},
     "output_type": "display_data"
    },
    {
     "data": {
      "text/plain": [
       "-7.827196830530285"
      ]
     },
     "metadata": {},
     "output_type": "display_data"
    },
    {
     "data": {
      "text/plain": [
       "-7.832499104949061"
      ]
     },
     "metadata": {},
     "output_type": "display_data"
    },
    {
     "data": {
      "text/plain": [
       "-7.8172493310392515"
      ]
     },
     "metadata": {},
     "output_type": "display_data"
    },
    {
     "data": {
      "text/plain": [
       "-7.842726146926891"
      ]
     },
     "metadata": {},
     "output_type": "display_data"
    },
    {
     "data": {
      "text/plain": [
       "-7.804101943407812"
      ]
     },
     "metadata": {},
     "output_type": "display_data"
    },
    {
     "data": {
      "text/plain": [
       "-7.825237621786762"
      ]
     },
     "metadata": {},
     "output_type": "display_data"
    },
    {
     "data": {
      "text/plain": [
       "-7.813718124077278"
      ]
     },
     "metadata": {},
     "output_type": "display_data"
    },
    {
     "data": {
      "text/plain": [
       "-7.821965220140189"
      ]
     },
     "metadata": {},
     "output_type": "display_data"
    },
    {
     "data": {
      "text/plain": [
       "-7.8133936343641075"
      ]
     },
     "metadata": {},
     "output_type": "display_data"
    },
    {
     "data": {
      "text/plain": [
       "-7.835648689200617"
      ]
     },
     "metadata": {},
     "output_type": "display_data"
    },
    {
     "data": {
      "text/plain": [
       "-7.8276929317065775"
      ]
     },
     "metadata": {},
     "output_type": "display_data"
    },
    {
     "data": {
      "text/plain": [
       "-7.814771097831162"
      ]
     },
     "metadata": {},
     "output_type": "display_data"
    },
    {
     "data": {
      "text/plain": [
       "-7.841406870053817"
      ]
     },
     "metadata": {},
     "output_type": "display_data"
    },
    {
     "data": {
      "text/plain": [
       "-7.816251659737489"
      ]
     },
     "metadata": {},
     "output_type": "display_data"
    },
    {
     "data": {
      "text/plain": [
       "-7.830814060210281"
      ]
     },
     "metadata": {},
     "output_type": "display_data"
    },
    {
     "data": {
      "text/plain": [
       "-7.823561185403026"
      ]
     },
     "metadata": {},
     "output_type": "display_data"
    },
    {
     "data": {
      "text/plain": [
       "-7.814565668353993"
      ]
     },
     "metadata": {},
     "output_type": "display_data"
    },
    {
     "data": {
      "text/plain": [
       "-7.819413304255622"
      ]
     },
     "metadata": {},
     "output_type": "display_data"
    },
    {
     "data": {
      "text/plain": [
       "-7.832480087995641"
      ]
     },
     "metadata": {},
     "output_type": "display_data"
    },
    {
     "data": {
      "text/plain": [
       "-7.826886416783786"
      ]
     },
     "metadata": {},
     "output_type": "display_data"
    },
    {
     "data": {
      "text/plain": [
       "-7.82841223622253"
      ]
     },
     "metadata": {},
     "output_type": "display_data"
    },
    {
     "data": {
      "text/plain": [
       "-7.828928728859893"
      ]
     },
     "metadata": {},
     "output_type": "display_data"
    },
    {
     "data": {
      "text/plain": [
       "-7.815607363256632"
      ]
     },
     "metadata": {},
     "output_type": "display_data"
    },
    {
     "data": {
      "text/plain": [
       "-7.835688418782659"
      ]
     },
     "metadata": {},
     "output_type": "display_data"
    },
    {
     "data": {
      "text/plain": [
       "-7.824459192693659"
      ]
     },
     "metadata": {},
     "output_type": "display_data"
    },
    {
     "data": {
      "text/plain": [
       "-7.825696137341371"
      ]
     },
     "metadata": {},
     "output_type": "display_data"
    },
    {
     "data": {
      "text/plain": [
       "-7.813812113526739"
      ]
     },
     "metadata": {},
     "output_type": "display_data"
    },
    {
     "data": {
      "text/plain": [
       "-7.818190317473537"
      ]
     },
     "metadata": {},
     "output_type": "display_data"
    },
    {
     "data": {
      "text/plain": [
       "-7.8187946201984975"
      ]
     },
     "metadata": {},
     "output_type": "display_data"
    },
    {
     "data": {
      "text/plain": [
       "-7.819012711401852"
      ]
     },
     "metadata": {},
     "output_type": "display_data"
    },
    {
     "data": {
      "text/plain": [
       "-7.826626972088427"
      ]
     },
     "metadata": {},
     "output_type": "display_data"
    },
    {
     "data": {
      "text/plain": [
       "-7.821611239771233"
      ]
     },
     "metadata": {},
     "output_type": "display_data"
    },
    {
     "data": {
      "text/plain": [
       "-7.833937048254882"
      ]
     },
     "metadata": {},
     "output_type": "display_data"
    },
    {
     "data": {
      "text/plain": [
       "-7.8305629205144385"
      ]
     },
     "metadata": {},
     "output_type": "display_data"
    },
    {
     "data": {
      "text/plain": [
       "-7.8324748987946045"
      ]
     },
     "metadata": {},
     "output_type": "display_data"
    },
    {
     "data": {
      "text/plain": [
       "-7.812800618848275"
      ]
     },
     "metadata": {},
     "output_type": "display_data"
    },
    {
     "data": {
      "text/plain": [
       "-7.820426766348255"
      ]
     },
     "metadata": {},
     "output_type": "display_data"
    },
    {
     "data": {
      "text/plain": [
       "-7.8227546024297325"
      ]
     },
     "metadata": {},
     "output_type": "display_data"
    },
    {
     "data": {
      "text/plain": [
       "-7.822531401653265"
      ]
     },
     "metadata": {},
     "output_type": "display_data"
    },
    {
     "data": {
      "text/plain": [
       "-7.793450386594179"
      ]
     },
     "metadata": {},
     "output_type": "display_data"
    },
    {
     "data": {
      "text/plain": [
       "-7.814334218041841"
      ]
     },
     "metadata": {},
     "output_type": "display_data"
    },
    {
     "data": {
      "text/plain": [
       "-7.819786785994825"
      ]
     },
     "metadata": {},
     "output_type": "display_data"
    },
    {
     "data": {
      "text/plain": [
       "-7.833319809356123"
      ]
     },
     "metadata": {},
     "output_type": "display_data"
    },
    {
     "data": {
      "text/plain": [
       "-7.824934382416439"
      ]
     },
     "metadata": {},
     "output_type": "display_data"
    },
    {
     "data": {
      "text/plain": [
       "-7.817940220470657"
      ]
     },
     "metadata": {},
     "output_type": "display_data"
    },
    {
     "data": {
      "text/plain": [
       "-7.840283818671825"
      ]
     },
     "metadata": {},
     "output_type": "display_data"
    },
    {
     "data": {
      "text/plain": [
       "-7.816624972904581"
      ]
     },
     "metadata": {},
     "output_type": "display_data"
    },
    {
     "data": {
      "text/plain": [
       "-7.82945633844497"
      ]
     },
     "metadata": {},
     "output_type": "display_data"
    },
    {
     "data": {
      "text/plain": [
       "-7.811600342073547"
      ]
     },
     "metadata": {},
     "output_type": "display_data"
    },
    {
     "data": {
      "text/plain": [
       "-7.812032865033192"
      ]
     },
     "metadata": {},
     "output_type": "display_data"
    },
    {
     "data": {
      "text/plain": [
       "-7.839046261882094"
      ]
     },
     "metadata": {},
     "output_type": "display_data"
    },
    {
     "data": {
      "text/plain": [
       "-7.839495042023502"
      ]
     },
     "metadata": {},
     "output_type": "display_data"
    },
    {
     "data": {
      "text/plain": [
       "-7.820741535177298"
      ]
     },
     "metadata": {},
     "output_type": "display_data"
    },
    {
     "data": {
      "text/plain": [
       "-7.806266307387814"
      ]
     },
     "metadata": {},
     "output_type": "display_data"
    },
    {
     "data": {
      "text/plain": [
       "-7.818295884243673"
      ]
     },
     "metadata": {},
     "output_type": "display_data"
    },
    {
     "data": {
      "text/plain": [
       "-7.815116753818893"
      ]
     },
     "metadata": {},
     "output_type": "display_data"
    },
    {
     "data": {
      "text/plain": [
       "-7.810624506103959"
      ]
     },
     "metadata": {},
     "output_type": "display_data"
    },
    {
     "data": {
      "text/plain": [
       "-7.834027108851444"
      ]
     },
     "metadata": {},
     "output_type": "display_data"
    },
    {
     "data": {
      "text/plain": [
       "-7.82251667086401"
      ]
     },
     "metadata": {},
     "output_type": "display_data"
    },
    {
     "data": {
      "text/plain": [
       "-7.825980445137727"
      ]
     },
     "metadata": {},
     "output_type": "display_data"
    },
    {
     "data": {
      "text/plain": [
       "-7.8248956659183015"
      ]
     },
     "metadata": {},
     "output_type": "display_data"
    },
    {
     "data": {
      "text/plain": [
       "-7.809415391710743"
      ]
     },
     "metadata": {},
     "output_type": "display_data"
    },
    {
     "data": {
      "text/plain": [
       "-7.821803086342323"
      ]
     },
     "metadata": {},
     "output_type": "display_data"
    },
    {
     "data": {
      "text/plain": [
       "-7.812113022130937"
      ]
     },
     "metadata": {},
     "output_type": "display_data"
    },
    {
     "data": {
      "text/plain": [
       "-7.837031620250494"
      ]
     },
     "metadata": {},
     "output_type": "display_data"
    },
    {
     "data": {
      "text/plain": [
       "-7.79852817948178"
      ]
     },
     "metadata": {},
     "output_type": "display_data"
    },
    {
     "data": {
      "text/plain": [
       "-7.818724668342046"
      ]
     },
     "metadata": {},
     "output_type": "display_data"
    },
    {
     "data": {
      "text/plain": [
       "-7.8392188347849885"
      ]
     },
     "metadata": {},
     "output_type": "display_data"
    },
    {
     "data": {
      "text/plain": [
       "-7.813294824373015"
      ]
     },
     "metadata": {},
     "output_type": "display_data"
    },
    {
     "data": {
      "text/plain": [
       "-7.82164211044047"
      ]
     },
     "metadata": {},
     "output_type": "display_data"
    },
    {
     "data": {
      "text/plain": [
       "-7.818095084461879"
      ]
     },
     "metadata": {},
     "output_type": "display_data"
    },
    {
     "data": {
      "text/plain": [
       "2001×401 Matrix{Float64}:\n",
       "  0.560885   0.490861   0.596397  …   0.527256   0.501852   0.512788\n",
       " -7.80165   -7.82514   -7.78857      -7.81329   -7.82164   -7.8181\n",
       " -7.7954    -7.81889   -7.78232      -7.80704   -7.81539   -7.81185\n",
       "  0.0        0.0        0.0           0.0        0.0        0.0\n",
       "  0.0        0.0        0.0           0.0        0.0        0.0\n",
       "  0.0        0.0        0.0       …   0.0        0.0        0.0\n",
       "  0.0        0.0        0.0           0.0        0.0        0.0\n",
       "  0.0        0.0        0.0           0.0        0.0        0.0\n",
       "  0.0        0.0        0.0           0.0        0.0        0.0\n",
       "  0.0        0.0        0.0           0.0        0.0        0.0\n",
       "  0.0        0.0        0.0       …   0.0        0.0        0.0\n",
       "  0.0        0.0        0.0           0.0        0.0        0.0\n",
       "  0.0        0.0        0.0           0.0        0.0        0.0\n",
       "  ⋮                               ⋱                         ⋮\n",
       "  0.0        0.0        0.0           0.0        0.0        0.0\n",
       "  0.0        0.0        0.0       …   0.0        0.0        0.0\n",
       "  0.0        0.0        0.0           0.0        0.0        0.0\n",
       "  0.0        0.0        0.0           0.0        0.0        0.0\n",
       "  0.0        0.0        0.0           0.0        0.0        0.0\n",
       "  0.0        0.0        0.0           0.0        0.0        0.0\n",
       "  0.0        0.0        0.0       …   0.0        0.0        0.0\n",
       "  0.0        0.0        0.0           0.0        0.0        0.0\n",
       "  0.0        0.0        0.0           0.0        0.0        0.0\n",
       "  0.0        0.0        0.0           0.0        0.0        0.0\n",
       "  0.0        0.0        0.0           0.0        0.0        0.0\n",
       "  0.0        0.0        0.0       …   0.0        0.0        0.0"
      ]
     },
     "metadata": {},
     "output_type": "display_data"
    }
   ],
   "source": [
    "eta_1 = 1.0\n",
    "eta_2 = r\n",
    "display(V)\n",
    "for nt = 1:2\n",
    "    for nx = 1:N+1\n",
    "        # display(V[nt,nx])\n",
    "        J[nt,nx] = J_function(V,nx,nt,eta_1,eta_2,du,ae,ai,r);\n",
    "        display(J[nt,nx])\n",
    "    end\n",
    "    V[nt+1,:] = V[nt,:] .+ dt.*phi[nt,:]\n",
    "    phi[nt+1,:] = phi[nt,:] .+ dt.*(-2 .*phi[nt,:] .- V[nt,:] .+ J[nt,:] .+ muP0)\n",
    "end\n",
    "display(V)"
   ]
  },
  {
   "cell_type": "code",
   "execution_count": 19,
   "id": "0679269f-5fcb-41f8-a3ce-8ea209b5cb18",
   "metadata": {},
   "outputs": [
    {
     "data": {
      "text/plain": [
       "2001×401 Matrix{Float64}:\n",
       "  0.560885   0.490861   0.596397  …   0.527256   0.501852   0.512788\n",
       " -7.80165   -7.82514   -7.78857      -7.81329   -7.82164   -7.8181\n",
       " -7.7954    -7.81889   -7.78232      -7.80704   -7.81539   -7.81185\n",
       "  0.0        0.0        0.0           0.0        0.0        0.0\n",
       "  0.0        0.0        0.0           0.0        0.0        0.0\n",
       "  0.0        0.0        0.0       …   0.0        0.0        0.0\n",
       "  0.0        0.0        0.0           0.0        0.0        0.0\n",
       "  0.0        0.0        0.0           0.0        0.0        0.0\n",
       "  0.0        0.0        0.0           0.0        0.0        0.0\n",
       "  0.0        0.0        0.0           0.0        0.0        0.0\n",
       "  0.0        0.0        0.0       …   0.0        0.0        0.0\n",
       "  0.0        0.0        0.0           0.0        0.0        0.0\n",
       "  0.0        0.0        0.0           0.0        0.0        0.0\n",
       "  ⋮                               ⋱                         ⋮\n",
       "  0.0        0.0        0.0           0.0        0.0        0.0\n",
       "  0.0        0.0        0.0       …   0.0        0.0        0.0\n",
       "  0.0        0.0        0.0           0.0        0.0        0.0\n",
       "  0.0        0.0        0.0           0.0        0.0        0.0\n",
       "  0.0        0.0        0.0           0.0        0.0        0.0\n",
       "  0.0        0.0        0.0           0.0        0.0        0.0\n",
       "  0.0        0.0        0.0       …   0.0        0.0        0.0\n",
       "  0.0        0.0        0.0           0.0        0.0        0.0\n",
       "  0.0        0.0        0.0           0.0        0.0        0.0\n",
       "  0.0        0.0        0.0           0.0        0.0        0.0\n",
       "  0.0        0.0        0.0           0.0        0.0        0.0\n",
       "  0.0        0.0        0.0       …   0.0        0.0        0.0"
      ]
     },
     "metadata": {},
     "output_type": "display_data"
    }
   ],
   "source": [
    "display(V)"
   ]
  },
  {
   "cell_type": "code",
   "execution_count": 27,
   "id": "55dd3fc8-1f8b-43ca-a1d1-bc02e6b28540",
   "metadata": {},
   "outputs": [
    {
     "data": {
      "image/png": "[encoded data removed]",
      "image/svg+xml": [
       "<?xml version=\"1.0\" encoding=\"utf-8\"?>\n",
       "<svg xmlns=\"http://www.w3.org/2000/svg\" xmlns:xlink=\"http://www.w3.org/1999/xlink\" width=\"600\" height=\"400\" viewBox=\"0 0 2400 1600\">\n",
       "<defs>\n",
       "  <clipPath id=\"clip560\">\n",
       "    <rect x=\"0\" y=\"0\" width=\"2400\" height=\"1600\"/>\n",
       "  </clipPath>\n",
       "</defs>\n",
       "<path clip-path=\"url(#clip560)\" d=\"M0 1600 L2400 1600 L2400 0 L0 0  Z\" fill=\"#ffffff\" fill-rule=\"evenodd\" fill-opacity=\"1\"/>\n",
       "<defs>\n",
       "  <clipPath id=\"clip561\">\n",
       "    <rect x=\"480\" y=\"0\" width=\"1681\" height=\"1600\"/>\n",
       "  </clipPath>\n",
       "</defs>\n",
       "<path clip-path=\"url(#clip560)\" d=\"M201.019 1486.45 L2112.76 1486.45 L2112.76 47.2441 L201.019 47.2441  Z\" fill=\"#ffffff\" fill-rule=\"evenodd\" fill-opacity=\"1\"/>\n",
       "<defs>\n",
       "  <clipPath id=\"clip562\">\n",
       "    <rect x=\"201\" y=\"47\" width=\"1913\" height=\"1440\"/>\n",
       "  </clipPath>\n",
       "</defs>\n",
       "<polyline clip-path=\"url(#clip562)\" style=\"stroke:#000000; stroke-linecap:round; stroke-linejoin:round; stroke-width:2; stroke-opacity:0.1; fill:none\" points=\"675.378,1486.45 675.378,47.2441 \"/>\n",
       "<polyline clip-path=\"url(#clip562)\" style=\"stroke:#000000; stroke-linecap:round; stroke-linejoin:round; stroke-width:2; stroke-opacity:0.1; fill:none\" points=\"1152.12,1486.45 1152.12,47.2441 \"/>\n",
       "<polyline clip-path=\"url(#clip562)\" style=\"stroke:#000000; stroke-linecap:round; stroke-linejoin:round; stroke-width:2; stroke-opacity:0.1; fill:none\" points=\"1628.86,1486.45 1628.86,47.2441 \"/>\n",
       "<polyline clip-path=\"url(#clip562)\" style=\"stroke:#000000; stroke-linecap:round; stroke-linejoin:round; stroke-width:2; stroke-opacity:0.1; fill:none\" points=\"2105.6,1486.45 2105.6,47.2441 \"/>\n",
       "<polyline clip-path=\"url(#clip562)\" style=\"stroke:#000000; stroke-linecap:round; stroke-linejoin:round; stroke-width:2; stroke-opacity:0.1; fill:none\" points=\"201.019,1127.19 2112.76,1127.19 \"/>\n",
       "<polyline clip-path=\"url(#clip562)\" style=\"stroke:#000000; stroke-linecap:round; stroke-linejoin:round; stroke-width:2; stroke-opacity:0.1; fill:none\" points=\"201.019,767.565 2112.76,767.565 \"/>\n",
       "<polyline clip-path=\"url(#clip562)\" style=\"stroke:#000000; stroke-linecap:round; stroke-linejoin:round; stroke-width:2; stroke-opacity:0.1; fill:none\" points=\"201.019,407.944 2112.76,407.944 \"/>\n",
       "<polyline clip-path=\"url(#clip562)\" style=\"stroke:#000000; stroke-linecap:round; stroke-linejoin:round; stroke-width:2; stroke-opacity:0.1; fill:none\" points=\"201.019,48.323 2112.76,48.323 \"/>\n",
       "<polyline clip-path=\"url(#clip560)\" style=\"stroke:#000000; stroke-linecap:round; stroke-linejoin:round; stroke-width:4; stroke-opacity:1; fill:none\" points=\"201.019,1486.45 2112.76,1486.45 \"/>\n",
       "<polyline clip-path=\"url(#clip560)\" style=\"stroke:#000000; stroke-linecap:round; stroke-linejoin:round; stroke-width:4; stroke-opacity:1; fill:none\" points=\"675.378,1486.45 675.378,1467.55 \"/>\n",
       "<polyline clip-path=\"url(#clip560)\" style=\"stroke:#000000; stroke-linecap:round; stroke-linejoin:round; stroke-width:4; stroke-opacity:1; fill:none\" points=\"1152.12,1486.45 1152.12,1467.55 \"/>\n",
       "<polyline clip-path=\"url(#clip560)\" style=\"stroke:#000000; stroke-linecap:round; stroke-linejoin:round; stroke-width:4; stroke-opacity:1; fill:none\" points=\"1628.86,1486.45 1628.86,1467.55 \"/>\n",
       "<polyline clip-path=\"url(#clip560)\" style=\"stroke:#000000; stroke-linecap:round; stroke-linejoin:round; stroke-width:4; stroke-opacity:1; fill:none\" points=\"2105.6,1486.45 2105.6,1467.55 \"/>\n",
       "<path clip-path=\"url(#clip560)\" d=\"M634.985 1544.91 L642.623 1544.91 L642.623 1518.55 L634.313 1520.21 L634.313 1515.95 L642.577 1514.29 L647.253 1514.29 L647.253 1544.91 L654.892 1544.91 L654.892 1548.85 L634.985 1548.85 L634.985 1544.91 Z\" fill=\"#000000\" fill-rule=\"nonzero\" fill-opacity=\"1\" /><path clip-path=\"url(#clip560)\" d=\"M674.336 1517.37 Q670.725 1517.37 668.896 1520.93 Q667.091 1524.47 667.091 1531.6 Q667.091 1538.71 668.896 1542.27 Q670.725 1545.82 674.336 1545.82 Q677.97 1545.82 679.776 1542.27 Q681.605 1538.71 681.605 1531.6 Q681.605 1524.47 679.776 1520.93 Q677.97 1517.37 674.336 1517.37 M674.336 1513.66 Q680.146 1513.66 683.202 1518.27 Q686.281 1522.85 686.281 1531.6 Q686.281 1540.33 683.202 1544.94 Q680.146 1549.52 674.336 1549.52 Q668.526 1549.52 665.447 1544.94 Q662.392 1540.33 662.392 1531.6 Q662.392 1522.85 665.447 1518.27 Q668.526 1513.66 674.336 1513.66 Z\" fill=\"#000000\" fill-rule=\"nonzero\" fill-opacity=\"1\" /><path clip-path=\"url(#clip560)\" d=\"M704.498 1517.37 Q700.887 1517.37 699.058 1520.93 Q697.253 1524.47 697.253 1531.6 Q697.253 1538.71 699.058 1542.27 Q700.887 1545.82 704.498 1545.82 Q708.132 1545.82 709.938 1542.27 Q711.767 1538.71 711.767 1531.6 Q711.767 1524.47 709.938 1520.93 Q708.132 1517.37 704.498 1517.37 M704.498 1513.66 Q710.308 1513.66 713.364 1518.27 Q716.442 1522.85 716.442 1531.6 Q716.442 1540.33 713.364 1544.94 Q710.308 1549.52 704.498 1549.52 Q698.688 1549.52 695.609 1544.94 Q692.554 1540.33 692.554 1531.6 Q692.554 1522.85 695.609 1518.27 Q698.688 1513.66 704.498 1513.66 Z\" fill=\"#000000\" fill-rule=\"nonzero\" fill-opacity=\"1\" /><path clip-path=\"url(#clip560)\" d=\"M1115.81 1544.91 L1132.13 1544.91 L1132.13 1548.85 L1110.19 1548.85 L1110.19 1544.91 Q1112.85 1542.16 1117.43 1537.53 Q1122.04 1532.88 1123.22 1531.53 Q1125.47 1529.01 1126.34 1527.27 Q1127.25 1525.51 1127.25 1523.82 Q1127.25 1521.07 1125.3 1519.33 Q1123.38 1517.6 1120.28 1517.6 Q1118.08 1517.6 1115.63 1518.36 Q1113.2 1519.13 1110.42 1520.68 L1110.42 1515.95 Q1113.24 1514.82 1115.7 1514.24 Q1118.15 1513.66 1120.19 1513.66 Q1125.56 1513.66 1128.75 1516.35 Q1131.95 1519.03 1131.95 1523.52 Q1131.95 1525.65 1131.14 1527.57 Q1130.35 1529.47 1128.24 1532.07 Q1127.66 1532.74 1124.56 1535.95 Q1121.46 1539.15 1115.81 1544.91 Z\" fill=\"#000000\" fill-rule=\"nonzero\" fill-opacity=\"1\" /><path clip-path=\"url(#clip560)\" d=\"M1151.95 1517.37 Q1148.34 1517.37 1146.51 1520.93 Q1144.7 1524.47 1144.7 1531.6 Q1144.7 1538.71 1146.51 1542.27 Q1148.34 1545.82 1151.95 1545.82 Q1155.58 1545.82 1157.39 1542.27 Q1159.22 1538.71 1159.22 1531.6 Q1159.22 1524.47 1157.39 1520.93 Q1155.58 1517.37 1151.95 1517.37 M1151.95 1513.66 Q1157.76 1513.66 1160.81 1518.27 Q1163.89 1522.85 1163.89 1531.6 Q1163.89 1540.33 1160.81 1544.94 Q1157.76 1549.52 1151.95 1549.52 Q1146.14 1549.52 1143.06 1544.94 Q1140 1540.33 1140 1531.6 Q1140 1522.85 1143.06 1518.27 Q1146.14 1513.66 1151.95 1513.66 Z\" fill=\"#000000\" fill-rule=\"nonzero\" fill-opacity=\"1\" /><path clip-path=\"url(#clip560)\" d=\"M1182.11 1517.37 Q1178.5 1517.37 1176.67 1520.93 Q1174.86 1524.47 1174.86 1531.6 Q1174.86 1538.71 1176.67 1542.27 Q1178.5 1545.82 1182.11 1545.82 Q1185.74 1545.82 1187.55 1542.27 Q1189.38 1538.71 1189.38 1531.6 Q1189.38 1524.47 1187.55 1520.93 Q1185.74 1517.37 1182.11 1517.37 M1182.11 1513.66 Q1187.92 1513.66 1190.97 1518.27 Q1194.05 1522.85 1194.05 1531.6 Q1194.05 1540.33 1190.97 1544.94 Q1187.92 1549.52 1182.11 1549.52 Q1176.3 1549.52 1173.22 1544.94 Q1170.16 1540.33 1170.16 1531.6 Q1170.16 1522.85 1173.22 1518.27 Q1176.3 1513.66 1182.11 1513.66 Z\" fill=\"#000000\" fill-rule=\"nonzero\" fill-opacity=\"1\" /><path clip-path=\"url(#clip560)\" d=\"M1602.62 1530.21 Q1605.98 1530.93 1607.86 1533.2 Q1609.75 1535.47 1609.75 1538.8 Q1609.75 1543.92 1606.24 1546.72 Q1602.72 1549.52 1596.24 1549.52 Q1594.06 1549.52 1591.74 1549.08 Q1589.45 1548.66 1587 1547.81 L1587 1543.29 Q1588.94 1544.43 1591.26 1545.01 Q1593.57 1545.58 1596.1 1545.58 Q1600.49 1545.58 1602.79 1543.85 Q1605.1 1542.11 1605.1 1538.8 Q1605.1 1535.75 1602.95 1534.03 Q1600.82 1532.3 1597 1532.3 L1592.97 1532.3 L1592.97 1528.45 L1597.18 1528.45 Q1600.63 1528.45 1602.46 1527.09 Q1604.29 1525.7 1604.29 1523.11 Q1604.29 1520.45 1602.39 1519.03 Q1600.52 1517.6 1597 1517.6 Q1595.08 1517.6 1592.88 1518.01 Q1590.68 1518.43 1588.04 1519.31 L1588.04 1515.14 Q1590.7 1514.4 1593.02 1514.03 Q1595.36 1513.66 1597.42 1513.66 Q1602.74 1513.66 1605.84 1516.09 Q1608.94 1518.5 1608.94 1522.62 Q1608.94 1525.49 1607.3 1527.48 Q1605.66 1529.45 1602.62 1530.21 Z\" fill=\"#000000\" fill-rule=\"nonzero\" fill-opacity=\"1\" /><path clip-path=\"url(#clip560)\" d=\"M1628.62 1517.37 Q1625.01 1517.37 1623.18 1520.93 Q1621.37 1524.47 1621.37 1531.6 Q1621.37 1538.71 1623.18 1542.27 Q1625.01 1545.82 1628.62 1545.82 Q1632.25 1545.82 1634.06 1542.27 Q1635.89 1538.71 1635.89 1531.6 Q1635.89 1524.47 1634.06 1520.93 Q1632.25 1517.37 1628.62 1517.37 M1628.62 1513.66 Q1634.43 1513.66 1637.49 1518.27 Q1640.56 1522.85 1640.56 1531.6 Q1640.56 1540.33 1637.49 1544.94 Q1634.43 1549.52 1628.62 1549.52 Q1622.81 1549.52 1619.73 1544.94 Q1616.68 1540.33 1616.68 1531.6 Q1616.68 1522.85 1619.73 1518.27 Q1622.81 1513.66 1628.62 1513.66 Z\" fill=\"#000000\" fill-rule=\"nonzero\" fill-opacity=\"1\" /><path clip-path=\"url(#clip560)\" d=\"M1658.78 1517.37 Q1655.17 1517.37 1653.34 1520.93 Q1651.54 1524.47 1651.54 1531.6 Q1651.54 1538.71 1653.34 1542.27 Q1655.17 1545.82 1658.78 1545.82 Q1662.42 1545.82 1664.22 1542.27 Q1666.05 1538.71 1666.05 1531.6 Q1666.05 1524.47 1664.22 1520.93 Q1662.42 1517.37 1658.78 1517.37 M1658.78 1513.66 Q1664.59 1513.66 1667.65 1518.27 Q1670.73 1522.85 1670.73 1531.6 Q1670.73 1540.33 1667.65 1544.94 Q1664.59 1549.52 1658.78 1549.52 Q1652.97 1549.52 1649.89 1544.94 Q1646.84 1540.33 1646.84 1531.6 Q1646.84 1522.85 1649.89 1518.27 Q1652.97 1513.66 1658.78 1513.66 Z\" fill=\"#000000\" fill-rule=\"nonzero\" fill-opacity=\"1\" /><path clip-path=\"url(#clip560)\" d=\"M2078.7 1518.36 L2066.89 1536.81 L2078.7 1536.81 L2078.7 1518.36 M2077.47 1514.29 L2083.35 1514.29 L2083.35 1536.81 L2088.28 1536.81 L2088.28 1540.7 L2083.35 1540.7 L2083.35 1548.85 L2078.7 1548.85 L2078.7 1540.7 L2063.09 1540.7 L2063.09 1536.19 L2077.47 1514.29 Z\" fill=\"#000000\" fill-rule=\"nonzero\" fill-opacity=\"1\" /><path clip-path=\"url(#clip560)\" d=\"M2106.01 1517.37 Q2102.4 1517.37 2100.57 1520.93 Q2098.76 1524.47 2098.76 1531.6 Q2098.76 1538.71 2100.57 1542.27 Q2102.4 1545.82 2106.01 1545.82 Q2109.64 1545.82 2111.45 1542.27 Q2113.28 1538.71 2113.28 1531.6 Q2113.28 1524.47 2111.45 1520.93 Q2109.64 1517.37 2106.01 1517.37 M2106.01 1513.66 Q2111.82 1513.66 2114.88 1518.27 Q2117.95 1522.85 2117.95 1531.6 Q2117.95 1540.33 2114.88 1544.94 Q2111.82 1549.52 2106.01 1549.52 Q2100.2 1549.52 2097.12 1544.94 Q2094.07 1540.33 2094.07 1531.6 Q2094.07 1522.85 2097.12 1518.27 Q2100.2 1513.66 2106.01 1513.66 Z\" fill=\"#000000\" fill-rule=\"nonzero\" fill-opacity=\"1\" /><path clip-path=\"url(#clip560)\" d=\"M2136.17 1517.37 Q2132.56 1517.37 2130.73 1520.93 Q2128.93 1524.47 2128.93 1531.6 Q2128.93 1538.71 2130.73 1542.27 Q2132.56 1545.82 2136.17 1545.82 Q2139.81 1545.82 2141.61 1542.27 Q2143.44 1538.71 2143.44 1531.6 Q2143.44 1524.47 2141.61 1520.93 Q2139.81 1517.37 2136.17 1517.37 M2136.17 1513.66 Q2141.98 1513.66 2145.04 1518.27 Q2148.12 1522.85 2148.12 1531.6 Q2148.12 1540.33 2145.04 1544.94 Q2141.98 1549.52 2136.17 1549.52 Q2130.36 1549.52 2127.28 1544.94 Q2124.23 1540.33 2124.23 1531.6 Q2124.23 1522.85 2127.28 1518.27 Q2130.36 1513.66 2136.17 1513.66 Z\" fill=\"#000000\" fill-rule=\"nonzero\" fill-opacity=\"1\" /><polyline clip-path=\"url(#clip560)\" style=\"stroke:#000000; stroke-linecap:round; stroke-linejoin:round; stroke-width:4; stroke-opacity:1; fill:none\" points=\"201.019,1486.45 201.019,47.2441 \"/>\n",
       "<polyline clip-path=\"url(#clip560)\" style=\"stroke:#000000; stroke-linecap:round; stroke-linejoin:round; stroke-width:4; stroke-opacity:1; fill:none\" points=\"201.019,1127.19 217.809,1127.19 \"/>\n",
       "<polyline clip-path=\"url(#clip560)\" style=\"stroke:#000000; stroke-linecap:round; stroke-linejoin:round; stroke-width:4; stroke-opacity:1; fill:none\" points=\"201.019,767.565 217.809,767.565 \"/>\n",
       "<polyline clip-path=\"url(#clip560)\" style=\"stroke:#000000; stroke-linecap:round; stroke-linejoin:round; stroke-width:4; stroke-opacity:1; fill:none\" points=\"201.019,407.944 217.809,407.944 \"/>\n",
       "<polyline clip-path=\"url(#clip560)\" style=\"stroke:#000000; stroke-linecap:round; stroke-linejoin:round; stroke-width:4; stroke-opacity:1; fill:none\" points=\"201.019,48.323 217.809,48.323 \"/>\n",
       "<path clip-path=\"url(#clip560)\" d=\"M82.7975 1109.91 L101.154 1109.91 L101.154 1113.84 L87.0799 1113.84 L87.0799 1122.31 Q88.0984 1121.97 89.1169 1121.8 Q90.1354 1121.62 91.1539 1121.62 Q96.941 1121.62 100.321 1124.79 Q103.7 1127.96 103.7 1133.38 Q103.7 1138.96 100.228 1142.06 Q96.7558 1145.14 90.4364 1145.14 Q88.2604 1145.14 85.9919 1144.77 Q83.7466 1144.4 81.3392 1143.66 L81.3392 1138.96 Q83.4225 1140.09 85.6447 1140.65 Q87.8669 1141.2 90.3438 1141.2 Q94.3484 1141.2 96.6863 1139.1 Q99.0243 1136.99 99.0243 1133.38 Q99.0243 1129.77 96.6863 1127.66 Q94.3484 1125.55 90.3438 1125.55 Q88.4688 1125.55 86.5938 1125.97 Q84.7419 1126.39 82.7975 1127.27 L82.7975 1109.91 Z\" fill=\"#000000\" fill-rule=\"nonzero\" fill-opacity=\"1\" /><path clip-path=\"url(#clip560)\" d=\"M122.913 1112.99 Q119.302 1112.99 117.473 1116.55 Q115.668 1120.09 115.668 1127.22 Q115.668 1134.33 117.473 1137.89 Q119.302 1141.43 122.913 1141.43 Q126.547 1141.43 128.353 1137.89 Q130.182 1134.33 130.182 1127.22 Q130.182 1120.09 128.353 1116.55 Q126.547 1112.99 122.913 1112.99 M122.913 1109.28 Q128.723 1109.28 131.779 1113.89 Q134.857 1118.47 134.857 1127.22 Q134.857 1135.95 131.779 1140.55 Q128.723 1145.14 122.913 1145.14 Q117.103 1145.14 114.024 1140.55 Q110.969 1135.95 110.969 1127.22 Q110.969 1118.47 114.024 1113.89 Q117.103 1109.28 122.913 1109.28 Z\" fill=\"#000000\" fill-rule=\"nonzero\" fill-opacity=\"1\" /><path clip-path=\"url(#clip560)\" d=\"M153.075 1112.99 Q149.464 1112.99 147.635 1116.55 Q145.83 1120.09 145.83 1127.22 Q145.83 1134.33 147.635 1137.89 Q149.464 1141.43 153.075 1141.43 Q156.709 1141.43 158.515 1137.89 Q160.343 1134.33 160.343 1127.22 Q160.343 1120.09 158.515 1116.55 Q156.709 1112.99 153.075 1112.99 M153.075 1109.28 Q158.885 1109.28 161.941 1113.89 Q165.019 1118.47 165.019 1127.22 Q165.019 1135.95 161.941 1140.55 Q158.885 1145.14 153.075 1145.14 Q147.265 1145.14 144.186 1140.55 Q141.131 1135.95 141.131 1127.22 Q141.131 1118.47 144.186 1113.89 Q147.265 1109.28 153.075 1109.28 Z\" fill=\"#000000\" fill-rule=\"nonzero\" fill-opacity=\"1\" /><path clip-path=\"url(#clip560)\" d=\"M53.3995 780.91 L61.0384 780.91 L61.0384 754.544 L52.7282 756.211 L52.7282 751.952 L60.9921 750.285 L65.668 750.285 L65.668 780.91 L73.3068 780.91 L73.3068 784.845 L53.3995 784.845 L53.3995 780.91 Z\" fill=\"#000000\" fill-rule=\"nonzero\" fill-opacity=\"1\" /><path clip-path=\"url(#clip560)\" d=\"M92.7512 753.364 Q89.1401 753.364 87.3114 756.929 Q85.5058 760.47 85.5058 767.6 Q85.5058 774.706 87.3114 778.271 Q89.1401 781.813 92.7512 781.813 Q96.3854 781.813 98.1909 778.271 Q100.02 774.706 100.02 767.6 Q100.02 760.47 98.1909 756.929 Q96.3854 753.364 92.7512 753.364 M92.7512 749.66 Q98.5613 749.66 101.617 754.267 Q104.696 758.85 104.696 767.6 Q104.696 776.327 101.617 780.933 Q98.5613 785.517 92.7512 785.517 Q86.941 785.517 83.8623 780.933 Q80.8068 776.327 80.8068 767.6 Q80.8068 758.85 83.8623 754.267 Q86.941 749.66 92.7512 749.66 Z\" fill=\"#000000\" fill-rule=\"nonzero\" fill-opacity=\"1\" /><path clip-path=\"url(#clip560)\" d=\"M122.913 753.364 Q119.302 753.364 117.473 756.929 Q115.668 760.47 115.668 767.6 Q115.668 774.706 117.473 778.271 Q119.302 781.813 122.913 781.813 Q126.547 781.813 128.353 778.271 Q130.182 774.706 130.182 767.6 Q130.182 760.47 128.353 756.929 Q126.547 753.364 122.913 753.364 M122.913 749.66 Q128.723 749.66 131.779 754.267 Q134.857 758.85 134.857 767.6 Q134.857 776.327 131.779 780.933 Q128.723 785.517 122.913 785.517 Q117.103 785.517 114.024 780.933 Q110.969 776.327 110.969 767.6 Q110.969 758.85 114.024 754.267 Q117.103 749.66 122.913 749.66 Z\" fill=\"#000000\" fill-rule=\"nonzero\" fill-opacity=\"1\" /><path clip-path=\"url(#clip560)\" d=\"M153.075 753.364 Q149.464 753.364 147.635 756.929 Q145.83 760.47 145.83 767.6 Q145.83 774.706 147.635 778.271 Q149.464 781.813 153.075 781.813 Q156.709 781.813 158.515 778.271 Q160.343 774.706 160.343 767.6 Q160.343 760.47 158.515 756.929 Q156.709 753.364 153.075 753.364 M153.075 749.66 Q158.885 749.66 161.941 754.267 Q165.019 758.85 165.019 767.6 Q165.019 776.327 161.941 780.933 Q158.885 785.517 153.075 785.517 Q147.265 785.517 144.186 780.933 Q141.131 776.327 141.131 767.6 Q141.131 758.85 144.186 754.267 Q147.265 749.66 153.075 749.66 Z\" fill=\"#000000\" fill-rule=\"nonzero\" fill-opacity=\"1\" /><path clip-path=\"url(#clip560)\" d=\"M53.3995 421.289 L61.0384 421.289 L61.0384 394.923 L52.7282 396.59 L52.7282 392.331 L60.9921 390.664 L65.668 390.664 L65.668 421.289 L73.3068 421.289 L73.3068 425.224 L53.3995 425.224 L53.3995 421.289 Z\" fill=\"#000000\" fill-rule=\"nonzero\" fill-opacity=\"1\" /><path clip-path=\"url(#clip560)\" d=\"M82.7975 390.664 L101.154 390.664 L101.154 394.599 L87.0799 394.599 L87.0799 403.071 Q88.0984 402.724 89.1169 402.562 Q90.1354 402.377 91.1539 402.377 Q96.941 402.377 100.321 405.548 Q103.7 408.72 103.7 414.136 Q103.7 419.715 100.228 422.817 Q96.7558 425.895 90.4364 425.895 Q88.2604 425.895 85.9919 425.525 Q83.7466 425.155 81.3392 424.414 L81.3392 419.715 Q83.4225 420.849 85.6447 421.405 Q87.8669 421.96 90.3438 421.96 Q94.3484 421.96 96.6863 419.854 Q99.0243 417.747 99.0243 414.136 Q99.0243 410.525 96.6863 408.419 Q94.3484 406.312 90.3438 406.312 Q88.4688 406.312 86.5938 406.729 Q84.7419 407.145 82.7975 408.025 L82.7975 390.664 Z\" fill=\"#000000\" fill-rule=\"nonzero\" fill-opacity=\"1\" /><path clip-path=\"url(#clip560)\" d=\"M122.913 393.743 Q119.302 393.743 117.473 397.308 Q115.668 400.849 115.668 407.979 Q115.668 415.085 117.473 418.65 Q119.302 422.192 122.913 422.192 Q126.547 422.192 128.353 418.65 Q130.182 415.085 130.182 407.979 Q130.182 400.849 128.353 397.308 Q126.547 393.743 122.913 393.743 M122.913 390.039 Q128.723 390.039 131.779 394.646 Q134.857 399.229 134.857 407.979 Q134.857 416.706 131.779 421.312 Q128.723 425.895 122.913 425.895 Q117.103 425.895 114.024 421.312 Q110.969 416.706 110.969 407.979 Q110.969 399.229 114.024 394.646 Q117.103 390.039 122.913 390.039 Z\" fill=\"#000000\" fill-rule=\"nonzero\" fill-opacity=\"1\" /><path clip-path=\"url(#clip560)\" d=\"M153.075 393.743 Q149.464 393.743 147.635 397.308 Q145.83 400.849 145.83 407.979 Q145.83 415.085 147.635 418.65 Q149.464 422.192 153.075 422.192 Q156.709 422.192 158.515 418.65 Q160.343 415.085 160.343 407.979 Q160.343 400.849 158.515 397.308 Q156.709 393.743 153.075 393.743 M153.075 390.039 Q158.885 390.039 161.941 394.646 Q165.019 399.229 165.019 407.979 Q165.019 416.706 161.941 421.312 Q158.885 425.895 153.075 425.895 Q147.265 425.895 144.186 421.312 Q141.131 416.706 141.131 407.979 Q141.131 399.229 144.186 394.646 Q147.265 390.039 153.075 390.039 Z\" fill=\"#000000\" fill-rule=\"nonzero\" fill-opacity=\"1\" /><path clip-path=\"url(#clip560)\" d=\"M56.6171 61.6678 L72.9365 61.6678 L72.9365 65.603 L50.9921 65.603 L50.9921 61.6678 Q53.6541 58.9132 58.2375 54.2836 Q62.8439 49.6308 64.0245 48.2882 Q66.2698 45.7651 67.1494 44.029 Q68.0522 42.2697 68.0522 40.5799 Q68.0522 37.8253 66.1078 36.0892 Q64.1865 34.3531 61.0847 34.3531 Q58.8856 34.3531 56.4319 35.117 Q54.0014 35.8809 51.2236 37.4318 L51.2236 32.7096 Q54.0477 31.5754 56.5014 30.9967 Q58.955 30.418 60.9921 30.418 Q66.3624 30.418 69.5568 33.1031 Q72.7513 35.7883 72.7513 40.279 Q72.7513 42.4086 71.9411 44.3299 Q71.1541 46.2281 69.0476 48.8206 Q68.4689 49.4919 65.367 52.7095 Q62.2652 55.9039 56.6171 61.6678 Z\" fill=\"#000000\" fill-rule=\"nonzero\" fill-opacity=\"1\" /><path clip-path=\"url(#clip560)\" d=\"M92.7512 34.1216 Q89.1401 34.1216 87.3114 37.6864 Q85.5058 41.2281 85.5058 48.3577 Q85.5058 55.4641 87.3114 59.0289 Q89.1401 62.5706 92.7512 62.5706 Q96.3854 62.5706 98.1909 59.0289 Q100.02 55.4641 100.02 48.3577 Q100.02 41.2281 98.1909 37.6864 Q96.3854 34.1216 92.7512 34.1216 M92.7512 30.418 Q98.5613 30.418 101.617 35.0244 Q104.696 39.6077 104.696 48.3577 Q104.696 57.0845 101.617 61.6909 Q98.5613 66.2743 92.7512 66.2743 Q86.941 66.2743 83.8623 61.6909 Q80.8068 57.0845 80.8068 48.3577 Q80.8068 39.6077 83.8623 35.0244 Q86.941 30.418 92.7512 30.418 Z\" fill=\"#000000\" fill-rule=\"nonzero\" fill-opacity=\"1\" /><path clip-path=\"url(#clip560)\" d=\"M122.913 34.1216 Q119.302 34.1216 117.473 37.6864 Q115.668 41.2281 115.668 48.3577 Q115.668 55.4641 117.473 59.0289 Q119.302 62.5706 122.913 62.5706 Q126.547 62.5706 128.353 59.0289 Q130.182 55.4641 130.182 48.3577 Q130.182 41.2281 128.353 37.6864 Q126.547 34.1216 122.913 34.1216 M122.913 30.418 Q128.723 30.418 131.779 35.0244 Q134.857 39.6077 134.857 48.3577 Q134.857 57.0845 131.779 61.6909 Q128.723 66.2743 122.913 66.2743 Q117.103 66.2743 114.024 61.6909 Q110.969 57.0845 110.969 48.3577 Q110.969 39.6077 114.024 35.0244 Q117.103 30.418 122.913 30.418 Z\" fill=\"#000000\" fill-rule=\"nonzero\" fill-opacity=\"1\" /><path clip-path=\"url(#clip560)\" d=\"M153.075 34.1216 Q149.464 34.1216 147.635 37.6864 Q145.83 41.2281 145.83 48.3577 Q145.83 55.4641 147.635 59.0289 Q149.464 62.5706 153.075 62.5706 Q156.709 62.5706 158.515 59.0289 Q160.343 55.4641 160.343 48.3577 Q160.343 41.2281 158.515 37.6864 Q156.709 34.1216 153.075 34.1216 M153.075 30.418 Q158.885 30.418 161.941 35.0244 Q165.019 39.6077 165.019 48.3577 Q165.019 57.0845 161.941 61.6909 Q158.885 66.2743 153.075 66.2743 Q147.265 66.2743 144.186 61.6909 Q141.131 57.0845 141.131 48.3577 Q141.131 39.6077 144.186 35.0244 Q147.265 30.418 153.075 30.418 Z\" fill=\"#000000\" fill-rule=\"nonzero\" fill-opacity=\"1\" /><g clip-path=\"url(#clip562)\">\n",
       "<image width=\"1912\" height=\"1439\" xlink:href=\"data:image/png;base64,\n",
       "iVBORw0KGgoAAAANSUhEUgAAB3gAAAWfCAYAAABJJifMAAAgAElEQVR4nOzZQRGAMADAsDFRc4JZ\n",
       "zDEL+0HvEgX993rW/Q4AAAAAAAAAfm9+HQAAAAAAAADAGYMXAAAAAAAAIMLgBQAAAAAAAIgweAEA\n",
       "AAAAAAAiDF4AAAAAAACACIMXAAAAAAAAIMLgBQAAAAAAAIgweAEAAAAAAAAiDF4AAAAAAACACIMX\n",
       "AAAAAAAAIMLgBQAAAAAAAIgweAEAAAAAAAAiDF4AAAAAAACACIMXAAAAAAAAIMLgBQAAAAAAAIgw\n",
       "eAEAAAAAAAAiDF4AAAAAAACACIMXAAAAAAAAIMLgBQAAAAAAAIgweAEAAAAAAAAiDF4AAAAAAACA\n",
       "CIMXAAAAAAAAIMLgBQAAAAAAAIgweAEAAAAAAAAiDF4AAAAAAACACIMXAAAAAAAAIMLgBQAAAAAA\n",
       "AIgweAEAAAAAAAAiDF4AAAAAAACACIMXAAAAAAAAIMLgBQAAAAAAAIgweAEAAAAAAAAiDF4AAAAA\n",
       "AACACIMXAAAAAAAAIMLgBQAAAAAAAIgweAEAAAAAAAAiDF4AAAAAAACACIMXAAAAAAAAIMLgBQAA\n",
       "AAAAAIgweAEAAAAAAAAiDF4AAAAAAACACIMXAAAAAAAAIMLgBQAAAAAAAIgweAEAAAAAAAAiDF4A\n",
       "AAAAAACACIMXAAAAAAAAIMLgBQAAAAAAAIgweAEAAAAAAAAiDF4AAAAAAACACIMXAAAAAAAAIMLg\n",
       "BQAAAAAAAIgweAEAAAAAAAAiDF4AAAAAAACACIMXAAAAAAAAIMLgBQAAAAAAAIgweAEAAAAAAAAi\n",
       "DF4AAAAAAACACIMXAAAAAAAAIMLgBQAAAAAAAIgweAEAAAAAAAAiDF4AAAAAAACACIMXAAAAAAAA\n",
       "IMLgBQAAAAAAAIgweAEAAAAAAAAiDF4AAAAAAACACIMXAAAAAAAAIMLgBQAAAAAAAIgweAEAAAAA\n",
       "AAAiDF4AAAAAAACACIMXAAAAAAAAIMLgBQAAAAAAAIgweAEAAAAAAAAiDF4AAAAAAACACIMXAAAA\n",
       "AAAAIMLgBQAAAAAAAIgweAEAAAAAAAAiDF4AAAAAAACACIMXAAAAAAAAIMLgBQAAAAAAAIgweAEA\n",
       "AAAAAAAiDF4AAAAAAACACIMXAAAAAAAAIMLgBQAAAAAAAIgweAEAAAAAAAAiDF4AAAAAAACACIMX\n",
       "AAAAAAAAIMLgBQAAAAAAAIgweAEAAAAAAAAiDF4AAAAAAACACIMXAAAAAAAAIMLgBQAAAAAAAIgw\n",
       "eAEAAAAAAAAiDF4AAAAAAACACIMXAAAAAAAAIMLgBQAAAAAAAIgweAEAAAAAAAAiDF4AAAAAAACA\n",
       "CIMXAAAAAAAAIMLgBQAAAAAAAIgweAEAAAAAAAAiDF4AAAAAAACACIMXAAAAAAAAIMLgBQAAAAAA\n",
       "AIgweAEAAAAAAAAiDF4AAAAAAACACIMXAAAAAAAAIMLgBQAAAAAAAIgweAEAAAAAAAAiDF4AAAAA\n",
       "AACACIMXAAAAAAAAIMLgBQAAAAAAAIgweAEAAAAAAAAiDF4AAAAAAACACIMXAAAAAAAAIMLgBQAA\n",
       "AAAAAIgweAEAAAAAAAAiDF4AAAAAAACACIMXAAAAAAAAIMLgBQAAAAAAAIgweAEAAAAAAAAiDF4A\n",
       "AAAAAACACIMXAAAAAAAAIMLgBQAAAAAAAIgweAEAAAAAAAAiDF4AAAAAAACACIMXAAAAAAAAIMLg\n",
       "BQAAAAAAAIgweAEAAAAAAAAiDF4AAAAAAACACIMXAAAAAAAAIMLgBQAAAAAAAIgweAEAAAAAAAAi\n",
       "DF4AAAAAAACACIMXAAAAAAAAIMLgBQAAAAAAAIgweAEAAAAAAAAiDF4AAAAAAACACIMXAAAAAAAA\n",
       "IMLgBQAAAAAAAIgweAEAAAAAAAAiDF4AAAAAAACACIMXAAAAAAAAIMLgBQAAAAAAAIgweAEAAAAA\n",
       "AAAiDF4AAAAAAACACIMXAAAAAAAAIMLgBQAAAAAAAIgweAEAAAAAAAAiDF4AAAAAAACACIMXAAAA\n",
       "AAAAIMLgBQAAAAAAAIgweAEAAAAAAAAiDF4AAAAAAACACIMXAAAAAAAAIMLgBQAAAAAAAIgweAEA\n",
       "AAAAAAAiDF4AAAAAAACACIMXAAAAAAAAIMLgBQAAAAAAAIgweAEAAAAAAAAiDF4AAAAAAACACIMX\n",
       "AAAAAAAAIMLgBQAAAAAAAIgweAEAAAAAAAAiDF4AAAAAAACACIMXAAAAAAAAIMLgBQAAAAAAAIgw\n",
       "eAEAAAAAAAAiDF4AAAAAAACACIMXAAAAAAAAIMLgBQAAAAAAAIgweAEAAAAAAAAiDF4AAAAAAACA\n",
       "CIMXAAAAAAAAIMLgBQAAAAAAAIgweAEAAAAAAAAiDF4AAAAAAACACIMXAAAAAAAAIMLgBQAAAAAA\n",
       "AIgweAEAAAAAAAAiDF4AAAAAAACACIMXAAAAAAAAIMLgBQAAAAAAAIgweAEAAAAAAAAiDF4AAAAA\n",
       "AACACIMXAAAAAAAAIMLgBQAAAAAAAIgweAEAAAAAAAAiDF4AAAAAAACACIMXAAAAAAAAIMLgBQAA\n",
       "AAAAAIgweAEAAAAAAAAiDF4AAAAAAACACIMXAAAAAAAAIMLgBQAAAAAAAIgweAEAAAAAAAAiDF4A\n",
       "AAAAAACACIMXAAAAAAAAIMLgBQAAAAAAAIgweAEAAAAAAAAiDF4AAAAAAACACIMXAAAAAAAAIMLg\n",
       "BQAAAAAAAIgweAEAAAAAAAAiDF4AAAAAAACACIMXAAAAAAAAIMLgBQAAAAAAAIgweAEAAAAAAAAi\n",
       "DF4AAAAAAACACIMXAAAAAAAAIMLgBQAAAAAAAIgweAEAAAAAAAAiDF4AAAAAAACACIMXAAAAAAAA\n",
       "IMLgBQAAAAAAAIgweAEAAAAAAAAiDF4AAAAAAACACIMXAAAAAAAAIMLgBQAAAAAAAIgweAEAAAAA\n",
       "AAAiDF4AAAAAAACACIMXAAAAAAAAIMLgBQAAAAAAAIgweAEAAAAAAAAiDF4AAAAAAACACIMXAAAA\n",
       "AAAAIMLgBQAAAAAAAIgweAEAAAAAAAAiDF4AAAAAAACACIMXAAAAAAAAIMLgBQAAAAAAAIgweAEA\n",
       "AAAAAAAiDF4AAAAAAACACIMXAAAAAAAAIMLgBQAAAAAAAIgweAEAAAAAAAAiDF4AAAAAAACACIMX\n",
       "AAAAAAAAIMLgBQAAAAAAAIgweAEAAAAAAAAiDF4AAAAAAACACIMXAAAAAAAAIMLgBQAAAAAAAIgw\n",
       "eAEAAAAAAAAiDF4AAAAAAACACIMXAAAAAAAAIMLgBQAAAAAAAIgweAEAAAAAAAAiDF4AAAAAAACA\n",
       "CIMXAAAAAAAAIMLgBQAAAAAAAIgweAEAAAAAAAAiDF4AAAAAAACACIMXAAAAAAAAIMLgBQAAAAAA\n",
       "AIgweAEAAAAAAAAiDF4AAAAAAACACIMXAAAAAAAAIMLgBQAAAAAAAIgweAEAAAAAAAAiDF4AAAAA\n",
       "AACACIMXAAAAAAAAIMLgBQAAAAAAAIgweAEAAAAAAAAiDF4AAAAAAACACIMXAAAAAAAAIMLgBQAA\n",
       "AAAAAIgweAEAAAAAAAAiDF4AAAAAAACACIMXAAAAAAAAIMLgBQAAAAAAAIgweAEAAAAAAAAiDF4A\n",
       "AAAAAACACIMXAAAAAAAAIMLgBQAAAAAAAIgweAEAAAAAAAAiDF4AAAAAAACACIMXAAAAAAAAIMLg\n",
       "BQAAAAAAAIgweAEAAAAAAAAiDF4AAAAAAACACIMXAAAAAAAAIMLgBQAAAAAAAIgweAEAAAAAAAAi\n",
       "DF4AAAAAAACACIMXAAAAAAAAIMLgBQAAAAAAAIgweAEAAAAAAAAiDF4AAAAAAACACIMXAAAAAAAA\n",
       "IMLgBQAAAAAAAIgweAEAAAAAAAAiDF4AAAAAAACACIMXAAAAAAAAIMLgBQAAAAAAAIgweAEAAAAA\n",
       "AAAiDF4AAAAAAACACIMXAAAAAAAAIMLgBQAAAAAAAIgweAEAAAAAAAAiDF4AAAAAAACACIMXAAAA\n",
       "AAAAIMLgBQAAAAAAAIgweAEAAAAAAAAiDF4AAAAAAACACIMXAAAAAAAAIMLgBQAAAAAAAIgweAEA\n",
       "AAAAAAAiDF4AAAAAAACACIMXAAAAAAAAIMLgBQAAAAAAAIgweAEAAAAAAAAiDF4AAAAAAACACIMX\n",
       "AAAAAAAAIMLgBQAAAAAAAIgweAEAAAAAAAAiDF4AAAAAAACACIMXAAAAAAAAIMLgBQAAAAAAAIgw\n",
       "eAEAAAAAAAAiDF4AAAAAAACACIMXAAAAAAAAIMLgBQAAAAAAAIgweAEAAAAAAAAiDF4AAAAAAACA\n",
       "CIMXAAAAAAAAIMLgBQAAAAAAAIgweAEAAAAAAAAiDF4AAAAAAACACIMXAAAAAAAAIMLgBQAAAAAA\n",
       "AIgweAEAAAAAAAAiDF4AAAAAAACACIMXAAAAAAAAIMLgBQAAAAAAAIgweAEAAAAAAAAiDF4AAAAA\n",
       "AACACIMXAAAAAAAAIMLgBQAAAAAAAIgweAEAAAAAAAAiDF4AAAAAAACACIMXAAAAAAAAIMLgBQAA\n",
       "AAAAAIgweAEAAAAAAAAiDF4AAAAAAACACIMXAAAAAAAAIMLgBQAAAAAAAIgweAEAAAAAAAAiDF4A\n",
       "AAAAAACACIMXAAAAAAAAIMLgBQAAAAAAAIgweAEAAAAAAAAiDF4AAAAAAACACIMXAAAAAAAAIMLg\n",
       "BQAAAAAAAIgweAEAAAAAAAAiDF4AAAAAAACACIMXAAAAAAAAIMLgBQAAAAAAAIgweAEAAAAAAAAi\n",
       "DF4AAAAAAACACIMXAAAAAAAAIMLgBQAAAAAAAIgweAEAAAAAAAAiDF4AAAAAAACACIMXAAAAAAAA\n",
       "IMLgBQAAAAAAAIgweAEAAAAAAAAiDF4AAAAAAACACIMXAAAAAAAAIMLgBQAAAAAAAIgweAEAAAAA\n",
       "AAAiDF4AAAAAAACACIMXAAAAAAAAIMLgBQAAAAAAAIgweAEAAAAAAAAiDF4AAAAAAACACIMXAAAA\n",
       "AAAAIMLgBQAAAAAAAIgweAEAAAAAAAAiDF4AAAAAAACACIMXAAAAAAAAIMLgBQAAAAAAAIgweAEA\n",
       "AAAAAAAiDF4AAAAAAACACIMXAAAAAAAAIMLgBQAAAAAAAIgweAEAAAAAAAAiDF4AAAAAAACACIMX\n",
       "AAAAAAAAIMLgBQAAAAAAAIgweAEAAAAAAAAiDF4AAAAAAACACIMXAAAAAAAAIMLgBQAAAAAAAIgw\n",
       "eAEAAAAAAAAiDF4AAAAAAACACIMXAAAAAAAAIMLgBQAAAAAAAIgweAEAAAAAAAAiDF4AAAAAAACA\n",
       "CIMXAAAAAAAAIMLgBQAAAAAAAIgweAEAAAAAAAAiDF4AAAAAAACACIMXAAAAAAAAIMLgBQAAAAAA\n",
       "AIgweAEAAAAAAAAiDF4AAAAAAACACIMXAAAAAAAAIMLgBQAAAAAAAIgweAEAAAAAAAAiDF4AAAAA\n",
       "AACACIMXAAAAAAAAIMLgBQAAAAAAAIgweAEAAAAAAAAiDF4AAAAAAACACIMXAAAAAAAAIMLgBQAA\n",
       "AAAAAIgweAEAAAAAAAAiDF4AAAAAAACACIMXAAAAAAAAIMLgBQAAAAAAAIgweAEAAAAAAAAiDF4A\n",
       "AAAAAACACIMXAAAAAAAAIMLgBQAAAAAAAIgweAEAAAAAAAAiDF4AAAAAAACACIMXAAAAAAAAIMLg\n",
       "BQAAAAAAAIgweAEAAAAAAAAiDF4AAAAAAACACIMXAAAAAAAAIMLgBQAAAAAAAIgweAEAAAAAAAAi\n",
       "DF4AAAAAAACACIMXAAAAAAAAIMLgBQAAAAAAAIgweAEAAAAAAAAiDF4AAAAAAACACIMXAAAAAAAA\n",
       "IMLgBQAAAAAAAIgweAEAAAAAAAAiDF4AAAAAAACACIMXAAAAAAAAIMLgBQAAAAAAAIgweAEAAAAA\n",
       "AAAiDF4AAAAAAACACIMXAAAAAAAAIMLgBQAAAAAAAIgweAEAAAAAAAAiDF4AAAAAAACACIMXAAAA\n",
       "AAAAIMLgBQAAAAAAAIgweAEAAAAAAAAiDF4AAAAAAACACIMXAAAAAAAAIMLgBQAAAAAAAIgweAEA\n",
       "AAAAAAAiDF4AAAAAAACACIMXAAAAAAAAIMLgBQAAAAAAAIgweAEAAAAAAAAiDF4AAAAAAACACIMX\n",
       "AAAAAAAAIMLgBQAAAAAAAIgweAEAAAAAAAAiDF4AAAAAAACACIMXAAAAAAAAIMLgBQAAAAAAAIgw\n",
       "eAEAAAAAAAAiDF4AAAAAAACACIMXAAAAAAAAIMLgBQAAAAAAAIgweAEAAAAAAAAiDF4AAAAAAACA\n",
       "CIMXAAAAAAAAIMLgBQAAAAAAAIgweAEAAAAAAAAiDF4AAAAAAACACIMXAAAAAAAAIMLgBQAAAAAA\n",
       "AIgweAEAAAAAAAAiDF4AAAAAAACACIMXAAAAAAAAIMLgBQAAAAAAAIgweAEAAAAAAAAiDF4AAAAA\n",
       "AACACIMXAAAAAAAAIMLgBQAAAAAAAIgweAEAAAAAAAAiDF4AAAAAAACACIMXAAAAAAAAIMLgBQAA\n",
       "AAAAAIgweAEAAAAAAAAiDF4AAAAAAACACIMXAAAAAAAAIMLgBQAAAAAAAIgweAEAAAAAAAAiDF4A\n",
       "AAAAAACACIMXAAAAAAAAIMLgBQAAAAAAAIgweAEAAAAAAAAiDF4AAAAAAACACIMXAAAAAAAAIMLg\n",
       "BQAAAAAAAIgweAEAAAAAAAAiDF4AAAAAAACACIMXAAAAAAAAIMLgBQAAAAAAAIgweAEAAAAAAAAi\n",
       "DF4AAAAAAACACIMXAAAAAAAAIMLgBQAAAAAAAIgweAEAAAAAAAAiDF4AAAAAAACACIMXAAAAAAAA\n",
       "IMLgBQAAAAAAAIgweAEAAAAAAAAiDF4AAAAAAACACIMXAAAAAAAAIMLgBQAAAAAAAIgweAEAAAAA\n",
       "AAAiDF4AAAAAAACACIMXAAAAAAAAIMLgBQAAAAAAAIgweAEAAAAAAAAiDF4AAAAAAACACIMXAAAA\n",
       "AAAAIMLgBQAAAAAAAIgweAEAAAAAAAAiDF4AAAAAAACACIMXAAAAAAAAIMLgBQAAAAAAAIgweAEA\n",
       "AAAAAAAiDF4AAAAAAACACIMXAAAAAAAAIMLgBQAAAAAAAIgweAEAAAAAAAAiDF4AAAAAAACACIMX\n",
       "AAAAAAAAIMLgBQAAAAAAAIgweAEAAAAAAAAiDF4AAAAAAIDNnh2QAAAAAAj6/7odgd4QYELwAgAA\n",
       "AAAAAEwIXgAAAAAAAIAJwQsAAAAAAAAwIXgBAAAAAAAAJgQvAAAAAAAAwITgBQAAAAAAAJgQvAAA\n",
       "AAAAAAATghcAAAAAAABgQvACAAAAAAAATAheAAAAAAAAgAnBCwAAAAAAADAheAEAAAAAAAAmBC8A\n",
       "AAAAAADAhOAFAAAAAAAAmBC8AAAAAAAAABOCFwAAAAAAAGBC8AIAAAAAAABMCF4AAAAAAACACcEL\n",
       "AAAAAAAAMCF4AQAAAAAAACYELwAAAAAAAMCE4AUAAAAAAACYELwAAAAAAAAAE4IXAAAAAAAAYELw\n",
       "AgAAAAAAAEwIXgAAAAAAAIAJwQsAAAAAAAAwIXgBAAAAAAAAJgQvAAAAAAAAwITgBQAAAAAAAJgQ\n",
       "vAAAAAAAAAATghcAAAAAAABgQvACAAAAAAAATAheAAAAAAAAgAnBCwAAAAAAADAheAEAAAAAAAAm\n",
       "BC8AAAAAAADAhOAFAAAAAAAAmBC8AAAAAAAAABOCFwAAAAAAAGBC8AIAAAAAAABMCF4AAAAAAACA\n",
       "CcELAAAAAAAAMCF4AQAAAAAAACYELwAAAAAAAMCE4AUAAAAAAACYELwAAAAAAAAAE4IXAAAAAAAA\n",
       "YELwAgAAAAAAAEwIXgAAAAAAAIAJwQsAAAAAAAAwIXgBAAAAAAAAJgQvAAAAAAAAwITgBQAAAAAA\n",
       "AJgQvAAAAAAAAAATghcAAAAAAABgQvACAAAAAAAATAheAAAAAAAAgAnBCwAAAAAAADAheAEAAAAA\n",
       "AAAmBC8AAAAAAADAhOAFAAAAAAAAmBC8AAAAAAAAABOCFwAAAAAAAGBC8AIAAAAAAABMCF4AAAAA\n",
       "AACACcELAAAAAAAAMCF4AQAAAAAAACYELwAAAAAAAMCE4AUAAAAAAACYELwAAAAAAAAAE4IXAAAA\n",
       "AAAAYELwAgAAAAAAAEwIXgAAAAAAAIAJwQsAAAAAAAAwIXgBAAAAAAAAJgQvAAAAAAAAwITgBQAA\n",
       "AAAAAJgQvAAAAAAAAAATghcAAAAAAABgQvACAAAAAAAATAheAAAAAAAAgAnBCwAAAAAAADAheAEA\n",
       "AAAAAAAmBC8AAAAAAADAhOAFAAAAAAAAmBC8AAAAAAAAABOCFwAAAAAAAGBC8AIAAAAAAABMCF4A\n",
       "AAAAAACACcELAAAAAAAAMCF4AQAAAAAAACYELwAAAAAAAMCE4AUAAAAAAACYELwAAAAAAAAAE4IX\n",
       "AAAAAAAAYELwAgAAAAAAAEwIXgAAAAAAAIAJwQsAAAAAAAAwIXgBAAAAAAAAJgQvAAAAAAAAwITg\n",
       "BQAAAAAAAJgQvAAAAAAAAAATghcAAAAAAABgQvACAAAAAAAATAheAAAAAAAAgAnBCwAAAAAAADAh\n",
       "eAEAAAAAAAAmBC8AAAAAAADAhOAFAAAAAAAAmBC8AAAAAAAAABOCFwAAAAAAAGBC8AIAAAAAAABM\n",
       "CF4AAAAAAACACcELAAAAAAAAMCF4AQAAAAAAACYELwAAAAAAAMCE4AUAAAAAAACYELwAAAAAAAAA\n",
       "E4IXAAAAAAAAYELwAgAAAAAAAEwIXgAAAAAAAIAJwQsAAAAAAAAwIXgBAAAAAAAAJgQvAAAAAAAA\n",
       "wITgBQAAAAAAAJgQvAAAAAAAAAATghcAAAAAAABgQvACAAAAAAAATAheAAAAAAAAgAnBCwAAAAAA\n",
       "ADAheAEAAAAAAAAmBC8AAAAAAADAhOAFAAAAAAAAmBC8AAAAAAAAABOCFwAAAAAAAGBC8AIAAAAA\n",
       "AABMCF4AAAAAAACACcELAAAAAAAAMCF4AQAAAAAAACYELwAAAAAAAMCE4AUAAAAAAACYELwAAAAA\n",
       "AAAAE4IXAAAAAAAAYELwAgAAAAAAAEwIXgAAAAAAAIAJwQsAAAAAAAAwIXgBAAAAAAAAJgQvAAAA\n",
       "AAAAwITgBQAAAAAAAJgQvAAAAAAAAAATghcAAAAAAABgQvACAAAAAAAATAheAAAAAAAAgAnBCwAA\n",
       "AAAAADAheAEAAAAAAAAmBC8AAAAAAADAhOAFAAAAAAAAmBC8AAAAAAAAABOCFwAAAAAAAGBC8AIA\n",
       "AAAAAABMCF4AAAAAAACACcELAAAAAAAAMCF4AQAAAAAAACYELwAAAAAAAMCE4AUAAAAAAACYELwA\n",
       "AAAAAAAAE4IXAAAAAAAAYELwAgAAAAAAAEwIXgAAAAAAAIAJwQsAAAAAAAAwIXgBAAAAAAAAJgQv\n",
       "AAAAAAAAwITgBQAAAAAAAJgQvAAAAAAAAAATghcAAAAAAABgQvACAAAAAAAATAheAAAAAAAAgAnB\n",
       "CwAAAAAAADAheAEAAAAAAAAmBC8AAAAAAADAhOAFAAAAAAAAmBC8AAAAAAAAABOCFwAAAAAAAGBC\n",
       "8AIAAAAAAABMCF4AAAAAAACACcELAAAAAAAAMCF4AQAAAAAAACYELwAAAAAAAMCE4AUAAAAAAACY\n",
       "ELwAAAAAAAAAE4IXAAAAAAAAYELwAgAAAAAAAEwIXgAAAAAAAIAJwQsAAAAAAAAwIXgBAAAAAAAA\n",
       "JgQvAAAAAAAAwITgBQAAAAAAAJgQvAAAAAAAAAATghcAAAAAAABgQvACAAAAAAAATAheAAAAAAAA\n",
       "gAnBCwAAAAAAADAheAEAAAAAAAAmBC8AAAAAAADAhOAFAAAAAAAAmBC8AAAAAAAAABOCFwAAAAAA\n",
       "AGBC8AIAAAAAAABMCF4AAAAAAACACcELAAAAAAAAMCF4AQAAAAAAACYELwAAAAAAAMCE4AUAAAAA\n",
       "AACYELwAAAAAAAAAE4IXAAAAAAAAYELwAgAAAAAAAEwIXgAAAAAAAIAJwQsAAAAAAAAwIXgBAAAA\n",
       "AAAAJgQvAAAAAAAAwITgBQAAAAAAAJgQvAAAAAAAAAATghcAAAAAAABgQvACAAAAAAAATAheAAAA\n",
       "AAAAgAnBCwAAAAAAADAheAEAAAAAAAAmBC8AAAAAAADAhOAFAAAAAAAAmBC8AAAAAAAAABOCFwAA\n",
       "AAAAAGBC8AIAAAAAAABMCF4AAAAAAACACcELAAAAAAAAMCF4AQAAAAAAACYELwAAAAAAAMCE4AUA\n",
       "AAAAAACYELwAAAAAAAAAE4IXAAAAAAAAYELwAgAAAAAAAEwIXgAAAAAAAIAJwQsAAAAAAAAwIXgB\n",
       "AAAAAAAAJgQvAAAAAAAAwITgBQAAAAAAAJgQvAAAAAAAAAATghcAAAAAAABgQvACAAAAAAAATAhe\n",
       "AAAAAAAAgAnBCwAAAAAAADAheAEAAAAAAAAmBC8AAAAAAADAhOAFAAAAAAAAmBC8AAAAAAAAABOC\n",
       "FwAAAAAAAGBC8AIAAAAAAABMCF4AAAAAAACACcELAAAAAAAAMCF4AQAAAAAAACYELwAAAAAAAMCE\n",
       "4AUAAAAAAACYELwAAAAAAAAAE4IXAAAAAAAAYELwAgAAAAAAAEwIXgAAAAAAAIAJwQsAAAAAAAAw\n",
       "IXgBAAAAAAAAJgQvAAAAAAAAwITgBQAAAAAAAJgQvAAAAAAAAAATghcAAAAAAABgQvACAAAAAAAA\n",
       "TAheAAAAAAAAgAnBCwAAAAAAADAheAEAAAAAAAAmBC8AAAAAAADAhOAFAAAAAAAAmBC8AAAAAAAA\n",
       "ABOCFwAAAAAAAGBC8AIAAAAAAABMCF4AAAAAAACACcELAAAAAAAAMCF4AQAAAAAAACYELwAAAAAA\n",
       "AMCE4AUAAAAAAACYELwAAAAAAAAAE4IXAAAAAAAAYELwAgAAAAAAAEwIXgAAAAAAAIAJwQsAAAAA\n",
       "AAAwIXgBAAAAAAAAJgQvAAAAAAAAwITgBUwykh0AABiBSURBVAAAAAAAAJgQvAAAAAAAAAATghcA\n",
       "AAAAAABgQvACAAAAAAAATAheAAAAAAAAgAnBCwAAAAAAADAheAEAAAAAAAAmBC8AAAAAAADAhOAF\n",
       "AAAAAAAAmBC8AAAAAAAAABOCFwAAAAAAAGBC8AIAAAAAAABMCF4AAAAAAACACcELAAAAAAAAMCF4\n",
       "AQAAAAAAACYELwAAAAAAAMCE4AUAAAAAAACYELwAAAAAAAAAE4IXAAAAAAAAYELwAgAAAAAAAEwI\n",
       "XgAAAAAAAIAJwQsAAAAAAAAwIXgBAAAAAAAAJgQvAAAAAAAAwITgBQAAAAAAAJgQvAAAAAAAAAAT\n",
       "ghcAAAAAAABgQvACAAAAAAAATAheAAAAAAAAgAnBCwAAAAAAADAheAEAAAAAAAAmBC8AAAAAAADA\n",
       "hOAFAAAAAAAAmBC8AAAAAAAAABOCFwAAAAAAAGBC8AIAAAAAAABMCF4AAAAAAACACcELAAAAAAAA\n",
       "MCF4AQAAAAAAACYELwAAAAAAAMCE4AUAAAAAAACYELwAAAAAAAAAE4IXAAAAAAAAYELwAgAAAAAA\n",
       "AEwIXgAAAAAAAIAJwQsAAAAAAAAwIXgBAAAAAAAAJgQvAAAAAAAAwITgBQAAAAAAAJgQvAAAAAAA\n",
       "AAATghcAAAAAAABgQvACAAAAAAAATAheAAAAAAAAgAnBCwAAAAAAADAheAEAAAAAAAAmBC8AAAAA\n",
       "AADAhOAFAAAAAAAAmBC8AAAAAAAAABOCFwAAAAAAAGBC8AIAAAAAAABMCF4AAAAAAACACcELAAAA\n",
       "AAAAMCF4AQAAAAAAACYELwAAAAAAAMCE4AUAAAAAAACYELwAAAAAAAAAE4IXAAAAAAAAYELwAgAA\n",
       "AAAAAEwIXgAAAAAAAIAJwQsAAAAAAAAwIXgBAAAAAAAAJgQvAAAAAAAAwITgBQAAAAAAAJgQvAAA\n",
       "AAAAAAATghcAAAAAAABgQvACAAAAAAAATAheAAAAAAAAgAnBCwAAAAAAADAheAEAAAAAAAAmBC8A\n",
       "AAAAAADAhOAFAAAAAAAAmBC8AAAAAAAAABOCFwAAAAAAAGBC8AIAAAAAAABMCF4AAAAAAACACcEL\n",
       "AAAAAAAAMCF4AQAAAAAAACYELwAAAAAAAMCE4AUAAAAAAACYELwAAAAAAAAAE4IXAAAAAAAAYELw\n",
       "AgAAAAAAAEwIXgAAAAAAAIAJwQsAAAAAAAAwIXgBAAAAAAAAJgQvAAAAAAAAwITgBQAAAAAAAJgQ\n",
       "vAAAAAAAAAATghcAAAAAAABgQvACAAAAAAAATAheAAAAAAAAgAnBCwAAAAAAADAheAEAAAAAAAAm\n",
       "BC8AAAAAAADAhOAFAAAAAAAAmBC8AAAAAAAAABOCFwAAAAAAAGBC8AIAAAAAAABMCF4AAAAAAACA\n",
       "CcELAAAAAAAAMCF4AQAAAAAAACYELwAAAAAAAMCE4AUAAAAAAACYELwAAAAAAAAAE4IXAAAAAAAA\n",
       "YELwAgAAAAAAAEwIXgAAAAAAAIAJwQsAAAAAAAAwIXgBAAAAAAAAJgQvAAAAAAAAwITgBQAAAAAA\n",
       "AJgQvAAAAAAAAAATghcAAAAAAABgQvACAAAAAAAATAheAAAAAAAAgAnBCwAAAAAAADAheAEAAAAA\n",
       "AAAmBC8AAAAAAADAhOAFAAAAAAAAmBC8AAAAAAAAABOCFwAAAAAAAGBC8AIAAAAAAABMCF4AAAAA\n",
       "AACACcELAAAAAAAAMCF4AQAAAAAAACYELwAAAAAAAMCE4AUAAAAAAACYELwAAAAAAAAAE4IXAAAA\n",
       "AAAAYELwAgAAAAAAAEwIXgAAAAAAAIAJwQsAAAAAAAAwIXgBAAAAAAAAJgQvAAAAAAAAwITgBQAA\n",
       "AAAAAJgQvAAAAAAAAAATghcAAAAAAABgQvACAAAAAAAATAheAAAAAAAAgAnBCwAAAAAAADAheAEA\n",
       "AAAAAAAmBC8AAAAAAADAhOAFAAAAAAAAmBC8AAAAAAAAABOCFwAAAAAAAGBC8AIAAAAAAABMCF4A\n",
       "AAAAAACACcELAAAAAAAAMCF4AQAAAAAAACYELwAAAAAAAMCE4AUAAAAAAACYELwAAAAAAAAAE4IX\n",
       "AAAAAAAAYELwAgAAAAAAAEwIXgAAAAAAAIAJwQsAAAAAAAAwIXgBAAAAAAAAJgQvAAAAAAAAwITg\n",
       "BQAAAAAAAJgQvAAAAAAAAAATghcAAAAAAABgQvACAAAAAAAATAheAAAAAAAAgAnBCwAAAAAAADAh\n",
       "eAEAAAAAAAAmBC8AAAAAAADAhOAFAAAAAAAAmBC8AAAAAAAAABOCFwAAAAAAAGBC8AIAAAAAAABM\n",
       "CF4AAAAAAACACcELAAAAAAAAMCF4AQAAAAAAACYELwAAAAAAAMCE4AUAAAAAAACYELwAAAAAAAAA\n",
       "E4IXAAAAAAAAYELwAgAAAAAAAEwIXgAAAAAAAIAJwQsAAAAAAAAwIXgBAAAAAAAAJgQvAAAAAAAA\n",
       "wITgBQAAAAAAAJgQvAAAAAAAAAATghcAAAAAAABgQvACAAAAAAAATAheAAAAAAAAgAnBCwAAAAAA\n",
       "ADAheAEAAAAAAAAmBC8AAAAAAADAhOAFAAAAAAAAmBC8AAAAAAAAABOCFwAAAAAAAGBC8AIAAAAA\n",
       "AABMCF4AAAAAAACACcELAAAAAAAAMCF4AQAAAAAAACYELwAAAAAAAMCE4AUAAAAAAACYELwAAAAA\n",
       "AAAAE4IXAAAAAAAAYELwAgAAAAAAAEwIXgAAAAAAAIAJwQsAAAAAAAAwIXgBAAAAAAAAJgQvAAAA\n",
       "AAAAwITgBQAAAAAAAJgQvAAAAAAAAAATghcAAAAAAABgQvACAAAAAAAATAheAAAAAAAAgAnBCwAA\n",
       "AAAAADAheAEAAAAAAAAmBC8AAAAAAADAhOAFAAAAAAAAmBC8AAAAAAAAABOCFwAAAAAAAGBC8AIA\n",
       "AAAAAABMCF4AAAAAAACACcELAAAAAAAAMCF4AQAAAAAAACYELwAAAAAAAMCE4AUAAAAAAACYELwA\n",
       "AAAAAAAAE4IXAAAAAAAAYELwAgAAAAAAAEwIXgAAAAAAAIAJwQsAAAAAAAAwIXgBAAAAAAAAJgQv\n",
       "AAAAAAAAwITgBQAAAAAAAJgQvAAAAAAAAAATghcAAAAAAABgQvACAAAAAAAATAheAAAAAAAAgAnB\n",
       "CwAAAAAAADAheAEAAAAAAAAmBC8AAAAAAADAhOAFAAAAAAAAmBC8AAAAAAAAABOCFwAAAAAAAGBC\n",
       "8AIAAAAAAABMCF4AAAAAAACg9u1YV4oqAMDw3QiaIA0WtpLwDtYWho53gMTKivgeGita7XgAO2Jh\n",
       "YmfrC0BBS0UI8RKW+t6ZhHHmzL37k+/r9uTOmbOzO7O78+cSIfACAAAAAAAARAi8AAAAAAAAABEC\n",
       "LwAAAAAAAECEwAsAAAAAAAAQIfACAAAAAAAARAi8AAAAAAAAABECLwAAAAAAAECEwAsAAAAAAAAQ\n",
       "IfACAAAAAAAARAi8AAAAAAAAABECLwAAAAAAAECEwAsAAAAAAAAQIfACAAAAAAAARAi8AAAAAAAA\n",
       "ABECLwAAAAAAAECEwAsAAAAAAAAQIfACAAAAAAAARAi8AAAAAAAAABECLwAAAAAAAECEwAsAAAAA\n",
       "AAAQIfACAAAAAAAARAi8AAAAAAAAABECLwAAAAAAAECEwAsAAAAAAAAQIfACAAAAAAAARAi8AAAA\n",
       "AAAAABECLwAAAAAAAECEwAsAAAAAAAAQIfACAAAAAAAARAi8AAAAAAAAABECLwAAAAAAAECEwAsA\n",
       "AAAAAAAQIfACAAAAAAAARAi8AAAAAAAAABECLwAAAAAAAECEwAsAAAAAAAAQIfACAAAAAAAARAi8\n",
       "AAAAAAAAABECLwAAAAAAAECEwAsAAAAAAAAQIfACAAAAAAAARAi8AAAAAAAAABECLwAAAAAAAECE\n",
       "wAsAAAAAAAAQIfACAAAAAAAARAi8AAAAAAAAABECLwAAAAAAAECEwAsAAAAAAAAQIfACAAAAAAAA\n",
       "RAi8AAAAAAAAABECLwAAAAAAAECEwAsAAAAAAAAQIfACAAAAAAAARAi8AAAAAAAAABECLwAAAAAA\n",
       "AECEwAsAAAAAAAAQIfACAAAAAAAARAi8AAAAAAAAABECLwAAAAAAAECEwAsAAAAAAAAQIfACAAAA\n",
       "AAAARAi8AAAAAAAAABECLwAAAAAAAECEwAsAAAAAAAAQIfACAAAAAAAARAi8AAAAAAAAABECLwAA\n",
       "AAAAAECEwAsAAAAAAAAQIfACAAAAAAAARAi8AAAAAAAAABECLwAAAAAAAECEwAsAAAAAAAAQIfAC\n",
       "AAAAAAAARAi8AAAAAAAAABECLwAAAAAAAECEwAsAAAAAAAAQIfACAAAAAAAARAi8AAAAAAAAABEC\n",
       "LwAAAAAAAECEwAsAAAAAAAAQIfACAAAAAAAARAi8AAAAAAAAABECLwAAAAAAAECEwAsAAAAAAAAQ\n",
       "IfACAAAAAAAARAi8AAAAAAAAABECLwAAAAAAAECEwAsAAAAAAAAQIfACAAAAAAAARAi8AAAAAAAA\n",
       "ABECLwAAAAAAAECEwAsAAAAAAAAQIfACAAAAAAAARAi8AAAAAAAAABECLwAAAAAAAECEwAsAAAAA\n",
       "AAAQIfACAAAAAAAARAi8AAAAAAAAABECLwAAAAAAAECEwAsAAAAAAAAQIfACAAAAAAAARAi8AAAA\n",
       "AAAAABECLwAAAAAAAECEwAsAAAAAAAAQIfACAAAAAAAARAi8AAAAAAAAABECLwAAAAAAAECEwAsA\n",
       "AAAAAAAQIfACAAAAAAAARAi8AAAAAAAAABECLwAAAAAAAECEwAsAAAAAAAAQIfACAAAAAAAARAi8\n",
       "AAAAAAAAABECLwAAAAAAAECEwAsAAAAAAAAQIfACAAAAAAAARAi8AAAAAAAAABECLwAAAAAAAECE\n",
       "wAsAAAAAAAAQIfACAAAAAAAARAi8AAAAAAAAABECLwAAAAAAAECEwAsAAAAAAAAQIfACAAAAAAAA\n",
       "RAi8AAAAAAAAABECLwAAAAAAAECEwAsAAAAAAAAQIfACAAAAAAAARAi8AAAAAAAAABECLwAAAAAA\n",
       "AECEwAsAAAAAAAAQIfACAAAAAAAARAi8AAAAAAAAABECLwAAAAAAAECEwAsAAAAAAAAQIfACAAAA\n",
       "AAAARAi8AAAAAAAAABECLwAAAAAAAECEwAsAAAAAAAAQIfACAAAAAAAARAi8AAAAAAAAABECLwAA\n",
       "AAAAAECEwAsAAAAAAAAQIfACAAAAAAAARAi8AAAAAAAAABECLwAAAAAAAECEwAsAAAAAAAAQIfAC\n",
       "AAAAAAAARAi8AAAAAAAAABECLwAAAAAAAECEwAsAAAAAAAAQIfACAAAAAAAARAi8AAAAAAAAABEC\n",
       "LwAAAAAAAECEwAsAAAAAAAAQIfACAAAAAAAARAi8AAAAAAAAABECLwAAAAAAAECEwAsAAAAAAAAQ\n",
       "IfACAAAAAAAARAi8AAAAAAAAABECLwAAAAAAAECEwAsAAAAAAAAQIfACAAAAAAAARAi8AAAAAAAA\n",
       "ABECLwAAAAAAAECEwAsAAAAAAAAQIfACAAAAAAAARAi8AAAAAAAAABECLwAAAAAAAECEwAsAAAAA\n",
       "AAAQIfACAAAAAAAARAi8AAAAAAAAABECLwAAAAAAAECEwAsAAAAAAAAQIfACAAAAAAAARAi8AAAA\n",
       "AAAAABECLwAAAAAAAECEwAsAAAAAAAAQIfACAAAAAAAARAi8AAAAAAAAABECLwAAAAAAAECEwAsA\n",
       "AAAAAAAQIfACAAAAAAAARAi8AAAAAAAAABECLwAAAAAAAECEwAsAAAAAAAAQIfACAAAAAAAARAi8\n",
       "AAAAAAAAABECLwAAAAAAAECEwAsAAAAAAAAQIfACAAAAAAAARAi8AAAAAAAAABECLwAAAAAAAECE\n",
       "wAsAAAAAAAAQIfACAAAAAAAARAi8AAAAAAAAABECLwAAAAAAAECEwAsAAAAAAAAQIfACAAAAAAAA\n",
       "RAi8AAAAAAAAABECLwAAAAAAAECEwAsAAAAAAAAQIfACAAAAAAAARAi8AAAAAAAAABECLwAAAAAA\n",
       "AECEwAsAAAAAAAAQIfACAAAAAAAARAi8AAAAAAAAABECLwAAAAAAAECEwAsAAAAAAAAQIfACAAAA\n",
       "AAAARAi8AAAAAAAAABECLwAAAAAAAECEwAsAAAAAAAAQIfACAAAAAAAARAi8AAAAAAAAABECLwAA\n",
       "AAAAAECEwAsAAAAAAAAQIfACAAAAAAAARAi8AAAAAAAAABECLwAAAAAAAECEwAsAAAAAAAAQIfAC\n",
       "AAAAAAAARAi8AAAAAAAAABECLwAAAAAAAECEwAsAAAAAAAAQIfACAAAAAAAARAi8AAAAAAAAABEC\n",
       "LwAAAAAAAECEwAsAAAAAAAAQIfACAAAAAAAARAi8AAAAAAAAABECLwAAAAAAAECEwAsAAAAAAAAQ\n",
       "IfACAAAAAAAARAi8AAAAAAAAABECLwAAAAAAAECEwAsAAAAAAAAQIfACAAAAAAAARAi8AAAAAAAA\n",
       "ABECLwAAAAAAAECEwAsAAAAAAAAQIfACAAAAAAAARAi8AAAAAAAAABECLwAAAAAAAECEwAsAAAAA\n",
       "AAAQIfACAAAAAAAARAi8AAAAAAAAABECLwAAAAAAAECEwAsAAAAAAAAQIfACAAAAAAAARAi8AAAA\n",
       "AAAAABECLwAAAAAAAECEwAsAAAAAAAAQIfACAAAAAAAARAi8AAAAAAAAABECLwAAAAAAAECEwAsA\n",
       "AAAAAAAQIfACAAAAAAAARAi8AAAAAAAAABECLwAAAAAAAECEwAsAAAAAAAAQIfACAAAAAAAARAi8\n",
       "AAAAAAAAABECLwAAAAAAAECEwAsAAAAAAAAQIfACAAAAAAAARAi8AAAAAAAAABECLwAAAAAAAECE\n",
       "wAsAAAAAAAAQIfACAAAAAAAARAi8AAAAAAAAABECLwAAAAAAAECEwAsAAAAAAAAQIfACAAAAAAAA\n",
       "RAi8AAAAAAAAABECLwAAAAAAAECEwAsAAAAAAAAQIfACAAAAAAAARAi8AAAAAAAAABECLwAAAAAA\n",
       "AECEwAsAAAAAAAAQIfACAAAAAAAARAi8AAAAAAAAABECLwAAAAAAAECEwAsAAAAAAAAQIfACAAAA\n",
       "AAAARAi8AAAAAAAAABECLwAAAAAAAECEwAsAAAAAAAAQIfACAAAAAAAARAi8AAAAAAAAABECLwAA\n",
       "AAAAAECEwAsAAAAAAAAQIfACAAAAAAAARAi8AAAAAAAAABECLwAAAAAAAECEwAsAAAAAAAAQIfAC\n",
       "AAAAAAAARAi8AAAAAAAAABECLwAAAAAAAECEwAsAAAAAAAAQIfACAAAAAAAARAi8AAAAAAAAABEC\n",
       "LwAAAAAAAECEwAsAAAAAAAAQIfACAAAAAAAARAi8AAAAAAAAABECLwAAAAAAAECEwAsAAAAAAAAQ\n",
       "IfACAAAAAAAARAi8AAAAAAAAABECLwAAAAAAAECEwAsAAAAAAAAQIfACAAAAAAAARAi8AAAAAAAA\n",
       "ABECLwAAAAAAAECEwAsAAAAAAAAQIfACAAAAAAAARAi8AAAAAAAAABECLwAAAAAAAECEwAsAAAAA\n",
       "AAAQIfACAAAAAAAARAi8AAAAAAAAABECLwAAAAAAAECEwAsAAAAAAAAQIfACAAAAAAAARAi8AAAA\n",
       "AAAAABECLwAAAAAAAECEwAsAAAAAAAAQIfACAAAAAAAARAi8AAAAAAAAABECLwAAAAAAAECEwAsA\n",
       "AAAAAAAQIfACAAAAAAAARAi8AAAAAAAAABECLwAAAAAAAECEwAsAAAAAAAAQIfACAAAAAAAARAi8\n",
       "AAAAAAAAABECLwAAAAAAAECEwAsAAAAAAAAQIfACAAAAAAAARBzOzm4cLw++O/4++cMbh4eLJry8\n",
       "7dLtRlq7/rnt1prb38h1jXw9tsy/Zg1L17FlDSOf98jjs2Supe/Dkcdwy7FYYuTx2nN/oy1Z/6mc\n",
       "kyP3d6rzj3w/HQ43J2PH4/lH97nlnFyyrrntbh4eTcaOZ5OP/kX2vh4uMfK1nfXHT9OxB7+smmrL\n",
       "WiufDaM/S4e+lgv2t9Se5/L/mW+Npcf+m9vfT8ZevP5z1VxrbXn91743165j9Htgiav+3bB2DVvm\n",
       "OtVr5N6/Z0Y+77l9/vPd/cnYt389W7Wuufnf/Pfrhce3Pn+8eq6rvs5smfvt+ZMLj+/deTr5m5ev\n",
       "//7oGpba+3Pzqr/TXYdP8f7U3s/p8jrmflucH3+bjI1c12Fm7PxEP7Ou4z7KnvfSTtkpfH/e+97H\n",
       "WiO/V3z95c+TsVdv/l21hlO457plu6vuBlvW8P79u8nYF5/9cOHx3F2htfeUruP7yN7n6Snce5xz\n",
       "Hden0rVu5Dn/6se7Fx5/9eT56rn2/M3pP3gBAAAAAAAAIj4AFH9ZLg8nE+8AAAAASUVORK5CYII=\n",
       "\" transform=\"translate(201, 47)\"/>\n",
       "</g>\n",
       "<defs>\n",
       "  <clipPath id=\"clip563\">\n",
       "    <rect x=\"2160\" y=\"47\" width=\"73\" height=\"1440\"/>\n",
       "  </clipPath>\n",
       "</defs>\n",
       "<g clip-path=\"url(#clip563)\">\n",
       "<image width=\"72\" height=\"1439\" xlink:href=\"data:image/png;base64,\n",
       "iVBORw0KGgoAAAANSUhEUgAAAEgAAAWfCAYAAAAI7rB3AAAMWUlEQVR4nO3dwY0rRxAFwaZQ/lsh\n",
       "L6XfLQtUeSQPERYsEg8c9MyQ+/n3/v0O/+uvb/8Bv06gIFAQKAgU5r5/v/03/DQLCgIFgYJAQaAw\n",
       "7/359t/w0ywoCBQECgIFR41gQUGgIFAQKAgU5rmKrSwoCBQECgIFgcK86yq2saAgUBAoCBQcNYIF\n",
       "BYGCQEGgIFBwFQsWFAQKAgWBgvtBwYKCQEGgIFAQKMxx1FhZUBAoCBQECgIFN8yCBQWBgkBBoDDH\n",
       "DbOVBQWBgkBBoCBQmHP/+fbf8NMsKAgUBAoCBYGCxz7BgoJAQaAgUHDDLFhQECgIFAQKAgVXsWBB\n",
       "QaAgUBAouB8ULCgIFAQKAgWBwnwcNVYWFAQKAgWBgkBhzvWfWTYWFAQKAgWBgqNGsKAgUBAoCBQE\n",
       "Co4awYKCQEGgIFAQKHjDLFhQECgIFAQK83HUWFlQECgIFAQKAgXvSQcLCgIFgYJAwVEjWFAQKAgU\n",
       "BAoCBc/mgwUFgYJAQaAgUHAWCxYUBAoCBYGCo0awoCBQECgIFAQKjhrBgoJAQaAgUBAozLn323/D\n",
       "T7OgIFAQKAgUHDWCBQWBgkBBoCBQ8NgnWFAQKAgUBAo+pIMFBYGCQEGgIFCYj6caKwsKAgWBgkBB\n",
       "oOAsFiwoCBQECgIFL1AFCwoCBYGCQEGg4IZZsKAgUBAoCBTcDwoWFAQKAgWBgkDBDbNgQUGgIFAQ\n",
       "KAgUXMWCBQWBgkBBoOB788GCgkBBoCBQECg4agQLCgIFgYJAQaDgKhYsKAgUBAoCBR/SwYKCQEGg\n",
       "IFAQKLiKBQsKAgWBgkBhzvMhvbGgIFAQKAgUBAqOGsGCgkBBoCBQECi4igULCgIFgYJAwYd0sKAg\n",
       "UBAoCBQECnPu+/bf8NMsKAgUBAoCBYGCs1iwoCBQECgIFBw1ggUFgYJAQaAgUHDUCBYUBAoCBYGC\n",
       "o0awoCBQECgIFAQKc5w0VhYUBAoCBYGCQGHOcxbbWFAQKAgUBAqOGsGCgkBBoCBQECi4igULCgIF\n",
       "gYJAQaAwfohzZ0FBoCBQECg4agQLCgIFgYJAQaDgKhYsKAgUBAoChTn38+2/4adZUBAoCBQECgKF\n",
       "ec9VbGNBQaAgUBAoCBTcMAsWFAQKAgWBghtmwYKCQEGgIFAQKMy7Gm3UCQIFgYJAwVEjWFAQKAgU\n",
       "BAoChTmeza8sKAgUBAoCBYHCPGexlQUFgYJAQaAwx1ONlTpBoCBQECgIFBw1ggUFgYJAQaAgUPDY\n",
       "J1hQECgIFAQKXgMO6gSBgkBBoCBQ8J50sKAgUBAoCBQ81QgWFAQKAgWBgkBh3tNoo04QKAgUBAoC\n",
       "BTfMggUFgYJAQaDghlmwoCBQECgIFAQKc9wwW6kTBAoCBYGCQMFZLFhQECgIFAQKPqSDBQWBgkBB\n",
       "oCBQ8L35YEFBoCBQECj43nxQJwgUBAoCBYHCPEeNlQUFgYJAQaAgUPDYJ1hQECgIFAQK/jNLUCcI\n",
       "FAQKAgWBghtmwYKCQEGgIFAQKLhhFiwoCBQECgIFR41gQUGgIFAQKAgUvCcd1AkCBYGCQMFRI1hQ\n",
       "ECgIFAQKAgVPNYIFBYGCQEGgIFBwFgsWFAQKAgWBgn+fFSwoCBQECgIFgYJ/ZRzUCQIFgYJAQaDg\n",
       "hlmwoCBQECgIFDybDxYUBAoCBYGCQMFRI1hQECgIFAQKc31IrywoCBQECgIFgYLvzQd1gkBBoCBQ\n",
       "ECi4YRYsKAgUBAoCBR/SwYKCQEGgIFAQKHjDLFhQECgIFAQKjhrBgoJAQaAgUBAouIoFCwoCBYGC\n",
       "QEGg4NdfgjpBoCBQECjM9VRjZUFBoCBQECgIFNwwCxYUBAoCBYGCQMFVLFhQECgIFAQKPqSDBQWB\n",
       "gkBBoCBQ8BtmwYKCQEGgIFBw1AgWFAQKAgWBgkDBVSxYUBAoCBQECgIFX2YJ6gSBgkBBoODLLMGC\n",
       "gkBBoCBQECi4YRYsKAgUBAoCBYGCq1iwoCBQECgIFLwGHCwoCBQECgIFgYKjRrCgIFAQKAgU5h0f\n",
       "0hsLCgIFgYJAQaDghlmwoCBQECgIFAQKbpgFCwoCBYGCQMFRI1hQECgIFAQKAgVHjWBBQaAgUBAo\n",
       "CBScxYIFBYGCQEGg4KgRLCgIFAQKAgWBgqtYsKAgUBAoCBTm+jLLyoKCQEGgIFAQKDhqBAsKAgWB\n",
       "gkBBoODZfLCgIFAQKAgU5r1v/wm/zYKCQEGgIFAQKDhqBAsKAgWBgkDBD00GCwoCBYGCQEGg4KgR\n",
       "LCgIFAQKAgWBgjfMggUFgYJAQaDgyyzBgoJAQaAgUBAoeMMsWFAQKAgUBAoCBY99ggUFgYJAQaDg\n",
       "qUawoCBQECgIFAQKHvsECwoCBYGCQMH9oGBBQaAgUBAoCBQ8mw8WFAQKAgWBgkDBDbNgQUGgIFAQ\n",
       "KHg2HywoCBQECgIFgcLcb/8FP86CgkBBoCBQECg4iwULCgIFgYJAwRtmwYKCQEGgIFAQKLhhFiwo\n",
       "CBQECgIF94OCBQWBgkBBoCBQcNQIFhQECgIFgYJAwVksWFAQKAgUBAqezQcLCgIFgYJAQaAwfvxl\n",
       "Z0FBoCBQECgIFJzFggUFgYJAQaDg2XywoCBQECgIFAQKns0HCwoCBYGCQMFRI1hQECgIFAQKAgVH\n",
       "jWBBQaAgUBAoCBTmesVsZUFBoCBQECi4YRYsKAgUBAoCBYGCG2bBgoJAQaAgUHDUCBYUBAoCBYGC\n",
       "QGGepxorCwoCBYGCQEGgMPe4YbaxoCBQECgIFLxAFSwoCBQECgIFgYIfmgwWFAQKAgWBgkDBD00G\n",
       "CwoCBYGCQMGz+WBBQaAgUBAoCBS8Jx0sKAgUBAoCBd84DBYUBAoCBYGCQMFRI1hQECgIFAQKAgXv\n",
       "SQcLCgIFgYJAwWvAwYKCQEGgIFAQKDhqBAsKAgWBgkBBoOA96WBBQaAgUBAo+ImuYEFBoCBQECgI\n",
       "FNwwCxYUBAoCBYGCZ/PBgoJAQaAgUBAoOGoECwoCBYGCQEGg4CwWLCgIFAQKAgVHjWBBQaAgUBAo\n",
       "CBRcxYIFBYGCQEGgIFBwwyxYUBAoCBQECo4awYKCQEGgIFAQKDhqBAsKAgWBgkDBUSNYUBAoCBQE\n",
       "CgIFP9EVLCgIFAQKAgWBgv8vFiwoCBQECgIFN8yCBQWBgkBBoCBQmHdcxjYWFAQKAgWBgkDBWSxY\n",
       "UBAoCBQECp7NBwsKAgWBgkBBoODZfLCgIFAQKAgU3A8KFhQECgIFgYJAwbP5YEFBoCBQECgIFJzF\n",
       "ggUFgYJAQaDgJ7qCBQWBgkBBoCBQmOsVs5UFBYGCQEGg4AWqYEFBoCBQECgIFOY5aqwsKAgUBAoC\n",
       "BYGCs1iwoCBQECgIFDzVCBYUBAoCBYGCQMEbZsGCgkBBoCBQECjM9ZXMlQUFgYJAQaDghlmwoCBQ\n",
       "ECgIFAQKfv0lWFAQKAgUBApeoAoWFAQKAgWBgkDBU41gQUGgIFAQKAgU3DALFhQECgIFgcLc45bZ\n",
       "xoKCQEGgIFAQKLhhFiwoCBQECgIFgYKrWLCgIFAQKAgUPNUIFhQECgIFgYJAwWOfYEFBoCBQECjM\n",
       "/ThqbCwoCBQECgIFgYKjRrCgIFAQKAgUBArzXMVWFhQECgIFgYKjRrCgIFAQKAgUBApzP65iGwsK\n",
       "AgWBgkBBoOAsFiwoCBQECgIFTzWCBQWBgkBBoCBQcNQIFhQECgIFgYIP6WBBQaAgUBAoCBQ8mw8W\n",
       "FAQKAgWBgkBh3vnz7b/hp1lQECgIFAQKbpgFCwoCBYGCQEGg4A2zYEFBoCBQECjMfe4HbSwoCBQE\n",
       "CgIFgYKjRrCgIFAQKAgUBApzPZtfWVAQKAgUBAqOGsGCgkBBoCBQECg4agQLCgIFgYJAQaAw7zmL\n",
       "bSwoCBQECgIFN8yCBQWBgkBBoCBQ8J50sKAgUBAoCBQcNYIFBYGCQEGgIFCY56ixsqAgUBAoCBQE\n",
       "Cs5iwYKCQEGgIFCY6wWqlQUFgYJAQaAgUPCb9sGCgkBBoCBQECj4MkuwoCBQECgIFDzVCBYUBAoC\n",
       "BYGCQMFRI1hQECgIFAQKPqSDBQWBgkBBoCBQ8Gw+WFAQKAgUBAoCBWexYEFBoCBQECjM8Wx+ZUFB\n",
       "oCBQECgIFBw1ggUFgYJAQaAgUPCedLCgIFAQKAgU5jhqrCwoCBQECgIFgYI3zIIFBYGCQEGg4Nl8\n",
       "sKAgUBAoCBQECm6YBQsKAgWBgkBBoDDvvG//DT/NgoJAQaAgUHDDLFhQECgIFAQKAoU5jhorCwoC\n",
       "BYGCQOE/LrLuTX/wFc8AAAAASUVORK5CYII=\n",
       "\" transform=\"translate(2161, 47)\"/>\n",
       "</g>\n",
       "<path clip-path=\"url(#clip560)\" d=\"M2268.76 1439.27 L2298.43 1439.27 L2298.43 1443.2 L2268.76 1443.2 L2268.76 1439.27 Z\" fill=\"#000000\" fill-rule=\"nonzero\" fill-opacity=\"1\" /><path clip-path=\"url(#clip560)\" d=\"M2309.33 1452.16 L2316.97 1452.16 L2316.97 1425.79 L2308.66 1427.46 L2308.66 1423.2 L2316.93 1421.53 L2321.6 1421.53 L2321.6 1452.16 L2329.24 1452.16 L2329.24 1456.09 L2309.33 1456.09 L2309.33 1452.16 Z\" fill=\"#000000\" fill-rule=\"nonzero\" fill-opacity=\"1\" /><path clip-path=\"url(#clip560)\" d=\"M2338.73 1421.53 L2357.09 1421.53 L2357.09 1425.47 L2343.01 1425.47 L2343.01 1433.94 Q2344.03 1433.59 2345.05 1433.43 Q2346.07 1433.25 2347.09 1433.25 Q2352.88 1433.25 2356.26 1436.42 Q2359.64 1439.59 2359.64 1445.01 Q2359.64 1450.59 2356.16 1453.69 Q2352.69 1456.77 2346.37 1456.77 Q2344.2 1456.77 2341.93 1456.4 Q2339.68 1456.02 2337.27 1455.28 L2337.27 1450.59 Q2339.36 1451.72 2341.58 1452.27 Q2343.8 1452.83 2346.28 1452.83 Q2350.28 1452.83 2352.62 1450.72 Q2354.96 1448.62 2354.96 1445.01 Q2354.96 1441.4 2352.62 1439.29 Q2350.28 1437.18 2346.28 1437.18 Q2344.4 1437.18 2342.53 1437.6 Q2340.68 1438.02 2338.73 1438.9 L2338.73 1421.53 Z\" fill=\"#000000\" fill-rule=\"nonzero\" fill-opacity=\"1\" /><path clip-path=\"url(#clip560)\" d=\"M2378.85 1424.61 Q2375.24 1424.61 2373.41 1428.18 Q2371.6 1431.72 2371.6 1438.85 Q2371.6 1445.96 2373.41 1449.52 Q2375.24 1453.06 2378.85 1453.06 Q2382.48 1453.06 2384.29 1449.52 Q2386.12 1445.96 2386.12 1438.85 Q2386.12 1431.72 2384.29 1428.18 Q2382.48 1424.61 2378.85 1424.61 M2378.85 1420.91 Q2384.66 1420.91 2387.71 1425.52 Q2390.79 1430.1 2390.79 1438.85 Q2390.79 1447.58 2387.71 1452.18 Q2384.66 1456.77 2378.85 1456.77 Q2373.04 1456.77 2369.96 1452.18 Q2366.9 1447.58 2366.9 1438.85 Q2366.9 1430.1 2369.96 1425.52 Q2373.04 1420.91 2378.85 1420.91 Z\" fill=\"#000000\" fill-rule=\"nonzero\" fill-opacity=\"1\" /><polyline clip-path=\"url(#clip560)\" style=\"stroke:#000000; stroke-linecap:round; stroke-linejoin:round; stroke-width:4; stroke-opacity:1; fill:none\" points=\"2232.76,1442.44 2256.76,1442.44 \"/>\n",
       "<path clip-path=\"url(#clip560)\" d=\"M2268.76 1215.1 L2298.43 1215.1 L2298.43 1219.03 L2268.76 1219.03 L2268.76 1215.1 Z\" fill=\"#000000\" fill-rule=\"nonzero\" fill-opacity=\"1\" /><path clip-path=\"url(#clip560)\" d=\"M2309.33 1227.99 L2316.97 1227.99 L2316.97 1201.62 L2308.66 1203.29 L2308.66 1199.03 L2316.93 1197.36 L2321.6 1197.36 L2321.6 1227.99 L2329.24 1227.99 L2329.24 1231.92 L2309.33 1231.92 L2309.33 1227.99 Z\" fill=\"#000000\" fill-rule=\"nonzero\" fill-opacity=\"1\" /><path clip-path=\"url(#clip560)\" d=\"M2348.69 1200.44 Q2345.07 1200.44 2343.25 1204.01 Q2341.44 1207.55 2341.44 1214.68 Q2341.44 1221.78 2343.25 1225.35 Q2345.07 1228.89 2348.69 1228.89 Q2352.32 1228.89 2354.13 1225.35 Q2355.95 1221.78 2355.95 1214.68 Q2355.95 1207.55 2354.13 1204.01 Q2352.32 1200.44 2348.69 1200.44 M2348.69 1196.74 Q2354.5 1196.74 2357.55 1201.35 Q2360.63 1205.93 2360.63 1214.68 Q2360.63 1223.41 2357.55 1228.01 Q2354.5 1232.59 2348.69 1232.59 Q2342.88 1232.59 2339.8 1228.01 Q2336.74 1223.41 2336.74 1214.68 Q2336.74 1205.93 2339.8 1201.35 Q2342.88 1196.74 2348.69 1196.74 Z\" fill=\"#000000\" fill-rule=\"nonzero\" fill-opacity=\"1\" /><path clip-path=\"url(#clip560)\" d=\"M2378.85 1200.44 Q2375.24 1200.44 2373.41 1204.01 Q2371.6 1207.55 2371.6 1214.68 Q2371.6 1221.78 2373.41 1225.35 Q2375.24 1228.89 2378.85 1228.89 Q2382.48 1228.89 2384.29 1225.35 Q2386.12 1221.78 2386.12 1214.68 Q2386.12 1207.55 2384.29 1204.01 Q2382.48 1200.44 2378.85 1200.44 M2378.85 1196.74 Q2384.66 1196.74 2387.71 1201.35 Q2390.79 1205.93 2390.79 1214.68 Q2390.79 1223.41 2387.71 1228.01 Q2384.66 1232.59 2378.85 1232.59 Q2373.04 1232.59 2369.96 1228.01 Q2366.9 1223.41 2366.9 1214.68 Q2366.9 1205.93 2369.96 1201.35 Q2373.04 1196.74 2378.85 1196.74 Z\" fill=\"#000000\" fill-rule=\"nonzero\" fill-opacity=\"1\" /><polyline clip-path=\"url(#clip560)\" style=\"stroke:#000000; stroke-linecap:round; stroke-linejoin:round; stroke-width:4; stroke-opacity:1; fill:none\" points=\"2232.76,1218.27 2256.76,1218.27 \"/>\n",
       "<path clip-path=\"url(#clip560)\" d=\"M2268.76 990.924 L2298.43 990.924 L2298.43 994.86 L2268.76 994.86 L2268.76 990.924 Z\" fill=\"#000000\" fill-rule=\"nonzero\" fill-opacity=\"1\" /><path clip-path=\"url(#clip560)\" d=\"M2308.57 973.193 L2326.93 973.193 L2326.93 977.128 L2312.85 977.128 L2312.85 985.6 Q2313.87 985.253 2314.89 985.091 Q2315.91 984.906 2316.93 984.906 Q2322.71 984.906 2326.09 988.077 Q2329.47 991.248 2329.47 996.665 Q2329.47 1002.24 2326 1005.35 Q2322.53 1008.42 2316.21 1008.42 Q2314.03 1008.42 2311.76 1008.05 Q2309.52 1007.68 2307.11 1006.94 L2307.11 1002.24 Q2309.2 1003.38 2311.42 1003.93 Q2313.64 1004.49 2316.12 1004.49 Q2320.12 1004.49 2322.46 1002.38 Q2324.8 1000.28 2324.8 996.665 Q2324.8 993.054 2322.46 990.948 Q2320.12 988.841 2316.12 988.841 Q2314.24 988.841 2312.37 989.258 Q2310.51 989.674 2308.57 990.554 L2308.57 973.193 Z\" fill=\"#000000\" fill-rule=\"nonzero\" fill-opacity=\"1\" /><path clip-path=\"url(#clip560)\" d=\"M2348.69 976.272 Q2345.07 976.272 2343.25 979.836 Q2341.44 983.378 2341.44 990.508 Q2341.44 997.614 2343.25 1001.18 Q2345.07 1004.72 2348.69 1004.72 Q2352.32 1004.72 2354.13 1001.18 Q2355.95 997.614 2355.95 990.508 Q2355.95 983.378 2354.13 979.836 Q2352.32 976.272 2348.69 976.272 M2348.69 972.568 Q2354.5 972.568 2357.55 977.174 Q2360.63 981.758 2360.63 990.508 Q2360.63 999.235 2357.55 1003.84 Q2354.5 1008.42 2348.69 1008.42 Q2342.88 1008.42 2339.8 1003.84 Q2336.74 999.235 2336.74 990.508 Q2336.74 981.758 2339.8 977.174 Q2342.88 972.568 2348.69 972.568 Z\" fill=\"#000000\" fill-rule=\"nonzero\" fill-opacity=\"1\" /><polyline clip-path=\"url(#clip560)\" style=\"stroke:#000000; stroke-linecap:round; stroke-linejoin:round; stroke-width:4; stroke-opacity:1; fill:none\" points=\"2232.76,994.102 2256.76,994.102 \"/>\n",
       "<path clip-path=\"url(#clip560)\" d=\"M2280.7 752.101 Q2277.09 752.101 2275.26 755.666 Q2273.45 759.207 2273.45 766.337 Q2273.45 773.443 2275.26 777.008 Q2277.09 780.55 2280.7 780.55 Q2284.33 780.55 2286.14 777.008 Q2287.97 773.443 2287.97 766.337 Q2287.97 759.207 2286.14 755.666 Q2284.33 752.101 2280.7 752.101 M2280.7 748.397 Q2286.51 748.397 2289.57 753.004 Q2292.64 757.587 2292.64 766.337 Q2292.64 775.064 2289.57 779.67 Q2286.51 784.254 2280.7 784.254 Q2274.89 784.254 2271.81 779.67 Q2268.76 775.064 2268.76 766.337 Q2268.76 757.587 2271.81 753.004 Q2274.89 748.397 2280.7 748.397 Z\" fill=\"#000000\" fill-rule=\"nonzero\" fill-opacity=\"1\" /><polyline clip-path=\"url(#clip560)\" style=\"stroke:#000000; stroke-linecap:round; stroke-linejoin:round; stroke-width:4; stroke-opacity:1; fill:none\" points=\"2232.76,769.931 2256.76,769.931 \"/>\n",
       "<path clip-path=\"url(#clip560)\" d=\"M2270.21 524.852 L2288.57 524.852 L2288.57 528.787 L2274.5 528.787 L2274.5 537.259 Q2275.52 536.912 2276.53 536.75 Q2277.55 536.565 2278.57 536.565 Q2284.36 536.565 2287.74 539.736 Q2291.12 542.907 2291.12 548.324 Q2291.12 553.902 2287.64 557.004 Q2284.17 560.083 2277.85 560.083 Q2275.68 560.083 2273.41 559.713 Q2271.16 559.342 2268.76 558.601 L2268.76 553.902 Q2270.84 555.037 2273.06 555.592 Q2275.28 556.148 2277.76 556.148 Q2281.77 556.148 2284.1 554.041 Q2286.44 551.935 2286.44 548.324 Q2286.44 544.713 2284.1 542.606 Q2281.77 540.5 2277.76 540.5 Q2275.89 540.5 2274.01 540.916 Q2272.16 541.333 2270.21 542.213 L2270.21 524.852 Z\" fill=\"#000000\" fill-rule=\"nonzero\" fill-opacity=\"1\" /><path clip-path=\"url(#clip560)\" d=\"M2310.33 527.93 Q2306.72 527.93 2304.89 531.495 Q2303.08 535.037 2303.08 542.166 Q2303.08 549.273 2304.89 552.838 Q2306.72 556.379 2310.33 556.379 Q2313.96 556.379 2315.77 552.838 Q2317.6 549.273 2317.6 542.166 Q2317.6 535.037 2315.77 531.495 Q2313.96 527.93 2310.33 527.93 M2310.33 524.227 Q2316.14 524.227 2319.2 528.833 Q2322.27 533.416 2322.27 542.166 Q2322.27 550.893 2319.2 555.5 Q2316.14 560.083 2310.33 560.083 Q2304.52 560.083 2301.44 555.5 Q2298.39 550.893 2298.39 542.166 Q2298.39 533.416 2301.44 528.833 Q2304.52 524.227 2310.33 524.227 Z\" fill=\"#000000\" fill-rule=\"nonzero\" fill-opacity=\"1\" /><polyline clip-path=\"url(#clip560)\" style=\"stroke:#000000; stroke-linecap:round; stroke-linejoin:round; stroke-width:4; stroke-opacity:1; fill:none\" points=\"2232.76,545.76 2256.76,545.76 \"/>\n",
       "<path clip-path=\"url(#clip560)\" d=\"M2269.43 331.306 L2277.07 331.306 L2277.07 304.94 L2268.76 306.607 L2268.76 302.348 L2277.02 300.681 L2281.7 300.681 L2281.7 331.306 L2289.33 331.306 L2289.33 335.241 L2269.43 335.241 L2269.43 331.306 Z\" fill=\"#000000\" fill-rule=\"nonzero\" fill-opacity=\"1\" /><path clip-path=\"url(#clip560)\" d=\"M2308.78 303.76 Q2305.17 303.76 2303.34 307.324 Q2301.53 310.866 2301.53 317.996 Q2301.53 325.102 2303.34 328.667 Q2305.17 332.209 2308.78 332.209 Q2312.41 332.209 2314.22 328.667 Q2316.05 325.102 2316.05 317.996 Q2316.05 310.866 2314.22 307.324 Q2312.41 303.76 2308.78 303.76 M2308.78 300.056 Q2314.59 300.056 2317.64 304.662 Q2320.72 309.246 2320.72 317.996 Q2320.72 326.722 2317.64 331.329 Q2314.59 335.912 2308.78 335.912 Q2302.97 335.912 2299.89 331.329 Q2296.83 326.722 2296.83 317.996 Q2296.83 309.246 2299.89 304.662 Q2302.97 300.056 2308.78 300.056 Z\" fill=\"#000000\" fill-rule=\"nonzero\" fill-opacity=\"1\" /><path clip-path=\"url(#clip560)\" d=\"M2338.94 303.76 Q2335.33 303.76 2333.5 307.324 Q2331.7 310.866 2331.7 317.996 Q2331.7 325.102 2333.5 328.667 Q2335.33 332.209 2338.94 332.209 Q2342.57 332.209 2344.38 328.667 Q2346.21 325.102 2346.21 317.996 Q2346.21 310.866 2344.38 307.324 Q2342.57 303.76 2338.94 303.76 M2338.94 300.056 Q2344.75 300.056 2347.81 304.662 Q2350.89 309.246 2350.89 317.996 Q2350.89 326.722 2347.81 331.329 Q2344.75 335.912 2338.94 335.912 Q2333.13 335.912 2330.05 331.329 Q2327 326.722 2327 317.996 Q2327 309.246 2330.05 304.662 Q2333.13 300.056 2338.94 300.056 Z\" fill=\"#000000\" fill-rule=\"nonzero\" fill-opacity=\"1\" /><polyline clip-path=\"url(#clip560)\" style=\"stroke:#000000; stroke-linecap:round; stroke-linejoin:round; stroke-width:4; stroke-opacity:1; fill:none\" points=\"2232.76,321.59 2256.76,321.59 \"/>\n",
       "<path clip-path=\"url(#clip560)\" d=\"M2269.43 107.135 L2277.07 107.135 L2277.07 80.7695 L2268.76 82.4362 L2268.76 78.1769 L2277.02 76.5103 L2281.7 76.5103 L2281.7 107.135 L2289.33 107.135 L2289.33 111.07 L2269.43 111.07 L2269.43 107.135 Z\" fill=\"#000000\" fill-rule=\"nonzero\" fill-opacity=\"1\" /><path clip-path=\"url(#clip560)\" d=\"M2298.83 76.5103 L2317.18 76.5103 L2317.18 80.4455 L2303.11 80.4455 L2303.11 88.9176 Q2304.13 88.5704 2305.14 88.4084 Q2306.16 88.2232 2307.18 88.2232 Q2312.97 88.2232 2316.35 91.3945 Q2319.73 94.5657 2319.73 99.9824 Q2319.73 105.561 2316.26 108.663 Q2312.78 111.742 2306.46 111.742 Q2304.29 111.742 2302.02 111.371 Q2299.77 111.001 2297.37 110.26 L2297.37 105.561 Q2299.45 106.695 2301.67 107.251 Q2303.89 107.806 2306.37 107.806 Q2310.38 107.806 2312.71 105.7 Q2315.05 103.593 2315.05 99.9824 Q2315.05 96.3713 2312.71 94.2648 Q2310.38 92.1584 2306.37 92.1584 Q2304.5 92.1584 2302.62 92.575 Q2300.77 92.9917 2298.83 93.8713 L2298.83 76.5103 Z\" fill=\"#000000\" fill-rule=\"nonzero\" fill-opacity=\"1\" /><path clip-path=\"url(#clip560)\" d=\"M2338.94 79.589 Q2335.33 79.589 2333.5 83.1538 Q2331.7 86.6954 2331.7 93.825 Q2331.7 100.931 2333.5 104.496 Q2335.33 108.038 2338.94 108.038 Q2342.57 108.038 2344.38 104.496 Q2346.21 100.931 2346.21 93.825 Q2346.21 86.6954 2344.38 83.1538 Q2342.57 79.589 2338.94 79.589 M2338.94 75.8853 Q2344.75 75.8853 2347.81 80.4918 Q2350.89 85.0751 2350.89 93.825 Q2350.89 102.552 2347.81 107.158 Q2344.75 111.742 2338.94 111.742 Q2333.13 111.742 2330.05 107.158 Q2327 102.552 2327 93.825 Q2327 85.0751 2330.05 80.4918 Q2333.13 75.8853 2338.94 75.8853 Z\" fill=\"#000000\" fill-rule=\"nonzero\" fill-opacity=\"1\" /><polyline clip-path=\"url(#clip560)\" style=\"stroke:#000000; stroke-linecap:round; stroke-linejoin:round; stroke-width:4; stroke-opacity:1; fill:none\" points=\"2232.76,97.4191 2256.76,97.4191 \"/>\n",
       "<polyline clip-path=\"url(#clip560)\" style=\"stroke:#000000; stroke-linecap:round; stroke-linejoin:round; stroke-width:4; stroke-opacity:1; fill:none\" points=\"2232.76,1486.45 2232.76,47.2441 \"/>\n",
       "</svg>\n"
      ],
      "text/html": [
       "<?xml version=\"1.0\" encoding=\"utf-8\"?>\n",
       "<svg xmlns=\"http://www.w3.org/2000/svg\" xmlns:xlink=\"http://www.w3.org/1999/xlink\" width=\"600\" height=\"400\" viewBox=\"0 0 2400 1600\">\n",
       "<defs>\n",
       "  <clipPath id=\"clip610\">\n",
       "    <rect x=\"0\" y=\"0\" width=\"2400\" height=\"1600\"/>\n",
       "  </clipPath>\n",
       "</defs>\n",
       "<path clip-path=\"url(#clip610)\" d=\"M0 1600 L2400 1600 L2400 0 L0 0  Z\" fill=\"#ffffff\" fill-rule=\"evenodd\" fill-opacity=\"1\"/>\n",
       "<defs>\n",
       "  <clipPath id=\"clip611\">\n",
       "    <rect x=\"480\" y=\"0\" width=\"1681\" height=\"1600\"/>\n",
       "  </clipPath>\n",
       "</defs>\n",
       "<path clip-path=\"url(#clip610)\" d=\"M201.019 1486.45 L2112.76 1486.45 L2112.76 47.2441 L201.019 47.2441  Z\" fill=\"#ffffff\" fill-rule=\"evenodd\" fill-opacity=\"1\"/>\n",
       "<defs>\n",
       "  <clipPath id=\"clip612\">\n",
       "    <rect x=\"201\" y=\"47\" width=\"1913\" height=\"1440\"/>\n",
       "  </clipPath>\n",
       "</defs>\n",
       "<polyline clip-path=\"url(#clip612)\" style=\"stroke:#000000; stroke-linecap:round; stroke-linejoin:round; stroke-width:2; stroke-opacity:0.1; fill:none\" points=\"675.378,1486.45 675.378,47.2441 \"/>\n",
       "<polyline clip-path=\"url(#clip612)\" style=\"stroke:#000000; stroke-linecap:round; stroke-linejoin:round; stroke-width:2; stroke-opacity:0.1; fill:none\" points=\"1152.12,1486.45 1152.12,47.2441 \"/>\n",
       "<polyline clip-path=\"url(#clip612)\" style=\"stroke:#000000; stroke-linecap:round; stroke-linejoin:round; stroke-width:2; stroke-opacity:0.1; fill:none\" points=\"1628.86,1486.45 1628.86,47.2441 \"/>\n",
       "<polyline clip-path=\"url(#clip612)\" style=\"stroke:#000000; stroke-linecap:round; stroke-linejoin:round; stroke-width:2; stroke-opacity:0.1; fill:none\" points=\"2105.6,1486.45 2105.6,47.2441 \"/>\n",
       "<polyline clip-path=\"url(#clip612)\" style=\"stroke:#000000; stroke-linecap:round; stroke-linejoin:round; stroke-width:2; stroke-opacity:0.1; fill:none\" points=\"201.019,1127.19 2112.76,1127.19 \"/>\n",
       "<polyline clip-path=\"url(#clip612)\" style=\"stroke:#000000; stroke-linecap:round; stroke-linejoin:round; stroke-width:2; stroke-opacity:0.1; fill:none\" points=\"201.019,767.565 2112.76,767.565 \"/>\n",
       "<polyline clip-path=\"url(#clip612)\" style=\"stroke:#000000; stroke-linecap:round; stroke-linejoin:round; stroke-width:2; stroke-opacity:0.1; fill:none\" points=\"201.019,407.944 2112.76,407.944 \"/>\n",
       "<polyline clip-path=\"url(#clip612)\" style=\"stroke:#000000; stroke-linecap:round; stroke-linejoin:round; stroke-width:2; stroke-opacity:0.1; fill:none\" points=\"201.019,48.323 2112.76,48.323 \"/>\n",
       "<polyline clip-path=\"url(#clip610)\" style=\"stroke:#000000; stroke-linecap:round; stroke-linejoin:round; stroke-width:4; stroke-opacity:1; fill:none\" points=\"201.019,1486.45 2112.76,1486.45 \"/>\n",
       "<polyline clip-path=\"url(#clip610)\" style=\"stroke:#000000; stroke-linecap:round; stroke-linejoin:round; stroke-width:4; stroke-opacity:1; fill:none\" points=\"675.378,1486.45 675.378,1467.55 \"/>\n",
       "<polyline clip-path=\"url(#clip610)\" style=\"stroke:#000000; stroke-linecap:round; stroke-linejoin:round; stroke-width:4; stroke-opacity:1; fill:none\" points=\"1152.12,1486.45 1152.12,1467.55 \"/>\n",
       "<polyline clip-path=\"url(#clip610)\" style=\"stroke:#000000; stroke-linecap:round; stroke-linejoin:round; stroke-width:4; stroke-opacity:1; fill:none\" points=\"1628.86,1486.45 1628.86,1467.55 \"/>\n",
       "<polyline clip-path=\"url(#clip610)\" style=\"stroke:#000000; stroke-linecap:round; stroke-linejoin:round; stroke-width:4; stroke-opacity:1; fill:none\" points=\"2105.6,1486.45 2105.6,1467.55 \"/>\n",
       "<path clip-path=\"url(#clip610)\" d=\"M634.985 1544.91 L642.623 1544.91 L642.623 1518.55 L634.313 1520.21 L634.313 1515.95 L642.577 1514.29 L647.253 1514.29 L647.253 1544.91 L654.892 1544.91 L654.892 1548.85 L634.985 1548.85 L634.985 1544.91 Z\" fill=\"#000000\" fill-rule=\"nonzero\" fill-opacity=\"1\" /><path clip-path=\"url(#clip610)\" d=\"M674.336 1517.37 Q670.725 1517.37 668.896 1520.93 Q667.091 1524.47 667.091 1531.6 Q667.091 1538.71 668.896 1542.27 Q670.725 1545.82 674.336 1545.82 Q677.97 1545.82 679.776 1542.27 Q681.605 1538.71 681.605 1531.6 Q681.605 1524.47 679.776 1520.93 Q677.97 1517.37 674.336 1517.37 M674.336 1513.66 Q680.146 1513.66 683.202 1518.27 Q686.281 1522.85 686.281 1531.6 Q686.281 1540.33 683.202 1544.94 Q680.146 1549.52 674.336 1549.52 Q668.526 1549.52 665.447 1544.94 Q662.392 1540.33 662.392 1531.6 Q662.392 1522.85 665.447 1518.27 Q668.526 1513.66 674.336 1513.66 Z\" fill=\"#000000\" fill-rule=\"nonzero\" fill-opacity=\"1\" /><path clip-path=\"url(#clip610)\" d=\"M704.498 1517.37 Q700.887 1517.37 699.058 1520.93 Q697.253 1524.47 697.253 1531.6 Q697.253 1538.71 699.058 1542.27 Q700.887 1545.82 704.498 1545.82 Q708.132 1545.82 709.938 1542.27 Q711.767 1538.71 711.767 1531.6 Q711.767 1524.47 709.938 1520.93 Q708.132 1517.37 704.498 1517.37 M704.498 1513.66 Q710.308 1513.66 713.364 1518.27 Q716.442 1522.85 716.442 1531.6 Q716.442 1540.33 713.364 1544.94 Q710.308 1549.52 704.498 1549.52 Q698.688 1549.52 695.609 1544.94 Q692.554 1540.33 692.554 1531.6 Q692.554 1522.85 695.609 1518.27 Q698.688 1513.66 704.498 1513.66 Z\" fill=\"#000000\" fill-rule=\"nonzero\" fill-opacity=\"1\" /><path clip-path=\"url(#clip610)\" d=\"M1115.81 1544.91 L1132.13 1544.91 L1132.13 1548.85 L1110.19 1548.85 L1110.19 1544.91 Q1112.85 1542.16 1117.43 1537.53 Q1122.04 1532.88 1123.22 1531.53 Q1125.47 1529.01 1126.34 1527.27 Q1127.25 1525.51 1127.25 1523.82 Q1127.25 1521.07 1125.3 1519.33 Q1123.38 1517.6 1120.28 1517.6 Q1118.08 1517.6 1115.63 1518.36 Q1113.2 1519.13 1110.42 1520.68 L1110.42 1515.95 Q1113.24 1514.82 1115.7 1514.24 Q1118.15 1513.66 1120.19 1513.66 Q1125.56 1513.66 1128.75 1516.35 Q1131.95 1519.03 1131.95 1523.52 Q1131.95 1525.65 1131.14 1527.57 Q1130.35 1529.47 1128.24 1532.07 Q1127.66 1532.74 1124.56 1535.95 Q1121.46 1539.15 1115.81 1544.91 Z\" fill=\"#000000\" fill-rule=\"nonzero\" fill-opacity=\"1\" /><path clip-path=\"url(#clip610)\" d=\"M1151.95 1517.37 Q1148.34 1517.37 1146.51 1520.93 Q1144.7 1524.47 1144.7 1531.6 Q1144.7 1538.71 1146.51 1542.27 Q1148.34 1545.82 1151.95 1545.82 Q1155.58 1545.82 1157.39 1542.27 Q1159.22 1538.71 1159.22 1531.6 Q1159.22 1524.47 1157.39 1520.93 Q1155.58 1517.37 1151.95 1517.37 M1151.95 1513.66 Q1157.76 1513.66 1160.81 1518.27 Q1163.89 1522.85 1163.89 1531.6 Q1163.89 1540.33 1160.81 1544.94 Q1157.76 1549.52 1151.95 1549.52 Q1146.14 1549.52 1143.06 1544.94 Q1140 1540.33 1140 1531.6 Q1140 1522.85 1143.06 1518.27 Q1146.14 1513.66 1151.95 1513.66 Z\" fill=\"#000000\" fill-rule=\"nonzero\" fill-opacity=\"1\" /><path clip-path=\"url(#clip610)\" d=\"M1182.11 1517.37 Q1178.5 1517.37 1176.67 1520.93 Q1174.86 1524.47 1174.86 1531.6 Q1174.86 1538.71 1176.67 1542.27 Q1178.5 1545.82 1182.11 1545.82 Q1185.74 1545.82 1187.55 1542.27 Q1189.38 1538.71 1189.38 1531.6 Q1189.38 1524.47 1187.55 1520.93 Q1185.74 1517.37 1182.11 1517.37 M1182.11 1513.66 Q1187.92 1513.66 1190.97 1518.27 Q1194.05 1522.85 1194.05 1531.6 Q1194.05 1540.33 1190.97 1544.94 Q1187.92 1549.52 1182.11 1549.52 Q1176.3 1549.52 1173.22 1544.94 Q1170.16 1540.33 1170.16 1531.6 Q1170.16 1522.85 1173.22 1518.27 Q1176.3 1513.66 1182.11 1513.66 Z\" fill=\"#000000\" fill-rule=\"nonzero\" fill-opacity=\"1\" /><path clip-path=\"url(#clip610)\" d=\"M1602.62 1530.21 Q1605.98 1530.93 1607.86 1533.2 Q1609.75 1535.47 1609.75 1538.8 Q1609.75 1543.92 1606.24 1546.72 Q1602.72 1549.52 1596.24 1549.52 Q1594.06 1549.52 1591.74 1549.08 Q1589.45 1548.66 1587 1547.81 L1587 1543.29 Q1588.94 1544.43 1591.26 1545.01 Q1593.57 1545.58 1596.1 1545.58 Q1600.49 1545.58 1602.79 1543.85 Q1605.1 1542.11 1605.1 1538.8 Q1605.1 1535.75 1602.95 1534.03 Q1600.82 1532.3 1597 1532.3 L1592.97 1532.3 L1592.97 1528.45 L1597.18 1528.45 Q1600.63 1528.45 1602.46 1527.09 Q1604.29 1525.7 1604.29 1523.11 Q1604.29 1520.45 1602.39 1519.03 Q1600.52 1517.6 1597 1517.6 Q1595.08 1517.6 1592.88 1518.01 Q1590.68 1518.43 1588.04 1519.31 L1588.04 1515.14 Q1590.7 1514.4 1593.02 1514.03 Q1595.36 1513.66 1597.42 1513.66 Q1602.74 1513.66 1605.84 1516.09 Q1608.94 1518.5 1608.94 1522.62 Q1608.94 1525.49 1607.3 1527.48 Q1605.66 1529.45 1602.62 1530.21 Z\" fill=\"#000000\" fill-rule=\"nonzero\" fill-opacity=\"1\" /><path clip-path=\"url(#clip610)\" d=\"M1628.62 1517.37 Q1625.01 1517.37 1623.18 1520.93 Q1621.37 1524.47 1621.37 1531.6 Q1621.37 1538.71 1623.18 1542.27 Q1625.01 1545.82 1628.62 1545.82 Q1632.25 1545.82 1634.06 1542.27 Q1635.89 1538.71 1635.89 1531.6 Q1635.89 1524.47 1634.06 1520.93 Q1632.25 1517.37 1628.62 1517.37 M1628.62 1513.66 Q1634.43 1513.66 1637.49 1518.27 Q1640.56 1522.85 1640.56 1531.6 Q1640.56 1540.33 1637.49 1544.94 Q1634.43 1549.52 1628.62 1549.52 Q1622.81 1549.52 1619.73 1544.94 Q1616.68 1540.33 1616.68 1531.6 Q1616.68 1522.85 1619.73 1518.27 Q1622.81 1513.66 1628.62 1513.66 Z\" fill=\"#000000\" fill-rule=\"nonzero\" fill-opacity=\"1\" /><path clip-path=\"url(#clip610)\" d=\"M1658.78 1517.37 Q1655.17 1517.37 1653.34 1520.93 Q1651.54 1524.47 1651.54 1531.6 Q1651.54 1538.71 1653.34 1542.27 Q1655.17 1545.82 1658.78 1545.82 Q1662.42 1545.82 1664.22 1542.27 Q1666.05 1538.71 1666.05 1531.6 Q1666.05 1524.47 1664.22 1520.93 Q1662.42 1517.37 1658.78 1517.37 M1658.78 1513.66 Q1664.59 1513.66 1667.65 1518.27 Q1670.73 1522.85 1670.73 1531.6 Q1670.73 1540.33 1667.65 1544.94 Q1664.59 1549.52 1658.78 1549.52 Q1652.97 1549.52 1649.89 1544.94 Q1646.84 1540.33 1646.84 1531.6 Q1646.84 1522.85 1649.89 1518.27 Q1652.97 1513.66 1658.78 1513.66 Z\" fill=\"#000000\" fill-rule=\"nonzero\" fill-opacity=\"1\" /><path clip-path=\"url(#clip610)\" d=\"M2078.7 1518.36 L2066.89 1536.81 L2078.7 1536.81 L2078.7 1518.36 M2077.47 1514.29 L2083.35 1514.29 L2083.35 1536.81 L2088.28 1536.81 L2088.28 1540.7 L2083.35 1540.7 L2083.35 1548.85 L2078.7 1548.85 L2078.7 1540.7 L2063.09 1540.7 L2063.09 1536.19 L2077.47 1514.29 Z\" fill=\"#000000\" fill-rule=\"nonzero\" fill-opacity=\"1\" /><path clip-path=\"url(#clip610)\" d=\"M2106.01 1517.37 Q2102.4 1517.37 2100.57 1520.93 Q2098.76 1524.47 2098.76 1531.6 Q2098.76 1538.71 2100.57 1542.27 Q2102.4 1545.82 2106.01 1545.82 Q2109.64 1545.82 2111.45 1542.27 Q2113.28 1538.71 2113.28 1531.6 Q2113.28 1524.47 2111.45 1520.93 Q2109.64 1517.37 2106.01 1517.37 M2106.01 1513.66 Q2111.82 1513.66 2114.88 1518.27 Q2117.95 1522.85 2117.95 1531.6 Q2117.95 1540.33 2114.88 1544.94 Q2111.82 1549.52 2106.01 1549.52 Q2100.2 1549.52 2097.12 1544.94 Q2094.07 1540.33 2094.07 1531.6 Q2094.07 1522.85 2097.12 1518.27 Q2100.2 1513.66 2106.01 1513.66 Z\" fill=\"#000000\" fill-rule=\"nonzero\" fill-opacity=\"1\" /><path clip-path=\"url(#clip610)\" d=\"M2136.17 1517.37 Q2132.56 1517.37 2130.73 1520.93 Q2128.93 1524.47 2128.93 1531.6 Q2128.93 1538.71 2130.73 1542.27 Q2132.56 1545.82 2136.17 1545.82 Q2139.81 1545.82 2141.61 1542.27 Q2143.44 1538.71 2143.44 1531.6 Q2143.44 1524.47 2141.61 1520.93 Q2139.81 1517.37 2136.17 1517.37 M2136.17 1513.66 Q2141.98 1513.66 2145.04 1518.27 Q2148.12 1522.85 2148.12 1531.6 Q2148.12 1540.33 2145.04 1544.94 Q2141.98 1549.52 2136.17 1549.52 Q2130.36 1549.52 2127.28 1544.94 Q2124.23 1540.33 2124.23 1531.6 Q2124.23 1522.85 2127.28 1518.27 Q2130.36 1513.66 2136.17 1513.66 Z\" fill=\"#000000\" fill-rule=\"nonzero\" fill-opacity=\"1\" /><polyline clip-path=\"url(#clip610)\" style=\"stroke:#000000; stroke-linecap:round; stroke-linejoin:round; stroke-width:4; stroke-opacity:1; fill:none\" points=\"201.019,1486.45 201.019,47.2441 \"/>\n",
       "<polyline clip-path=\"url(#clip610)\" style=\"stroke:#000000; stroke-linecap:round; stroke-linejoin:round; stroke-width:4; stroke-opacity:1; fill:none\" points=\"201.019,1127.19 217.809,1127.19 \"/>\n",
       "<polyline clip-path=\"url(#clip610)\" style=\"stroke:#000000; stroke-linecap:round; stroke-linejoin:round; stroke-width:4; stroke-opacity:1; fill:none\" points=\"201.019,767.565 217.809,767.565 \"/>\n",
       "<polyline clip-path=\"url(#clip610)\" style=\"stroke:#000000; stroke-linecap:round; stroke-linejoin:round; stroke-width:4; stroke-opacity:1; fill:none\" points=\"201.019,407.944 217.809,407.944 \"/>\n",
       "<polyline clip-path=\"url(#clip610)\" style=\"stroke:#000000; stroke-linecap:round; stroke-linejoin:round; stroke-width:4; stroke-opacity:1; fill:none\" points=\"201.019,48.323 217.809,48.323 \"/>\n",
       "<path clip-path=\"url(#clip610)\" d=\"M82.7975 1109.91 L101.154 1109.91 L101.154 1113.84 L87.0799 1113.84 L87.0799 1122.31 Q88.0984 1121.97 89.1169 1121.8 Q90.1354 1121.62 91.1539 1121.62 Q96.941 1121.62 100.321 1124.79 Q103.7 1127.96 103.7 1133.38 Q103.7 1138.96 100.228 1142.06 Q96.7558 1145.14 90.4364 1145.14 Q88.2604 1145.14 85.9919 1144.77 Q83.7466 1144.4 81.3392 1143.66 L81.3392 1138.96 Q83.4225 1140.09 85.6447 1140.65 Q87.8669 1141.2 90.3438 1141.2 Q94.3484 1141.2 96.6863 1139.1 Q99.0243 1136.99 99.0243 1133.38 Q99.0243 1129.77 96.6863 1127.66 Q94.3484 1125.55 90.3438 1125.55 Q88.4688 1125.55 86.5938 1125.97 Q84.7419 1126.39 82.7975 1127.27 L82.7975 1109.91 Z\" fill=\"#000000\" fill-rule=\"nonzero\" fill-opacity=\"1\" /><path clip-path=\"url(#clip610)\" d=\"M122.913 1112.99 Q119.302 1112.99 117.473 1116.55 Q115.668 1120.09 115.668 1127.22 Q115.668 1134.33 117.473 1137.89 Q119.302 1141.43 122.913 1141.43 Q126.547 1141.43 128.353 1137.89 Q130.182 1134.33 130.182 1127.22 Q130.182 1120.09 128.353 1116.55 Q126.547 1112.99 122.913 1112.99 M122.913 1109.28 Q128.723 1109.28 131.779 1113.89 Q134.857 1118.47 134.857 1127.22 Q134.857 1135.95 131.779 1140.55 Q128.723 1145.14 122.913 1145.14 Q117.103 1145.14 114.024 1140.55 Q110.969 1135.95 110.969 1127.22 Q110.969 1118.47 114.024 1113.89 Q117.103 1109.28 122.913 1109.28 Z\" fill=\"#000000\" fill-rule=\"nonzero\" fill-opacity=\"1\" /><path clip-path=\"url(#clip610)\" d=\"M153.075 1112.99 Q149.464 1112.99 147.635 1116.55 Q145.83 1120.09 145.83 1127.22 Q145.83 1134.33 147.635 1137.89 Q149.464 1141.43 153.075 1141.43 Q156.709 1141.43 158.515 1137.89 Q160.343 1134.33 160.343 1127.22 Q160.343 1120.09 158.515 1116.55 Q156.709 1112.99 153.075 1112.99 M153.075 1109.28 Q158.885 1109.28 161.941 1113.89 Q165.019 1118.47 165.019 1127.22 Q165.019 1135.95 161.941 1140.55 Q158.885 1145.14 153.075 1145.14 Q147.265 1145.14 144.186 1140.55 Q141.131 1135.95 141.131 1127.22 Q141.131 1118.47 144.186 1113.89 Q147.265 1109.28 153.075 1109.28 Z\" fill=\"#000000\" fill-rule=\"nonzero\" fill-opacity=\"1\" /><path clip-path=\"url(#clip610)\" d=\"M53.3995 780.91 L61.0384 780.91 L61.0384 754.544 L52.7282 756.211 L52.7282 751.952 L60.9921 750.285 L65.668 750.285 L65.668 780.91 L73.3068 780.91 L73.3068 784.845 L53.3995 784.845 L53.3995 780.91 Z\" fill=\"#000000\" fill-rule=\"nonzero\" fill-opacity=\"1\" /><path clip-path=\"url(#clip610)\" d=\"M92.7512 753.364 Q89.1401 753.364 87.3114 756.929 Q85.5058 760.47 85.5058 767.6 Q85.5058 774.706 87.3114 778.271 Q89.1401 781.813 92.7512 781.813 Q96.3854 781.813 98.1909 778.271 Q100.02 774.706 100.02 767.6 Q100.02 760.47 98.1909 756.929 Q96.3854 753.364 92.7512 753.364 M92.7512 749.66 Q98.5613 749.66 101.617 754.267 Q104.696 758.85 104.696 767.6 Q104.696 776.327 101.617 780.933 Q98.5613 785.517 92.7512 785.517 Q86.941 785.517 83.8623 780.933 Q80.8068 776.327 80.8068 767.6 Q80.8068 758.85 83.8623 754.267 Q86.941 749.66 92.7512 749.66 Z\" fill=\"#000000\" fill-rule=\"nonzero\" fill-opacity=\"1\" /><path clip-path=\"url(#clip610)\" d=\"M122.913 753.364 Q119.302 753.364 117.473 756.929 Q115.668 760.47 115.668 767.6 Q115.668 774.706 117.473 778.271 Q119.302 781.813 122.913 781.813 Q126.547 781.813 128.353 778.271 Q130.182 774.706 130.182 767.6 Q130.182 760.47 128.353 756.929 Q126.547 753.364 122.913 753.364 M122.913 749.66 Q128.723 749.66 131.779 754.267 Q134.857 758.85 134.857 767.6 Q134.857 776.327 131.779 780.933 Q128.723 785.517 122.913 785.517 Q117.103 785.517 114.024 780.933 Q110.969 776.327 110.969 767.6 Q110.969 758.85 114.024 754.267 Q117.103 749.66 122.913 749.66 Z\" fill=\"#000000\" fill-rule=\"nonzero\" fill-opacity=\"1\" /><path clip-path=\"url(#clip610)\" d=\"M153.075 753.364 Q149.464 753.364 147.635 756.929 Q145.83 760.47 145.83 767.6 Q145.83 774.706 147.635 778.271 Q149.464 781.813 153.075 781.813 Q156.709 781.813 158.515 778.271 Q160.343 774.706 160.343 767.6 Q160.343 760.47 158.515 756.929 Q156.709 753.364 153.075 753.364 M153.075 749.66 Q158.885 749.66 161.941 754.267 Q165.019 758.85 165.019 767.6 Q165.019 776.327 161.941 780.933 Q158.885 785.517 153.075 785.517 Q147.265 785.517 144.186 780.933 Q141.131 776.327 141.131 767.6 Q141.131 758.85 144.186 754.267 Q147.265 749.66 153.075 749.66 Z\" fill=\"#000000\" fill-rule=\"nonzero\" fill-opacity=\"1\" /><path clip-path=\"url(#clip610)\" d=\"M53.3995 421.289 L61.0384 421.289 L61.0384 394.923 L52.7282 396.59 L52.7282 392.331 L60.9921 390.664 L65.668 390.664 L65.668 421.289 L73.3068 421.289 L73.3068 425.224 L53.3995 425.224 L53.3995 421.289 Z\" fill=\"#000000\" fill-rule=\"nonzero\" fill-opacity=\"1\" /><path clip-path=\"url(#clip610)\" d=\"M82.7975 390.664 L101.154 390.664 L101.154 394.599 L87.0799 394.599 L87.0799 403.071 Q88.0984 402.724 89.1169 402.562 Q90.1354 402.377 91.1539 402.377 Q96.941 402.377 100.321 405.548 Q103.7 408.72 103.7 414.136 Q103.7 419.715 100.228 422.817 Q96.7558 425.895 90.4364 425.895 Q88.2604 425.895 85.9919 425.525 Q83.7466 425.155 81.3392 424.414 L81.3392 419.715 Q83.4225 420.849 85.6447 421.405 Q87.8669 421.96 90.3438 421.96 Q94.3484 421.96 96.6863 419.854 Q99.0243 417.747 99.0243 414.136 Q99.0243 410.525 96.6863 408.419 Q94.3484 406.312 90.3438 406.312 Q88.4688 406.312 86.5938 406.729 Q84.7419 407.145 82.7975 408.025 L82.7975 390.664 Z\" fill=\"#000000\" fill-rule=\"nonzero\" fill-opacity=\"1\" /><path clip-path=\"url(#clip610)\" d=\"M122.913 393.743 Q119.302 393.743 117.473 397.308 Q115.668 400.849 115.668 407.979 Q115.668 415.085 117.473 418.65 Q119.302 422.192 122.913 422.192 Q126.547 422.192 128.353 418.65 Q130.182 415.085 130.182 407.979 Q130.182 400.849 128.353 397.308 Q126.547 393.743 122.913 393.743 M122.913 390.039 Q128.723 390.039 131.779 394.646 Q134.857 399.229 134.857 407.979 Q134.857 416.706 131.779 421.312 Q128.723 425.895 122.913 425.895 Q117.103 425.895 114.024 421.312 Q110.969 416.706 110.969 407.979 Q110.969 399.229 114.024 394.646 Q117.103 390.039 122.913 390.039 Z\" fill=\"#000000\" fill-rule=\"nonzero\" fill-opacity=\"1\" /><path clip-path=\"url(#clip610)\" d=\"M153.075 393.743 Q149.464 393.743 147.635 397.308 Q145.83 400.849 145.83 407.979 Q145.83 415.085 147.635 418.65 Q149.464 422.192 153.075 422.192 Q156.709 422.192 158.515 418.65 Q160.343 415.085 160.343 407.979 Q160.343 400.849 158.515 397.308 Q156.709 393.743 153.075 393.743 M153.075 390.039 Q158.885 390.039 161.941 394.646 Q165.019 399.229 165.019 407.979 Q165.019 416.706 161.941 421.312 Q158.885 425.895 153.075 425.895 Q147.265 425.895 144.186 421.312 Q141.131 416.706 141.131 407.979 Q141.131 399.229 144.186 394.646 Q147.265 390.039 153.075 390.039 Z\" fill=\"#000000\" fill-rule=\"nonzero\" fill-opacity=\"1\" /><path clip-path=\"url(#clip610)\" d=\"M56.6171 61.6678 L72.9365 61.6678 L72.9365 65.603 L50.9921 65.603 L50.9921 61.6678 Q53.6541 58.9132 58.2375 54.2836 Q62.8439 49.6308 64.0245 48.2882 Q66.2698 45.7651 67.1494 44.029 Q68.0522 42.2697 68.0522 40.5799 Q68.0522 37.8253 66.1078 36.0892 Q64.1865 34.3531 61.0847 34.3531 Q58.8856 34.3531 56.4319 35.117 Q54.0014 35.8809 51.2236 37.4318 L51.2236 32.7096 Q54.0477 31.5754 56.5014 30.9967 Q58.955 30.418 60.9921 30.418 Q66.3624 30.418 69.5568 33.1031 Q72.7513 35.7883 72.7513 40.279 Q72.7513 42.4086 71.9411 44.3299 Q71.1541 46.2281 69.0476 48.8206 Q68.4689 49.4919 65.367 52.7095 Q62.2652 55.9039 56.6171 61.6678 Z\" fill=\"#000000\" fill-rule=\"nonzero\" fill-opacity=\"1\" /><path clip-path=\"url(#clip610)\" d=\"M92.7512 34.1216 Q89.1401 34.1216 87.3114 37.6864 Q85.5058 41.2281 85.5058 48.3577 Q85.5058 55.4641 87.3114 59.0289 Q89.1401 62.5706 92.7512 62.5706 Q96.3854 62.5706 98.1909 59.0289 Q100.02 55.4641 100.02 48.3577 Q100.02 41.2281 98.1909 37.6864 Q96.3854 34.1216 92.7512 34.1216 M92.7512 30.418 Q98.5613 30.418 101.617 35.0244 Q104.696 39.6077 104.696 48.3577 Q104.696 57.0845 101.617 61.6909 Q98.5613 66.2743 92.7512 66.2743 Q86.941 66.2743 83.8623 61.6909 Q80.8068 57.0845 80.8068 48.3577 Q80.8068 39.6077 83.8623 35.0244 Q86.941 30.418 92.7512 30.418 Z\" fill=\"#000000\" fill-rule=\"nonzero\" fill-opacity=\"1\" /><path clip-path=\"url(#clip610)\" d=\"M122.913 34.1216 Q119.302 34.1216 117.473 37.6864 Q115.668 41.2281 115.668 48.3577 Q115.668 55.4641 117.473 59.0289 Q119.302 62.5706 122.913 62.5706 Q126.547 62.5706 128.353 59.0289 Q130.182 55.4641 130.182 48.3577 Q130.182 41.2281 128.353 37.6864 Q126.547 34.1216 122.913 34.1216 M122.913 30.418 Q128.723 30.418 131.779 35.0244 Q134.857 39.6077 134.857 48.3577 Q134.857 57.0845 131.779 61.6909 Q128.723 66.2743 122.913 66.2743 Q117.103 66.2743 114.024 61.6909 Q110.969 57.0845 110.969 48.3577 Q110.969 39.6077 114.024 35.0244 Q117.103 30.418 122.913 30.418 Z\" fill=\"#000000\" fill-rule=\"nonzero\" fill-opacity=\"1\" /><path clip-path=\"url(#clip610)\" d=\"M153.075 34.1216 Q149.464 34.1216 147.635 37.6864 Q145.83 41.2281 145.83 48.3577 Q145.83 55.4641 147.635 59.0289 Q149.464 62.5706 153.075 62.5706 Q156.709 62.5706 158.515 59.0289 Q160.343 55.4641 160.343 48.3577 Q160.343 41.2281 158.515 37.6864 Q156.709 34.1216 153.075 34.1216 M153.075 30.418 Q158.885 30.418 161.941 35.0244 Q165.019 39.6077 165.019 48.3577 Q165.019 57.0845 161.941 61.6909 Q158.885 66.2743 153.075 66.2743 Q147.265 66.2743 144.186 61.6909 Q141.131 57.0845 141.131 48.3577 Q141.131 39.6077 144.186 35.0244 Q147.265 30.418 153.075 30.418 Z\" fill=\"#000000\" fill-rule=\"nonzero\" fill-opacity=\"1\" /><g clip-path=\"url(#clip612)\">\n",
       "<image width=\"1912\" height=\"1439\" xlink:href=\"data:image/png;base64,\n",
       "iVBORw0KGgoAAAANSUhEUgAAB3gAAAWfCAYAAABJJifMAAAgAElEQVR4nOzZQRGAMADAsDFRc4JZ\n",
       "zDEL+0HvEgX993rW/Q4AAAAAAAAAfm9+HQAAAAAAAADAGYMXAAAAAAAAIMLgBQAAAAAAAIgweAEA\n",
       "AAAAAAAiDF4AAAAAAACACIMXAAAAAAAAIMLgBQAAAAAAAIgweAEAAAAAAAAiDF4AAAAAAACACIMX\n",
       "AAAAAAAAIMLgBQAAAAAAAIgweAEAAAAAAAAiDF4AAAAAAACACIMXAAAAAAAAIMLgBQAAAAAAAIgw\n",
       "eAEAAAAAAAAiDF4AAAAAAACACIMXAAAAAAAAIMLgBQAAAAAAAIgweAEAAAAAAAAiDF4AAAAAAACA\n",
       "CIMXAAAAAAAAIMLgBQAAAAAAAIgweAEAAAAAAAAiDF4AAAAAAACACIMXAAAAAAAAIMLgBQAAAAAA\n",
       "AIgweAEAAAAAAAAiDF4AAAAAAACACIMXAAAAAAAAIMLgBQAAAAAAAIgweAEAAAAAAAAiDF4AAAAA\n",
       "AACACIMXAAAAAAAAIMLgBQAAAAAAAIgweAEAAAAAAAAiDF4AAAAAAACACIMXAAAAAAAAIMLgBQAA\n",
       "AAAAAIgweAEAAAAAAAAiDF4AAAAAAACACIMXAAAAAAAAIMLgBQAAAAAAAIgweAEAAAAAAAAiDF4A\n",
       "AAAAAACACIMXAAAAAAAAIMLgBQAAAAAAAIgweAEAAAAAAAAiDF4AAAAAAACACIMXAAAAAAAAIMLg\n",
       "BQAAAAAAAIgweAEAAAAAAAAiDF4AAAAAAACACIMXAAAAAAAAIMLgBQAAAAAAAIgweAEAAAAAAAAi\n",
       "DF4AAAAAAACACIMXAAAAAAAAIMLgBQAAAAAAAIgweAEAAAAAAAAiDF4AAAAAAACACIMXAAAAAAAA\n",
       "IMLgBQAAAAAAAIgweAEAAAAAAAAiDF4AAAAAAACACIMXAAAAAAAAIMLgBQAAAAAAAIgweAEAAAAA\n",
       "AAAiDF4AAAAAAACACIMXAAAAAAAAIMLgBQAAAAAAAIgweAEAAAAAAAAiDF4AAAAAAACACIMXAAAA\n",
       "AAAAIMLgBQAAAAAAAIgweAEAAAAAAAAiDF4AAAAAAACACIMXAAAAAAAAIMLgBQAAAAAAAIgweAEA\n",
       "AAAAAAAiDF4AAAAAAACACIMXAAAAAAAAIMLgBQAAAAAAAIgweAEAAAAAAAAiDF4AAAAAAACACIMX\n",
       "AAAAAAAAIMLgBQAAAAAAAIgweAEAAAAAAAAiDF4AAAAAAACACIMXAAAAAAAAIMLgBQAAAAAAAIgw\n",
       "eAEAAAAAAAAiDF4AAAAAAACACIMXAAAAAAAAIMLgBQAAAAAAAIgweAEAAAAAAAAiDF4AAAAAAACA\n",
       "CIMXAAAAAAAAIMLgBQAAAAAAAIgweAEAAAAAAAAiDF4AAAAAAACACIMXAAAAAAAAIMLgBQAAAAAA\n",
       "AIgweAEAAAAAAAAiDF4AAAAAAACACIMXAAAAAAAAIMLgBQAAAAAAAIgweAEAAAAAAAAiDF4AAAAA\n",
       "AACACIMXAAAAAAAAIMLgBQAAAAAAAIgweAEAAAAAAAAiDF4AAAAAAACACIMXAAAAAAAAIMLgBQAA\n",
       "AAAAAIgweAEAAAAAAAAiDF4AAAAAAACACIMXAAAAAAAAIMLgBQAAAAAAAIgweAEAAAAAAAAiDF4A\n",
       "AAAAAACACIMXAAAAAAAAIMLgBQAAAAAAAIgweAEAAAAAAAAiDF4AAAAAAACACIMXAAAAAAAAIMLg\n",
       "BQAAAAAAAIgweAEAAAAAAAAiDF4AAAAAAACACIMXAAAAAAAAIMLgBQAAAAAAAIgweAEAAAAAAAAi\n",
       "DF4AAAAAAACACIMXAAAAAAAAIMLgBQAAAAAAAIgweAEAAAAAAAAiDF4AAAAAAACACIMXAAAAAAAA\n",
       "IMLgBQAAAAAAAIgweAEAAAAAAAAiDF4AAAAAAACACIMXAAAAAAAAIMLgBQAAAAAAAIgweAEAAAAA\n",
       "AAAiDF4AAAAAAACACIMXAAAAAAAAIMLgBQAAAAAAAIgweAEAAAAAAAAiDF4AAAAAAACACIMXAAAA\n",
       "AAAAIMLgBQAAAAAAAIgweAEAAAAAAAAiDF4AAAAAAACACIMXAAAAAAAAIMLgBQAAAAAAAIgweAEA\n",
       "AAAAAAAiDF4AAAAAAACACIMXAAAAAAAAIMLgBQAAAAAAAIgweAEAAAAAAAAiDF4AAAAAAACACIMX\n",
       "AAAAAAAAIMLgBQAAAAAAAIgweAEAAAAAAAAiDF4AAAAAAACACIMXAAAAAAAAIMLgBQAAAAAAAIgw\n",
       "eAEAAAAAAAAiDF4AAAAAAACACIMXAAAAAAAAIMLgBQAAAAAAAIgweAEAAAAAAAAiDF4AAAAAAACA\n",
       "CIMXAAAAAAAAIMLgBQAAAAAAAIgweAEAAAAAAAAiDF4AAAAAAACACIMXAAAAAAAAIMLgBQAAAAAA\n",
       "AIgweAEAAAAAAAAiDF4AAAAAAACACIMXAAAAAAAAIMLgBQAAAAAAAIgweAEAAAAAAAAiDF4AAAAA\n",
       "AACACIMXAAAAAAAAIMLgBQAAAAAAAIgweAEAAAAAAAAiDF4AAAAAAACACIMXAAAAAAAAIMLgBQAA\n",
       "AAAAAIgweAEAAAAAAAAiDF4AAAAAAACACIMXAAAAAAAAIMLgBQAAAAAAAIgweAEAAAAAAAAiDF4A\n",
       "AAAAAACACIMXAAAAAAAAIMLgBQAAAAAAAIgweAEAAAAAAAAiDF4AAAAAAACACIMXAAAAAAAAIMLg\n",
       "BQAAAAAAAIgweAEAAAAAAAAiDF4AAAAAAACACIMXAAAAAAAAIMLgBQAAAAAAAIgweAEAAAAAAAAi\n",
       "DF4AAAAAAACACIMXAAAAAAAAIMLgBQAAAAAAAIgweAEAAAAAAAAiDF4AAAAAAACACIMXAAAAAAAA\n",
       "IMLgBQAAAAAAAIgweAEAAAAAAAAiDF4AAAAAAACACIMXAAAAAAAAIMLgBQAAAAAAAIgweAEAAAAA\n",
       "AAAiDF4AAAAAAACACIMXAAAAAAAAIMLgBQAAAAAAAIgweAEAAAAAAAAiDF4AAAAAAACACIMXAAAA\n",
       "AAAAIMLgBQAAAAAAAIgweAEAAAAAAAAiDF4AAAAAAACACIMXAAAAAAAAIMLgBQAAAAAAAIgweAEA\n",
       "AAAAAAAiDF4AAAAAAACACIMXAAAAAAAAIMLgBQAAAAAAAIgweAEAAAAAAAAiDF4AAAAAAACACIMX\n",
       "AAAAAAAAIMLgBQAAAAAAAIgweAEAAAAAAAAiDF4AAAAAAACACIMXAAAAAAAAIMLgBQAAAAAAAIgw\n",
       "eAEAAAAAAAAiDF4AAAAAAACACIMXAAAAAAAAIMLgBQAAAAAAAIgweAEAAAAAAAAiDF4AAAAAAACA\n",
       "CIMXAAAAAAAAIMLgBQAAAAAAAIgweAEAAAAAAAAiDF4AAAAAAACACIMXAAAAAAAAIMLgBQAAAAAA\n",
       "AIgweAEAAAAAAAAiDF4AAAAAAACACIMXAAAAAAAAIMLgBQAAAAAAAIgweAEAAAAAAAAiDF4AAAAA\n",
       "AACACIMXAAAAAAAAIMLgBQAAAAAAAIgweAEAAAAAAAAiDF4AAAAAAACACIMXAAAAAAAAIMLgBQAA\n",
       "AAAAAIgweAEAAAAAAAAiDF4AAAAAAACACIMXAAAAAAAAIMLgBQAAAAAAAIgweAEAAAAAAAAiDF4A\n",
       "AAAAAACACIMXAAAAAAAAIMLgBQAAAAAAAIgweAEAAAAAAAAiDF4AAAAAAACACIMXAAAAAAAAIMLg\n",
       "BQAAAAAAAIgweAEAAAAAAAAiDF4AAAAAAACACIMXAAAAAAAAIMLgBQAAAAAAAIgweAEAAAAAAAAi\n",
       "DF4AAAAAAACACIMXAAAAAAAAIMLgBQAAAAAAAIgweAEAAAAAAAAiDF4AAAAAAACACIMXAAAAAAAA\n",
       "IMLgBQAAAAAAAIgweAEAAAAAAAAiDF4AAAAAAACACIMXAAAAAAAAIMLgBQAAAAAAAIgweAEAAAAA\n",
       "AAAiDF4AAAAAAACACIMXAAAAAAAAIMLgBQAAAAAAAIgweAEAAAAAAAAiDF4AAAAAAACACIMXAAAA\n",
       "AAAAIMLgBQAAAAAAAIgweAEAAAAAAAAiDF4AAAAAAACACIMXAAAAAAAAIMLgBQAAAAAAAIgweAEA\n",
       "AAAAAAAiDF4AAAAAAACACIMXAAAAAAAAIMLgBQAAAAAAAIgweAEAAAAAAAAiDF4AAAAAAACACIMX\n",
       "AAAAAAAAIMLgBQAAAAAAAIgweAEAAAAAAAAiDF4AAAAAAACACIMXAAAAAAAAIMLgBQAAAAAAAIgw\n",
       "eAEAAAAAAAAiDF4AAAAAAACACIMXAAAAAAAAIMLgBQAAAAAAAIgweAEAAAAAAAAiDF4AAAAAAACA\n",
       "CIMXAAAAAAAAIMLgBQAAAAAAAIgweAEAAAAAAAAiDF4AAAAAAACACIMXAAAAAAAAIMLgBQAAAAAA\n",
       "AIgweAEAAAAAAAAiDF4AAAAAAACACIMXAAAAAAAAIMLgBQAAAAAAAIgweAEAAAAAAAAiDF4AAAAA\n",
       "AACACIMXAAAAAAAAIMLgBQAAAAAAAIgweAEAAAAAAAAiDF4AAAAAAACACIMXAAAAAAAAIMLgBQAA\n",
       "AAAAAIgweAEAAAAAAAAiDF4AAAAAAACACIMXAAAAAAAAIMLgBQAAAAAAAIgweAEAAAAAAAAiDF4A\n",
       "AAAAAACACIMXAAAAAAAAIMLgBQAAAAAAAIgweAEAAAAAAAAiDF4AAAAAAACACIMXAAAAAAAAIMLg\n",
       "BQAAAAAAAIgweAEAAAAAAAAiDF4AAAAAAACACIMXAAAAAAAAIMLgBQAAAAAAAIgweAEAAAAAAAAi\n",
       "DF4AAAAAAACACIMXAAAAAAAAIMLgBQAAAAAAAIgweAEAAAAAAAAiDF4AAAAAAACACIMXAAAAAAAA\n",
       "IMLgBQAAAAAAAIgweAEAAAAAAAAiDF4AAAAAAACACIMXAAAAAAAAIMLgBQAAAAAAAIgweAEAAAAA\n",
       "AAAiDF4AAAAAAACACIMXAAAAAAAAIMLgBQAAAAAAAIgweAEAAAAAAAAiDF4AAAAAAACACIMXAAAA\n",
       "AAAAIMLgBQAAAAAAAIgweAEAAAAAAAAiDF4AAAAAAACACIMXAAAAAAAAIMLgBQAAAAAAAIgweAEA\n",
       "AAAAAAAiDF4AAAAAAACACIMXAAAAAAAAIMLgBQAAAAAAAIgweAEAAAAAAAAiDF4AAAAAAACACIMX\n",
       "AAAAAAAAIMLgBQAAAAAAAIgweAEAAAAAAAAiDF4AAAAAAACACIMXAAAAAAAAIMLgBQAAAAAAAIgw\n",
       "eAEAAAAAAAAiDF4AAAAAAACACIMXAAAAAAAAIMLgBQAAAAAAAIgweAEAAAAAAAAiDF4AAAAAAACA\n",
       "CIMXAAAAAAAAIMLgBQAAAAAAAIgweAEAAAAAAAAiDF4AAAAAAACACIMXAAAAAAAAIMLgBQAAAAAA\n",
       "AIgweAEAAAAAAAAiDF4AAAAAAACACIMXAAAAAAAAIMLgBQAAAAAAAIgweAEAAAAAAAAiDF4AAAAA\n",
       "AACACIMXAAAAAAAAIMLgBQAAAAAAAIgweAEAAAAAAAAiDF4AAAAAAACACIMXAAAAAAAAIMLgBQAA\n",
       "AAAAAIgweAEAAAAAAAAiDF4AAAAAAACACIMXAAAAAAAAIMLgBQAAAAAAAIgweAEAAAAAAAAiDF4A\n",
       "AAAAAACACIMXAAAAAAAAIMLgBQAAAAAAAIgweAEAAAAAAAAiDF4AAAAAAACACIMXAAAAAAAAIMLg\n",
       "BQAAAAAAAIgweAEAAAAAAAAiDF4AAAAAAACACIMXAAAAAAAAIMLgBQAAAAAAAIgweAEAAAAAAAAi\n",
       "DF4AAAAAAACACIMXAAAAAAAAIMLgBQAAAAAAAIgweAEAAAAAAAAiDF4AAAAAAACACIMXAAAAAAAA\n",
       "IMLgBQAAAAAAAIgweAEAAAAAAAAiDF4AAAAAAACACIMXAAAAAAAAIMLgBQAAAAAAAIgweAEAAAAA\n",
       "AAAiDF4AAAAAAACACIMXAAAAAAAAIMLgBQAAAAAAAIgweAEAAAAAAAAiDF4AAAAAAACACIMXAAAA\n",
       "AAAAIMLgBQAAAAAAAIgweAEAAAAAAAAiDF4AAAAAAACACIMXAAAAAAAAIMLgBQAAAAAAAIgweAEA\n",
       "AAAAAAAiDF4AAAAAAACACIMXAAAAAAAAIMLgBQAAAAAAAIgweAEAAAAAAAAiDF4AAAAAAACACIMX\n",
       "AAAAAAAAIMLgBQAAAAAAAIgweAEAAAAAAAAiDF4AAAAAAACACIMXAAAAAAAAIMLgBQAAAAAAAIgw\n",
       "eAEAAAAAAAAiDF4AAAAAAACACIMXAAAAAAAAIMLgBQAAAAAAAIgweAEAAAAAAAAiDF4AAAAAAACA\n",
       "CIMXAAAAAAAAIMLgBQAAAAAAAIgweAEAAAAAAAAiDF4AAAAAAACACIMXAAAAAAAAIMLgBQAAAAAA\n",
       "AIgweAEAAAAAAAAiDF4AAAAAAACACIMXAAAAAAAAIMLgBQAAAAAAAIgweAEAAAAAAAAiDF4AAAAA\n",
       "AACACIMXAAAAAAAAIMLgBQAAAAAAAIgweAEAAAAAAAAiDF4AAAAAAACACIMXAAAAAAAAIMLgBQAA\n",
       "AAAAAIgweAEAAAAAAAAiDF4AAAAAAACACIMXAAAAAAAAIMLgBQAAAAAAAIgweAEAAAAAAAAiDF4A\n",
       "AAAAAACACIMXAAAAAAAAIMLgBQAAAAAAAIgweAEAAAAAAAAiDF4AAAAAAACACIMXAAAAAAAAIMLg\n",
       "BQAAAAAAAIgweAEAAAAAAAAiDF4AAAAAAACACIMXAAAAAAAAIMLgBQAAAAAAAIgweAEAAAAAAAAi\n",
       "DF4AAAAAAACACIMXAAAAAAAAIMLgBQAAAAAAAIgweAEAAAAAAAAiDF4AAAAAAACACIMXAAAAAAAA\n",
       "IMLgBQAAAAAAAIgweAEAAAAAAAAiDF4AAAAAAACACIMXAAAAAAAAIMLgBQAAAAAAAIgweAEAAAAA\n",
       "AAAiDF4AAAAAAACACIMXAAAAAAAAIMLgBQAAAAAAAIgweAEAAAAAAAAiDF4AAAAAAACACIMXAAAA\n",
       "AAAAIMLgBQAAAAAAAIgweAEAAAAAAAAiDF4AAAAAAACACIMXAAAAAAAAIMLgBQAAAAAAAIgweAEA\n",
       "AAAAAAAiDF4AAAAAAACACIMXAAAAAAAAIMLgBQAAAAAAAIgweAEAAAAAAAAiDF4AAAAAAACACIMX\n",
       "AAAAAAAAIMLgBQAAAAAAAIgweAEAAAAAAAAiDF4AAAAAAIDNnh2QAAAAAAj6/7odgd4QYELwAgAA\n",
       "AAAAAEwIXgAAAAAAAIAJwQsAAAAAAAAwIXgBAAAAAAAAJgQvAAAAAAAAwITgBQAAAAAAAJgQvAAA\n",
       "AAAAAAATghcAAAAAAABgQvACAAAAAAAATAheAAAAAAAAgAnBCwAAAAAAADAheAEAAAAAAAAmBC8A\n",
       "AAAAAADAhOAFAAAAAAAAmBC8AAAAAAAAABOCFwAAAAAAAGBC8AIAAAAAAABMCF4AAAAAAACACcEL\n",
       "AAAAAAAAMCF4AQAAAAAAACYELwAAAAAAAMCE4AUAAAAAAACYELwAAAAAAAAAE4IXAAAAAAAAYELw\n",
       "AgAAAAAAAEwIXgAAAAAAAIAJwQsAAAAAAAAwIXgBAAAAAAAAJgQvAAAAAAAAwITgBQAAAAAAAJgQ\n",
       "vAAAAAAAAAATghcAAAAAAABgQvACAAAAAAAATAheAAAAAAAAgAnBCwAAAAAAADAheAEAAAAAAAAm\n",
       "BC8AAAAAAADAhOAFAAAAAAAAmBC8AAAAAAAAABOCFwAAAAAAAGBC8AIAAAAAAABMCF4AAAAAAACA\n",
       "CcELAAAAAAAAMCF4AQAAAAAAACYELwAAAAAAAMCE4AUAAAAAAACYELwAAAAAAAAAE4IXAAAAAAAA\n",
       "YELwAgAAAAAAAEwIXgAAAAAAAIAJwQsAAAAAAAAwIXgBAAAAAAAAJgQvAAAAAAAAwITgBQAAAAAA\n",
       "AJgQvAAAAAAAAAATghcAAAAAAABgQvACAAAAAAAATAheAAAAAAAAgAnBCwAAAAAAADAheAEAAAAA\n",
       "AAAmBC8AAAAAAADAhOAFAAAAAAAAmBC8AAAAAAAAABOCFwAAAAAAAGBC8AIAAAAAAABMCF4AAAAA\n",
       "AACACcELAAAAAAAAMCF4AQAAAAAAACYELwAAAAAAAMCE4AUAAAAAAACYELwAAAAAAAAAE4IXAAAA\n",
       "AAAAYELwAgAAAAAAAEwIXgAAAAAAAIAJwQsAAAAAAAAwIXgBAAAAAAAAJgQvAAAAAAAAwITgBQAA\n",
       "AAAAAJgQvAAAAAAAAAATghcAAAAAAABgQvACAAAAAAAATAheAAAAAAAAgAnBCwAAAAAAADAheAEA\n",
       "AAAAAAAmBC8AAAAAAADAhOAFAAAAAAAAmBC8AAAAAAAAABOCFwAAAAAAAGBC8AIAAAAAAABMCF4A\n",
       "AAAAAACACcELAAAAAAAAMCF4AQAAAAAAACYELwAAAAAAAMCE4AUAAAAAAACYELwAAAAAAAAAE4IX\n",
       "AAAAAAAAYELwAgAAAAAAAEwIXgAAAAAAAIAJwQsAAAAAAAAwIXgBAAAAAAAAJgQvAAAAAAAAwITg\n",
       "BQAAAAAAAJgQvAAAAAAAAAATghcAAAAAAABgQvACAAAAAAAATAheAAAAAAAAgAnBCwAAAAAAADAh\n",
       "eAEAAAAAAAAmBC8AAAAAAADAhOAFAAAAAAAAmBC8AAAAAAAAABOCFwAAAAAAAGBC8AIAAAAAAABM\n",
       "CF4AAAAAAACACcELAAAAAAAAMCF4AQAAAAAAACYELwAAAAAAAMCE4AUAAAAAAACYELwAAAAAAAAA\n",
       "E4IXAAAAAAAAYELwAgAAAAAAAEwIXgAAAAAAAIAJwQsAAAAAAAAwIXgBAAAAAAAAJgQvAAAAAAAA\n",
       "wITgBQAAAAAAAJgQvAAAAAAAAAATghcAAAAAAABgQvACAAAAAAAATAheAAAAAAAAgAnBCwAAAAAA\n",
       "ADAheAEAAAAAAAAmBC8AAAAAAADAhOAFAAAAAAAAmBC8AAAAAAAAABOCFwAAAAAAAGBC8AIAAAAA\n",
       "AABMCF4AAAAAAACACcELAAAAAAAAMCF4AQAAAAAAACYELwAAAAAAAMCE4AUAAAAAAACYELwAAAAA\n",
       "AAAAE4IXAAAAAAAAYELwAgAAAAAAAEwIXgAAAAAAAIAJwQsAAAAAAAAwIXgBAAAAAAAAJgQvAAAA\n",
       "AAAAwITgBQAAAAAAAJgQvAAAAAAAAAATghcAAAAAAABgQvACAAAAAAAATAheAAAAAAAAgAnBCwAA\n",
       "AAAAADAheAEAAAAAAAAmBC8AAAAAAADAhOAFAAAAAAAAmBC8AAAAAAAAABOCFwAAAAAAAGBC8AIA\n",
       "AAAAAABMCF4AAAAAAACACcELAAAAAAAAMCF4AQAAAAAAACYELwAAAAAAAMCE4AUAAAAAAACYELwA\n",
       "AAAAAAAAE4IXAAAAAAAAYELwAgAAAAAAAEwIXgAAAAAAAIAJwQsAAAAAAAAwIXgBAAAAAAAAJgQv\n",
       "AAAAAAAAwITgBQAAAAAAAJgQvAAAAAAAAAATghcAAAAAAABgQvACAAAAAAAATAheAAAAAAAAgAnB\n",
       "CwAAAAAAADAheAEAAAAAAAAmBC8AAAAAAADAhOAFAAAAAAAAmBC8AAAAAAAAABOCFwAAAAAAAGBC\n",
       "8AIAAAAAAABMCF4AAAAAAACACcELAAAAAAAAMCF4AQAAAAAAACYELwAAAAAAAMCE4AUAAAAAAACY\n",
       "ELwAAAAAAAAAE4IXAAAAAAAAYELwAgAAAAAAAEwIXgAAAAAAAIAJwQsAAAAAAAAwIXgBAAAAAAAA\n",
       "JgQvAAAAAAAAwITgBQAAAAAAAJgQvAAAAAAAAAATghcAAAAAAABgQvACAAAAAAAATAheAAAAAAAA\n",
       "gAnBCwAAAAAAADAheAEAAAAAAAAmBC8AAAAAAADAhOAFAAAAAAAAmBC8AAAAAAAAABOCFwAAAAAA\n",
       "AGBC8AIAAAAAAABMCF4AAAAAAACACcELAAAAAAAAMCF4AQAAAAAAACYELwAAAAAAAMCE4AUAAAAA\n",
       "AACYELwAAAAAAAAAE4IXAAAAAAAAYELwAgAAAAAAAEwIXgAAAAAAAIAJwQsAAAAAAAAwIXgBAAAA\n",
       "AAAAJgQvAAAAAAAAwITgBQAAAAAAAJgQvAAAAAAAAAATghcAAAAAAABgQvACAAAAAAAATAheAAAA\n",
       "AAAAgAnBCwAAAAAAADAheAEAAAAAAAAmBC8AAAAAAADAhOAFAAAAAAAAmBC8AAAAAAAAABOCFwAA\n",
       "AAAAAGBC8AIAAAAAAABMCF4AAAAAAACACcELAAAAAAAAMCF4AQAAAAAAACYELwAAAAAAAMCE4AUA\n",
       "AAAAAACYELwAAAAAAAAAE4IXAAAAAAAAYELwAgAAAAAAAEwIXgAAAAAAAIAJwQsAAAAAAAAwIXgB\n",
       "AAAAAAAAJgQvAAAAAAAAwITgBQAAAAAAAJgQvAAAAAAAAAATghcAAAAAAABgQvACAAAAAAAATAhe\n",
       "AAAAAAAAgAnBCwAAAAAAADAheAEAAAAAAAAmBC8AAAAAAADAhOAFAAAAAAAAmBC8AAAAAAAAABOC\n",
       "FwAAAAAAAGBC8AIAAAAAAABMCF4AAAAAAACACcELAAAAAAAAMCF4AQAAAAAAACYELwAAAAAAAMCE\n",
       "4AUAAAAAAACYELwAAAAAAAAAE4IXAAAAAAAAYELwAgAAAAAAAEwIXgAAAAAAAIAJwQsAAAAAAAAw\n",
       "IXgBAAAAAAAAJgQvAAAAAAAAwITgBQAAAAAAAJgQvAAAAAAAAAATghcAAAAAAABgQvACAAAAAAAA\n",
       "TAheAAAAAAAAgAnBCwAAAAAAADAheAEAAAAAAAAmBC8AAAAAAADAhOAFAAAAAAAAmBC8AAAAAAAA\n",
       "ABOCFwAAAAAAAGBC8AIAAAAAAABMCF4AAAAAAACACcELAAAAAAAAMCF4AQAAAAAAACYELwAAAAAA\n",
       "AMCE4AUAAAAAAACYELwAAAAAAAAAE4IXAAAAAAAAYELwAgAAAAAAAEwIXgAAAAAAAIAJwQsAAAAA\n",
       "AAAwIXgBAAAAAAAAJgQvAAAAAAAAwITgBUwykh0AABiBSURBVAAAAAAAAJgQvAAAAAAAAAATghcA\n",
       "AAAAAABgQvACAAAAAAAATAheAAAAAAAAgAnBCwAAAAAAADAheAEAAAAAAAAmBC8AAAAAAADAhOAF\n",
       "AAAAAAAAmBC8AAAAAAAAABOCFwAAAAAAAGBC8AIAAAAAAABMCF4AAAAAAACACcELAAAAAAAAMCF4\n",
       "AQAAAAAAACYELwAAAAAAAMCE4AUAAAAAAACYELwAAAAAAAAAE4IXAAAAAAAAYELwAgAAAAAAAEwI\n",
       "XgAAAAAAAIAJwQsAAAAAAAAwIXgBAAAAAAAAJgQvAAAAAAAAwITgBQAAAAAAAJgQvAAAAAAAAAAT\n",
       "ghcAAAAAAABgQvACAAAAAAAATAheAAAAAAAAgAnBCwAAAAAAADAheAEAAAAAAAAmBC8AAAAAAADA\n",
       "hOAFAAAAAAAAmBC8AAAAAAAAABOCFwAAAAAAAGBC8AIAAAAAAABMCF4AAAAAAACACcELAAAAAAAA\n",
       "MCF4AQAAAAAAACYELwAAAAAAAMCE4AUAAAAAAACYELwAAAAAAAAAE4IXAAAAAAAAYELwAgAAAAAA\n",
       "AEwIXgAAAAAAAIAJwQsAAAAAAAAwIXgBAAAAAAAAJgQvAAAAAAAAwITgBQAAAAAAAJgQvAAAAAAA\n",
       "AAATghcAAAAAAABgQvACAAAAAAAATAheAAAAAAAAgAnBCwAAAAAAADAheAEAAAAAAAAmBC8AAAAA\n",
       "AADAhOAFAAAAAAAAmBC8AAAAAAAAABOCFwAAAAAAAGBC8AIAAAAAAABMCF4AAAAAAACACcELAAAA\n",
       "AAAAMCF4AQAAAAAAACYELwAAAAAAAMCE4AUAAAAAAACYELwAAAAAAAAAE4IXAAAAAAAAYELwAgAA\n",
       "AAAAAEwIXgAAAAAAAIAJwQsAAAAAAAAwIXgBAAAAAAAAJgQvAAAAAAAAwITgBQAAAAAAAJgQvAAA\n",
       "AAAAAAATghcAAAAAAABgQvACAAAAAAAATAheAAAAAAAAgAnBCwAAAAAAADAheAEAAAAAAAAmBC8A\n",
       "AAAAAADAhOAFAAAAAAAAmBC8AAAAAAAAABOCFwAAAAAAAGBC8AIAAAAAAABMCF4AAAAAAACACcEL\n",
       "AAAAAAAAMCF4AQAAAAAAACYELwAAAAAAAMCE4AUAAAAAAACYELwAAAAAAAAAE4IXAAAAAAAAYELw\n",
       "AgAAAAAAAEwIXgAAAAAAAIAJwQsAAAAAAAAwIXgBAAAAAAAAJgQvAAAAAAAAwITgBQAAAAAAAJgQ\n",
       "vAAAAAAAAAATghcAAAAAAABgQvACAAAAAAAATAheAAAAAAAAgAnBCwAAAAAAADAheAEAAAAAAAAm\n",
       "BC8AAAAAAADAhOAFAAAAAAAAmBC8AAAAAAAAABOCFwAAAAAAAGBC8AIAAAAAAABMCF4AAAAAAACA\n",
       "CcELAAAAAAAAMCF4AQAAAAAAACYELwAAAAAAAMCE4AUAAAAAAACYELwAAAAAAAAAE4IXAAAAAAAA\n",
       "YELwAgAAAAAAAEwIXgAAAAAAAIAJwQsAAAAAAAAwIXgBAAAAAAAAJgQvAAAAAAAAwITgBQAAAAAA\n",
       "AJgQvAAAAAAAAAATghcAAAAAAABgQvACAAAAAAAATAheAAAAAAAAgAnBCwAAAAAAADAheAEAAAAA\n",
       "AAAmBC8AAAAAAADAhOAFAAAAAAAAmBC8AAAAAAAAABOCFwAAAAAAAGBC8AIAAAAAAABMCF4AAAAA\n",
       "AACACcELAAAAAAAAMCF4AQAAAAAAACYELwAAAAAAAMCE4AUAAAAAAACYELwAAAAAAAAAE4IXAAAA\n",
       "AAAAYELwAgAAAAAAAEwIXgAAAAAAAIAJwQsAAAAAAAAwIXgBAAAAAAAAJgQvAAAAAAAAwITgBQAA\n",
       "AAAAAJgQvAAAAAAAAAATghcAAAAAAABgQvACAAAAAAAATAheAAAAAAAAgAnBCwAAAAAAADAheAEA\n",
       "AAAAAAAmBC8AAAAAAADAhOAFAAAAAAAAmBC8AAAAAAAAABOCFwAAAAAAAGBC8AIAAAAAAABMCF4A\n",
       "AAAAAACACcELAAAAAAAAMCF4AQAAAAAAACYELwAAAAAAAMCE4AUAAAAAAACYELwAAAAAAAAAE4IX\n",
       "AAAAAAAAYELwAgAAAAAAAEwIXgAAAAAAAIAJwQsAAAAAAAAwIXgBAAAAAAAAJgQvAAAAAAAAwITg\n",
       "BQAAAAAAAJgQvAAAAAAAAAATghcAAAAAAABgQvACAAAAAAAATAheAAAAAAAAgAnBCwAAAAAAADAh\n",
       "eAEAAAAAAAAmBC8AAAAAAADAhOAFAAAAAAAAmBC8AAAAAAAAABOCFwAAAAAAAGBC8AIAAAAAAABM\n",
       "CF4AAAAAAACACcELAAAAAAAAMCF4AQAAAAAAACYELwAAAAAAAMCE4AUAAAAAAACYELwAAAAAAAAA\n",
       "E4IXAAAAAAAAYELwAgAAAAAAAEwIXgAAAAAAAIAJwQsAAAAAAAAwIXgBAAAAAAAAJgQvAAAAAAAA\n",
       "wITgBQAAAAAAAJgQvAAAAAAAAAATghcAAAAAAABgQvACAAAAAAAATAheAAAAAAAAgAnBCwAAAAAA\n",
       "ADAheAEAAAAAAAAmBC8AAAAAAADAhOAFAAAAAAAAmBC8AAAAAAAAABOCFwAAAAAAAGBC8AIAAAAA\n",
       "AABMCF4AAAAAAACACcELAAAAAAAAMCF4AQAAAAAAACYELwAAAAAAAMCE4AUAAAAAAACYELwAAAAA\n",
       "AAAAE4IXAAAAAAAAYELwAgAAAAAAAEwIXgAAAAAAAIAJwQsAAAAAAAAwIXgBAAAAAAAAJgQvAAAA\n",
       "AAAAwITgBQAAAAAAAJgQvAAAAAAAAAATghcAAAAAAABgQvACAAAAAAAATAheAAAAAAAAgAnBCwAA\n",
       "AAAAADAheAEAAAAAAAAmBC8AAAAAAADAhOAFAAAAAAAAmBC8AAAAAAAAABOCFwAAAAAAAGBC8AIA\n",
       "AAAAAABMCF4AAAAAAACACcELAAAAAAAAMCF4AQAAAAAAACYELwAAAAAAAMCE4AUAAAAAAACYELwA\n",
       "AAAAAAAAE4IXAAAAAAAAYELwAgAAAAAAAEwIXgAAAAAAAIAJwQsAAAAAAAAwIXgBAAAAAAAAJgQv\n",
       "AAAAAAAAwITgBQAAAAAAAJgQvAAAAAAAAAATghcAAAAAAABgQvACAAAAAAAATAheAAAAAAAAgAnB\n",
       "CwAAAAAAADAheAEAAAAAAAAmBC8AAAAAAADAhOAFAAAAAAAAmBC8AAAAAAAAABOCFwAAAAAAAGBC\n",
       "8AIAAAAAAABMCF4AAAAAAACg9u1YV4oqAMDw3QiaIA0WtpLwDtYWho53gMTKivgeGita7XgAO2Jh\n",
       "YmfrC0BBS0UI8RKW+t6ZhHHmzL37k+/r9uTOmbOzO7O78+cSIfACAAAAAAAARAi8AAAAAAAAABEC\n",
       "LwAAAAAAAECEwAsAAAAAAAAQIfACAAAAAAAARAi8AAAAAAAAABECLwAAAAAAAECEwAsAAAAAAAAQ\n",
       "IfACAAAAAAAARAi8AAAAAAAAABECLwAAAAAAAECEwAsAAAAAAAAQIfACAAAAAAAARAi8AAAAAAAA\n",
       "ABECLwAAAAAAAECEwAsAAAAAAAAQIfACAAAAAAAARAi8AAAAAAAAABECLwAAAAAAAECEwAsAAAAA\n",
       "AAAQIfACAAAAAAAARAi8AAAAAAAAABECLwAAAAAAAECEwAsAAAAAAAAQIfACAAAAAAAARAi8AAAA\n",
       "AAAAABECLwAAAAAAAECEwAsAAAAAAAAQIfACAAAAAAAARAi8AAAAAAAAABECLwAAAAAAAECEwAsA\n",
       "AAAAAAAQIfACAAAAAAAARAi8AAAAAAAAABECLwAAAAAAAECEwAsAAAAAAAAQIfACAAAAAAAARAi8\n",
       "AAAAAAAAABECLwAAAAAAAECEwAsAAAAAAAAQIfACAAAAAAAARAi8AAAAAAAAABECLwAAAAAAAECE\n",
       "wAsAAAAAAAAQIfACAAAAAAAARAi8AAAAAAAAABECLwAAAAAAAECEwAsAAAAAAAAQIfACAAAAAAAA\n",
       "RAi8AAAAAAAAABECLwAAAAAAAECEwAsAAAAAAAAQIfACAAAAAAAARAi8AAAAAAAAABECLwAAAAAA\n",
       "AECEwAsAAAAAAAAQIfACAAAAAAAARAi8AAAAAAAAABECLwAAAAAAAECEwAsAAAAAAAAQIfACAAAA\n",
       "AAAARAi8AAAAAAAAABECLwAAAAAAAECEwAsAAAAAAAAQIfACAAAAAAAARAi8AAAAAAAAABECLwAA\n",
       "AAAAAECEwAsAAAAAAAAQIfACAAAAAAAARAi8AAAAAAAAABECLwAAAAAAAECEwAsAAAAAAAAQIfAC\n",
       "AAAAAAAARAi8AAAAAAAAABECLwAAAAAAAECEwAsAAAAAAAAQIfACAAAAAAAARAi8AAAAAAAAABEC\n",
       "LwAAAAAAAECEwAsAAAAAAAAQIfACAAAAAAAARAi8AAAAAAAAABECLwAAAAAAAECEwAsAAAAAAAAQ\n",
       "IfACAAAAAAAARAi8AAAAAAAAABECLwAAAAAAAECEwAsAAAAAAAAQIfACAAAAAAAARAi8AAAAAAAA\n",
       "ABECLwAAAAAAAECEwAsAAAAAAAAQIfACAAAAAAAARAi8AAAAAAAAABECLwAAAAAAAECEwAsAAAAA\n",
       "AAAQIfACAAAAAAAARAi8AAAAAAAAABECLwAAAAAAAECEwAsAAAAAAAAQIfACAAAAAAAARAi8AAAA\n",
       "AAAAABECLwAAAAAAAECEwAsAAAAAAAAQIfACAAAAAAAARAi8AAAAAAAAABECLwAAAAAAAECEwAsA\n",
       "AAAAAAAQIfACAAAAAAAARAi8AAAAAAAAABECLwAAAAAAAECEwAsAAAAAAAAQIfACAAAAAAAARAi8\n",
       "AAAAAAAAABECLwAAAAAAAECEwAsAAAAAAAAQIfACAAAAAAAARAi8AAAAAAAAABECLwAAAAAAAECE\n",
       "wAsAAAAAAAAQIfACAAAAAAAARAi8AAAAAAAAABECLwAAAAAAAECEwAsAAAAAAAAQIfACAAAAAAAA\n",
       "RAi8AAAAAAAAABECLwAAAAAAAECEwAsAAAAAAAAQIfACAAAAAAAARAi8AAAAAAAAABECLwAAAAAA\n",
       "AECEwAsAAAAAAAAQIfACAAAAAAAARAi8AAAAAAAAABECLwAAAAAAAECEwAsAAAAAAAAQIfACAAAA\n",
       "AAAARAi8AAAAAAAAABECLwAAAAAAAECEwAsAAAAAAAAQIfACAAAAAAAARAi8AAAAAAAAABECLwAA\n",
       "AAAAAECEwAsAAAAAAAAQIfACAAAAAAAARAi8AAAAAAAAABECLwAAAAAAAECEwAsAAAAAAAAQIfAC\n",
       "AAAAAAAARAi8AAAAAAAAABECLwAAAAAAAECEwAsAAAAAAAAQIfACAAAAAAAARAi8AAAAAAAAABEC\n",
       "LwAAAAAAAECEwAsAAAAAAAAQIfACAAAAAAAARAi8AAAAAAAAABECLwAAAAAAAECEwAsAAAAAAAAQ\n",
       "IfACAAAAAAAARAi8AAAAAAAAABECLwAAAAAAAECEwAsAAAAAAAAQIfACAAAAAAAARAi8AAAAAAAA\n",
       "ABECLwAAAAAAAECEwAsAAAAAAAAQIfACAAAAAAAARAi8AAAAAAAAABECLwAAAAAAAECEwAsAAAAA\n",
       "AAAQIfACAAAAAAAARAi8AAAAAAAAABECLwAAAAAAAECEwAsAAAAAAAAQIfACAAAAAAAARAi8AAAA\n",
       "AAAAABECLwAAAAAAAECEwAsAAAAAAAAQIfACAAAAAAAARAi8AAAAAAAAABECLwAAAAAAAECEwAsA\n",
       "AAAAAAAQIfACAAAAAAAARAi8AAAAAAAAABECLwAAAAAAAECEwAsAAAAAAAAQIfACAAAAAAAARAi8\n",
       "AAAAAAAAABECLwAAAAAAAECEwAsAAAAAAAAQIfACAAAAAAAARAi8AAAAAAAAABECLwAAAAAAAECE\n",
       "wAsAAAAAAAAQIfACAAAAAAAARAi8AAAAAAAAABECLwAAAAAAAECEwAsAAAAAAAAQIfACAAAAAAAA\n",
       "RAi8AAAAAAAAABECLwAAAAAAAECEwAsAAAAAAAAQIfACAAAAAAAARAi8AAAAAAAAABECLwAAAAAA\n",
       "AECEwAsAAAAAAAAQIfACAAAAAAAARAi8AAAAAAAAABECLwAAAAAAAECEwAsAAAAAAAAQIfACAAAA\n",
       "AAAARAi8AAAAAAAAABECLwAAAAAAAECEwAsAAAAAAAAQIfACAAAAAAAARAi8AAAAAAAAABECLwAA\n",
       "AAAAAECEwAsAAAAAAAAQIfACAAAAAAAARAi8AAAAAAAAABECLwAAAAAAAECEwAsAAAAAAAAQIfAC\n",
       "AAAAAAAARAi8AAAAAAAAABECLwAAAAAAAECEwAsAAAAAAAAQIfACAAAAAAAARAi8AAAAAAAAABEC\n",
       "LwAAAAAAAECEwAsAAAAAAAAQIfACAAAAAAAARAi8AAAAAAAAABECLwAAAAAAAECEwAsAAAAAAAAQ\n",
       "IfACAAAAAAAARAi8AAAAAAAAABECLwAAAAAAAECEwAsAAAAAAAAQIfACAAAAAAAARAi8AAAAAAAA\n",
       "ABECLwAAAAAAAECEwAsAAAAAAAAQIfACAAAAAAAARAi8AAAAAAAAABECLwAAAAAAAECEwAsAAAAA\n",
       "AAAQIfACAAAAAAAARAi8AAAAAAAAABECLwAAAAAAAECEwAsAAAAAAAAQIfACAAAAAAAARAi8AAAA\n",
       "AAAAABECLwAAAAAAAECEwAsAAAAAAAAQIfACAAAAAAAARAi8AAAAAAAAABECLwAAAAAAAECEwAsA\n",
       "AAAAAAAQIfACAAAAAAAARAi8AAAAAAAAABECLwAAAAAAAECEwAsAAAAAAAAQIfACAAAAAAAARAi8\n",
       "AAAAAAAAABECLwAAAAAAAECEwAsAAAAAAAAQIfACAAAAAAAARAi8AAAAAAAAABECLwAAAAAAAECE\n",
       "wAsAAAAAAAAQIfACAAAAAAAARAi8AAAAAAAAABECLwAAAAAAAECEwAsAAAAAAAAQIfACAAAAAAAA\n",
       "RAi8AAAAAAAAABECLwAAAAAAAECEwAsAAAAAAAAQIfACAAAAAAAARAi8AAAAAAAAABECLwAAAAAA\n",
       "AECEwAsAAAAAAAAQIfACAAAAAAAARAi8AAAAAAAAABECLwAAAAAAAECEwAsAAAAAAAAQIfACAAAA\n",
       "AAAARAi8AAAAAAAAABECLwAAAAAAAECEwAsAAAAAAAAQIfACAAAAAAAARAi8AAAAAAAAABECLwAA\n",
       "AAAAAECEwAsAAAAAAAAQIfACAAAAAAAARAi8AAAAAAAAABECLwAAAAAAAECEwAsAAAAAAAAQIfAC\n",
       "AAAAAAAARAi8AAAAAAAAABECLwAAAAAAAECEwAsAAAAAAAAQIfACAAAAAAAARAi8AAAAAAAAABEC\n",
       "LwAAAAAAAECEwAsAAAAAAAAQIfACAAAAAAAARAi8AAAAAAAAABECLwAAAAAAAECEwAsAAAAAAAAQ\n",
       "IfACAAAAAAAARAi8AAAAAAAAABECLwAAAAAAAECEwAsAAAAAAAAQIfACAAAAAAAARAi8AAAAAAAA\n",
       "ABECLwAAAAAAAECEwAsAAAAAAAAQIfACAAAAAAAARAi8AAAAAAAAABECLwAAAAAAAECEwAsAAAAA\n",
       "AAAQIfACAAAAAAAARAi8AAAAAAAAABECLwAAAAAAAECEwAsAAAAAAAAQIfACAAAAAAAARAi8AAAA\n",
       "AAAAABECLwAAAAAAAECEwAsAAAAAAAAQIfACAAAAAAAARAi8AAAAAAAAABECLwAAAAAAAECEwAsA\n",
       "AAAAAAAQIfACAAAAAAAARAi8AAAAAAAAABECLwAAAAAAAECEwAsAAAAAAAAQIfACAAAAAAAARAi8\n",
       "AAAAAAAAABECLwAAAAAAAECEwAsAAAAAAAAQIfACAAAAAAAARBzOzm4cLw++O/4++cMbh4eLJry8\n",
       "7dLtRlq7/rnt1prb38h1jXw9tsy/Zg1L17FlDSOf98jjs2Supe/Dkcdwy7FYYuTx2nN/oy1Z/6mc\n",
       "kyP3d6rzj3w/HQ43J2PH4/lH97nlnFyyrrntbh4eTcaOZ5OP/kX2vh4uMfK1nfXHT9OxB7+smmrL\n",
       "WiufDaM/S4e+lgv2t9Se5/L/mW+Npcf+m9vfT8ZevP5z1VxrbXn91743165j9Htgiav+3bB2DVvm\n",
       "OtVr5N6/Z0Y+77l9/vPd/cnYt389W7Wuufnf/Pfrhce3Pn+8eq6rvs5smfvt+ZMLj+/deTr5m5ev\n",
       "//7oGpba+3Pzqr/TXYdP8f7U3s/p8jrmflucH3+bjI1c12Fm7PxEP7Ou4z7KnvfSTtkpfH/e+97H\n",
       "WiO/V3z95c+TsVdv/l21hlO457plu6vuBlvW8P79u8nYF5/9cOHx3F2htfeUruP7yN7n6Snce5xz\n",
       "Hden0rVu5Dn/6se7Fx5/9eT56rn2/M3pP3gBAAAAAAAAIj4AFH9ZLg8nE+8AAAAASUVORK5CYII=\n",
       "\" transform=\"translate(201, 47)\"/>\n",
       "</g>\n",
       "<defs>\n",
       "  <clipPath id=\"clip613\">\n",
       "    <rect x=\"2160\" y=\"47\" width=\"73\" height=\"1440\"/>\n",
       "  </clipPath>\n",
       "</defs>\n",
       "<g clip-path=\"url(#clip613)\">\n",
       "<image width=\"72\" height=\"1439\" xlink:href=\"data:image/png;base64,\n",
       "iVBORw0KGgoAAAANSUhEUgAAAEgAAAWfCAYAAAAI7rB3AAAMWUlEQVR4nO3dwY0rRxAFwaZQ/lsh\n",
       "L6XfLQtUeSQPERYsEg8c9MyQ+/n3/v0O/+uvb/8Bv06gIFAQKAgU5r5/v/03/DQLCgIFgYJAQaAw\n",
       "7/359t/w0ywoCBQECgIFR41gQUGgIFAQKAgU5rmKrSwoCBQECgIFgcK86yq2saAgUBAoCBQcNYIF\n",
       "BYGCQEGgIFBwFQsWFAQKAgWBgvtBwYKCQEGgIFAQKMxx1FhZUBAoCBQECgIFN8yCBQWBgkBBoDDH\n",
       "DbOVBQWBgkBBoCBQmHP/+fbf8NMsKAgUBAoCBYGCxz7BgoJAQaAgUHDDLFhQECgIFAQKAgVXsWBB\n",
       "QaAgUBAouB8ULCgIFAQKAgWBwnwcNVYWFAQKAgWBgkBhzvWfWTYWFAQKAgWBgqNGsKAgUBAoCBQE\n",
       "Co4awYKCQEGgIFAQKHjDLFhQECgIFAQK83HUWFlQECgIFAQKAgXvSQcLCgIFgYJAwVEjWFAQKAgU\n",
       "BAoCBc/mgwUFgYJAQaAgUHAWCxYUBAoCBYGCo0awoCBQECgIFAQKjhrBgoJAQaAgUBAozLn323/D\n",
       "T7OgIFAQKAgUHDWCBQWBgkBBoCBQ8NgnWFAQKAgUBAo+pIMFBYGCQEGgIFCYj6caKwsKAgWBgkBB\n",
       "oOAsFiwoCBQECgIFL1AFCwoCBYGCQEGg4IZZsKAgUBAoCBTcDwoWFAQKAgWBgkDBDbNgQUGgIFAQ\n",
       "KAgUXMWCBQWBgkBBoOB788GCgkBBoCBQECg4agQLCgIFgYJAQaDgKhYsKAgUBAoCBR/SwYKCQEGg\n",
       "IFAQKLiKBQsKAgWBgkBhzvMhvbGgIFAQKAgUBAqOGsGCgkBBoCBQECi4igULCgIFgYJAwYd0sKAg\n",
       "UBAoCBQECnPu+/bf8NMsKAgUBAoCBYGCs1iwoCBQECgIFBw1ggUFgYJAQaAgUHDUCBYUBAoCBYGC\n",
       "o0awoCBQECgIFAQKc5w0VhYUBAoCBYGCQGHOcxbbWFAQKAgUBAqOGsGCgkBBoCBQECi4igULCgIF\n",
       "gYJAQaAwfohzZ0FBoCBQECg4agQLCgIFgYJAQaDgKhYsKAgUBAoChTn38+2/4adZUBAoCBQECgKF\n",
       "ec9VbGNBQaAgUBAoCBTcMAsWFAQKAgWBghtmwYKCQEGgIFAQKMy7Gm3UCQIFgYJAwVEjWFAQKAgU\n",
       "BAoChTmeza8sKAgUBAoCBYHCPGexlQUFgYJAQaAwx1ONlTpBoCBQECgIFBw1ggUFgYJAQaAgUPDY\n",
       "J1hQECgIFAQKXgMO6gSBgkBBoCBQ8J50sKAgUBAoCBQ81QgWFAQKAgWBgkBh3tNoo04QKAgUBAoC\n",
       "BTfMggUFgYJAQaDghlmwoCBQECgIFAQKc9wwW6kTBAoCBYGCQMFZLFhQECgIFAQKPqSDBQWBgkBB\n",
       "oCBQ8L35YEFBoCBQECj43nxQJwgUBAoCBYHCPEeNlQUFgYJAQaAgUPDYJ1hQECgIFAQK/jNLUCcI\n",
       "FAQKAgWBghtmwYKCQEGgIFAQKLhhFiwoCBQECgIFR41gQUGgIFAQKAgUvCcd1AkCBYGCQMFRI1hQ\n",
       "ECgIFAQKAgVPNYIFBYGCQEGgIFBwFgsWFAQKAgWBgn+fFSwoCBQECgIFgYJ/ZRzUCQIFgYJAQaDg\n",
       "hlmwoCBQECgIFDybDxYUBAoCBYGCQMFRI1hQECgIFAQKc31IrywoCBQECgIFgYLvzQd1gkBBoCBQ\n",
       "ECi4YRYsKAgUBAoCBR/SwYKCQEGgIFAQKHjDLFhQECgIFAQKjhrBgoJAQaAgUBAouIoFCwoCBYGC\n",
       "QEGg4NdfgjpBoCBQECjM9VRjZUFBoCBQECgIFNwwCxYUBAoCBYGCQMFVLFhQECgIFAQKPqSDBQWB\n",
       "gkBBoCBQ8BtmwYKCQEGgIFBw1AgWFAQKAgWBgkDBVSxYUBAoCBQECgIFX2YJ6gSBgkBBoODLLMGC\n",
       "gkBBoCBQECi4YRYsKAgUBAoCBYGCq1iwoCBQECgIFLwGHCwoCBQECgIFgYKjRrCgIFAQKAgU5h0f\n",
       "0hsLCgIFgYJAQaDghlmwoCBQECgIFAQKbpgFCwoCBYGCQMFRI1hQECgIFAQKAgVHjWBBQaAgUBAo\n",
       "CBScxYIFBYGCQEGg4KgRLCgIFAQKAgWBgqtYsKAgUBAoCBTm+jLLyoKCQEGgIFAQKDhqBAsKAgWB\n",
       "gkBBoODZfLCgIFAQKAgU5r1v/wm/zYKCQEGgIFAQKDhqBAsKAgWBgkDBD00GCwoCBYGCQEGg4KgR\n",
       "LCgIFAQKAgWBgjfMggUFgYJAQaDgyyzBgoJAQaAgUBAoeMMsWFAQKAgUBAoCBY99ggUFgYJAQaDg\n",
       "qUawoCBQECgIFAQKHvsECwoCBYGCQMH9oGBBQaAgUBAoCBQ8mw8WFAQKAgWBgkDBDbNgQUGgIFAQ\n",
       "KHg2HywoCBQECgIFgcLcb/8FP86CgkBBoCBQECg4iwULCgIFgYJAwRtmwYKCQEGgIFAQKLhhFiwo\n",
       "CBQECgIF94OCBQWBgkBBoCBQcNQIFhQECgIFgYJAwVksWFAQKAgUBAqezQcLCgIFgYJAQaAwfvxl\n",
       "Z0FBoCBQECgIFJzFggUFgYJAQaDg2XywoCBQECgIFAQKns0HCwoCBYGCQMFRI1hQECgIFAQKAgVH\n",
       "jWBBQaAgUBAoCBTmesVsZUFBoCBQECi4YRYsKAgUBAoCBYGCG2bBgoJAQaAgUHDUCBYUBAoCBYGC\n",
       "QGGepxorCwoCBYGCQEGgMPe4YbaxoCBQECgIFLxAFSwoCBQECgIFgYIfmgwWFAQKAgWBgkDBD00G\n",
       "CwoCBYGCQMGz+WBBQaAgUBAoCBS8Jx0sKAgUBAoCBd84DBYUBAoCBYGCQMFRI1hQECgIFAQKAgXv\n",
       "SQcLCgIFgYJAwWvAwYKCQEGgIFAQKDhqBAsKAgWBgkBBoOA96WBBQaAgUBAo+ImuYEFBoCBQECgI\n",
       "FNwwCxYUBAoCBYGCZ/PBgoJAQaAgUBAoOGoECwoCBYGCQEGg4CwWLCgIFAQKAgVHjWBBQaAgUBAo\n",
       "CBRcxYIFBYGCQEGgIFBwwyxYUBAoCBQECo4awYKCQEGgIFAQKDhqBAsKAgWBgkDBUSNYUBAoCBQE\n",
       "CgIFP9EVLCgIFAQKAgWBgv8vFiwoCBQECgIFN8yCBQWBgkBBoCBQmHdcxjYWFAQKAgWBgkDBWSxY\n",
       "UBAoCBQECp7NBwsKAgWBgkBBoODZfLCgIFAQKAgU3A8KFhQECgIFgYJAwbP5YEFBoCBQECgIFJzF\n",
       "ggUFgYJAQaDgJ7qCBQWBgkBBoCBQmOsVs5UFBYGCQEGg4AWqYEFBoCBQECgIFOY5aqwsKAgUBAoC\n",
       "BYGCs1iwoCBQECgIFDzVCBYUBAoCBYGCQMEbZsGCgkBBoCBQECjM9ZXMlQUFgYJAQaDghlmwoCBQ\n",
       "ECgIFAQKfv0lWFAQKAgUBApeoAoWFAQKAgWBgkDBU41gQUGgIFAQKAgU3DALFhQECgIFgcLc45bZ\n",
       "xoKCQEGgIFAQKLhhFiwoCBQECgIFgYKrWLCgIFAQKAgUPNUIFhQECgIFgYJAwWOfYEFBoCBQECjM\n",
       "/ThqbCwoCBQECgIFgYKjRrCgIFAQKAgUBArzXMVWFhQECgIFgYKjRrCgIFAQKAgUBApzP65iGwsK\n",
       "AgWBgkBBoOAsFiwoCBQECgIFTzWCBQWBgkBBoCBQcNQIFhQECgIFgYIP6WBBQaAgUBAoCBQ8mw8W\n",
       "FAQKAgWBgkBh3vnz7b/hp1lQECgIFAQKbpgFCwoCBYGCQEGg4A2zYEFBoCBQECjMfe4HbSwoCBQE\n",
       "CgIFgYKjRrCgIFAQKAgUBApzPZtfWVAQKAgUBAqOGsGCgkBBoCBQECg4agQLCgIFgYJAQaAw7zmL\n",
       "bSwoCBQECgIFN8yCBQWBgkBBoCBQ8J50sKAgUBAoCBQcNYIFBYGCQEGgIFCY56ixsqAgUBAoCBQE\n",
       "Cs5iwYKCQEGgIFCY6wWqlQUFgYJAQaAgUPCb9sGCgkBBoCBQECj4MkuwoCBQECgIFDzVCBYUBAoC\n",
       "BYGCQMFRI1hQECgIFAQKPqSDBQWBgkBBoCBQ8Gw+WFAQKAgUBAoCBWexYEFBoCBQECjM8Wx+ZUFB\n",
       "oCBQECgIFBw1ggUFgYJAQaAgUPCedLCgIFAQKAgU5jhqrCwoCBQECgIFgYI3zIIFBYGCQEGg4Nl8\n",
       "sKAgUBAoCBQECm6YBQsKAgWBgkBBoDDvvG//DT/NgoJAQaAgUHDDLFhQECgIFAQKAoU5jhorCwoC\n",
       "BYGCQOE/LrLuTX/wFc8AAAAASUVORK5CYII=\n",
       "\" transform=\"translate(2161, 47)\"/>\n",
       "</g>\n",
       "<path clip-path=\"url(#clip610)\" d=\"M2268.76 1439.27 L2298.43 1439.27 L2298.43 1443.2 L2268.76 1443.2 L2268.76 1439.27 Z\" fill=\"#000000\" fill-rule=\"nonzero\" fill-opacity=\"1\" /><path clip-path=\"url(#clip610)\" d=\"M2309.33 1452.16 L2316.97 1452.16 L2316.97 1425.79 L2308.66 1427.46 L2308.66 1423.2 L2316.93 1421.53 L2321.6 1421.53 L2321.6 1452.16 L2329.24 1452.16 L2329.24 1456.09 L2309.33 1456.09 L2309.33 1452.16 Z\" fill=\"#000000\" fill-rule=\"nonzero\" fill-opacity=\"1\" /><path clip-path=\"url(#clip610)\" d=\"M2338.73 1421.53 L2357.09 1421.53 L2357.09 1425.47 L2343.01 1425.47 L2343.01 1433.94 Q2344.03 1433.59 2345.05 1433.43 Q2346.07 1433.25 2347.09 1433.25 Q2352.88 1433.25 2356.26 1436.42 Q2359.64 1439.59 2359.64 1445.01 Q2359.64 1450.59 2356.16 1453.69 Q2352.69 1456.77 2346.37 1456.77 Q2344.2 1456.77 2341.93 1456.4 Q2339.68 1456.02 2337.27 1455.28 L2337.27 1450.59 Q2339.36 1451.72 2341.58 1452.27 Q2343.8 1452.83 2346.28 1452.83 Q2350.28 1452.83 2352.62 1450.72 Q2354.96 1448.62 2354.96 1445.01 Q2354.96 1441.4 2352.62 1439.29 Q2350.28 1437.18 2346.28 1437.18 Q2344.4 1437.18 2342.53 1437.6 Q2340.68 1438.02 2338.73 1438.9 L2338.73 1421.53 Z\" fill=\"#000000\" fill-rule=\"nonzero\" fill-opacity=\"1\" /><path clip-path=\"url(#clip610)\" d=\"M2378.85 1424.61 Q2375.24 1424.61 2373.41 1428.18 Q2371.6 1431.72 2371.6 1438.85 Q2371.6 1445.96 2373.41 1449.52 Q2375.24 1453.06 2378.85 1453.06 Q2382.48 1453.06 2384.29 1449.52 Q2386.12 1445.96 2386.12 1438.85 Q2386.12 1431.72 2384.29 1428.18 Q2382.48 1424.61 2378.85 1424.61 M2378.85 1420.91 Q2384.66 1420.91 2387.71 1425.52 Q2390.79 1430.1 2390.79 1438.85 Q2390.79 1447.58 2387.71 1452.18 Q2384.66 1456.77 2378.85 1456.77 Q2373.04 1456.77 2369.96 1452.18 Q2366.9 1447.58 2366.9 1438.85 Q2366.9 1430.1 2369.96 1425.52 Q2373.04 1420.91 2378.85 1420.91 Z\" fill=\"#000000\" fill-rule=\"nonzero\" fill-opacity=\"1\" /><polyline clip-path=\"url(#clip610)\" style=\"stroke:#000000; stroke-linecap:round; stroke-linejoin:round; stroke-width:4; stroke-opacity:1; fill:none\" points=\"2232.76,1442.44 2256.76,1442.44 \"/>\n",
       "<path clip-path=\"url(#clip610)\" d=\"M2268.76 1215.1 L2298.43 1215.1 L2298.43 1219.03 L2268.76 1219.03 L2268.76 1215.1 Z\" fill=\"#000000\" fill-rule=\"nonzero\" fill-opacity=\"1\" /><path clip-path=\"url(#clip610)\" d=\"M2309.33 1227.99 L2316.97 1227.99 L2316.97 1201.62 L2308.66 1203.29 L2308.66 1199.03 L2316.93 1197.36 L2321.6 1197.36 L2321.6 1227.99 L2329.24 1227.99 L2329.24 1231.92 L2309.33 1231.92 L2309.33 1227.99 Z\" fill=\"#000000\" fill-rule=\"nonzero\" fill-opacity=\"1\" /><path clip-path=\"url(#clip610)\" d=\"M2348.69 1200.44 Q2345.07 1200.44 2343.25 1204.01 Q2341.44 1207.55 2341.44 1214.68 Q2341.44 1221.78 2343.25 1225.35 Q2345.07 1228.89 2348.69 1228.89 Q2352.32 1228.89 2354.13 1225.35 Q2355.95 1221.78 2355.95 1214.68 Q2355.95 1207.55 2354.13 1204.01 Q2352.32 1200.44 2348.69 1200.44 M2348.69 1196.74 Q2354.5 1196.74 2357.55 1201.35 Q2360.63 1205.93 2360.63 1214.68 Q2360.63 1223.41 2357.55 1228.01 Q2354.5 1232.59 2348.69 1232.59 Q2342.88 1232.59 2339.8 1228.01 Q2336.74 1223.41 2336.74 1214.68 Q2336.74 1205.93 2339.8 1201.35 Q2342.88 1196.74 2348.69 1196.74 Z\" fill=\"#000000\" fill-rule=\"nonzero\" fill-opacity=\"1\" /><path clip-path=\"url(#clip610)\" d=\"M2378.85 1200.44 Q2375.24 1200.44 2373.41 1204.01 Q2371.6 1207.55 2371.6 1214.68 Q2371.6 1221.78 2373.41 1225.35 Q2375.24 1228.89 2378.85 1228.89 Q2382.48 1228.89 2384.29 1225.35 Q2386.12 1221.78 2386.12 1214.68 Q2386.12 1207.55 2384.29 1204.01 Q2382.48 1200.44 2378.85 1200.44 M2378.85 1196.74 Q2384.66 1196.74 2387.71 1201.35 Q2390.79 1205.93 2390.79 1214.68 Q2390.79 1223.41 2387.71 1228.01 Q2384.66 1232.59 2378.85 1232.59 Q2373.04 1232.59 2369.96 1228.01 Q2366.9 1223.41 2366.9 1214.68 Q2366.9 1205.93 2369.96 1201.35 Q2373.04 1196.74 2378.85 1196.74 Z\" fill=\"#000000\" fill-rule=\"nonzero\" fill-opacity=\"1\" /><polyline clip-path=\"url(#clip610)\" style=\"stroke:#000000; stroke-linecap:round; stroke-linejoin:round; stroke-width:4; stroke-opacity:1; fill:none\" points=\"2232.76,1218.27 2256.76,1218.27 \"/>\n",
       "<path clip-path=\"url(#clip610)\" d=\"M2268.76 990.924 L2298.43 990.924 L2298.43 994.86 L2268.76 994.86 L2268.76 990.924 Z\" fill=\"#000000\" fill-rule=\"nonzero\" fill-opacity=\"1\" /><path clip-path=\"url(#clip610)\" d=\"M2308.57 973.193 L2326.93 973.193 L2326.93 977.128 L2312.85 977.128 L2312.85 985.6 Q2313.87 985.253 2314.89 985.091 Q2315.91 984.906 2316.93 984.906 Q2322.71 984.906 2326.09 988.077 Q2329.47 991.248 2329.47 996.665 Q2329.47 1002.24 2326 1005.35 Q2322.53 1008.42 2316.21 1008.42 Q2314.03 1008.42 2311.76 1008.05 Q2309.52 1007.68 2307.11 1006.94 L2307.11 1002.24 Q2309.2 1003.38 2311.42 1003.93 Q2313.64 1004.49 2316.12 1004.49 Q2320.12 1004.49 2322.46 1002.38 Q2324.8 1000.28 2324.8 996.665 Q2324.8 993.054 2322.46 990.948 Q2320.12 988.841 2316.12 988.841 Q2314.24 988.841 2312.37 989.258 Q2310.51 989.674 2308.57 990.554 L2308.57 973.193 Z\" fill=\"#000000\" fill-rule=\"nonzero\" fill-opacity=\"1\" /><path clip-path=\"url(#clip610)\" d=\"M2348.69 976.272 Q2345.07 976.272 2343.25 979.836 Q2341.44 983.378 2341.44 990.508 Q2341.44 997.614 2343.25 1001.18 Q2345.07 1004.72 2348.69 1004.72 Q2352.32 1004.72 2354.13 1001.18 Q2355.95 997.614 2355.95 990.508 Q2355.95 983.378 2354.13 979.836 Q2352.32 976.272 2348.69 976.272 M2348.69 972.568 Q2354.5 972.568 2357.55 977.174 Q2360.63 981.758 2360.63 990.508 Q2360.63 999.235 2357.55 1003.84 Q2354.5 1008.42 2348.69 1008.42 Q2342.88 1008.42 2339.8 1003.84 Q2336.74 999.235 2336.74 990.508 Q2336.74 981.758 2339.8 977.174 Q2342.88 972.568 2348.69 972.568 Z\" fill=\"#000000\" fill-rule=\"nonzero\" fill-opacity=\"1\" /><polyline clip-path=\"url(#clip610)\" style=\"stroke:#000000; stroke-linecap:round; stroke-linejoin:round; stroke-width:4; stroke-opacity:1; fill:none\" points=\"2232.76,994.102 2256.76,994.102 \"/>\n",
       "<path clip-path=\"url(#clip610)\" d=\"M2280.7 752.101 Q2277.09 752.101 2275.26 755.666 Q2273.45 759.207 2273.45 766.337 Q2273.45 773.443 2275.26 777.008 Q2277.09 780.55 2280.7 780.55 Q2284.33 780.55 2286.14 777.008 Q2287.97 773.443 2287.97 766.337 Q2287.97 759.207 2286.14 755.666 Q2284.33 752.101 2280.7 752.101 M2280.7 748.397 Q2286.51 748.397 2289.57 753.004 Q2292.64 757.587 2292.64 766.337 Q2292.64 775.064 2289.57 779.67 Q2286.51 784.254 2280.7 784.254 Q2274.89 784.254 2271.81 779.67 Q2268.76 775.064 2268.76 766.337 Q2268.76 757.587 2271.81 753.004 Q2274.89 748.397 2280.7 748.397 Z\" fill=\"#000000\" fill-rule=\"nonzero\" fill-opacity=\"1\" /><polyline clip-path=\"url(#clip610)\" style=\"stroke:#000000; stroke-linecap:round; stroke-linejoin:round; stroke-width:4; stroke-opacity:1; fill:none\" points=\"2232.76,769.931 2256.76,769.931 \"/>\n",
       "<path clip-path=\"url(#clip610)\" d=\"M2270.21 524.852 L2288.57 524.852 L2288.57 528.787 L2274.5 528.787 L2274.5 537.259 Q2275.52 536.912 2276.53 536.75 Q2277.55 536.565 2278.57 536.565 Q2284.36 536.565 2287.74 539.736 Q2291.12 542.907 2291.12 548.324 Q2291.12 553.902 2287.64 557.004 Q2284.17 560.083 2277.85 560.083 Q2275.68 560.083 2273.41 559.713 Q2271.16 559.342 2268.76 558.601 L2268.76 553.902 Q2270.84 555.037 2273.06 555.592 Q2275.28 556.148 2277.76 556.148 Q2281.77 556.148 2284.1 554.041 Q2286.44 551.935 2286.44 548.324 Q2286.44 544.713 2284.1 542.606 Q2281.77 540.5 2277.76 540.5 Q2275.89 540.5 2274.01 540.916 Q2272.16 541.333 2270.21 542.213 L2270.21 524.852 Z\" fill=\"#000000\" fill-rule=\"nonzero\" fill-opacity=\"1\" /><path clip-path=\"url(#clip610)\" d=\"M2310.33 527.93 Q2306.72 527.93 2304.89 531.495 Q2303.08 535.037 2303.08 542.166 Q2303.08 549.273 2304.89 552.838 Q2306.72 556.379 2310.33 556.379 Q2313.96 556.379 2315.77 552.838 Q2317.6 549.273 2317.6 542.166 Q2317.6 535.037 2315.77 531.495 Q2313.96 527.93 2310.33 527.93 M2310.33 524.227 Q2316.14 524.227 2319.2 528.833 Q2322.27 533.416 2322.27 542.166 Q2322.27 550.893 2319.2 555.5 Q2316.14 560.083 2310.33 560.083 Q2304.52 560.083 2301.44 555.5 Q2298.39 550.893 2298.39 542.166 Q2298.39 533.416 2301.44 528.833 Q2304.52 524.227 2310.33 524.227 Z\" fill=\"#000000\" fill-rule=\"nonzero\" fill-opacity=\"1\" /><polyline clip-path=\"url(#clip610)\" style=\"stroke:#000000; stroke-linecap:round; stroke-linejoin:round; stroke-width:4; stroke-opacity:1; fill:none\" points=\"2232.76,545.76 2256.76,545.76 \"/>\n",
       "<path clip-path=\"url(#clip610)\" d=\"M2269.43 331.306 L2277.07 331.306 L2277.07 304.94 L2268.76 306.607 L2268.76 302.348 L2277.02 300.681 L2281.7 300.681 L2281.7 331.306 L2289.33 331.306 L2289.33 335.241 L2269.43 335.241 L2269.43 331.306 Z\" fill=\"#000000\" fill-rule=\"nonzero\" fill-opacity=\"1\" /><path clip-path=\"url(#clip610)\" d=\"M2308.78 303.76 Q2305.17 303.76 2303.34 307.324 Q2301.53 310.866 2301.53 317.996 Q2301.53 325.102 2303.34 328.667 Q2305.17 332.209 2308.78 332.209 Q2312.41 332.209 2314.22 328.667 Q2316.05 325.102 2316.05 317.996 Q2316.05 310.866 2314.22 307.324 Q2312.41 303.76 2308.78 303.76 M2308.78 300.056 Q2314.59 300.056 2317.64 304.662 Q2320.72 309.246 2320.72 317.996 Q2320.72 326.722 2317.64 331.329 Q2314.59 335.912 2308.78 335.912 Q2302.97 335.912 2299.89 331.329 Q2296.83 326.722 2296.83 317.996 Q2296.83 309.246 2299.89 304.662 Q2302.97 300.056 2308.78 300.056 Z\" fill=\"#000000\" fill-rule=\"nonzero\" fill-opacity=\"1\" /><path clip-path=\"url(#clip610)\" d=\"M2338.94 303.76 Q2335.33 303.76 2333.5 307.324 Q2331.7 310.866 2331.7 317.996 Q2331.7 325.102 2333.5 328.667 Q2335.33 332.209 2338.94 332.209 Q2342.57 332.209 2344.38 328.667 Q2346.21 325.102 2346.21 317.996 Q2346.21 310.866 2344.38 307.324 Q2342.57 303.76 2338.94 303.76 M2338.94 300.056 Q2344.75 300.056 2347.81 304.662 Q2350.89 309.246 2350.89 317.996 Q2350.89 326.722 2347.81 331.329 Q2344.75 335.912 2338.94 335.912 Q2333.13 335.912 2330.05 331.329 Q2327 326.722 2327 317.996 Q2327 309.246 2330.05 304.662 Q2333.13 300.056 2338.94 300.056 Z\" fill=\"#000000\" fill-rule=\"nonzero\" fill-opacity=\"1\" /><polyline clip-path=\"url(#clip610)\" style=\"stroke:#000000; stroke-linecap:round; stroke-linejoin:round; stroke-width:4; stroke-opacity:1; fill:none\" points=\"2232.76,321.59 2256.76,321.59 \"/>\n",
       "<path clip-path=\"url(#clip610)\" d=\"M2269.43 107.135 L2277.07 107.135 L2277.07 80.7695 L2268.76 82.4362 L2268.76 78.1769 L2277.02 76.5103 L2281.7 76.5103 L2281.7 107.135 L2289.33 107.135 L2289.33 111.07 L2269.43 111.07 L2269.43 107.135 Z\" fill=\"#000000\" fill-rule=\"nonzero\" fill-opacity=\"1\" /><path clip-path=\"url(#clip610)\" d=\"M2298.83 76.5103 L2317.18 76.5103 L2317.18 80.4455 L2303.11 80.4455 L2303.11 88.9176 Q2304.13 88.5704 2305.14 88.4084 Q2306.16 88.2232 2307.18 88.2232 Q2312.97 88.2232 2316.35 91.3945 Q2319.73 94.5657 2319.73 99.9824 Q2319.73 105.561 2316.26 108.663 Q2312.78 111.742 2306.46 111.742 Q2304.29 111.742 2302.02 111.371 Q2299.77 111.001 2297.37 110.26 L2297.37 105.561 Q2299.45 106.695 2301.67 107.251 Q2303.89 107.806 2306.37 107.806 Q2310.38 107.806 2312.71 105.7 Q2315.05 103.593 2315.05 99.9824 Q2315.05 96.3713 2312.71 94.2648 Q2310.38 92.1584 2306.37 92.1584 Q2304.5 92.1584 2302.62 92.575 Q2300.77 92.9917 2298.83 93.8713 L2298.83 76.5103 Z\" fill=\"#000000\" fill-rule=\"nonzero\" fill-opacity=\"1\" /><path clip-path=\"url(#clip610)\" d=\"M2338.94 79.589 Q2335.33 79.589 2333.5 83.1538 Q2331.7 86.6954 2331.7 93.825 Q2331.7 100.931 2333.5 104.496 Q2335.33 108.038 2338.94 108.038 Q2342.57 108.038 2344.38 104.496 Q2346.21 100.931 2346.21 93.825 Q2346.21 86.6954 2344.38 83.1538 Q2342.57 79.589 2338.94 79.589 M2338.94 75.8853 Q2344.75 75.8853 2347.81 80.4918 Q2350.89 85.0751 2350.89 93.825 Q2350.89 102.552 2347.81 107.158 Q2344.75 111.742 2338.94 111.742 Q2333.13 111.742 2330.05 107.158 Q2327 102.552 2327 93.825 Q2327 85.0751 2330.05 80.4918 Q2333.13 75.8853 2338.94 75.8853 Z\" fill=\"#000000\" fill-rule=\"nonzero\" fill-opacity=\"1\" /><polyline clip-path=\"url(#clip610)\" style=\"stroke:#000000; stroke-linecap:round; stroke-linejoin:round; stroke-width:4; stroke-opacity:1; fill:none\" points=\"2232.76,97.4191 2256.76,97.4191 \"/>\n",
       "<polyline clip-path=\"url(#clip610)\" style=\"stroke:#000000; stroke-linecap:round; stroke-linejoin:round; stroke-width:4; stroke-opacity:1; fill:none\" points=\"2232.76,1486.45 2232.76,47.2441 \"/>\n",
       "</svg>\n"
      ]
     },
     "execution_count": 27,
     "metadata": {},
     "output_type": "execute_result"
    }
   ],
   "source": [
    "heatmap(V)"
   ]
  },
  {
   "cell_type": "code",
   "execution_count": null,
   "id": "1bbbbdea-3bba-41f7-b4a1-94f19ea5c097",
   "metadata": {},
   "outputs": [],
   "source": []
  }
 ],
 "metadata": {
  "kernelspec": {
   "display_name": "Julia 1.9.2",
   "language": "julia",
   "name": "julia-1.9"
  },
  "language_info": {
   "file_extension": ".jl",
   "mimetype": "application/julia",
   "name": "julia",
   "version": "1.9.2"
  }
 },
 "nbformat": 4,
 "nbformat_minor": 5
}
